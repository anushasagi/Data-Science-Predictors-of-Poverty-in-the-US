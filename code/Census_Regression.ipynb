{
 "cells": [
  {
   "cell_type": "markdown",
   "metadata": {},
   "source": [
    "CS 418: Final Project - Regression\n",
    "\n",
    "Authors: Anusha Sagi, Fatima Kahack, Lydia Tse\n",
    "\n",
    "Description: In this code, we will be utilizing regression to determine the poverty and child poverty of a specified county\n"
   ]
  },
  {
   "cell_type": "code",
   "execution_count": 1,
   "metadata": {},
   "outputs": [],
   "source": [
    "# Load libraries\n",
    "import pandas as pd\n",
    "import numpy as np\n",
    "from sklearn.model_selection import train_test_split\n",
    "from sklearn.preprocessing import StandardScaler\n",
    "from sklearn import linear_model\n",
    "import matplotlib.pyplot as plt\n",
    "import seaborn as sns\n",
    "from sklearn.tree import DecisionTreeClassifier\n",
    "from sklearn.neighbors import KNeighborsClassifier\n",
    "from sklearn.naive_bayes import GaussianNB\n",
    "from sklearn.svm import SVC\n",
    "from sklearn import metrics\n",
    "from scipy.cluster.hierarchy import linkage, fcluster\n",
    "from sklearn.cluster import KMeans, DBSCAN\n",
    "from sklearn.metrics import mean_squared_error\n",
    "import math"
   ]
  },
  {
   "cell_type": "code",
   "execution_count": 2,
   "metadata": {},
   "outputs": [
    {
     "data": {
      "text/html": [
       "<div>\n",
       "<style scoped>\n",
       "    .dataframe tbody tr th:only-of-type {\n",
       "        vertical-align: middle;\n",
       "    }\n",
       "\n",
       "    .dataframe tbody tr th {\n",
       "        vertical-align: top;\n",
       "    }\n",
       "\n",
       "    .dataframe thead th {\n",
       "        text-align: right;\n",
       "    }\n",
       "</style>\n",
       "<table border=\"1\" class=\"dataframe\">\n",
       "  <thead>\n",
       "    <tr style=\"text-align: right;\">\n",
       "      <th></th>\n",
       "      <th>Unnamed: 0</th>\n",
       "      <th>CountyId</th>\n",
       "      <th>State</th>\n",
       "      <th>County</th>\n",
       "      <th>TotalPop</th>\n",
       "      <th>Percent_Women</th>\n",
       "      <th>Hispanic</th>\n",
       "      <th>White</th>\n",
       "      <th>Black</th>\n",
       "      <th>Income</th>\n",
       "      <th>...</th>\n",
       "      <th>WorkAtHome</th>\n",
       "      <th>MeanCommute</th>\n",
       "      <th>PrivateWork</th>\n",
       "      <th>PublicWork</th>\n",
       "      <th>SelfEmployed</th>\n",
       "      <th>Unemployment</th>\n",
       "      <th>Poverty</th>\n",
       "      <th>ChildPoverty</th>\n",
       "      <th>Poverty Category</th>\n",
       "      <th>Child_Poverty Category</th>\n",
       "    </tr>\n",
       "  </thead>\n",
       "  <tbody>\n",
       "    <tr>\n",
       "      <td>0</td>\n",
       "      <td>0</td>\n",
       "      <td>1001</td>\n",
       "      <td>Alabama</td>\n",
       "      <td>Autauga County</td>\n",
       "      <td>55036.0</td>\n",
       "      <td>51.124718</td>\n",
       "      <td>2.7</td>\n",
       "      <td>75.4</td>\n",
       "      <td>18.9</td>\n",
       "      <td>55317</td>\n",
       "      <td>...</td>\n",
       "      <td>2.5</td>\n",
       "      <td>25.8</td>\n",
       "      <td>74.1</td>\n",
       "      <td>20.2</td>\n",
       "      <td>5.6</td>\n",
       "      <td>5.2</td>\n",
       "      <td>13.7</td>\n",
       "      <td>20.1</td>\n",
       "      <td>0</td>\n",
       "      <td>0</td>\n",
       "    </tr>\n",
       "    <tr>\n",
       "      <td>1</td>\n",
       "      <td>1</td>\n",
       "      <td>1003</td>\n",
       "      <td>Alabama</td>\n",
       "      <td>Baldwin County</td>\n",
       "      <td>203360.0</td>\n",
       "      <td>51.058714</td>\n",
       "      <td>4.4</td>\n",
       "      <td>83.1</td>\n",
       "      <td>9.5</td>\n",
       "      <td>52562</td>\n",
       "      <td>...</td>\n",
       "      <td>5.6</td>\n",
       "      <td>27.0</td>\n",
       "      <td>80.7</td>\n",
       "      <td>12.9</td>\n",
       "      <td>6.3</td>\n",
       "      <td>5.5</td>\n",
       "      <td>11.8</td>\n",
       "      <td>16.1</td>\n",
       "      <td>0</td>\n",
       "      <td>0</td>\n",
       "    </tr>\n",
       "    <tr>\n",
       "      <td>2</td>\n",
       "      <td>2</td>\n",
       "      <td>1007</td>\n",
       "      <td>Alabama</td>\n",
       "      <td>Bibb County</td>\n",
       "      <td>22580.0</td>\n",
       "      <td>45.744021</td>\n",
       "      <td>2.4</td>\n",
       "      <td>74.6</td>\n",
       "      <td>22.0</td>\n",
       "      <td>43404</td>\n",
       "      <td>...</td>\n",
       "      <td>1.5</td>\n",
       "      <td>30.0</td>\n",
       "      <td>76.0</td>\n",
       "      <td>17.4</td>\n",
       "      <td>6.3</td>\n",
       "      <td>8.2</td>\n",
       "      <td>15.2</td>\n",
       "      <td>26.6</td>\n",
       "      <td>0</td>\n",
       "      <td>1</td>\n",
       "    </tr>\n",
       "    <tr>\n",
       "      <td>3</td>\n",
       "      <td>3</td>\n",
       "      <td>1009</td>\n",
       "      <td>Alabama</td>\n",
       "      <td>Blount County</td>\n",
       "      <td>57667.0</td>\n",
       "      <td>50.595661</td>\n",
       "      <td>9.0</td>\n",
       "      <td>87.4</td>\n",
       "      <td>1.5</td>\n",
       "      <td>47412</td>\n",
       "      <td>...</td>\n",
       "      <td>2.1</td>\n",
       "      <td>35.0</td>\n",
       "      <td>83.9</td>\n",
       "      <td>11.9</td>\n",
       "      <td>4.0</td>\n",
       "      <td>4.9</td>\n",
       "      <td>15.6</td>\n",
       "      <td>25.4</td>\n",
       "      <td>0</td>\n",
       "      <td>1</td>\n",
       "    </tr>\n",
       "    <tr>\n",
       "      <td>4</td>\n",
       "      <td>4</td>\n",
       "      <td>1011</td>\n",
       "      <td>Alabama</td>\n",
       "      <td>Bullock County</td>\n",
       "      <td>10478.0</td>\n",
       "      <td>46.401985</td>\n",
       "      <td>0.3</td>\n",
       "      <td>21.6</td>\n",
       "      <td>75.6</td>\n",
       "      <td>29655</td>\n",
       "      <td>...</td>\n",
       "      <td>3.0</td>\n",
       "      <td>29.8</td>\n",
       "      <td>81.4</td>\n",
       "      <td>13.6</td>\n",
       "      <td>5.0</td>\n",
       "      <td>12.1</td>\n",
       "      <td>28.5</td>\n",
       "      <td>50.4</td>\n",
       "      <td>1</td>\n",
       "      <td>1</td>\n",
       "    </tr>\n",
       "  </tbody>\n",
       "</table>\n",
       "<p>5 rows × 25 columns</p>\n",
       "</div>"
      ],
      "text/plain": [
       "   Unnamed: 0  CountyId    State          County  TotalPop  Percent_Women  \\\n",
       "0           0      1001  Alabama  Autauga County   55036.0      51.124718   \n",
       "1           1      1003  Alabama  Baldwin County  203360.0      51.058714   \n",
       "2           2      1007  Alabama     Bibb County   22580.0      45.744021   \n",
       "3           3      1009  Alabama   Blount County   57667.0      50.595661   \n",
       "4           4      1011  Alabama  Bullock County   10478.0      46.401985   \n",
       "\n",
       "   Hispanic  White  Black  Income  ...  WorkAtHome  MeanCommute  PrivateWork  \\\n",
       "0       2.7   75.4   18.9   55317  ...         2.5         25.8         74.1   \n",
       "1       4.4   83.1    9.5   52562  ...         5.6         27.0         80.7   \n",
       "2       2.4   74.6   22.0   43404  ...         1.5         30.0         76.0   \n",
       "3       9.0   87.4    1.5   47412  ...         2.1         35.0         83.9   \n",
       "4       0.3   21.6   75.6   29655  ...         3.0         29.8         81.4   \n",
       "\n",
       "   PublicWork  SelfEmployed  Unemployment  Poverty  ChildPoverty  \\\n",
       "0        20.2           5.6           5.2     13.7          20.1   \n",
       "1        12.9           6.3           5.5     11.8          16.1   \n",
       "2        17.4           6.3           8.2     15.2          26.6   \n",
       "3        11.9           4.0           4.9     15.6          25.4   \n",
       "4        13.6           5.0          12.1     28.5          50.4   \n",
       "\n",
       "   Poverty Category  Child_Poverty Category  \n",
       "0                 0                       0  \n",
       "1                 0                       0  \n",
       "2                 0                       1  \n",
       "3                 0                       1  \n",
       "4                 1                       1  \n",
       "\n",
       "[5 rows x 25 columns]"
      ]
     },
     "execution_count": 2,
     "metadata": {},
     "output_type": "execute_result"
    }
   ],
   "source": [
    "# Load Election dataset\n",
    "data_census = pd.read_csv('train_dp_output.csv')\n",
    "data_census.head()"
   ]
  },
  {
   "cell_type": "code",
   "execution_count": 3,
   "metadata": {},
   "outputs": [
    {
     "data": {
      "text/html": [
       "<div>\n",
       "<style scoped>\n",
       "    .dataframe tbody tr th:only-of-type {\n",
       "        vertical-align: middle;\n",
       "    }\n",
       "\n",
       "    .dataframe tbody tr th {\n",
       "        vertical-align: top;\n",
       "    }\n",
       "\n",
       "    .dataframe thead th {\n",
       "        text-align: right;\n",
       "    }\n",
       "</style>\n",
       "<table border=\"1\" class=\"dataframe\">\n",
       "  <thead>\n",
       "    <tr style=\"text-align: right;\">\n",
       "      <th></th>\n",
       "      <th>CountyId</th>\n",
       "      <th>State</th>\n",
       "      <th>County</th>\n",
       "      <th>TotalPop</th>\n",
       "      <th>Percent_Women</th>\n",
       "      <th>Hispanic</th>\n",
       "      <th>White</th>\n",
       "      <th>Black</th>\n",
       "      <th>Income</th>\n",
       "      <th>IncomePerCap</th>\n",
       "      <th>...</th>\n",
       "      <th>WorkAtHome</th>\n",
       "      <th>MeanCommute</th>\n",
       "      <th>PrivateWork</th>\n",
       "      <th>PublicWork</th>\n",
       "      <th>SelfEmployed</th>\n",
       "      <th>Unemployment</th>\n",
       "      <th>Poverty</th>\n",
       "      <th>ChildPoverty</th>\n",
       "      <th>Poverty Category</th>\n",
       "      <th>Child_Poverty Category</th>\n",
       "    </tr>\n",
       "  </thead>\n",
       "  <tbody>\n",
       "    <tr>\n",
       "      <td>0</td>\n",
       "      <td>1001</td>\n",
       "      <td>Alabama</td>\n",
       "      <td>Autauga County</td>\n",
       "      <td>55036.0</td>\n",
       "      <td>51.124718</td>\n",
       "      <td>2.7</td>\n",
       "      <td>75.4</td>\n",
       "      <td>18.9</td>\n",
       "      <td>55317</td>\n",
       "      <td>27824</td>\n",
       "      <td>...</td>\n",
       "      <td>2.5</td>\n",
       "      <td>25.8</td>\n",
       "      <td>74.1</td>\n",
       "      <td>20.2</td>\n",
       "      <td>5.6</td>\n",
       "      <td>5.2</td>\n",
       "      <td>13.7</td>\n",
       "      <td>20.1</td>\n",
       "      <td>0</td>\n",
       "      <td>0</td>\n",
       "    </tr>\n",
       "    <tr>\n",
       "      <td>1</td>\n",
       "      <td>1003</td>\n",
       "      <td>Alabama</td>\n",
       "      <td>Baldwin County</td>\n",
       "      <td>203360.0</td>\n",
       "      <td>51.058714</td>\n",
       "      <td>4.4</td>\n",
       "      <td>83.1</td>\n",
       "      <td>9.5</td>\n",
       "      <td>52562</td>\n",
       "      <td>29364</td>\n",
       "      <td>...</td>\n",
       "      <td>5.6</td>\n",
       "      <td>27.0</td>\n",
       "      <td>80.7</td>\n",
       "      <td>12.9</td>\n",
       "      <td>6.3</td>\n",
       "      <td>5.5</td>\n",
       "      <td>11.8</td>\n",
       "      <td>16.1</td>\n",
       "      <td>0</td>\n",
       "      <td>0</td>\n",
       "    </tr>\n",
       "    <tr>\n",
       "      <td>2</td>\n",
       "      <td>1007</td>\n",
       "      <td>Alabama</td>\n",
       "      <td>Bibb County</td>\n",
       "      <td>22580.0</td>\n",
       "      <td>45.744021</td>\n",
       "      <td>2.4</td>\n",
       "      <td>74.6</td>\n",
       "      <td>22.0</td>\n",
       "      <td>43404</td>\n",
       "      <td>20911</td>\n",
       "      <td>...</td>\n",
       "      <td>1.5</td>\n",
       "      <td>30.0</td>\n",
       "      <td>76.0</td>\n",
       "      <td>17.4</td>\n",
       "      <td>6.3</td>\n",
       "      <td>8.2</td>\n",
       "      <td>15.2</td>\n",
       "      <td>26.6</td>\n",
       "      <td>0</td>\n",
       "      <td>1</td>\n",
       "    </tr>\n",
       "    <tr>\n",
       "      <td>3</td>\n",
       "      <td>1009</td>\n",
       "      <td>Alabama</td>\n",
       "      <td>Blount County</td>\n",
       "      <td>57667.0</td>\n",
       "      <td>50.595661</td>\n",
       "      <td>9.0</td>\n",
       "      <td>87.4</td>\n",
       "      <td>1.5</td>\n",
       "      <td>47412</td>\n",
       "      <td>22021</td>\n",
       "      <td>...</td>\n",
       "      <td>2.1</td>\n",
       "      <td>35.0</td>\n",
       "      <td>83.9</td>\n",
       "      <td>11.9</td>\n",
       "      <td>4.0</td>\n",
       "      <td>4.9</td>\n",
       "      <td>15.6</td>\n",
       "      <td>25.4</td>\n",
       "      <td>0</td>\n",
       "      <td>1</td>\n",
       "    </tr>\n",
       "    <tr>\n",
       "      <td>4</td>\n",
       "      <td>1011</td>\n",
       "      <td>Alabama</td>\n",
       "      <td>Bullock County</td>\n",
       "      <td>10478.0</td>\n",
       "      <td>46.401985</td>\n",
       "      <td>0.3</td>\n",
       "      <td>21.6</td>\n",
       "      <td>75.6</td>\n",
       "      <td>29655</td>\n",
       "      <td>20856</td>\n",
       "      <td>...</td>\n",
       "      <td>3.0</td>\n",
       "      <td>29.8</td>\n",
       "      <td>81.4</td>\n",
       "      <td>13.6</td>\n",
       "      <td>5.0</td>\n",
       "      <td>12.1</td>\n",
       "      <td>28.5</td>\n",
       "      <td>50.4</td>\n",
       "      <td>1</td>\n",
       "      <td>1</td>\n",
       "    </tr>\n",
       "  </tbody>\n",
       "</table>\n",
       "<p>5 rows × 24 columns</p>\n",
       "</div>"
      ],
      "text/plain": [
       "   CountyId    State          County  TotalPop  Percent_Women  Hispanic  \\\n",
       "0      1001  Alabama  Autauga County   55036.0      51.124718       2.7   \n",
       "1      1003  Alabama  Baldwin County  203360.0      51.058714       4.4   \n",
       "2      1007  Alabama     Bibb County   22580.0      45.744021       2.4   \n",
       "3      1009  Alabama   Blount County   57667.0      50.595661       9.0   \n",
       "4      1011  Alabama  Bullock County   10478.0      46.401985       0.3   \n",
       "\n",
       "   White  Black  Income  IncomePerCap  ...  WorkAtHome  MeanCommute  \\\n",
       "0   75.4   18.9   55317         27824  ...         2.5         25.8   \n",
       "1   83.1    9.5   52562         29364  ...         5.6         27.0   \n",
       "2   74.6   22.0   43404         20911  ...         1.5         30.0   \n",
       "3   87.4    1.5   47412         22021  ...         2.1         35.0   \n",
       "4   21.6   75.6   29655         20856  ...         3.0         29.8   \n",
       "\n",
       "   PrivateWork  PublicWork  SelfEmployed  Unemployment  Poverty  ChildPoverty  \\\n",
       "0         74.1        20.2           5.6           5.2     13.7          20.1   \n",
       "1         80.7        12.9           6.3           5.5     11.8          16.1   \n",
       "2         76.0        17.4           6.3           8.2     15.2          26.6   \n",
       "3         83.9        11.9           4.0           4.9     15.6          25.4   \n",
       "4         81.4        13.6           5.0          12.1     28.5          50.4   \n",
       "\n",
       "   Poverty Category  Child_Poverty Category  \n",
       "0                 0                       0  \n",
       "1                 0                       0  \n",
       "2                 0                       1  \n",
       "3                 0                       1  \n",
       "4                 1                       1  \n",
       "\n",
       "[5 rows x 24 columns]"
      ]
     },
     "execution_count": 3,
     "metadata": {},
     "output_type": "execute_result"
    }
   ],
   "source": [
    "#Remove unnamed first column\n",
    "data_census = data_census.loc[:, ~data_census.columns.str.contains('^Unnamed')]\n",
    "data_census.head()"
   ]
  },
  {
   "cell_type": "code",
   "execution_count": 4,
   "metadata": {},
   "outputs": [],
   "source": [
    "x_train_full, x_validation_full, y_train, y_validation = train_test_split(data_census[['CountyId', 'State', 'County', 'TotalPop', 'Percent_Women', 'Hispanic', 'White', 'Black', 'Income', 'IncomePerCap', 'Professional', 'Service', 'Production', 'Carpool', 'WorkAtHome', 'PrivateWork', 'PublicWork', 'SelfEmployed', 'Unemployment','Poverty','ChildPoverty']], data_census['Poverty Category'], test_size = 0.25, random_state = 0)"
   ]
  },
  {
   "cell_type": "code",
   "execution_count": 5,
   "metadata": {},
   "outputs": [],
   "source": [
    "# Selecting required variables for x_train\n",
    "x_train = x_train_full.select_dtypes(include=[np.int64,np.float64])\n",
    "x_train = x_train.iloc[:,1:17]\n",
    "\n",
    "# Selecting required variables for x_validation\n",
    "x_validation = x_validation_full.select_dtypes(include=[np.int64,np.float64])\n",
    "x_validation = x_validation.iloc[:,1:17]\n",
    "\n",
    "# Standardizing the data\n",
    "scaler = StandardScaler()\n",
    "scaler.fit(x_train)\n",
    "x_train_scaled = scaler.transform(x_train)\n",
    "x_validation_scaled = scaler.transform(x_validation)\n",
    "x_train_scaled_df = pd.DataFrame(x_train_scaled,index = x_train.index,columns=x_train.columns)\n",
    "x_validation_scaled_df = pd.DataFrame(x_validation_scaled,index = x_validation.index,columns=x_validation.columns)"
   ]
  },
  {
   "cell_type": "code",
   "execution_count": 6,
   "metadata": {},
   "outputs": [
    {
     "data": {
      "text/html": [
       "<div>\n",
       "<style scoped>\n",
       "    .dataframe tbody tr th:only-of-type {\n",
       "        vertical-align: middle;\n",
       "    }\n",
       "\n",
       "    .dataframe tbody tr th {\n",
       "        vertical-align: top;\n",
       "    }\n",
       "\n",
       "    .dataframe thead th {\n",
       "        text-align: right;\n",
       "    }\n",
       "</style>\n",
       "<table border=\"1\" class=\"dataframe\">\n",
       "  <thead>\n",
       "    <tr style=\"text-align: right;\">\n",
       "      <th></th>\n",
       "      <th>TotalPop</th>\n",
       "      <th>Percent_Women</th>\n",
       "      <th>Hispanic</th>\n",
       "      <th>White</th>\n",
       "      <th>Black</th>\n",
       "      <th>Income</th>\n",
       "      <th>IncomePerCap</th>\n",
       "      <th>Professional</th>\n",
       "      <th>Service</th>\n",
       "      <th>Production</th>\n",
       "      <th>Carpool</th>\n",
       "      <th>WorkAtHome</th>\n",
       "      <th>PrivateWork</th>\n",
       "      <th>PublicWork</th>\n",
       "      <th>SelfEmployed</th>\n",
       "      <th>Unemployment</th>\n",
       "    </tr>\n",
       "  </thead>\n",
       "  <tbody>\n",
       "    <tr>\n",
       "      <td>1380</td>\n",
       "      <td>-0.118525</td>\n",
       "      <td>0.045865</td>\n",
       "      <td>-0.424669</td>\n",
       "      <td>0.689223</td>\n",
       "      <td>-0.436854</td>\n",
       "      <td>0.351729</td>\n",
       "      <td>0.262281</td>\n",
       "      <td>-0.089405</td>\n",
       "      <td>0.020679</td>\n",
       "      <td>0.311605</td>\n",
       "      <td>-0.525450</td>\n",
       "      <td>-0.722745</td>\n",
       "      <td>0.273757</td>\n",
       "      <td>0.070351</td>\n",
       "      <td>-0.627322</td>\n",
       "      <td>-0.399510</td>\n",
       "    </tr>\n",
       "    <tr>\n",
       "      <td>712</td>\n",
       "      <td>-0.204940</td>\n",
       "      <td>0.230015</td>\n",
       "      <td>-0.377088</td>\n",
       "      <td>0.737585</td>\n",
       "      <td>-0.534862</td>\n",
       "      <td>0.566678</td>\n",
       "      <td>0.567576</td>\n",
       "      <td>0.684500</td>\n",
       "      <td>-0.272313</td>\n",
       "      <td>0.465626</td>\n",
       "      <td>-0.828094</td>\n",
       "      <td>-0.486424</td>\n",
       "      <td>0.430169</td>\n",
       "      <td>-0.701345</td>\n",
       "      <td>0.233632</td>\n",
       "      <td>-1.099195</td>\n",
       "    </tr>\n",
       "    <tr>\n",
       "      <td>31</td>\n",
       "      <td>0.737568</td>\n",
       "      <td>0.484634</td>\n",
       "      <td>-0.340081</td>\n",
       "      <td>-0.436288</td>\n",
       "      <td>1.075267</td>\n",
       "      <td>0.889286</td>\n",
       "      <td>1.285452</td>\n",
       "      <td>2.232309</td>\n",
       "      <td>-0.778390</td>\n",
       "      <td>-0.903448</td>\n",
       "      <td>-1.197992</td>\n",
       "      <td>-0.452664</td>\n",
       "      <td>0.195551</td>\n",
       "      <td>0.306584</td>\n",
       "      <td>-0.855222</td>\n",
       "      <td>-0.022756</td>\n",
       "    </tr>\n",
       "    <tr>\n",
       "      <td>1969</td>\n",
       "      <td>-0.095083</td>\n",
       "      <td>0.500355</td>\n",
       "      <td>0.082856</td>\n",
       "      <td>-0.493443</td>\n",
       "      <td>0.886252</td>\n",
       "      <td>-0.045923</td>\n",
       "      <td>-0.098784</td>\n",
       "      <td>0.123039</td>\n",
       "      <td>-0.591940</td>\n",
       "      <td>0.380059</td>\n",
       "      <td>-1.164364</td>\n",
       "      <td>-0.317624</td>\n",
       "      <td>0.795131</td>\n",
       "      <td>-0.669847</td>\n",
       "      <td>-0.450067</td>\n",
       "      <td>0.165621</td>\n",
       "    </tr>\n",
       "    <tr>\n",
       "      <td>655</td>\n",
       "      <td>-0.010013</td>\n",
       "      <td>-0.916455</td>\n",
       "      <td>-0.414095</td>\n",
       "      <td>0.416639</td>\n",
       "      <td>-0.471857</td>\n",
       "      <td>0.251228</td>\n",
       "      <td>0.246021</td>\n",
       "      <td>2.293007</td>\n",
       "      <td>-0.219042</td>\n",
       "      <td>-1.091695</td>\n",
       "      <td>-1.231619</td>\n",
       "      <td>0.087498</td>\n",
       "      <td>-1.146986</td>\n",
       "      <td>1.928721</td>\n",
       "      <td>-0.804578</td>\n",
       "      <td>-0.587887</td>\n",
       "    </tr>\n",
       "  </tbody>\n",
       "</table>\n",
       "</div>"
      ],
      "text/plain": [
       "      TotalPop  Percent_Women  Hispanic     White     Black    Income  \\\n",
       "1380 -0.118525       0.045865 -0.424669  0.689223 -0.436854  0.351729   \n",
       "712  -0.204940       0.230015 -0.377088  0.737585 -0.534862  0.566678   \n",
       "31    0.737568       0.484634 -0.340081 -0.436288  1.075267  0.889286   \n",
       "1969 -0.095083       0.500355  0.082856 -0.493443  0.886252 -0.045923   \n",
       "655  -0.010013      -0.916455 -0.414095  0.416639 -0.471857  0.251228   \n",
       "\n",
       "      IncomePerCap  Professional   Service  Production   Carpool  WorkAtHome  \\\n",
       "1380      0.262281     -0.089405  0.020679    0.311605 -0.525450   -0.722745   \n",
       "712       0.567576      0.684500 -0.272313    0.465626 -0.828094   -0.486424   \n",
       "31        1.285452      2.232309 -0.778390   -0.903448 -1.197992   -0.452664   \n",
       "1969     -0.098784      0.123039 -0.591940    0.380059 -1.164364   -0.317624   \n",
       "655       0.246021      2.293007 -0.219042   -1.091695 -1.231619    0.087498   \n",
       "\n",
       "      PrivateWork  PublicWork  SelfEmployed  Unemployment  \n",
       "1380     0.273757    0.070351     -0.627322     -0.399510  \n",
       "712      0.430169   -0.701345      0.233632     -1.099195  \n",
       "31       0.195551    0.306584     -0.855222     -0.022756  \n",
       "1969     0.795131   -0.669847     -0.450067      0.165621  \n",
       "655     -1.146986    1.928721     -0.804578     -0.587887  "
      ]
     },
     "execution_count": 6,
     "metadata": {},
     "output_type": "execute_result"
    }
   ],
   "source": [
    "x_train_scaled_df.head()"
   ]
  },
  {
   "cell_type": "code",
   "execution_count": 7,
   "metadata": {},
   "outputs": [
    {
     "data": {
      "text/html": [
       "<div>\n",
       "<style scoped>\n",
       "    .dataframe tbody tr th:only-of-type {\n",
       "        vertical-align: middle;\n",
       "    }\n",
       "\n",
       "    .dataframe tbody tr th {\n",
       "        vertical-align: top;\n",
       "    }\n",
       "\n",
       "    .dataframe thead th {\n",
       "        text-align: right;\n",
       "    }\n",
       "</style>\n",
       "<table border=\"1\" class=\"dataframe\">\n",
       "  <thead>\n",
       "    <tr style=\"text-align: right;\">\n",
       "      <th></th>\n",
       "      <th>TotalPop</th>\n",
       "      <th>Percent_Women</th>\n",
       "      <th>Hispanic</th>\n",
       "      <th>White</th>\n",
       "      <th>Black</th>\n",
       "      <th>Income</th>\n",
       "      <th>IncomePerCap</th>\n",
       "      <th>Professional</th>\n",
       "      <th>Service</th>\n",
       "      <th>Production</th>\n",
       "      <th>Carpool</th>\n",
       "      <th>WorkAtHome</th>\n",
       "      <th>PrivateWork</th>\n",
       "      <th>PublicWork</th>\n",
       "      <th>SelfEmployed</th>\n",
       "      <th>Unemployment</th>\n",
       "    </tr>\n",
       "  </thead>\n",
       "  <tbody>\n",
       "    <tr>\n",
       "      <td>2054</td>\n",
       "      <td>-0.266679</td>\n",
       "      <td>-1.052672</td>\n",
       "      <td>1.690019</td>\n",
       "      <td>-1.210077</td>\n",
       "      <td>-0.205836</td>\n",
       "      <td>-0.839971</td>\n",
       "      <td>-1.047797</td>\n",
       "      <td>-0.195627</td>\n",
       "      <td>0.287036</td>\n",
       "      <td>-0.184684</td>\n",
       "      <td>-0.794467</td>\n",
       "      <td>-0.081303</td>\n",
       "      <td>-0.351891</td>\n",
       "      <td>-0.276125</td>\n",
       "      <td>1.170553</td>\n",
       "      <td>-0.184222</td>\n",
       "    </tr>\n",
       "    <tr>\n",
       "      <td>743</td>\n",
       "      <td>-0.271908</td>\n",
       "      <td>-0.538295</td>\n",
       "      <td>1.272368</td>\n",
       "      <td>-0.572580</td>\n",
       "      <td>-0.597867</td>\n",
       "      <td>0.607557</td>\n",
       "      <td>-0.164433</td>\n",
       "      <td>0.214087</td>\n",
       "      <td>-1.843815</td>\n",
       "      <td>0.499853</td>\n",
       "      <td>0.819632</td>\n",
       "      <td>-0.283863</td>\n",
       "      <td>-0.404029</td>\n",
       "      <td>-0.354869</td>\n",
       "      <td>1.423774</td>\n",
       "      <td>-0.560976</td>\n",
       "    </tr>\n",
       "    <tr>\n",
       "      <td>2298</td>\n",
       "      <td>-0.104267</td>\n",
       "      <td>-0.877347</td>\n",
       "      <td>-0.498683</td>\n",
       "      <td>0.829912</td>\n",
       "      <td>-0.513861</td>\n",
       "      <td>0.440793</td>\n",
       "      <td>0.189490</td>\n",
       "      <td>-0.241151</td>\n",
       "      <td>-0.378855</td>\n",
       "      <td>1.030369</td>\n",
       "      <td>-0.491823</td>\n",
       "      <td>0.425100</td>\n",
       "      <td>0.912440</td>\n",
       "      <td>-1.047821</td>\n",
       "      <td>-0.120879</td>\n",
       "      <td>-0.776263</td>\n",
       "    </tr>\n",
       "    <tr>\n",
       "      <td>1534</td>\n",
       "      <td>0.802903</td>\n",
       "      <td>0.416973</td>\n",
       "      <td>-0.350655</td>\n",
       "      <td>0.315519</td>\n",
       "      <td>-0.058824</td>\n",
       "      <td>0.953482</td>\n",
       "      <td>0.603591</td>\n",
       "      <td>1.048690</td>\n",
       "      <td>-0.432127</td>\n",
       "      <td>-0.338705</td>\n",
       "      <td>-0.760840</td>\n",
       "      <td>-0.182583</td>\n",
       "      <td>1.342573</td>\n",
       "      <td>-1.016323</td>\n",
       "      <td>-0.931188</td>\n",
       "      <td>-0.318777</td>\n",
       "    </tr>\n",
       "    <tr>\n",
       "      <td>1841</td>\n",
       "      <td>-0.213595</td>\n",
       "      <td>0.389020</td>\n",
       "      <td>-0.466963</td>\n",
       "      <td>0.746378</td>\n",
       "      <td>-0.345847</td>\n",
       "      <td>-0.750760</td>\n",
       "      <td>-0.371559</td>\n",
       "      <td>-1.121278</td>\n",
       "      <td>0.260400</td>\n",
       "      <td>1.150163</td>\n",
       "      <td>-1.298873</td>\n",
       "      <td>1.235343</td>\n",
       "      <td>-0.390994</td>\n",
       "      <td>-0.039891</td>\n",
       "      <td>0.841364</td>\n",
       "      <td>0.784573</td>\n",
       "    </tr>\n",
       "  </tbody>\n",
       "</table>\n",
       "</div>"
      ],
      "text/plain": [
       "      TotalPop  Percent_Women  Hispanic     White     Black    Income  \\\n",
       "2054 -0.266679      -1.052672  1.690019 -1.210077 -0.205836 -0.839971   \n",
       "743  -0.271908      -0.538295  1.272368 -0.572580 -0.597867  0.607557   \n",
       "2298 -0.104267      -0.877347 -0.498683  0.829912 -0.513861  0.440793   \n",
       "1534  0.802903       0.416973 -0.350655  0.315519 -0.058824  0.953482   \n",
       "1841 -0.213595       0.389020 -0.466963  0.746378 -0.345847 -0.750760   \n",
       "\n",
       "      IncomePerCap  Professional   Service  Production   Carpool  WorkAtHome  \\\n",
       "2054     -1.047797     -0.195627  0.287036   -0.184684 -0.794467   -0.081303   \n",
       "743      -0.164433      0.214087 -1.843815    0.499853  0.819632   -0.283863   \n",
       "2298      0.189490     -0.241151 -0.378855    1.030369 -0.491823    0.425100   \n",
       "1534      0.603591      1.048690 -0.432127   -0.338705 -0.760840   -0.182583   \n",
       "1841     -0.371559     -1.121278  0.260400    1.150163 -1.298873    1.235343   \n",
       "\n",
       "      PrivateWork  PublicWork  SelfEmployed  Unemployment  \n",
       "2054    -0.351891   -0.276125      1.170553     -0.184222  \n",
       "743     -0.404029   -0.354869      1.423774     -0.560976  \n",
       "2298     0.912440   -1.047821     -0.120879     -0.776263  \n",
       "1534     1.342573   -1.016323     -0.931188     -0.318777  \n",
       "1841    -0.390994   -0.039891      0.841364      0.784573  "
      ]
     },
     "execution_count": 7,
     "metadata": {},
     "output_type": "execute_result"
    }
   ],
   "source": [
    "x_validation_scaled_df.head()"
   ]
  },
  {
   "cell_type": "markdown",
   "metadata": {},
   "source": [
    "REGRESSION - PREDICTING POVERTY"
   ]
  },
  {
   "cell_type": "code",
   "execution_count": 8,
   "metadata": {},
   "outputs": [
    {
     "data": {
      "text/plain": [
       "[Text(0, 0.5, 'Poverty'),\n",
       " Text(0.5, 0, 'White'),\n",
       " Text(0.5, 1.0, 'Poverty by White')]"
      ]
     },
     "execution_count": 8,
     "metadata": {},
     "output_type": "execute_result"
    },
    {
     "data": {
      "image/png": "[encoded data removed]",
      "text/plain": [
       "<Figure size 432x288 with 1 Axes>"
      ]
     },
     "metadata": {
      "needs_background": "light"
     },
     "output_type": "display_data"
    }
   ],
   "source": [
    "# Plot scatter plot\n",
    "ax = sns.regplot(data_census['White'], data_census['Poverty'])\n",
    "ax.set(title = 'Poverty by White', xlabel = 'White', ylabel = 'Poverty')"
   ]
  },
  {
   "cell_type": "code",
   "execution_count": 9,
   "metadata": {},
   "outputs": [
    {
     "data": {
      "text/plain": [
       "[Text(0, 0.5, 'Poverty'),\n",
       " Text(0.5, 0, 'Hispanic'),\n",
       " Text(0.5, 1.0, 'Poverty by Hispanic')]"
      ]
     },
     "execution_count": 9,
     "metadata": {},
     "output_type": "execute_result"
    },
    {
     "data": {
      "image/png": "[encoded data removed]",
      "text/plain": [
       "<Figure size 432x288 with 1 Axes>"
      ]
     },
     "metadata": {
      "needs_background": "light"
     },
     "output_type": "display_data"
    }
   ],
   "source": [
    "# Plot scatter plot\n",
    "ax = sns.regplot(data_census['Hispanic'], data_census['Poverty'])\n",
    "ax.set(title = 'Poverty by Hispanic', xlabel = 'Hispanic', ylabel = 'Poverty')"
   ]
  },
  {
   "cell_type": "code",
   "execution_count": 10,
   "metadata": {},
   "outputs": [
    {
     "data": {
      "text/plain": [
       "[Text(0, 0.5, 'Poverty'),\n",
       " Text(0.5, 0, 'Income'),\n",
       " Text(0.5, 1.0, 'Poverty by Income')]"
      ]
     },
     "execution_count": 10,
     "metadata": {},
     "output_type": "execute_result"
    },
    {
     "data": {
      "image/png": "[encoded data removed]",
      "text/plain": [
       "<Figure size 432x288 with 1 Axes>"
      ]
     },
     "metadata": {
      "needs_background": "light"
     },
     "output_type": "display_data"
    }
   ],
   "source": [
    "# Plot scatter plot\n",
    "ax = sns.regplot(data_census['Income'], data_census['Poverty'])\n",
    "ax.set(title = 'Poverty by Income', xlabel = 'Income', ylabel = 'Poverty')"
   ]
  },
  {
   "cell_type": "code",
   "execution_count": 11,
   "metadata": {},
   "outputs": [
    {
     "data": {
      "text/plain": [
       "[Text(0, 0.5, 'Poverty'),\n",
       " Text(0.5, 0, 'IncomePerCap'),\n",
       " Text(0.5, 1.0, 'Poverty by IncomePerCap')]"
      ]
     },
     "execution_count": 11,
     "metadata": {},
     "output_type": "execute_result"
    },
    {
     "data": {
      "image/png": "[encoded data removed]",
      "text/plain": [
       "<Figure size 432x288 with 1 Axes>"
      ]
     },
     "metadata": {
      "needs_background": "light"
     },
     "output_type": "display_data"
    }
   ],
   "source": [
    "# Plot scatter plot\n",
    "ax = sns.regplot(data_census['IncomePerCap'], data_census['Poverty'])\n",
    "ax.set(title = 'Poverty by IncomePerCap', xlabel = 'IncomePerCap', ylabel = 'Poverty')"
   ]
  },
  {
   "cell_type": "code",
   "execution_count": 12,
   "metadata": {},
   "outputs": [
    {
     "data": {
      "text/plain": [
       "[Text(0, 0.5, 'Poverty'),\n",
       " Text(0.5, 0, 'Professional'),\n",
       " Text(0.5, 1.0, 'Poverty by Professional')]"
      ]
     },
     "execution_count": 12,
     "metadata": {},
     "output_type": "execute_result"
    },
    {
     "data": {
      "image/png": "[encoded data removed]",
      "text/plain": [
       "<Figure size 432x288 with 1 Axes>"
      ]
     },
     "metadata": {
      "needs_background": "light"
     },
     "output_type": "display_data"
    }
   ],
   "source": [
    "# Plot scatter plot\n",
    "ax = sns.regplot(data_census['Professional'], data_census['Poverty'])\n",
    "ax.set(title = 'Poverty by Professional', xlabel = 'Professional', ylabel = 'Poverty')"
   ]
  },
  {
   "cell_type": "code",
   "execution_count": 13,
   "metadata": {},
   "outputs": [
    {
     "data": {
      "text/plain": [
       "[Text(0, 0.5, 'Poverty'),\n",
       " Text(0.5, 0, 'Production'),\n",
       " Text(0.5, 1.0, 'Poverty by Production')]"
      ]
     },
     "execution_count": 13,
     "metadata": {},
     "output_type": "execute_result"
    },
    {
     "data": {
      "image/png": "[encoded data removed]",
      "text/plain": [
       "<Figure size 432x288 with 1 Axes>"
      ]
     },
     "metadata": {
      "needs_background": "light"
     },
     "output_type": "display_data"
    }
   ],
   "source": [
    "# Plot scatter plot\n",
    "ax = sns.regplot(data_census['Production'], data_census['Poverty'])\n",
    "ax.set(title = 'Poverty by Production', xlabel = 'Production', ylabel = 'Poverty')"
   ]
  },
  {
   "cell_type": "code",
   "execution_count": 14,
   "metadata": {},
   "outputs": [
    {
     "data": {
      "text/plain": [
       "[Text(0, 0.5, 'Poverty'),\n",
       " Text(0.5, 0, 'Unemployment'),\n",
       " Text(0.5, 1.0, 'Poverty by Unemployment')]"
      ]
     },
     "execution_count": 14,
     "metadata": {},
     "output_type": "execute_result"
    },
    {
     "data": {
      "image/png": "[encoded data removed]",
      "text/plain": [
       "<Figure size 432x288 with 1 Axes>"
      ]
     },
     "metadata": {
      "needs_background": "light"
     },
     "output_type": "display_data"
    }
   ],
   "source": [
    "# Plot scatter plot\n",
    "ax = sns.regplot(data_census['Unemployment'], data_census['Poverty'])\n",
    "ax.set(title = 'Poverty by Unemployment', xlabel = 'Unemployment', ylabel = 'Poverty')"
   ]
  },
  {
   "cell_type": "markdown",
   "metadata": {},
   "source": [
    "Model 1 - Poverty - Including all variables"
   ]
  },
  {
   "cell_type": "code",
   "execution_count": 15,
   "metadata": {},
   "outputs": [
    {
     "name": "stdout",
     "output_type": "stream",
     "text": [
      "[-0.05521991  0.5248399   0.21762343 -2.37039385 -0.62024317 -4.22871821\n",
      " -1.19391616  1.75855918  0.37486429  0.65621463 -0.11628558 -0.06142195\n",
      "  0.32942775  0.52436081 -0.43542048  1.84329435]\n"
     ]
    }
   ],
   "source": [
    "# Create the linear regression model\n",
    "model = linear_model.LinearRegression()\n",
    "fitted_model = model.fit(X = x_train_scaled_df, y = x_train_full['Poverty'])\n",
    "print(fitted_model.coef_)"
   ]
  },
  {
   "cell_type": "code",
   "execution_count": 16,
   "metadata": {},
   "outputs": [],
   "source": [
    "# Predict the values\n",
    "y_predicted = fitted_model.predict(x_validation_scaled_df)"
   ]
  },
  {
   "cell_type": "code",
   "execution_count": 17,
   "metadata": {},
   "outputs": [
    {
     "name": "stdout",
     "output_type": "stream",
     "text": [
      "607\n",
      "16\n",
      "590\n"
     ]
    }
   ],
   "source": [
    "# Determining values to calculate evaluation metrics\n",
    "n = len(x_validation_scaled_df.index)\n",
    "p = len(x_train_scaled_df.columns)\n",
    "print(n)\n",
    "print(p)\n",
    "print(n-p-1)"
   ]
  },
  {
   "cell_type": "code",
   "execution_count": 18,
   "metadata": {},
   "outputs": [
    {
     "name": "stdout",
     "output_type": "stream",
     "text": [
      "R squared: 0.8513298077255884\n",
      "Adjusted R squared: 0.8472980736978077\n",
      "RMSE - 3.4209848294802594\n"
     ]
    }
   ],
   "source": [
    "# Generating Evaluation metrics\n",
    "corr_coef = np.corrcoef(y_predicted,x_validation_full['Poverty'])[1, 0]\n",
    "\n",
    "R_squared = corr_coef ** 2\n",
    "print(\"R squared:\",R_squared)\n",
    "\n",
    "adjusted_r = 1 - (((1-R_squared)*(n-1))/(n-p-1))\n",
    "print(\"Adjusted R squared:\",adjusted_r)\n",
    "\n",
    "rmse = math.sqrt(mean_squared_error(y_predicted, x_validation_full['Poverty']))\n",
    "print('RMSE -',rmse)"
   ]
  },
  {
   "cell_type": "code",
   "execution_count": 19,
   "metadata": {},
   "outputs": [
    {
     "name": "stdout",
     "output_type": "stream",
     "text": [
      "[0.8272983071536646, 0.8504796157247451]\n"
     ]
    }
   ],
   "source": [
    "#Evaluate model with all predictors\n",
    "score_train = model.score(X = x_train_scaled_df, y = x_train_full['Poverty']) # R squared (training)\n",
    "score_val = model.score(X = x_validation_scaled_df, y = x_validation_full['Poverty']) # R squared (validation)\n",
    "print([score_train, score_val])"
   ]
  },
  {
   "cell_type": "markdown",
   "metadata": {},
   "source": [
    "Model 2 - Poverty - LASSO Regression"
   ]
  },
  {
   "cell_type": "code",
   "execution_count": 20,
   "metadata": {},
   "outputs": [
    {
     "name": "stdout",
     "output_type": "stream",
     "text": [
      "[ 0.          0.          0.         -1.82929859  0.         -3.41317623\n",
      " -0.34644058  0.          0.         -0.         -0.         -0.\n",
      " -0.          0.         -0.          1.86348561]\n"
     ]
    }
   ],
   "source": [
    "# Generating model\n",
    "model = linear_model.Lasso(alpha = 1)\n",
    "fitted_model = model.fit(X = x_train_scaled_df, y = x_train_full['Poverty'])\n",
    "print(fitted_model.coef_)"
   ]
  },
  {
   "cell_type": "code",
   "execution_count": 21,
   "metadata": {},
   "outputs": [],
   "source": [
    "# Predict the values\n",
    "y_predicted = fitted_model.predict(x_validation_scaled_df)"
   ]
  },
  {
   "cell_type": "code",
   "execution_count": 22,
   "metadata": {},
   "outputs": [
    {
     "name": "stdout",
     "output_type": "stream",
     "text": [
      "607\n",
      "16\n",
      "590\n"
     ]
    }
   ],
   "source": [
    "# Determining values to calculate evaluation metrics\n",
    "n = len(x_validation_scaled_df.index)\n",
    "p = len(x_validation_scaled_df.columns)\n",
    "n-p-1\n",
    "print(n)\n",
    "print(p)\n",
    "print(n-p-1)"
   ]
  },
  {
   "cell_type": "code",
   "execution_count": 23,
   "metadata": {},
   "outputs": [
    {
     "name": "stdout",
     "output_type": "stream",
     "text": [
      "R squared: 0.8336599709647284\n",
      "Adjusted R squared: 0.829149054923094\n",
      "RMSE:  3.9933497011553434\n"
     ]
    }
   ],
   "source": [
    "# Generating Evaluation metrics\n",
    "corr_coef = np.corrcoef(y_predicted,x_validation_full['Poverty'])[1, 0]\n",
    "\n",
    "R_squared = corr_coef ** 2\n",
    "print(\"R squared:\",R_squared)\n",
    "\n",
    "adjusted_r = 1 - (((1-R_squared)*(n-1))/(n-p-1))\n",
    "print(\"Adjusted R squared:\",adjusted_r)\n",
    "\n",
    "rmse = math.sqrt(mean_squared_error(y_predicted, x_validation_full['Poverty']))\n",
    "print('RMSE: ',rmse)"
   ]
  },
  {
   "cell_type": "markdown",
   "metadata": {},
   "source": [
    "Model 3 - Poverty - Includes: 'Percent_Women', 'White', 'Income', 'IncomePerCap', 'Professional', 'Unemployment'"
   ]
  },
  {
   "cell_type": "code",
   "execution_count": 24,
   "metadata": {},
   "outputs": [
    {
     "name": "stdout",
     "output_type": "stream",
     "text": [
      "[ 0.54355202 -2.28065951 -3.71926111 -1.64630369  1.21432919  2.05606681]\n"
     ]
    }
   ],
   "source": [
    "# Generating model\n",
    "model = linear_model.LinearRegression()\n",
    "fitted_model = model.fit(X = x_train_scaled_df[['Percent_Women', 'White', 'Income', 'IncomePerCap', 'Professional', 'Unemployment']], y = x_train_full['Poverty'])\n",
    "print(fitted_model.coef_)"
   ]
  },
  {
   "cell_type": "code",
   "execution_count": 25,
   "metadata": {},
   "outputs": [],
   "source": [
    "# Predict the values\n",
    "y_predicted = fitted_model.predict(x_validation_scaled_df[['Percent_Women', 'White', 'Income', 'IncomePerCap', 'Professional', 'Unemployment']])"
   ]
  },
  {
   "cell_type": "code",
   "execution_count": 26,
   "metadata": {},
   "outputs": [
    {
     "name": "stdout",
     "output_type": "stream",
     "text": [
      "607\n",
      "6\n",
      "600\n"
     ]
    }
   ],
   "source": [
    "# Determining values to calculate evaluation metrics\n",
    "n = len(x_validation_scaled_df.index)\n",
    "p = len(x_train_scaled_df[['Percent_Women', 'White', 'Income', 'IncomePerCap', 'Professional', 'Unemployment']].columns)\n",
    "n-p-1\n",
    "print(n)\n",
    "print(p)\n",
    "print(n-p-1)"
   ]
  },
  {
   "cell_type": "code",
   "execution_count": 27,
   "metadata": {},
   "outputs": [
    {
     "name": "stdout",
     "output_type": "stream",
     "text": [
      "R squared: 0.8471259545707236\n",
      "Adjusted R squared: 0.8455972141164309\n",
      "RMSE:  3.473878047933116\n"
     ]
    }
   ],
   "source": [
    "# Generating Evaluation metrics\n",
    "corr_coef = np.corrcoef(y_predicted,x_validation_full['Poverty'])[1, 0]\n",
    "R_squared = corr_coef ** 2\n",
    "print(\"R squared:\",R_squared)\n",
    "\n",
    "adjusted_r = 1 - (((1-R_squared)*(n-1))/(n-p-1))\n",
    "print(\"Adjusted R squared:\",adjusted_r)\n",
    "\n",
    "rmse = math.sqrt(mean_squared_error(y_predicted, x_validation_full['Poverty']))\n",
    "print('RMSE: ',rmse)"
   ]
  },
  {
   "cell_type": "markdown",
   "metadata": {},
   "source": [
    "Model 4. Linear Regression - (BEST MODEL) Includes: 'Hispanic', 'White', 'Income', 'IncomePerCap', 'Professional', 'Production', 'Unemployment'"
   ]
  },
  {
   "cell_type": "code",
   "execution_count": 28,
   "metadata": {},
   "outputs": [
    {
     "name": "stdout",
     "output_type": "stream",
     "text": [
      "[ 0.54355202 -2.28065951 -3.71926111 -1.64630369  1.21432919  2.05606681]\n"
     ]
    }
   ],
   "source": [
    "# Generating model\n",
    "model = linear_model.LinearRegression()\n",
    "fitted_model_poverty = model.fit(X = x_train_scaled_df[['Hispanic', 'White', 'Income', 'IncomePerCap', 'Professional', 'Production', 'Unemployment']], y = x_train_full['Poverty'])\n",
    "print(fitted_model.coef_)"
   ]
  },
  {
   "cell_type": "code",
   "execution_count": 29,
   "metadata": {},
   "outputs": [],
   "source": [
    "# Predict the values\n",
    "y_predicted = fitted_model_poverty.predict(x_validation_scaled_df[['Hispanic', 'White', 'Income', 'IncomePerCap', 'Professional', 'Production', 'Unemployment']])"
   ]
  },
  {
   "cell_type": "code",
   "execution_count": 30,
   "metadata": {},
   "outputs": [
    {
     "name": "stdout",
     "output_type": "stream",
     "text": [
      "607\n",
      "7\n",
      "599\n"
     ]
    }
   ],
   "source": [
    "# Determining values to calculate evaluation metrics\n",
    "n = len(x_validation_scaled_df.index)\n",
    "p = len(x_train_scaled_df[['Hispanic', 'White', 'Income', 'IncomePerCap', 'Professional', 'Production', 'Unemployment']].columns)\n",
    "n-p-1\n",
    "print(n)\n",
    "print(p)\n",
    "print(n-p-1)"
   ]
  },
  {
   "cell_type": "code",
   "execution_count": 31,
   "metadata": {},
   "outputs": [
    {
     "name": "stdout",
     "output_type": "stream",
     "text": [
      "R squared: 0.851443310856924\n",
      "Adjusted R squared: 0.8497072560589248\n",
      "RMSE:  3.422593507053814\n"
     ]
    }
   ],
   "source": [
    "# Generating Evaluation metrics\n",
    "corr_coef = np.corrcoef(y_predicted,x_validation_full['Poverty'])[1, 0]\n",
    "R_squared = corr_coef ** 2\n",
    "print(\"R squared:\",R_squared)\n",
    "\n",
    "adjusted_r = 1 - (((1-R_squared)*(n-1))/(n-p-1))\n",
    "print(\"Adjusted R squared:\",adjusted_r)\n",
    "\n",
    "rmse = math.sqrt(mean_squared_error(y_predicted, x_validation_full['Poverty']))\n",
    "print('RMSE: ',rmse)"
   ]
  },
  {
   "cell_type": "code",
   "execution_count": 32,
   "metadata": {},
   "outputs": [
    {
     "name": "stdout",
     "output_type": "stream",
     "text": [
      "[0.8142781696578959, 0.8503389622847699]\n"
     ]
    }
   ],
   "source": [
    "#Evaluate model with above predictors\n",
    "score_train = model.score(X = x_train_scaled_df[['Hispanic', 'White', 'Income', 'IncomePerCap', 'Professional', 'Production', 'Unemployment']], y = x_train_full['Poverty']) # R squared (training)\n",
    "score_val = model.score(X = x_validation_scaled_df[['Hispanic', 'White', 'Income', 'IncomePerCap', 'Professional', 'Production', 'Unemployment']], y = x_validation_full['Poverty']) # R squared (validation)\n",
    "print([score_train, score_val])"
   ]
  },
  {
   "cell_type": "markdown",
   "metadata": {},
   "source": [
    "Model 5 - Poverty - Includes: 'Percent_Women', 'Hispanic', 'White', 'Black', 'Income', 'IncomePerCap', 'Unemployment'"
   ]
  },
  {
   "cell_type": "code",
   "execution_count": 33,
   "metadata": {},
   "outputs": [
    {
     "name": "stdout",
     "output_type": "stream",
     "text": [
      "[ 0.64364625 -0.30240318 -2.99304925 -0.7419177  -3.8865889  -0.69936745\n",
      "  2.06843827]\n"
     ]
    }
   ],
   "source": [
    "# Generating model\n",
    "model = linear_model.LinearRegression()\n",
    "fitted_model = model.fit(X = x_train_scaled_df[['Percent_Women', 'Hispanic', 'White', 'Black', 'Income', 'IncomePerCap', 'Unemployment'\n",
    "]], y = x_train_full['Poverty'])\n",
    "print(fitted_model.coef_)"
   ]
  },
  {
   "cell_type": "code",
   "execution_count": 34,
   "metadata": {},
   "outputs": [],
   "source": [
    "# Predict the values\n",
    "y_predicted = fitted_model.predict(x_validation_scaled_df[['Percent_Women', 'Hispanic', 'White', 'Black', 'Income', 'IncomePerCap', 'Unemployment']])"
   ]
  },
  {
   "cell_type": "code",
   "execution_count": 35,
   "metadata": {},
   "outputs": [
    {
     "name": "stdout",
     "output_type": "stream",
     "text": [
      "607\n",
      "7\n",
      "599\n"
     ]
    }
   ],
   "source": [
    "# Determining values to calculate evaluation metrics\n",
    "n = len(x_validation_scaled_df.index)\n",
    "p = len(x_train_scaled_df[['Percent_Women', 'Hispanic', 'White', 'Black', 'Income', 'IncomePerCap', 'Unemployment']].columns)\n",
    "n-p-1\n",
    "print(n)\n",
    "print(p)\n",
    "print(n-p-1)"
   ]
  },
  {
   "cell_type": "code",
   "execution_count": 36,
   "metadata": {},
   "outputs": [
    {
     "name": "stdout",
     "output_type": "stream",
     "text": [
      "R squared: 0.833280730505654\n",
      "Adjusted R squared: 0.8313324251860206\n",
      "RMSE:  3.626887234067272\n"
     ]
    }
   ],
   "source": [
    "# Generating Evaluation metrics\n",
    "corr_coef = np.corrcoef(y_predicted,x_validation_full['Poverty'])[1, 0]\n",
    "R_squared = corr_coef ** 2\n",
    "print(\"R squared:\",R_squared)\n",
    "\n",
    "adjusted_r = 1 - (((1-R_squared)*(n-1))/(n-p-1))\n",
    "print(\"Adjusted R squared:\",adjusted_r)\n",
    "\n",
    "rmse = math.sqrt(mean_squared_error(y_predicted, x_validation_full['Poverty']))\n",
    "print('RMSE: ',rmse)"
   ]
  },
  {
   "cell_type": "markdown",
   "metadata": {},
   "source": [
    "REGRESSION - PREDICTING CHILD POVERTY"
   ]
  },
  {
   "cell_type": "code",
   "execution_count": 37,
   "metadata": {},
   "outputs": [
    {
     "data": {
      "text/plain": [
       "[Text(0, 0.5, 'ChildPoverty'),\n",
       " Text(0.5, 0, 'Hispanic'),\n",
       " Text(0.5, 1.0, 'Child Poverty by Hispanic')]"
      ]
     },
     "execution_count": 37,
     "metadata": {},
     "output_type": "execute_result"
    },
    {
     "data": {
      "image/png": "[encoded data removed]",
      "text/plain": [
       "<Figure size 432x288 with 1 Axes>"
      ]
     },
     "metadata": {
      "needs_background": "light"
     },
     "output_type": "display_data"
    }
   ],
   "source": [
    "# Plot scatter plot\n",
    "ax = sns.regplot(data_census['Hispanic'], data_census['ChildPoverty'])\n",
    "ax.set(title = 'Child Poverty by Hispanic', xlabel = 'Hispanic', ylabel = 'ChildPoverty')"
   ]
  },
  {
   "cell_type": "code",
   "execution_count": 38,
   "metadata": {},
   "outputs": [
    {
     "data": {
      "text/plain": [
       "[Text(0, 0.5, 'ChildPoverty'),\n",
       " Text(0.5, 0, 'Percent_Women'),\n",
       " Text(0.5, 1.0, 'Child Poverty by Percent_Women')]"
      ]
     },
     "execution_count": 38,
     "metadata": {},
     "output_type": "execute_result"
    },
    {
     "data": {
      "image/png": "[encoded data removed]",
      "text/plain": [
       "<Figure size 432x288 with 1 Axes>"
      ]
     },
     "metadata": {
      "needs_background": "light"
     },
     "output_type": "display_data"
    }
   ],
   "source": [
    "# Plot scatter plot\n",
    "ax = sns.regplot(data_census['Percent_Women'], data_census['ChildPoverty'])\n",
    "ax.set(title = 'Child Poverty by Percent_Women', xlabel = 'Percent_Women', ylabel = 'ChildPoverty')"
   ]
  },
  {
   "cell_type": "code",
   "execution_count": 39,
   "metadata": {},
   "outputs": [
    {
     "data": {
      "text/plain": [
       "[Text(0, 0.5, 'ChildPoverty'),\n",
       " Text(0.5, 0, 'White'),\n",
       " Text(0.5, 1.0, 'Child Poverty by White')]"
      ]
     },
     "execution_count": 39,
     "metadata": {},
     "output_type": "execute_result"
    },
    {
     "data": {
      "image/png": "[encoded data removed]",
      "text/plain": [
       "<Figure size 432x288 with 1 Axes>"
      ]
     },
     "metadata": {
      "needs_background": "light"
     },
     "output_type": "display_data"
    }
   ],
   "source": [
    "# Plot scatter plot\n",
    "ax = sns.regplot(data_census['White'], data_census['ChildPoverty'])\n",
    "ax.set(title = 'Child Poverty by White', xlabel = 'White', ylabel = 'ChildPoverty')"
   ]
  },
  {
   "cell_type": "code",
   "execution_count": 40,
   "metadata": {},
   "outputs": [
    {
     "data": {
      "text/plain": [
       "[Text(0, 0.5, 'ChildPoverty'),\n",
       " Text(0.5, 0, 'Income'),\n",
       " Text(0.5, 1.0, 'Child Poverty by Income')]"
      ]
     },
     "execution_count": 40,
     "metadata": {},
     "output_type": "execute_result"
    },
    {
     "data": {
      "image/png": "[encoded data removed]",
      "text/plain": [
       "<Figure size 432x288 with 1 Axes>"
      ]
     },
     "metadata": {
      "needs_background": "light"
     },
     "output_type": "display_data"
    }
   ],
   "source": [
    "# Plot scatter plot\n",
    "ax = sns.regplot(data_census['Income'], data_census['ChildPoverty'])\n",
    "ax.set(title = 'Child Poverty by Income', xlabel = 'Income', ylabel = 'ChildPoverty')"
   ]
  },
  {
   "cell_type": "code",
   "execution_count": 41,
   "metadata": {},
   "outputs": [
    {
     "data": {
      "text/plain": [
       "[Text(0, 0.5, 'ChildPoverty'),\n",
       " Text(0.5, 0, 'IncomePerCap'),\n",
       " Text(0.5, 1.0, 'Child Poverty by IncomePerCap')]"
      ]
     },
     "execution_count": 41,
     "metadata": {},
     "output_type": "execute_result"
    },
    {
     "data": {
      "image/png": "[encoded data removed]",
      "text/plain": [
       "<Figure size 432x288 with 1 Axes>"
      ]
     },
     "metadata": {
      "needs_background": "light"
     },
     "output_type": "display_data"
    }
   ],
   "source": [
    "# Plot scatter plot\n",
    "ax = sns.regplot(data_census['IncomePerCap'], data_census['ChildPoverty'])\n",
    "ax.set(title = 'Child Poverty by IncomePerCap', xlabel = 'IncomePerCap', ylabel = 'ChildPoverty')"
   ]
  },
  {
   "cell_type": "code",
   "execution_count": 42,
   "metadata": {},
   "outputs": [
    {
     "data": {
      "text/plain": [
       "[Text(0, 0.5, 'ChildPoverty'),\n",
       " Text(0.5, 0, 'SelfEmployed'),\n",
       " Text(0.5, 1.0, 'Child Poverty by SelfEmployed')]"
      ]
     },
     "execution_count": 42,
     "metadata": {},
     "output_type": "execute_result"
    },
    {
     "data": {
      "image/png": "[encoded data removed]",
      "text/plain": [
       "<Figure size 432x288 with 1 Axes>"
      ]
     },
     "metadata": {
      "needs_background": "light"
     },
     "output_type": "display_data"
    }
   ],
   "source": [
    "# Plot scatter plot\n",
    "ax = sns.regplot(data_census['SelfEmployed'], data_census['ChildPoverty'])\n",
    "ax.set(title = 'Child Poverty by SelfEmployed', xlabel = 'SelfEmployed', ylabel = 'ChildPoverty')"
   ]
  },
  {
   "cell_type": "code",
   "execution_count": 44,
   "metadata": {},
   "outputs": [
    {
     "data": {
      "text/plain": [
       "[Text(0, 0.5, 'ChildPoverty'),\n",
       " Text(0.5, 0, 'Unemployment'),\n",
       " Text(0.5, 1.0, 'Child Poverty by Unemployment')]"
      ]
     },
     "execution_count": 44,
     "metadata": {},
     "output_type": "execute_result"
    },
    {
     "data": {
      "image/png": "[encoded data removed]",
      "text/plain": [
       "<Figure size 432x288 with 1 Axes>"
      ]
     },
     "metadata": {
      "needs_background": "light"
     },
     "output_type": "display_data"
    }
   ],
   "source": [
    "# Plot scatter plot\n",
    "ax = sns.regplot(data_census['Unemployment'], data_census['ChildPoverty'])\n",
    "ax.set(title = 'Child Poverty by Unemployment', xlabel = 'Unemployment', ylabel = 'ChildPoverty')"
   ]
  },
  {
   "cell_type": "markdown",
   "metadata": {},
   "source": [
    "Model 1 - Child poverty - All variables"
   ]
  },
  {
   "cell_type": "code",
   "execution_count": 45,
   "metadata": {},
   "outputs": [
    {
     "name": "stdout",
     "output_type": "stream",
     "text": [
      "[ 0.06877829  0.53344814 -0.28921513 -3.69419934 -0.04516057 -6.57441374\n",
      " -0.23857924  0.22545993 -0.04384931  0.23054347  0.00771652  0.12998892\n",
      "  5.07497383  3.95159524  1.77511433  2.36696767]\n"
     ]
    }
   ],
   "source": [
    "# Generating model\n",
    "model = linear_model.LinearRegression()\n",
    "fitted_model = model.fit(X = x_train_scaled_df, y = x_train_full['ChildPoverty'])\n",
    "print(fitted_model.coef_)"
   ]
  },
  {
   "cell_type": "code",
   "execution_count": 46,
   "metadata": {},
   "outputs": [],
   "source": [
    "# Predict the values\n",
    "y_predicted = fitted_model.predict(x_validation_scaled_df)"
   ]
  },
  {
   "cell_type": "code",
   "execution_count": 47,
   "metadata": {},
   "outputs": [
    {
     "name": "stdout",
     "output_type": "stream",
     "text": [
      "607\n",
      "16\n",
      "590\n"
     ]
    }
   ],
   "source": [
    "# Determining values to calculate evaluation metrics\n",
    "n = len(x_validation_scaled_df.index)\n",
    "p = len(x_train_scaled_df.columns)\n",
    "n-p-1\n",
    "print(n)\n",
    "print(p)\n",
    "print(n-p-1)"
   ]
  },
  {
   "cell_type": "code",
   "execution_count": 48,
   "metadata": {},
   "outputs": [
    {
     "name": "stdout",
     "output_type": "stream",
     "text": [
      "R squared: 0.7725131347267584\n",
      "Adjusted R squared: 0.7663439993973146\n",
      "RMSE:  5.989999440186332\n"
     ]
    }
   ],
   "source": [
    "# Generating Evaluation metrics\n",
    "corr_coef = np.corrcoef(y_predicted,x_validation_full['ChildPoverty'])[1, 0]\n",
    "R_squared = corr_coef ** 2\n",
    "print(\"R squared:\",R_squared)\n",
    "\n",
    "adjusted_r = 1 - (((1-R_squared)*(n-1))/(n-p-1))\n",
    "print(\"Adjusted R squared:\",adjusted_r)\n",
    "\n",
    "rmse = math.sqrt(mean_squared_error(y_predicted, x_validation_full['ChildPoverty']))\n",
    "print('RMSE: ',rmse)"
   ]
  },
  {
   "cell_type": "markdown",
   "metadata": {},
   "source": [
    "Model 2 - Child Poverty - LASSO Regression"
   ]
  },
  {
   "cell_type": "code",
   "execution_count": 49,
   "metadata": {},
   "outputs": [
    {
     "name": "stdout",
     "output_type": "stream",
     "text": [
      "[ 0.          0.          0.         -2.81472074  0.         -5.66498538\n",
      " -0.1058546  -0.          0.          0.          0.         -0.\n",
      "  0.          0.         -0.05624678  2.32627694]\n"
     ]
    }
   ],
   "source": [
    "# Generating model\n",
    "model = linear_model.Lasso(alpha = 1)\n",
    "fitted_model = model.fit(X = x_train_scaled_df, y = x_train_full['ChildPoverty'])\n",
    "print(fitted_model.coef_)"
   ]
  },
  {
   "cell_type": "code",
   "execution_count": 50,
   "metadata": {},
   "outputs": [],
   "source": [
    "# Predict the values\n",
    "y_predicted = fitted_model.predict(x_validation_scaled_df)"
   ]
  },
  {
   "cell_type": "code",
   "execution_count": 51,
   "metadata": {},
   "outputs": [
    {
     "name": "stdout",
     "output_type": "stream",
     "text": [
      "607\n",
      "16\n",
      "590\n"
     ]
    }
   ],
   "source": [
    "# Determining values to calculate evaluation metrics\n",
    "n = len(x_validation_scaled_df.index)\n",
    "p = len(x_validation_scaled_df.columns)\n",
    "n-p-1\n",
    "print(n)\n",
    "print(p)\n",
    "print(n-p-1)"
   ]
  },
  {
   "cell_type": "code",
   "execution_count": 52,
   "metadata": {},
   "outputs": [
    {
     "name": "stdout",
     "output_type": "stream",
     "text": [
      "R squared: 0.7680747760798697\n",
      "Adjusted R squared: 0.7617852784820357\n",
      "RMSE:  6.264814834157485\n"
     ]
    }
   ],
   "source": [
    "# Generating Evaluation metrics\n",
    "corr_coef = np.corrcoef(y_predicted,x_validation_full['ChildPoverty'])[1, 0]\n",
    "\n",
    "R_squared = corr_coef ** 2\n",
    "print(\"R squared:\",R_squared)\n",
    "\n",
    "adjusted_r = 1 - (((1-R_squared)*(n-1))/(n-p-1))\n",
    "print(\"Adjusted R squared:\",adjusted_r)\n",
    "\n",
    "rmse = math.sqrt(mean_squared_error(y_predicted, x_validation_full['ChildPoverty']))\n",
    "print('RMSE: ',rmse)"
   ]
  },
  {
   "cell_type": "markdown",
   "metadata": {},
   "source": [
    "Model 3 - Child Poverty - (BEST MODEL) Includes: 'Percent_Women', 'Hispanic', 'White', 'Income', 'IncomePerCap', 'SelfEmployed', 'Unemployment'"
   ]
  },
  {
   "cell_type": "code",
   "execution_count": 53,
   "metadata": {},
   "outputs": [
    {
     "name": "stdout",
     "output_type": "stream",
     "text": [
      "[ 0.          0.          0.         -2.81472074  0.         -5.66498538\n",
      " -0.1058546  -0.          0.          0.          0.         -0.\n",
      "  0.          0.         -0.05624678  2.32627694]\n"
     ]
    }
   ],
   "source": [
    "# Generating model\n",
    "model = linear_model.LinearRegression()\n",
    "fitted_model_childPoverty = model.fit(X = x_train_scaled_df[['Percent_Women', 'Hispanic', 'White', 'Income', 'IncomePerCap', 'SelfEmployed', 'Unemployment']], y = x_train_full['ChildPoverty'])\n",
    "print(fitted_model.coef_)"
   ]
  },
  {
   "cell_type": "code",
   "execution_count": 54,
   "metadata": {},
   "outputs": [],
   "source": [
    "# Predict the values\n",
    "y_predicted = fitted_model_childPoverty.predict(x_validation_scaled_df[['Percent_Women', 'Hispanic', 'White', 'Income', 'IncomePerCap', 'SelfEmployed', 'Unemployment']])"
   ]
  },
  {
   "cell_type": "code",
   "execution_count": 55,
   "metadata": {},
   "outputs": [
    {
     "name": "stdout",
     "output_type": "stream",
     "text": [
      "607\n",
      "7\n",
      "599\n"
     ]
    }
   ],
   "source": [
    "# Determining values to calculate evaluation metrics\n",
    "n = len(x_validation_scaled_df.index)\n",
    "p = len(x_train_scaled_df[['Percent_Women', 'Hispanic', 'White', 'Income', 'IncomePerCap', 'SelfEmployed', 'Unemployment']].columns)\n",
    "n-p-1\n",
    "print(n)\n",
    "print(p)\n",
    "print(n-p-1)"
   ]
  },
  {
   "cell_type": "code",
   "execution_count": 56,
   "metadata": {},
   "outputs": [
    {
     "name": "stdout",
     "output_type": "stream",
     "text": [
      "R squared: 0.7724443465917777\n",
      "Adjusted R squared: 0.7697850985552877\n",
      "RMSE:  5.992641178686747\n"
     ]
    }
   ],
   "source": [
    "# Generating Evaluation metrics\n",
    "corr_coef = np.corrcoef(y_predicted,x_validation_full['ChildPoverty'])[1, 0]\n",
    "R_squared = corr_coef ** 2\n",
    "print(\"R squared:\",R_squared)\n",
    "\n",
    "adjusted_r = 1 - (((1-R_squared)*(n-1))/(n-p-1))\n",
    "print(\"Adjusted R squared:\",adjusted_r)\n",
    "\n",
    "rmse = math.sqrt(mean_squared_error(y_predicted, x_validation_full['ChildPoverty']))\n",
    "print('RMSE: ',rmse)"
   ]
  },
  {
   "cell_type": "markdown",
   "metadata": {},
   "source": [
    "PREDICT VALUES FOR TEST - LINEAR REGRESSION"
   ]
  },
  {
   "cell_type": "code",
   "execution_count": 57,
   "metadata": {},
   "outputs": [
    {
     "data": {
      "text/html": [
       "<div>\n",
       "<style scoped>\n",
       "    .dataframe tbody tr th:only-of-type {\n",
       "        vertical-align: middle;\n",
       "    }\n",
       "\n",
       "    .dataframe tbody tr th {\n",
       "        vertical-align: top;\n",
       "    }\n",
       "\n",
       "    .dataframe thead th {\n",
       "        text-align: right;\n",
       "    }\n",
       "</style>\n",
       "<table border=\"1\" class=\"dataframe\">\n",
       "  <thead>\n",
       "    <tr style=\"text-align: right;\">\n",
       "      <th></th>\n",
       "      <th>Unnamed: 0</th>\n",
       "      <th>CountyId</th>\n",
       "      <th>State</th>\n",
       "      <th>County</th>\n",
       "      <th>TotalPop</th>\n",
       "      <th>Percent_Women</th>\n",
       "      <th>Hispanic</th>\n",
       "      <th>White</th>\n",
       "      <th>Black</th>\n",
       "      <th>Income</th>\n",
       "      <th>...</th>\n",
       "      <th>Professional</th>\n",
       "      <th>Service</th>\n",
       "      <th>Production</th>\n",
       "      <th>Carpool</th>\n",
       "      <th>WorkAtHome</th>\n",
       "      <th>MeanCommute</th>\n",
       "      <th>PrivateWork</th>\n",
       "      <th>PublicWork</th>\n",
       "      <th>SelfEmployed</th>\n",
       "      <th>Unemployment</th>\n",
       "    </tr>\n",
       "  </thead>\n",
       "  <tbody>\n",
       "    <tr>\n",
       "      <td>0</td>\n",
       "      <td>0</td>\n",
       "      <td>1005</td>\n",
       "      <td>Alabama</td>\n",
       "      <td>Barbour County</td>\n",
       "      <td>26201.0</td>\n",
       "      <td>46.658524</td>\n",
       "      <td>4.2</td>\n",
       "      <td>45.7</td>\n",
       "      <td>47.8</td>\n",
       "      <td>33368</td>\n",
       "      <td>...</td>\n",
       "      <td>25.0</td>\n",
       "      <td>16.8</td>\n",
       "      <td>24.1</td>\n",
       "      <td>11.1</td>\n",
       "      <td>1.3</td>\n",
       "      <td>23.4</td>\n",
       "      <td>74.1</td>\n",
       "      <td>19.1</td>\n",
       "      <td>6.5</td>\n",
       "      <td>12.4</td>\n",
       "    </tr>\n",
       "    <tr>\n",
       "      <td>1</td>\n",
       "      <td>1</td>\n",
       "      <td>1025</td>\n",
       "      <td>Alabama</td>\n",
       "      <td>Clarke County</td>\n",
       "      <td>24625.0</td>\n",
       "      <td>52.694416</td>\n",
       "      <td>0.2</td>\n",
       "      <td>53.0</td>\n",
       "      <td>45.7</td>\n",
       "      <td>33827</td>\n",
       "      <td>...</td>\n",
       "      <td>21.6</td>\n",
       "      <td>14.3</td>\n",
       "      <td>25.6</td>\n",
       "      <td>11.9</td>\n",
       "      <td>0.9</td>\n",
       "      <td>23.9</td>\n",
       "      <td>83.1</td>\n",
       "      <td>11.8</td>\n",
       "      <td>5.1</td>\n",
       "      <td>15.2</td>\n",
       "    </tr>\n",
       "    <tr>\n",
       "      <td>2</td>\n",
       "      <td>2</td>\n",
       "      <td>1037</td>\n",
       "      <td>Alabama</td>\n",
       "      <td>Coosa County</td>\n",
       "      <td>10955.0</td>\n",
       "      <td>50.031949</td>\n",
       "      <td>0.1</td>\n",
       "      <td>65.3</td>\n",
       "      <td>33.2</td>\n",
       "      <td>34792</td>\n",
       "      <td>...</td>\n",
       "      <td>17.6</td>\n",
       "      <td>23.2</td>\n",
       "      <td>20.9</td>\n",
       "      <td>9.7</td>\n",
       "      <td>4.2</td>\n",
       "      <td>29.8</td>\n",
       "      <td>78.8</td>\n",
       "      <td>15.9</td>\n",
       "      <td>5.4</td>\n",
       "      <td>11.3</td>\n",
       "    </tr>\n",
       "    <tr>\n",
       "      <td>3</td>\n",
       "      <td>3</td>\n",
       "      <td>1047</td>\n",
       "      <td>Alabama</td>\n",
       "      <td>Dallas County</td>\n",
       "      <td>40755.0</td>\n",
       "      <td>53.848608</td>\n",
       "      <td>1.0</td>\n",
       "      <td>27.7</td>\n",
       "      <td>70.2</td>\n",
       "      <td>30065</td>\n",
       "      <td>...</td>\n",
       "      <td>26.7</td>\n",
       "      <td>18.2</td>\n",
       "      <td>25.3</td>\n",
       "      <td>8.9</td>\n",
       "      <td>1.2</td>\n",
       "      <td>22.1</td>\n",
       "      <td>78.8</td>\n",
       "      <td>15.2</td>\n",
       "      <td>5.6</td>\n",
       "      <td>13.7</td>\n",
       "    </tr>\n",
       "    <tr>\n",
       "      <td>4</td>\n",
       "      <td>4</td>\n",
       "      <td>1053</td>\n",
       "      <td>Alabama</td>\n",
       "      <td>Escambia County</td>\n",
       "      <td>37621.0</td>\n",
       "      <td>48.629755</td>\n",
       "      <td>2.2</td>\n",
       "      <td>60.2</td>\n",
       "      <td>32.2</td>\n",
       "      <td>35026</td>\n",
       "      <td>...</td>\n",
       "      <td>24.6</td>\n",
       "      <td>21.2</td>\n",
       "      <td>18.3</td>\n",
       "      <td>7.0</td>\n",
       "      <td>0.8</td>\n",
       "      <td>22.6</td>\n",
       "      <td>75.6</td>\n",
       "      <td>19.7</td>\n",
       "      <td>4.6</td>\n",
       "      <td>13.7</td>\n",
       "    </tr>\n",
       "  </tbody>\n",
       "</table>\n",
       "<p>5 rows × 21 columns</p>\n",
       "</div>"
      ],
      "text/plain": [
       "   Unnamed: 0  CountyId    State           County  TotalPop  Percent_Women  \\\n",
       "0           0      1005  Alabama   Barbour County   26201.0      46.658524   \n",
       "1           1      1025  Alabama    Clarke County   24625.0      52.694416   \n",
       "2           2      1037  Alabama     Coosa County   10955.0      50.031949   \n",
       "3           3      1047  Alabama    Dallas County   40755.0      53.848608   \n",
       "4           4      1053  Alabama  Escambia County   37621.0      48.629755   \n",
       "\n",
       "   Hispanic  White  Black  Income  ...  Professional  Service  Production  \\\n",
       "0       4.2   45.7   47.8   33368  ...          25.0     16.8        24.1   \n",
       "1       0.2   53.0   45.7   33827  ...          21.6     14.3        25.6   \n",
       "2       0.1   65.3   33.2   34792  ...          17.6     23.2        20.9   \n",
       "3       1.0   27.7   70.2   30065  ...          26.7     18.2        25.3   \n",
       "4       2.2   60.2   32.2   35026  ...          24.6     21.2        18.3   \n",
       "\n",
       "   Carpool  WorkAtHome  MeanCommute  PrivateWork  PublicWork  SelfEmployed  \\\n",
       "0     11.1         1.3         23.4         74.1        19.1           6.5   \n",
       "1     11.9         0.9         23.9         83.1        11.8           5.1   \n",
       "2      9.7         4.2         29.8         78.8        15.9           5.4   \n",
       "3      8.9         1.2         22.1         78.8        15.2           5.6   \n",
       "4      7.0         0.8         22.6         75.6        19.7           4.6   \n",
       "\n",
       "   Unemployment  \n",
       "0          12.4  \n",
       "1          15.2  \n",
       "2          11.3  \n",
       "3          13.7  \n",
       "4          13.7  \n",
       "\n",
       "[5 rows x 21 columns]"
      ]
     },
     "execution_count": 57,
     "metadata": {},
     "output_type": "execute_result"
    }
   ],
   "source": [
    "# Load Census test dataset\n",
    "test_census = pd.read_csv('test_dp_output.csv')\n",
    "test_census.head()"
   ]
  },
  {
   "cell_type": "code",
   "execution_count": 58,
   "metadata": {},
   "outputs": [
    {
     "data": {
      "text/html": [
       "<div>\n",
       "<style scoped>\n",
       "    .dataframe tbody tr th:only-of-type {\n",
       "        vertical-align: middle;\n",
       "    }\n",
       "\n",
       "    .dataframe tbody tr th {\n",
       "        vertical-align: top;\n",
       "    }\n",
       "\n",
       "    .dataframe thead th {\n",
       "        text-align: right;\n",
       "    }\n",
       "</style>\n",
       "<table border=\"1\" class=\"dataframe\">\n",
       "  <thead>\n",
       "    <tr style=\"text-align: right;\">\n",
       "      <th></th>\n",
       "      <th>CountyId</th>\n",
       "      <th>State</th>\n",
       "      <th>County</th>\n",
       "      <th>TotalPop</th>\n",
       "      <th>Percent_Women</th>\n",
       "      <th>Hispanic</th>\n",
       "      <th>White</th>\n",
       "      <th>Black</th>\n",
       "      <th>Income</th>\n",
       "      <th>IncomePerCap</th>\n",
       "      <th>Professional</th>\n",
       "      <th>Service</th>\n",
       "      <th>Production</th>\n",
       "      <th>Carpool</th>\n",
       "      <th>WorkAtHome</th>\n",
       "      <th>MeanCommute</th>\n",
       "      <th>PrivateWork</th>\n",
       "      <th>PublicWork</th>\n",
       "      <th>SelfEmployed</th>\n",
       "      <th>Unemployment</th>\n",
       "    </tr>\n",
       "  </thead>\n",
       "  <tbody>\n",
       "    <tr>\n",
       "      <td>0</td>\n",
       "      <td>1005</td>\n",
       "      <td>Alabama</td>\n",
       "      <td>Barbour County</td>\n",
       "      <td>26201.0</td>\n",
       "      <td>46.658524</td>\n",
       "      <td>4.2</td>\n",
       "      <td>45.7</td>\n",
       "      <td>47.8</td>\n",
       "      <td>33368</td>\n",
       "      <td>17561</td>\n",
       "      <td>25.0</td>\n",
       "      <td>16.8</td>\n",
       "      <td>24.1</td>\n",
       "      <td>11.1</td>\n",
       "      <td>1.3</td>\n",
       "      <td>23.4</td>\n",
       "      <td>74.1</td>\n",
       "      <td>19.1</td>\n",
       "      <td>6.5</td>\n",
       "      <td>12.4</td>\n",
       "    </tr>\n",
       "    <tr>\n",
       "      <td>1</td>\n",
       "      <td>1025</td>\n",
       "      <td>Alabama</td>\n",
       "      <td>Clarke County</td>\n",
       "      <td>24625.0</td>\n",
       "      <td>52.694416</td>\n",
       "      <td>0.2</td>\n",
       "      <td>53.0</td>\n",
       "      <td>45.7</td>\n",
       "      <td>33827</td>\n",
       "      <td>20765</td>\n",
       "      <td>21.6</td>\n",
       "      <td>14.3</td>\n",
       "      <td>25.6</td>\n",
       "      <td>11.9</td>\n",
       "      <td>0.9</td>\n",
       "      <td>23.9</td>\n",
       "      <td>83.1</td>\n",
       "      <td>11.8</td>\n",
       "      <td>5.1</td>\n",
       "      <td>15.2</td>\n",
       "    </tr>\n",
       "    <tr>\n",
       "      <td>2</td>\n",
       "      <td>1037</td>\n",
       "      <td>Alabama</td>\n",
       "      <td>Coosa County</td>\n",
       "      <td>10955.0</td>\n",
       "      <td>50.031949</td>\n",
       "      <td>0.1</td>\n",
       "      <td>65.3</td>\n",
       "      <td>33.2</td>\n",
       "      <td>34792</td>\n",
       "      <td>20342</td>\n",
       "      <td>17.6</td>\n",
       "      <td>23.2</td>\n",
       "      <td>20.9</td>\n",
       "      <td>9.7</td>\n",
       "      <td>4.2</td>\n",
       "      <td>29.8</td>\n",
       "      <td>78.8</td>\n",
       "      <td>15.9</td>\n",
       "      <td>5.4</td>\n",
       "      <td>11.3</td>\n",
       "    </tr>\n",
       "    <tr>\n",
       "      <td>3</td>\n",
       "      <td>1047</td>\n",
       "      <td>Alabama</td>\n",
       "      <td>Dallas County</td>\n",
       "      <td>40755.0</td>\n",
       "      <td>53.848608</td>\n",
       "      <td>1.0</td>\n",
       "      <td>27.7</td>\n",
       "      <td>70.2</td>\n",
       "      <td>30065</td>\n",
       "      <td>18248</td>\n",
       "      <td>26.7</td>\n",
       "      <td>18.2</td>\n",
       "      <td>25.3</td>\n",
       "      <td>8.9</td>\n",
       "      <td>1.2</td>\n",
       "      <td>22.1</td>\n",
       "      <td>78.8</td>\n",
       "      <td>15.2</td>\n",
       "      <td>5.6</td>\n",
       "      <td>13.7</td>\n",
       "    </tr>\n",
       "    <tr>\n",
       "      <td>4</td>\n",
       "      <td>1053</td>\n",
       "      <td>Alabama</td>\n",
       "      <td>Escambia County</td>\n",
       "      <td>37621.0</td>\n",
       "      <td>48.629755</td>\n",
       "      <td>2.2</td>\n",
       "      <td>60.2</td>\n",
       "      <td>32.2</td>\n",
       "      <td>35026</td>\n",
       "      <td>18164</td>\n",
       "      <td>24.6</td>\n",
       "      <td>21.2</td>\n",
       "      <td>18.3</td>\n",
       "      <td>7.0</td>\n",
       "      <td>0.8</td>\n",
       "      <td>22.6</td>\n",
       "      <td>75.6</td>\n",
       "      <td>19.7</td>\n",
       "      <td>4.6</td>\n",
       "      <td>13.7</td>\n",
       "    </tr>\n",
       "  </tbody>\n",
       "</table>\n",
       "</div>"
      ],
      "text/plain": [
       "   CountyId    State           County  TotalPop  Percent_Women  Hispanic  \\\n",
       "0      1005  Alabama   Barbour County   26201.0      46.658524       4.2   \n",
       "1      1025  Alabama    Clarke County   24625.0      52.694416       0.2   \n",
       "2      1037  Alabama     Coosa County   10955.0      50.031949       0.1   \n",
       "3      1047  Alabama    Dallas County   40755.0      53.848608       1.0   \n",
       "4      1053  Alabama  Escambia County   37621.0      48.629755       2.2   \n",
       "\n",
       "   White  Black  Income  IncomePerCap  Professional  Service  Production  \\\n",
       "0   45.7   47.8   33368         17561          25.0     16.8        24.1   \n",
       "1   53.0   45.7   33827         20765          21.6     14.3        25.6   \n",
       "2   65.3   33.2   34792         20342          17.6     23.2        20.9   \n",
       "3   27.7   70.2   30065         18248          26.7     18.2        25.3   \n",
       "4   60.2   32.2   35026         18164          24.6     21.2        18.3   \n",
       "\n",
       "   Carpool  WorkAtHome  MeanCommute  PrivateWork  PublicWork  SelfEmployed  \\\n",
       "0     11.1         1.3         23.4         74.1        19.1           6.5   \n",
       "1     11.9         0.9         23.9         83.1        11.8           5.1   \n",
       "2      9.7         4.2         29.8         78.8        15.9           5.4   \n",
       "3      8.9         1.2         22.1         78.8        15.2           5.6   \n",
       "4      7.0         0.8         22.6         75.6        19.7           4.6   \n",
       "\n",
       "   Unemployment  \n",
       "0          12.4  \n",
       "1          15.2  \n",
       "2          11.3  \n",
       "3          13.7  \n",
       "4          13.7  "
      ]
     },
     "execution_count": 58,
     "metadata": {},
     "output_type": "execute_result"
    }
   ],
   "source": [
    "#Remove unnamed first column\n",
    "test_census = test_census.loc[:, ~test_census.columns.str.contains('^Unnamed')]\n",
    "test_census.head()"
   ]
  },
  {
   "cell_type": "code",
   "execution_count": 59,
   "metadata": {},
   "outputs": [
    {
     "data": {
      "text/html": [
       "<div>\n",
       "<style scoped>\n",
       "    .dataframe tbody tr th:only-of-type {\n",
       "        vertical-align: middle;\n",
       "    }\n",
       "\n",
       "    .dataframe tbody tr th {\n",
       "        vertical-align: top;\n",
       "    }\n",
       "\n",
       "    .dataframe thead th {\n",
       "        text-align: right;\n",
       "    }\n",
       "</style>\n",
       "<table border=\"1\" class=\"dataframe\">\n",
       "  <thead>\n",
       "    <tr style=\"text-align: right;\">\n",
       "      <th></th>\n",
       "      <th>CountyId</th>\n",
       "      <th>State</th>\n",
       "      <th>County</th>\n",
       "      <th>TotalPop</th>\n",
       "      <th>Percent_Women</th>\n",
       "      <th>Hispanic</th>\n",
       "      <th>White</th>\n",
       "      <th>Black</th>\n",
       "      <th>Income</th>\n",
       "      <th>IncomePerCap</th>\n",
       "      <th>Professional</th>\n",
       "      <th>Service</th>\n",
       "      <th>Production</th>\n",
       "      <th>Carpool</th>\n",
       "      <th>WorkAtHome</th>\n",
       "      <th>PrivateWork</th>\n",
       "      <th>PublicWork</th>\n",
       "      <th>SelfEmployed</th>\n",
       "      <th>Unemployment</th>\n",
       "    </tr>\n",
       "  </thead>\n",
       "  <tbody>\n",
       "    <tr>\n",
       "      <td>0</td>\n",
       "      <td>1005</td>\n",
       "      <td>Alabama</td>\n",
       "      <td>Barbour County</td>\n",
       "      <td>26201.0</td>\n",
       "      <td>46.658524</td>\n",
       "      <td>4.2</td>\n",
       "      <td>45.7</td>\n",
       "      <td>47.8</td>\n",
       "      <td>33368</td>\n",
       "      <td>17561</td>\n",
       "      <td>25.0</td>\n",
       "      <td>16.8</td>\n",
       "      <td>24.1</td>\n",
       "      <td>11.1</td>\n",
       "      <td>1.3</td>\n",
       "      <td>74.1</td>\n",
       "      <td>19.1</td>\n",
       "      <td>6.5</td>\n",
       "      <td>12.4</td>\n",
       "    </tr>\n",
       "    <tr>\n",
       "      <td>1</td>\n",
       "      <td>1025</td>\n",
       "      <td>Alabama</td>\n",
       "      <td>Clarke County</td>\n",
       "      <td>24625.0</td>\n",
       "      <td>52.694416</td>\n",
       "      <td>0.2</td>\n",
       "      <td>53.0</td>\n",
       "      <td>45.7</td>\n",
       "      <td>33827</td>\n",
       "      <td>20765</td>\n",
       "      <td>21.6</td>\n",
       "      <td>14.3</td>\n",
       "      <td>25.6</td>\n",
       "      <td>11.9</td>\n",
       "      <td>0.9</td>\n",
       "      <td>83.1</td>\n",
       "      <td>11.8</td>\n",
       "      <td>5.1</td>\n",
       "      <td>15.2</td>\n",
       "    </tr>\n",
       "    <tr>\n",
       "      <td>2</td>\n",
       "      <td>1037</td>\n",
       "      <td>Alabama</td>\n",
       "      <td>Coosa County</td>\n",
       "      <td>10955.0</td>\n",
       "      <td>50.031949</td>\n",
       "      <td>0.1</td>\n",
       "      <td>65.3</td>\n",
       "      <td>33.2</td>\n",
       "      <td>34792</td>\n",
       "      <td>20342</td>\n",
       "      <td>17.6</td>\n",
       "      <td>23.2</td>\n",
       "      <td>20.9</td>\n",
       "      <td>9.7</td>\n",
       "      <td>4.2</td>\n",
       "      <td>78.8</td>\n",
       "      <td>15.9</td>\n",
       "      <td>5.4</td>\n",
       "      <td>11.3</td>\n",
       "    </tr>\n",
       "    <tr>\n",
       "      <td>3</td>\n",
       "      <td>1047</td>\n",
       "      <td>Alabama</td>\n",
       "      <td>Dallas County</td>\n",
       "      <td>40755.0</td>\n",
       "      <td>53.848608</td>\n",
       "      <td>1.0</td>\n",
       "      <td>27.7</td>\n",
       "      <td>70.2</td>\n",
       "      <td>30065</td>\n",
       "      <td>18248</td>\n",
       "      <td>26.7</td>\n",
       "      <td>18.2</td>\n",
       "      <td>25.3</td>\n",
       "      <td>8.9</td>\n",
       "      <td>1.2</td>\n",
       "      <td>78.8</td>\n",
       "      <td>15.2</td>\n",
       "      <td>5.6</td>\n",
       "      <td>13.7</td>\n",
       "    </tr>\n",
       "    <tr>\n",
       "      <td>4</td>\n",
       "      <td>1053</td>\n",
       "      <td>Alabama</td>\n",
       "      <td>Escambia County</td>\n",
       "      <td>37621.0</td>\n",
       "      <td>48.629755</td>\n",
       "      <td>2.2</td>\n",
       "      <td>60.2</td>\n",
       "      <td>32.2</td>\n",
       "      <td>35026</td>\n",
       "      <td>18164</td>\n",
       "      <td>24.6</td>\n",
       "      <td>21.2</td>\n",
       "      <td>18.3</td>\n",
       "      <td>7.0</td>\n",
       "      <td>0.8</td>\n",
       "      <td>75.6</td>\n",
       "      <td>19.7</td>\n",
       "      <td>4.6</td>\n",
       "      <td>13.7</td>\n",
       "    </tr>\n",
       "  </tbody>\n",
       "</table>\n",
       "</div>"
      ],
      "text/plain": [
       "   CountyId    State           County  TotalPop  Percent_Women  Hispanic  \\\n",
       "0      1005  Alabama   Barbour County   26201.0      46.658524       4.2   \n",
       "1      1025  Alabama    Clarke County   24625.0      52.694416       0.2   \n",
       "2      1037  Alabama     Coosa County   10955.0      50.031949       0.1   \n",
       "3      1047  Alabama    Dallas County   40755.0      53.848608       1.0   \n",
       "4      1053  Alabama  Escambia County   37621.0      48.629755       2.2   \n",
       "\n",
       "   White  Black  Income  IncomePerCap  Professional  Service  Production  \\\n",
       "0   45.7   47.8   33368         17561          25.0     16.8        24.1   \n",
       "1   53.0   45.7   33827         20765          21.6     14.3        25.6   \n",
       "2   65.3   33.2   34792         20342          17.6     23.2        20.9   \n",
       "3   27.7   70.2   30065         18248          26.7     18.2        25.3   \n",
       "4   60.2   32.2   35026         18164          24.6     21.2        18.3   \n",
       "\n",
       "   Carpool  WorkAtHome  PrivateWork  PublicWork  SelfEmployed  Unemployment  \n",
       "0     11.1         1.3         74.1        19.1           6.5          12.4  \n",
       "1     11.9         0.9         83.1        11.8           5.1          15.2  \n",
       "2      9.7         4.2         78.8        15.9           5.4          11.3  \n",
       "3      8.9         1.2         78.8        15.2           5.6          13.7  \n",
       "4      7.0         0.8         75.6        19.7           4.6          13.7  "
      ]
     },
     "execution_count": 59,
     "metadata": {},
     "output_type": "execute_result"
    }
   ],
   "source": [
    "test_census = test_census[['CountyId', 'State', 'County', 'TotalPop', 'Percent_Women', 'Hispanic', 'White', 'Black', 'Income', 'IncomePerCap', 'Professional', 'Service', 'Production', 'Carpool', 'WorkAtHome', 'PrivateWork', 'PublicWork', 'SelfEmployed', 'Unemployment']]\n",
    "test_census.head()"
   ]
  },
  {
   "cell_type": "code",
   "execution_count": 60,
   "metadata": {},
   "outputs": [],
   "source": [
    "x_test = test_census.select_dtypes(include=[np.int64,np.float64])\n",
    "x_test = x_test.iloc[:,1:17]\n",
    "x_test_scaled = scaler.transform(x_test)\n",
    "x_test_scaled_df = pd.DataFrame(x_test_scaled,index = x_test.index,columns=x_test.columns)"
   ]
  },
  {
   "cell_type": "code",
   "execution_count": 61,
   "metadata": {},
   "outputs": [
    {
     "data": {
      "text/html": [
       "<div>\n",
       "<style scoped>\n",
       "    .dataframe tbody tr th:only-of-type {\n",
       "        vertical-align: middle;\n",
       "    }\n",
       "\n",
       "    .dataframe tbody tr th {\n",
       "        vertical-align: top;\n",
       "    }\n",
       "\n",
       "    .dataframe thead th {\n",
       "        text-align: right;\n",
       "    }\n",
       "</style>\n",
       "<table border=\"1\" class=\"dataframe\">\n",
       "  <thead>\n",
       "    <tr style=\"text-align: right;\">\n",
       "      <th></th>\n",
       "      <th>TotalPop</th>\n",
       "      <th>Percent_Women</th>\n",
       "      <th>Hispanic</th>\n",
       "      <th>White</th>\n",
       "      <th>Black</th>\n",
       "      <th>Income</th>\n",
       "      <th>IncomePerCap</th>\n",
       "      <th>Professional</th>\n",
       "      <th>Service</th>\n",
       "      <th>Production</th>\n",
       "      <th>Carpool</th>\n",
       "      <th>WorkAtHome</th>\n",
       "      <th>PrivateWork</th>\n",
       "      <th>PublicWork</th>\n",
       "      <th>SelfEmployed</th>\n",
       "      <th>Unemployment</th>\n",
       "    </tr>\n",
       "  </thead>\n",
       "  <tbody>\n",
       "    <tr>\n",
       "      <td>0</td>\n",
       "      <td>-0.212468</td>\n",
       "      <td>-1.435866</td>\n",
       "      <td>-0.366515</td>\n",
       "      <td>-1.289214</td>\n",
       "      <td>2.741401</td>\n",
       "      <td>-1.173131</td>\n",
       "      <td>-1.247933</td>\n",
       "      <td>-0.999881</td>\n",
       "      <td>-0.352220</td>\n",
       "      <td>1.423978</td>\n",
       "      <td>0.416107</td>\n",
       "      <td>-1.161627</td>\n",
       "      <td>-0.091205</td>\n",
       "      <td>0.322333</td>\n",
       "      <td>-0.348778</td>\n",
       "      <td>1.564992</td>\n",
       "    </tr>\n",
       "    <tr>\n",
       "      <td>1</td>\n",
       "      <td>-0.217046</td>\n",
       "      <td>1.148828</td>\n",
       "      <td>-0.577984</td>\n",
       "      <td>-0.968268</td>\n",
       "      <td>2.594390</td>\n",
       "      <td>-1.139262</td>\n",
       "      <td>-0.761042</td>\n",
       "      <td>-1.515817</td>\n",
       "      <td>-1.018111</td>\n",
       "      <td>1.680679</td>\n",
       "      <td>0.685124</td>\n",
       "      <td>-1.296668</td>\n",
       "      <td>1.081886</td>\n",
       "      <td>-0.827336</td>\n",
       "      <td>-0.703289</td>\n",
       "      <td>2.318499</td>\n",
       "    </tr>\n",
       "    <tr>\n",
       "      <td>2</td>\n",
       "      <td>-0.256761</td>\n",
       "      <td>0.008704</td>\n",
       "      <td>-0.583271</td>\n",
       "      <td>-0.427495</td>\n",
       "      <td>1.719319</td>\n",
       "      <td>-1.068055</td>\n",
       "      <td>-0.825322</td>\n",
       "      <td>-2.122801</td>\n",
       "      <td>1.352461</td>\n",
       "      <td>0.876348</td>\n",
       "      <td>-0.054672</td>\n",
       "      <td>-0.182583</td>\n",
       "      <td>0.521409</td>\n",
       "      <td>-0.181632</td>\n",
       "      <td>-0.627322</td>\n",
       "      <td>1.268971</td>\n",
       "    </tr>\n",
       "    <tr>\n",
       "      <td>3</td>\n",
       "      <td>-0.170186</td>\n",
       "      <td>1.643077</td>\n",
       "      <td>-0.535690</td>\n",
       "      <td>-2.080589</td>\n",
       "      <td>4.309528</td>\n",
       "      <td>-1.416858</td>\n",
       "      <td>-1.143534</td>\n",
       "      <td>-0.741913</td>\n",
       "      <td>0.020679</td>\n",
       "      <td>1.629339</td>\n",
       "      <td>-0.323688</td>\n",
       "      <td>-1.195387</td>\n",
       "      <td>0.521409</td>\n",
       "      <td>-0.291874</td>\n",
       "      <td>-0.576678</td>\n",
       "      <td>1.914834</td>\n",
       "    </tr>\n",
       "    <tr>\n",
       "      <td>4</td>\n",
       "      <td>-0.179290</td>\n",
       "      <td>-0.591744</td>\n",
       "      <td>-0.472249</td>\n",
       "      <td>-0.651718</td>\n",
       "      <td>1.649314</td>\n",
       "      <td>-1.050788</td>\n",
       "      <td>-1.156299</td>\n",
       "      <td>-1.060579</td>\n",
       "      <td>0.819748</td>\n",
       "      <td>0.431399</td>\n",
       "      <td>-0.962602</td>\n",
       "      <td>-1.330428</td>\n",
       "      <td>0.104311</td>\n",
       "      <td>0.416827</td>\n",
       "      <td>-0.829900</td>\n",
       "      <td>1.914834</td>\n",
       "    </tr>\n",
       "  </tbody>\n",
       "</table>\n",
       "</div>"
      ],
      "text/plain": [
       "   TotalPop  Percent_Women  Hispanic     White     Black    Income  \\\n",
       "0 -0.212468      -1.435866 -0.366515 -1.289214  2.741401 -1.173131   \n",
       "1 -0.217046       1.148828 -0.577984 -0.968268  2.594390 -1.139262   \n",
       "2 -0.256761       0.008704 -0.583271 -0.427495  1.719319 -1.068055   \n",
       "3 -0.170186       1.643077 -0.535690 -2.080589  4.309528 -1.416858   \n",
       "4 -0.179290      -0.591744 -0.472249 -0.651718  1.649314 -1.050788   \n",
       "\n",
       "   IncomePerCap  Professional   Service  Production   Carpool  WorkAtHome  \\\n",
       "0     -1.247933     -0.999881 -0.352220    1.423978  0.416107   -1.161627   \n",
       "1     -0.761042     -1.515817 -1.018111    1.680679  0.685124   -1.296668   \n",
       "2     -0.825322     -2.122801  1.352461    0.876348 -0.054672   -0.182583   \n",
       "3     -1.143534     -0.741913  0.020679    1.629339 -0.323688   -1.195387   \n",
       "4     -1.156299     -1.060579  0.819748    0.431399 -0.962602   -1.330428   \n",
       "\n",
       "   PrivateWork  PublicWork  SelfEmployed  Unemployment  \n",
       "0    -0.091205    0.322333     -0.348778      1.564992  \n",
       "1     1.081886   -0.827336     -0.703289      2.318499  \n",
       "2     0.521409   -0.181632     -0.627322      1.268971  \n",
       "3     0.521409   -0.291874     -0.576678      1.914834  \n",
       "4     0.104311    0.416827     -0.829900      1.914834  "
      ]
     },
     "execution_count": 61,
     "metadata": {},
     "output_type": "execute_result"
    }
   ],
   "source": [
    "x_test_scaled_df.head()"
   ]
  },
  {
   "cell_type": "code",
   "execution_count": 62,
   "metadata": {},
   "outputs": [],
   "source": [
    "y_predicted_poverty = fitted_model_poverty.predict(x_test_scaled_df[['Hispanic', 'White', 'Income', 'IncomePerCap', 'Professional', 'Production', 'Unemployment']])\n",
    "test_census['Poverty'] = y_predicted_poverty"
   ]
  },
  {
   "cell_type": "code",
   "execution_count": 63,
   "metadata": {},
   "outputs": [],
   "source": [
    "y_predicted_childPoverty = fitted_model_childPoverty.predict(x_test_scaled_df[['Percent_Women', 'Hispanic', 'White', 'Income', 'IncomePerCap', 'SelfEmployed', 'Unemployment']])\n",
    "test_census['ChildPoverty'] = y_predicted_childPoverty"
   ]
  },
  {
   "cell_type": "code",
   "execution_count": 64,
   "metadata": {},
   "outputs": [
    {
     "data": {
      "text/html": [
       "<div>\n",
       "<style scoped>\n",
       "    .dataframe tbody tr th:only-of-type {\n",
       "        vertical-align: middle;\n",
       "    }\n",
       "\n",
       "    .dataframe tbody tr th {\n",
       "        vertical-align: top;\n",
       "    }\n",
       "\n",
       "    .dataframe thead th {\n",
       "        text-align: right;\n",
       "    }\n",
       "</style>\n",
       "<table border=\"1\" class=\"dataframe\">\n",
       "  <thead>\n",
       "    <tr style=\"text-align: right;\">\n",
       "      <th></th>\n",
       "      <th>CountyId</th>\n",
       "      <th>State</th>\n",
       "      <th>County</th>\n",
       "      <th>Poverty</th>\n",
       "      <th>ChildPoverty</th>\n",
       "    </tr>\n",
       "  </thead>\n",
       "  <tbody>\n",
       "    <tr>\n",
       "      <td>0</td>\n",
       "      <td>1005</td>\n",
       "      <td>Alabama</td>\n",
       "      <td>Barbour County</td>\n",
       "      <td>27.773252</td>\n",
       "      <td>38.212651</td>\n",
       "    </tr>\n",
       "    <tr>\n",
       "      <td>1</td>\n",
       "      <td>1025</td>\n",
       "      <td>Alabama</td>\n",
       "      <td>Clarke County</td>\n",
       "      <td>27.235754</td>\n",
       "      <td>40.508661</td>\n",
       "    </tr>\n",
       "    <tr>\n",
       "      <td>2</td>\n",
       "      <td>1037</td>\n",
       "      <td>Alabama</td>\n",
       "      <td>Coosa County</td>\n",
       "      <td>22.358539</td>\n",
       "      <td>34.926116</td>\n",
       "    </tr>\n",
       "    <tr>\n",
       "      <td>3</td>\n",
       "      <td>1047</td>\n",
       "      <td>Alabama</td>\n",
       "      <td>Dallas County</td>\n",
       "      <td>31.408525</td>\n",
       "      <td>45.562577</td>\n",
       "    </tr>\n",
       "    <tr>\n",
       "      <td>4</td>\n",
       "      <td>1053</td>\n",
       "      <td>Alabama</td>\n",
       "      <td>Escambia County</td>\n",
       "      <td>26.052590</td>\n",
       "      <td>36.944246</td>\n",
       "    </tr>\n",
       "  </tbody>\n",
       "</table>\n",
       "</div>"
      ],
      "text/plain": [
       "   CountyId    State           County    Poverty  ChildPoverty\n",
       "0      1005  Alabama   Barbour County  27.773252     38.212651\n",
       "1      1025  Alabama    Clarke County  27.235754     40.508661\n",
       "2      1037  Alabama     Coosa County  22.358539     34.926116\n",
       "3      1047  Alabama    Dallas County  31.408525     45.562577\n",
       "4      1053  Alabama  Escambia County  26.052590     36.944246"
      ]
     },
     "execution_count": 64,
     "metadata": {},
     "output_type": "execute_result"
    }
   ],
   "source": [
    "sample_output = test_census[['CountyId', 'State', 'County', 'Poverty', 'ChildPoverty']]\n",
    "sample_output.head()"
   ]
  },
  {
   "cell_type": "code",
   "execution_count": 65,
   "metadata": {},
   "outputs": [
    {
     "data": {
      "text/html": [
       "<div>\n",
       "<style scoped>\n",
       "    .dataframe tbody tr th:only-of-type {\n",
       "        vertical-align: middle;\n",
       "    }\n",
       "\n",
       "    .dataframe tbody tr th {\n",
       "        vertical-align: top;\n",
       "    }\n",
       "\n",
       "    .dataframe thead th {\n",
       "        text-align: right;\n",
       "    }\n",
       "</style>\n",
       "<table border=\"1\" class=\"dataframe\">\n",
       "  <thead>\n",
       "    <tr style=\"text-align: right;\">\n",
       "      <th></th>\n",
       "      <th>CountyId</th>\n",
       "      <th>State</th>\n",
       "      <th>County</th>\n",
       "      <th>Poverty</th>\n",
       "      <th>ChildPoverty</th>\n",
       "    </tr>\n",
       "  </thead>\n",
       "  <tbody>\n",
       "    <tr>\n",
       "      <td>0</td>\n",
       "      <td>1005</td>\n",
       "      <td>Alabama</td>\n",
       "      <td>Barbour County</td>\n",
       "      <td>27.773252</td>\n",
       "      <td>38.212651</td>\n",
       "    </tr>\n",
       "    <tr>\n",
       "      <td>1</td>\n",
       "      <td>1025</td>\n",
       "      <td>Alabama</td>\n",
       "      <td>Clarke County</td>\n",
       "      <td>27.235754</td>\n",
       "      <td>40.508661</td>\n",
       "    </tr>\n",
       "    <tr>\n",
       "      <td>2</td>\n",
       "      <td>1037</td>\n",
       "      <td>Alabama</td>\n",
       "      <td>Coosa County</td>\n",
       "      <td>22.358539</td>\n",
       "      <td>34.926116</td>\n",
       "    </tr>\n",
       "    <tr>\n",
       "      <td>3</td>\n",
       "      <td>1047</td>\n",
       "      <td>Alabama</td>\n",
       "      <td>Dallas County</td>\n",
       "      <td>31.408525</td>\n",
       "      <td>45.562577</td>\n",
       "    </tr>\n",
       "    <tr>\n",
       "      <td>4</td>\n",
       "      <td>1053</td>\n",
       "      <td>Alabama</td>\n",
       "      <td>Escambia County</td>\n",
       "      <td>26.052590</td>\n",
       "      <td>36.944246</td>\n",
       "    </tr>\n",
       "  </tbody>\n",
       "</table>\n",
       "</div>"
      ],
      "text/plain": [
       "   CountyId    State           County    Poverty  ChildPoverty\n",
       "0      1005  Alabama   Barbour County  27.773252     38.212651\n",
       "1      1025  Alabama    Clarke County  27.235754     40.508661\n",
       "2      1037  Alabama     Coosa County  22.358539     34.926116\n",
       "3      1047  Alabama    Dallas County  31.408525     45.562577\n",
       "4      1053  Alabama  Escambia County  26.052590     36.944246"
      ]
     },
     "execution_count": 65,
     "metadata": {},
     "output_type": "execute_result"
    }
   ],
   "source": [
    "num_data = sample_output._get_numeric_data()\n",
    "num_data[num_data < 0] = 0\n",
    "sample_output.head()"
   ]
  },
  {
   "cell_type": "code",
   "execution_count": 66,
   "metadata": {},
   "outputs": [],
   "source": [
    "sample_output.to_excel(\"sample_output.xlsx\")"
   ]
  },
  {
   "cell_type": "code",
   "execution_count": null,
   "metadata": {},
   "outputs": [],
   "source": []
  }
 ],
 "metadata": {
  "colab": {
   "name": "cs418Project2Code.ipynb",
   "provenance": []
  },
  "kernelspec": {
   "display_name": "Python 3",
   "language": "python",
   "name": "python3"
  },
  "language_info": {
   "codemirror_mode": {
    "name": "ipython",
    "version": 3
   },
   "file_extension": ".py",
   "mimetype": "text/x-python",
   "name": "python",
   "nbconvert_exporter": "python",
   "pygments_lexer": "ipython3",
   "version": "3.7.4"
  }
 },
 "nbformat": 4,
 "nbformat_minor": 4
}
