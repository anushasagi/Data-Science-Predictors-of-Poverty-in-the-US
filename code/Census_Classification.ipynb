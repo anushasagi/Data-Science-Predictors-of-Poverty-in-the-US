{
 "cells": [
  {
   "cell_type": "markdown",
   "metadata": {
    "colab_type": "text",
    "id": "nHA5hjL4V5LM"
   },
   "source": [
    "CS 418: Final Project - Classification\n",
    "\n",
    "Authors: Anusha Sagi, Fatima Kahack, Lydia Tse\n",
    "\n",
    "Description: In this code, we will be utilizing regression to determine the poverty and child poverty of a specified county\n"
   ]
  },
  {
   "cell_type": "code",
   "execution_count": 1,
   "metadata": {
    "colab": {},
    "colab_type": "code",
    "id": "zRmvgZ5IV5LN"
   },
   "outputs": [],
   "source": [
    "# Load libraries\n",
    "import pandas as pd\n",
    "import numpy as np\n",
    "from sklearn.model_selection import train_test_split\n",
    "from sklearn.preprocessing import StandardScaler\n",
    "from sklearn import linear_model\n",
    "import matplotlib.pyplot as plt\n",
    "import seaborn as sns\n",
    "from sklearn.tree import DecisionTreeClassifier\n",
    "from sklearn.neighbors import KNeighborsClassifier\n",
    "from sklearn.naive_bayes import GaussianNB\n",
    "from sklearn.svm import SVC\n",
    "from sklearn import metrics\n",
    "from scipy.cluster.hierarchy import linkage, fcluster\n",
    "from sklearn.cluster import KMeans, DBSCAN\n",
    "from sklearn.metrics import mean_squared_error\n",
    "import math"
   ]
  },
  {
   "cell_type": "code",
   "execution_count": 2,
   "metadata": {
    "colab": {
     "base_uri": "https://localhost:8080/",
     "height": 326
    },
    "colab_type": "code",
    "executionInfo": {
     "elapsed": 1074,
     "status": "ok",
     "timestamp": 1575244690177,
     "user": {
      "displayName": "Lydia Tse",
      "photoUrl": "",
      "userId": "08063489847245829399"
     },
     "user_tz": 360
    },
    "id": "qzt96XMiV5LS",
    "outputId": "16ff2f3c-80be-4a8a-9658-96f4fb3decb1"
   },
   "outputs": [
    {
     "data": {
      "text/html": [
       "<div>\n",
       "<style scoped>\n",
       "    .dataframe tbody tr th:only-of-type {\n",
       "        vertical-align: middle;\n",
       "    }\n",
       "\n",
       "    .dataframe tbody tr th {\n",
       "        vertical-align: top;\n",
       "    }\n",
       "\n",
       "    .dataframe thead th {\n",
       "        text-align: right;\n",
       "    }\n",
       "</style>\n",
       "<table border=\"1\" class=\"dataframe\">\n",
       "  <thead>\n",
       "    <tr style=\"text-align: right;\">\n",
       "      <th></th>\n",
       "      <th>Unnamed: 0</th>\n",
       "      <th>CountyId</th>\n",
       "      <th>State</th>\n",
       "      <th>County</th>\n",
       "      <th>TotalPop</th>\n",
       "      <th>Percent_Women</th>\n",
       "      <th>Hispanic</th>\n",
       "      <th>White</th>\n",
       "      <th>Black</th>\n",
       "      <th>Income</th>\n",
       "      <th>...</th>\n",
       "      <th>WorkAtHome</th>\n",
       "      <th>MeanCommute</th>\n",
       "      <th>PrivateWork</th>\n",
       "      <th>PublicWork</th>\n",
       "      <th>SelfEmployed</th>\n",
       "      <th>Unemployment</th>\n",
       "      <th>Poverty</th>\n",
       "      <th>ChildPoverty</th>\n",
       "      <th>Poverty Category</th>\n",
       "      <th>Child_Poverty Category</th>\n",
       "    </tr>\n",
       "  </thead>\n",
       "  <tbody>\n",
       "    <tr>\n",
       "      <th>0</th>\n",
       "      <td>0</td>\n",
       "      <td>1001</td>\n",
       "      <td>Alabama</td>\n",
       "      <td>Autauga County</td>\n",
       "      <td>55036.0</td>\n",
       "      <td>51.124718</td>\n",
       "      <td>2.7</td>\n",
       "      <td>75.4</td>\n",
       "      <td>18.9</td>\n",
       "      <td>55317</td>\n",
       "      <td>...</td>\n",
       "      <td>2.5</td>\n",
       "      <td>25.8</td>\n",
       "      <td>74.1</td>\n",
       "      <td>20.2</td>\n",
       "      <td>5.6</td>\n",
       "      <td>5.2</td>\n",
       "      <td>13.7</td>\n",
       "      <td>20.1</td>\n",
       "      <td>0</td>\n",
       "      <td>0</td>\n",
       "    </tr>\n",
       "    <tr>\n",
       "      <th>1</th>\n",
       "      <td>1</td>\n",
       "      <td>1003</td>\n",
       "      <td>Alabama</td>\n",
       "      <td>Baldwin County</td>\n",
       "      <td>203360.0</td>\n",
       "      <td>51.058714</td>\n",
       "      <td>4.4</td>\n",
       "      <td>83.1</td>\n",
       "      <td>9.5</td>\n",
       "      <td>52562</td>\n",
       "      <td>...</td>\n",
       "      <td>5.6</td>\n",
       "      <td>27.0</td>\n",
       "      <td>80.7</td>\n",
       "      <td>12.9</td>\n",
       "      <td>6.3</td>\n",
       "      <td>5.5</td>\n",
       "      <td>11.8</td>\n",
       "      <td>16.1</td>\n",
       "      <td>0</td>\n",
       "      <td>0</td>\n",
       "    </tr>\n",
       "    <tr>\n",
       "      <th>2</th>\n",
       "      <td>2</td>\n",
       "      <td>1007</td>\n",
       "      <td>Alabama</td>\n",
       "      <td>Bibb County</td>\n",
       "      <td>22580.0</td>\n",
       "      <td>45.744021</td>\n",
       "      <td>2.4</td>\n",
       "      <td>74.6</td>\n",
       "      <td>22.0</td>\n",
       "      <td>43404</td>\n",
       "      <td>...</td>\n",
       "      <td>1.5</td>\n",
       "      <td>30.0</td>\n",
       "      <td>76.0</td>\n",
       "      <td>17.4</td>\n",
       "      <td>6.3</td>\n",
       "      <td>8.2</td>\n",
       "      <td>15.2</td>\n",
       "      <td>26.6</td>\n",
       "      <td>0</td>\n",
       "      <td>1</td>\n",
       "    </tr>\n",
       "    <tr>\n",
       "      <th>3</th>\n",
       "      <td>3</td>\n",
       "      <td>1009</td>\n",
       "      <td>Alabama</td>\n",
       "      <td>Blount County</td>\n",
       "      <td>57667.0</td>\n",
       "      <td>50.595661</td>\n",
       "      <td>9.0</td>\n",
       "      <td>87.4</td>\n",
       "      <td>1.5</td>\n",
       "      <td>47412</td>\n",
       "      <td>...</td>\n",
       "      <td>2.1</td>\n",
       "      <td>35.0</td>\n",
       "      <td>83.9</td>\n",
       "      <td>11.9</td>\n",
       "      <td>4.0</td>\n",
       "      <td>4.9</td>\n",
       "      <td>15.6</td>\n",
       "      <td>25.4</td>\n",
       "      <td>0</td>\n",
       "      <td>1</td>\n",
       "    </tr>\n",
       "    <tr>\n",
       "      <th>4</th>\n",
       "      <td>4</td>\n",
       "      <td>1011</td>\n",
       "      <td>Alabama</td>\n",
       "      <td>Bullock County</td>\n",
       "      <td>10478.0</td>\n",
       "      <td>46.401985</td>\n",
       "      <td>0.3</td>\n",
       "      <td>21.6</td>\n",
       "      <td>75.6</td>\n",
       "      <td>29655</td>\n",
       "      <td>...</td>\n",
       "      <td>3.0</td>\n",
       "      <td>29.8</td>\n",
       "      <td>81.4</td>\n",
       "      <td>13.6</td>\n",
       "      <td>5.0</td>\n",
       "      <td>12.1</td>\n",
       "      <td>28.5</td>\n",
       "      <td>50.4</td>\n",
       "      <td>1</td>\n",
       "      <td>1</td>\n",
       "    </tr>\n",
       "  </tbody>\n",
       "</table>\n",
       "<p>5 rows × 25 columns</p>\n",
       "</div>"
      ],
      "text/plain": [
       "   Unnamed: 0  CountyId    State          County  TotalPop  Percent_Women  \\\n",
       "0           0      1001  Alabama  Autauga County   55036.0      51.124718   \n",
       "1           1      1003  Alabama  Baldwin County  203360.0      51.058714   \n",
       "2           2      1007  Alabama     Bibb County   22580.0      45.744021   \n",
       "3           3      1009  Alabama   Blount County   57667.0      50.595661   \n",
       "4           4      1011  Alabama  Bullock County   10478.0      46.401985   \n",
       "\n",
       "   Hispanic  White  Black  Income  ...  WorkAtHome  MeanCommute  PrivateWork  \\\n",
       "0       2.7   75.4   18.9   55317  ...         2.5         25.8         74.1   \n",
       "1       4.4   83.1    9.5   52562  ...         5.6         27.0         80.7   \n",
       "2       2.4   74.6   22.0   43404  ...         1.5         30.0         76.0   \n",
       "3       9.0   87.4    1.5   47412  ...         2.1         35.0         83.9   \n",
       "4       0.3   21.6   75.6   29655  ...         3.0         29.8         81.4   \n",
       "\n",
       "   PublicWork  SelfEmployed  Unemployment  Poverty  ChildPoverty  \\\n",
       "0        20.2           5.6           5.2     13.7          20.1   \n",
       "1        12.9           6.3           5.5     11.8          16.1   \n",
       "2        17.4           6.3           8.2     15.2          26.6   \n",
       "3        11.9           4.0           4.9     15.6          25.4   \n",
       "4        13.6           5.0          12.1     28.5          50.4   \n",
       "\n",
       "   Poverty Category  Child_Poverty Category  \n",
       "0                 0                       0  \n",
       "1                 0                       0  \n",
       "2                 0                       1  \n",
       "3                 0                       1  \n",
       "4                 1                       1  \n",
       "\n",
       "[5 rows x 25 columns]"
      ]
     },
     "execution_count": 2,
     "metadata": {},
     "output_type": "execute_result"
    }
   ],
   "source": [
    "# Load Election dataset\n",
    "data_census = pd.read_csv('train_dp_output.csv')\n",
    "data_census.head()"
   ]
  },
  {
   "cell_type": "code",
   "execution_count": 3,
   "metadata": {
    "colab": {
     "base_uri": "https://localhost:8080/",
     "height": 326
    },
    "colab_type": "code",
    "executionInfo": {
     "elapsed": 1060,
     "status": "ok",
     "timestamp": 1575244690178,
     "user": {
      "displayName": "Lydia Tse",
      "photoUrl": "",
      "userId": "08063489847245829399"
     },
     "user_tz": 360
    },
    "id": "Ci8SQdv-V5LV",
    "outputId": "209c653f-dc5f-466c-a2a6-7e0f947e3612",
    "scrolled": true
   },
   "outputs": [
    {
     "data": {
      "text/html": [
       "<div>\n",
       "<style scoped>\n",
       "    .dataframe tbody tr th:only-of-type {\n",
       "        vertical-align: middle;\n",
       "    }\n",
       "\n",
       "    .dataframe tbody tr th {\n",
       "        vertical-align: top;\n",
       "    }\n",
       "\n",
       "    .dataframe thead th {\n",
       "        text-align: right;\n",
       "    }\n",
       "</style>\n",
       "<table border=\"1\" class=\"dataframe\">\n",
       "  <thead>\n",
       "    <tr style=\"text-align: right;\">\n",
       "      <th></th>\n",
       "      <th>CountyId</th>\n",
       "      <th>State</th>\n",
       "      <th>County</th>\n",
       "      <th>TotalPop</th>\n",
       "      <th>Percent_Women</th>\n",
       "      <th>Hispanic</th>\n",
       "      <th>White</th>\n",
       "      <th>Black</th>\n",
       "      <th>Income</th>\n",
       "      <th>IncomePerCap</th>\n",
       "      <th>...</th>\n",
       "      <th>WorkAtHome</th>\n",
       "      <th>MeanCommute</th>\n",
       "      <th>PrivateWork</th>\n",
       "      <th>PublicWork</th>\n",
       "      <th>SelfEmployed</th>\n",
       "      <th>Unemployment</th>\n",
       "      <th>Poverty</th>\n",
       "      <th>ChildPoverty</th>\n",
       "      <th>Poverty Category</th>\n",
       "      <th>Child_Poverty Category</th>\n",
       "    </tr>\n",
       "  </thead>\n",
       "  <tbody>\n",
       "    <tr>\n",
       "      <th>0</th>\n",
       "      <td>1001</td>\n",
       "      <td>Alabama</td>\n",
       "      <td>Autauga County</td>\n",
       "      <td>55036.0</td>\n",
       "      <td>51.124718</td>\n",
       "      <td>2.7</td>\n",
       "      <td>75.4</td>\n",
       "      <td>18.9</td>\n",
       "      <td>55317</td>\n",
       "      <td>27824</td>\n",
       "      <td>...</td>\n",
       "      <td>2.5</td>\n",
       "      <td>25.8</td>\n",
       "      <td>74.1</td>\n",
       "      <td>20.2</td>\n",
       "      <td>5.6</td>\n",
       "      <td>5.2</td>\n",
       "      <td>13.7</td>\n",
       "      <td>20.1</td>\n",
       "      <td>0</td>\n",
       "      <td>0</td>\n",
       "    </tr>\n",
       "    <tr>\n",
       "      <th>1</th>\n",
       "      <td>1003</td>\n",
       "      <td>Alabama</td>\n",
       "      <td>Baldwin County</td>\n",
       "      <td>203360.0</td>\n",
       "      <td>51.058714</td>\n",
       "      <td>4.4</td>\n",
       "      <td>83.1</td>\n",
       "      <td>9.5</td>\n",
       "      <td>52562</td>\n",
       "      <td>29364</td>\n",
       "      <td>...</td>\n",
       "      <td>5.6</td>\n",
       "      <td>27.0</td>\n",
       "      <td>80.7</td>\n",
       "      <td>12.9</td>\n",
       "      <td>6.3</td>\n",
       "      <td>5.5</td>\n",
       "      <td>11.8</td>\n",
       "      <td>16.1</td>\n",
       "      <td>0</td>\n",
       "      <td>0</td>\n",
       "    </tr>\n",
       "    <tr>\n",
       "      <th>2</th>\n",
       "      <td>1007</td>\n",
       "      <td>Alabama</td>\n",
       "      <td>Bibb County</td>\n",
       "      <td>22580.0</td>\n",
       "      <td>45.744021</td>\n",
       "      <td>2.4</td>\n",
       "      <td>74.6</td>\n",
       "      <td>22.0</td>\n",
       "      <td>43404</td>\n",
       "      <td>20911</td>\n",
       "      <td>...</td>\n",
       "      <td>1.5</td>\n",
       "      <td>30.0</td>\n",
       "      <td>76.0</td>\n",
       "      <td>17.4</td>\n",
       "      <td>6.3</td>\n",
       "      <td>8.2</td>\n",
       "      <td>15.2</td>\n",
       "      <td>26.6</td>\n",
       "      <td>0</td>\n",
       "      <td>1</td>\n",
       "    </tr>\n",
       "    <tr>\n",
       "      <th>3</th>\n",
       "      <td>1009</td>\n",
       "      <td>Alabama</td>\n",
       "      <td>Blount County</td>\n",
       "      <td>57667.0</td>\n",
       "      <td>50.595661</td>\n",
       "      <td>9.0</td>\n",
       "      <td>87.4</td>\n",
       "      <td>1.5</td>\n",
       "      <td>47412</td>\n",
       "      <td>22021</td>\n",
       "      <td>...</td>\n",
       "      <td>2.1</td>\n",
       "      <td>35.0</td>\n",
       "      <td>83.9</td>\n",
       "      <td>11.9</td>\n",
       "      <td>4.0</td>\n",
       "      <td>4.9</td>\n",
       "      <td>15.6</td>\n",
       "      <td>25.4</td>\n",
       "      <td>0</td>\n",
       "      <td>1</td>\n",
       "    </tr>\n",
       "    <tr>\n",
       "      <th>4</th>\n",
       "      <td>1011</td>\n",
       "      <td>Alabama</td>\n",
       "      <td>Bullock County</td>\n",
       "      <td>10478.0</td>\n",
       "      <td>46.401985</td>\n",
       "      <td>0.3</td>\n",
       "      <td>21.6</td>\n",
       "      <td>75.6</td>\n",
       "      <td>29655</td>\n",
       "      <td>20856</td>\n",
       "      <td>...</td>\n",
       "      <td>3.0</td>\n",
       "      <td>29.8</td>\n",
       "      <td>81.4</td>\n",
       "      <td>13.6</td>\n",
       "      <td>5.0</td>\n",
       "      <td>12.1</td>\n",
       "      <td>28.5</td>\n",
       "      <td>50.4</td>\n",
       "      <td>1</td>\n",
       "      <td>1</td>\n",
       "    </tr>\n",
       "  </tbody>\n",
       "</table>\n",
       "<p>5 rows × 24 columns</p>\n",
       "</div>"
      ],
      "text/plain": [
       "   CountyId    State          County  TotalPop  Percent_Women  Hispanic  \\\n",
       "0      1001  Alabama  Autauga County   55036.0      51.124718       2.7   \n",
       "1      1003  Alabama  Baldwin County  203360.0      51.058714       4.4   \n",
       "2      1007  Alabama     Bibb County   22580.0      45.744021       2.4   \n",
       "3      1009  Alabama   Blount County   57667.0      50.595661       9.0   \n",
       "4      1011  Alabama  Bullock County   10478.0      46.401985       0.3   \n",
       "\n",
       "   White  Black  Income  IncomePerCap  ...  WorkAtHome  MeanCommute  \\\n",
       "0   75.4   18.9   55317         27824  ...         2.5         25.8   \n",
       "1   83.1    9.5   52562         29364  ...         5.6         27.0   \n",
       "2   74.6   22.0   43404         20911  ...         1.5         30.0   \n",
       "3   87.4    1.5   47412         22021  ...         2.1         35.0   \n",
       "4   21.6   75.6   29655         20856  ...         3.0         29.8   \n",
       "\n",
       "   PrivateWork  PublicWork  SelfEmployed  Unemployment  Poverty  ChildPoverty  \\\n",
       "0         74.1        20.2           5.6           5.2     13.7          20.1   \n",
       "1         80.7        12.9           6.3           5.5     11.8          16.1   \n",
       "2         76.0        17.4           6.3           8.2     15.2          26.6   \n",
       "3         83.9        11.9           4.0           4.9     15.6          25.4   \n",
       "4         81.4        13.6           5.0          12.1     28.5          50.4   \n",
       "\n",
       "   Poverty Category  Child_Poverty Category  \n",
       "0                 0                       0  \n",
       "1                 0                       0  \n",
       "2                 0                       1  \n",
       "3                 0                       1  \n",
       "4                 1                       1  \n",
       "\n",
       "[5 rows x 24 columns]"
      ]
     },
     "execution_count": 3,
     "metadata": {},
     "output_type": "execute_result"
    }
   ],
   "source": [
    "#Remove unnamed first column\n",
    "data_census = data_census.loc[:, ~data_census.columns.str.contains('^Unnamed')]\n",
    "data_census.head()"
   ]
  },
  {
   "cell_type": "code",
   "execution_count": 4,
   "metadata": {
    "colab": {},
    "colab_type": "code",
    "id": "OR0awRoFV5LY"
   },
   "outputs": [],
   "source": [
    "x_train_full, x_validation_full, y_train, y_validation = train_test_split(data_census[['CountyId', 'State', 'County', 'TotalPop', 'Percent_Women', 'Hispanic', 'White', 'Black', 'Income', 'IncomePerCap', 'Professional', 'Service', 'Production', 'Carpool', 'WorkAtHome', 'PrivateWork', 'PublicWork', 'SelfEmployed', 'Unemployment']], data_census['Poverty Category'], test_size = 0.25, random_state = 0)"
   ]
  },
  {
   "cell_type": "code",
   "execution_count": 5,
   "metadata": {
    "colab": {},
    "colab_type": "code",
    "id": "lRNCnTC5V5La"
   },
   "outputs": [],
   "source": [
    "# Selecting required variables for x_train\n",
    "x_train = x_train_full.select_dtypes(include=[np.int64,np.float64])\n",
    "x_train = x_train.iloc[:,1:17]\n",
    "\n",
    "# Selecting required variables for x_validation\n",
    "x_validation = x_validation_full.select_dtypes(include=[np.int64,np.float64])\n",
    "x_validation = x_validation.iloc[:,1:17]\n",
    "\n",
    "# Standardizing the data\n",
    "scaler = StandardScaler()\n",
    "scaler.fit(x_train)\n",
    "x_train_scaled = scaler.transform(x_train)\n",
    "x_validation_scaled = scaler.transform(x_validation)\n",
    "x_train_scaled_df = pd.DataFrame(x_train_scaled,index = x_train.index,columns=x_train.columns)\n",
    "x_validation_scaled_df = pd.DataFrame(x_validation_scaled,index = x_validation.index,columns=x_validation.columns)"
   ]
  },
  {
   "cell_type": "code",
   "execution_count": 6,
   "metadata": {
    "colab": {
     "base_uri": "https://localhost:8080/",
     "height": 224
    },
    "colab_type": "code",
    "executionInfo": {
     "elapsed": 1246,
     "status": "ok",
     "timestamp": 1575244690381,
     "user": {
      "displayName": "Lydia Tse",
      "photoUrl": "",
      "userId": "08063489847245829399"
     },
     "user_tz": 360
    },
    "id": "FKfGTXIHV5Ld",
    "outputId": "56bab8b8-2d91-43c1-824b-77ad8704251a"
   },
   "outputs": [
    {
     "data": {
      "text/html": [
       "<div>\n",
       "<style scoped>\n",
       "    .dataframe tbody tr th:only-of-type {\n",
       "        vertical-align: middle;\n",
       "    }\n",
       "\n",
       "    .dataframe tbody tr th {\n",
       "        vertical-align: top;\n",
       "    }\n",
       "\n",
       "    .dataframe thead th {\n",
       "        text-align: right;\n",
       "    }\n",
       "</style>\n",
       "<table border=\"1\" class=\"dataframe\">\n",
       "  <thead>\n",
       "    <tr style=\"text-align: right;\">\n",
       "      <th></th>\n",
       "      <th>TotalPop</th>\n",
       "      <th>Percent_Women</th>\n",
       "      <th>Hispanic</th>\n",
       "      <th>White</th>\n",
       "      <th>Black</th>\n",
       "      <th>Income</th>\n",
       "      <th>IncomePerCap</th>\n",
       "      <th>Professional</th>\n",
       "      <th>Service</th>\n",
       "      <th>Production</th>\n",
       "      <th>Carpool</th>\n",
       "      <th>WorkAtHome</th>\n",
       "      <th>PrivateWork</th>\n",
       "      <th>PublicWork</th>\n",
       "      <th>SelfEmployed</th>\n",
       "      <th>Unemployment</th>\n",
       "    </tr>\n",
       "  </thead>\n",
       "  <tbody>\n",
       "    <tr>\n",
       "      <th>1380</th>\n",
       "      <td>-0.118525</td>\n",
       "      <td>0.045865</td>\n",
       "      <td>-0.424669</td>\n",
       "      <td>0.689223</td>\n",
       "      <td>-0.436854</td>\n",
       "      <td>0.351729</td>\n",
       "      <td>0.262281</td>\n",
       "      <td>-0.089405</td>\n",
       "      <td>0.020679</td>\n",
       "      <td>0.311605</td>\n",
       "      <td>-0.525450</td>\n",
       "      <td>-0.722745</td>\n",
       "      <td>0.273757</td>\n",
       "      <td>0.070351</td>\n",
       "      <td>-0.627322</td>\n",
       "      <td>-0.399510</td>\n",
       "    </tr>\n",
       "    <tr>\n",
       "      <th>712</th>\n",
       "      <td>-0.204940</td>\n",
       "      <td>0.230015</td>\n",
       "      <td>-0.377088</td>\n",
       "      <td>0.737585</td>\n",
       "      <td>-0.534862</td>\n",
       "      <td>0.566678</td>\n",
       "      <td>0.567576</td>\n",
       "      <td>0.684500</td>\n",
       "      <td>-0.272313</td>\n",
       "      <td>0.465626</td>\n",
       "      <td>-0.828094</td>\n",
       "      <td>-0.486424</td>\n",
       "      <td>0.430169</td>\n",
       "      <td>-0.701345</td>\n",
       "      <td>0.233632</td>\n",
       "      <td>-1.099195</td>\n",
       "    </tr>\n",
       "    <tr>\n",
       "      <th>31</th>\n",
       "      <td>0.737568</td>\n",
       "      <td>0.484634</td>\n",
       "      <td>-0.340081</td>\n",
       "      <td>-0.436288</td>\n",
       "      <td>1.075267</td>\n",
       "      <td>0.889286</td>\n",
       "      <td>1.285452</td>\n",
       "      <td>2.232309</td>\n",
       "      <td>-0.778390</td>\n",
       "      <td>-0.903448</td>\n",
       "      <td>-1.197992</td>\n",
       "      <td>-0.452664</td>\n",
       "      <td>0.195551</td>\n",
       "      <td>0.306584</td>\n",
       "      <td>-0.855222</td>\n",
       "      <td>-0.022756</td>\n",
       "    </tr>\n",
       "    <tr>\n",
       "      <th>1969</th>\n",
       "      <td>-0.095083</td>\n",
       "      <td>0.500355</td>\n",
       "      <td>0.082856</td>\n",
       "      <td>-0.493443</td>\n",
       "      <td>0.886252</td>\n",
       "      <td>-0.045923</td>\n",
       "      <td>-0.098784</td>\n",
       "      <td>0.123039</td>\n",
       "      <td>-0.591940</td>\n",
       "      <td>0.380059</td>\n",
       "      <td>-1.164364</td>\n",
       "      <td>-0.317624</td>\n",
       "      <td>0.795131</td>\n",
       "      <td>-0.669847</td>\n",
       "      <td>-0.450067</td>\n",
       "      <td>0.165621</td>\n",
       "    </tr>\n",
       "    <tr>\n",
       "      <th>655</th>\n",
       "      <td>-0.010013</td>\n",
       "      <td>-0.916455</td>\n",
       "      <td>-0.414095</td>\n",
       "      <td>0.416639</td>\n",
       "      <td>-0.471857</td>\n",
       "      <td>0.251228</td>\n",
       "      <td>0.246021</td>\n",
       "      <td>2.293007</td>\n",
       "      <td>-0.219042</td>\n",
       "      <td>-1.091695</td>\n",
       "      <td>-1.231619</td>\n",
       "      <td>0.087498</td>\n",
       "      <td>-1.146986</td>\n",
       "      <td>1.928721</td>\n",
       "      <td>-0.804578</td>\n",
       "      <td>-0.587887</td>\n",
       "    </tr>\n",
       "  </tbody>\n",
       "</table>\n",
       "</div>"
      ],
      "text/plain": [
       "      TotalPop  Percent_Women  Hispanic     White     Black    Income  \\\n",
       "1380 -0.118525       0.045865 -0.424669  0.689223 -0.436854  0.351729   \n",
       "712  -0.204940       0.230015 -0.377088  0.737585 -0.534862  0.566678   \n",
       "31    0.737568       0.484634 -0.340081 -0.436288  1.075267  0.889286   \n",
       "1969 -0.095083       0.500355  0.082856 -0.493443  0.886252 -0.045923   \n",
       "655  -0.010013      -0.916455 -0.414095  0.416639 -0.471857  0.251228   \n",
       "\n",
       "      IncomePerCap  Professional   Service  Production   Carpool  WorkAtHome  \\\n",
       "1380      0.262281     -0.089405  0.020679    0.311605 -0.525450   -0.722745   \n",
       "712       0.567576      0.684500 -0.272313    0.465626 -0.828094   -0.486424   \n",
       "31        1.285452      2.232309 -0.778390   -0.903448 -1.197992   -0.452664   \n",
       "1969     -0.098784      0.123039 -0.591940    0.380059 -1.164364   -0.317624   \n",
       "655       0.246021      2.293007 -0.219042   -1.091695 -1.231619    0.087498   \n",
       "\n",
       "      PrivateWork  PublicWork  SelfEmployed  Unemployment  \n",
       "1380     0.273757    0.070351     -0.627322     -0.399510  \n",
       "712      0.430169   -0.701345      0.233632     -1.099195  \n",
       "31       0.195551    0.306584     -0.855222     -0.022756  \n",
       "1969     0.795131   -0.669847     -0.450067      0.165621  \n",
       "655     -1.146986    1.928721     -0.804578     -0.587887  "
      ]
     },
     "execution_count": 6,
     "metadata": {},
     "output_type": "execute_result"
    }
   ],
   "source": [
    "x_train_scaled_df.head()"
   ]
  },
  {
   "cell_type": "code",
   "execution_count": 7,
   "metadata": {
    "colab": {
     "base_uri": "https://localhost:8080/",
     "height": 224
    },
    "colab_type": "code",
    "executionInfo": {
     "elapsed": 1235,
     "status": "ok",
     "timestamp": 1575244690383,
     "user": {
      "displayName": "Lydia Tse",
      "photoUrl": "",
      "userId": "08063489847245829399"
     },
     "user_tz": 360
    },
    "id": "l_BCz3siV5Lg",
    "outputId": "31a22938-bd55-4629-8866-be0f4ed0c772"
   },
   "outputs": [
    {
     "data": {
      "text/html": [
       "<div>\n",
       "<style scoped>\n",
       "    .dataframe tbody tr th:only-of-type {\n",
       "        vertical-align: middle;\n",
       "    }\n",
       "\n",
       "    .dataframe tbody tr th {\n",
       "        vertical-align: top;\n",
       "    }\n",
       "\n",
       "    .dataframe thead th {\n",
       "        text-align: right;\n",
       "    }\n",
       "</style>\n",
       "<table border=\"1\" class=\"dataframe\">\n",
       "  <thead>\n",
       "    <tr style=\"text-align: right;\">\n",
       "      <th></th>\n",
       "      <th>TotalPop</th>\n",
       "      <th>Percent_Women</th>\n",
       "      <th>Hispanic</th>\n",
       "      <th>White</th>\n",
       "      <th>Black</th>\n",
       "      <th>Income</th>\n",
       "      <th>IncomePerCap</th>\n",
       "      <th>Professional</th>\n",
       "      <th>Service</th>\n",
       "      <th>Production</th>\n",
       "      <th>Carpool</th>\n",
       "      <th>WorkAtHome</th>\n",
       "      <th>PrivateWork</th>\n",
       "      <th>PublicWork</th>\n",
       "      <th>SelfEmployed</th>\n",
       "      <th>Unemployment</th>\n",
       "    </tr>\n",
       "  </thead>\n",
       "  <tbody>\n",
       "    <tr>\n",
       "      <th>2054</th>\n",
       "      <td>-0.266679</td>\n",
       "      <td>-1.052672</td>\n",
       "      <td>1.690019</td>\n",
       "      <td>-1.210077</td>\n",
       "      <td>-0.205836</td>\n",
       "      <td>-0.839971</td>\n",
       "      <td>-1.047797</td>\n",
       "      <td>-0.195627</td>\n",
       "      <td>0.287036</td>\n",
       "      <td>-0.184684</td>\n",
       "      <td>-0.794467</td>\n",
       "      <td>-0.081303</td>\n",
       "      <td>-0.351891</td>\n",
       "      <td>-0.276125</td>\n",
       "      <td>1.170553</td>\n",
       "      <td>-0.184222</td>\n",
       "    </tr>\n",
       "    <tr>\n",
       "      <th>743</th>\n",
       "      <td>-0.271908</td>\n",
       "      <td>-0.538295</td>\n",
       "      <td>1.272368</td>\n",
       "      <td>-0.572580</td>\n",
       "      <td>-0.597867</td>\n",
       "      <td>0.607557</td>\n",
       "      <td>-0.164433</td>\n",
       "      <td>0.214087</td>\n",
       "      <td>-1.843815</td>\n",
       "      <td>0.499853</td>\n",
       "      <td>0.819632</td>\n",
       "      <td>-0.283863</td>\n",
       "      <td>-0.404029</td>\n",
       "      <td>-0.354869</td>\n",
       "      <td>1.423774</td>\n",
       "      <td>-0.560976</td>\n",
       "    </tr>\n",
       "    <tr>\n",
       "      <th>2298</th>\n",
       "      <td>-0.104267</td>\n",
       "      <td>-0.877347</td>\n",
       "      <td>-0.498683</td>\n",
       "      <td>0.829912</td>\n",
       "      <td>-0.513861</td>\n",
       "      <td>0.440793</td>\n",
       "      <td>0.189490</td>\n",
       "      <td>-0.241151</td>\n",
       "      <td>-0.378855</td>\n",
       "      <td>1.030369</td>\n",
       "      <td>-0.491823</td>\n",
       "      <td>0.425100</td>\n",
       "      <td>0.912440</td>\n",
       "      <td>-1.047821</td>\n",
       "      <td>-0.120879</td>\n",
       "      <td>-0.776263</td>\n",
       "    </tr>\n",
       "    <tr>\n",
       "      <th>1534</th>\n",
       "      <td>0.802903</td>\n",
       "      <td>0.416973</td>\n",
       "      <td>-0.350655</td>\n",
       "      <td>0.315519</td>\n",
       "      <td>-0.058824</td>\n",
       "      <td>0.953482</td>\n",
       "      <td>0.603591</td>\n",
       "      <td>1.048690</td>\n",
       "      <td>-0.432127</td>\n",
       "      <td>-0.338705</td>\n",
       "      <td>-0.760840</td>\n",
       "      <td>-0.182583</td>\n",
       "      <td>1.342573</td>\n",
       "      <td>-1.016323</td>\n",
       "      <td>-0.931188</td>\n",
       "      <td>-0.318777</td>\n",
       "    </tr>\n",
       "    <tr>\n",
       "      <th>1841</th>\n",
       "      <td>-0.213595</td>\n",
       "      <td>0.389020</td>\n",
       "      <td>-0.466963</td>\n",
       "      <td>0.746378</td>\n",
       "      <td>-0.345847</td>\n",
       "      <td>-0.750760</td>\n",
       "      <td>-0.371559</td>\n",
       "      <td>-1.121278</td>\n",
       "      <td>0.260400</td>\n",
       "      <td>1.150163</td>\n",
       "      <td>-1.298873</td>\n",
       "      <td>1.235343</td>\n",
       "      <td>-0.390994</td>\n",
       "      <td>-0.039891</td>\n",
       "      <td>0.841364</td>\n",
       "      <td>0.784573</td>\n",
       "    </tr>\n",
       "  </tbody>\n",
       "</table>\n",
       "</div>"
      ],
      "text/plain": [
       "      TotalPop  Percent_Women  Hispanic     White     Black    Income  \\\n",
       "2054 -0.266679      -1.052672  1.690019 -1.210077 -0.205836 -0.839971   \n",
       "743  -0.271908      -0.538295  1.272368 -0.572580 -0.597867  0.607557   \n",
       "2298 -0.104267      -0.877347 -0.498683  0.829912 -0.513861  0.440793   \n",
       "1534  0.802903       0.416973 -0.350655  0.315519 -0.058824  0.953482   \n",
       "1841 -0.213595       0.389020 -0.466963  0.746378 -0.345847 -0.750760   \n",
       "\n",
       "      IncomePerCap  Professional   Service  Production   Carpool  WorkAtHome  \\\n",
       "2054     -1.047797     -0.195627  0.287036   -0.184684 -0.794467   -0.081303   \n",
       "743      -0.164433      0.214087 -1.843815    0.499853  0.819632   -0.283863   \n",
       "2298      0.189490     -0.241151 -0.378855    1.030369 -0.491823    0.425100   \n",
       "1534      0.603591      1.048690 -0.432127   -0.338705 -0.760840   -0.182583   \n",
       "1841     -0.371559     -1.121278  0.260400    1.150163 -1.298873    1.235343   \n",
       "\n",
       "      PrivateWork  PublicWork  SelfEmployed  Unemployment  \n",
       "2054    -0.351891   -0.276125      1.170553     -0.184222  \n",
       "743     -0.404029   -0.354869      1.423774     -0.560976  \n",
       "2298     0.912440   -1.047821     -0.120879     -0.776263  \n",
       "1534     1.342573   -1.016323     -0.931188     -0.318777  \n",
       "1841    -0.390994   -0.039891      0.841364      0.784573  "
      ]
     },
     "execution_count": 7,
     "metadata": {},
     "output_type": "execute_result"
    }
   ],
   "source": [
    "x_validation_scaled_df.head()"
   ]
  },
  {
   "cell_type": "markdown",
   "metadata": {
    "colab_type": "text",
    "id": "DgiZLsaAwRlD"
   },
   "source": [
    "#                                    MODELS FOR POVERTY \n",
    "\n"
   ]
  },
  {
   "cell_type": "markdown",
   "metadata": {
    "colab_type": "text",
    "id": "yVFBW11-wrOl"
   },
   "source": [
    "---"
   ]
  },
  {
   "cell_type": "markdown",
   "metadata": {
    "colab_type": "text",
    "id": "eJQgDaeZwtWM"
   },
   "source": [
    "# Classification Model Used: Decision Tree Classifier "
   ]
  },
  {
   "cell_type": "markdown",
   "metadata": {
    "colab_type": "text",
    "id": "p0YdW6LvwwJO"
   },
   "source": [
    "\n",
    "MODEL 1 \n",
    "\n",
    "    - Variables used: All"
   ]
  },
  {
   "cell_type": "code",
   "execution_count": 8,
   "metadata": {
    "colab": {
     "base_uri": "https://localhost:8080/",
     "height": 119
    },
    "colab_type": "code",
    "executionInfo": {
     "elapsed": 1233,
     "status": "ok",
     "timestamp": 1575244690383,
     "user": {
      "displayName": "Lydia Tse",
      "photoUrl": "",
      "userId": "08063489847245829399"
     },
     "user_tz": 360
    },
    "id": "e3t3jQW7V5Lk",
    "outputId": "7089469c-542d-44ef-bc9f-101de11b42e0"
   },
   "outputs": [
    {
     "data": {
      "text/plain": [
       "DecisionTreeClassifier(class_weight=None, criterion='entropy', max_depth=None,\n",
       "                       max_features=None, max_leaf_nodes=None,\n",
       "                       min_impurity_decrease=0.0, min_impurity_split=None,\n",
       "                       min_samples_leaf=1, min_samples_split=2,\n",
       "                       min_weight_fraction_leaf=0.0, presort=False,\n",
       "                       random_state=0, splitter='best')"
      ]
     },
     "execution_count": 8,
     "metadata": {},
     "output_type": "execute_result"
    }
   ],
   "source": [
    "classifier = DecisionTreeClassifier(criterion = \"entropy\", splitter=\"best\", min_weight_fraction_leaf=0.0, max_features=None, random_state=0, max_leaf_nodes=None, min_impurity_decrease=0.0, min_impurity_split=None, class_weight=None)\n",
    "classifier.fit(x_train_scaled_df, y_train)"
   ]
  },
  {
   "cell_type": "code",
   "execution_count": 9,
   "metadata": {
    "colab": {
     "base_uri": "https://localhost:8080/",
     "height": 1000
    },
    "colab_type": "code",
    "executionInfo": {
     "elapsed": 1233,
     "status": "ok",
     "timestamp": 1575244690384,
     "user": {
      "displayName": "Lydia Tse",
      "photoUrl": "",
      "userId": "08063489847245829399"
     },
     "user_tz": 360
    },
    "id": "e9Qiz-oIV5Ln",
    "outputId": "b5b17c54-7f64-4fc9-e0cf-3b3885040674"
   },
   "outputs": [
    {
     "name": "stdout",
     "output_type": "stream",
     "text": [
      "[(  1, 110,  5, -0.36439811, 0.97615296, 1820, 1.820e+03)\n",
      " (  2,  33,  6, -0.61880383, 0.62753397,  668, 6.680e+02)\n",
      " (  3,   8, 15, -0.81662986, 0.25363946,  400, 4.000e+02)\n",
      " (  4,   7,  5, -0.65712106, 0.99403021,   11, 1.100e+01)\n",
      " (  5,   6,  1, -2.01887672, 0.65002242,    6, 6.000e+00)\n",
      " ( -1,  -1, -2, -2.        , 0.        ,    1, 1.000e+00)\n",
      " ( -1,  -1, -2, -2.        , 0.        ,    5, 5.000e+00)\n",
      " ( -1,  -1, -2, -2.        , 0.        ,    5, 5.000e+00)\n",
      " (  9,  10,  5, -0.99544594, 0.18567934,  389, 3.890e+02)\n",
      " ( -1,  -1, -2, -2.        , 0.        ,  188, 1.880e+02)\n",
      " ( 11,  26,  1, -0.1501097 , 0.30614466,  201, 2.010e+02)\n",
      " ( 12,  19, 11, -0.85778576, 0.57258047,   59, 5.900e+01)\n",
      " ( 13,  14,  4, -0.04832312, 0.97986876,   12, 1.200e+01)\n",
      " ( -1,  -1, -2, -2.        , 0.        ,    4, 4.000e+00)\n",
      " ( 15,  18,  3, -0.22305617, 0.954434  ,    8, 8.000e+00)\n",
      " ( 16,  17, 15,  0.90567267, 0.81127812,    4, 4.000e+00)\n",
      " ( -1,  -1, -2, -2.        , 0.        ,    3, 3.000e+00)\n",
      " ( -1,  -1, -2, -2.        , 0.        ,    1, 1.000e+00)\n",
      " ( -1,  -1, -2, -2.        , 0.        ,    4, 4.000e+00)\n",
      " ( 20,  23, 13, -0.64622402, 0.34246377,   47, 4.700e+01)\n",
      " ( 21,  22,  5, -0.56270739, 0.91829583,    3, 3.000e+00)\n",
      " ( -1,  -1, -2, -2.        , 0.        ,    1, 1.000e+00)\n",
      " ( -1,  -1, -2, -2.        , 0.        ,    2, 2.000e+00)\n",
      " ( 24,  25,  1, -9.28094578, 0.15649106,   44, 4.400e+01)\n",
      " ( -1,  -1, -2, -2.        , 0.        ,    1, 1.000e+00)\n",
      " ( -1,  -1, -2, -2.        , 0.        ,   43, 4.300e+01)\n",
      " ( 27,  32,  0, -0.26589593, 0.14772109,  142, 1.420e+02)\n",
      " ( 28,  31,  5, -0.80514279, 0.91829583,    9, 9.000e+00)\n",
      " ( 29,  30, 12,  0.48230642, 0.81127812,    4, 4.000e+00)\n",
      " ( -1,  -1, -2, -2.        , 0.        ,    3, 3.000e+00)\n",
      " ( -1,  -1, -2, -2.        , 0.        ,    1, 1.000e+00)\n",
      " ( -1,  -1, -2, -2.        , 0.        ,    5, 5.000e+00)\n",
      " ( -1,  -1, -2, -2.        , 0.        ,  133, 1.330e+02)\n",
      " ( 34,  57,  3,  0.40125085, 0.91324016,  268, 2.680e+02)\n",
      " ( 35,  42,  2,  0.07756955, 0.54356444,  128, 1.280e+02)\n",
      " ( 36,  37,  8,  0.93960863, 0.2786698 ,   83, 8.300e+01)\n",
      " ( -1,  -1, -2, -2.        , 0.        ,   66, 6.600e+01)\n",
      " ( 38,  41,  0, -0.21912945, 0.78712659,   17, 1.700e+01)\n",
      " ( 39,  40, 12, -1.01664278, 0.98522814,    7, 7.000e+00)\n",
      " ( -1,  -1, -2, -2.        , 0.        ,    3, 3.000e+00)\n",
      " ( -1,  -1, -2, -2.        , 0.        ,    4, 4.000e+00)\n",
      " ( -1,  -1, -2, -2.        , 0.        ,   10, 1.000e+01)\n",
      " ( 43,  56, 15,  0.44818605, 0.83664074,   45, 4.500e+01)\n",
      " ( 44,  45,  3, -0.74844134, 0.96290041,   31, 3.100e+01)\n",
      " ( -1,  -1, -2, -2.        , 0.        ,    7, 7.000e+00)\n",
      " ( 46,  47,  8, -1.15128875, 1.        ,   24, 2.400e+01)\n",
      " ( -1,  -1, -2, -2.        , 0.        ,    5, 5.000e+00)\n",
      " ( 48,  55,  7, -0.20321456, 0.94945202,   19, 1.900e+01)\n",
      " ( 49,  50,  3, -0.46926175, 0.99572745,   13, 1.300e+01)\n",
      " ( -1,  -1, -2, -2.        , 0.        ,    4, 4.000e+00)\n",
      " ( 51,  52,  3,  0.152847  , 0.76420451,    9, 9.000e+00)\n",
      " ( -1,  -1, -2, -2.        , 0.        ,    6, 6.000e+00)\n",
      " ( 53,  54,  2,  0.154227  , 0.91829583,    3, 3.000e+00)\n",
      " ( -1,  -1, -2, -2.        , 0.        ,    1, 1.000e+00)\n",
      " ( -1,  -1, -2, -2.        , 0.        ,    2, 2.000e+00)\n",
      " ( -1,  -1, -2, -2.        , 0.        ,    6, 6.000e+00)\n",
      " ( -1,  -1, -2, -2.        , 0.        ,   14, 1.400e+01)\n",
      " ( 58,  65, 15, -0.61479753, 0.99941106,  140, 1.400e+02)\n",
      " ( 59,  64, 12, -1.23822659, 0.57879462,   29, 2.900e+01)\n",
      " ( 60,  61, 12, -1.74004871, 0.9456603 ,   11, 1.100e+01)\n",
      " ( -1,  -1, -2, -2.        , 0.        ,    6, 6.000e+00)\n",
      " ( 62,  63,  0, -0.28303808, 0.72192809,    5, 5.000e+00)\n",
      " ( -1,  -1, -2, -2.        , 0.        ,    1, 1.000e+00)\n",
      " ( -1,  -1, -2, -2.        , 0.        ,    4, 4.000e+00)\n",
      " ( -1,  -1, -2, -2.        , 0.        ,   18, 1.800e+01)\n",
      " ( 66,  67,  8, -1.01811054, 0.98301338,  111, 1.110e+02)\n",
      " ( -1,  -1, -2, -2.        , 0.        ,    9, 9.000e+00)\n",
      " ( 68,  87,  0, -0.2417232 , 0.99555808,  102, 1.020e+02)\n",
      " ( 69,  70,  9, -1.13447905, 0.9456603 ,   44, 4.400e+01)\n",
      " ( -1,  -1, -2, -2.        , 0.        ,    3, 3.000e+00)\n",
      " ( 71,  86,  8,  1.04615116, 0.9011702 ,   41, 4.100e+01)\n",
      " ( 72,  73,  5, -0.80765164, 0.95968689,   34, 3.400e+01)\n",
      " ( -1,  -1, -2, -2.        , 0.        ,    4, 4.000e+00)\n",
      " ( 74,  81, 10,  0.76919115, 0.8812909 ,   30, 3.000e+01)\n",
      " ( 75,  80, 11,  1.37038338, 0.68403844,   22, 2.200e+01)\n",
      " ( 76,  77,  4, -0.3983513 , 0.46899559,   20, 2.000e+01)\n",
      " ( -1,  -1, -2, -2.        , 0.        ,   16, 1.600e+01)\n",
      " ( 78,  79, 10, -0.29006105, 1.        ,    4, 4.000e+00)\n",
      " ( -1,  -1, -2, -2.        , 0.        ,    2, 2.000e+00)\n",
      " ( -1,  -1, -2, -2.        , 0.        ,    2, 2.000e+00)\n",
      " ( -1,  -1, -2, -2.        , 0.        ,    2, 2.000e+00)\n",
      " ( 82,  85,  1, -0.27866028, 0.954434  ,    8, 8.000e+00)\n",
      " ( 83,  84,  7, -1.39442062, 0.81127812,    4, 4.000e+00)\n",
      " ( -1,  -1, -2, -2.        , 0.        ,    1, 1.000e+00)\n",
      " ( -1,  -1, -2, -2.        , 0.        ,    3, 3.000e+00)\n",
      " ( -1,  -1, -2, -2.        , 0.        ,    4, 4.000e+00)\n",
      " ( -1,  -1, -2, -2.        , 0.        ,    7, 7.000e+00)\n",
      " ( 88,  89,  4, -0.58736652, 0.91244118,   58, 5.800e+01)\n",
      " ( -1,  -1, -2, -2.        , 0.        ,    3, 3.000e+00)\n",
      " ( 90,  91, 10, -1.0634833 , 0.86989269,   55, 5.500e+01)\n",
      " ( -1,  -1, -2, -2.        , 0.        ,    3, 3.000e+00)\n",
      " ( 92, 103, 13, -0.44148836, 0.81127812,   52, 5.200e+01)\n",
      " ( 93,  94,  1, -0.13971661, 0.98285869,   26, 2.600e+01)\n",
      " ( -1,  -1, -2, -2.        , 0.        ,    4, 4.000e+00)\n",
      " ( 95, 102,  9,  0.68810073, 0.90239328,   22, 2.200e+01)\n",
      " ( 96,  97, 11, -0.30074348, 1.        ,   14, 1.400e+01)\n",
      " ( -1,  -1, -2, -2.        , 0.        ,    6, 6.000e+00)\n",
      " ( 98,  99,  3,  0.87387767, 0.54356444,    8, 8.000e+00)\n",
      " ( -1,  -1, -2, -2.        , 0.        ,    6, 6.000e+00)\n",
      " (100, 101,  7, -0.47635734, 1.        ,    2, 2.000e+00)\n",
      " ( -1,  -1, -2, -2.        , 0.        ,    1, 1.000e+00)\n",
      " ( -1,  -1, -2, -2.        , 0.        ,    1, 1.000e+00)\n",
      " ( -1,  -1, -2, -2.        , 0.        ,    8, 8.000e+00)\n",
      " (104, 105,  8, -0.81834331, 0.39124356,   26, 2.600e+01)\n",
      " ( -1,  -1, -2, -2.        , 0.        ,    1, 1.000e+00)\n",
      " (106, 109,  2, -0.53833339, 0.24229219,   25, 2.500e+01)\n",
      " (107, 108, 13,  0.15696979, 0.91829583,    3, 3.000e+00)\n",
      " ( -1,  -1, -2, -2.        , 0.        ,    2, 2.000e+00)\n",
      " ( -1,  -1, -2, -2.        , 0.        ,    1, 1.000e+00)\n",
      " ( -1,  -1, -2, -2.        , 0.        ,   22, 2.200e+01)\n",
      " (111, 184,  6, -0.16344494, 0.62946985, 1152, 1.152e+03)\n",
      " (112, 175, 15,  0.60965189, 0.98879645,  233, 2.330e+02)\n",
      " (113, 160,  1,  0.30589032, 0.95007963,  195, 1.950e+02)\n",
      " (114, 127, 15, -0.41296521, 0.85545081,  150, 1.500e+02)\n",
      " (115, 122,  2,  2.04687285, 0.52255937,   51, 5.100e+01)\n",
      " (116, 121,  5, -0.237886  , 0.34781691,   46, 4.600e+01)\n",
      " (117, 118,  5, -0.27614586, 0.91829583,    9, 9.000e+00)\n",
      " ( -1,  -1, -2, -2.        , 0.        ,    5, 5.000e+00)\n",
      " (119, 120,  2, -0.49868298, 0.81127812,    4, 4.000e+00)\n",
      " ( -1,  -1, -2, -2.        , 0.        ,    1, 1.000e+00)\n",
      " ( -1,  -1, -2, -2.        , 0.        ,    3, 3.000e+00)\n",
      " ( -1,  -1, -2, -2.        , 0.        ,   37, 3.700e+01)\n",
      " (123, 126, 13,  0.11759755, 0.97095059,    5, 5.000e+00)\n",
      " (124, 125, 12,  0.13689639, 0.91829583,    3, 3.000e+00)\n",
      " ( -1,  -1, -2, -2.        , 0.        ,    2, 2.000e+00)\n",
      " ( -1,  -1, -2, -2.        , 0.        ,    1, 1.000e+00)\n",
      " ( -1,  -1, -2, -2.        , 0.        ,    2, 2.000e+00)\n",
      " (128, 157,  7,  0.27478531, 0.9456603 ,   99, 9.900e+01)\n",
      " (129, 150,  5, -0.07879584, 0.87988131,   87, 8.700e+01)\n",
      " (130, 131,  3, -0.89352673, 0.98636761,   51, 5.100e+01)\n",
      " ( -1,  -1, -2, -2.        , 0.        ,    5, 5.000e+00)\n",
      " (132, 133,  9, -0.09911682, 0.95033767,   46, 4.600e+01)\n",
      " ( -1,  -1, -2, -2.        , 0.        ,    7, 7.000e+00)\n",
      " (134, 149,  7, -0.38530977, 0.98811084,   39, 3.900e+01)\n",
      " (135, 148,  8,  0.92629081, 0.89603823,   32, 3.200e+01)\n",
      " (136, 147,  1,  0.25370515, 0.79732651,   29, 2.900e+01)\n",
      " (137, 138,  1, -0.74069297, 0.69128987,   27, 2.700e+01)\n",
      " ( -1,  -1, -2, -2.        , 0.        ,    9, 9.000e+00)\n",
      " (139, 146, 14, -0.15886191, 0.85240518,   18, 1.800e+01)\n",
      " (140, 141, 10, -0.34050165, 0.99403021,   11, 1.100e+01)\n",
      " ( -1,  -1, -2, -2.        , 0.        ,    4, 4.000e+00)\n",
      " (142, 143,  2, -0.37708841, 0.86312057,    7, 7.000e+00)\n",
      " ( -1,  -1, -2, -2.        , 0.        ,    4, 4.000e+00)\n",
      " (144, 145, 15, -0.17076641, 0.91829583,    3, 3.000e+00)\n",
      " ( -1,  -1, -2, -2.        , 0.        ,    1, 1.000e+00)\n",
      " ( -1,  -1, -2, -2.        , 0.        ,    2, 2.000e+00)\n",
      " ( -1,  -1, -2, -2.        , 0.        ,    7, 7.000e+00)\n",
      " ( -1,  -1, -2, -2.        , 0.        ,    2, 2.000e+00)\n",
      " ( -1,  -1, -2, -2.        , 0.        ,    3, 3.000e+00)\n",
      " ( -1,  -1, -2, -2.        , 0.        ,    7, 7.000e+00)\n",
      " (151, 152,  8,  0.10058611, 0.50325833,   36, 3.600e+01)\n",
      " ( -1,  -1, -2, -2.        , 0.        ,   24, 2.400e+01)\n",
      " (153, 154,  0, -0.17305877, 0.91829583,   12, 1.200e+01)\n",
      " ( -1,  -1, -2, -2.        , 0.        ,    5, 5.000e+00)\n",
      " (155, 156,  7, -0.43842085, 0.98522814,    7, 7.000e+00)\n",
      " ( -1,  -1, -2, -2.        , 0.        ,    4, 4.000e+00)\n",
      " ( -1,  -1, -2, -2.        , 0.        ,    3, 3.000e+00)\n",
      " (158, 159, 10, -0.97941566, 0.65002242,   12, 1.200e+01)\n",
      " ( -1,  -1, -2, -2.        , 0.        ,    2, 2.000e+00)\n",
      " ( -1,  -1, -2, -2.        , 0.        ,   10, 1.000e+01)\n",
      " (161, 164,  4, -0.53836256, 0.91829583,   45, 4.500e+01)\n",
      " (162, 163, 11,  0.93150157, 0.68403844,   11, 1.100e+01)\n",
      " ( -1,  -1, -2, -2.        , 0.        ,    9, 9.000e+00)\n",
      " ( -1,  -1, -2, -2.        , 0.        ,    2, 2.000e+00)\n",
      " (165, 166, 15,  0.01761042, 0.67229482,   34, 3.400e+01)\n",
      " ( -1,  -1, -2, -2.        , 0.        ,   18, 1.800e+01)\n",
      " (167, 174,  2, -0.0387383 , 0.954434  ,   16, 1.600e+01)\n",
      " (168, 169,  9, -0.17612723, 0.99403021,   11, 1.100e+01)\n",
      " ( -1,  -1, -2, -2.        , 0.        ,    3, 3.000e+00)\n",
      " (170, 173,  0, -0.16675012, 0.81127812,    8, 8.000e+00)\n",
      " (171, 172,  2, -0.46167594, 1.        ,    4, 4.000e+00)\n",
      " ( -1,  -1, -2, -2.        , 0.        ,    2, 2.000e+00)\n",
      " ( -1,  -1, -2, -2.        , 0.        ,    2, 2.000e+00)\n",
      " ( -1,  -1, -2, -2.        , 0.        ,    4, 4.000e+00)\n",
      " ( -1,  -1, -2, -2.        , 0.        ,    5, 5.000e+00)\n",
      " (176, 183,  1,  0.0167781 , 0.74248757,   38, 3.800e+01)\n",
      " (177, 182,  3, -0.60115761, 0.99750255,   17, 1.700e+01)\n",
      " (178, 179, 13,  1.88147414, 0.68403844,   11, 1.100e+01)\n",
      " ( -1,  -1, -2, -2.        , 0.        ,    7, 7.000e+00)\n",
      " (180, 181,  3, -2.49166489, 1.        ,    4, 4.000e+00)\n",
      " ( -1,  -1, -2, -2.        , 0.        ,    2, 2.000e+00)\n",
      " ( -1,  -1, -2, -2.        , 0.        ,    2, 2.000e+00)\n",
      " ( -1,  -1, -2, -2.        , 0.        ,    6, 6.000e+00)\n",
      " ( -1,  -1, -2, -2.        , 0.        ,   21, 2.100e+01)\n",
      " (185, 248,  3,  0.20340708, 0.42654956,  919, 9.190e+02)\n",
      " (186, 225,  5,  0.40884209, 0.70755255,  311, 3.110e+02)\n",
      " (187, 222,  7,  1.09421366, 0.97581049,  115, 1.150e+02)\n",
      " (188, 211,  3, -0.29120237, 0.89233868,   97, 9.700e+01)\n",
      " (189, 210, 10,  1.13908881, 0.99884554,   50, 5.000e+01)\n",
      " (190, 195,  5, -0.0108357 , 0.99022469,   43, 4.300e+01)\n",
      " (191, 194,  9, -0.97190148, 0.61938219,   13, 1.300e+01)\n",
      " (192, 193, 14, -0.52603355, 0.91829583,    3, 3.000e+00)\n",
      " ( -1,  -1, -2, -2.        , 0.        ,    1, 1.000e+00)\n",
      " ( -1,  -1, -2, -2.        , 0.        ,    2, 2.000e+00)\n",
      " ( -1,  -1, -2, -2.        , 0.        ,   10, 1.000e+01)\n",
      " (196, 197,  2, -0.40616538, 0.98713777,   30, 3.000e+01)\n",
      " ( -1,  -1, -2, -2.        , 0.        ,    6, 6.000e+00)\n",
      " (198, 205, 12,  0.82771647, 0.99498483,   24, 2.400e+01)\n",
      " (199, 200, 14, -1.00715506, 0.89603823,   16, 1.600e+01)\n",
      " ( -1,  -1, -2, -2.        , 0.        ,    2, 2.000e+00)\n",
      " (201, 204, 15, -0.35914324, 0.74959526,   14, 1.400e+01)\n",
      " (202, 203,  4, -0.04132256, 1.        ,    6, 6.000e+00)\n",
      " ( -1,  -1, -2, -2.        , 0.        ,    3, 3.000e+00)\n",
      " ( -1,  -1, -2, -2.        , 0.        ,    3, 3.000e+00)\n",
      " ( -1,  -1, -2, -2.        , 0.        ,    8, 8.000e+00)\n",
      " (206, 207, 12,  1.22526383, 0.81127812,    8, 8.000e+00)\n",
      " ( -1,  -1, -2, -2.        , 0.        ,    5, 5.000e+00)\n",
      " (208, 209,  5,  0.22189638, 0.91829583,    3, 3.000e+00)\n",
      " ( -1,  -1, -2, -2.        , 0.        ,    1, 1.000e+00)\n",
      " ( -1,  -1, -2, -2.        , 0.        ,    2, 2.000e+00)\n",
      " ( -1,  -1, -2, -2.        , 0.        ,    7, 7.000e+00)\n",
      " (212, 219,  3,  0.1220713 , 0.55098444,   47, 4.700e+01)\n",
      " (213, 218,  5, -0.14284512, 0.36505519,   43, 4.300e+01)\n",
      " (214, 217, 13,  0.16484424, 0.91829583,    9, 9.000e+00)\n",
      " (215, 216,  8, -0.04590989, 0.81127812,    4, 4.000e+00)\n",
      " ( -1,  -1, -2, -2.        , 0.        ,    1, 1.000e+00)\n",
      " ( -1,  -1, -2, -2.        , 0.        ,    3, 3.000e+00)\n",
      " ( -1,  -1, -2, -2.        , 0.        ,    5, 5.000e+00)\n",
      " ( -1,  -1, -2, -2.        , 0.        ,   34, 3.400e+01)\n",
      " (220, 221, 13, -0.84308526, 0.81127812,    4, 4.000e+00)\n",
      " ( -1,  -1, -2, -2.        , 0.        ,    1, 1.000e+00)\n",
      " ( -1,  -1, -2, -2.        , 0.        ,    3, 3.000e+00)\n",
      " (223, 224, 14,  0.18298755, 0.30954343,   18, 1.800e+01)\n",
      " ( -1,  -1, -2, -2.        , 0.        ,   17, 1.700e+01)\n",
      " ( -1,  -1, -2, -2.        , 0.        ,    1, 1.000e+00)\n",
      " (226, 231,  3, -1.64313483, 0.35206297,  196, 1.960e+02)\n",
      " (227, 230,  4, -0.18483411, 0.99572745,   13, 1.300e+01)\n",
      " (228, 229,  6,  0.23865072, 0.76420451,    9, 9.000e+00)\n",
      " ( -1,  -1, -2, -2.        , 0.        ,    2, 2.000e+00)\n",
      " ( -1,  -1, -2, -2.        , 0.        ,    7, 7.000e+00)\n",
      " ( -1,  -1, -2, -2.        , 0.        ,    4, 4.000e+00)\n",
      " (232, 241, 13,  1.46412838, 0.23421651,  183, 1.830e+02)\n",
      " (233, 240,  6,  6.46178746, 0.13110653,  165, 1.650e+02)\n",
      " (234, 235,  3,  0.09569213, 0.09501725,  164, 1.640e+02)\n",
      " ( -1,  -1, -2, -2.        , 0.        ,  138, 1.380e+02)\n",
      " (236, 239,  5,  0.67156962, 0.39124356,   26, 2.600e+01)\n",
      " (237, 238, 14,  0.13234319, 1.        ,    4, 4.000e+00)\n",
      " ( -1,  -1, -2, -2.        , 0.        ,    2, 2.000e+00)\n",
      " ( -1,  -1, -2, -2.        , 0.        ,    2, 2.000e+00)\n",
      " ( -1,  -1, -2, -2.        , 0.        ,   22, 2.200e+01)\n",
      " ( -1,  -1, -2, -2.        , 0.        ,    1, 1.000e+00)\n",
      " (242, 245,  2, -0.09689223, 0.76420451,   18, 1.800e+01)\n",
      " (243, 244,  0,  0.08241302, 0.37123233,   14, 1.400e+01)\n",
      " ( -1,  -1, -2, -2.        , 0.        ,   13, 1.300e+01)\n",
      " ( -1,  -1, -2, -2.        , 0.        ,    1, 1.000e+00)\n",
      " (246, 247,  6,  1.75836253, 0.81127812,    4, 4.000e+00)\n",
      " ( -1,  -1, -2, -2.        , 0.        ,    3, 3.000e+00)\n",
      " ( -1,  -1, -2, -2.        , 0.        ,    1, 1.000e+00)\n",
      " (249, 294,  6,  0.46895152, 0.20870728,  608, 6.080e+02)\n",
      " (250, 277,  5, -0.04208556, 0.33652891,  321, 3.210e+02)\n",
      " (251, 276,  0,  0.22905742, 0.5957611 ,   90, 9.000e+01)\n",
      " (252, 259, 11, -0.65522492, 0.54356444,   88, 8.800e+01)\n",
      " (253, 254,  0, -0.24291433, 0.9612366 ,   13, 1.300e+01)\n",
      " ( -1,  -1, -2, -2.        , 0.        ,    3, 3.000e+00)\n",
      " (255, 258,  9, -0.2959212 , 0.72192809,   10, 1.000e+01)\n",
      " (256, 257,  0, -0.16584516, 0.91829583,    3, 3.000e+00)\n",
      " ( -1,  -1, -2, -2.        , 0.        ,    1, 1.000e+00)\n",
      " ( -1,  -1, -2, -2.        , 0.        ,    2, 2.000e+00)\n",
      " ( -1,  -1, -2, -2.        , 0.        ,    7, 7.000e+00)\n",
      " (260, 273, 13,  0.86567023, 0.40217919,   75, 7.500e+01)\n",
      " (261, 262,  5, -0.35362484, 0.30954343,   72, 7.200e+01)\n",
      " ( -1,  -1, -2, -2.        , 0.        ,    1, 1.000e+00)\n",
      " (263, 272,  8, -0.31226623, 0.25253077,   71, 7.100e+01)\n",
      " (264, 265,  7, -0.93918261, 0.49123734,   28, 2.800e+01)\n",
      " ( -1,  -1, -2, -2.        , 0.        ,    1, 1.000e+00)\n",
      " (266, 271,  0, -0.0534066 , 0.38094659,   27, 2.700e+01)\n",
      " (267, 268, 14,  3.10769963, 0.23519338,   26, 2.600e+01)\n",
      " ( -1,  -1, -2, -2.        , 0.        ,   24, 2.400e+01)\n",
      " (269, 270, 13, -0.14225928, 1.        ,    2, 2.000e+00)\n",
      " ( -1,  -1, -2, -2.        , 0.        ,    1, 1.000e+00)\n",
      " ( -1,  -1, -2, -2.        , 0.        ,    1, 1.000e+00)\n",
      " ( -1,  -1, -2, -2.        , 0.        ,    1, 1.000e+00)\n",
      " ( -1,  -1, -2, -2.        , 0.        ,   43, 4.300e+01)\n",
      " (274, 275, 14,  0.38556501, 0.91829583,    3, 3.000e+00)\n",
      " ( -1,  -1, -2, -2.        , 0.        ,    2, 2.000e+00)\n",
      " ( -1,  -1, -2, -2.        , 0.        ,    1, 1.000e+00)\n",
      " ( -1,  -1, -2, -2.        , 0.        ,    2, 2.000e+00)\n",
      " (278, 293,  9, -0.24458093, 0.19590927,  231, 2.310e+02)\n",
      " (279, 292,  7,  2.1412611 , 0.48303068,   67, 6.700e+01)\n",
      " (280, 289,  6,  0.14754854, 0.39124356,   65, 6.500e+01)\n",
      " (281, 288,  7,  0.5327535 , 0.72192809,   20, 2.000e+01)\n",
      " (282, 283,  2, -0.48017946, 0.89049164,   13, 1.300e+01)\n",
      " ( -1,  -1, -2, -2.        , 0.        ,    4, 4.000e+00)\n",
      " (284, 287, 15, -0.38605422, 0.99107606,    9, 9.000e+00)\n",
      " (285, 286, 14,  1.00595847, 0.65002242,    6, 6.000e+00)\n",
      " ( -1,  -1, -2, -2.        , 0.        ,    5, 5.000e+00)\n",
      " ( -1,  -1, -2, -2.        , 0.        ,    1, 1.000e+00)\n",
      " ( -1,  -1, -2, -2.        , 0.        ,    3, 3.000e+00)\n",
      " ( -1,  -1, -2, -2.        , 0.        ,    7, 7.000e+00)\n",
      " (290, 291,  9, -0.26169436, 0.15374218,   45, 4.500e+01)\n",
      " ( -1,  -1, -2, -2.        , 0.        ,   44, 4.400e+01)\n",
      " ( -1,  -1, -2, -2.        , 0.        ,    1, 1.000e+00)\n",
      " ( -1,  -1, -2, -2.        , 0.        ,    2, 2.000e+00)\n",
      " ( -1,  -1, -2, -2.        , 0.        ,  164, 1.640e+02)\n",
      " ( -1,  -1, -2, -2.        , 0.        ,  287, 2.870e+02)]\n"
     ]
    },
    {
     "data": {
      "text/plain": [
       "295"
      ]
     },
     "execution_count": 9,
     "metadata": {},
     "output_type": "execute_result"
    }
   ],
   "source": [
    "# Show the structure of the decision tree classifier\n",
    "print(classifier.tree_.__getstate__()['nodes'])\n",
    "len(classifier.tree_.__getstate__()['nodes'])"
   ]
  },
  {
   "cell_type": "code",
   "execution_count": 10,
   "metadata": {
    "colab": {},
    "colab_type": "code",
    "id": "qPszydAiV5Lp"
   },
   "outputs": [],
   "source": [
    "y_pred = classifier.predict(x_validation_scaled_df)"
   ]
  },
  {
   "cell_type": "code",
   "execution_count": 11,
   "metadata": {
    "colab": {
     "base_uri": "https://localhost:8080/",
     "height": 297
    },
    "colab_type": "code",
    "executionInfo": {
     "elapsed": 1630,
     "status": "ok",
     "timestamp": 1575244690785,
     "user": {
      "displayName": "Lydia Tse",
      "photoUrl": "",
      "userId": "08063489847245829399"
     },
     "user_tz": 360
    },
    "id": "fpIlpJgpV5Lt",
    "outputId": "598f1bac-1ac0-475f-e87d-6cd614087c2f"
   },
   "outputs": [
    {
     "data": {
      "image/png": "[encoded data removed]",
      "text/plain": [
       "<Figure size 432x288 with 2 Axes>"
      ]
     },
     "metadata": {
      "needs_background": "light"
     },
     "output_type": "display_data"
    }
   ],
   "source": [
    "conf_matrix = metrics.confusion_matrix(y_validation, y_pred)\n",
    "sns.heatmap(conf_matrix, annot = True, fmt = \".3f\", square = True, cmap = plt.cm.Blues)\n",
    "plt.ylabel('Actual')\n",
    "plt.xlabel('Predicted')\n",
    "plt.title('Confusion matrix')\n",
    "plt.tight_layout()"
   ]
  },
  {
   "cell_type": "code",
   "execution_count": 12,
   "metadata": {
    "colab": {
     "base_uri": "https://localhost:8080/",
     "height": 54
    },
    "colab_type": "code",
    "executionInfo": {
     "elapsed": 1629,
     "status": "ok",
     "timestamp": 1575244690785,
     "user": {
      "displayName": "Lydia Tse",
      "photoUrl": "",
      "userId": "08063489847245829399"
     },
     "user_tz": 360
    },
    "id": "tCeosBkQV5Lx",
    "outputId": "6df890ac-30ba-42bd-803c-0a510a03756b"
   },
   "outputs": [
    {
     "name": "stdout",
     "output_type": "stream",
     "text": [
      "[0.8336079077429983, 0.1663920922570017, array([0.85882353, 0.80149813]), array([0.84637681, 0.81679389]), array([0.85255474, 0.80907372])]\n"
     ]
    }
   ],
   "source": [
    "accuracy = metrics.accuracy_score(y_validation, y_pred)\n",
    "error = 1 - accuracy\n",
    "precision = metrics.precision_score(y_validation, y_pred, average = None)\n",
    "recall = metrics.recall_score(y_validation, y_pred, average = None)\n",
    "F1_score = metrics.f1_score(y_validation, y_pred, average = None)\n",
    "print([accuracy, error, precision, recall, F1_score])"
   ]
  },
  {
   "cell_type": "markdown",
   "metadata": {
    "colab_type": "text",
    "id": "3o2NN8-rw22r"
   },
   "source": [
    "---"
   ]
  },
  {
   "cell_type": "markdown",
   "metadata": {
    "colab_type": "text",
    "id": "rsmoAiNuw5Pe"
   },
   "source": [
    "MODEL 2\n",
    "\n",
    "    -Variables Used: Hispanic, White, Black, Percent_Women"
   ]
  },
  {
   "cell_type": "code",
   "execution_count": 13,
   "metadata": {
    "colab": {
     "base_uri": "https://localhost:8080/",
     "height": 119
    },
    "colab_type": "code",
    "executionInfo": {
     "elapsed": 1628,
     "status": "ok",
     "timestamp": 1575244690786,
     "user": {
      "displayName": "Lydia Tse",
      "photoUrl": "",
      "userId": "08063489847245829399"
     },
     "user_tz": 360
    },
    "id": "d_El0UR9h6bX",
    "outputId": "8ef6f64b-1763-45b0-e5ac-e028e20404d9"
   },
   "outputs": [
    {
     "data": {
      "text/plain": [
       "DecisionTreeClassifier(class_weight=None, criterion='entropy', max_depth=None,\n",
       "                       max_features=None, max_leaf_nodes=None,\n",
       "                       min_impurity_decrease=0.0, min_impurity_split=None,\n",
       "                       min_samples_leaf=1, min_samples_split=2,\n",
       "                       min_weight_fraction_leaf=0.0, presort=False,\n",
       "                       random_state=0, splitter='best')"
      ]
     },
     "execution_count": 13,
     "metadata": {},
     "output_type": "execute_result"
    }
   ],
   "source": [
    "classifier = DecisionTreeClassifier(criterion = \"entropy\", splitter=\"best\", min_weight_fraction_leaf=0.0, max_features=None, random_state=0, max_leaf_nodes=None, min_impurity_decrease=0.0, min_impurity_split=None, class_weight=None)\n",
    "classifier.fit(x_train_scaled_df[['Hispanic', 'White', 'Black', 'Percent_Women']], y_train)"
   ]
  },
  {
   "cell_type": "code",
   "execution_count": 14,
   "metadata": {
    "colab": {
     "base_uri": "https://localhost:8080/",
     "height": 1000
    },
    "colab_type": "code",
    "executionInfo": {
     "elapsed": 1780,
     "status": "ok",
     "timestamp": 1575244690940,
     "user": {
      "displayName": "Lydia Tse",
      "photoUrl": "",
      "userId": "08063489847245829399"
     },
     "user_tz": 360
    },
    "id": "uYhJWsr7xBAL",
    "outputId": "16171b6e-04c7-4319-eed1-985abc886066"
   },
   "outputs": [
    {
     "name": "stdout",
     "output_type": "stream",
     "text": [
      "[(  1, 234,  1, -2.51633614e-01, 0.97615296, 1820, 1.820e+03)\n",
      " (  2,  67,  0, -3.05717692e-01, 0.89440709,  569, 5.690e+02)\n",
      " (  3,  40,  2,  1.36229038e+00, 0.52424171,  203, 2.030e+02)\n",
      " (  4,   5,  3, -1.68634611e+00, 0.82465783,   58, 5.800e+01)\n",
      " ( -1,  -1, -2, -2.00000000e+00, 0.        ,    3, 3.000e+00)\n",
      " (  6,   7,  0, -5.14543146e-01, 0.75683363,   55, 5.500e+01)\n",
      " ( -1,  -1, -2, -2.00000000e+00, 0.        ,    7, 7.000e+00)\n",
      " (  8,   9,  0, -4.93396252e-01, 0.81127812,   48, 4.800e+01)\n",
      " ( -1,  -1, -2, -2.00000000e+00, 0.        ,    2, 2.000e+00)\n",
      " ( 10,  11,  0, -4.59032580e-01, 0.75537541,   46, 4.600e+01)\n",
      " ( -1,  -1, -2, -2.00000000e+00, 0.        ,    6, 6.000e+00)\n",
      " ( 12,  39,  0, -3.16291109e-01, 0.81127812,   40, 4.000e+01)\n",
      " ( 13,  24,  0, -3.48011449e-01, 0.86312057,   35, 3.500e+01)\n",
      " ( 14,  15,  1, -4.71460015e-01, 0.68403844,   22, 2.200e+01)\n",
      " ( -1,  -1, -2, -2.00000000e+00, 0.        ,    9, 9.000e+00)\n",
      " ( 16,  23,  3,  6.80638671e-01, 0.89049164,   13, 1.300e+01)\n",
      " ( 17,  22,  1, -2.97797158e-01, 0.99107606,    9, 9.000e+00)\n",
      " ( 18,  21,  1, -3.72538134e-01, 0.86312057,    7, 7.000e+00)\n",
      " ( 19,  20,  0, -3.90305206e-01, 0.91829583,    3, 3.000e+00)\n",
      " ( -1,  -1, -2, -2.00000000e+00, 0.        ,    2, 2.000e+00)\n",
      " ( -1,  -1, -2, -2.00000000e+00, 0.        ,    1, 1.000e+00)\n",
      " ( -1,  -1, -2, -2.00000000e+00, 0.        ,    4, 4.000e+00)\n",
      " ( -1,  -1, -2, -2.00000000e+00, 0.        ,    2, 2.000e+00)\n",
      " ( -1,  -1, -2, -2.00000000e+00, 0.        ,    4, 4.000e+00)\n",
      " ( 25,  38,  1, -2.84607574e-01, 0.99572745,   13, 1.300e+01)\n",
      " ( 26,  27,  0, -3.37438002e-01, 0.99403021,   11, 1.100e+01)\n",
      " ( -1,  -1, -2, -2.00000000e+00, 0.        ,    3, 3.000e+00)\n",
      " ( 28,  29,  2, -5.80365956e-01, 0.954434  ,    8, 8.000e+00)\n",
      " ( -1,  -1, -2, -2.00000000e+00, 0.        ,    2, 2.000e+00)\n",
      " ( 30,  31,  0, -3.29507917e-01, 1.        ,    6, 6.000e+00)\n",
      " ( -1,  -1, -2, -2.00000000e+00, 0.        ,    1, 1.000e+00)\n",
      " ( 32,  33,  2,  3.40208150e-01, 0.97095059,    5, 5.000e+00)\n",
      " ( -1,  -1, -2, -2.00000000e+00, 0.        ,    2, 2.000e+00)\n",
      " ( 34,  35,  3,  7.18093038e-01, 0.91829583,    3, 3.000e+00)\n",
      " ( -1,  -1, -2, -2.00000000e+00, 0.        ,    1, 1.000e+00)\n",
      " ( 36,  37,  3,  9.12261993e-01, 1.        ,    2, 2.000e+00)\n",
      " ( -1,  -1, -2, -2.00000000e+00, 0.        ,    1, 1.000e+00)\n",
      " ( -1,  -1, -2, -2.00000000e+00, 0.        ,    1, 1.000e+00)\n",
      " ( -1,  -1, -2, -2.00000000e+00, 0.        ,    2, 2.000e+00)\n",
      " ( -1,  -1, -2, -2.00000000e+00, 0.        ,    5, 5.000e+00)\n",
      " ( 41,  64,  3,  2.23444796e+00, 0.33560377,  145, 1.450e+02)\n",
      " ( 42,  43,  1, -1.19468892e+00, 0.28339789,  142, 1.420e+02)\n",
      " ( -1,  -1, -2, -2.00000000e+00, 0.        ,   59, 5.900e+01)\n",
      " ( 44,  49,  1, -1.10016358e+00, 0.41728069,   83, 8.300e+01)\n",
      " ( 45,  46,  1, -1.17930108e+00, 1.        ,    4, 4.000e+00)\n",
      " ( -1,  -1, -2, -2.00000000e+00, 0.        ,    1, 1.000e+00)\n",
      " ( 47,  48,  1, -1.13533580e+00, 0.91829583,    3, 3.000e+00)\n",
      " ( -1,  -1, -2, -2.00000000e+00, 0.        ,    2, 2.000e+00)\n",
      " ( -1,  -1, -2, -2.00000000e+00, 0.        ,    1, 1.000e+00)\n",
      " ( 50,  63,  2,  2.20585835e+00, 0.34037329,   79, 7.900e+01)\n",
      " ( 51,  52,  1, -9.33095515e-01, 0.42881096,   57, 5.700e+01)\n",
      " ( -1,  -1, -2, -2.00000000e+00, 0.        ,    1, 1.000e+00)\n",
      " ( 53,  62,  3,  5.08113533e-01, 0.37123233,   56, 5.600e+01)\n",
      " ( 54,  61,  1, -5.48399270e-01, 0.54356444,   32, 3.200e+01)\n",
      " ( 55,  60,  0, -4.03522000e-01, 0.78712659,   17, 1.700e+01)\n",
      " ( 56,  57,  2,  1.72982001e+00, 1.        ,    8, 8.000e+00)\n",
      " ( -1,  -1, -2, -2.00000000e+00, 0.        ,    3, 3.000e+00)\n",
      " ( 58,  59,  3, -1.40942304e+00, 0.72192809,    5, 5.000e+00)\n",
      " ( -1,  -1, -2, -2.00000000e+00, 0.        ,    1, 1.000e+00)\n",
      " ( -1,  -1, -2, -2.00000000e+00, 0.        ,    4, 4.000e+00)\n",
      " ( -1,  -1, -2, -2.00000000e+00, 0.        ,    9, 9.000e+00)\n",
      " ( -1,  -1, -2, -2.00000000e+00, 0.        ,   15, 1.500e+01)\n",
      " ( -1,  -1, -2, -2.00000000e+00, 0.        ,   24, 2.400e+01)\n",
      " ( -1,  -1, -2, -2.00000000e+00, 0.        ,   22, 2.200e+01)\n",
      " ( 65,  66,  3,  2.71024764e+00, 0.91829583,    3, 3.000e+00)\n",
      " ( -1,  -1, -2, -2.00000000e+00, 0.        ,    2, 2.000e+00)\n",
      " ( -1,  -1, -2, -2.00000000e+00, 0.        ,    1, 1.000e+00)\n",
      " ( 68,  93,  1, -1.60356605e+00, 0.98052637,  366, 3.660e+02)\n",
      " ( 69,  70,  1, -2.66532767e+00, 0.47782074,  107, 1.070e+02)\n",
      " ( -1,  -1, -2, -2.00000000e+00, 0.        ,   55, 5.500e+01)\n",
      " ( 71,  72,  3, -4.13547301e+00, 0.74441318,   52, 5.200e+01)\n",
      " ( -1,  -1, -2, -2.00000000e+00, 0.        ,    2, 2.000e+00)\n",
      " ( 73,  80,  2, -5.52363694e-01, 0.68007705,   50, 5.000e+01)\n",
      " ( 74,  75,  3, -2.52684936e-01, 0.97986876,   12, 1.200e+01)\n",
      " ( -1,  -1, -2, -2.00000000e+00, 0.        ,    5, 5.000e+00)\n",
      " ( 76,  77,  3,  9.45005268e-02, 0.86312057,    7, 7.000e+00)\n",
      " ( -1,  -1, -2, -2.00000000e+00, 0.        ,    4, 4.000e+00)\n",
      " ( 78,  79,  2, -5.59364259e-01, 0.91829583,    3, 3.000e+00)\n",
      " ( -1,  -1, -2, -2.00000000e+00, 0.        ,    2, 2.000e+00)\n",
      " ( -1,  -1, -2, -2.00000000e+00, 0.        ,    1, 1.000e+00)\n",
      " ( 81,  92,  0,  2.53853786e+00, 0.48546076,   38, 3.800e+01)\n",
      " ( 82,  87,  2, -2.96843126e-01, 0.59167278,   28, 2.800e+01)\n",
      " ( 83,  86,  2, -3.66848767e-01, 0.954434  ,    8, 8.000e+00)\n",
      " ( 84,  85,  0,  6.69682253e-01, 0.65002242,    6, 6.000e+00)\n",
      " ( -1,  -1, -2, -2.00000000e+00, 0.        ,    1, 1.000e+00)\n",
      " ( -1,  -1, -2, -2.00000000e+00, 0.        ,    5, 5.000e+00)\n",
      " ( -1,  -1, -2, -2.00000000e+00, 0.        ,    2, 2.000e+00)\n",
      " ( 88,  89,  3,  1.17517602e+00, 0.28639696,   20, 2.000e+01)\n",
      " ( -1,  -1, -2, -2.00000000e+00, 0.        ,   18, 1.800e+01)\n",
      " ( 90,  91,  3,  1.60772109e+00, 1.        ,    2, 2.000e+00)\n",
      " ( -1,  -1, -2, -2.00000000e+00, 0.        ,    1, 1.000e+00)\n",
      " ( -1,  -1, -2, -2.00000000e+00, 0.        ,    1, 1.000e+00)\n",
      " ( -1,  -1, -2, -2.00000000e+00, 0.        ,   10, 1.000e+01)\n",
      " ( 94, 191,  2,  6.79735482e-01, 0.99326866,  259, 2.590e+02)\n",
      " ( 95, 158,  1, -6.03355855e-01, 0.94360163,  180, 1.800e+02)\n",
      " ( 96, 103,  3, -8.71416360e-01, 0.9946938 ,  105, 1.050e+02)\n",
      " ( 97, 102,  1, -6.58312500e-01, 0.78712659,   17, 1.700e+01)\n",
      " ( 98,  99,  0,  1.59485835e+00, 0.56650951,   15, 1.500e+01)\n",
      " ( -1,  -1, -2, -2.00000000e+00, 0.        ,    8, 8.000e+00)\n",
      " (100, 101,  0,  1.73759973e+00, 0.86312057,    7, 7.000e+00)\n",
      " ( -1,  -1, -2, -2.00000000e+00, 0.        ,    2, 2.000e+00)\n",
      " ( -1,  -1, -2, -2.00000000e+00, 0.        ,    5, 5.000e+00)\n",
      " ( -1,  -1, -2, -2.00000000e+00, 0.        ,    2, 2.000e+00)\n",
      " (104, 143,  0,  1.57106811e+00, 1.        ,   88, 8.800e+01)\n",
      " (105, 106,  3, -5.89974433e-01, 0.98423999,   61, 6.100e+01)\n",
      " ( -1,  -1, -2, -2.00000000e+00, 0.        ,    3, 3.000e+00)\n",
      " (107, 142,  2,  4.59217727e-01, 0.96889771,   58, 5.800e+01)\n",
      " (108, 141,  2,  3.57709557e-01, 0.98410953,   54, 5.400e+01)\n",
      " (109, 122,  0,  1.15606052e+00, 0.95804202,   50, 5.000e+01)\n",
      " (110, 111,  2, -4.47355241e-01, 0.99901027,   27, 2.700e+01)\n",
      " ( -1,  -1, -2, -2.00000000e+00, 0.        ,    6, 6.000e+00)\n",
      " (112, 117,  3, -2.14307145e-02, 0.95871188,   21, 2.100e+01)\n",
      " (113, 116,  2,  2.03697167e-01, 0.86312057,    7, 7.000e+00)\n",
      " (114, 115,  0,  3.10185235e-01, 0.65002242,    6, 6.000e+00)\n",
      " ( -1,  -1, -2, -2.00000000e+00, 0.        ,    1, 1.000e+00)\n",
      " ( -1,  -1, -2, -2.00000000e+00, 0.        ,    5, 5.000e+00)\n",
      " ( -1,  -1, -2, -2.00000000e+00, 0.        ,    1, 1.000e+00)\n",
      " (118, 119,  3,  3.26171204e-01, 0.74959526,   14, 1.400e+01)\n",
      " ( -1,  -1, -2, -2.00000000e+00, 0.        ,    8, 8.000e+00)\n",
      " (120, 121,  2,  6.01856168e-02, 1.        ,    6, 6.000e+00)\n",
      " ( -1,  -1, -2, -2.00000000e+00, 0.        ,    3, 3.000e+00)\n",
      " ( -1,  -1, -2, -2.00000000e+00, 0.        ,    3, 3.000e+00)\n",
      " (123, 140,  2, -1.14828475e-01, 0.75537541,   23, 2.300e+01)\n",
      " (124, 131,  2, -3.63348484e-01, 0.83147439,   19, 1.900e+01)\n",
      " (125, 130,  2, -5.66364825e-01, 0.43949699,   11, 1.100e+01)\n",
      " (126, 127,  0,  1.32259220e+00, 0.91829583,    3, 3.000e+00)\n",
      " ( -1,  -1, -2, -2.00000000e+00, 0.        ,    1, 1.000e+00)\n",
      " (128, 129,  1, -6.78096861e-01, 1.        ,    2, 2.000e+00)\n",
      " ( -1,  -1, -2, -2.00000000e+00, 0.        ,    1, 1.000e+00)\n",
      " ( -1,  -1, -2, -2.00000000e+00, 0.        ,    1, 1.000e+00)\n",
      " ( -1,  -1, -2, -2.00000000e+00, 0.        ,    8, 8.000e+00)\n",
      " (132, 133,  0,  1.19835424e+00, 1.        ,    8, 8.000e+00)\n",
      " ( -1,  -1, -2, -2.00000000e+00, 0.        ,    2, 2.000e+00)\n",
      " (134, 139,  0,  1.45211691e+00, 0.91829583,    6, 6.000e+00)\n",
      " (135, 136,  2, -2.47839183e-01, 0.72192809,    5, 5.000e+00)\n",
      " ( -1,  -1, -2, -2.00000000e+00, 0.        ,    3, 3.000e+00)\n",
      " (137, 138,  1, -8.12190980e-01, 1.        ,    2, 2.000e+00)\n",
      " ( -1,  -1, -2, -2.00000000e+00, 0.        ,    1, 1.000e+00)\n",
      " ( -1,  -1, -2, -2.00000000e+00, 0.        ,    1, 1.000e+00)\n",
      " ( -1,  -1, -2, -2.00000000e+00, 0.        ,    1, 1.000e+00)\n",
      " ( -1,  -1, -2, -2.00000000e+00, 0.        ,    4, 4.000e+00)\n",
      " ( -1,  -1, -2, -2.00000000e+00, 0.        ,    4, 4.000e+00)\n",
      " ( -1,  -1, -2, -2.00000000e+00, 0.        ,    4, 4.000e+00)\n",
      " (144, 149,  3, -2.80101612e-01, 0.91829583,   27, 2.700e+01)\n",
      " (145, 148,  2, -3.98351297e-01, 0.97095059,   10, 1.000e+01)\n",
      " (146, 147,  0,  1.72438300e+00, 0.59167278,    7, 7.000e+00)\n",
      " ( -1,  -1, -2, -2.00000000e+00, 0.        ,    1, 1.000e+00)\n",
      " ( -1,  -1, -2, -2.00000000e+00, 0.        ,    6, 6.000e+00)\n",
      " ( -1,  -1, -2, -2.00000000e+00, 0.        ,    3, 3.000e+00)\n",
      " (150, 157,  1, -1.26723164e+00, 0.67229482,   17, 1.700e+01)\n",
      " (151, 156,  1, -1.31339520e+00, 0.91829583,    9, 9.000e+00)\n",
      " (152, 153,  2, -3.00343409e-01, 0.59167278,    7, 7.000e+00)\n",
      " ( -1,  -1, -2, -2.00000000e+00, 0.        ,    4, 4.000e+00)\n",
      " (154, 155,  3,  1.53303474e-01, 0.91829583,    3, 3.000e+00)\n",
      " ( -1,  -1, -2, -2.00000000e+00, 0.        ,    2, 2.000e+00)\n",
      " ( -1,  -1, -2, -2.00000000e+00, 0.        ,    1, 1.000e+00)\n",
      " ( -1,  -1, -2, -2.00000000e+00, 0.        ,    2, 2.000e+00)\n",
      " ( -1,  -1, -2, -2.00000000e+00, 0.        ,    8, 8.000e+00)\n",
      " (159, 188,  2, -3.08217118e-02, 0.77215514,   75, 7.500e+01)\n",
      " (160, 187,  0,  1.03975266e+00, 0.91134238,   49, 4.900e+01)\n",
      " (161, 186,  3,  5.52072912e-01, 0.97095059,   40, 4.000e+01)\n",
      " (162, 185,  3,  4.29486752e-01, 0.93526914,   37, 3.700e+01)\n",
      " (163, 184,  3,  3.59205782e-01, 0.95968689,   34, 3.400e+01)\n",
      " (164, 183,  3,  2.48031855e-01, 0.92836207,   32, 3.200e+01)\n",
      " (165, 182,  1, -2.99995422e-01, 0.95755348,   29, 2.900e+01)\n",
      " (166, 175,  1, -4.01115566e-01, 0.91829583,   27, 2.700e+01)\n",
      " (167, 174,  3, -1.08705569e-01, 1.        ,   14, 1.400e+01)\n",
      " (168, 169,  3, -1.73463947e+00, 0.9456603 ,   11, 1.100e+01)\n",
      " ( -1,  -1, -2, -2.00000000e+00, 0.        ,    2, 2.000e+00)\n",
      " (170, 171,  1, -4.45080847e-01, 0.76420451,    9, 9.000e+00)\n",
      " ( -1,  -1, -2, -2.00000000e+00, 0.        ,    5, 5.000e+00)\n",
      " (172, 173,  3, -3.92284498e-01, 1.        ,    4, 4.000e+00)\n",
      " ( -1,  -1, -2, -2.00000000e+00, 0.        ,    2, 2.000e+00)\n",
      " ( -1,  -1, -2, -2.00000000e+00, 0.        ,    2, 2.000e+00)\n",
      " ( -1,  -1, -2, -2.00000000e+00, 0.        ,    3, 3.000e+00)\n",
      " (176, 181,  3, -7.47281998e-01, 0.61938219,   13, 1.300e+01)\n",
      " (177, 178,  0,  7.38409579e-01, 0.91829583,    6, 6.000e+00)\n",
      " ( -1,  -1, -2, -2.00000000e+00, 0.        ,    3, 3.000e+00)\n",
      " (179, 180,  2, -5.62864542e-01, 0.91829583,    3, 3.000e+00)\n",
      " ( -1,  -1, -2, -2.00000000e+00, 0.        ,    1, 1.000e+00)\n",
      " ( -1,  -1, -2, -2.00000000e+00, 0.        ,    2, 2.000e+00)\n",
      " ( -1,  -1, -2, -2.00000000e+00, 0.        ,    7, 7.000e+00)\n",
      " ( -1,  -1, -2, -2.00000000e+00, 0.        ,    2, 2.000e+00)\n",
      " ( -1,  -1, -2, -2.00000000e+00, 0.        ,    3, 3.000e+00)\n",
      " ( -1,  -1, -2, -2.00000000e+00, 0.        ,    2, 2.000e+00)\n",
      " ( -1,  -1, -2, -2.00000000e+00, 0.        ,    3, 3.000e+00)\n",
      " ( -1,  -1, -2, -2.00000000e+00, 0.        ,    3, 3.000e+00)\n",
      " ( -1,  -1, -2, -2.00000000e+00, 0.        ,    9, 9.000e+00)\n",
      " (189, 190,  3,  1.20992571e+00, 0.23519338,   26, 2.600e+01)\n",
      " ( -1,  -1, -2, -2.00000000e+00, 0.        ,   25, 2.500e+01)\n",
      " ( -1,  -1, -2, -2.00000000e+00, 0.        ,    1, 1.000e+00)\n",
      " (192, 193,  1, -1.54201466e+00, 0.92650445,   79, 7.900e+01)\n",
      " ( -1,  -1, -2, -2.00000000e+00, 0.        ,    3, 3.000e+00)\n",
      " (194, 231,  3,  9.81427640e-01, 0.89974376,   76, 7.600e+01)\n",
      " (195, 210,  3,  3.64726126e-01, 0.94216317,   64, 6.400e+01)\n",
      " (196, 207,  0, -1.52402788e-01, 0.77934984,   26, 2.600e+01)\n",
      " (197, 206,  1, -4.16503415e-01, 0.9612366 ,   13, 1.300e+01)\n",
      " (198, 199,  0, -2.66067281e-01, 1.        ,   10, 1.000e+01)\n",
      " ( -1,  -1, -2, -2.00000000e+00, 0.        ,    2, 2.000e+00)\n",
      " (200, 201,  0, -2.23773517e-01, 0.954434  ,    8, 8.000e+00)\n",
      " ( -1,  -1, -2, -2.00000000e+00, 0.        ,    3, 3.000e+00)\n",
      " (202, 203,  3, -1.49059111e+00, 0.97095059,    5, 5.000e+00)\n",
      " ( -1,  -1, -2, -2.00000000e+00, 0.        ,    2, 2.000e+00)\n",
      " (204, 205,  3, -4.73782159e-02, 0.91829583,    3, 3.000e+00)\n",
      " ( -1,  -1, -2, -2.00000000e+00, 0.        ,    2, 2.000e+00)\n",
      " ( -1,  -1, -2, -2.00000000e+00, 0.        ,    1, 1.000e+00)\n",
      " ( -1,  -1, -2, -2.00000000e+00, 0.        ,    3, 3.000e+00)\n",
      " (208, 209,  1, -1.52223033e+00, 0.39124356,   13, 1.300e+01)\n",
      " ( -1,  -1, -2, -2.00000000e+00, 0.        ,    1, 1.000e+00)\n",
      " ( -1,  -1, -2, -2.00000000e+00, 0.        ,   12, 1.200e+01)\n",
      " (211, 222,  2,  1.27828372e+00, 0.9919924 ,   38, 3.800e+01)\n",
      " (212, 219,  2,  9.00253236e-01, 0.89603823,   16, 1.600e+01)\n",
      " (213, 218,  2,  8.26747298e-01, 0.98522814,    7, 7.000e+00)\n",
      " (214, 215,  3,  5.69401383e-01, 0.97095059,    5, 5.000e+00)\n",
      " ( -1,  -1, -2, -2.00000000e+00, 0.        ,    2, 2.000e+00)\n",
      " (216, 217,  0, -1.70906313e-01, 0.91829583,    3, 3.000e+00)\n",
      " ( -1,  -1, -2, -2.00000000e+00, 0.        ,    1, 1.000e+00)\n",
      " ( -1,  -1, -2, -2.00000000e+00, 0.        ,    2, 2.000e+00)\n",
      " ( -1,  -1, -2, -2.00000000e+00, 0.        ,    2, 2.000e+00)\n",
      " (220, 221,  1, -1.02542257e+00, 0.50325833,    9, 9.000e+00)\n",
      " ( -1,  -1, -2, -2.00000000e+00, 0.        ,    1, 1.000e+00)\n",
      " ( -1,  -1, -2, -2.00000000e+00, 0.        ,    8, 8.000e+00)\n",
      " (223, 226,  1, -1.19249070e+00, 0.84535094,   22, 2.200e+01)\n",
      " (224, 225,  2,  2.48938107e+00, 0.91829583,    6, 6.000e+00)\n",
      " ( -1,  -1, -2, -2.00000000e+00, 0.        ,    4, 4.000e+00)\n",
      " ( -1,  -1, -2, -2.00000000e+00, 0.        ,    2, 2.000e+00)\n",
      " (227, 230,  3,  6.94357693e-01, 0.54356444,   16, 1.600e+01)\n",
      " (228, 229,  2,  1.50930226e+00, 0.91829583,    6, 6.000e+00)\n",
      " ( -1,  -1, -2, -2.00000000e+00, 0.        ,    2, 2.000e+00)\n",
      " ( -1,  -1, -2, -2.00000000e+00, 0.        ,    4, 4.000e+00)\n",
      " ( -1,  -1, -2, -2.00000000e+00, 0.        ,   10, 1.000e+01)\n",
      " (232, 233,  0, -2.97787607e-01, 0.41381685,   12, 1.200e+01)\n",
      " ( -1,  -1, -2, -2.00000000e+00, 0.        ,    1, 1.000e+00)\n",
      " ( -1,  -1, -2, -2.00000000e+00, 0.        ,   11, 1.100e+01)\n",
      " (235, 590,  2, -4.75357503e-01, 0.8583965 , 1251, 1.251e+03)\n",
      " (236, 301,  0, -5.27759939e-01, 0.78227879,  727, 7.270e+02)\n",
      " (237, 244,  3, -2.74823800e-01, 0.98729273,   83, 8.300e+01)\n",
      " (238, 239,  1,  4.36423078e-01, 0.54356444,   16, 1.600e+01)\n",
      " ( -1,  -1, -2, -2.00000000e+00, 0.        ,    1, 1.000e+00)\n",
      " (240, 243,  3, -1.04385036e+00, 0.35335934,   15, 1.500e+01)\n",
      " (241, 242,  3, -1.48526710e+00, 0.91829583,    3, 3.000e+00)\n",
      " ( -1,  -1, -2, -2.00000000e+00, 0.        ,    2, 2.000e+00)\n",
      " ( -1,  -1, -2, -2.00000000e+00, 0.        ,    1, 1.000e+00)\n",
      " ( -1,  -1, -2, -2.00000000e+00, 0.        ,   12, 1.200e+01)\n",
      " (245, 264,  2, -5.87366521e-01, 0.9998393 ,   67, 6.700e+01)\n",
      " (246, 263,  3,  3.27786058e-01, 0.84535094,   22, 2.200e+01)\n",
      " (247, 262,  2, -5.94367087e-01, 0.93666738,   17, 1.700e+01)\n",
      " (248, 251,  1,  9.64006484e-01, 0.98522814,   14, 1.400e+01)\n",
      " (249, 250,  3, -6.32225601e-02, 0.65002242,    6, 6.000e+00)\n",
      " ( -1,  -1, -2, -2.00000000e+00, 0.        ,    1, 1.000e+00)\n",
      " ( -1,  -1, -2, -2.00000000e+00, 0.        ,    5, 5.000e+00)\n",
      " (252, 253,  1,  9.94782180e-01, 0.954434  ,    8, 8.000e+00)\n",
      " ( -1,  -1, -2, -2.00000000e+00, 0.        ,    2, 2.000e+00)\n",
      " (254, 255,  3, -1.86567768e-01, 1.        ,    6, 6.000e+00)\n",
      " ( -1,  -1, -2, -2.00000000e+00, 0.        ,    1, 1.000e+00)\n",
      " (256, 261,  1,  1.05193704e+00, 0.97095059,    5, 5.000e+00)\n",
      " (257, 260,  2, -6.01367652e-01, 0.91829583,    3, 3.000e+00)\n",
      " (258, 259,  3,  1.30642133e-02, 1.        ,    2, 2.000e+00)\n",
      " ( -1,  -1, -2, -2.00000000e+00, 0.        ,    1, 1.000e+00)\n",
      " ( -1,  -1, -2, -2.00000000e+00, 0.        ,    1, 1.000e+00)\n",
      " ( -1,  -1, -2, -2.00000000e+00, 0.        ,    1, 1.000e+00)\n",
      " ( -1,  -1, -2, -2.00000000e+00, 0.        ,    2, 2.000e+00)\n",
      " ( -1,  -1, -2, -2.00000000e+00, 0.        ,    3, 3.000e+00)\n",
      " ( -1,  -1, -2, -2.00000000e+00, 0.        ,    5, 5.000e+00)\n",
      " (265, 300,  3,  5.69548637e-01, 0.9564574 ,   45, 4.500e+01)\n",
      " (266, 267,  3, -1.86274275e-01, 0.98370826,   40, 4.000e+01)\n",
      " ( -1,  -1, -2, -2.00000000e+00, 0.        ,    4, 4.000e+00)\n",
      " (268, 295,  2, -5.17360866e-01, 0.99777247,   36, 3.600e+01)\n",
      " (269, 272,  0, -5.64766973e-01, 0.99679163,   30, 3.000e+01)\n",
      " (270, 271,  2, -5.52363694e-01, 0.72192809,    5, 5.000e+00)\n",
      " ( -1,  -1, -2, -2.00000000e+00, 0.        ,    4, 4.000e+00)\n",
      " ( -1,  -1, -2, -2.00000000e+00, 0.        ,    1, 1.000e+00)\n",
      " (273, 274,  0, -5.54193556e-01, 0.99884554,   25, 2.500e+01)\n",
      " ( -1,  -1, -2, -2.00000000e+00, 0.        ,    3, 3.000e+00)\n",
      " (275, 276,  0, -5.48906833e-01, 0.99403021,   22, 2.200e+01)\n",
      " ( -1,  -1, -2, -2.00000000e+00, 0.        ,    2, 2.000e+00)\n",
      " (277, 278,  1,  8.80472451e-01, 1.        ,   20, 2.000e+01)\n",
      " ( -1,  -1, -2, -2.00000000e+00, 0.        ,    2, 2.000e+00)\n",
      " (279, 294,  0, -5.33046663e-01, 0.99107606,   18, 1.800e+01)\n",
      " (280, 281,  2, -5.73365390e-01, 0.98522814,   14, 1.400e+01)\n",
      " ( -1,  -1, -2, -2.00000000e+00, 0.        ,    3, 3.000e+00)\n",
      " (282, 283,  3,  1.70958757e-01, 0.99403021,   11, 1.100e+01)\n",
      " ( -1,  -1, -2, -2.00000000e+00, 0.        ,    2, 2.000e+00)\n",
      " (284, 289,  0, -5.38333386e-01, 0.99107606,    9, 9.000e+00)\n",
      " (285, 288,  0, -5.43620110e-01, 0.72192809,    5, 5.000e+00)\n",
      " (286, 287,  3,  2.44838186e-01, 1.        ,    2, 2.000e+00)\n",
      " ( -1,  -1, -2, -2.00000000e+00, 0.        ,    1, 1.000e+00)\n",
      " ( -1,  -1, -2, -2.00000000e+00, 0.        ,    1, 1.000e+00)\n",
      " ( -1,  -1, -2, -2.00000000e+00, 0.        ,    3, 3.000e+00)\n",
      " (290, 293,  1,  9.33230788e-01, 0.81127812,    4, 4.000e+00)\n",
      " (291, 292,  2, -5.34862280e-01, 1.        ,    2, 2.000e+00)\n",
      " ( -1,  -1, -2, -2.00000000e+00, 0.        ,    1, 1.000e+00)\n",
      " ( -1,  -1, -2, -2.00000000e+00, 0.        ,    1, 1.000e+00)\n",
      " ( -1,  -1, -2, -2.00000000e+00, 0.        ,    2, 2.000e+00)\n",
      " ( -1,  -1, -2, -2.00000000e+00, 0.        ,    4, 4.000e+00)\n",
      " (296, 297,  3,  3.60646889e-01, 0.65002242,    6, 6.000e+00)\n",
      " ( -1,  -1, -2, -2.00000000e+00, 0.        ,    4, 4.000e+00)\n",
      " (298, 299,  0, -5.56836903e-01, 1.        ,    2, 2.000e+00)\n",
      " ( -1,  -1, -2, -2.00000000e+00, 0.        ,    1, 1.000e+00)\n",
      " ( -1,  -1, -2, -2.00000000e+00, 0.        ,    1, 1.000e+00)\n",
      " ( -1,  -1, -2, -2.00000000e+00, 0.        ,    5, 5.000e+00)\n",
      " (302, 395,  3, -1.59858726e-02, 0.73478135,  644, 6.440e+02)\n",
      " (303, 394,  3, -8.35833400e-02, 0.59446347,  264, 2.640e+02)\n",
      " (304, 339,  3, -3.29270348e-01, 0.64330713,  232, 2.320e+02)\n",
      " (305, 326,  3, -6.89514697e-01, 0.49802789,  128, 1.280e+02)\n",
      " (306, 325,  3, -7.20750839e-01, 0.65654028,   59, 5.900e+01)\n",
      " (307, 308,  3, -1.30683821e+00, 0.58515699,   57, 5.700e+01)\n",
      " ( -1,  -1, -2, -2.00000000e+00, 0.        ,   14, 1.400e+01)\n",
      " (309, 322,  3, -8.90007615e-01, 0.69312742,   43, 4.300e+01)\n",
      " (310, 317,  0, -1.65619589e-01, 0.87086447,   24, 2.400e+01)\n",
      " (311, 312,  3, -1.00466239e+00, 0.67229482,   17, 1.700e+01)\n",
      " ( -1,  -1, -2, -2.00000000e+00, 0.        ,    9, 9.000e+00)\n",
      " (313, 314,  3, -9.63850170e-01, 0.954434  ,    8, 8.000e+00)\n",
      " ( -1,  -1, -2, -2.00000000e+00, 0.        ,    2, 2.000e+00)\n",
      " (315, 316,  0, -4.66962636e-01, 0.65002242,    6, 6.000e+00)\n",
      " ( -1,  -1, -2, -2.00000000e+00, 0.        ,    1, 1.000e+00)\n",
      " ( -1,  -1, -2, -2.00000000e+00, 0.        ,    5, 5.000e+00)\n",
      " (318, 321,  3, -1.17615390e+00, 0.98522814,    7, 7.000e+00)\n",
      " (319, 320,  3, -1.26688617e+00, 0.81127812,    4, 4.000e+00)\n",
      " ( -1,  -1, -2, -2.00000000e+00, 0.        ,    1, 1.000e+00)\n",
      " ( -1,  -1, -2, -2.00000000e+00, 0.        ,    3, 3.000e+00)\n",
      " ( -1,  -1, -2, -2.00000000e+00, 0.        ,    3, 3.000e+00)\n",
      " (323, 324,  0, -4.98682961e-01, 0.29747225,   19, 1.900e+01)\n",
      " ( -1,  -1, -2, -2.00000000e+00, 0.        ,    1, 1.000e+00)\n",
      " ( -1,  -1, -2, -2.00000000e+00, 0.        ,   18, 1.800e+01)\n",
      " ( -1,  -1, -2, -2.00000000e+00, 0.        ,    2, 2.000e+00)\n",
      " (327, 338,  1,  8.14524531e-01, 0.31933739,   69, 6.900e+01)\n",
      " (328, 329,  1,  6.21077269e-01, 0.43275016,   45, 4.500e+01)\n",
      " ( -1,  -1, -2, -2.00000000e+00, 0.        ,   20, 2.000e+01)\n",
      " (330, 333,  1,  6.73835605e-01, 0.63430955,   25, 2.500e+01)\n",
      " (331, 332,  3, -5.44446319e-01, 1.        ,    6, 6.000e+00)\n",
      " ( -1,  -1, -2, -2.00000000e+00, 0.        ,    3, 3.000e+00)\n",
      " ( -1,  -1, -2, -2.00000000e+00, 0.        ,    3, 3.000e+00)\n",
      " (334, 337,  0, -4.69606027e-01, 0.29747225,   19, 1.900e+01)\n",
      " (335, 336,  0, -4.85466182e-01, 1.        ,    2, 2.000e+00)\n",
      " ( -1,  -1, -2, -2.00000000e+00, 0.        ,    1, 1.000e+00)\n",
      " ( -1,  -1, -2, -2.00000000e+00, 0.        ,    1, 1.000e+00)\n",
      " ( -1,  -1, -2, -2.00000000e+00, 0.        ,   17, 1.700e+01)\n",
      " ( -1,  -1, -2, -2.00000000e+00, 0.        ,   24, 2.400e+01)\n",
      " (340, 355,  1,  4.38621342e-01, 0.77934984,  104, 1.040e+02)\n",
      " (341, 350,  0, -7.01797754e-03, 0.99403021,   22, 2.200e+01)\n",
      " (342, 343,  3, -2.19914623e-01, 0.89049164,   13, 1.300e+01)\n",
      " ( -1,  -1, -2, -2.00000000e+00, 0.        ,    6, 6.000e+00)\n",
      " (344, 345,  0, -2.87214160e-01, 0.98522814,    7, 7.000e+00)\n",
      " ( -1,  -1, -2, -2.00000000e+00, 0.        ,    2, 2.000e+00)\n",
      " (346, 347,  1,  3.68276894e-01, 0.97095059,    5, 5.000e+00)\n",
      " ( -1,  -1, -2, -2.00000000e+00, 0.        ,    2, 2.000e+00)\n",
      " (348, 349,  3, -1.71203136e-01, 0.91829583,    3, 3.000e+00)\n",
      " ( -1,  -1, -2, -2.00000000e+00, 0.        ,    1, 1.000e+00)\n",
      " ( -1,  -1, -2, -2.00000000e+00, 0.        ,    2, 2.000e+00)\n",
      " (351, 352,  2, -5.41862845e-01, 0.50325833,    9, 9.000e+00)\n",
      " ( -1,  -1, -2, -2.00000000e+00, 0.        ,    7, 7.000e+00)\n",
      " (353, 354,  2, -5.27861714e-01, 1.        ,    2, 2.000e+00)\n",
      " ( -1,  -1, -2, -2.00000000e+00, 0.        ,    1, 1.000e+00)\n",
      " ( -1,  -1, -2, -2.00000000e+00, 0.        ,    1, 1.000e+00)\n",
      " (356, 383,  1,  9.06851619e-01, 0.65937588,   82, 8.200e+01)\n",
      " (357, 358,  3, -2.17208207e-01, 0.53283506,   66, 6.600e+01)\n",
      " ( -1,  -1, -2, -2.00000000e+00, 0.        ,   25, 2.500e+01)\n",
      " (359, 360,  3, -2.15997823e-01, 0.71206405,   41, 4.100e+01)\n",
      " ( -1,  -1, -2, -2.00000000e+00, 0.        ,    1, 1.000e+00)\n",
      " (361, 364,  0, -4.27312240e-01, 0.66901584,   40, 4.000e+01)\n",
      " (362, 363,  2, -6.01367652e-01, 0.30954343,   18, 1.800e+01)\n",
      " ( -1,  -1, -2, -2.00000000e+00, 0.        ,    1, 1.000e+00)\n",
      " ( -1,  -1, -2, -2.00000000e+00, 0.        ,   17, 1.700e+01)\n",
      " (365, 366,  3, -2.01109126e-01, 0.84535094,   22, 2.200e+01)\n",
      " ( -1,  -1, -2, -2.00000000e+00, 0.        ,    4, 4.000e+00)\n",
      " (367, 382,  3, -1.02596603e-01, 0.91829583,   18, 1.800e+01)\n",
      " (368, 381,  0, -8.89621414e-02, 0.98522814,   14, 1.400e+01)\n",
      " (369, 370,  3, -1.91255122e-01, 1.        ,   12, 1.200e+01)\n",
      " ( -1,  -1, -2, -2.00000000e+00, 0.        ,    1, 1.000e+00)\n",
      " (371, 372,  3, -1.75111115e-01, 0.99403021,   11, 1.100e+01)\n",
      " ( -1,  -1, -2, -2.00000000e+00, 0.        ,    2, 2.000e+00)\n",
      " (373, 374,  1,  4.93577957e-01, 0.99107606,    9, 9.000e+00)\n",
      " ( -1,  -1, -2, -2.00000000e+00, 0.        ,    1, 1.000e+00)\n",
      " (375, 376,  1,  7.22197413e-01, 0.954434  ,    8, 8.000e+00)\n",
      " ( -1,  -1, -2, -2.00000000e+00, 0.        ,    3, 3.000e+00)\n",
      " (377, 380,  0, -4.00878638e-01, 0.97095059,    5, 5.000e+00)\n",
      " (378, 379,  3, -1.62425376e-01, 0.91829583,    3, 3.000e+00)\n",
      " ( -1,  -1, -2, -2.00000000e+00, 0.        ,    1, 1.000e+00)\n",
      " ( -1,  -1, -2, -2.00000000e+00, 0.        ,    2, 2.000e+00)\n",
      " ( -1,  -1, -2, -2.00000000e+00, 0.        ,    2, 2.000e+00)\n",
      " ( -1,  -1, -2, -2.00000000e+00, 0.        ,    2, 2.000e+00)\n",
      " ( -1,  -1, -2, -2.00000000e+00, 0.        ,    4, 4.000e+00)\n",
      " (384, 385,  3, -2.48817228e-01, 0.954434  ,   16, 1.600e+01)\n",
      " ( -1,  -1, -2, -2.00000000e+00, 0.        ,    2, 2.000e+00)\n",
      " (386, 393,  3, -1.03129786e-01, 0.86312057,   14, 1.400e+01)\n",
      " (387, 388,  1,  9.11248147e-01, 0.65002242,   12, 1.200e+01)\n",
      " ( -1,  -1, -2, -2.00000000e+00, 0.        ,    1, 1.000e+00)\n",
      " (389, 392,  3, -2.16029368e-01, 0.43949699,   11, 1.100e+01)\n",
      " (390, 391,  3, -2.32721999e-01, 0.91829583,    3, 3.000e+00)\n",
      " ( -1,  -1, -2, -2.00000000e+00, 0.        ,    2, 2.000e+00)\n",
      " ( -1,  -1, -2, -2.00000000e+00, 0.        ,    1, 1.000e+00)\n",
      " ( -1,  -1, -2, -2.00000000e+00, 0.        ,    8, 8.000e+00)\n",
      " ( -1,  -1, -2, -2.00000000e+00, 0.        ,    2, 2.000e+00)\n",
      " ( -1,  -1, -2, -2.00000000e+00, 0.        ,   32, 3.200e+01)\n",
      " (396, 397,  3, -9.02030338e-03, 0.81127812,  380, 3.800e+02)\n",
      " ( -1,  -1, -2, -2.00000000e+00, 0.        ,    4, 4.000e+00)\n",
      " (398, 589,  2, -4.89358634e-01, 0.79838547,  376, 3.760e+02)\n",
      " (399, 436,  1,  3.70475158e-01, 0.81236787,  363, 3.630e+02)\n",
      " (400, 419,  0,  1.72730520e-01, 0.97511906,   54, 5.400e+01)\n",
      " (401, 402,  1, -1.41720399e-01, 0.99226664,   29, 2.900e+01)\n",
      " ( -1,  -1, -2, -2.00000000e+00, 0.        ,    3, 3.000e+00)\n",
      " (403, 408,  0, -1.23325828e-01, 1.        ,   26, 2.600e+01)\n",
      " (404, 407,  1,  3.59483838e-01, 0.72192809,   10, 1.000e+01)\n",
      " (405, 406,  0, -4.85466167e-01, 0.50325833,    9, 9.000e+00)\n",
      " ( -1,  -1, -2, -2.00000000e+00, 0.        ,    1, 1.000e+00)\n",
      " ( -1,  -1, -2, -2.00000000e+00, 0.        ,    8, 8.000e+00)\n",
      " ( -1,  -1, -2, -2.00000000e+00, 0.        ,    1, 1.000e+00)\n",
      " (409, 410,  0,  4.84925881e-02, 0.89603823,   16, 1.600e+01)\n",
      " ( -1,  -1, -2, -2.00000000e+00, 0.        ,    5, 5.000e+00)\n",
      " (411, 412,  0,  5.37793096e-02, 0.99403021,   11, 1.100e+01)\n",
      " ( -1,  -1, -2, -2.00000000e+00, 0.        ,    2, 2.000e+00)\n",
      " (413, 414,  0,  8.54996294e-02, 0.91829583,    9, 9.000e+00)\n",
      " ( -1,  -1, -2, -2.00000000e+00, 0.        ,    3, 3.000e+00)\n",
      " (415, 416,  0,  1.33080110e-01, 1.        ,    6, 6.000e+00)\n",
      " ( -1,  -1, -2, -2.00000000e+00, 0.        ,    2, 2.000e+00)\n",
      " (417, 418,  2, -5.59364259e-01, 0.81127812,    4, 4.000e+00)\n",
      " ( -1,  -1, -2, -2.00000000e+00, 0.        ,    1, 1.000e+00)\n",
      " ( -1,  -1, -2, -2.00000000e+00, 0.        ,    3, 3.000e+00)\n",
      " (420, 421,  0,  2.38814525e-01, 0.79504028,   25, 2.500e+01)\n",
      " ( -1,  -1, -2, -2.00000000e+00, 0.        ,    7, 7.000e+00)\n",
      " (422, 435,  1,  3.02328974e-01, 0.91829583,   18, 1.800e+01)\n",
      " (423, 434,  2, -4.96359184e-01, 0.87398105,   17, 1.700e+01)\n",
      " (424, 431,  0,  6.56465441e-01, 0.81127812,   16, 1.600e+01)\n",
      " (425, 430,  0,  4.74073574e-01, 0.65002242,   12, 1.200e+01)\n",
      " (426, 429,  0,  4.00059506e-01, 0.91829583,    6, 6.000e+00)\n",
      " (427, 428,  1,  9.95982811e-03, 0.72192809,    5, 5.000e+00)\n",
      " ( -1,  -1, -2, -2.00000000e+00, 0.        ,    1, 1.000e+00)\n",
      " ( -1,  -1, -2, -2.00000000e+00, 0.        ,    4, 4.000e+00)\n",
      " ( -1,  -1, -2, -2.00000000e+00, 0.        ,    1, 1.000e+00)\n",
      " ( -1,  -1, -2, -2.00000000e+00, 0.        ,    6, 6.000e+00)\n",
      " (432, 433,  1, -2.14263119e-01, 1.        ,    4, 4.000e+00)\n",
      " ( -1,  -1, -2, -2.00000000e+00, 0.        ,    2, 2.000e+00)\n",
      " ( -1,  -1, -2, -2.00000000e+00, 0.        ,    2, 2.000e+00)\n",
      " ( -1,  -1, -2, -2.00000000e+00, 0.        ,    1, 1.000e+00)\n",
      " ( -1,  -1, -2, -2.00000000e+00, 0.        ,    1, 1.000e+00)\n",
      " (437, 552,  0, -4.27312240e-01, 0.76614934,  309, 3.090e+02)\n",
      " (438, 497,  3,  2.80283540e-01, 0.84340481,  199, 1.990e+02)\n",
      " (439, 480,  1,  8.98058563e-01, 0.72558268,  109, 1.090e+02)\n",
      " (440, 471,  1,  8.80472451e-01, 0.84741796,   62, 6.200e+01)\n",
      " (441, 446,  0, -4.85466167e-01, 0.76420451,   54, 5.400e+01)\n",
      " (442, 443,  2, -5.03359735e-01, 0.28639696,   20, 2.000e+01)\n",
      " ( -1,  -1, -2, -2.00000000e+00, 0.        ,   17, 1.700e+01)\n",
      " (444, 445,  2, -4.96359184e-01, 0.91829583,    3, 3.000e+00)\n",
      " ( -1,  -1, -2, -2.00000000e+00, 0.        ,    1, 1.000e+00)\n",
      " ( -1,  -1, -2, -2.00000000e+00, 0.        ,    2, 2.000e+00)\n",
      " (447, 448,  0, -4.80179444e-01, 0.90817835,   34, 3.400e+01)\n",
      " ( -1,  -1, -2, -2.00000000e+00, 0.        ,    2, 2.000e+00)\n",
      " (449, 470,  2, -5.38362563e-01, 0.85714844,   32, 3.200e+01)\n",
      " (450, 451,  3,  1.48300729e-02, 0.94268319,   25, 2.500e+01)\n",
      " ( -1,  -1, -2, -2.00000000e+00, 0.        ,    5, 5.000e+00)\n",
      " (452, 469,  3,  2.42524356e-01, 0.99277445,   20, 2.000e+01)\n",
      " (453, 468,  0, -4.32598963e-01, 1.        ,   18, 1.800e+01)\n",
      " (454, 467,  1,  8.69481117e-01, 0.98869941,   16, 1.600e+01)\n",
      " (455, 456,  3,  4.10255548e-02, 0.94028596,   14, 1.400e+01)\n",
      " ( -1,  -1, -2, -2.00000000e+00, 0.        ,    3, 3.000e+00)\n",
      " (457, 466,  3,  1.98063560e-01, 0.99403021,   11, 1.100e+01)\n",
      " (458, 465,  1,  8.51895005e-01, 0.99107606,    9, 9.000e+00)\n",
      " (459, 464,  1,  8.25515836e-01, 0.954434  ,    8, 8.000e+00)\n",
      " (460, 461,  1,  5.41939750e-01, 0.97095059,    5, 5.000e+00)\n",
      " ( -1,  -1, -2, -2.00000000e+00, 0.        ,    1, 1.000e+00)\n",
      " (462, 463,  3,  4.41099610e-02, 0.81127812,    4, 4.000e+00)\n",
      " ( -1,  -1, -2, -2.00000000e+00, 0.        ,    1, 1.000e+00)\n",
      " ( -1,  -1, -2, -2.00000000e+00, 0.        ,    3, 3.000e+00)\n",
      " ( -1,  -1, -2, -2.00000000e+00, 0.        ,    3, 3.000e+00)\n",
      " ( -1,  -1, -2, -2.00000000e+00, 0.        ,    1, 1.000e+00)\n",
      " ( -1,  -1, -2, -2.00000000e+00, 0.        ,    2, 2.000e+00)\n",
      " ( -1,  -1, -2, -2.00000000e+00, 0.        ,    2, 2.000e+00)\n",
      " ( -1,  -1, -2, -2.00000000e+00, 0.        ,    2, 2.000e+00)\n",
      " ( -1,  -1, -2, -2.00000000e+00, 0.        ,    2, 2.000e+00)\n",
      " ( -1,  -1, -2, -2.00000000e+00, 0.        ,    7, 7.000e+00)\n",
      " (472, 479,  2, -5.59364259e-01, 0.954434  ,    8, 8.000e+00)\n",
      " (473, 478,  3,  2.21418373e-01, 0.97095059,    5, 5.000e+00)\n",
      " (474, 475,  2, -5.80365956e-01, 0.91829583,    3, 3.000e+00)\n",
      " ( -1,  -1, -2, -2.00000000e+00, 0.        ,    1, 1.000e+00)\n",
      " (476, 477,  3,  1.66540995e-01, 1.        ,    2, 2.000e+00)\n",
      " ( -1,  -1, -2, -2.00000000e+00, 0.        ,    1, 1.000e+00)\n",
      " ( -1,  -1, -2, -2.00000000e+00, 0.        ,    1, 1.000e+00)\n",
      " ( -1,  -1, -2, -2.00000000e+00, 0.        ,    2, 2.000e+00)\n",
      " ( -1,  -1, -2, -2.00000000e+00, 0.        ,    3, 3.000e+00)\n",
      " (481, 482,  3,  9.77280736e-02, 0.48890859,   47, 4.700e+01)\n",
      " ( -1,  -1, -2, -2.00000000e+00, 0.        ,   14, 1.400e+01)\n",
      " (483, 484,  3,  1.03059914e-01, 0.61361902,   33, 3.300e+01)\n",
      " ( -1,  -1, -2, -2.00000000e+00, 0.        ,    1, 1.000e+00)\n",
      " (485, 486,  2, -5.80365956e-01, 0.54356444,   32, 3.200e+01)\n",
      " ( -1,  -1, -2, -2.00000000e+00, 0.        ,   12, 1.200e+01)\n",
      " (487, 488,  3,  1.53371193e-01, 0.72192809,   20, 2.000e+01)\n",
      " ( -1,  -1, -2, -2.00000000e+00, 0.        ,    6, 6.000e+00)\n",
      " (489, 490,  3,  1.67134464e-01, 0.86312057,   14, 1.400e+01)\n",
      " ( -1,  -1, -2, -2.00000000e+00, 0.        ,    2, 2.000e+00)\n",
      " (491, 492,  2, -5.66364825e-01, 0.65002242,   12, 1.200e+01)\n",
      " ( -1,  -1, -2, -2.00000000e+00, 0.        ,    5, 5.000e+00)\n",
      " (493, 496,  3,  2.56826788e-01, 0.86312057,    7, 7.000e+00)\n",
      " (494, 495,  3,  2.14197300e-01, 1.        ,    4, 4.000e+00)\n",
      " ( -1,  -1, -2, -2.00000000e+00, 0.        ,    2, 2.000e+00)\n",
      " ( -1,  -1, -2, -2.00000000e+00, 0.        ,    2, 2.000e+00)\n",
      " ( -1,  -1, -2, -2.00000000e+00, 0.        ,    3, 3.000e+00)\n",
      " (498, 529,  2, -5.45363128e-01, 0.93893201,   90, 9.000e+01)\n",
      " (499, 528,  0, -4.37885687e-01, 0.83147439,   57, 5.700e+01)\n",
      " (500, 527,  0, -4.69606027e-01, 0.78894066,   55, 5.500e+01)\n",
      " (501, 510,  0, -5.06613046e-01, 0.87566339,   44, 4.400e+01)\n",
      " (502, 505,  3,  3.51838201e-01, 0.59167278,   21, 2.100e+01)\n",
      " (503, 504,  2, -5.76865673e-01, 1.        ,    4, 4.000e+00)\n",
      " ( -1,  -1, -2, -2.00000000e+00, 0.        ,    2, 2.000e+00)\n",
      " ( -1,  -1, -2, -2.00000000e+00, 0.        ,    2, 2.000e+00)\n",
      " (506, 507,  3,  5.30000210e-01, 0.32275696,   17, 1.700e+01)\n",
      " ( -1,  -1, -2, -2.00000000e+00, 0.        ,   14, 1.400e+01)\n",
      " (508, 509,  3,  5.94580531e-01, 0.91829583,    3, 3.000e+00)\n",
      " ( -1,  -1, -2, -2.00000000e+00, 0.        ,    1, 1.000e+00)\n",
      " ( -1,  -1, -2, -2.00000000e+00, 0.        ,    2, 2.000e+00)\n",
      " (511, 526,  3,  6.11521095e-01, 0.98769251,   23, 2.300e+01)\n",
      " (512, 525,  3,  4.77976397e-01, 0.99800088,   19, 1.900e+01)\n",
      " (513, 514,  2, -6.01367652e-01, 0.97095059,   15, 1.500e+01)\n",
      " ( -1,  -1, -2, -2.00000000e+00, 0.        ,    3, 3.000e+00)\n",
      " (515, 520,  2, -5.80365956e-01, 1.        ,   12, 1.200e+01)\n",
      " (516, 517,  1,  9.02455091e-01, 0.72192809,    5, 5.000e+00)\n",
      " ( -1,  -1, -2, -2.00000000e+00, 0.        ,    3, 3.000e+00)\n",
      " (518, 519,  3,  3.22513163e-01, 1.        ,    2, 2.000e+00)\n",
      " ( -1,  -1, -2, -2.00000000e+00, 0.        ,    1, 1.000e+00)\n",
      " ( -1,  -1, -2, -2.00000000e+00, 0.        ,    1, 1.000e+00)\n",
      " (521, 522,  1,  8.87067229e-01, 0.86312057,    7, 7.000e+00)\n",
      " ( -1,  -1, -2, -2.00000000e+00, 0.        ,    4, 4.000e+00)\n",
      " (523, 524,  2, -5.66364825e-01, 0.91829583,    3, 3.000e+00)\n",
      " ( -1,  -1, -2, -2.00000000e+00, 0.        ,    1, 1.000e+00)\n",
      " ( -1,  -1, -2, -2.00000000e+00, 0.        ,    2, 2.000e+00)\n",
      " ( -1,  -1, -2, -2.00000000e+00, 0.        ,    4, 4.000e+00)\n",
      " ( -1,  -1, -2, -2.00000000e+00, 0.        ,    4, 4.000e+00)\n",
      " ( -1,  -1, -2, -2.00000000e+00, 0.        ,   11, 1.100e+01)\n",
      " ( -1,  -1, -2, -2.00000000e+00, 0.        ,    2, 2.000e+00)\n",
      " (530, 541,  0, -4.64319304e-01, 0.9993375 ,   33, 3.300e+01)\n",
      " (531, 540,  1,  9.02455091e-01, 0.83147439,   19, 1.900e+01)\n",
      " (532, 539,  0, -4.88109529e-01, 0.94028596,   14, 1.400e+01)\n",
      " (533, 534,  1,  8.80472451e-01, 0.99107606,    9, 9.000e+00)\n",
      " ( -1,  -1, -2, -2.00000000e+00, 0.        ,    3, 3.000e+00)\n",
      " (535, 536,  1,  8.93662035e-01, 0.91829583,    6, 6.000e+00)\n",
      " ( -1,  -1, -2, -2.00000000e+00, 0.        ,    3, 3.000e+00)\n",
      " (537, 538,  3,  2.86005542e-01, 0.91829583,    3, 3.000e+00)\n",
      " ( -1,  -1, -2, -2.00000000e+00, 0.        ,    1, 1.000e+00)\n",
      " ( -1,  -1, -2, -2.00000000e+00, 0.        ,    2, 2.000e+00)\n",
      " ( -1,  -1, -2, -2.00000000e+00, 0.        ,    5, 5.000e+00)\n",
      " ( -1,  -1, -2, -2.00000000e+00, 0.        ,    5, 5.000e+00)\n",
      " (542, 547,  2, -5.31361997e-01, 0.74959526,   14, 1.400e+01)\n",
      " (543, 544,  1,  7.61766165e-01, 1.        ,    4, 4.000e+00)\n",
      " ( -1,  -1, -2, -2.00000000e+00, 0.        ,    1, 1.000e+00)\n",
      " (545, 546,  1,  8.49696755e-01, 0.91829583,    3, 3.000e+00)\n",
      " ( -1,  -1, -2, -2.00000000e+00, 0.        ,    2, 2.000e+00)\n",
      " ( -1,  -1, -2, -2.00000000e+00, 0.        ,    1, 1.000e+00)\n",
      " (548, 551,  1,  7.37585276e-01, 0.46899559,   10, 1.000e+01)\n",
      " (549, 550,  1,  7.19999164e-01, 1.        ,    2, 2.000e+00)\n",
      " ( -1,  -1, -2, -2.00000000e+00, 0.        ,    1, 1.000e+00)\n",
      " ( -1,  -1, -2, -2.00000000e+00, 0.        ,    1, 1.000e+00)\n",
      " ( -1,  -1, -2, -2.00000000e+00, 0.        ,    8, 8.000e+00)\n",
      " (553, 576,  3,  4.17125553e-01, 0.5746357 ,  110, 1.100e+02)\n",
      " (554, 575,  3,  2.70872876e-01, 0.43180499,   79, 7.900e+01)\n",
      " (555, 574,  3,  2.68201843e-01, 0.53737609,   57, 5.700e+01)\n",
      " (556, 573,  2, -5.38362563e-01, 0.49123734,   56, 5.600e+01)\n",
      " (557, 568,  0, -1.60332866e-01, 0.59167278,   42, 4.200e+01)\n",
      " (558, 559,  1,  6.87025189e-01, 0.43949699,   33, 3.300e+01)\n",
      " ( -1,  -1, -2, -2.00000000e+00, 0.        ,   11, 1.100e+01)\n",
      " (560, 561,  1,  7.00214773e-01, 0.5746357 ,   22, 2.200e+01)\n",
      " ( -1,  -1, -2, -2.00000000e+00, 0.        ,    1, 1.000e+00)\n",
      " (562, 563,  1,  8.18921059e-01, 0.45371634,   21, 2.100e+01)\n",
      " ( -1,  -1, -2, -2.00000000e+00, 0.        ,   11, 1.100e+01)\n",
      " (564, 567,  2, -5.52363694e-01, 0.72192809,   10, 1.000e+01)\n",
      " (565, 566,  0, -3.63871604e-01, 0.50325833,    9, 9.000e+00)\n",
      " ( -1,  -1, -2, -2.00000000e+00, 0.        ,    8, 8.000e+00)\n",
      " ( -1,  -1, -2, -2.00000000e+00, 0.        ,    1, 1.000e+00)\n",
      " ( -1,  -1, -2, -2.00000000e+00, 0.        ,    1, 1.000e+00)\n",
      " (569, 572,  0, -9.95355844e-02, 0.91829583,    9, 9.000e+00)\n",
      " (570, 571,  1,  6.01292878e-01, 0.81127812,    4, 4.000e+00)\n",
      " ( -1,  -1, -2, -2.00000000e+00, 0.        ,    3, 3.000e+00)\n",
      " ( -1,  -1, -2, -2.00000000e+00, 0.        ,    1, 1.000e+00)\n",
      " ( -1,  -1, -2, -2.00000000e+00, 0.        ,    5, 5.000e+00)\n",
      " ( -1,  -1, -2, -2.00000000e+00, 0.        ,   14, 1.400e+01)\n",
      " ( -1,  -1, -2, -2.00000000e+00, 0.        ,    1, 1.000e+00)\n",
      " ( -1,  -1, -2, -2.00000000e+00, 0.        ,   22, 2.200e+01)\n",
      " (577, 578,  3,  4.45234999e-01, 0.82381163,   31, 3.100e+01)\n",
      " ( -1,  -1, -2, -2.00000000e+00, 0.        ,    3, 3.000e+00)\n",
      " (579, 588,  1,  8.60688090e-01, 0.67694187,   28, 2.800e+01)\n",
      " (580, 581,  0, -2.73997352e-01, 0.60518658,   27, 2.700e+01)\n",
      " ( -1,  -1, -2, -2.00000000e+00, 0.        ,   15, 1.500e+01)\n",
      " (582, 587,  3,  7.24413544e-01, 0.91829583,   12, 1.200e+01)\n",
      " (583, 586,  0, -2.05269992e-01, 0.72192809,   10, 1.000e+01)\n",
      " (584, 585,  1,  6.34266853e-01, 1.        ,    4, 4.000e+00)\n",
      " ( -1,  -1, -2, -2.00000000e+00, 0.        ,    2, 2.000e+00)\n",
      " ( -1,  -1, -2, -2.00000000e+00, 0.        ,    2, 2.000e+00)\n",
      " ( -1,  -1, -2, -2.00000000e+00, 0.        ,    6, 6.000e+00)\n",
      " ( -1,  -1, -2, -2.00000000e+00, 0.        ,    2, 2.000e+00)\n",
      " ( -1,  -1, -2, -2.00000000e+00, 0.        ,    1, 1.000e+00)\n",
      " ( -1,  -1, -2, -2.00000000e+00, 0.        ,   13, 1.300e+01)\n",
      " (591, 662,  0, -4.59032580e-01, 0.93508652,  524, 5.240e+02)\n",
      " (592, 641,  3,  4.43988129e-01, 0.99699543,  124, 1.240e+02)\n",
      " (593, 638,  3,  3.86124894e-01, 0.95551112,   85, 8.500e+01)\n",
      " (594, 637,  3,  3.55446652e-01, 0.97244971,   77, 7.700e+01)\n",
      " (595, 634,  3,  2.01665081e-01, 0.95056685,   73, 7.300e+01)\n",
      " (596, 633,  3,  1.45661242e-01, 0.97789568,   63, 6.300e+01)\n",
      " (597, 628,  1,  8.14524531e-01, 0.96036227,   60, 6.000e+01)\n",
      " (598, 621,  1,  8.01334947e-01, 0.98636761,   51, 5.100e+01)\n",
      " (599, 600,  3, -2.18639505e+00, 0.96241274,   44, 4.400e+01)\n",
      " ( -1,  -1, -2, -2.00000000e+00, 0.        ,    4, 4.000e+00)\n",
      " (601, 618,  3, -7.72638712e-03, 0.98370826,   40, 4.000e+01)\n",
      " (602, 617,  3, -1.25002872e-01, 1.        ,   32, 3.200e+01)\n",
      " (603, 616,  1,  7.57369637e-01, 0.97511906,   27, 2.700e+01)\n",
      " (604, 615,  1,  6.82628661e-01, 0.99836367,   21, 2.100e+01)\n",
      " (605, 606,  1, -6.03846237e-02, 0.954434  ,   16, 1.600e+01)\n",
      " ( -1,  -1, -2, -2.00000000e+00, 0.        ,    2, 2.000e+00)\n",
      " (607, 608,  3, -1.27405638e+00, 0.86312057,   14, 1.400e+01)\n",
      " ( -1,  -1, -2, -2.00000000e+00, 0.        ,    4, 4.000e+00)\n",
      " (609, 614,  0, -4.64319304e-01, 0.97095059,   10, 1.000e+01)\n",
      " (610, 611,  3, -1.13205040e+00, 0.81127812,    8, 8.000e+00)\n",
      " ( -1,  -1, -2, -2.00000000e+00, 0.        ,    1, 1.000e+00)\n",
      " (612, 613,  2,  1.19690407e-01, 0.59167278,    7, 7.000e+00)\n",
      " ( -1,  -1, -2, -2.00000000e+00, 0.        ,    6, 6.000e+00)\n",
      " ( -1,  -1, -2, -2.00000000e+00, 0.        ,    1, 1.000e+00)\n",
      " ( -1,  -1, -2, -2.00000000e+00, 0.        ,    2, 2.000e+00)\n",
      " ( -1,  -1, -2, -2.00000000e+00, 0.        ,    5, 5.000e+00)\n",
      " ( -1,  -1, -2, -2.00000000e+00, 0.        ,    6, 6.000e+00)\n",
      " ( -1,  -1, -2, -2.00000000e+00, 0.        ,    5, 5.000e+00)\n",
      " (619, 620,  2, -4.15852696e-01, 0.54356444,    8, 8.000e+00)\n",
      " ( -1,  -1, -2, -2.00000000e+00, 0.        ,    1, 1.000e+00)\n",
      " ( -1,  -1, -2, -2.00000000e+00, 0.        ,    7, 7.000e+00)\n",
      " (622, 627,  0, -4.72249374e-01, 0.86312057,    7, 7.000e+00)\n",
      " (623, 624,  3, -4.66639891e-01, 0.65002242,    6, 6.000e+00)\n",
      " ( -1,  -1, -2, -2.00000000e+00, 0.        ,    3, 3.000e+00)\n",
      " (625, 626,  3, -1.11121792e-01, 0.91829583,    3, 3.000e+00)\n",
      " ( -1,  -1, -2, -2.00000000e+00, 0.        ,    1, 1.000e+00)\n",
      " ( -1,  -1, -2, -2.00000000e+00, 0.        ,    2, 2.000e+00)\n",
      " ( -1,  -1, -2, -2.00000000e+00, 0.        ,    1, 1.000e+00)\n",
      " (629, 632,  2, -4.61356372e-01, 0.50325833,    9, 9.000e+00)\n",
      " (630, 631,  3, -1.43111374e-01, 1.        ,    2, 2.000e+00)\n",
      " ( -1,  -1, -2, -2.00000000e+00, 0.        ,    1, 1.000e+00)\n",
      " ( -1,  -1, -2, -2.00000000e+00, 0.        ,    1, 1.000e+00)\n",
      " ( -1,  -1, -2, -2.00000000e+00, 0.        ,    7, 7.000e+00)\n",
      " ( -1,  -1, -2, -2.00000000e+00, 0.        ,    3, 3.000e+00)\n",
      " (635, 636,  0, -4.69606012e-01, 0.46899559,   10, 1.000e+01)\n",
      " ( -1,  -1, -2, -2.00000000e+00, 0.        ,    9, 9.000e+00)\n",
      " ( -1,  -1, -2, -2.00000000e+00, 0.        ,    1, 1.000e+00)\n",
      " ( -1,  -1, -2, -2.00000000e+00, 0.        ,    4, 4.000e+00)\n",
      " (639, 640,  0, -5.11899769e-01, 0.54356444,    8, 8.000e+00)\n",
      " ( -1,  -1, -2, -2.00000000e+00, 0.        ,    1, 1.000e+00)\n",
      " ( -1,  -1, -2, -2.00000000e+00, 0.        ,    7, 7.000e+00)\n",
      " (642, 661,  0, -4.74892735e-01, 0.91829583,   39, 3.900e+01)\n",
      " (643, 648,  3,  5.92058003e-01, 0.99631652,   28, 2.800e+01)\n",
      " (644, 647,  0, -5.22473216e-01, 0.54356444,    8, 8.000e+00)\n",
      " (645, 646,  2, -4.08852145e-01, 1.        ,    2, 2.000e+00)\n",
      " ( -1,  -1, -2, -2.00000000e+00, 0.        ,    1, 1.000e+00)\n",
      " ( -1,  -1, -2, -2.00000000e+00, 0.        ,    1, 1.000e+00)\n",
      " ( -1,  -1, -2, -2.00000000e+00, 0.        ,    6, 6.000e+00)\n",
      " (649, 650,  3,  6.39783621e-01, 0.97095059,   20, 2.000e+01)\n",
      " ( -1,  -1, -2, -2.00000000e+00, 0.        ,    5, 5.000e+00)\n",
      " (651, 654,  2, -3.31845939e-01, 0.99679163,   15, 1.500e+01)\n",
      " (652, 653,  3,  6.55891776e-01, 0.72192809,    5, 5.000e+00)\n",
      " ( -1,  -1, -2, -2.00000000e+00, 0.        ,    1, 1.000e+00)\n",
      " ( -1,  -1, -2, -2.00000000e+00, 0.        ,    4, 4.000e+00)\n",
      " (655, 660,  1,  6.05689406e-01, 0.8812909 ,   10, 1.000e+01)\n",
      " (656, 659,  3,  8.42669845e-01, 1.        ,    6, 6.000e+00)\n",
      " (657, 658,  0, -4.82822806e-01, 0.81127812,    4, 4.000e+00)\n",
      " ( -1,  -1, -2, -2.00000000e+00, 0.        ,    3, 3.000e+00)\n",
      " ( -1,  -1, -2, -2.00000000e+00, 0.        ,    1, 1.000e+00)\n",
      " ( -1,  -1, -2, -2.00000000e+00, 0.        ,    2, 2.000e+00)\n",
      " ( -1,  -1, -2, -2.00000000e+00, 0.        ,    4, 4.000e+00)\n",
      " ( -1,  -1, -2, -2.00000000e+00, 0.        ,   11, 1.100e+01)\n",
      " (663, 840,  2,  3.26207027e-01, 0.89886104,  400, 4.000e+02)\n",
      " (664, 831,  2,  1.68694347e-01, 0.86367701,  339, 3.390e+02)\n",
      " (665, 780,  2, -1.67332694e-01, 0.88637301,  309, 3.090e+02)\n",
      " (666, 691,  2, -4.40354675e-01, 0.83574674,  218, 2.180e+02)\n",
      " (667, 684,  1,  6.27672046e-01, 0.99924925,   31, 3.100e+01)\n",
      " (668, 683,  3,  2.23035820e-01, 0.94945202,   19, 1.900e+01)\n",
      " (669, 670,  2, -4.68356937e-01, 1.        ,   14, 1.400e+01)\n",
      " ( -1,  -1, -2, -2.00000000e+00, 0.        ,    2, 2.000e+00)\n",
      " (671, 682,  1,  2.12200135e-01, 0.97986876,   12, 1.200e+01)\n",
      " (672, 681,  2, -4.47355241e-01, 0.954434  ,    8, 8.000e+00)\n",
      " (673, 674,  3, -1.10901195e+00, 1.        ,    6, 6.000e+00)\n",
      " ( -1,  -1, -2, -2.00000000e+00, 0.        ,    1, 1.000e+00)\n",
      " (675, 676,  3, -2.26806332e-01, 0.97095059,    5, 5.000e+00)\n",
      " ( -1,  -1, -2, -2.00000000e+00, 0.        ,    2, 2.000e+00)\n",
      " (677, 678,  3,  9.55206556e-02, 0.91829583,    3, 3.000e+00)\n",
      " ( -1,  -1, -2, -2.00000000e+00, 0.        ,    1, 1.000e+00)\n",
      " (679, 680,  0,  2.73457170e-02, 1.        ,    2, 2.000e+00)\n",
      " ( -1,  -1, -2, -2.00000000e+00, 0.        ,    1, 1.000e+00)\n",
      " ( -1,  -1, -2, -2.00000000e+00, 0.        ,    1, 1.000e+00)\n",
      " ( -1,  -1, -2, -2.00000000e+00, 0.        ,    2, 2.000e+00)\n",
      " ( -1,  -1, -2, -2.00000000e+00, 0.        ,    4, 4.000e+00)\n",
      " ( -1,  -1, -2, -2.00000000e+00, 0.        ,    5, 5.000e+00)\n",
      " (685, 690,  3,  2.99028322e-01, 0.81127812,   12, 1.200e+01)\n",
      " (686, 689,  3,  2.59003833e-01, 0.98522814,    7, 7.000e+00)\n",
      " (687, 688,  3, -4.35569130e-01, 0.72192809,    5, 5.000e+00)\n",
      " ( -1,  -1, -2, -2.00000000e+00, 0.        ,    1, 1.000e+00)\n",
      " ( -1,  -1, -2, -2.00000000e+00, 0.        ,    4, 4.000e+00)\n",
      " ( -1,  -1, -2, -2.00000000e+00, 0.        ,    2, 2.000e+00)\n",
      " ( -1,  -1, -2, -2.00000000e+00, 0.        ,    5, 5.000e+00)\n",
      " (692, 727,  3,  1.96191452e-01, 0.77791807,  187, 1.870e+02)\n",
      " (693, 714,  3, -3.18608299e-01, 0.6174483 ,   98, 9.800e+01)\n",
      " (694, 709,  3, -5.36374807e-01, 0.84535094,   44, 4.400e+01)\n",
      " (695, 696,  2, -3.77349615e-01, 0.71067685,   36, 3.600e+01)\n",
      " ( -1,  -1, -2, -2.00000000e+00, 0.        ,   14, 1.400e+01)\n",
      " (697, 700,  2, -3.42346787e-01, 0.90239328,   22, 2.200e+01)\n",
      " (698, 699,  0, -6.78152591e-02, 0.81127812,    4, 4.000e+00)\n",
      " ( -1,  -1, -2, -2.00000000e+00, 0.        ,    3, 3.000e+00)\n",
      " ( -1,  -1, -2, -2.00000000e+00, 0.        ,    1, 1.000e+00)\n",
      " (701, 702,  0, -4.11452100e-01, 0.76420451,   18, 1.800e+01)\n",
      " ( -1,  -1, -2, -2.00000000e+00, 0.        ,    7, 7.000e+00)\n",
      " (703, 706,  1,  4.97974485e-01, 0.9456603 ,   11, 1.100e+01)\n",
      " (704, 705,  0,  1.85947325e-01, 0.59167278,    7, 7.000e+00)\n",
      " ( -1,  -1, -2, -2.00000000e+00, 0.        ,    6, 6.000e+00)\n",
      " ( -1,  -1, -2, -2.00000000e+00, 0.        ,    1, 1.000e+00)\n",
      " (707, 708,  2, -2.68840864e-01, 0.81127812,    4, 4.000e+00)\n",
      " ( -1,  -1, -2, -2.00000000e+00, 0.        ,    1, 1.000e+00)\n",
      " ( -1,  -1, -2, -2.00000000e+00, 0.        ,    3, 3.000e+00)\n",
      " (710, 711,  1,  2.23191455e-01, 0.954434  ,    8, 8.000e+00)\n",
      " ( -1,  -1, -2, -2.00000000e+00, 0.        ,    4, 4.000e+00)\n",
      " (712, 713,  0, -2.76640713e-01, 0.81127812,    4, 4.000e+00)\n",
      " ( -1,  -1, -2, -2.00000000e+00, 0.        ,    3, 3.000e+00)\n",
      " ( -1,  -1, -2, -2.00000000e+00, 0.        ,    1, 1.000e+00)\n",
      " (715, 716,  2, -3.98351297e-01, 0.30954343,   54, 5.400e+01)\n",
      " ( -1,  -1, -2, -2.00000000e+00, 0.        ,   18, 1.800e+01)\n",
      " (717, 722,  2, -3.77349615e-01, 0.41381685,   36, 3.600e+01)\n",
      " (718, 719,  3, -8.07810258e-02, 0.97095059,    5, 5.000e+00)\n",
      " ( -1,  -1, -2, -2.00000000e+00, 0.        ,    1, 1.000e+00)\n",
      " (720, 721,  1,  6.60646021e-01, 0.81127812,    4, 4.000e+00)\n",
      " ( -1,  -1, -2, -2.00000000e+00, 0.        ,    3, 3.000e+00)\n",
      " ( -1,  -1, -2, -2.00000000e+00, 0.        ,    1, 1.000e+00)\n",
      " (723, 724,  2, -2.30337769e-01, 0.20559251,   31, 3.100e+01)\n",
      " ( -1,  -1, -2, -2.00000000e+00, 0.        ,   24, 2.400e+01)\n",
      " (725, 726,  2, -2.23337203e-01, 0.59167278,    7, 7.000e+00)\n",
      " ( -1,  -1, -2, -2.00000000e+00, 0.        ,    1, 1.000e+00)\n",
      " ( -1,  -1, -2, -2.00000000e+00, 0.        ,    6, 6.000e+00)\n",
      " (728, 777,  1,  7.28792220e-01, 0.89841977,   89, 8.900e+01)\n",
      " (729, 730,  2, -4.33354110e-01, 0.86312057,   84, 8.400e+01)\n",
      " ( -1,  -1, -2, -2.00000000e+00, 0.        ,    2, 2.000e+00)\n",
      " (731, 774,  3,  9.79631126e-01, 0.83900406,   82, 8.200e+01)\n",
      " (732, 773,  3,  6.65977836e-01, 0.80095911,   78, 7.800e+01)\n",
      " (733, 734,  1,  8.03042799e-02, 0.85464806,   68, 6.800e+01)\n",
      " ( -1,  -1, -2, -2.00000000e+00, 0.        ,    9, 9.000e+00)\n",
      " (735, 758,  0, -2.84570798e-01, 0.90657955,   59, 5.900e+01)\n",
      " (736, 737,  3,  2.52551734e-01, 0.77934984,   39, 3.900e+01)\n",
      " ( -1,  -1, -2, -2.00000000e+00, 0.        ,    6, 6.000e+00)\n",
      " (738, 745,  3,  3.28487709e-01, 0.84535094,   33, 3.300e+01)\n",
      " (739, 744,  2, -2.05835797e-01, 0.98522814,    7, 7.000e+00)\n",
      " (740, 741,  0, -4.32598963e-01, 0.72192809,    5, 5.000e+00)\n",
      " ( -1,  -1, -2, -2.00000000e+00, 0.        ,    2, 2.000e+00)\n",
      " (742, 743,  2, -3.03843692e-01, 0.91829583,    3, 3.000e+00)\n",
      " ( -1,  -1, -2, -2.00000000e+00, 0.        ,    2, 2.000e+00)\n",
      " ( -1,  -1, -2, -2.00000000e+00, 0.        ,    1, 1.000e+00)\n",
      " ( -1,  -1, -2, -2.00000000e+00, 0.        ,    2, 2.000e+00)\n",
      " (746, 751,  3,  5.01679465e-01, 0.70627409,   26, 2.600e+01)\n",
      " (747, 748,  2, -2.51339465e-01, 0.32275696,   17, 1.700e+01)\n",
      " ( -1,  -1, -2, -2.00000000e+00, 0.        ,   11, 1.100e+01)\n",
      " (749, 750,  2, -2.33838052e-01, 0.65002242,    6, 6.000e+00)\n",
      " ( -1,  -1, -2, -2.00000000e+00, 0.        ,    1, 1.000e+00)\n",
      " ( -1,  -1, -2, -2.00000000e+00, 0.        ,    5, 5.000e+00)\n",
      " (752, 753,  0, -4.22025517e-01, 0.99107606,    9, 9.000e+00)\n",
      " ( -1,  -1, -2, -2.00000000e+00, 0.        ,    4, 4.000e+00)\n",
      " (754, 755,  3,  5.70666820e-01, 0.72192809,    5, 5.000e+00)\n",
      " ( -1,  -1, -2, -2.00000000e+00, 0.        ,    3, 3.000e+00)\n",
      " (756, 757,  0, -3.61228257e-01, 1.        ,    2, 2.000e+00)\n",
      " ( -1,  -1, -2, -2.00000000e+00, 0.        ,    1, 1.000e+00)\n",
      " ( -1,  -1, -2, -2.00000000e+00, 0.        ,    1, 1.000e+00)\n",
      " (759, 760,  0, -2.55493835e-01, 1.        ,   20, 2.000e+01)\n",
      " ( -1,  -1, -2, -2.00000000e+00, 0.        ,    3, 3.000e+00)\n",
      " (761, 772,  3,  4.27306950e-01, 0.97741782,   17, 1.700e+01)\n",
      " (762, 763,  1,  1.28666088e-01, 0.97986876,   12, 1.200e+01)\n",
      " ( -1,  -1, -2, -2.00000000e+00, 0.        ,    2, 2.000e+00)\n",
      " (764, 771,  0, -4.66683805e-02, 0.8812909 ,   10, 1.000e+01)\n",
      " (765, 766,  1,  2.47372366e-01, 1.        ,    6, 6.000e+00)\n",
      " ( -1,  -1, -2, -2.00000000e+00, 0.        ,    2, 2.000e+00)\n",
      " (767, 770,  1,  4.10043910e-01, 0.81127812,    4, 4.000e+00)\n",
      " (768, 769,  3,  2.46627465e-01, 1.        ,    2, 2.000e+00)\n",
      " ( -1,  -1, -2, -2.00000000e+00, 0.        ,    1, 1.000e+00)\n",
      " ( -1,  -1, -2, -2.00000000e+00, 0.        ,    1, 1.000e+00)\n",
      " ( -1,  -1, -2, -2.00000000e+00, 0.        ,    2, 2.000e+00)\n",
      " ( -1,  -1, -2, -2.00000000e+00, 0.        ,    4, 4.000e+00)\n",
      " ( -1,  -1, -2, -2.00000000e+00, 0.        ,    5, 5.000e+00)\n",
      " ( -1,  -1, -2, -2.00000000e+00, 0.        ,   10, 1.000e+01)\n",
      " (775, 776,  2, -3.98351297e-01, 0.81127812,    4, 4.000e+00)\n",
      " ( -1,  -1, -2, -2.00000000e+00, 0.        ,    1, 1.000e+00)\n",
      " ( -1,  -1, -2, -2.00000000e+00, 0.        ,    3, 3.000e+00)\n",
      " (778, 779,  0, -4.51102495e-01, 0.72192809,    5, 5.000e+00)\n",
      " ( -1,  -1, -2, -2.00000000e+00, 0.        ,    1, 1.000e+00)\n",
      " ( -1,  -1, -2, -2.00000000e+00, 0.        ,    4, 4.000e+00)\n",
      " (781, 790,  1,  5.39251119e-02, 0.96832119,   91, 9.100e+01)\n",
      " (782, 785,  1, -1.74694359e-01, 0.72192809,   20, 2.000e+01)\n",
      " (783, 784,  0, -2.07913354e-01, 0.81127812,    4, 4.000e+00)\n",
      " ( -1,  -1, -2, -2.00000000e+00, 0.        ,    1, 1.000e+00)\n",
      " ( -1,  -1, -2, -2.00000000e+00, 0.        ,    3, 3.000e+00)\n",
      " (786, 789,  2, -5.53236846e-02, 0.33729007,   16, 1.600e+01)\n",
      " (787, 788,  2, -9.73270647e-02, 0.91829583,    3, 3.000e+00)\n",
      " ( -1,  -1, -2, -2.00000000e+00, 0.        ,    2, 2.000e+00)\n",
      " ( -1,  -1, -2, -2.00000000e+00, 0.        ,    1, 1.000e+00)\n",
      " ( -1,  -1, -2, -2.00000000e+00, 0.        ,   13, 1.300e+01)\n",
      " (791, 830,  0, -4.13816571e-02, 0.99297689,   71, 7.100e+01)\n",
      " (792, 821,  0, -3.16291109e-01, 0.98046793,   67, 6.700e+01)\n",
      " (793, 800,  3,  1.28625549e-01, 1.        ,   46, 4.600e+01)\n",
      " (794, 799,  0, -4.06165376e-01, 0.77934984,   13, 1.300e+01)\n",
      " (795, 798,  2,  6.36858977e-02, 0.97095059,    5, 5.000e+00)\n",
      " (796, 797,  3, -2.61084251e-01, 0.91829583,    3, 3.000e+00)\n",
      " ( -1,  -1, -2, -2.00000000e+00, 0.        ,    2, 2.000e+00)\n",
      " ( -1,  -1, -2, -2.00000000e+00, 0.        ,    1, 1.000e+00)\n",
      " ( -1,  -1, -2, -2.00000000e+00, 0.        ,    2, 2.000e+00)\n",
      " ( -1,  -1, -2, -2.00000000e+00, 0.        ,    8, 8.000e+00)\n",
      " (801, 820,  3,  8.79677385e-01, 0.96729478,   33, 3.300e+01)\n",
      " (802, 819,  1,  5.37543237e-01, 0.93831535,   31, 3.100e+01)\n",
      " (803, 818,  1,  4.38621342e-01, 0.8935711 ,   29, 2.900e+01)\n",
      " (804, 817,  1,  4.25431758e-01, 0.99800088,   19, 1.900e+01)\n",
      " (805, 810,  2,  2.51827957e-02, 0.954434  ,   16, 1.600e+01)\n",
      " (806, 807,  3,  5.96268922e-01, 0.54356444,    8, 8.000e+00)\n",
      " ( -1,  -1, -2, -2.00000000e+00, 0.        ,    6, 6.000e+00)\n",
      " (808, 809,  3,  7.29839683e-01, 1.        ,    2, 2.000e+00)\n",
      " ( -1,  -1, -2, -2.00000000e+00, 0.        ,    1, 1.000e+00)\n",
      " ( -1,  -1, -2, -2.00000000e+00, 0.        ,    1, 1.000e+00)\n",
      " (811, 816,  3,  6.38223499e-01, 0.954434  ,    8, 8.000e+00)\n",
      " (812, 815,  0, -4.08808723e-01, 0.65002242,    6, 6.000e+00)\n",
      " (813, 814,  3,  4.03805360e-01, 1.        ,    2, 2.000e+00)\n",
      " ( -1,  -1, -2, -2.00000000e+00, 0.        ,    1, 1.000e+00)\n",
      " ( -1,  -1, -2, -2.00000000e+00, 0.        ,    1, 1.000e+00)\n",
      " ( -1,  -1, -2, -2.00000000e+00, 0.        ,    4, 4.000e+00)\n",
      " ( -1,  -1, -2, -2.00000000e+00, 0.        ,    2, 2.000e+00)\n",
      " ( -1,  -1, -2, -2.00000000e+00, 0.        ,    3, 3.000e+00)\n",
      " ( -1,  -1, -2, -2.00000000e+00, 0.        ,   10, 1.000e+01)\n",
      " ( -1,  -1, -2, -2.00000000e+00, 0.        ,    2, 2.000e+00)\n",
      " ( -1,  -1, -2, -2.00000000e+00, 0.        ,    2, 2.000e+00)\n",
      " (822, 823,  2, -1.56831853e-01, 0.79185835,   21, 2.100e+01)\n",
      " ( -1,  -1, -2, -2.00000000e+00, 0.        ,    2, 2.000e+00)\n",
      " (824, 825,  3,  2.75810674e-01, 0.62924922,   19, 1.900e+01)\n",
      " ( -1,  -1, -2, -2.00000000e+00, 0.        ,   10, 1.000e+01)\n",
      " (826, 829,  0, -2.29060233e-01, 0.91829583,    9, 9.000e+00)\n",
      " (827, 828,  3,  7.31846422e-01, 0.59167278,    7, 7.000e+00)\n",
      " ( -1,  -1, -2, -2.00000000e+00, 0.        ,    6, 6.000e+00)\n",
      " ( -1,  -1, -2, -2.00000000e+00, 0.        ,    1, 1.000e+00)\n",
      " ( -1,  -1, -2, -2.00000000e+00, 0.        ,    2, 2.000e+00)\n",
      " ( -1,  -1, -2, -2.00000000e+00, 0.        ,    4, 4.000e+00)\n",
      " (832, 837,  1,  2.95734182e-01, 0.46899559,   30, 3.000e+01)\n",
      " (833, 834,  3,  7.29621381e-01, 0.22853814,   27, 2.700e+01)\n",
      " ( -1,  -1, -2, -2.00000000e+00, 0.        ,   21, 2.100e+01)\n",
      " (835, 836,  3,  7.54958987e-01, 0.65002242,    6, 6.000e+00)\n",
      " ( -1,  -1, -2, -2.00000000e+00, 0.        ,    1, 1.000e+00)\n",
      " ( -1,  -1, -2, -2.00000000e+00, 0.        ,    5, 5.000e+00)\n",
      " (838, 839,  1,  3.85863006e-01, 0.91829583,    3, 3.000e+00)\n",
      " ( -1,  -1, -2, -2.00000000e+00, 0.        ,    2, 2.000e+00)\n",
      " ( -1,  -1, -2, -2.00000000e+00, 0.        ,    1, 1.000e+00)\n",
      " (841, 844,  0, -4.32598963e-01, 0.99825457,   61, 6.100e+01)\n",
      " (842, 843,  2,  1.00876197e+00, 0.54356444,    8, 8.000e+00)\n",
      " ( -1,  -1, -2, -2.00000000e+00, 0.        ,    7, 7.000e+00)\n",
      " ( -1,  -1, -2, -2.00000000e+00, 0.        ,    1, 1.000e+00)\n",
      " (845, 864,  1, -1.86176072e-02, 0.99768758,   53, 5.300e+01)\n",
      " (846, 851,  2,  6.86736047e-01, 0.97095059,   30, 3.000e+01)\n",
      " (847, 848,  0, -1.68262944e-01, 0.72192809,   15, 1.500e+01)\n",
      " ( -1,  -1, -2, -2.00000000e+00, 0.        ,   11, 1.100e+01)\n",
      " (849, 850,  3,  3.32238525e-03, 0.81127812,    4, 4.000e+00)\n",
      " ( -1,  -1, -2, -2.00000000e+00, 0.        ,    1, 1.000e+00)\n",
      " ( -1,  -1, -2, -2.00000000e+00, 0.        ,    3, 3.000e+00)\n",
      " (852, 863,  2,  1.04726505e+00, 0.97095059,   15, 1.500e+01)\n",
      " (853, 862,  0, -2.87214160e-01, 0.99572745,   13, 1.300e+01)\n",
      " (854, 859,  1, -1.28530815e-01, 0.99403021,   11, 1.100e+01)\n",
      " (855, 856,  3,  7.62898266e-01, 0.65002242,    6, 6.000e+00)\n",
      " ( -1,  -1, -2, -2.00000000e+00, 0.        ,    4, 4.000e+00)\n",
      " (857, 858,  1, -1.79090887e-01, 1.        ,    2, 2.000e+00)\n",
      " ( -1,  -1, -2, -2.00000000e+00, 0.        ,    1, 1.000e+00)\n",
      " ( -1,  -1, -2, -2.00000000e+00, 0.        ,    1, 1.000e+00)\n",
      " (860, 861,  3, -9.17615533e-01, 0.72192809,    5, 5.000e+00)\n",
      " ( -1,  -1, -2, -2.00000000e+00, 0.        ,    1, 1.000e+00)\n",
      " ( -1,  -1, -2, -2.00000000e+00, 0.        ,    4, 4.000e+00)\n",
      " ( -1,  -1, -2, -2.00000000e+00, 0.        ,    2, 2.000e+00)\n",
      " ( -1,  -1, -2, -2.00000000e+00, 0.        ,    2, 2.000e+00)\n",
      " (865, 878,  2,  5.53725362e-01, 0.88654089,   23, 2.300e+01)\n",
      " (866, 873,  0, -3.24221194e-01, 0.98869941,   16, 1.600e+01)\n",
      " (867, 868,  1,  1.02286924e-01, 0.91829583,    9, 9.000e+00)\n",
      " ( -1,  -1, -2, -2.00000000e+00, 0.        ,    3, 3.000e+00)\n",
      " (869, 872,  3,  8.20690542e-01, 1.        ,    6, 6.000e+00)\n",
      " (870, 871,  3, -2.11198699e+00, 0.81127812,    4, 4.000e+00)\n",
      " ( -1,  -1, -2, -2.00000000e+00, 0.        ,    1, 1.000e+00)\n",
      " ( -1,  -1, -2, -2.00000000e+00, 0.        ,    3, 3.000e+00)\n",
      " ( -1,  -1, -2, -2.00000000e+00, 0.        ,    2, 2.000e+00)\n",
      " (874, 877,  1,  4.51320540e-02, 0.59167278,    7, 7.000e+00)\n",
      " (875, 876,  3,  4.84935328e-01, 1.        ,    2, 2.000e+00)\n",
      " ( -1,  -1, -2, -2.00000000e+00, 0.        ,    1, 1.000e+00)\n",
      " ( -1,  -1, -2, -2.00000000e+00, 0.        ,    1, 1.000e+00)\n",
      " ( -1,  -1, -2, -2.00000000e+00, 0.        ,    5, 5.000e+00)\n",
      " ( -1,  -1, -2, -2.00000000e+00, 0.        ,    7, 7.000e+00)]\n"
     ]
    },
    {
     "data": {
      "text/plain": [
       "879"
      ]
     },
     "execution_count": 14,
     "metadata": {},
     "output_type": "execute_result"
    }
   ],
   "source": [
    "# Show the structure of the decision tree classifier\n",
    "print(classifier.tree_.__getstate__()['nodes'])\n",
    "len(classifier.tree_.__getstate__()['nodes'])"
   ]
  },
  {
   "cell_type": "code",
   "execution_count": 15,
   "metadata": {
    "colab": {
     "base_uri": "https://localhost:8080/",
     "height": 297
    },
    "colab_type": "code",
    "executionInfo": {
     "elapsed": 2189,
     "status": "ok",
     "timestamp": 1575244691351,
     "user": {
      "displayName": "Lydia Tse",
      "photoUrl": "",
      "userId": "08063489847245829399"
     },
     "user_tz": 360
    },
    "id": "InI8Jx4PxDQw",
    "outputId": "cbdb3b62-1395-490d-93d3-2d4131356b89"
   },
   "outputs": [
    {
     "data": {
      "image/png": "[encoded data removed]",
      "text/plain": [
       "<Figure size 432x288 with 2 Axes>"
      ]
     },
     "metadata": {
      "needs_background": "light"
     },
     "output_type": "display_data"
    }
   ],
   "source": [
    "y_pred = classifier.predict(x_validation_scaled_df[['Hispanic', 'White', 'Black', 'Percent_Women']])\n",
    "conf_matrix = metrics.confusion_matrix(y_validation, y_pred)\n",
    "sns.heatmap(conf_matrix, annot = True, fmt = \".3f\", square = True, cmap = plt.cm.Blues)\n",
    "plt.ylabel('Actual')\n",
    "plt.xlabel('Predicted')\n",
    "plt.title('Confusion matrix')\n",
    "plt.tight_layout()"
   ]
  },
  {
   "cell_type": "code",
   "execution_count": 16,
   "metadata": {
    "colab": {
     "base_uri": "https://localhost:8080/",
     "height": 54
    },
    "colab_type": "code",
    "executionInfo": {
     "elapsed": 2188,
     "status": "ok",
     "timestamp": 1575244691351,
     "user": {
      "displayName": "Lydia Tse",
      "photoUrl": "",
      "userId": "08063489847245829399"
     },
     "user_tz": 360
    },
    "id": "TtIuBVHSxI6H",
    "outputId": "6f976197-cbda-4c9c-c603-407e8196af3a"
   },
   "outputs": [
    {
     "name": "stdout",
     "output_type": "stream",
     "text": [
      "[0.6589785831960461, 0.3410214168039539, array([0.70294118, 0.60299625]), array([0.69275362, 0.61450382]), array([0.69781022, 0.60869565])]\n"
     ]
    }
   ],
   "source": [
    "accuracy = metrics.accuracy_score(y_validation, y_pred)\n",
    "error = 1 - accuracy\n",
    "precision = metrics.precision_score(y_validation, y_pred, average = None)\n",
    "recall = metrics.recall_score(y_validation, y_pred, average = None)\n",
    "F1_score = metrics.f1_score(y_validation, y_pred, average = None)\n",
    "print([accuracy, error, precision, recall, F1_score])"
   ]
  },
  {
   "cell_type": "markdown",
   "metadata": {
    "colab_type": "text",
    "id": "cfxDWQFuxK1Y"
   },
   "source": [
    "---"
   ]
  },
  {
   "cell_type": "markdown",
   "metadata": {
    "colab_type": "text",
    "id": "NUkIaWOxxLnK"
   },
   "source": [
    "MODEL 3\n",
    "\n",
    "    -Variables Used: Unemployment, Income, SelfEmployed"
   ]
  },
  {
   "cell_type": "code",
   "execution_count": 17,
   "metadata": {
    "colab": {
     "base_uri": "https://localhost:8080/",
     "height": 1000
    },
    "colab_type": "code",
    "executionInfo": {
     "elapsed": 2187,
     "status": "ok",
     "timestamp": 1575244691352,
     "user": {
      "displayName": "Lydia Tse",
      "photoUrl": "",
      "userId": "08063489847245829399"
     },
     "user_tz": 360
    },
    "id": "SZD_a8wtxUPV",
    "outputId": "e34f5956-8e36-4aec-e2c4-decfd9fe7634"
   },
   "outputs": [
    {
     "name": "stdout",
     "output_type": "stream",
     "text": [
      "[(  1, 192,  1, -0.36439811, 0.97615296, 1820, 1.820e+03)\n",
      " (  2,  47,  1, -0.72862309, 0.62753397,  668, 6.680e+02)\n",
      " (  3,   8,  1, -0.99544594, 0.23373142,  367, 3.670e+02)\n",
      " (  4,   7,  0, -1.2472055 , 0.04484961,  203, 2.030e+02)\n",
      " (  5,   6,  0, -1.5701372 , 1.        ,    2, 2.000e+00)\n",
      " ( -1,  -1, -2, -2.        , 0.        ,    1, 1.000e+00)\n",
      " ( -1,  -1, -2, -2.        , 0.        ,    1, 1.000e+00)\n",
      " ( -1,  -1, -2, -2.        , 0.        ,  201, 2.010e+02)\n",
      " (  9,  38,  2,  1.22119701, 0.39959571,  164, 1.640e+02)\n",
      " ( 10,  11,  1, -0.99367499, 0.32275696,  153, 1.530e+02)\n",
      " ( -1,  -1, -2, -2.        , 0.        ,    1, 1.000e+00)\n",
      " ( 12,  37,  1, -0.77514738, 0.29747225,  152, 1.520e+02)\n",
      " ( 13,  36,  1, -0.77562702, 0.35764671,  118, 1.180e+02)\n",
      " ( 14,  15,  2, -0.61466122, 0.32676598,  117, 1.170e+02)\n",
      " ( -1,  -1, -2, -2.        , 0.        ,   38, 3.800e+01)\n",
      " ( 16,  21,  0, -0.21113288, 0.43180499,   79, 7.900e+01)\n",
      " ( 17,  18,  0, -0.33223227, 0.84535094,   11, 1.100e+01)\n",
      " ( -1,  -1, -2, -2.        , 0.        ,    5, 5.000e+00)\n",
      " ( 19,  20,  1, -0.92918295, 1.        ,    6, 6.000e+00)\n",
      " ( -1,  -1, -2, -2.        , 0.        ,    3, 3.000e+00)\n",
      " ( -1,  -1, -2, -2.        , 0.        ,    3, 3.000e+00)\n",
      " ( 22,  25,  2, -0.56401685, 0.32275696,   68, 6.800e+01)\n",
      " ( 23,  24,  0,  0.32708667, 1.        ,    2, 2.000e+00)\n",
      " ( -1,  -1, -2, -2.        , 0.        ,    1, 1.000e+00)\n",
      " ( -1,  -1, -2, -2.        , 0.        ,    1, 1.000e+00)\n",
      " ( 26,  31,  1, -0.83218664, 0.26676499,   66, 6.600e+01)\n",
      " ( 27,  30,  1, -0.97294012, 0.14372617,   49, 4.900e+01)\n",
      " ( 28,  29,  1, -0.97434211, 0.65002242,    6, 6.000e+00)\n",
      " ( -1,  -1, -2, -2.        , 0.        ,    5, 5.000e+00)\n",
      " ( -1,  -1, -2, -2.        , 0.        ,    1, 1.000e+00)\n",
      " ( -1,  -1, -2, -2.        , 0.        ,   43, 4.300e+01)\n",
      " ( 32,  35,  1, -0.82768548, 0.52255937,   17, 1.700e+01)\n",
      " ( 33,  34,  0,  0.56928542, 0.91829583,    3, 3.000e+00)\n",
      " ( -1,  -1, -2, -2.        , 0.        ,    2, 2.000e+00)\n",
      " ( -1,  -1, -2, -2.        , 0.        ,    1, 1.000e+00)\n",
      " ( -1,  -1, -2, -2.        , 0.        ,   14, 1.400e+01)\n",
      " ( -1,  -1, -2, -2.        , 0.        ,    1, 1.000e+00)\n",
      " ( -1,  -1, -2, -2.        , 0.        ,   34, 3.400e+01)\n",
      " ( 39,  40,  1, -0.9232429 , 0.9456603 ,   11, 1.100e+01)\n",
      " ( -1,  -1, -2, -2.        , 0.        ,    4, 4.000e+00)\n",
      " ( 41,  42,  1, -0.89726901, 0.98522814,    7, 7.000e+00)\n",
      " ( -1,  -1, -2, -2.        , 0.        ,    2, 2.000e+00)\n",
      " ( 43,  44,  2,  1.9428792 , 0.97095059,    5, 5.000e+00)\n",
      " ( -1,  -1, -2, -2.        , 0.        ,    2, 2.000e+00)\n",
      " ( 45,  46,  0, -1.05882865, 0.91829583,    3, 3.000e+00)\n",
      " ( -1,  -1, -2, -2.        , 0.        ,    1, 1.000e+00)\n",
      " ( -1,  -1, -2, -2.        , 0.        ,    2, 2.000e+00)\n",
      " ( 48,  69,  0, -0.60134205, 0.88411512,  301, 3.010e+02)\n",
      " ( 49,  50,  2, -0.57667792, 0.81127812,   44, 4.400e+01)\n",
      " ( -1,  -1, -2, -2.        , 0.        ,    2, 2.000e+00)\n",
      " ( 51,  68,  0, -0.73589692, 0.74959526,   42, 4.200e+01)\n",
      " ( 52,  65,  1, -0.4867411 , 0.83376491,   34, 3.400e+01)\n",
      " ( 53,  64,  2,  3.3862437 , 0.9456603 ,   22, 2.200e+01)\n",
      " ( 54,  55,  0, -1.71814758, 0.98194079,   19, 1.900e+01)\n",
      " ( -1,  -1, -2, -2.        , 0.        ,    1, 1.000e+00)\n",
      " ( 56,  57,  0, -1.20683903, 0.96407876,   18, 1.800e+01)\n",
      " ( -1,  -1, -2, -2.        , 0.        ,    4, 4.000e+00)\n",
      " ( 58,  59,  0, -0.97809571, 1.        ,   14, 1.400e+01)\n",
      " ( -1,  -1, -2, -2.        , 0.        ,    3, 3.000e+00)\n",
      " ( 60,  61,  1, -0.62387887, 0.9456603 ,   11, 1.100e+01)\n",
      " ( -1,  -1, -2, -2.        , 0.        ,    2, 2.000e+00)\n",
      " ( 62,  63,  1, -0.50718078, 0.76420451,    9, 9.000e+00)\n",
      " ( -1,  -1, -2, -2.        , 0.        ,    7, 7.000e+00)\n",
      " ( -1,  -1, -2, -2.        , 0.        ,    2, 2.000e+00)\n",
      " ( -1,  -1, -2, -2.        , 0.        ,    3, 3.000e+00)\n",
      " ( 66,  67,  2, -0.032251  , 0.41381685,   12, 1.200e+01)\n",
      " ( -1,  -1, -2, -2.        , 0.        ,    1, 1.000e+00)\n",
      " ( -1,  -1, -2, -2.        , 0.        ,   11, 1.100e+01)\n",
      " ( -1,  -1, -2, -2.        , 0.        ,    8, 8.000e+00)\n",
      " ( 70, 137,  0,  0.12525433, 0.77040588,  257, 2.570e+02)\n",
      " ( 71, 122,  0,  0.01761042, 0.89603823,  112, 1.120e+02)\n",
      " ( 72, 113,  0, -0.09003348, 0.82381163,   93, 9.300e+01)\n",
      " ( 73,  86,  1, -0.55680424, 0.90311617,   69, 6.900e+01)\n",
      " ( 74,  85,  1, -0.63007718, 0.74959526,   28, 2.800e+01)\n",
      " ( 75,  80,  0, -0.19767739, 0.954434  ,   16, 1.600e+01)\n",
      " ( 76,  79,  0, -0.33223227, 0.72192809,   10, 1.000e+01)\n",
      " ( 77,  78,  0, -0.4264207 , 1.        ,    4, 4.000e+00)\n",
      " ( -1,  -1, -2, -2.        , 0.        ,    2, 2.000e+00)\n",
      " ( -1,  -1, -2, -2.        , 0.        ,    2, 2.000e+00)\n",
      " ( -1,  -1, -2, -2.        , 0.        ,    6, 6.000e+00)\n",
      " ( 81,  84,  2, -0.14620083, 0.91829583,    6, 6.000e+00)\n",
      " ( 82,  83,  2, -0.62732229, 0.91829583,    3, 3.000e+00)\n",
      " ( -1,  -1, -2, -2.        , 0.        ,    1, 1.000e+00)\n",
      " ( -1,  -1, -2, -2.        , 0.        ,    2, 2.000e+00)\n",
      " ( -1,  -1, -2, -2.        , 0.        ,    3, 3.000e+00)\n",
      " ( -1,  -1, -2, -2.        , 0.        ,   12, 1.200e+01)\n",
      " ( 87,  96,  1, -0.47087635, 0.96495677,   41, 4.100e+01)\n",
      " ( 88,  91,  0, -0.26495483, 0.9612366 ,   13, 1.300e+01)\n",
      " ( 89,  90,  0, -0.57443106, 0.54356444,    8, 8.000e+00)\n",
      " ( -1,  -1, -2, -2.        , 0.        ,    1, 1.000e+00)\n",
      " ( -1,  -1, -2, -2.        , 0.        ,    7, 7.000e+00)\n",
      " ( 92,  95,  2, -0.58933902, 0.72192809,    5, 5.000e+00)\n",
      " ( 93,  94,  2, -1.0324772 , 1.        ,    2, 2.000e+00)\n",
      " ( -1,  -1, -2, -2.        , 0.        ,    1, 1.000e+00)\n",
      " ( -1,  -1, -2, -2.        , 0.        ,    1, 1.000e+00)\n",
      " ( -1,  -1, -2, -2.        , 0.        ,    3, 3.000e+00)\n",
      " ( 97,  98,  0, -0.46678716, 0.86312057,   28, 2.800e+01)\n",
      " ( -1,  -1, -2, -2.        , 0.        ,    7, 7.000e+00)\n",
      " ( 99, 102,  2, -0.53869465, 0.95871188,   21, 2.100e+01)\n",
      " (100, 101,  0, -0.13039994, 0.50325833,    9, 9.000e+00)\n",
      " ( -1,  -1, -2, -2.        , 0.        ,    8, 8.000e+00)\n",
      " ( -1,  -1, -2, -2.        , 0.        ,    1, 1.000e+00)\n",
      " (103, 104,  2, -0.37410046, 0.97986876,   12, 1.200e+01)\n",
      " ( -1,  -1, -2, -2.        , 0.        ,    3, 3.000e+00)\n",
      " (105, 112,  0, -0.1842219 , 0.99107606,    9, 9.000e+00)\n",
      " (106, 107,  0, -0.39950971, 0.91829583,    6, 6.000e+00)\n",
      " ( -1,  -1, -2, -2.        , 0.        ,    2, 2.000e+00)\n",
      " (108, 109,  2, -0.20950628, 1.        ,    4, 4.000e+00)\n",
      " ( -1,  -1, -2, -2.        , 0.        ,    1, 1.000e+00)\n",
      " (110, 111,  1, -0.45534366, 0.91829583,    3, 3.000e+00)\n",
      " ( -1,  -1, -2, -2.        , 0.        ,    1, 1.000e+00)\n",
      " ( -1,  -1, -2, -2.        , 0.        ,    2, 2.000e+00)\n",
      " ( -1,  -1, -2, -2.        , 0.        ,    3, 3.000e+00)\n",
      " (114, 115,  2, -0.39942265, 0.41381685,   24, 2.400e+01)\n",
      " ( -1,  -1, -2, -2.        , 0.        ,   12, 1.200e+01)\n",
      " (116, 121,  2, -0.19684519, 0.65002242,   12, 1.200e+01)\n",
      " (117, 118,  0, -0.0631225 , 1.        ,    4, 4.000e+00)\n",
      " ( -1,  -1, -2, -2.        , 0.        ,    1, 1.000e+00)\n",
      " (119, 120,  1, -0.45530677, 0.91829583,    3, 3.000e+00)\n",
      " ( -1,  -1, -2, -2.        , 0.        ,    2, 2.000e+00)\n",
      " ( -1,  -1, -2, -2.        , 0.        ,    1, 1.000e+00)\n",
      " ( -1,  -1, -2, -2.        , 0.        ,    8, 8.000e+00)\n",
      " (123, 136,  1, -0.44733751, 0.98194079,   19, 1.900e+01)\n",
      " (124, 135,  2,  0.524837  , 0.99679163,   15, 1.500e+01)\n",
      " (125, 126,  1, -0.65774825, 0.99572745,   13, 1.300e+01)\n",
      " ( -1,  -1, -2, -2.        , 0.        ,    2, 2.000e+00)\n",
      " (127, 134,  1, -0.4746765 , 0.9456603 ,   11, 1.100e+01)\n",
      " (128, 133,  1, -0.58355293, 0.76420451,    9, 9.000e+00)\n",
      " (129, 130,  2, -0.57667792, 1.        ,    4, 4.000e+00)\n",
      " ( -1,  -1, -2, -2.        , 0.        ,    1, 1.000e+00)\n",
      " (131, 132,  2,  0.107021  , 0.91829583,    3, 3.000e+00)\n",
      " ( -1,  -1, -2, -2.        , 0.        ,    2, 2.000e+00)\n",
      " ( -1,  -1, -2, -2.        , 0.        ,    1, 1.000e+00)\n",
      " ( -1,  -1, -2, -2.        , 0.        ,    5, 5.000e+00)\n",
      " ( -1,  -1, -2, -2.        , 0.        ,    2, 2.000e+00)\n",
      " ( -1,  -1, -2, -2.        , 0.        ,    2, 2.000e+00)\n",
      " ( -1,  -1, -2, -2.        , 0.        ,    4, 4.000e+00)\n",
      " (138, 191,  2,  2.12013447, 0.63099957,  145, 1.450e+02)\n",
      " (139, 164,  1, -0.49596478, 0.60190895,  143, 1.430e+02)\n",
      " (140, 163,  1, -0.57137766, 0.44569318,   97, 9.700e+01)\n",
      " (141, 162,  1, -0.57399717, 0.5801955 ,   65, 6.500e+01)\n",
      " (142, 161,  1, -0.59823704, 0.54356444,   64, 6.400e+01)\n",
      " (143, 160,  1, -0.6006352 , 0.61938219,   52, 5.200e+01)\n",
      " (144, 145,  1, -0.70438322, 0.57700425,   51, 5.100e+01)\n",
      " ( -1,  -1, -2, -2.        , 0.        ,    9, 9.000e+00)\n",
      " (146, 147,  1, -0.69327793, 0.65002242,   42, 4.200e+01)\n",
      " ( -1,  -1, -2, -2.        , 0.        ,    2, 2.000e+00)\n",
      " (148, 159,  2,  0.1196821 , 0.54356444,   40, 4.000e+01)\n",
      " (149, 158,  2,  0.01839336, 0.69128987,   27, 2.700e+01)\n",
      " (150, 153,  1, -0.65874442, 0.61938219,   26, 2.600e+01)\n",
      " (151, 152,  1, -0.67280135, 0.91829583,    9, 9.000e+00)\n",
      " ( -1,  -1, -2, -2.        , 0.        ,    6, 6.000e+00)\n",
      " ( -1,  -1, -2, -2.        , 0.        ,    3, 3.000e+00)\n",
      " (154, 155,  1, -0.61834466, 0.32275696,   17, 1.700e+01)\n",
      " ( -1,  -1, -2, -2.        , 0.        ,   12, 1.200e+01)\n",
      " (156, 157,  0,  0.44818605, 0.72192809,    5, 5.000e+00)\n",
      " ( -1,  -1, -2, -2.        , 0.        ,    1, 1.000e+00)\n",
      " ( -1,  -1, -2, -2.        , 0.        ,    4, 4.000e+00)\n",
      " ( -1,  -1, -2, -2.        , 0.        ,    1, 1.000e+00)\n",
      " ( -1,  -1, -2, -2.        , 0.        ,   13, 1.300e+01)\n",
      " ( -1,  -1, -2, -2.        , 0.        ,    1, 1.000e+00)\n",
      " ( -1,  -1, -2, -2.        , 0.        ,   12, 1.200e+01)\n",
      " ( -1,  -1, -2, -2.        , 0.        ,    1, 1.000e+00)\n",
      " ( -1,  -1, -2, -2.        , 0.        ,   32, 3.200e+01)\n",
      " (165, 182,  2,  0.2589541 , 0.82805573,   46, 4.600e+01)\n",
      " (166, 181,  0,  1.3631593 , 0.63945713,   37, 3.700e+01)\n",
      " (167, 176,  0,  0.44818605, 0.5813215 ,   36, 3.600e+01)\n",
      " (168, 169,  1, -0.43604772, 0.83664074,   15, 1.500e+01)\n",
      " ( -1,  -1, -2, -2.        , 0.        ,    6, 6.000e+00)\n",
      " (170, 171,  0,  0.23289824, 0.99107606,    9, 9.000e+00)\n",
      " ( -1,  -1, -2, -2.        , 0.        ,    3, 3.000e+00)\n",
      " (172, 173,  2, -1.09578264, 0.91829583,    6, 6.000e+00)\n",
      " ( -1,  -1, -2, -2.        , 0.        ,    1, 1.000e+00)\n",
      " (174, 175,  1, -0.37229359, 0.72192809,    5, 5.000e+00)\n",
      " ( -1,  -1, -2, -2.        , 0.        ,    4, 4.000e+00)\n",
      " ( -1,  -1, -2, -2.        , 0.        ,    1, 1.000e+00)\n",
      " (177, 180,  1, -0.48537599, 0.27619543,   21, 2.100e+01)\n",
      " (178, 179,  0,  0.75766227, 1.        ,    2, 2.000e+00)\n",
      " ( -1,  -1, -2, -2.        , 0.        ,    1, 1.000e+00)\n",
      " ( -1,  -1, -2, -2.        , 0.        ,    1, 1.000e+00)\n",
      " ( -1,  -1, -2, -2.        , 0.        ,   19, 1.900e+01)\n",
      " ( -1,  -1, -2, -2.        , 0.        ,    1, 1.000e+00)\n",
      " (183, 190,  2,  1.46175778, 0.91829583,    9, 9.000e+00)\n",
      " (184, 189,  0,  1.32279283, 0.81127812,    8, 8.000e+00)\n",
      " (185, 188,  1, -0.4881431 , 0.59167278,    7, 7.000e+00)\n",
      " (186, 187,  0,  0.71729583, 1.        ,    2, 2.000e+00)\n",
      " ( -1,  -1, -2, -2.        , 0.        ,    1, 1.000e+00)\n",
      " ( -1,  -1, -2, -2.        , 0.        ,    1, 1.000e+00)\n",
      " ( -1,  -1, -2, -2.        , 0.        ,    5, 5.000e+00)\n",
      " ( -1,  -1, -2, -2.        , 0.        ,    1, 1.000e+00)\n",
      " ( -1,  -1, -2, -2.        , 0.        ,    1, 1.000e+00)\n",
      " ( -1,  -1, -2, -2.        , 0.        ,    2, 2.000e+00)\n",
      " (193, 386,  1,  0.00513972, 0.62946985, 1152, 1.152e+03)\n",
      " (194, 209,  0, -0.62825301, 0.946344  ,  321, 3.210e+02)\n",
      " (195, 208,  1, -0.02064971, 0.34918437,   61, 6.100e+01)\n",
      " (196, 199,  1, -0.35004604, 0.28639696,   60, 6.000e+01)\n",
      " (197, 198,  1, -0.36078241, 1.        ,    2, 2.000e+00)\n",
      " ( -1,  -1, -2, -2.        , 0.        ,    1, 1.000e+00)\n",
      " ( -1,  -1, -2, -2.        , 0.        ,    1, 1.000e+00)\n",
      " (200, 201,  1, -0.09514021, 0.21639693,   58, 5.800e+01)\n",
      " ( -1,  -1, -2, -2.        , 0.        ,   43, 4.300e+01)\n",
      " (202, 207,  1, -0.06315246, 0.56650951,   15, 1.500e+01)\n",
      " (203, 204,  2,  0.33492066, 1.        ,    4, 4.000e+00)\n",
      " ( -1,  -1, -2, -2.        , 0.        ,    1, 1.000e+00)\n",
      " (205, 206,  1, -0.07244994, 0.91829583,    3, 3.000e+00)\n",
      " ( -1,  -1, -2, -2.        , 0.        ,    2, 2.000e+00)\n",
      " ( -1,  -1, -2, -2.        , 0.        ,    1, 1.000e+00)\n",
      " ( -1,  -1, -2, -2.        , 0.        ,   11, 1.100e+01)\n",
      " ( -1,  -1, -2, -2.        , 0.        ,    1, 1.000e+00)\n",
      " (210, 357,  0,  0.50200799, 0.98762913,  260, 2.600e+02)\n",
      " (211, 232,  2, -0.77925539, 0.95778002,  216, 2.160e+02)\n",
      " (212, 213,  0, -0.27841032, 0.96729478,   33, 3.300e+01)\n",
      " ( -1,  -1, -2, -2.        , 0.        ,    5, 5.000e+00)\n",
      " (214, 215,  1, -0.2055662 , 0.86312057,   28, 2.800e+01)\n",
      " ( -1,  -1, -2, -2.        , 0.        ,   10, 1.000e+01)\n",
      " (216, 217,  0, -0.17076641, 0.99107606,   18, 1.800e+01)\n",
      " ( -1,  -1, -2, -2.        , 0.        ,    4, 4.000e+00)\n",
      " (218, 231,  1, -0.01268044, 0.98522814,   14, 1.400e+01)\n",
      " (219, 220,  2, -1.07046044, 0.91829583,   12, 1.200e+01)\n",
      " ( -1,  -1, -2, -2.        , 0.        ,    1, 1.000e+00)\n",
      " (221, 222,  1, -0.19530946, 0.84535094,   11, 1.100e+01)\n",
      " ( -1,  -1, -2, -2.        , 0.        ,    2, 2.000e+00)\n",
      " (223, 224,  2, -0.99449396, 0.91829583,    9, 9.000e+00)\n",
      " ( -1,  -1, -2, -2.        , 0.        ,    1, 1.000e+00)\n",
      " (225, 226,  1, -0.18195356, 0.81127812,    8, 8.000e+00)\n",
      " ( -1,  -1, -2, -2.        , 0.        ,    1, 1.000e+00)\n",
      " (227, 228,  1, -0.08790884, 0.59167278,    7, 7.000e+00)\n",
      " ( -1,  -1, -2, -2.        , 0.        ,    4, 4.000e+00)\n",
      " (229, 230,  0, -0.0631225 , 0.91829583,    3, 3.000e+00)\n",
      " ( -1,  -1, -2, -2.        , 0.        ,    2, 2.000e+00)\n",
      " ( -1,  -1, -2, -2.        , 0.        ,    1, 1.000e+00)\n",
      " ( -1,  -1, -2, -2.        , 0.        ,    2, 2.000e+00)\n",
      " (233, 356,  0,  0.3943641 , 0.92366365,  183, 1.830e+02)\n",
      " (234, 323,  1, -0.12520943, 0.93958762,  174, 1.740e+02)\n",
      " (235, 312,  0,  0.23289824, 0.97886985,  123, 1.230e+02)\n",
      " (236, 311,  1, -0.12797654, 0.99357048,  106, 1.060e+02)\n",
      " (237, 310,  1, -0.12875133, 0.99037484,  104, 1.040e+02)\n",
      " (238, 267,  2, -0.23482846, 0.99305548,  102, 1.020e+02)\n",
      " (239, 240,  0, -0.43987618, 0.99648599,   43, 4.300e+01)\n",
      " ( -1,  -1, -2, -2.        , 0.        ,    4, 4.000e+00)\n",
      " (241, 250,  2, -0.51337248, 0.99952569,   39, 3.900e+01)\n",
      " (242, 249,  1, -0.27743718, 0.86312057,   14, 1.400e+01)\n",
      " (243, 244,  2, -0.67796665, 0.99107606,    9, 9.000e+00)\n",
      " ( -1,  -1, -2, -2.        , 0.        ,    2, 2.000e+00)\n",
      " (245, 248,  0, -0.0631225 , 0.86312057,    7, 7.000e+00)\n",
      " (246, 247,  0, -0.14385543, 1.        ,    4, 4.000e+00)\n",
      " ( -1,  -1, -2, -2.        , 0.        ,    2, 2.000e+00)\n",
      " ( -1,  -1, -2, -2.        , 0.        ,    2, 2.000e+00)\n",
      " ( -1,  -1, -2, -2.        , 0.        ,    3, 3.000e+00)\n",
      " ( -1,  -1, -2, -2.        , 0.        ,    5, 5.000e+00)\n",
      " (251, 254,  1, -0.34170784, 0.97095059,   25, 2.500e+01)\n",
      " (252, 253,  0, -0.15731092, 0.72192809,    5, 5.000e+00)\n",
      " ( -1,  -1, -2, -2.        , 0.        ,    1, 1.000e+00)\n",
      " ( -1,  -1, -2, -2.        , 0.        ,    4, 4.000e+00)\n",
      " (255, 256,  1, -0.21021494, 0.8812909 ,   20, 2.000e+01)\n",
      " ( -1,  -1, -2, -2.        , 0.        ,    8, 8.000e+00)\n",
      " (257, 258,  1, -0.19091898, 1.        ,   12, 1.200e+01)\n",
      " ( -1,  -1, -2, -2.        , 0.        ,    2, 2.000e+00)\n",
      " (259, 260,  1, -0.18793051, 0.97095059,   10, 1.000e+01)\n",
      " ( -1,  -1, -2, -2.        , 0.        ,    2, 2.000e+00)\n",
      " (261, 266,  2, -0.33611719, 1.        ,    8, 8.000e+00)\n",
      " (262, 263,  1, -0.1443947 , 0.91829583,    6, 6.000e+00)\n",
      " ( -1,  -1, -2, -2.        , 0.        ,    3, 3.000e+00)\n",
      " (264, 265,  1, -0.13952459, 0.91829583,    3, 3.000e+00)\n",
      " ( -1,  -1, -2, -2.        , 0.        ,    2, 2.000e+00)\n",
      " ( -1,  -1, -2, -2.        , 0.        ,    1, 1.000e+00)\n",
      " ( -1,  -1, -2, -2.        , 0.        ,    2, 2.000e+00)\n",
      " (268, 301,  2,  0.90466976, 0.96469008,   59, 5.900e+01)\n",
      " (269, 294,  2,  0.23363192, 0.91829583,   48, 4.800e+01)\n",
      " (270, 293,  2,  0.15766537, 0.97741782,   34, 3.400e+01)\n",
      " (271, 282,  0,  0.01761042, 0.93831535,   31, 3.100e+01)\n",
      " (272, 273,  1, -0.30717435, 0.81127812,   20, 2.000e+01)\n",
      " ( -1,  -1, -2, -2.        , 0.        ,    5, 5.000e+00)\n",
      " (274, 281,  0, -0.11694445, 0.91829583,   15, 1.500e+01)\n",
      " (275, 276,  2, -0.1841841 , 0.97986876,   12, 1.200e+01)\n",
      " ( -1,  -1, -2, -2.        , 0.        ,    2, 2.000e+00)\n",
      " (277, 278,  1, -0.19958925, 0.8812909 ,   10, 1.000e+01)\n",
      " ( -1,  -1, -2, -2.        , 0.        ,    6, 6.000e+00)\n",
      " (279, 280,  0, -0.1842219 , 0.81127812,    4, 4.000e+00)\n",
      " ( -1,  -1, -2, -2.        , 0.        ,    3, 3.000e+00)\n",
      " ( -1,  -1, -2, -2.        , 0.        ,    1, 1.000e+00)\n",
      " ( -1,  -1, -2, -2.        , 0.        ,    3, 3.000e+00)\n",
      " (283, 292,  2,  0.09435991, 0.99403021,   11, 1.100e+01)\n",
      " (284, 285,  1, -0.3510422 , 0.99107606,    9, 9.000e+00)\n",
      " ( -1,  -1, -2, -2.        , 0.        ,    2, 2.000e+00)\n",
      " (286, 287,  0,  0.20598727, 0.86312057,    7, 7.000e+00)\n",
      " ( -1,  -1, -2, -2.        , 0.        ,    4, 4.000e+00)\n",
      " (288, 289,  1, -0.31348334, 0.91829583,    3, 3.000e+00)\n",
      " ( -1,  -1, -2, -2.        , 0.        ,    1, 1.000e+00)\n",
      " (290, 291,  1, -0.24718347, 1.        ,    2, 2.000e+00)\n",
      " ( -1,  -1, -2, -2.        , 0.        ,    1, 1.000e+00)\n",
      " ( -1,  -1, -2, -2.        , 0.        ,    1, 1.000e+00)\n",
      " ( -1,  -1, -2, -2.        , 0.        ,    2, 2.000e+00)\n",
      " ( -1,  -1, -2, -2.        , 0.        ,    3, 3.000e+00)\n",
      " (295, 296,  2,  0.67677012, 0.59167278,   14, 1.400e+01)\n",
      " ( -1,  -1, -2, -2.        , 0.        ,    8, 8.000e+00)\n",
      " (297, 298,  0, -0.27841032, 0.91829583,    6, 6.000e+00)\n",
      " ( -1,  -1, -2, -2.        , 0.        ,    3, 3.000e+00)\n",
      " (299, 300,  0,  0.04452141, 0.91829583,    3, 3.000e+00)\n",
      " ( -1,  -1, -2, -2.        , 0.        ,    2, 2.000e+00)\n",
      " ( -1,  -1, -2, -2.        , 0.        ,    1, 1.000e+00)\n",
      " (302, 303,  2,  1.39845234, 0.9456603 ,   11, 1.100e+01)\n",
      " ( -1,  -1, -2, -2.        , 0.        ,    5, 5.000e+00)\n",
      " (304, 309,  2,  2.37335628, 0.91829583,    6, 6.000e+00)\n",
      " (305, 308,  1, -0.3495295 , 0.72192809,    5, 5.000e+00)\n",
      " (306, 307,  1, -0.35432583, 1.        ,    2, 2.000e+00)\n",
      " ( -1,  -1, -2, -2.        , 0.        ,    1, 1.000e+00)\n",
      " ( -1,  -1, -2, -2.        , 0.        ,    1, 1.000e+00)\n",
      " ( -1,  -1, -2, -2.        , 0.        ,    3, 3.000e+00)\n",
      " ( -1,  -1, -2, -2.        , 0.        ,    1, 1.000e+00)\n",
      " ( -1,  -1, -2, -2.        , 0.        ,    2, 2.000e+00)\n",
      " ( -1,  -1, -2, -2.        , 0.        ,    2, 2.000e+00)\n",
      " (313, 322,  0,  0.36745313, 0.67229482,   17, 1.700e+01)\n",
      " (314, 321,  1, -0.20564   , 0.77934984,   13, 1.300e+01)\n",
      " (315, 316,  1, -0.31875929, 0.91829583,    9, 9.000e+00)\n",
      " ( -1,  -1, -2, -2.        , 0.        ,    3, 3.000e+00)\n",
      " (317, 318,  0,  0.25980922, 1.        ,    6, 6.000e+00)\n",
      " ( -1,  -1, -2, -2.        , 0.        ,    2, 2.000e+00)\n",
      " (319, 320,  2,  0.82870322, 0.81127812,    4, 4.000e+00)\n",
      " ( -1,  -1, -2, -2.        , 0.        ,    3, 3.000e+00)\n",
      " ( -1,  -1, -2, -2.        , 0.        ,    1, 1.000e+00)\n",
      " ( -1,  -1, -2, -2.        , 0.        ,    4, 4.000e+00)\n",
      " ( -1,  -1, -2, -2.        , 0.        ,    4, 4.000e+00)\n",
      " (324, 355,  2,  0.77805883, 0.75221217,   51, 5.100e+01)\n",
      " (325, 354,  2,  0.5628203 , 0.81127812,   44, 4.400e+01)\n",
      " (326, 353,  0,  0.35399763, 0.74959526,   42, 4.200e+01)\n",
      " (327, 328,  1, -0.09890348, 0.71206405,   41, 4.100e+01)\n",
      " ( -1,  -1, -2, -2.        , 0.        ,    8, 8.000e+00)\n",
      " (329, 344,  2, -0.41208373, 0.79904852,   33, 3.300e+01)\n",
      " (330, 331,  1, -0.07470052, 0.97095059,   15, 1.500e+01)\n",
      " ( -1,  -1, -2, -2.        , 0.        ,    2, 2.000e+00)\n",
      " (332, 343,  2, -0.43740591, 0.89049164,   13, 1.300e+01)\n",
      " (333, 342,  1, -0.01113086, 0.81127812,   12, 1.200e+01)\n",
      " (334, 341,  1, -0.01485723, 0.91829583,    9, 9.000e+00)\n",
      " (335, 336,  0,  0.01761043, 0.81127812,    8, 8.000e+00)\n",
      " ( -1,  -1, -2, -2.        , 0.        ,    3, 3.000e+00)\n",
      " (337, 338,  2, -0.63998339, 0.97095059,    5, 5.000e+00)\n",
      " ( -1,  -1, -2, -2.        , 0.        ,    1, 1.000e+00)\n",
      " (339, 340,  2, -0.50071137, 0.81127812,    4, 4.000e+00)\n",
      " ( -1,  -1, -2, -2.        , 0.        ,    3, 3.000e+00)\n",
      " ( -1,  -1, -2, -2.        , 0.        ,    1, 1.000e+00)\n",
      " ( -1,  -1, -2, -2.        , 0.        ,    1, 1.000e+00)\n",
      " ( -1,  -1, -2, -2.        , 0.        ,    3, 3.000e+00)\n",
      " ( -1,  -1, -2, -2.        , 0.        ,    1, 1.000e+00)\n",
      " (345, 346,  1, -0.03920777, 0.50325833,   18, 1.800e+01)\n",
      " ( -1,  -1, -2, -2.        , 0.        ,   13, 1.300e+01)\n",
      " (347, 348,  2, -0.05757318, 0.97095059,    5, 5.000e+00)\n",
      " ( -1,  -1, -2, -2.        , 0.        ,    2, 2.000e+00)\n",
      " (349, 350,  1, -0.03352598, 0.91829583,    3, 3.000e+00)\n",
      " ( -1,  -1, -2, -2.        , 0.        ,    1, 1.000e+00)\n",
      " (351, 352,  1, -0.01799329, 1.        ,    2, 2.000e+00)\n",
      " ( -1,  -1, -2, -2.        , 0.        ,    1, 1.000e+00)\n",
      " ( -1,  -1, -2, -2.        , 0.        ,    1, 1.000e+00)\n",
      " ( -1,  -1, -2, -2.        , 0.        ,    1, 1.000e+00)\n",
      " ( -1,  -1, -2, -2.        , 0.        ,    2, 2.000e+00)\n",
      " ( -1,  -1, -2, -2.        , 0.        ,    7, 7.000e+00)\n",
      " ( -1,  -1, -2, -2.        , 0.        ,    9, 9.000e+00)\n",
      " (358, 359,  1, -0.35218595, 0.87566339,   44, 4.400e+01)\n",
      " ( -1,  -1, -2, -2.        , 0.        ,    2, 2.000e+00)\n",
      " (360, 361,  1, -0.30333729, 0.8296071 ,   42, 4.200e+01)\n",
      " ( -1,  -1, -2, -2.        , 0.        ,   11, 1.100e+01)\n",
      " (362, 385,  1, -0.07529084, 0.93831535,   31, 3.100e+01)\n",
      " (363, 384,  1, -0.09229931, 0.98285869,   26, 2.600e+01)\n",
      " (364, 383,  2,  0.56282027, 0.954434  ,   24, 2.400e+01)\n",
      " (365, 382,  2,  0.09435992, 0.90239328,   22, 2.200e+01)\n",
      " (366, 367,  1, -0.27695754, 0.94945202,   19, 1.900e+01)\n",
      " ( -1,  -1, -2, -2.        , 0.        ,    2, 2.000e+00)\n",
      " (368, 381,  1, -0.12591043, 0.87398105,   17, 1.700e+01)\n",
      " (369, 380,  0,  0.67692935, 0.81127812,   16, 1.600e+01)\n",
      " (370, 371,  0,  0.54237446, 0.97095059,   10, 1.000e+01)\n",
      " ( -1,  -1, -2, -2.        , 0.        ,    2, 2.000e+00)\n",
      " (372, 373,  1, -0.24777379, 1.        ,    8, 8.000e+00)\n",
      " ( -1,  -1, -2, -2.        , 0.        ,    1, 1.000e+00)\n",
      " (374, 379,  2, -0.20950628, 0.98522814,    7, 7.000e+00)\n",
      " (375, 378,  2, -0.75393319, 0.91829583,    6, 6.000e+00)\n",
      " (376, 377,  2, -0.96917176, 0.91829583,    3, 3.000e+00)\n",
      " ( -1,  -1, -2, -2.        , 0.        ,    1, 1.000e+00)\n",
      " ( -1,  -1, -2, -2.        , 0.        ,    2, 2.000e+00)\n",
      " ( -1,  -1, -2, -2.        , 0.        ,    3, 3.000e+00)\n",
      " ( -1,  -1, -2, -2.        , 0.        ,    1, 1.000e+00)\n",
      " ( -1,  -1, -2, -2.        , 0.        ,    6, 6.000e+00)\n",
      " ( -1,  -1, -2, -2.        , 0.        ,    1, 1.000e+00)\n",
      " ( -1,  -1, -2, -2.        , 0.        ,    3, 3.000e+00)\n",
      " ( -1,  -1, -2, -2.        , 0.        ,    2, 2.000e+00)\n",
      " ( -1,  -1, -2, -2.        , 0.        ,    2, 2.000e+00)\n",
      " ( -1,  -1, -2, -2.        , 0.        ,    5, 5.000e+00)\n",
      " (387, 496,  0,  0.0445214 , 0.39587247,  831, 8.310e+02)\n",
      " (388, 457,  1,  0.32173359, 0.26676499,  682, 6.820e+02)\n",
      " (389, 456,  2,  1.53772432, 0.49072901,  215, 2.150e+02)\n",
      " (390, 455,  1,  0.32095879, 0.53790808,  187, 1.870e+02)\n",
      " (391, 400,  2, -0.79191649, 0.52439524,  186, 1.860e+02)\n",
      " (392, 393,  1,  0.09999613, 0.81127812,   20, 2.000e+01)\n",
      " ( -1,  -1, -2, -2.        , 0.        ,    3, 3.000e+00)\n",
      " (394, 399,  0, -0.57443106, 0.52255937,   17, 1.700e+01)\n",
      " (395, 396,  2, -0.88054413, 0.91829583,    6, 6.000e+00)\n",
      " ( -1,  -1, -2, -2.        , 0.        ,    3, 3.000e+00)\n",
      " (397, 398,  0, -0.68207499, 0.91829583,    3, 3.000e+00)\n",
      " ( -1,  -1, -2, -2.        , 0.        ,    1, 1.000e+00)\n",
      " ( -1,  -1, -2, -2.        , 0.        ,    2, 2.000e+00)\n",
      " ( -1,  -1, -2, -2.        , 0.        ,   11, 1.100e+01)\n",
      " (401, 402,  2, -0.56401682, 0.47658776,  166, 1.660e+02)\n",
      " ( -1,  -1, -2, -2.        , 0.        ,   24, 2.400e+01)\n",
      " (403, 434,  1,  0.22451591, 0.52855061,  142, 1.420e+02)\n",
      " (404, 433,  2,  0.56282029, 0.42480887,  104, 1.040e+02)\n",
      " (405, 432,  2,  0.51217593, 0.50325833,   81, 8.100e+01)\n",
      " (406, 415,  0, -0.84354082, 0.46899559,   80, 8.000e+01)\n",
      " (407, 410,  2, -0.27281173, 0.81127812,   12, 1.200e+01)\n",
      " (408, 409,  2, -0.38676155, 0.91829583,    3, 3.000e+00)\n",
      " ( -1,  -1, -2, -2.        , 0.        ,    1, 1.000e+00)\n",
      " ( -1,  -1, -2, -2.        , 0.        ,    2, 2.000e+00)\n",
      " (411, 412,  2,  0.29693738, 0.50325833,    9, 9.000e+00)\n",
      " ( -1,  -1, -2, -2.        , 0.        ,    6, 6.000e+00)\n",
      " (413, 414,  2,  0.44887047, 0.91829583,    3, 3.000e+00)\n",
      " ( -1,  -1, -2, -2.        , 0.        ,    1, 1.000e+00)\n",
      " ( -1,  -1, -2, -2.        , 0.        ,    2, 2.000e+00)\n",
      " (416, 417,  0, -0.38605423, 0.37895879,   68, 6.800e+01)\n",
      " ( -1,  -1, -2, -2.        , 0.        ,   33, 3.300e+01)\n",
      " (418, 431,  2,  0.107021  , 0.59167278,   35, 3.500e+01)\n",
      " (419, 420,  1,  0.06376548, 0.70627409,   26, 2.600e+01)\n",
      " ( -1,  -1, -2, -2.        , 0.        ,    8, 8.000e+00)\n",
      " (421, 426,  0, -0.11694445, 0.85240518,   18, 1.800e+01)\n",
      " (422, 425,  0, -0.33223227, 0.61938219,   13, 1.300e+01)\n",
      " (423, 424,  2, -0.50071138, 0.91829583,    3, 3.000e+00)\n",
      " ( -1,  -1, -2, -2.        , 0.        ,    1, 1.000e+00)\n",
      " ( -1,  -1, -2, -2.        , 0.        ,    2, 2.000e+00)\n",
      " ( -1,  -1, -2, -2.        , 0.        ,   10, 1.000e+01)\n",
      " (427, 430,  2, -0.14620082, 0.97095059,    5, 5.000e+00)\n",
      " (428, 429,  0, -0.00930055, 0.91829583,    3, 3.000e+00)\n",
      " ( -1,  -1, -2, -2.        , 0.        ,    2, 2.000e+00)\n",
      " ( -1,  -1, -2, -2.        , 0.        ,    1, 1.000e+00)\n",
      " ( -1,  -1, -2, -2.        , 0.        ,    2, 2.000e+00)\n",
      " ( -1,  -1, -2, -2.        , 0.        ,    9, 9.000e+00)\n",
      " ( -1,  -1, -2, -2.        , 0.        ,    1, 1.000e+00)\n",
      " ( -1,  -1, -2, -2.        , 0.        ,   23, 2.300e+01)\n",
      " (435, 454,  0, -0.33223227, 0.74248757,   38, 3.800e+01)\n",
      " (436, 437,  1,  0.22820538, 0.91829583,   24, 2.400e+01)\n",
      " ( -1,  -1, -2, -2.        , 0.        ,    2, 2.000e+00)\n",
      " (438, 453,  0, -0.39950971, 0.84535094,   22, 2.200e+01)\n",
      " (439, 452,  0, -0.64170849, 0.72192809,   20, 2.000e+01)\n",
      " (440, 451,  1,  0.2850233 , 0.89049164,   13, 1.300e+01)\n",
      " (441, 450,  2,  0.87934756, 1.        ,    8, 8.000e+00)\n",
      " (442, 449,  1,  0.27878809, 0.98522814,    7, 7.000e+00)\n",
      " (443, 448,  1,  0.27041298, 0.91829583,    6, 6.000e+00)\n",
      " (444, 445,  0, -1.34139389, 1.        ,    4, 4.000e+00)\n",
      " ( -1,  -1, -2, -2.        , 0.        ,    1, 1.000e+00)\n",
      " (446, 447,  1,  0.25074808, 0.91829583,    3, 3.000e+00)\n",
      " ( -1,  -1, -2, -2.        , 0.        ,    1, 1.000e+00)\n",
      " ( -1,  -1, -2, -2.        , 0.        ,    2, 2.000e+00)\n",
      " ( -1,  -1, -2, -2.        , 0.        ,    2, 2.000e+00)\n",
      " ( -1,  -1, -2, -2.        , 0.        ,    1, 1.000e+00)\n",
      " ( -1,  -1, -2, -2.        , 0.        ,    1, 1.000e+00)\n",
      " ( -1,  -1, -2, -2.        , 0.        ,    5, 5.000e+00)\n",
      " ( -1,  -1, -2, -2.        , 0.        ,    7, 7.000e+00)\n",
      " ( -1,  -1, -2, -2.        , 0.        ,    2, 2.000e+00)\n",
      " ( -1,  -1, -2, -2.        , 0.        ,   14, 1.400e+01)\n",
      " ( -1,  -1, -2, -2.        , 0.        ,    1, 1.000e+00)\n",
      " ( -1,  -1, -2, -2.        , 0.        ,   28, 2.800e+01)\n",
      " (458, 461,  0, -1.67778111, 0.12501149,  467, 4.670e+02)\n",
      " (459, 460,  1,  1.74480104, 0.91829583,    3, 3.000e+00)\n",
      " ( -1,  -1, -2, -2.        , 0.        ,    2, 2.000e+00)\n",
      " ( -1,  -1, -2, -2.        , 0.        ,    1, 1.000e+00)\n",
      " (462, 489,  1,  0.78948522, 0.11288079,  464, 4.640e+02)\n",
      " (463, 484,  1,  0.77384186, 0.1811664 ,  219, 2.190e+02)\n",
      " (464, 483,  2, -0.10821754, 0.1340298 ,  214, 2.140e+02)\n",
      " (465, 466,  2, -0.66530555, 0.22853814,  108, 1.080e+02)\n",
      " ( -1,  -1, -2, -2.        , 0.        ,   48, 4.800e+01)\n",
      " (467, 482,  1,  0.6336787 , 0.35335934,   60, 6.000e+01)\n",
      " (468, 481,  1,  0.62840277, 0.44648135,   43, 4.300e+01)\n",
      " (469, 480,  0, -0.46678716, 0.37123233,   42, 4.200e+01)\n",
      " (470, 475,  0, -0.56097558, 0.55862937,   23, 2.300e+01)\n",
      " (471, 474,  1,  0.40887898, 0.29747225,   19, 1.900e+01)\n",
      " (472, 473,  1,  0.39574444, 0.59167278,    7, 7.000e+00)\n",
      " ( -1,  -1, -2, -2.        , 0.        ,    6, 6.000e+00)\n",
      " ( -1,  -1, -2, -2.        , 0.        ,    1, 1.000e+00)\n",
      " ( -1,  -1, -2, -2.        , 0.        ,   12, 1.200e+01)\n",
      " (476, 477,  2, -0.60200009, 1.        ,    4, 4.000e+00)\n",
      " ( -1,  -1, -2, -2.        , 0.        ,    1, 1.000e+00)\n",
      " (478, 479,  2, -0.22216737, 0.91829583,    3, 3.000e+00)\n",
      " ( -1,  -1, -2, -2.        , 0.        ,    2, 2.000e+00)\n",
      " ( -1,  -1, -2, -2.        , 0.        ,    1, 1.000e+00)\n",
      " ( -1,  -1, -2, -2.        , 0.        ,   19, 1.900e+01)\n",
      " ( -1,  -1, -2, -2.        , 0.        ,    1, 1.000e+00)\n",
      " ( -1,  -1, -2, -2.        , 0.        ,   17, 1.700e+01)\n",
      " ( -1,  -1, -2, -2.        , 0.        ,  106, 1.060e+02)\n",
      " (485, 488,  0, -0.45333166, 0.97095059,    5, 5.000e+00)\n",
      " (486, 487,  0, -0.92427376, 0.91829583,    3, 3.000e+00)\n",
      " ( -1,  -1, -2, -2.        , 0.        ,    1, 1.000e+00)\n",
      " ( -1,  -1, -2, -2.        , 0.        ,    2, 2.000e+00)\n",
      " ( -1,  -1, -2, -2.        , 0.        ,    2, 2.000e+00)\n",
      " (490, 491,  0, -0.11694445, 0.03827096,  245, 2.450e+02)\n",
      " ( -1,  -1, -2, -2.        , 0.        ,  221, 2.210e+02)\n",
      " (492, 495,  0, -0.09003348, 0.24988229,   24, 2.400e+01)\n",
      " (493, 494,  1,  1.81080568, 1.        ,    2, 2.000e+00)\n",
      " ( -1,  -1, -2, -2.        , 0.        ,    1, 1.000e+00)\n",
      " ( -1,  -1, -2, -2.        , 0.        ,    1, 1.000e+00)\n",
      " ( -1,  -1, -2, -2.        , 0.        ,   22, 2.200e+01)\n",
      " (497, 558,  1,  0.58586311, 0.77483904,  149, 1.490e+02)\n",
      " (498, 547,  0,  0.79802877, 0.91062237,   89, 8.900e+01)\n",
      " (499, 546,  2,  0.77805883, 0.85038212,   76, 7.600e+01)\n",
      " (500, 507,  2, -0.86788303, 0.87606437,   71, 7.100e+01)\n",
      " (501, 502,  2, -1.34900451, 0.56650951,   15, 1.500e+01)\n",
      " ( -1,  -1, -2, -2.        , 0.        ,    1, 1.000e+00)\n",
      " (503, 504,  2, -0.96917176, 0.37123233,   14, 1.400e+01)\n",
      " ( -1,  -1, -2, -2.        , 0.        ,    9, 9.000e+00)\n",
      " (505, 506,  2, -0.94384956, 0.72192809,    5, 5.000e+00)\n",
      " ( -1,  -1, -2, -2.        , 0.        ,    1, 1.000e+00)\n",
      " ( -1,  -1, -2, -2.        , 0.        ,    4, 4.000e+00)\n",
      " (508, 535,  2, -0.56401682, 0.92413354,   56, 5.600e+01)\n",
      " (509, 510,  0,  0.07143238, 0.99107606,   27, 2.700e+01)\n",
      " ( -1,  -1, -2, -2.        , 0.        ,    2, 2.000e+00)\n",
      " (511, 534,  1,  0.43898509, 0.99884554,   25, 2.500e+01)\n",
      " (512, 529,  1,  0.31468669, 0.98769251,   23, 2.300e+01)\n",
      " (513, 514,  1,  0.05557485, 0.99750255,   17, 1.700e+01)\n",
      " ( -1,  -1, -2, -2.        , 0.        ,    2, 2.000e+00)\n",
      " (515, 516,  1,  0.09184239, 0.97095059,   15, 1.500e+01)\n",
      " ( -1,  -1, -2, -2.        , 0.        ,    2, 2.000e+00)\n",
      " (517, 518,  1,  0.15493241, 0.99572745,   13, 1.300e+01)\n",
      " ( -1,  -1, -2, -2.        , 0.        ,    3, 3.000e+00)\n",
      " (519, 520,  2, -0.79191649, 0.8812909 ,   10, 1.000e+01)\n",
      " ( -1,  -1, -2, -2.        , 0.        ,    4, 4.000e+00)\n",
      " (521, 528,  2, -0.61466119, 1.        ,    6, 6.000e+00)\n",
      " (522, 523,  1,  0.21676801, 0.97095059,    5, 5.000e+00)\n",
      " ( -1,  -1, -2, -2.        , 0.        ,    1, 1.000e+00)\n",
      " (524, 525,  0,  0.58274093, 0.81127812,    4, 4.000e+00)\n",
      " ( -1,  -1, -2, -2.        , 0.        ,    2, 2.000e+00)\n",
      " (526, 527,  0,  0.6231074 , 1.        ,    2, 2.000e+00)\n",
      " ( -1,  -1, -2, -2.        , 0.        ,    1, 1.000e+00)\n",
      " ( -1,  -1, -2, -2.        , 0.        ,    1, 1.000e+00)\n",
      " ( -1,  -1, -2, -2.        , 0.        ,    1, 1.000e+00)\n",
      " (530, 531,  0,  0.50200802, 0.65002242,    6, 6.000e+00)\n",
      " ( -1,  -1, -2, -2.        , 0.        ,    4, 4.000e+00)\n",
      " (532, 533,  0,  0.55582997, 1.        ,    2, 2.000e+00)\n",
      " ( -1,  -1, -2, -2.        , 0.        ,    1, 1.000e+00)\n",
      " ( -1,  -1, -2, -2.        , 0.        ,    1, 1.000e+00)\n",
      " ( -1,  -1, -2, -2.        , 0.        ,    2, 2.000e+00)\n",
      " (536, 537,  0,  0.07143238, 0.79732651,   29, 2.900e+01)\n",
      " ( -1,  -1, -2, -2.        , 0.        ,    3, 3.000e+00)\n",
      " (538, 539,  2, -0.33611719, 0.61938219,   26, 2.600e+01)\n",
      " ( -1,  -1, -2, -2.        , 0.        ,   10, 1.000e+01)\n",
      " (540, 541,  1,  0.08490618, 0.81127812,   16, 1.600e+01)\n",
      " ( -1,  -1, -2, -2.        , 0.        ,    7, 7.000e+00)\n",
      " (542, 545,  1,  0.3482978 , 0.99107606,    9, 9.000e+00)\n",
      " (543, 544,  2,  0.30959846, 0.91829583,    6, 6.000e+00)\n",
      " ( -1,  -1, -2, -2.        , 0.        ,    4, 4.000e+00)\n",
      " ( -1,  -1, -2, -2.        , 0.        ,    2, 2.000e+00)\n",
      " ( -1,  -1, -2, -2.        , 0.        ,    3, 3.000e+00)\n",
      " ( -1,  -1, -2, -2.        , 0.        ,    5, 5.000e+00)\n",
      " (548, 555,  1,  0.2731063 , 0.9612366 ,   13, 1.300e+01)\n",
      " (549, 550,  1,  0.11652498, 0.98522814,    7, 7.000e+00)\n",
      " ( -1,  -1, -2, -2.        , 0.        ,    2, 2.000e+00)\n",
      " (551, 552,  2,  0.01839337, 0.72192809,    5, 5.000e+00)\n",
      " ( -1,  -1, -2, -2.        , 0.        ,    3, 3.000e+00)\n",
      " (553, 554,  0,  1.37661475, 1.        ,    2, 2.000e+00)\n",
      " ( -1,  -1, -2, -2.        , 0.        ,    1, 1.000e+00)\n",
      " ( -1,  -1, -2, -2.        , 0.        ,    1, 1.000e+00)\n",
      " (556, 557,  2,  0.08169882, 0.65002242,    6, 6.000e+00)\n",
      " ( -1,  -1, -2, -2.        , 0.        ,    5, 5.000e+00)\n",
      " ( -1,  -1, -2, -2.        , 0.        ,    1, 1.000e+00)\n",
      " (559, 564,  0,  0.31363116, 0.41381685,   60, 6.000e+01)\n",
      " (560, 563,  1,  0.9127875 , 0.17556503,   38, 3.800e+01)\n",
      " (561, 562,  1,  0.90872908, 0.35335934,   15, 1.500e+01)\n",
      " ( -1,  -1, -2, -2.        , 0.        ,   14, 1.400e+01)\n",
      " ( -1,  -1, -2, -2.        , 0.        ,    1, 1.000e+00)\n",
      " ( -1,  -1, -2, -2.        , 0.        ,   23, 2.300e+01)\n",
      " (565, 566,  0,  0.34054215, 0.68403844,   22, 2.200e+01)\n",
      " ( -1,  -1, -2, -2.        , 0.        ,    1, 1.000e+00)\n",
      " (567, 572,  2, -0.8932052 , 0.59167278,   21, 2.100e+01)\n",
      " (568, 569,  2, -1.0324772 , 0.97095059,    5, 5.000e+00)\n",
      " ( -1,  -1, -2, -2.        , 0.        ,    2, 2.000e+00)\n",
      " (570, 571,  0,  0.36745313, 0.91829583,    3, 3.000e+00)\n",
      " ( -1,  -1, -2, -2.        , 0.        ,    1, 1.000e+00)\n",
      " ( -1,  -1, -2, -2.        , 0.        ,    2, 2.000e+00)\n",
      " (573, 574,  0,  1.87446779, 0.33729007,   16, 1.600e+01)\n",
      " ( -1,  -1, -2, -2.        , 0.        ,   14, 1.400e+01)\n",
      " (575, 576,  0,  3.73132515, 1.        ,    2, 2.000e+00)\n",
      " ( -1,  -1, -2, -2.        , 0.        ,    1, 1.000e+00)\n",
      " ( -1,  -1, -2, -2.        , 0.        ,    1, 1.000e+00)]\n"
     ]
    },
    {
     "data": {
      "text/plain": [
       "577"
      ]
     },
     "execution_count": 17,
     "metadata": {},
     "output_type": "execute_result"
    }
   ],
   "source": [
    "classifier = DecisionTreeClassifier(criterion = \"entropy\", splitter=\"best\", min_weight_fraction_leaf=0.0, max_features=None, random_state=0, max_leaf_nodes=None, min_impurity_decrease=0.0, min_impurity_split=None, class_weight=None)\n",
    "classifier.fit(x_train_scaled_df[['Unemployment', 'Income', 'SelfEmployed']], y_train)\n",
    "\n",
    "\n",
    "# Show the structure of the decision tree classifier\n",
    "print(classifier.tree_.__getstate__()['nodes'])\n",
    "len(classifier.tree_.__getstate__()['nodes'])"
   ]
  },
  {
   "cell_type": "code",
   "execution_count": 18,
   "metadata": {
    "colab": {
     "base_uri": "https://localhost:8080/",
     "height": 297
    },
    "colab_type": "code",
    "executionInfo": {
     "elapsed": 2185,
     "status": "ok",
     "timestamp": 1575244691353,
     "user": {
      "displayName": "Lydia Tse",
      "photoUrl": "",
      "userId": "08063489847245829399"
     },
     "user_tz": 360
    },
    "id": "dMKDVeIKxYf-",
    "outputId": "abf4e3ee-8d5e-423c-8a29-d088f2185ccb"
   },
   "outputs": [
    {
     "data": {
      "image/png": "[encoded data removed]",
      "text/plain": [
       "<Figure size 432x288 with 2 Axes>"
      ]
     },
     "metadata": {
      "needs_background": "light"
     },
     "output_type": "display_data"
    }
   ],
   "source": [
    "y_pred = classifier.predict(x_validation_scaled_df[['Unemployment', 'Income', 'SelfEmployed']])\n",
    "conf_matrix = metrics.confusion_matrix(y_validation, y_pred)\n",
    "sns.heatmap(conf_matrix, annot = True, fmt = \".3f\", square = True, cmap = plt.cm.Blues)\n",
    "plt.ylabel('Actual')\n",
    "plt.xlabel('Predicted')\n",
    "plt.title('Confusion matrix')\n",
    "plt.tight_layout()"
   ]
  },
  {
   "cell_type": "code",
   "execution_count": 19,
   "metadata": {
    "colab": {
     "base_uri": "https://localhost:8080/",
     "height": 54
    },
    "colab_type": "code",
    "executionInfo": {
     "elapsed": 2183,
     "status": "ok",
     "timestamp": 1575244691353,
     "user": {
      "displayName": "Lydia Tse",
      "photoUrl": "",
      "userId": "08063489847245829399"
     },
     "user_tz": 360
    },
    "id": "45jnhwkOxbNl",
    "outputId": "e506ef47-9873-4011-ac36-bbf8c7d2ed0e"
   },
   "outputs": [
    {
     "name": "stdout",
     "output_type": "stream",
     "text": [
      "[0.7973640856672158, 0.20263591433278416, array([0.81714286, 0.77042802]), array([0.82898551, 0.75572519]), array([0.82302158, 0.76300578])]\n"
     ]
    }
   ],
   "source": [
    "accuracy = metrics.accuracy_score(y_validation, y_pred)\n",
    "error = 1 - accuracy\n",
    "precision = metrics.precision_score(y_validation, y_pred, average = None)\n",
    "recall = metrics.recall_score(y_validation, y_pred, average = None)\n",
    "F1_score = metrics.f1_score(y_validation, y_pred, average = None)\n",
    "print([accuracy, error, precision, recall, F1_score])"
   ]
  },
  {
   "cell_type": "markdown",
   "metadata": {
    "colab_type": "text",
    "id": "uCDip4kNxfow"
   },
   "source": [
    "---"
   ]
  },
  {
   "cell_type": "markdown",
   "metadata": {
    "colab_type": "text",
    "id": "yEzlOhXOxgbH"
   },
   "source": [
    "MODEL 4 \n",
    "\n",
    "    -Variables Used: Hispanic, Black, White, Percent_Women, Unemployment, Income, SelfEmployment"
   ]
  },
  {
   "cell_type": "code",
   "execution_count": 20,
   "metadata": {
    "colab": {
     "base_uri": "https://localhost:8080/",
     "height": 1000
    },
    "colab_type": "code",
    "executionInfo": {
     "elapsed": 2390,
     "status": "ok",
     "timestamp": 1575244691561,
     "user": {
      "displayName": "Lydia Tse",
      "photoUrl": "",
      "userId": "08063489847245829399"
     },
     "user_tz": 360
    },
    "id": "PZPu-o5txlCP",
    "outputId": "37f5c701-9bb5-4b59-9eba-bb3514a0addb"
   },
   "outputs": [
    {
     "name": "stdout",
     "output_type": "stream",
     "text": [
      "[(  1, 162,  5, -0.36439811, 0.97615296, 1820, 1.820e+03)\n",
      " (  2,  41,  5, -0.72862309, 0.62753397,  668, 6.680e+02)\n",
      " (  3,   8,  5, -0.99544594, 0.23373142,  367, 3.670e+02)\n",
      " (  4,   7,  4, -1.2472055 , 0.04484961,  203, 2.030e+02)\n",
      " (  5,   6,  6, -1.33634338, 1.        ,    2, 2.000e+00)\n",
      " ( -1,  -1, -2, -2.        , 0.        ,    1, 1.000e+00)\n",
      " ( -1,  -1, -2, -2.        , 0.        ,    1, 1.000e+00)\n",
      " ( -1,  -1, -2, -2.        , 0.        ,  201, 2.010e+02)\n",
      " (  9,  36,  3,  1.40783721, 0.39959571,  164, 1.640e+02)\n",
      " ( 10,  17,  3, -1.88811851, 0.34037329,  158, 1.580e+02)\n",
      " ( 11,  12,  0, -0.32422119, 0.86312057,   14, 1.400e+01)\n",
      " ( -1,  -1, -2, -2.        , 0.        ,    7, 7.000e+00)\n",
      " ( 13,  16,  3, -2.41706753, 0.98522814,    7, 7.000e+00)\n",
      " ( 14,  15,  4, -0.0631225 , 0.81127812,    4, 4.000e+00)\n",
      " ( -1,  -1, -2, -2.        , 0.        ,    1, 1.000e+00)\n",
      " ( -1,  -1, -2, -2.        , 0.        ,    3, 3.000e+00)\n",
      " ( -1,  -1, -2, -2.        , 0.        ,    3, 3.000e+00)\n",
      " ( 18,  19,  5, -0.99367499, 0.24988229,  144, 1.440e+02)\n",
      " ( -1,  -1, -2, -2.        , 0.        ,    1, 1.000e+00)\n",
      " ( 20,  31,  1, -0.55236369, 0.21871039,  143, 1.430e+02)\n",
      " ( 21,  22,  0, -0.51718649, 0.57879462,   29, 2.900e+01)\n",
      " ( -1,  -1, -2, -2.        , 0.        ,    9, 9.000e+00)\n",
      " ( 23,  26,  0, -0.49075289, 0.72192809,   20, 2.000e+01)\n",
      " ( 24,  25,  4, -0.46678717, 0.91829583,    3, 3.000e+00)\n",
      " ( -1,  -1, -2, -2.        , 0.        ,    1, 1.000e+00)\n",
      " ( -1,  -1, -2, -2.        , 0.        ,    2, 2.000e+00)\n",
      " ( 27,  28,  6,  1.19587481, 0.52255937,   17, 1.700e+01)\n",
      " ( -1,  -1, -2, -2.        , 0.        ,   12, 1.200e+01)\n",
      " ( 29,  30,  5, -0.91804075, 0.97095059,    5, 5.000e+00)\n",
      " ( -1,  -1, -2, -2.        , 0.        ,    3, 3.000e+00)\n",
      " ( -1,  -1, -2, -2.        , 0.        ,    2, 2.000e+00)\n",
      " ( 32,  33,  0,  0.47407357, 0.07253718,  114, 1.140e+02)\n",
      " ( -1,  -1, -2, -2.        , 0.        ,  103, 1.030e+02)\n",
      " ( 34,  35,  2, -0.50003746, 0.43949699,   11, 1.100e+01)\n",
      " ( -1,  -1, -2, -2.        , 0.        ,   10, 1.000e+01)\n",
      " ( -1,  -1, -2, -2.        , 0.        ,    1, 1.000e+00)\n",
      " ( 37,  40,  2,  0.43202655, 1.        ,    6, 6.000e+00)\n",
      " ( 38,  39,  6, -1.01981613, 0.81127812,    4, 4.000e+00)\n",
      " ( -1,  -1, -2, -2.        , 0.        ,    1, 1.000e+00)\n",
      " ( -1,  -1, -2, -2.        , 0.        ,    3, 3.000e+00)\n",
      " ( -1,  -1, -2, -2.        , 0.        ,    2, 2.000e+00)\n",
      " ( 42,  63,  4, -0.60134205, 0.88411512,  301, 3.010e+02)\n",
      " ( 43,  62,  0,  1.39396292, 0.81127812,   44, 4.400e+01)\n",
      " ( 44,  61,  5, -0.4867411 , 0.71206405,   41, 4.100e+01)\n",
      " ( 45,  60,  1, -0.45435581, 0.86312057,   28, 2.800e+01)\n",
      " ( 46,  47,  0, -0.52775994, 0.77934984,   26, 2.600e+01)\n",
      " ( -1,  -1, -2, -2.        , 0.        ,    6, 6.000e+00)\n",
      " ( 48,  53,  0, -0.40616538, 0.8812909 ,   20, 2.000e+01)\n",
      " ( 49,  50,  6, -0.07023427, 0.98522814,    7, 7.000e+00)\n",
      " ( -1,  -1, -2, -2.        , 0.        ,    2, 2.000e+00)\n",
      " ( 51,  52,  3, -0.01370184, 0.97095059,    5, 5.000e+00)\n",
      " ( -1,  -1, -2, -2.        , 0.        ,    3, 3.000e+00)\n",
      " ( -1,  -1, -2, -2.        , 0.        ,    2, 2.000e+00)\n",
      " ( 54,  55,  4, -1.71814758, 0.61938219,   13, 1.300e+01)\n",
      " ( -1,  -1, -2, -2.        , 0.        ,    1, 1.000e+00)\n",
      " ( 56,  59,  6,  0.55015922, 0.41381685,   12, 1.200e+01)\n",
      " ( 57,  58,  2,  0.35508732, 1.        ,    2, 2.000e+00)\n",
      " ( -1,  -1, -2, -2.        , 0.        ,    1, 1.000e+00)\n",
      " ( -1,  -1, -2, -2.        , 0.        ,    1, 1.000e+00)\n",
      " ( -1,  -1, -2, -2.        , 0.        ,   10, 1.000e+01)\n",
      " ( -1,  -1, -2, -2.        , 0.        ,    2, 2.000e+00)\n",
      " ( -1,  -1, -2, -2.        , 0.        ,   13, 1.300e+01)\n",
      " ( -1,  -1, -2, -2.        , 0.        ,    3, 3.000e+00)\n",
      " ( 64,  93,  2,  0.33090641, 0.77040588,  257, 2.570e+02)\n",
      " ( 65,  78,  0,  0.06699611, 0.44886449,  128, 1.280e+02)\n",
      " ( 66,  67,  4,  0.42127508, 0.26451737,   89, 8.900e+01)\n",
      " ( -1,  -1, -2, -2.        , 0.        ,   48, 4.800e+01)\n",
      " ( 68,  73,  3, -0.19666116, 0.46121604,   41, 4.100e+01)\n",
      " ( 69,  70,  2, -0.06478115, 0.91829583,    9, 9.000e+00)\n",
      " ( -1,  -1, -2, -2.        , 0.        ,    3, 3.000e+00)\n",
      " ( 71,  72,  2,  0.0605199 , 1.        ,    6, 6.000e+00)\n",
      " ( -1,  -1, -2, -2.        , 0.        ,    3, 3.000e+00)\n",
      " ( -1,  -1, -2, -2.        , 0.        ,    3, 3.000e+00)\n",
      " ( 74,  75,  0, -0.14711607, 0.20062232,   32, 3.200e+01)\n",
      " ( -1,  -1, -2, -2.        , 0.        ,   28, 2.800e+01)\n",
      " ( 76,  77,  4,  0.78457326, 0.81127812,    4, 4.000e+00)\n",
      " ( -1,  -1, -2, -2.        , 0.        ,    3, 3.000e+00)\n",
      " ( -1,  -1, -2, -2.        , 0.        ,    1, 1.000e+00)\n",
      " ( 79,  92,  0,  1.12434018, 0.73206669,   39, 3.900e+01)\n",
      " ( 80,  91,  0,  0.84943074, 0.89049164,   26, 2.600e+01)\n",
      " ( 81,  82,  0,  0.10135979, 0.75537541,   23, 2.300e+01)\n",
      " ( -1,  -1, -2, -2.        , 0.        ,    2, 2.000e+00)\n",
      " ( 83,  84,  6, -0.14620082, 0.59167278,   21, 2.100e+01)\n",
      " ( -1,  -1, -2, -2.        , 0.        ,   10, 1.000e+01)\n",
      " ( 85,  90,  4,  0.46164154, 0.84535094,   11, 1.100e+01)\n",
      " ( 86,  87,  5, -0.63483661, 0.98522814,    7, 7.000e+00)\n",
      " ( -1,  -1, -2, -2.        , 0.        ,    2, 2.000e+00)\n",
      " ( 88,  89,  1, -0.03432199, 0.72192809,    5, 5.000e+00)\n",
      " ( -1,  -1, -2, -2.        , 0.        ,    4, 4.000e+00)\n",
      " ( -1,  -1, -2, -2.        , 0.        ,    1, 1.000e+00)\n",
      " ( -1,  -1, -2, -2.        , 0.        ,    4, 4.000e+00)\n",
      " ( -1,  -1, -2, -2.        , 0.        ,    3, 3.000e+00)\n",
      " ( -1,  -1, -2, -2.        , 0.        ,   13, 1.300e+01)\n",
      " ( 94, 151,  0, -0.32157783, 0.93981545,  129, 1.290e+02)\n",
      " ( 95, 140,  0, -0.42731224, 0.97828239,  104, 1.040e+02)\n",
      " ( 96,  97,  5, -0.70316571, 0.92974322,   84, 8.400e+01)\n",
      " ( -1,  -1, -2, -2.        , 0.        ,    5, 5.000e+00)\n",
      " ( 98, 101,  2,  0.47819009, 0.94841039,   79, 7.900e+01)\n",
      " ( 99, 100,  4,  0.48855251, 0.72192809,    5, 5.000e+00)\n",
      " ( -1,  -1, -2, -2.        , 0.        ,    4, 4.000e+00)\n",
      " ( -1,  -1, -2, -2.        , 0.        ,    1, 1.000e+00)\n",
      " (102, 103,  2,  0.66504255, 0.92273462,   74, 7.400e+01)\n",
      " ( -1,  -1, -2, -2.        , 0.        ,   12, 1.200e+01)\n",
      " (104, 137,  3,  0.60377565, 0.97280632,   62, 6.200e+01)\n",
      " (105, 136,  6,  0.42354828, 0.94028596,   56, 5.600e+01)\n",
      " (106, 123,  4,  0.12525433, 0.97552595,   49, 4.900e+01)\n",
      " (107, 118,  3,  0.32632785, 0.99498483,   24, 2.400e+01)\n",
      " (108, 117,  4,  0.01761042, 0.91829583,   18, 1.800e+01)\n",
      " (109, 116,  3,  0.2421104 , 0.99572745,   13, 1.300e+01)\n",
      " (110, 115,  1, -0.29334284, 0.97095059,   10, 1.000e+01)\n",
      " (111, 112,  6, -0.04491209, 0.81127812,    8, 8.000e+00)\n",
      " ( -1,  -1, -2, -2.        , 0.        ,    5, 5.000e+00)\n",
      " (113, 114,  2,  0.78374881, 0.91829583,    3, 3.000e+00)\n",
      " ( -1,  -1, -2, -2.        , 0.        ,    1, 1.000e+00)\n",
      " ( -1,  -1, -2, -2.        , 0.        ,    2, 2.000e+00)\n",
      " ( -1,  -1, -2, -2.        , 0.        ,    2, 2.000e+00)\n",
      " ( -1,  -1, -2, -2.        , 0.        ,    3, 3.000e+00)\n",
      " ( -1,  -1, -2, -2.        , 0.        ,    5, 5.000e+00)\n",
      " (119, 120,  3,  0.46107152, 0.65002242,    6, 6.000e+00)\n",
      " ( -1,  -1, -2, -2.        , 0.        ,    4, 4.000e+00)\n",
      " (121, 122,  2,  0.83430892, 1.        ,    2, 2.000e+00)\n",
      " ( -1,  -1, -2, -2.        , 0.        ,    1, 1.000e+00)\n",
      " ( -1,  -1, -2, -2.        , 0.        ,    1, 1.000e+00)\n",
      " (124, 125,  4,  0.24635373, 0.85545081,   25, 2.500e+01)\n",
      " ( -1,  -1, -2, -2.        , 0.        ,    7, 7.000e+00)\n",
      " (126, 131,  5, -0.58956677, 0.96407876,   18, 1.800e+01)\n",
      " (127, 130,  3,  0.0130094 , 0.954434  ,    8, 8.000e+00)\n",
      " (128, 129,  6, -0.32345609, 0.81127812,    4, 4.000e+00)\n",
      " ( -1,  -1, -2, -2.        , 0.        ,    3, 3.000e+00)\n",
      " ( -1,  -1, -2, -2.        , 0.        ,    1, 1.000e+00)\n",
      " ( -1,  -1, -2, -2.        , 0.        ,    4, 4.000e+00)\n",
      " (132, 135,  3,  0.08319494, 0.72192809,   10, 1.000e+01)\n",
      " (133, 134,  5, -0.52212317, 1.        ,    4, 4.000e+00)\n",
      " ( -1,  -1, -2, -2.        , 0.        ,    2, 2.000e+00)\n",
      " ( -1,  -1, -2, -2.        , 0.        ,    2, 2.000e+00)\n",
      " ( -1,  -1, -2, -2.        , 0.        ,    6, 6.000e+00)\n",
      " ( -1,  -1, -2, -2.        , 0.        ,    7, 7.000e+00)\n",
      " (138, 139,  0, -0.46696267, 0.65002242,    6, 6.000e+00)\n",
      " ( -1,  -1, -2, -2.        , 0.        ,    5, 5.000e+00)\n",
      " ( -1,  -1, -2, -2.        , 0.        ,    1, 1.000e+00)\n",
      " (141, 150,  6,  0.08169882, 0.8812909 ,   20, 2.000e+01)\n",
      " (142, 149,  5, -0.41394776, 0.99403021,   11, 1.100e+01)\n",
      " (143, 148,  4,  0.03106592, 0.81127812,    8, 8.000e+00)\n",
      " (144, 145,  3, -0.1783067 , 1.        ,    4, 4.000e+00)\n",
      " ( -1,  -1, -2, -2.        , 0.        ,    1, 1.000e+00)\n",
      " (146, 147,  0, -0.3638716 , 0.91829583,    3, 3.000e+00)\n",
      " ( -1,  -1, -2, -2.        , 0.        ,    2, 2.000e+00)\n",
      " ( -1,  -1, -2, -2.        , 0.        ,    1, 1.000e+00)\n",
      " ( -1,  -1, -2, -2.        , 0.        ,    4, 4.000e+00)\n",
      " ( -1,  -1, -2, -2.        , 0.        ,    3, 3.000e+00)\n",
      " ( -1,  -1, -2, -2.        , 0.        ,    9, 9.000e+00)\n",
      " (152, 153,  5, -0.69504887, 0.52936087,   25, 2.500e+01)\n",
      " ( -1,  -1, -2, -2.        , 0.        ,    1, 1.000e+00)\n",
      " (154, 161,  6, -0.19684519, 0.41381685,   24, 2.400e+01)\n",
      " (155, 160,  1, -0.41935298, 0.65002242,   12, 1.200e+01)\n",
      " (156, 157,  6, -1.07046044, 0.97095059,    5, 5.000e+00)\n",
      " ( -1,  -1, -2, -2.        , 0.        ,    2, 2.000e+00)\n",
      " (158, 159,  0, -0.2581372 , 0.91829583,    3, 3.000e+00)\n",
      " ( -1,  -1, -2, -2.        , 0.        ,    1, 1.000e+00)\n",
      " ( -1,  -1, -2, -2.        , 0.        ,    2, 2.000e+00)\n",
      " ( -1,  -1, -2, -2.        , 0.        ,    7, 7.000e+00)\n",
      " ( -1,  -1, -2, -2.        , 0.        ,   12, 1.200e+01)\n",
      " (163, 288,  5,  0.00513972, 0.62946985, 1152, 1.152e+03)\n",
      " (164, 195,  2, -0.080169  , 0.946344  ,  321, 3.210e+02)\n",
      " (165, 166,  4, -0.52060911, 0.90294167,   91, 9.100e+01)\n",
      " ( -1,  -1, -2, -2.        , 0.        ,    7, 7.000e+00)\n",
      " (167, 172,  2, -0.81658751, 0.8296071 ,   84, 8.400e+01)\n",
      " (168, 171,  2, -2.21248531, 0.23519338,   26, 2.600e+01)\n",
      " (169, 170,  6, -0.63998336, 0.91829583,    3, 3.000e+00)\n",
      " ( -1,  -1, -2, -2.        , 0.        ,    1, 1.000e+00)\n",
      " ( -1,  -1, -2, -2.        , 0.        ,    2, 2.000e+00)\n",
      " ( -1,  -1, -2, -2.        , 0.        ,   23, 2.300e+01)\n",
      " (173, 174,  5, -0.26625808, 0.9443872 ,   58, 5.800e+01)\n",
      " ( -1,  -1, -2, -2.        , 0.        ,   15, 1.500e+01)\n",
      " (175, 194,  0,  0.64324865, 0.99960984,   43, 4.300e+01)\n",
      " (176, 179,  3, -0.85676593, 0.97402486,   37, 3.700e+01)\n",
      " (177, 178,  6, -0.00692882, 0.59167278,    7, 7.000e+00)\n",
      " ( -1,  -1, -2, -2.        , 0.        ,    6, 6.000e+00)\n",
      " ( -1,  -1, -2, -2.        , 0.        ,    1, 1.000e+00)\n",
      " (180, 193,  5, -0.0671371 , 0.8812909 ,   30, 3.000e+01)\n",
      " (181, 188,  5, -0.16811803, 0.954434  ,   24, 2.400e+01)\n",
      " (182, 187,  4,  0.15216531, 0.59167278,   14, 1.400e+01)\n",
      " (183, 184,  4, -0.37259874, 0.97095059,    5, 5.000e+00)\n",
      " ( -1,  -1, -2, -2.        , 0.        ,    2, 2.000e+00)\n",
      " (185, 186,  3,  0.83138612, 0.91829583,    3, 3.000e+00)\n",
      " ( -1,  -1, -2, -2.        , 0.        ,    2, 2.000e+00)\n",
      " ( -1,  -1, -2, -2.        , 0.        ,    1, 1.000e+00)\n",
      " ( -1,  -1, -2, -2.        , 0.        ,    9, 9.000e+00)\n",
      " (189, 190,  0, -0.35858488, 0.8812909 ,   10, 1.000e+01)\n",
      " ( -1,  -1, -2, -2.        , 0.        ,    2, 2.000e+00)\n",
      " (191, 192,  3,  0.93708783, 0.54356444,    8, 8.000e+00)\n",
      " ( -1,  -1, -2, -2.        , 0.        ,    7, 7.000e+00)\n",
      " ( -1,  -1, -2, -2.        , 0.        ,    1, 1.000e+00)\n",
      " ( -1,  -1, -2, -2.        , 0.        ,    6, 6.000e+00)\n",
      " ( -1,  -1, -2, -2.        , 0.        ,    6, 6.000e+00)\n",
      " (196, 207,  4, -0.62825301, 0.79359123,  230, 2.300e+02)\n",
      " (197, 206,  2,  0.69801649, 0.36657801,   57, 5.700e+01)\n",
      " (198, 201,  5, -0.11270211, 0.65002242,   24, 2.400e+01)\n",
      " (199, 200,  2,  0.68262866, 0.30954343,   18, 1.800e+01)\n",
      " ( -1,  -1, -2, -2.        , 0.        ,   17, 1.700e+01)\n",
      " ( -1,  -1, -2, -2.        , 0.        ,    1, 1.000e+00)\n",
      " (202, 203,  1, -0.59436709, 1.        ,    6, 6.000e+00)\n",
      " ( -1,  -1, -2, -2.        , 0.        ,    2, 2.000e+00)\n",
      " (204, 205,  4, -1.13956153, 0.81127812,    4, 4.000e+00)\n",
      " ( -1,  -1, -2, -2.        , 0.        ,    1, 1.000e+00)\n",
      " ( -1,  -1, -2, -2.        , 0.        ,    3, 3.000e+00)\n",
      " ( -1,  -1, -2, -2.        , 0.        ,   33, 3.300e+01)\n",
      " (208, 235,  3, -0.12427006, 0.87483836,  173, 1.730e+02)\n",
      " (209, 210,  1, -0.55936426, 0.65654028,   59, 5.900e+01)\n",
      " ( -1,  -1, -2, -2.        , 0.        ,   12, 1.200e+01)\n",
      " (211, 212,  1, -0.53836256, 0.74673661,   47, 4.700e+01)\n",
      " ( -1,  -1, -2, -2.        , 0.        ,    2, 2.000e+00)\n",
      " (213, 234,  3, -0.36971256, 0.67519144,   45, 4.500e+01)\n",
      " (214, 215,  3, -1.90580821, 0.77551266,   35, 3.500e+01)\n",
      " ( -1,  -1, -2, -2.        , 0.        ,    6, 6.000e+00)\n",
      " (216, 219,  3, -1.42005199, 0.84975114,   29, 2.900e+01)\n",
      " (217, 218,  1, -0.3773496 , 0.81127812,    4, 4.000e+00)\n",
      " ( -1,  -1, -2, -2.        , 0.        ,    1, 1.000e+00)\n",
      " ( -1,  -1, -2, -2.        , 0.        ,    3, 3.000e+00)\n",
      " (220, 221,  4, -0.45333166, 0.72192809,   25, 2.500e+01)\n",
      " ( -1,  -1, -2, -2.        , 0.        ,    1, 1.000e+00)\n",
      " (222, 233,  3, -0.3813584 , 0.65002242,   24, 2.400e+01)\n",
      " (223, 232,  6, -0.23482846, 0.55862937,   23, 2.300e+01)\n",
      " (224, 229,  1, -0.25133947, 0.81127812,   12, 1.200e+01)\n",
      " (225, 228,  5, -0.33370167, 0.50325833,    9, 9.000e+00)\n",
      " (226, 227,  2,  0.59909461, 1.        ,    2, 2.000e+00)\n",
      " ( -1,  -1, -2, -2.        , 0.        ,    1, 1.000e+00)\n",
      " ( -1,  -1, -2, -2.        , 0.        ,    1, 1.000e+00)\n",
      " ( -1,  -1, -2, -2.        , 0.        ,    7, 7.000e+00)\n",
      " (230, 231,  3, -1.26712352, 0.91829583,    3, 3.000e+00)\n",
      " ( -1,  -1, -2, -2.        , 0.        ,    1, 1.000e+00)\n",
      " ( -1,  -1, -2, -2.        , 0.        ,    2, 2.000e+00)\n",
      " ( -1,  -1, -2, -2.        , 0.        ,   11, 1.100e+01)\n",
      " ( -1,  -1, -2, -2.        , 0.        ,    1, 1.000e+00)\n",
      " ( -1,  -1, -2, -2.        , 0.        ,   10, 1.000e+01)\n",
      " (236, 255,  2,  0.49577622, 0.94239155,  114, 1.140e+02)\n",
      " (237, 242,  5, -0.25124191, 0.9985091 ,   44, 4.400e+01)\n",
      " (238, 241,  5, -0.35528509, 0.59167278,   14, 1.400e+01)\n",
      " (239, 240,  3,  0.58937138, 0.91829583,    3, 3.000e+00)\n",
      " ( -1,  -1, -2, -2.        , 0.        ,    2, 2.000e+00)\n",
      " ( -1,  -1, -2, -2.        , 0.        ,    1, 1.000e+00)\n",
      " ( -1,  -1, -2, -2.        , 0.        ,   11, 1.100e+01)\n",
      " (243, 254,  3,  0.56248966, 0.94807824,   30, 3.000e+01)\n",
      " (244, 247,  5, -0.16697429, 1.        ,   22, 2.200e+01)\n",
      " (245, 246,  2,  0.08030428, 0.59167278,    7, 7.000e+00)\n",
      " ( -1,  -1, -2, -2.        , 0.        ,    1, 1.000e+00)\n",
      " ( -1,  -1, -2, -2.        , 0.        ,    6, 6.000e+00)\n",
      " (248, 249,  0, -0.20791335, 0.91829583,   15, 1.500e+01)\n",
      " ( -1,  -1, -2, -2.        , 0.        ,    6, 6.000e+00)\n",
      " (250, 251,  5, -0.13332628, 0.99107606,    9, 9.000e+00)\n",
      " ( -1,  -1, -2, -2.        , 0.        ,    3, 3.000e+00)\n",
      " (252, 253,  1, -0.53486228, 0.65002242,    6, 6.000e+00)\n",
      " ( -1,  -1, -2, -2.        , 0.        ,    1, 1.000e+00)\n",
      " ( -1,  -1, -2, -2.        , 0.        ,    5, 5.000e+00)\n",
      " ( -1,  -1, -2, -2.        , 0.        ,    8, 8.000e+00)\n",
      " (256, 269,  1, -0.52436143, 0.82240423,   70, 7.000e+01)\n",
      " (257, 268,  1, -0.54536313, 0.57135497,   37, 3.700e+01)\n",
      " (258, 265,  1, -0.55936426, 0.72192809,   25, 2.500e+01)\n",
      " (259, 260,  6, -0.86788303, 0.46899559,   20, 2.000e+01)\n",
      " ( -1,  -1, -2, -2.        , 0.        ,    1, 1.000e+00)\n",
      " (261, 264,  5, -0.34986156, 0.29747225,   19, 1.900e+01)\n",
      " (262, 263,  0, -0.41409545, 1.        ,    2, 2.000e+00)\n",
      " ( -1,  -1, -2, -2.        , 0.        ,    1, 1.000e+00)\n",
      " ( -1,  -1, -2, -2.        , 0.        ,    1, 1.000e+00)\n",
      " ( -1,  -1, -2, -2.        , 0.        ,   17, 1.700e+01)\n",
      " (266, 267,  3,  0.2989339 , 0.97095059,    5, 5.000e+00)\n",
      " ( -1,  -1, -2, -2.        , 0.        ,    3, 3.000e+00)\n",
      " ( -1,  -1, -2, -2.        , 0.        ,    2, 2.000e+00)\n",
      " ( -1,  -1, -2, -2.        , 0.        ,   12, 1.200e+01)\n",
      " (270, 287,  5, -0.08798263, 0.96729478,   33, 3.300e+01)\n",
      " (271, 286,  5, -0.11410411, 1.        ,   26, 2.600e+01)\n",
      " (272, 273,  3,  0.21800978, 0.98769251,   23, 2.300e+01)\n",
      " ( -1,  -1, -2, -2.        , 0.        ,    3, 3.000e+00)\n",
      " (274, 275,  3,  0.36425881, 0.93406806,   20, 2.000e+01)\n",
      " ( -1,  -1, -2, -2.        , 0.        ,    6, 6.000e+00)\n",
      " (276, 283,  0, -0.45638922, 1.        ,   14, 1.400e+01)\n",
      " (277, 278,  5, -0.28260243, 0.81127812,    8, 8.000e+00)\n",
      " ( -1,  -1, -2, -2.        , 0.        ,    1, 1.000e+00)\n",
      " (279, 280,  5, -0.17232403, 0.59167278,    7, 7.000e+00)\n",
      " ( -1,  -1, -2, -2.        , 0.        ,    5, 5.000e+00)\n",
      " (281, 282,  4, -0.00930055, 1.        ,    2, 2.000e+00)\n",
      " ( -1,  -1, -2, -2.        , 0.        ,    1, 1.000e+00)\n",
      " ( -1,  -1, -2, -2.        , 0.        ,    1, 1.000e+00)\n",
      " (284, 285,  0, -0.3506548 , 0.65002242,    6, 6.000e+00)\n",
      " ( -1,  -1, -2, -2.        , 0.        ,    5, 5.000e+00)\n",
      " ( -1,  -1, -2, -2.        , 0.        ,    1, 1.000e+00)\n",
      " ( -1,  -1, -2, -2.        , 0.        ,    3, 3.000e+00)\n",
      " ( -1,  -1, -2, -2.        , 0.        ,    7, 7.000e+00)\n",
      " (289, 348,  2, -0.29120237, 0.39587247,  831, 8.310e+02)\n",
      " (290, 331,  5,  0.40887898, 0.80679555,  178, 1.780e+02)\n",
      " (291, 296,  2, -1.60576433, 0.99871175,   71, 7.100e+01)\n",
      " (292, 293,  5,  0.02211131, 0.68403844,   11, 1.100e+01)\n",
      " ( -1,  -1, -2, -2.        , 0.        ,    1, 1.000e+00)\n",
      " (294, 295,  3,  1.16363162, 0.46899559,   10, 1.000e+01)\n",
      " ( -1,  -1, -2, -2.        , 0.        ,    9, 9.000e+00)\n",
      " ( -1,  -1, -2, -2.        , 0.        ,    1, 1.000e+00)\n",
      " (297, 302,  4, -0.38605423, 0.97986876,   60, 6.000e+01)\n",
      " (298, 301,  4, -0.77626339, 0.67229482,   17, 1.700e+01)\n",
      " (299, 300,  2, -1.50464422, 0.81127812,    4, 4.000e+00)\n",
      " ( -1,  -1, -2, -2.        , 0.        ,    1, 1.000e+00)\n",
      " ( -1,  -1, -2, -2.        , 0.        ,    3, 3.000e+00)\n",
      " ( -1,  -1, -2, -2.        , 0.        ,   13, 1.300e+01)\n",
      " (303, 330,  0,  1.91470492, 0.99960984,   43, 4.300e+01)\n",
      " (304, 305,  5,  0.09626976, 0.99277445,   40, 4.000e+01)\n",
      " ( -1,  -1, -2, -2.        , 0.        ,    4, 4.000e+00)\n",
      " (306, 309,  0, -0.38501848, 1.        ,   36, 3.600e+01)\n",
      " (307, 308,  2, -0.47585656, 0.65002242,    6, 6.000e+00)\n",
      " ( -1,  -1, -2, -2.        , 0.        ,    5, 5.000e+00)\n",
      " ( -1,  -1, -2, -2.        , 0.        ,    1, 1.000e+00)\n",
      " (310, 329,  3,  0.73048928, 0.98713777,   30, 3.000e+01)\n",
      " (311, 328,  3,  0.63934946, 0.99884554,   25, 2.500e+01)\n",
      " (312, 313,  2, -1.02981916, 0.98522814,   21, 2.100e+01)\n",
      " ( -1,  -1, -2, -2.        , 0.        ,    5, 5.000e+00)\n",
      " (314, 327,  6,  0.4235483 , 0.98869941,   16, 1.600e+01)\n",
      " (315, 316,  1, -0.57686567, 0.94028596,   14, 1.400e+01)\n",
      " ( -1,  -1, -2, -2.        , 0.        ,    1, 1.000e+00)\n",
      " (317, 322,  3,  0.19713441, 0.89049164,   13, 1.300e+01)\n",
      " (318, 321,  5,  0.14973025, 0.54356444,    8, 8.000e+00)\n",
      " (319, 320,  0,  0.6062416 , 1.        ,    2, 2.000e+00)\n",
      " ( -1,  -1, -2, -2.        , 0.        ,    1, 1.000e+00)\n",
      " ( -1,  -1, -2, -2.        , 0.        ,    1, 1.000e+00)\n",
      " ( -1,  -1, -2, -2.        , 0.        ,    6, 6.000e+00)\n",
      " (323, 326,  0,  0.2335278 , 0.97095059,    5, 5.000e+00)\n",
      " (324, 325,  4,  0.13870983, 0.91829583,    3, 3.000e+00)\n",
      " ( -1,  -1, -2, -2.        , 0.        ,    2, 2.000e+00)\n",
      " ( -1,  -1, -2, -2.        , 0.        ,    1, 1.000e+00)\n",
      " ( -1,  -1, -2, -2.        , 0.        ,    2, 2.000e+00)\n",
      " ( -1,  -1, -2, -2.        , 0.        ,    2, 2.000e+00)\n",
      " ( -1,  -1, -2, -2.        , 0.        ,    4, 4.000e+00)\n",
      " ( -1,  -1, -2, -2.        , 0.        ,    5, 5.000e+00)\n",
      " ( -1,  -1, -2, -2.        , 0.        ,    3, 3.000e+00)\n",
      " (332, 335,  2, -1.93770224, 0.44790786,  107, 1.070e+02)\n",
      " (333, 334,  5,  0.89404497, 0.97095059,   10, 1.000e+01)\n",
      " ( -1,  -1, -2, -2.        , 0.        ,    6, 6.000e+00)\n",
      " ( -1,  -1, -2, -2.        , 0.        ,    4, 4.000e+00)\n",
      " (336, 345,  3,  1.05679727, 0.24793584,   97, 9.700e+01)\n",
      " (337, 342,  4,  1.47080311, 0.14981137,   93, 9.300e+01)\n",
      " (338, 339,  3,  0.51741213, 0.08728059,   91, 9.100e+01)\n",
      " ( -1,  -1, -2, -2.        , 0.        ,   70, 7.000e+01)\n",
      " (340, 341,  3,  0.53643587, 0.27619543,   21, 2.100e+01)\n",
      " ( -1,  -1, -2, -2.        , 0.        ,    1, 1.000e+00)\n",
      " ( -1,  -1, -2, -2.        , 0.        ,   20, 2.000e+01)\n",
      " (343, 344,  2, -0.80779445, 1.        ,    2, 2.000e+00)\n",
      " ( -1,  -1, -2, -2.        , 0.        ,    1, 1.000e+00)\n",
      " ( -1,  -1, -2, -2.        , 0.        ,    1, 1.000e+00)\n",
      " (346, 347,  4, -0.15731093, 1.        ,    4, 4.000e+00)\n",
      " ( -1,  -1, -2, -2.        , 0.        ,    2, 2.000e+00)\n",
      " ( -1,  -1, -2, -2.        , 0.        ,    2, 2.000e+00)\n",
      " (349, 390,  2,  0.50237101, 0.20510748,  653, 6.530e+02)\n",
      " (350, 375,  5,  0.28941378, 0.35637377,  252, 2.520e+02)\n",
      " (351, 352,  2,  0.06931296, 0.70246655,   63, 6.300e+01)\n",
      " ( -1,  -1, -2, -2.        , 0.        ,   17, 1.700e+01)\n",
      " (353, 360,  2,  0.20340708, 0.82805573,   46, 4.600e+01)\n",
      " (354, 359,  2,  0.1154765 , 0.97095059,   10, 1.000e+01)\n",
      " (355, 358,  2,  0.0912956 , 0.91829583,    6, 6.000e+00)\n",
      " (356, 357,  5,  0.20769191, 0.91829583,    3, 3.000e+00)\n",
      " ( -1,  -1, -2, -2.        , 0.        ,    2, 2.000e+00)\n",
      " ( -1,  -1, -2, -2.        , 0.        ,    1, 1.000e+00)\n",
      " ( -1,  -1, -2, -2.        , 0.        ,    3, 3.000e+00)\n",
      " ( -1,  -1, -2, -2.        , 0.        ,    4, 4.000e+00)\n",
      " (361, 362,  2,  0.32211335, 0.65002242,   36, 3.600e+01)\n",
      " ( -1,  -1, -2, -2.        , 0.        ,   11, 1.100e+01)\n",
      " (363, 372,  5,  0.22757817, 0.79504028,   25, 2.500e+01)\n",
      " (364, 367,  5,  0.02830963, 0.6098403 ,   20, 2.000e+01)\n",
      " (365, 366,  4,  0.32708665, 0.91829583,    3, 3.000e+00)\n",
      " ( -1,  -1, -2, -2.        , 0.        ,    2, 2.000e+00)\n",
      " ( -1,  -1, -2, -2.        , 0.        ,    1, 1.000e+00)\n",
      " (368, 371,  3, -1.05676702, 0.32275696,   17, 1.700e+01)\n",
      " (369, 370,  3, -1.83333188, 1.        ,    2, 2.000e+00)\n",
      " ( -1,  -1, -2, -2.        , 0.        ,    1, 1.000e+00)\n",
      " ( -1,  -1, -2, -2.        , 0.        ,    1, 1.000e+00)\n",
      " ( -1,  -1, -2, -2.        , 0.        ,   15, 1.500e+01)\n",
      " (373, 374,  4, -0.2918658 , 0.97095059,    5, 5.000e+00)\n",
      " ( -1,  -1, -2, -2.        , 0.        ,    3, 3.000e+00)\n",
      " ( -1,  -1, -2, -2.        , 0.        ,    2, 2.000e+00)\n",
      " (376, 377,  4, -1.59704816, 0.17628983,  189, 1.890e+02)\n",
      " ( -1,  -1, -2, -2.        , 0.        ,    1, 1.000e+00)\n",
      " (378, 389,  5,  0.7917358 , 0.14854949,  188, 1.880e+02)\n",
      " (379, 388,  5,  0.78907937, 0.29747225,   76, 7.600e+01)\n",
      " (380, 381,  5,  0.50901136, 0.24229219,   75, 7.500e+01)\n",
      " ( -1,  -1, -2, -2.        , 0.        ,   36, 3.600e+01)\n",
      " (382, 385,  5,  0.53760478, 0.39124356,   39, 3.900e+01)\n",
      " (383, 384,  6,  0.15766537, 1.        ,    4, 4.000e+00)\n",
      " ( -1,  -1, -2, -2.        , 0.        ,    2, 2.000e+00)\n",
      " ( -1,  -1, -2, -2.        , 0.        ,    2, 2.000e+00)\n",
      " (386, 387,  4,  0.50200802, 0.18717626,   35, 3.500e+01)\n",
      " ( -1,  -1, -2, -2.        , 0.        ,   34, 3.400e+01)\n",
      " ( -1,  -1, -2, -2.        , 0.        ,    1, 1.000e+00)\n",
      " ( -1,  -1, -2, -2.        , 0.        ,    1, 1.000e+00)\n",
      " ( -1,  -1, -2, -2.        , 0.        ,  112, 1.120e+02)\n",
      " (391, 396,  4, -0.03621153, 0.08062777,  401, 4.010e+02)\n",
      " (392, 393,  3,  0.72441354, 0.02733106,  364, 3.640e+02)\n",
      " ( -1,  -1, -2, -2.        , 0.        ,  352, 3.520e+02)\n",
      " (394, 395,  3,  0.74690664, 0.41381685,   12, 1.200e+01)\n",
      " ( -1,  -1, -2, -2.        , 0.        ,    1, 1.000e+00)\n",
      " ( -1,  -1, -2, -2.        , 0.        ,   11, 1.100e+01)\n",
      " (397, 402,  1, -0.37034905, 0.40597704,   37, 3.700e+01)\n",
      " (398, 399,  4,  0.32708666, 0.20559251,   31, 3.100e+01)\n",
      " ( -1,  -1, -2, -2.        , 0.        ,   25, 2.500e+01)\n",
      " (400, 401,  4,  0.40781958, 0.65002242,    6, 6.000e+00)\n",
      " ( -1,  -1, -2, -2.        , 0.        ,    1, 1.000e+00)\n",
      " ( -1,  -1, -2, -2.        , 0.        ,    5, 5.000e+00)\n",
      " (403, 404,  1, -0.30384369, 0.91829583,    6, 6.000e+00)\n",
      " ( -1,  -1, -2, -2.        , 0.        ,    2, 2.000e+00)\n",
      " ( -1,  -1, -2, -2.        , 0.        ,    4, 4.000e+00)]\n"
     ]
    },
    {
     "data": {
      "text/plain": [
       "405"
      ]
     },
     "execution_count": 20,
     "metadata": {},
     "output_type": "execute_result"
    }
   ],
   "source": [
    "classifier = DecisionTreeClassifier(criterion = \"entropy\", splitter=\"best\", min_weight_fraction_leaf=0.0, max_features=None, random_state=0, max_leaf_nodes=None, min_impurity_decrease=0.0, min_impurity_split=None, class_weight=None)\n",
    "classifier.fit(x_train_scaled_df[['Hispanic','Black', 'White', 'Percent_Women', 'Unemployment', 'Income', 'SelfEmployed']], y_train)\n",
    "\n",
    "\n",
    "# Show the structure of the decision tree classifier\n",
    "print(classifier.tree_.__getstate__()['nodes'])\n",
    "len(classifier.tree_.__getstate__()['nodes'])"
   ]
  },
  {
   "cell_type": "code",
   "execution_count": 21,
   "metadata": {
    "colab": {
     "base_uri": "https://localhost:8080/",
     "height": 297
    },
    "colab_type": "code",
    "executionInfo": {
     "elapsed": 2601,
     "status": "ok",
     "timestamp": 1575244691774,
     "user": {
      "displayName": "Lydia Tse",
      "photoUrl": "",
      "userId": "08063489847245829399"
     },
     "user_tz": 360
    },
    "id": "LUbzCNjJxops",
    "outputId": "6f35e697-e0a6-40a3-e0c5-72b9fcda016e"
   },
   "outputs": [
    {
     "data": {
      "image/png": "[encoded data removed]",
      "text/plain": [
       "<Figure size 432x288 with 2 Axes>"
      ]
     },
     "metadata": {
      "needs_background": "light"
     },
     "output_type": "display_data"
    }
   ],
   "source": [
    "y_pred = classifier.predict(x_validation_scaled_df[['Hispanic','Black', 'White', 'Percent_Women','Unemployment', 'Income', 'SelfEmployed']])\n",
    "conf_matrix = metrics.confusion_matrix(y_validation, y_pred)\n",
    "sns.heatmap(conf_matrix, annot = True, fmt = \".3f\", square = True, cmap = plt.cm.Blues)\n",
    "plt.ylabel('Actual')\n",
    "plt.xlabel('Predicted')\n",
    "plt.title('Confusion matrix')\n",
    "plt.tight_layout()"
   ]
  },
  {
   "cell_type": "code",
   "execution_count": 22,
   "metadata": {
    "colab": {
     "base_uri": "https://localhost:8080/",
     "height": 54
    },
    "colab_type": "code",
    "executionInfo": {
     "elapsed": 2600,
     "status": "ok",
     "timestamp": 1575244691775,
     "user": {
      "displayName": "Lydia Tse",
      "photoUrl": "",
      "userId": "08063489847245829399"
     },
     "user_tz": 360
    },
    "id": "FhLAdaG2xstx",
    "outputId": "da1617eb-e3ee-416e-b418-d3783cecfdf5"
   },
   "outputs": [
    {
     "name": "stdout",
     "output_type": "stream",
     "text": [
      "[0.8467874794069192, 0.15321252059308077, array([0.86416185, 0.82375479]), array([0.86666667, 0.82061069]), array([0.86541245, 0.82217973])]\n"
     ]
    }
   ],
   "source": [
    "accuracy = metrics.accuracy_score(y_validation, y_pred)\n",
    "error = 1 - accuracy\n",
    "precision = metrics.precision_score(y_validation, y_pred, average = None)\n",
    "recall = metrics.recall_score(y_validation, y_pred, average = None)\n",
    "F1_score = metrics.f1_score(y_validation, y_pred, average = None)\n",
    "print([accuracy, error, precision, recall, F1_score])"
   ]
  },
  {
   "cell_type": "markdown",
   "metadata": {
    "colab_type": "text",
    "id": "-HMhJIKMxuXv"
   },
   "source": [
    "---"
   ]
  },
  {
   "cell_type": "markdown",
   "metadata": {
    "colab_type": "text",
    "id": "J2P4Fe_lxvRU"
   },
   "source": [
    "MODEL 5\n",
    "\n",
    "    - Variables Used: Hispanic, Black, White, Percent_Women, Unemployment, Income, SelfEmployed, Professional"
   ]
  },
  {
   "cell_type": "code",
   "execution_count": 23,
   "metadata": {
    "colab": {
     "base_uri": "https://localhost:8080/",
     "height": 1000
    },
    "colab_type": "code",
    "executionInfo": {
     "elapsed": 2597,
     "status": "ok",
     "timestamp": 1575244691775,
     "user": {
      "displayName": "Lydia Tse",
      "photoUrl": "",
      "userId": "08063489847245829399"
     },
     "user_tz": 360
    },
    "id": "zUmHjk2ZxyGX",
    "outputId": "6916441f-3403-4e26-a5e0-7a1b979b3c04"
   },
   "outputs": [
    {
     "name": "stdout",
     "output_type": "stream",
     "text": [
      "[(  1, 160,  5, -0.36439811, 0.97615296, 1820, 1.820e+03)\n",
      " (  2,  41,  5, -0.72862309, 0.62753397,  668, 6.680e+02)\n",
      " (  3,   8,  5, -0.99544594, 0.23373142,  367, 3.670e+02)\n",
      " (  4,   7,  4, -1.2472055 , 0.04484961,  203, 2.030e+02)\n",
      " (  5,   6,  0,  3.92101538, 1.        ,    2, 2.000e+00)\n",
      " ( -1,  -1, -2, -2.        , 0.        ,    1, 1.000e+00)\n",
      " ( -1,  -1, -2, -2.        , 0.        ,    1, 1.000e+00)\n",
      " ( -1,  -1, -2, -2.        , 0.        ,  201, 2.010e+02)\n",
      " (  9,  36,  3,  1.40783721, 0.39959571,  164, 1.640e+02)\n",
      " ( 10,  17,  3, -1.88811851, 0.34037329,  158, 1.580e+02)\n",
      " ( 11,  12,  0, -0.32422119, 0.86312057,   14, 1.400e+01)\n",
      " ( -1,  -1, -2, -2.        , 0.        ,    7, 7.000e+00)\n",
      " ( 13,  14,  0, -0.16033287, 0.98522814,    7, 7.000e+00)\n",
      " ( -1,  -1, -2, -2.        , 0.        ,    3, 3.000e+00)\n",
      " ( 15,  16,  5, -0.85709062, 0.81127812,    4, 4.000e+00)\n",
      " ( -1,  -1, -2, -2.        , 0.        ,    3, 3.000e+00)\n",
      " ( -1,  -1, -2, -2.        , 0.        ,    1, 1.000e+00)\n",
      " ( 18,  19,  5, -0.99367499, 0.24988229,  144, 1.440e+02)\n",
      " ( -1,  -1, -2, -2.        , 0.        ,    1, 1.000e+00)\n",
      " ( 20,  31,  1, -0.55236369, 0.21871039,  143, 1.430e+02)\n",
      " ( 21,  22,  0, -0.51718649, 0.57879462,   29, 2.900e+01)\n",
      " ( -1,  -1, -2, -2.        , 0.        ,    9, 9.000e+00)\n",
      " ( 23,  26,  0, -0.49075289, 0.72192809,   20, 2.000e+01)\n",
      " ( 24,  25,  5, -0.87166405, 0.91829583,    3, 3.000e+00)\n",
      " ( -1,  -1, -2, -2.        , 0.        ,    2, 2.000e+00)\n",
      " ( -1,  -1, -2, -2.        , 0.        ,    1, 1.000e+00)\n",
      " ( 27,  28,  6,  1.19587481, 0.52255937,   17, 1.700e+01)\n",
      " ( -1,  -1, -2, -2.        , 0.        ,   12, 1.200e+01)\n",
      " ( 29,  30,  5, -0.91804075, 0.97095059,    5, 5.000e+00)\n",
      " ( -1,  -1, -2, -2.        , 0.        ,    3, 3.000e+00)\n",
      " ( -1,  -1, -2, -2.        , 0.        ,    2, 2.000e+00)\n",
      " ( 32,  33,  0,  0.47407357, 0.07253718,  114, 1.140e+02)\n",
      " ( -1,  -1, -2, -2.        , 0.        ,  103, 1.030e+02)\n",
      " ( 34,  35,  0,  0.57716462, 0.43949699,   11, 1.100e+01)\n",
      " ( -1,  -1, -2, -2.        , 0.        ,    1, 1.000e+00)\n",
      " ( -1,  -1, -2, -2.        , 0.        ,   10, 1.000e+01)\n",
      " ( 37,  38,  0, -0.45903258, 1.        ,    6, 6.000e+00)\n",
      " ( -1,  -1, -2, -2.        , 0.        ,    2, 2.000e+00)\n",
      " ( 39,  40,  4, -1.07228415, 0.81127812,    4, 4.000e+00)\n",
      " ( -1,  -1, -2, -2.        , 0.        ,    1, 1.000e+00)\n",
      " ( -1,  -1, -2, -2.        , 0.        ,    3, 3.000e+00)\n",
      " ( 42,  65,  4, -0.60134205, 0.88411512,  301, 3.010e+02)\n",
      " ( 43,  44,  2, -0.90012154, 0.81127812,   44, 4.400e+01)\n",
      " ( -1,  -1, -2, -2.        , 0.        ,    3, 3.000e+00)\n",
      " ( 45,  64,  5, -0.4867411 , 0.71206405,   41, 4.100e+01)\n",
      " ( 46,  63,  1, -0.45435581, 0.86312057,   28, 2.800e+01)\n",
      " ( 47,  48,  0, -0.52775994, 0.77934984,   26, 2.600e+01)\n",
      " ( -1,  -1, -2, -2.        , 0.        ,    6, 6.000e+00)\n",
      " ( 49,  56,  0, -0.40616538, 0.8812909 ,   20, 2.000e+01)\n",
      " ( 50,  51,  2,  0.8716794 , 0.98522814,    7, 7.000e+00)\n",
      " ( -1,  -1, -2, -2.        , 0.        ,    2, 2.000e+00)\n",
      " ( 52,  55,  1, -0.58736652, 0.97095059,    5, 5.000e+00)\n",
      " ( 53,  54,  0, -0.45903257, 0.91829583,    3, 3.000e+00)\n",
      " ( -1,  -1, -2, -2.        , 0.        ,    2, 2.000e+00)\n",
      " ( -1,  -1, -2, -2.        , 0.        ,    1, 1.000e+00)\n",
      " ( -1,  -1, -2, -2.        , 0.        ,    2, 2.000e+00)\n",
      " ( 57,  58,  4, -1.71814758, 0.61938219,   13, 1.300e+01)\n",
      " ( -1,  -1, -2, -2.        , 0.        ,    1, 1.000e+00)\n",
      " ( 59,  62,  6,  0.55015922, 0.41381685,   12, 1.200e+01)\n",
      " ( 60,  61,  6, -0.0069288 , 1.        ,    2, 2.000e+00)\n",
      " ( -1,  -1, -2, -2.        , 0.        ,    1, 1.000e+00)\n",
      " ( -1,  -1, -2, -2.        , 0.        ,    1, 1.000e+00)\n",
      " ( -1,  -1, -2, -2.        , 0.        ,   10, 1.000e+01)\n",
      " ( -1,  -1, -2, -2.        , 0.        ,    2, 2.000e+00)\n",
      " ( -1,  -1, -2, -2.        , 0.        ,   13, 1.300e+01)\n",
      " ( 66,  91,  2,  0.33090641, 0.77040588,  257, 2.570e+02)\n",
      " ( 67,  76,  0,  0.06699611, 0.44886449,  128, 1.280e+02)\n",
      " ( 68,  75,  7, -0.90883344, 0.26451737,   89, 8.900e+01)\n",
      " ( 69,  74,  1,  1.08226788, 0.70246655,   21, 2.100e+01)\n",
      " ( 70,  71,  3,  0.01631761, 0.9456603 ,   11, 1.100e+01)\n",
      " ( -1,  -1, -2, -2.        , 0.        ,    3, 3.000e+00)\n",
      " ( 72,  73,  7, -1.02264291, 0.54356444,    8, 8.000e+00)\n",
      " ( -1,  -1, -2, -2.        , 0.        ,    7, 7.000e+00)\n",
      " ( -1,  -1, -2, -2.        , 0.        ,    1, 1.000e+00)\n",
      " ( -1,  -1, -2, -2.        , 0.        ,   10, 1.000e+01)\n",
      " ( -1,  -1, -2, -2.        , 0.        ,   68, 6.800e+01)\n",
      " ( 77,  90,  0,  1.12434018, 0.73206669,   39, 3.900e+01)\n",
      " ( 78,  89,  0,  0.84943074, 0.89049164,   26, 2.600e+01)\n",
      " ( 79,  80,  0,  0.10135979, 0.75537541,   23, 2.300e+01)\n",
      " ( -1,  -1, -2, -2.        , 0.        ,    2, 2.000e+00)\n",
      " ( 81,  82,  6, -0.14620082, 0.59167278,   21, 2.100e+01)\n",
      " ( -1,  -1, -2, -2.        , 0.        ,   10, 1.000e+01)\n",
      " ( 83,  84,  7, -0.63569066, 0.84535094,   11, 1.100e+01)\n",
      " ( -1,  -1, -2, -2.        , 0.        ,    5, 5.000e+00)\n",
      " ( 85,  86,  7, -0.39289707, 1.        ,    6, 6.000e+00)\n",
      " ( -1,  -1, -2, -2.        , 0.        ,    2, 2.000e+00)\n",
      " ( 87,  88,  6,  1.74030176, 0.81127812,    4, 4.000e+00)\n",
      " ( -1,  -1, -2, -2.        , 0.        ,    3, 3.000e+00)\n",
      " ( -1,  -1, -2, -2.        , 0.        ,    1, 1.000e+00)\n",
      " ( -1,  -1, -2, -2.        , 0.        ,    3, 3.000e+00)\n",
      " ( -1,  -1, -2, -2.        , 0.        ,   13, 1.300e+01)\n",
      " ( 92, 149,  0, -0.32157783, 0.93981545,  129, 1.290e+02)\n",
      " ( 93, 138,  0, -0.42731224, 0.97828239,  104, 1.040e+02)\n",
      " ( 94, 137,  7,  0.25202341, 0.92974322,   84, 8.400e+01)\n",
      " ( 95,  96,  7, -1.56134123, 0.95204028,   78, 7.800e+01)\n",
      " ( -1,  -1, -2, -2.        , 0.        ,    5, 5.000e+00)\n",
      " ( 97,  98,  7, -1.40200794, 0.96932538,   73, 7.300e+01)\n",
      " ( -1,  -1, -2, -2.        , 0.        ,    4, 4.000e+00)\n",
      " ( 99, 130,  4,  0.48855251, 0.94459118,   69, 6.900e+01)\n",
      " (100, 101,  2,  0.50017273, 0.98738002,   53, 5.300e+01)\n",
      " ( -1,  -1, -2, -2.        , 0.        ,    4, 4.000e+00)\n",
      " (102, 111,  2,  0.79693839, 0.96333555,   49, 4.900e+01)\n",
      " (103, 110,  0, -0.49339624, 0.52255937,   17, 1.700e+01)\n",
      " (104, 109,  7, -0.40048437, 0.81127812,    8, 8.000e+00)\n",
      " (105, 106,  6, -0.55135575, 1.        ,    4, 4.000e+00)\n",
      " ( -1,  -1, -2, -2.        , 0.        ,    1, 1.000e+00)\n",
      " (107, 108,  5, -0.57200485, 0.91829583,    3, 3.000e+00)\n",
      " ( -1,  -1, -2, -2.        , 0.        ,    1, 1.000e+00)\n",
      " ( -1,  -1, -2, -2.        , 0.        ,    2, 2.000e+00)\n",
      " ( -1,  -1, -2, -2.        , 0.        ,    4, 4.000e+00)\n",
      " ( -1,  -1, -2, -2.        , 0.        ,    9, 9.000e+00)\n",
      " (112, 123,  7, -0.74950016, 0.9971804 ,   32, 3.200e+01)\n",
      " (113, 118,  2,  0.86288634, 0.81127812,   16, 1.600e+01)\n",
      " (114, 117,  2,  0.83211064, 1.        ,    6, 6.000e+00)\n",
      " (115, 116,  4, -0.5206091 , 0.81127812,    4, 4.000e+00)\n",
      " ( -1,  -1, -2, -2.        , 0.        ,    1, 1.000e+00)\n",
      " ( -1,  -1, -2, -2.        , 0.        ,    3, 3.000e+00)\n",
      " ( -1,  -1, -2, -2.        , 0.        ,    2, 2.000e+00)\n",
      " (119, 122,  1, -0.58736652, 0.46899559,   10, 1.000e+01)\n",
      " (120, 121,  2,  0.93323079, 1.        ,    2, 2.000e+00)\n",
      " ( -1,  -1, -2, -2.        , 0.        ,    1, 1.000e+00)\n",
      " ( -1,  -1, -2, -2.        , 0.        ,    1, 1.000e+00)\n",
      " ( -1,  -1, -2, -2.        , 0.        ,    8, 8.000e+00)\n",
      " (124, 125,  2,  0.89586028, 0.69621226,   16, 1.600e+01)\n",
      " ( -1,  -1, -2, -2.        , 0.        ,    8, 8.000e+00)\n",
      " (126, 127,  5, -0.63657066, 0.954434  ,    8, 8.000e+00)\n",
      " ( -1,  -1, -2, -2.        , 0.        ,    2, 2.000e+00)\n",
      " (128, 129,  6,  0.37290393, 0.65002242,    6, 6.000e+00)\n",
      " ( -1,  -1, -2, -2.        , 0.        ,    5, 5.000e+00)\n",
      " ( -1,  -1, -2, -2.        , 0.        ,    1, 1.000e+00)\n",
      " (131, 136,  5, -0.40712222, 0.54356444,   16, 1.600e+01)\n",
      " (132, 135,  3, -0.13109703, 0.35335934,   15, 1.500e+01)\n",
      " (133, 134,  3, -0.19343465, 0.81127812,    4, 4.000e+00)\n",
      " ( -1,  -1, -2, -2.        , 0.        ,    3, 3.000e+00)\n",
      " ( -1,  -1, -2, -2.        , 0.        ,    1, 1.000e+00)\n",
      " ( -1,  -1, -2, -2.        , 0.        ,   11, 1.100e+01)\n",
      " ( -1,  -1, -2, -2.        , 0.        ,    1, 1.000e+00)\n",
      " ( -1,  -1, -2, -2.        , 0.        ,    6, 6.000e+00)\n",
      " (139, 148,  6,  0.08169882, 0.8812909 ,   20, 2.000e+01)\n",
      " (140, 147,  5, -0.41394776, 0.99403021,   11, 1.100e+01)\n",
      " (141, 146,  4,  0.03106592, 0.81127812,    8, 8.000e+00)\n",
      " (142, 143,  2,  0.44301787, 1.        ,    4, 4.000e+00)\n",
      " ( -1,  -1, -2, -2.        , 0.        ,    1, 1.000e+00)\n",
      " (144, 145,  4, -0.46678716, 0.91829583,    3, 3.000e+00)\n",
      " ( -1,  -1, -2, -2.        , 0.        ,    1, 1.000e+00)\n",
      " ( -1,  -1, -2, -2.        , 0.        ,    2, 2.000e+00)\n",
      " ( -1,  -1, -2, -2.        , 0.        ,    4, 4.000e+00)\n",
      " ( -1,  -1, -2, -2.        , 0.        ,    3, 3.000e+00)\n",
      " ( -1,  -1, -2, -2.        , 0.        ,    9, 9.000e+00)\n",
      " (150, 151,  5, -0.69504887, 0.52936087,   25, 2.500e+01)\n",
      " ( -1,  -1, -2, -2.        , 0.        ,    1, 1.000e+00)\n",
      " (152, 159,  6, -0.19684519, 0.41381685,   24, 2.400e+01)\n",
      " (153, 158,  1, -0.41935298, 0.65002242,   12, 1.200e+01)\n",
      " (154, 155,  6, -1.07046044, 0.97095059,    5, 5.000e+00)\n",
      " ( -1,  -1, -2, -2.        , 0.        ,    2, 2.000e+00)\n",
      " (156, 157,  4, -0.13039994, 0.91829583,    3, 3.000e+00)\n",
      " ( -1,  -1, -2, -2.        , 0.        ,    1, 1.000e+00)\n",
      " ( -1,  -1, -2, -2.        , 0.        ,    2, 2.000e+00)\n",
      " ( -1,  -1, -2, -2.        , 0.        ,    7, 7.000e+00)\n",
      " ( -1,  -1, -2, -2.        , 0.        ,   12, 1.200e+01)\n",
      " (161, 272,  5,  0.00513972, 0.62946985, 1152, 1.152e+03)\n",
      " (162, 191,  2, -0.080169  , 0.946344  ,  321, 3.210e+02)\n",
      " (163, 164,  4, -0.52060911, 0.90294167,   91, 9.100e+01)\n",
      " ( -1,  -1, -2, -2.        , 0.        ,    7, 7.000e+00)\n",
      " (165, 170,  2, -0.81658751, 0.8296071 ,   84, 8.400e+01)\n",
      " (166, 167,  7,  0.82107088, 0.23519338,   26, 2.600e+01)\n",
      " ( -1,  -1, -2, -2.        , 0.        ,   23, 2.300e+01)\n",
      " (168, 169,  0, -0.41673881, 0.91829583,    3, 3.000e+00)\n",
      " ( -1,  -1, -2, -2.        , 0.        ,    1, 1.000e+00)\n",
      " ( -1,  -1, -2, -2.        , 0.        ,    2, 2.000e+00)\n",
      " (171, 172,  5, -0.26625808, 0.9443872 ,   58, 5.800e+01)\n",
      " ( -1,  -1, -2, -2.        , 0.        ,   15, 1.500e+01)\n",
      " (173, 190,  0,  0.64324865, 0.99960984,   43, 4.300e+01)\n",
      " (174, 177,  3, -0.85676593, 0.97402486,   37, 3.700e+01)\n",
      " (175, 176,  6, -0.00692882, 0.59167278,    7, 7.000e+00)\n",
      " ( -1,  -1, -2, -2.        , 0.        ,    6, 6.000e+00)\n",
      " ( -1,  -1, -2, -2.        , 0.        ,    1, 1.000e+00)\n",
      " (178, 179,  7, -1.01505563, 0.8812909 ,   30, 3.000e+01)\n",
      " ( -1,  -1, -2, -2.        , 0.        ,    2, 2.000e+00)\n",
      " (180, 181,  5, -0.20113883, 0.81127812,   28, 2.800e+01)\n",
      " ( -1,  -1, -2, -2.        , 0.        ,    9, 9.000e+00)\n",
      " (182, 189,  5, -0.0671371 , 0.94945202,   19, 1.900e+01)\n",
      " (183, 188,  7,  0.20649961, 0.99572745,   13, 1.300e+01)\n",
      " (184, 185,  0, -0.39559191, 0.8812909 ,   10, 1.000e+01)\n",
      " ( -1,  -1, -2, -2.        , 0.        ,    2, 2.000e+00)\n",
      " (186, 187,  2, -0.17909089, 0.54356444,    8, 8.000e+00)\n",
      " ( -1,  -1, -2, -2.        , 0.        ,    7, 7.000e+00)\n",
      " ( -1,  -1, -2, -2.        , 0.        ,    1, 1.000e+00)\n",
      " ( -1,  -1, -2, -2.        , 0.        ,    3, 3.000e+00)\n",
      " ( -1,  -1, -2, -2.        , 0.        ,    6, 6.000e+00)\n",
      " ( -1,  -1, -2, -2.        , 0.        ,    6, 6.000e+00)\n",
      " (192, 203,  4, -0.62825301, 0.79359123,  230, 2.300e+02)\n",
      " (193, 202,  2,  0.69801649, 0.36657801,   57, 5.700e+01)\n",
      " (194, 197,  5, -0.11270211, 0.65002242,   24, 2.400e+01)\n",
      " (195, 196,  2,  0.68262866, 0.30954343,   18, 1.800e+01)\n",
      " ( -1,  -1, -2, -2.        , 0.        ,   17, 1.700e+01)\n",
      " ( -1,  -1, -2, -2.        , 0.        ,    1, 1.000e+00)\n",
      " (198, 199,  7, -0.06664317, 1.        ,    6, 6.000e+00)\n",
      " ( -1,  -1, -2, -2.        , 0.        ,    2, 2.000e+00)\n",
      " (200, 201,  5, -0.06315246, 0.81127812,    4, 4.000e+00)\n",
      " ( -1,  -1, -2, -2.        , 0.        ,    1, 1.000e+00)\n",
      " ( -1,  -1, -2, -2.        , 0.        ,    3, 3.000e+00)\n",
      " ( -1,  -1, -2, -2.        , 0.        ,   33, 3.300e+01)\n",
      " (204, 223,  3, -0.12427006, 0.87483836,  173, 1.730e+02)\n",
      " (205, 222,  7,  1.3445946 , 0.65654028,   59, 5.900e+01)\n",
      " (206, 221,  0, -0.30571768, 0.58515699,   57, 5.700e+01)\n",
      " (207, 208,  1, -0.55936426, 0.70246655,   42, 4.200e+01)\n",
      " ( -1,  -1, -2, -2.        , 0.        ,    8, 8.000e+00)\n",
      " (209, 210,  1, -0.52786171, 0.78712659,   34, 3.400e+01)\n",
      " ( -1,  -1, -2, -2.        , 0.        ,    2, 2.000e+00)\n",
      " (211, 212,  4,  0.07143238, 0.69621226,   32, 3.200e+01)\n",
      " ( -1,  -1, -2, -2.        , 0.        ,   11, 1.100e+01)\n",
      " (213, 218,  0, -0.45903258, 0.86312057,   21, 2.100e+01)\n",
      " (214, 215,  2,  0.7727575 , 0.99107606,    9, 9.000e+00)\n",
      " ( -1,  -1, -2, -2.        , 0.        ,    4, 4.000e+00)\n",
      " (216, 217,  0, -0.5700537 , 0.72192809,    5, 5.000e+00)\n",
      " ( -1,  -1, -2, -2.        , 0.        ,    1, 1.000e+00)\n",
      " ( -1,  -1, -2, -2.        , 0.        ,    4, 4.000e+00)\n",
      " (219, 220,  5, -0.3384611 , 0.41381685,   12, 1.200e+01)\n",
      " ( -1,  -1, -2, -2.        , 0.        ,    1, 1.000e+00)\n",
      " ( -1,  -1, -2, -2.        , 0.        ,   11, 1.100e+01)\n",
      " ( -1,  -1, -2, -2.        , 0.        ,   15, 1.500e+01)\n",
      " ( -1,  -1, -2, -2.        , 0.        ,    2, 2.000e+00)\n",
      " (224, 243,  2,  0.49577622, 0.94239155,  114, 1.140e+02)\n",
      " (225, 230,  5, -0.25124191, 0.9985091 ,   44, 4.400e+01)\n",
      " (226, 229,  5, -0.35528509, 0.59167278,   14, 1.400e+01)\n",
      " (227, 228,  3,  0.58937138, 0.91829583,    3, 3.000e+00)\n",
      " ( -1,  -1, -2, -2.        , 0.        ,    2, 2.000e+00)\n",
      " ( -1,  -1, -2, -2.        , 0.        ,    1, 1.000e+00)\n",
      " ( -1,  -1, -2, -2.        , 0.        ,   11, 1.100e+01)\n",
      " (231, 242,  3,  0.56248966, 0.94807824,   30, 3.000e+01)\n",
      " (232, 241,  7, -0.04388127, 1.        ,   22, 2.200e+01)\n",
      " (233, 234,  3, -0.02416271, 0.89603823,   16, 1.600e+01)\n",
      " ( -1,  -1, -2, -2.        , 0.        ,    2, 2.000e+00)\n",
      " (235, 238,  6,  0.14500428, 0.74959526,   14, 1.400e+01)\n",
      " (236, 237,  1,  0.29820476, 0.43949699,   11, 1.100e+01)\n",
      " ( -1,  -1, -2, -2.        , 0.        ,   10, 1.000e+01)\n",
      " ( -1,  -1, -2, -2.        , 0.        ,    1, 1.000e+00)\n",
      " (239, 240,  0,  0.18859068, 0.91829583,    3, 3.000e+00)\n",
      " ( -1,  -1, -2, -2.        , 0.        ,    2, 2.000e+00)\n",
      " ( -1,  -1, -2, -2.        , 0.        ,    1, 1.000e+00)\n",
      " ( -1,  -1, -2, -2.        , 0.        ,    6, 6.000e+00)\n",
      " ( -1,  -1, -2, -2.        , 0.        ,    8, 8.000e+00)\n",
      " (244, 257,  1, -0.52436143, 0.82240423,   70, 7.000e+01)\n",
      " (245, 256,  7, -0.26391296, 0.57135497,   37, 3.700e+01)\n",
      " (246, 255,  1, -0.54536313, 0.73828487,   24, 2.400e+01)\n",
      " (247, 252,  1, -0.55936426, 0.89603823,   16, 1.600e+01)\n",
      " (248, 251,  7, -0.35496056, 0.65002242,   12, 1.200e+01)\n",
      " (249, 250,  6, -0.69062775, 0.43949699,   11, 1.100e+01)\n",
      " ( -1,  -1, -2, -2.        , 0.        ,    1, 1.000e+00)\n",
      " ( -1,  -1, -2, -2.        , 0.        ,   10, 1.000e+01)\n",
      " ( -1,  -1, -2, -2.        , 0.        ,    1, 1.000e+00)\n",
      " (253, 254,  3,  0.2989339 , 0.81127812,    4, 4.000e+00)\n",
      " ( -1,  -1, -2, -2.        , 0.        ,    3, 3.000e+00)\n",
      " ( -1,  -1, -2, -2.        , 0.        ,    1, 1.000e+00)\n",
      " ( -1,  -1, -2, -2.        , 0.        ,    8, 8.000e+00)\n",
      " ( -1,  -1, -2, -2.        , 0.        ,   13, 1.300e+01)\n",
      " (258, 271,  5, -0.08798263, 0.96729478,   33, 3.300e+01)\n",
      " (259, 260,  3,  0.21800978, 1.        ,   26, 2.600e+01)\n",
      " ( -1,  -1, -2, -2.        , 0.        ,    3, 3.000e+00)\n",
      " (261, 262,  3,  0.36425881, 0.98769251,   23, 2.300e+01)\n",
      " ( -1,  -1, -2, -2.        , 0.        ,    6, 6.000e+00)\n",
      " (263, 264,  5, -0.28260243, 0.97741782,   17, 1.700e+01)\n",
      " ( -1,  -1, -2, -2.        , 0.        ,    3, 3.000e+00)\n",
      " (265, 266,  5, -0.18361382, 0.86312057,   14, 1.400e+01)\n",
      " ( -1,  -1, -2, -2.        , 0.        ,    6, 6.000e+00)\n",
      " (267, 268,  3,  0.46616732, 1.        ,    8, 8.000e+00)\n",
      " ( -1,  -1, -2, -2.        , 0.        ,    3, 3.000e+00)\n",
      " (269, 270,  6,  0.65144795, 0.72192809,    5, 5.000e+00)\n",
      " ( -1,  -1, -2, -2.        , 0.        ,    4, 4.000e+00)\n",
      " ( -1,  -1, -2, -2.        , 0.        ,    1, 1.000e+00)\n",
      " ( -1,  -1, -2, -2.        , 0.        ,    7, 7.000e+00)\n",
      " (273, 330,  2, -0.29120237, 0.39587247,  831, 8.310e+02)\n",
      " (274, 313,  5,  0.40887898, 0.80679555,  178, 1.780e+02)\n",
      " (275, 312,  7,  1.24595964, 0.99871175,   71, 7.100e+01)\n",
      " (276, 301,  4,  0.44818605, 0.98937558,   66, 6.600e+01)\n",
      " (277, 300,  5,  0.32372591, 0.91829583,   48, 4.800e+01)\n",
      " (278, 279,  4, -0.80317435, 0.95871188,   42, 4.200e+01)\n",
      " ( -1,  -1, -2, -2.        , 0.        ,    4, 4.000e+00)\n",
      " (280, 299,  5,  0.26941682, 0.89974376,   38, 3.800e+01)\n",
      " (281, 282,  4, -0.41296521, 0.82240423,   35, 3.500e+01)\n",
      " ( -1,  -1, -2, -2.        , 0.        ,   10, 1.000e+01)\n",
      " (283, 298,  4,  0.31363116, 0.94268319,   25, 2.500e+01)\n",
      " (284, 285,  1, -0.531362  , 0.99277445,   20, 2.000e+01)\n",
      " ( -1,  -1, -2, -2.        , 0.        ,    3, 3.000e+00)\n",
      " (286, 295,  0,  0.513724  , 0.99750255,   17, 1.700e+01)\n",
      " (287, 294,  1,  2.38437271, 0.9456603 ,   11, 1.100e+01)\n",
      " (288, 293,  5,  0.11427439, 0.76420451,    9, 9.000e+00)\n",
      " (289, 290,  5,  0.09626976, 1.        ,    4, 4.000e+00)\n",
      " ( -1,  -1, -2, -2.        , 0.        ,    1, 1.000e+00)\n",
      " (291, 292,  1,  0.73223969, 0.91829583,    3, 3.000e+00)\n",
      " ( -1,  -1, -2, -2.        , 0.        ,    1, 1.000e+00)\n",
      " ( -1,  -1, -2, -2.        , 0.        ,    2, 2.000e+00)\n",
      " ( -1,  -1, -2, -2.        , 0.        ,    5, 5.000e+00)\n",
      " ( -1,  -1, -2, -2.        , 0.        ,    2, 2.000e+00)\n",
      " (296, 297,  0,  1.90148813, 0.65002242,    6, 6.000e+00)\n",
      " ( -1,  -1, -2, -2.        , 0.        ,    5, 5.000e+00)\n",
      " ( -1,  -1, -2, -2.        , 0.        ,    1, 1.000e+00)\n",
      " ( -1,  -1, -2, -2.        , 0.        ,    5, 5.000e+00)\n",
      " ( -1,  -1, -2, -2.        , 0.        ,    3, 3.000e+00)\n",
      " ( -1,  -1, -2, -2.        , 0.        ,    6, 6.000e+00)\n",
      " (302, 305,  1,  0.0811873 , 0.85240518,   18, 1.800e+01)\n",
      " (303, 304,  6,  0.63878684, 0.43949699,   11, 1.100e+01)\n",
      " ( -1,  -1, -2, -2.        , 0.        ,   10, 1.000e+01)\n",
      " ( -1,  -1, -2, -2.        , 0.        ,    1, 1.000e+00)\n",
      " (306, 311,  5,  0.31088652, 0.98522814,    7, 7.000e+00)\n",
      " (307, 310,  1,  1.92583585, 0.97095059,    5, 5.000e+00)\n",
      " (308, 309,  7,  0.03957903, 0.91829583,    3, 3.000e+00)\n",
      " ( -1,  -1, -2, -2.        , 0.        ,    2, 2.000e+00)\n",
      " ( -1,  -1, -2, -2.        , 0.        ,    1, 1.000e+00)\n",
      " ( -1,  -1, -2, -2.        , 0.        ,    2, 2.000e+00)\n",
      " ( -1,  -1, -2, -2.        , 0.        ,    2, 2.000e+00)\n",
      " ( -1,  -1, -2, -2.        , 0.        ,    5, 5.000e+00)\n",
      " (314, 317,  2, -1.93770224, 0.44790786,  107, 1.070e+02)\n",
      " (315, 316,  5,  0.89404497, 0.97095059,   10, 1.000e+01)\n",
      " ( -1,  -1, -2, -2.        , 0.        ,    6, 6.000e+00)\n",
      " ( -1,  -1, -2, -2.        , 0.        ,    4, 4.000e+00)\n",
      " (318, 327,  7,  4.19741917, 0.24793584,   97, 9.700e+01)\n",
      " (319, 324,  4,  1.47080311, 0.14854949,   94, 9.400e+01)\n",
      " (320, 321,  7,  1.89088017, 0.08650421,   92, 9.200e+01)\n",
      " ( -1,  -1, -2, -2.        , 0.        ,   72, 7.200e+01)\n",
      " (322, 323,  7,  1.92122936, 0.28639696,   20, 2.000e+01)\n",
      " ( -1,  -1, -2, -2.        , 0.        ,    1, 1.000e+00)\n",
      " ( -1,  -1, -2, -2.        , 0.        ,   19, 1.900e+01)\n",
      " (325, 326,  5,  1.33906943, 1.        ,    2, 2.000e+00)\n",
      " ( -1,  -1, -2, -2.        , 0.        ,    1, 1.000e+00)\n",
      " ( -1,  -1, -2, -2.        , 0.        ,    1, 1.000e+00)\n",
      " (328, 329,  1,  0.13019125, 0.91829583,    3, 3.000e+00)\n",
      " ( -1,  -1, -2, -2.        , 0.        ,    1, 1.000e+00)\n",
      " ( -1,  -1, -2, -2.        , 0.        ,    2, 2.000e+00)\n",
      " (331, 360,  2,  0.50237101, 0.20510748,  653, 6.530e+02)\n",
      " (332, 349,  5,  0.28941378, 0.35637377,  252, 2.520e+02)\n",
      " (333, 348,  7,  1.06386453, 0.70246655,   63, 6.300e+01)\n",
      " (334, 335,  2,  0.1154765 , 0.48546076,   57, 5.700e+01)\n",
      " ( -1,  -1, -2, -2.        , 0.        ,   21, 2.100e+01)\n",
      " (336, 347,  0,  0.24410125, 0.65002242,   36, 3.600e+01)\n",
      " (337, 346,  5,  0.28188725, 0.52255937,   34, 3.400e+01)\n",
      " (338, 343,  2,  0.48478489, 0.43949699,   33, 3.300e+01)\n",
      " (339, 342,  1, -0.58736652, 0.22228483,   28, 2.800e+01)\n",
      " (340, 341,  2,  0.3924578 , 0.91829583,    3, 3.000e+00)\n",
      " ( -1,  -1, -2, -2.        , 0.        ,    1, 1.000e+00)\n",
      " ( -1,  -1, -2, -2.        , 0.        ,    2, 2.000e+00)\n",
      " ( -1,  -1, -2, -2.        , 0.        ,   25, 2.500e+01)\n",
      " (344, 345,  7,  0.25202342, 0.97095059,    5, 5.000e+00)\n",
      " ( -1,  -1, -2, -2.        , 0.        ,    3, 3.000e+00)\n",
      " ( -1,  -1, -2, -2.        , 0.        ,    2, 2.000e+00)\n",
      " ( -1,  -1, -2, -2.        , 0.        ,    1, 1.000e+00)\n",
      " ( -1,  -1, -2, -2.        , 0.        ,    2, 2.000e+00)\n",
      " ( -1,  -1, -2, -2.        , 0.        ,    6, 6.000e+00)\n",
      " (350, 351,  4, -1.59704816, 0.17628983,  189, 1.890e+02)\n",
      " ( -1,  -1, -2, -2.        , 0.        ,    1, 1.000e+00)\n",
      " (352, 357,  7,  2.25507057, 0.14854949,  188, 1.880e+02)\n",
      " (353, 354,  4,  0.52891898, 0.05336143,  165, 1.650e+02)\n",
      " ( -1,  -1, -2, -2.        , 0.        ,  159, 1.590e+02)\n",
      " (355, 356,  4,  0.55582997, 0.65002242,    6, 6.000e+00)\n",
      " ( -1,  -1, -2, -2.        , 0.        ,    1, 1.000e+00)\n",
      " ( -1,  -1, -2, -2.        , 0.        ,    5, 5.000e+00)\n",
      " (358, 359,  5,  0.99447247, 0.55862937,   23, 2.300e+01)\n",
      " ( -1,  -1, -2, -2.        , 0.        ,    3, 3.000e+00)\n",
      " ( -1,  -1, -2, -2.        , 0.        ,   20, 2.000e+01)\n",
      " (361, 366,  4, -0.03621153, 0.08062777,  401, 4.010e+02)\n",
      " (362, 363,  3,  0.72441354, 0.02733106,  364, 3.640e+02)\n",
      " ( -1,  -1, -2, -2.        , 0.        ,  352, 3.520e+02)\n",
      " (364, 365,  0, -0.17883639, 0.41381685,   12, 1.200e+01)\n",
      " ( -1,  -1, -2, -2.        , 0.        ,   11, 1.100e+01)\n",
      " ( -1,  -1, -2, -2.        , 0.        ,    1, 1.000e+00)\n",
      " (367, 372,  1, -0.37034905, 0.40597704,   37, 3.700e+01)\n",
      " (368, 371,  5,  0.0917686 , 0.20559251,   31, 3.100e+01)\n",
      " (369, 370,  5,  0.0784127 , 0.65002242,    6, 6.000e+00)\n",
      " ( -1,  -1, -2, -2.        , 0.        ,    5, 5.000e+00)\n",
      " ( -1,  -1, -2, -2.        , 0.        ,    1, 1.000e+00)\n",
      " ( -1,  -1, -2, -2.        , 0.        ,   25, 2.500e+01)\n",
      " (373, 374,  1, -0.30384369, 0.91829583,    6, 6.000e+00)\n",
      " ( -1,  -1, -2, -2.        , 0.        ,    2, 2.000e+00)\n",
      " ( -1,  -1, -2, -2.        , 0.        ,    4, 4.000e+00)]\n"
     ]
    },
    {
     "data": {
      "text/plain": [
       "375"
      ]
     },
     "execution_count": 23,
     "metadata": {},
     "output_type": "execute_result"
    }
   ],
   "source": [
    "classifier = DecisionTreeClassifier(criterion = \"entropy\", splitter=\"best\", min_weight_fraction_leaf=0.0, max_features=None, random_state=0, max_leaf_nodes=None, min_impurity_decrease=0.0, min_impurity_split=None, class_weight=None)\n",
    "classifier.fit(x_train_scaled_df[['Hispanic','Black', 'White', 'Percent_Women' ,'Unemployment', 'Income','SelfEmployed','Professional']], y_train)\n",
    "\n",
    "\n",
    "# Show the structure of the decision tree classifier\n",
    "print(classifier.tree_.__getstate__()['nodes'])\n",
    "len(classifier.tree_.__getstate__()['nodes'])"
   ]
  },
  {
   "cell_type": "code",
   "execution_count": 24,
   "metadata": {
    "colab": {
     "base_uri": "https://localhost:8080/",
     "height": 297
    },
    "colab_type": "code",
    "executionInfo": {
     "elapsed": 3008,
     "status": "ok",
     "timestamp": 1575244692188,
     "user": {
      "displayName": "Lydia Tse",
      "photoUrl": "",
      "userId": "08063489847245829399"
     },
     "user_tz": 360
    },
    "id": "QepsnvaLx1_t",
    "outputId": "e54981c3-cff9-47b3-abf8-53a9db0fc56e"
   },
   "outputs": [
    {
     "data": {
      "image/png": "[encoded data removed]",
      "text/plain": [
       "<Figure size 432x288 with 2 Axes>"
      ]
     },
     "metadata": {
      "needs_background": "light"
     },
     "output_type": "display_data"
    }
   ],
   "source": [
    "y_pred = classifier.predict(x_validation_scaled_df[['Hispanic','Black', 'White','Percent_Women','Unemployment','Income','SelfEmployed', 'Professional']])\n",
    "conf_matrix = metrics.confusion_matrix(y_validation, y_pred)\n",
    "sns.heatmap(conf_matrix, annot = True, fmt = \".3f\", square = True, cmap = plt.cm.Blues)\n",
    "plt.ylabel('Actual')\n",
    "plt.xlabel('Predicted')\n",
    "plt.title('Confusion matrix')\n",
    "plt.tight_layout()"
   ]
  },
  {
   "cell_type": "code",
   "execution_count": 25,
   "metadata": {
    "colab": {
     "base_uri": "https://localhost:8080/",
     "height": 54
    },
    "colab_type": "code",
    "executionInfo": {
     "elapsed": 3007,
     "status": "ok",
     "timestamp": 1575244692189,
     "user": {
      "displayName": "Lydia Tse",
      "photoUrl": "",
      "userId": "08063489847245829399"
     },
     "user_tz": 360
    },
    "id": "Rg65ceW7x0f-",
    "outputId": "17362bcf-d5c2-4f4a-a0a5-2e01afd51330"
   },
   "outputs": [
    {
     "name": "stdout",
     "output_type": "stream",
     "text": [
      "[0.8616144975288303, 0.13838550247116965, array([0.87826087, 0.83969466]), array([0.87826087, 0.83969466]), array([0.87826087, 0.83969466])]\n"
     ]
    }
   ],
   "source": [
    "accuracy = metrics.accuracy_score(y_validation, y_pred)\n",
    "error = 1 - accuracy\n",
    "precision = metrics.precision_score(y_validation, y_pred, average = None)\n",
    "recall = metrics.recall_score(y_validation, y_pred, average = None)\n",
    "F1_score = metrics.f1_score(y_validation, y_pred, average = None)\n",
    "print([accuracy, error, precision, recall, F1_score])"
   ]
  },
  {
   "cell_type": "markdown",
   "metadata": {
    "colab_type": "text",
    "id": "wnBeTgCvx5nZ"
   },
   "source": [
    "----"
   ]
  },
  {
   "cell_type": "markdown",
   "metadata": {
    "colab_type": "text",
    "id": "BJY3fj2Ox7xO"
   },
   "source": [
    "MODEL 6\n",
    "\n",
    "    -Variables Used: Hispanic, Black, White, Unemployment, Income, SelfEmployed, Professional"
   ]
  },
  {
   "cell_type": "code",
   "execution_count": 26,
   "metadata": {
    "colab": {
     "base_uri": "https://localhost:8080/",
     "height": 1000
    },
    "colab_type": "code",
    "executionInfo": {
     "elapsed": 3005,
     "status": "ok",
     "timestamp": 1575244692189,
     "user": {
      "displayName": "Lydia Tse",
      "photoUrl": "",
      "userId": "08063489847245829399"
     },
     "user_tz": 360
    },
    "id": "YLy3_Y_1x-m-",
    "outputId": "e49ed18d-dfd6-48c8-9343-ec47c785cd08"
   },
   "outputs": [
    {
     "name": "stdout",
     "output_type": "stream",
     "text": [
      "[(  1, 158,  4, -0.36439811, 0.97615296, 1820, 1.820e+03)\n",
      " (  2,  43,  4, -0.72862309, 0.62753397,  668, 6.680e+02)\n",
      " (  3,   8,  4, -0.99544594, 0.23373142,  367, 3.670e+02)\n",
      " (  4,   7,  3, -1.2472055 , 0.04484961,  203, 2.030e+02)\n",
      " (  5,   6,  6, -0.90124612, 1.        ,    2, 2.000e+00)\n",
      " ( -1,  -1, -2, -2.        , 0.        ,    1, 1.000e+00)\n",
      " ( -1,  -1, -2, -2.        , 0.        ,    1, 1.000e+00)\n",
      " ( -1,  -1, -2, -2.        , 0.        ,  201, 2.010e+02)\n",
      " (  9,  36,  5,  1.22119701, 0.39959571,  164, 1.640e+02)\n",
      " ( 10,  35,  1,  3.46595979, 0.32275696,  153, 1.530e+02)\n",
      " ( 11,  34,  4, -0.8283127 , 0.29747225,  152, 1.520e+02)\n",
      " ( 12,  31,  4, -0.83218664, 0.40790598,   98, 9.800e+01)\n",
      " ( 13,  14,  4, -0.99367499, 0.33985508,   95, 9.500e+01)\n",
      " ( -1,  -1, -2, -2.        , 0.        ,    1, 1.000e+00)\n",
      " ( 15,  22,  3, -0.22458837, 0.29980251,   94, 9.400e+01)\n",
      " ( 16,  17,  3, -0.33223227, 0.67229482,   17, 1.700e+01)\n",
      " ( -1,  -1, -2, -2.        , 0.        ,   10, 1.000e+01)\n",
      " ( 18,  19,  5, -0.24748955, 0.98522814,    7, 7.000e+00)\n",
      " ( -1,  -1, -2, -2.        , 0.        ,    3, 3.000e+00)\n",
      " ( 20,  21,  0, -0.50661306, 0.81127812,    4, 4.000e+00)\n",
      " ( -1,  -1, -2, -2.        , 0.        ,    1, 1.000e+00)\n",
      " ( -1,  -1, -2, -2.        , 0.        ,    3, 3.000e+00)\n",
      " ( 23,  30,  4, -0.96054348, 0.17378132,   77, 7.700e+01)\n",
      " ( 24,  29,  4, -0.96205616, 0.50325833,   18, 1.800e+01)\n",
      " ( 25,  26,  2,  0.88486898, 0.32275696,   17, 1.700e+01)\n",
      " ( -1,  -1, -2, -2.        , 0.        ,   15, 1.500e+01)\n",
      " ( 27,  28,  5,  0.27161519, 1.        ,    2, 2.000e+00)\n",
      " ( -1,  -1, -2, -2.        , 0.        ,    1, 1.000e+00)\n",
      " ( -1,  -1, -2, -2.        , 0.        ,    1, 1.000e+00)\n",
      " ( -1,  -1, -2, -2.        , 0.        ,    1, 1.000e+00)\n",
      " ( -1,  -1, -2, -2.        , 0.        ,   59, 5.900e+01)\n",
      " ( 32,  33,  3,  0.56928542, 0.91829583,    3, 3.000e+00)\n",
      " ( -1,  -1, -2, -2.        , 0.        ,    2, 2.000e+00)\n",
      " ( -1,  -1, -2, -2.        , 0.        ,    1, 1.000e+00)\n",
      " ( -1,  -1, -2, -2.        , 0.        ,   54, 5.400e+01)\n",
      " ( -1,  -1, -2, -2.        , 0.        ,    1, 1.000e+00)\n",
      " ( 37,  38,  4, -0.9232429 , 0.9456603 ,   11, 1.100e+01)\n",
      " ( -1,  -1, -2, -2.        , 0.        ,    4, 4.000e+00)\n",
      " ( 39,  40,  1, -0.60136765, 0.98522814,    7, 7.000e+00)\n",
      " ( -1,  -1, -2, -2.        , 0.        ,    2, 2.000e+00)\n",
      " ( 41,  42,  6,  0.38100752, 0.72192809,    5, 5.000e+00)\n",
      " ( -1,  -1, -2, -2.        , 0.        ,    4, 4.000e+00)\n",
      " ( -1,  -1, -2, -2.        , 0.        ,    1, 1.000e+00)\n",
      " ( 44,  67,  3, -0.60134205, 0.88411512,  301, 3.010e+02)\n",
      " ( 45,  66,  0,  1.39396292, 0.81127812,   44, 4.400e+01)\n",
      " ( 46,  65,  4, -0.4867411 , 0.71206405,   41, 4.100e+01)\n",
      " ( 47,  64,  1, -0.45435581, 0.86312057,   28, 2.800e+01)\n",
      " ( 48,  49,  0, -0.52775994, 0.77934984,   26, 2.600e+01)\n",
      " ( -1,  -1, -2, -2.        , 0.        ,    6, 6.000e+00)\n",
      " ( 50,  57,  0, -0.40616538, 0.8812909 ,   20, 2.000e+01)\n",
      " ( 51,  52,  2,  0.8716794 , 0.98522814,    7, 7.000e+00)\n",
      " ( -1,  -1, -2, -2.        , 0.        ,    2, 2.000e+00)\n",
      " ( 53,  54,  2,  0.89146379, 0.97095059,    5, 5.000e+00)\n",
      " ( -1,  -1, -2, -2.        , 0.        ,    2, 2.000e+00)\n",
      " ( 55,  56,  0, -0.47224937, 0.91829583,    3, 3.000e+00)\n",
      " ( -1,  -1, -2, -2.        , 0.        ,    2, 2.000e+00)\n",
      " ( -1,  -1, -2, -2.        , 0.        ,    1, 1.000e+00)\n",
      " ( 58,  59,  3, -1.71814758, 0.61938219,   13, 1.300e+01)\n",
      " ( -1,  -1, -2, -2.        , 0.        ,    1, 1.000e+00)\n",
      " ( 60,  63,  5,  0.55015922, 0.41381685,   12, 1.200e+01)\n",
      " ( 61,  62,  4, -0.52994484, 1.        ,    2, 2.000e+00)\n",
      " ( -1,  -1, -2, -2.        , 0.        ,    1, 1.000e+00)\n",
      " ( -1,  -1, -2, -2.        , 0.        ,    1, 1.000e+00)\n",
      " ( -1,  -1, -2, -2.        , 0.        ,   10, 1.000e+01)\n",
      " ( -1,  -1, -2, -2.        , 0.        ,    2, 2.000e+00)\n",
      " ( -1,  -1, -2, -2.        , 0.        ,   13, 1.300e+01)\n",
      " ( -1,  -1, -2, -2.        , 0.        ,    3, 3.000e+00)\n",
      " ( 68,  93,  2,  0.33090641, 0.77040588,  257, 2.570e+02)\n",
      " ( 69,  78,  0,  0.06699611, 0.44886449,  128, 1.280e+02)\n",
      " ( 70,  77,  6, -0.90883344, 0.26451737,   89, 8.900e+01)\n",
      " ( 71,  76,  1,  1.08226788, 0.70246655,   21, 2.100e+01)\n",
      " ( 72,  75,  1,  0.86875069, 0.9456603 ,   11, 1.100e+01)\n",
      " ( 73,  74,  0, -0.469606  , 0.54356444,    8, 8.000e+00)\n",
      " ( -1,  -1, -2, -2.        , 0.        ,    1, 1.000e+00)\n",
      " ( -1,  -1, -2, -2.        , 0.        ,    7, 7.000e+00)\n",
      " ( -1,  -1, -2, -2.        , 0.        ,    3, 3.000e+00)\n",
      " ( -1,  -1, -2, -2.        , 0.        ,   10, 1.000e+01)\n",
      " ( -1,  -1, -2, -2.        , 0.        ,   68, 6.800e+01)\n",
      " ( 79,  92,  0,  1.12434018, 0.73206669,   39, 3.900e+01)\n",
      " ( 80,  91,  0,  0.84943074, 0.89049164,   26, 2.600e+01)\n",
      " ( 81,  82,  0,  0.10135979, 0.75537541,   23, 2.300e+01)\n",
      " ( -1,  -1, -2, -2.        , 0.        ,    2, 2.000e+00)\n",
      " ( 83,  84,  5, -0.14620082, 0.59167278,   21, 2.100e+01)\n",
      " ( -1,  -1, -2, -2.        , 0.        ,   10, 1.000e+01)\n",
      " ( 85,  86,  6, -0.63569066, 0.84535094,   11, 1.100e+01)\n",
      " ( -1,  -1, -2, -2.        , 0.        ,    5, 5.000e+00)\n",
      " ( 87,  88,  4, -0.63483661, 1.        ,    6, 6.000e+00)\n",
      " ( -1,  -1, -2, -2.        , 0.        ,    2, 2.000e+00)\n",
      " ( 89,  90,  1, -0.03432199, 0.81127812,    4, 4.000e+00)\n",
      " ( -1,  -1, -2, -2.        , 0.        ,    3, 3.000e+00)\n",
      " ( -1,  -1, -2, -2.        , 0.        ,    1, 1.000e+00)\n",
      " ( -1,  -1, -2, -2.        , 0.        ,    3, 3.000e+00)\n",
      " ( -1,  -1, -2, -2.        , 0.        ,   13, 1.300e+01)\n",
      " ( 94, 147,  0, -0.32157783, 0.93981545,  129, 1.290e+02)\n",
      " ( 95, 138,  0, -0.42731224, 0.97828239,  104, 1.040e+02)\n",
      " ( 96, 137,  6,  0.25202341, 0.92974322,   84, 8.400e+01)\n",
      " ( 97,  98,  6, -1.56134123, 0.95204028,   78, 7.800e+01)\n",
      " ( -1,  -1, -2, -2.        , 0.        ,    5, 5.000e+00)\n",
      " ( 99, 100,  6, -1.40200794, 0.96932538,   73, 7.300e+01)\n",
      " ( -1,  -1, -2, -2.        , 0.        ,    4, 4.000e+00)\n",
      " (101, 130,  3,  0.48855251, 0.94459118,   69, 6.900e+01)\n",
      " (102, 103,  2,  0.50017273, 0.98738002,   53, 5.300e+01)\n",
      " ( -1,  -1, -2, -2.        , 0.        ,    4, 4.000e+00)\n",
      " (104, 113,  2,  0.79693839, 0.96333555,   49, 4.900e+01)\n",
      " (105, 112,  0, -0.49339624, 0.52255937,   17, 1.700e+01)\n",
      " (106, 111,  6, -0.40048437, 0.81127812,    8, 8.000e+00)\n",
      " (107, 108,  4, -0.57200485, 1.        ,    4, 4.000e+00)\n",
      " ( -1,  -1, -2, -2.        , 0.        ,    1, 1.000e+00)\n",
      " (109, 110,  5, -0.55135575, 0.91829583,    3, 3.000e+00)\n",
      " ( -1,  -1, -2, -2.        , 0.        ,    1, 1.000e+00)\n",
      " ( -1,  -1, -2, -2.        , 0.        ,    2, 2.000e+00)\n",
      " ( -1,  -1, -2, -2.        , 0.        ,    4, 4.000e+00)\n",
      " ( -1,  -1, -2, -2.        , 0.        ,    9, 9.000e+00)\n",
      " (114, 123,  6, -0.74950016, 0.9971804 ,   32, 3.200e+01)\n",
      " (115, 120,  3,  0.12525433, 0.81127812,   16, 1.600e+01)\n",
      " (116, 117,  0, -0.4960396 , 1.        ,    6, 6.000e+00)\n",
      " ( -1,  -1, -2, -2.        , 0.        ,    2, 2.000e+00)\n",
      " (118, 119,  3, -0.00930055, 0.81127812,    4, 4.000e+00)\n",
      " ( -1,  -1, -2, -2.        , 0.        ,    3, 3.000e+00)\n",
      " ( -1,  -1, -2, -2.        , 0.        ,    1, 1.000e+00)\n",
      " (121, 122,  5, -1.0577994 , 0.46899559,   10, 1.000e+01)\n",
      " ( -1,  -1, -2, -2.        , 0.        ,    1, 1.000e+00)\n",
      " ( -1,  -1, -2, -2.        , 0.        ,    9, 9.000e+00)\n",
      " (124, 125,  2,  0.89586028, 0.69621226,   16, 1.600e+01)\n",
      " ( -1,  -1, -2, -2.        , 0.        ,    8, 8.000e+00)\n",
      " (126, 127,  4, -0.63657066, 0.954434  ,    8, 8.000e+00)\n",
      " ( -1,  -1, -2, -2.        , 0.        ,    2, 2.000e+00)\n",
      " (128, 129,  5,  0.37290393, 0.65002242,    6, 6.000e+00)\n",
      " ( -1,  -1, -2, -2.        , 0.        ,    5, 5.000e+00)\n",
      " ( -1,  -1, -2, -2.        , 0.        ,    1, 1.000e+00)\n",
      " (131, 136,  4, -0.40712222, 0.54356444,   16, 1.600e+01)\n",
      " (132, 133,  3,  1.01331654, 0.35335934,   15, 1.500e+01)\n",
      " ( -1,  -1, -2, -2.        , 0.        ,   10, 1.000e+01)\n",
      " (134, 135,  0, -0.49868296, 0.72192809,    5, 5.000e+00)\n",
      " ( -1,  -1, -2, -2.        , 0.        ,    4, 4.000e+00)\n",
      " ( -1,  -1, -2, -2.        , 0.        ,    1, 1.000e+00)\n",
      " ( -1,  -1, -2, -2.        , 0.        ,    1, 1.000e+00)\n",
      " ( -1,  -1, -2, -2.        , 0.        ,    6, 6.000e+00)\n",
      " (139, 146,  5,  0.08169882, 0.8812909 ,   20, 2.000e+01)\n",
      " (140, 145,  4, -0.41394776, 0.99403021,   11, 1.100e+01)\n",
      " (141, 142,  6, -0.35496058, 0.81127812,    8, 8.000e+00)\n",
      " ( -1,  -1, -2, -2.        , 0.        ,    4, 4.000e+00)\n",
      " (143, 144,  4, -0.47312693, 1.        ,    4, 4.000e+00)\n",
      " ( -1,  -1, -2, -2.        , 0.        ,    2, 2.000e+00)\n",
      " ( -1,  -1, -2, -2.        , 0.        ,    2, 2.000e+00)\n",
      " ( -1,  -1, -2, -2.        , 0.        ,    3, 3.000e+00)\n",
      " ( -1,  -1, -2, -2.        , 0.        ,    9, 9.000e+00)\n",
      " (148, 149,  4, -0.69504887, 0.52936087,   25, 2.500e+01)\n",
      " ( -1,  -1, -2, -2.        , 0.        ,    1, 1.000e+00)\n",
      " (150, 157,  5, -0.19684519, 0.41381685,   24, 2.400e+01)\n",
      " (151, 156,  1, -0.41935298, 0.65002242,   12, 1.200e+01)\n",
      " (152, 153,  4, -0.54359591, 0.97095059,    5, 5.000e+00)\n",
      " ( -1,  -1, -2, -2.        , 0.        ,    2, 2.000e+00)\n",
      " (154, 155,  3,  0.502008  , 0.91829583,    3, 3.000e+00)\n",
      " ( -1,  -1, -2, -2.        , 0.        ,    2, 2.000e+00)\n",
      " ( -1,  -1, -2, -2.        , 0.        ,    1, 1.000e+00)\n",
      " ( -1,  -1, -2, -2.        , 0.        ,    7, 7.000e+00)\n",
      " ( -1,  -1, -2, -2.        , 0.        ,   12, 1.200e+01)\n",
      " (159, 282,  4,  0.00513972, 0.62946985, 1152, 1.152e+03)\n",
      " (160, 195,  2, -0.080169  , 0.946344  ,  321, 3.210e+02)\n",
      " (161, 162,  3, -0.52060911, 0.90294167,   91, 9.100e+01)\n",
      " ( -1,  -1, -2, -2.        , 0.        ,    7, 7.000e+00)\n",
      " (163, 168,  2, -0.81658751, 0.8296071 ,   84, 8.400e+01)\n",
      " (164, 167,  2, -2.21248531, 0.23519338,   26, 2.600e+01)\n",
      " (165, 166,  6,  0.4568805 , 0.91829583,    3, 3.000e+00)\n",
      " ( -1,  -1, -2, -2.        , 0.        ,    2, 2.000e+00)\n",
      " ( -1,  -1, -2, -2.        , 0.        ,    1, 1.000e+00)\n",
      " ( -1,  -1, -2, -2.        , 0.        ,   23, 2.300e+01)\n",
      " (169, 170,  4, -0.26625808, 0.9443872 ,   58, 5.800e+01)\n",
      " ( -1,  -1, -2, -2.        , 0.        ,   15, 1.500e+01)\n",
      " (171, 194,  0,  0.64324865, 0.99960984,   43, 4.300e+01)\n",
      " (172, 179,  6, -0.41565897, 0.97402486,   37, 3.700e+01)\n",
      " (173, 178,  4, -0.13849154, 0.91829583,   12, 1.200e+01)\n",
      " (174, 175,  2, -0.60995066, 0.98522814,    7, 7.000e+00)\n",
      " ( -1,  -1, -2, -2.        , 0.        ,    2, 2.000e+00)\n",
      " (176, 177,  1, -0.47185722, 0.72192809,    5, 5.000e+00)\n",
      " ( -1,  -1, -2, -2.        , 0.        ,    1, 1.000e+00)\n",
      " ( -1,  -1, -2, -2.        , 0.        ,    4, 4.000e+00)\n",
      " ( -1,  -1, -2, -2.        , 0.        ,    5, 5.000e+00)\n",
      " (180, 193,  4, -0.0671371 , 0.85545081,   25, 2.500e+01)\n",
      " (181, 188,  4, -0.14133244, 0.94945202,   19, 1.900e+01)\n",
      " (182, 183,  2, -0.72865695, 0.65002242,   12, 1.200e+01)\n",
      " ( -1,  -1, -2, -2.        , 0.        ,    1, 1.000e+00)\n",
      " (184, 187,  0, -0.3506548 , 0.43949699,   11, 1.100e+01)\n",
      " (185, 186,  3,  0.20598726, 0.91829583,    3, 3.000e+00)\n",
      " ( -1,  -1, -2, -2.        , 0.        ,    1, 1.000e+00)\n",
      " ( -1,  -1, -2, -2.        , 0.        ,    2, 2.000e+00)\n",
      " ( -1,  -1, -2, -2.        , 0.        ,    8, 8.000e+00)\n",
      " (189, 192,  3,  0.09834336, 0.86312057,    7, 7.000e+00)\n",
      " (190, 191,  5, -0.81723863, 0.91829583,    3, 3.000e+00)\n",
      " ( -1,  -1, -2, -2.        , 0.        ,    1, 1.000e+00)\n",
      " ( -1,  -1, -2, -2.        , 0.        ,    2, 2.000e+00)\n",
      " ( -1,  -1, -2, -2.        , 0.        ,    4, 4.000e+00)\n",
      " ( -1,  -1, -2, -2.        , 0.        ,    6, 6.000e+00)\n",
      " ( -1,  -1, -2, -2.        , 0.        ,    6, 6.000e+00)\n",
      " (196, 207,  3, -0.62825301, 0.79359123,  230, 2.300e+02)\n",
      " (197, 206,  2,  0.69801649, 0.36657801,   57, 5.700e+01)\n",
      " (198, 201,  4, -0.11270211, 0.65002242,   24, 2.400e+01)\n",
      " (199, 200,  2,  0.68262866, 0.30954343,   18, 1.800e+01)\n",
      " ( -1,  -1, -2, -2.        , 0.        ,   17, 1.700e+01)\n",
      " ( -1,  -1, -2, -2.        , 0.        ,    1, 1.000e+00)\n",
      " (202, 203,  3, -1.13956153, 1.        ,    6, 6.000e+00)\n",
      " ( -1,  -1, -2, -2.        , 0.        ,    2, 2.000e+00)\n",
      " (204, 205,  2,  0.6320686 , 0.81127812,    4, 4.000e+00)\n",
      " ( -1,  -1, -2, -2.        , 0.        ,    3, 3.000e+00)\n",
      " ( -1,  -1, -2, -2.        , 0.        ,    1, 1.000e+00)\n",
      " ( -1,  -1, -2, -2.        , 0.        ,   33, 3.300e+01)\n",
      " (208, 233,  2,  0.48918141, 0.87483836,  173, 1.730e+02)\n",
      " (209, 210,  0, -0.45903258, 0.98115223,   62, 6.200e+01)\n",
      " ( -1,  -1, -2, -2.        , 0.        ,    4, 4.000e+00)\n",
      " (211, 226,  6,  0.02440442, 0.95755348,   58, 5.800e+01)\n",
      " (212, 213,  3, -0.30532129, 0.83900406,   41, 4.100e+01)\n",
      " ( -1,  -1, -2, -2.        , 0.        ,    6, 6.000e+00)\n",
      " (214, 215,  3, -0.25149935, 0.89805879,   35, 3.500e+01)\n",
      " ( -1,  -1, -2, -2.        , 0.        ,    3, 3.000e+00)\n",
      " (216, 225,  2,  0.39465606, 0.81127812,   32, 3.200e+01)\n",
      " (217, 224,  5,  0.14500428, 0.93211157,   23, 2.300e+01)\n",
      " (218, 223,  0, -0.2449204 , 0.81127812,   20, 2.000e+01)\n",
      " (219, 222,  0, -0.35329816, 1.        ,   10, 1.000e+01)\n",
      " (220, 221,  6, -0.33978596, 0.86312057,    7, 7.000e+00)\n",
      " ( -1,  -1, -2, -2.        , 0.        ,    5, 5.000e+00)\n",
      " ( -1,  -1, -2, -2.        , 0.        ,    2, 2.000e+00)\n",
      " ( -1,  -1, -2, -2.        , 0.        ,    3, 3.000e+00)\n",
      " ( -1,  -1, -2, -2.        , 0.        ,   10, 1.000e+01)\n",
      " ( -1,  -1, -2, -2.        , 0.        ,    3, 3.000e+00)\n",
      " ( -1,  -1, -2, -2.        , 0.        ,    9, 9.000e+00)\n",
      " (227, 230,  6,  0.63897571, 0.93666738,   17, 1.700e+01)\n",
      " (228, 229,  4, -0.03083266, 0.46899559,   10, 1.000e+01)\n",
      " ( -1,  -1, -2, -2.        , 0.        ,    9, 9.000e+00)\n",
      " ( -1,  -1, -2, -2.        , 0.        ,    1, 1.000e+00)\n",
      " (231, 232,  6,  1.2611343 , 0.86312057,    7, 7.000e+00)\n",
      " ( -1,  -1, -2, -2.        , 0.        ,    5, 5.000e+00)\n",
      " ( -1,  -1, -2, -2.        , 0.        ,    2, 2.000e+00)\n",
      " (234, 241,  1, -0.55936426, 0.76959448,  111, 1.110e+02)\n",
      " (235, 236,  5, -0.86788303, 0.34511731,   31, 3.100e+01)\n",
      " ( -1,  -1, -2, -2.        , 0.        ,    1, 1.000e+00)\n",
      " (237, 240,  4, -0.35362484, 0.2108423 ,   30, 3.000e+01)\n",
      " (238, 239,  1, -0.56636482, 1.        ,    2, 2.000e+00)\n",
      " ( -1,  -1, -2, -2.        , 0.        ,    1, 1.000e+00)\n",
      " ( -1,  -1, -2, -2.        , 0.        ,    1, 1.000e+00)\n",
      " ( -1,  -1, -2, -2.        , 0.        ,   28, 2.800e+01)\n",
      " (242, 281,  6,  0.70726141, 0.8654699 ,   80, 8.000e+01)\n",
      " (243, 270,  0, -0.44845913, 0.82635417,   77, 7.700e+01)\n",
      " (244, 261,  6, -0.15769076, 0.93893201,   45, 4.500e+01)\n",
      " (245, 246,  1, -0.54536313, 0.99679163,   30, 3.000e+01)\n",
      " ( -1,  -1, -2, -2.        , 0.        ,    3, 3.000e+00)\n",
      " (247, 260,  0, -0.4775361 , 0.97511906,   27, 2.700e+01)\n",
      " (248, 259,  6, -0.37772247, 0.99863596,   23, 2.300e+01)\n",
      " (249, 256,  4, -0.15808266, 0.94945202,   19, 1.900e+01)\n",
      " (250, 253,  2,  0.76396444, 0.74959526,   14, 1.400e+01)\n",
      " (251, 252,  6, -0.44600816, 0.91829583,    3, 3.000e+00)\n",
      " ( -1,  -1, -2, -2.        , 0.        ,    2, 2.000e+00)\n",
      " ( -1,  -1, -2, -2.        , 0.        ,    1, 1.000e+00)\n",
      " (254, 255,  2,  0.93982556, 0.43949699,   11, 1.100e+01)\n",
      " ( -1,  -1, -2, -2.        , 0.        ,   10, 1.000e+01)\n",
      " ( -1,  -1, -2, -2.        , 0.        ,    1, 1.000e+00)\n",
      " (257, 258,  2,  0.95301515, 0.72192809,    5, 5.000e+00)\n",
      " ( -1,  -1, -2, -2.        , 0.        ,    4, 4.000e+00)\n",
      " ( -1,  -1, -2, -2.        , 0.        ,    1, 1.000e+00)\n",
      " ( -1,  -1, -2, -2.        , 0.        ,    4, 4.000e+00)\n",
      " ( -1,  -1, -2, -2.        , 0.        ,    4, 4.000e+00)\n",
      " (262, 263,  6,  0.32030912, 0.56650951,   15, 1.500e+01)\n",
      " ( -1,  -1, -2, -2.        , 0.        ,    8, 8.000e+00)\n",
      " (264, 269,  4, -0.07543841, 0.86312057,    7, 7.000e+00)\n",
      " (265, 268,  6,  0.37342022, 0.65002242,    6, 6.000e+00)\n",
      " (266, 267,  3, -0.22458836, 1.        ,    2, 2.000e+00)\n",
      " ( -1,  -1, -2, -2.        , 0.        ,    1, 1.000e+00)\n",
      " ( -1,  -1, -2, -2.        , 0.        ,    1, 1.000e+00)\n",
      " ( -1,  -1, -2, -2.        , 0.        ,    4, 4.000e+00)\n",
      " ( -1,  -1, -2, -2.        , 0.        ,    1, 1.000e+00)\n",
      " (271, 272,  0, -0.41409545, 0.54356444,   32, 3.200e+01)\n",
      " ( -1,  -1, -2, -2.        , 0.        ,   14, 1.400e+01)\n",
      " (273, 274,  5, -0.38676155, 0.76420451,   18, 1.800e+01)\n",
      " ( -1,  -1, -2, -2.        , 0.        ,    8, 8.000e+00)\n",
      " (275, 280,  4, -0.08942153, 0.97095059,   10, 1.000e+01)\n",
      " (276, 277,  0, -0.32157783, 0.91829583,    6, 6.000e+00)\n",
      " ( -1,  -1, -2, -2.        , 0.        ,    3, 3.000e+00)\n",
      " (278, 279,  1, -0.40185158, 0.91829583,    3, 3.000e+00)\n",
      " ( -1,  -1, -2, -2.        , 0.        ,    2, 2.000e+00)\n",
      " ( -1,  -1, -2, -2.        , 0.        ,    1, 1.000e+00)\n",
      " ( -1,  -1, -2, -2.        , 0.        ,    4, 4.000e+00)\n",
      " ( -1,  -1, -2, -2.        , 0.        ,    3, 3.000e+00)\n",
      " (283, 336,  2, -0.29120237, 0.39587247,  831, 8.310e+02)\n",
      " (284, 319,  4,  0.40887898, 0.80679555,  178, 1.780e+02)\n",
      " (285, 318,  6,  1.24595964, 0.99871175,   71, 7.100e+01)\n",
      " (286, 307,  3,  0.44818605, 0.98937558,   66, 6.600e+01)\n",
      " (287, 306,  4,  0.32372591, 0.91829583,   48, 4.800e+01)\n",
      " (288, 289,  3, -0.80317435, 0.95871188,   42, 4.200e+01)\n",
      " ( -1,  -1, -2, -2.        , 0.        ,    4, 4.000e+00)\n",
      " (290, 305,  4,  0.26941682, 0.89974376,   38, 3.800e+01)\n",
      " (291, 292,  3, -0.41296521, 0.82240423,   35, 3.500e+01)\n",
      " ( -1,  -1, -2, -2.        , 0.        ,   10, 1.000e+01)\n",
      " (293, 304,  0,  1.55256456, 0.94268319,   25, 2.500e+01)\n",
      " (294, 301,  0,  0.54808769, 0.99277445,   20, 2.000e+01)\n",
      " (295, 296,  6,  0.5024043 , 0.86312057,   14, 1.400e+01)\n",
      " ( -1,  -1, -2, -2.        , 0.        ,    7, 7.000e+00)\n",
      " (297, 298,  0, -0.22377351, 0.98522814,    7, 7.000e+00)\n",
      " ( -1,  -1, -2, -2.        , 0.        ,    3, 3.000e+00)\n",
      " (299, 300,  5, -0.55135575, 0.81127812,    4, 4.000e+00)\n",
      " ( -1,  -1, -2, -2.        , 0.        ,    3, 3.000e+00)\n",
      " ( -1,  -1, -2, -2.        , 0.        ,    1, 1.000e+00)\n",
      " (302, 303,  3,  0.30017568, 0.65002242,    6, 6.000e+00)\n",
      " ( -1,  -1, -2, -2.        , 0.        ,    5, 5.000e+00)\n",
      " ( -1,  -1, -2, -2.        , 0.        ,    1, 1.000e+00)\n",
      " ( -1,  -1, -2, -2.        , 0.        ,    5, 5.000e+00)\n",
      " ( -1,  -1, -2, -2.        , 0.        ,    3, 3.000e+00)\n",
      " ( -1,  -1, -2, -2.        , 0.        ,    6, 6.000e+00)\n",
      " (308, 311,  1,  0.0811873 , 0.85240518,   18, 1.800e+01)\n",
      " (309, 310,  5,  0.63878684, 0.43949699,   11, 1.100e+01)\n",
      " ( -1,  -1, -2, -2.        , 0.        ,   10, 1.000e+01)\n",
      " ( -1,  -1, -2, -2.        , 0.        ,    1, 1.000e+00)\n",
      " (312, 317,  4,  0.31088652, 0.98522814,    7, 7.000e+00)\n",
      " (313, 316,  1,  1.92583585, 0.97095059,    5, 5.000e+00)\n",
      " (314, 315,  6,  0.03957903, 0.91829583,    3, 3.000e+00)\n",
      " ( -1,  -1, -2, -2.        , 0.        ,    2, 2.000e+00)\n",
      " ( -1,  -1, -2, -2.        , 0.        ,    1, 1.000e+00)\n",
      " ( -1,  -1, -2, -2.        , 0.        ,    2, 2.000e+00)\n",
      " ( -1,  -1, -2, -2.        , 0.        ,    2, 2.000e+00)\n",
      " ( -1,  -1, -2, -2.        , 0.        ,    5, 5.000e+00)\n",
      " (320, 323,  2, -1.93770224, 0.44790786,  107, 1.070e+02)\n",
      " (321, 322,  4,  0.89404497, 0.97095059,   10, 1.000e+01)\n",
      " ( -1,  -1, -2, -2.        , 0.        ,    6, 6.000e+00)\n",
      " ( -1,  -1, -2, -2.        , 0.        ,    4, 4.000e+00)\n",
      " (324, 333,  6,  4.19741917, 0.24793584,   97, 9.700e+01)\n",
      " (325, 330,  3,  1.47080311, 0.14854949,   94, 9.400e+01)\n",
      " (326, 327,  6,  1.89088017, 0.08650421,   92, 9.200e+01)\n",
      " ( -1,  -1, -2, -2.        , 0.        ,   72, 7.200e+01)\n",
      " (328, 329,  6,  1.92122936, 0.28639696,   20, 2.000e+01)\n",
      " ( -1,  -1, -2, -2.        , 0.        ,    1, 1.000e+00)\n",
      " ( -1,  -1, -2, -2.        , 0.        ,   19, 1.900e+01)\n",
      " (331, 332,  4,  1.33906943, 1.        ,    2, 2.000e+00)\n",
      " ( -1,  -1, -2, -2.        , 0.        ,    1, 1.000e+00)\n",
      " ( -1,  -1, -2, -2.        , 0.        ,    1, 1.000e+00)\n",
      " (334, 335,  6,  5.12307   , 0.91829583,    3, 3.000e+00)\n",
      " ( -1,  -1, -2, -2.        , 0.        ,    2, 2.000e+00)\n",
      " ( -1,  -1, -2, -2.        , 0.        ,    1, 1.000e+00)\n",
      " (337, 366,  2,  0.50237101, 0.20510748,  653, 6.530e+02)\n",
      " (338, 355,  4,  0.28941378, 0.35637377,  252, 2.520e+02)\n",
      " (339, 354,  6,  1.06386453, 0.70246655,   63, 6.300e+01)\n",
      " (340, 341,  2,  0.1154765 , 0.48546076,   57, 5.700e+01)\n",
      " ( -1,  -1, -2, -2.        , 0.        ,   21, 2.100e+01)\n",
      " (342, 343,  2,  0.18582097, 0.65002242,   36, 3.600e+01)\n",
      " ( -1,  -1, -2, -2.        , 0.        ,    2, 2.000e+00)\n",
      " (344, 353,  4,  0.28188725, 0.52255937,   34, 3.400e+01)\n",
      " (345, 350,  2,  0.48478489, 0.43949699,   33, 3.300e+01)\n",
      " (346, 347,  4,  0.26679729, 0.22228483,   28, 2.800e+01)\n",
      " ( -1,  -1, -2, -2.        , 0.        ,   25, 2.500e+01)\n",
      " (348, 349,  1, -0.56286454, 0.91829583,    3, 3.000e+00)\n",
      " ( -1,  -1, -2, -2.        , 0.        ,    1, 1.000e+00)\n",
      " ( -1,  -1, -2, -2.        , 0.        ,    2, 2.000e+00)\n",
      " (351, 352,  6,  0.25202342, 0.97095059,    5, 5.000e+00)\n",
      " ( -1,  -1, -2, -2.        , 0.        ,    3, 3.000e+00)\n",
      " ( -1,  -1, -2, -2.        , 0.        ,    2, 2.000e+00)\n",
      " ( -1,  -1, -2, -2.        , 0.        ,    1, 1.000e+00)\n",
      " ( -1,  -1, -2, -2.        , 0.        ,    6, 6.000e+00)\n",
      " (356, 357,  3, -1.59704816, 0.17628983,  189, 1.890e+02)\n",
      " ( -1,  -1, -2, -2.        , 0.        ,    1, 1.000e+00)\n",
      " (358, 363,  6,  2.25507057, 0.14854949,  188, 1.880e+02)\n",
      " (359, 360,  3,  0.52891898, 0.05336143,  165, 1.650e+02)\n",
      " ( -1,  -1, -2, -2.        , 0.        ,  159, 1.590e+02)\n",
      " (361, 362,  3,  0.55582997, 0.65002242,    6, 6.000e+00)\n",
      " ( -1,  -1, -2, -2.        , 0.        ,    1, 1.000e+00)\n",
      " ( -1,  -1, -2, -2.        , 0.        ,    5, 5.000e+00)\n",
      " (364, 365,  4,  0.99447247, 0.55862937,   23, 2.300e+01)\n",
      " ( -1,  -1, -2, -2.        , 0.        ,    3, 3.000e+00)\n",
      " ( -1,  -1, -2, -2.        , 0.        ,   20, 2.000e+01)\n",
      " (367, 372,  3, -0.03621153, 0.08062777,  401, 4.010e+02)\n",
      " (368, 369,  0, -0.12068247, 0.02733106,  364, 3.640e+02)\n",
      " ( -1,  -1, -2, -2.        , 0.        ,  351, 3.510e+02)\n",
      " (370, 371,  0, -0.11275239, 0.39124356,   13, 1.300e+01)\n",
      " ( -1,  -1, -2, -2.        , 0.        ,    1, 1.000e+00)\n",
      " ( -1,  -1, -2, -2.        , 0.        ,   12, 1.200e+01)\n",
      " (373, 378,  1, -0.37034905, 0.40597704,   37, 3.700e+01)\n",
      " (374, 375,  3,  0.32708666, 0.20559251,   31, 3.100e+01)\n",
      " ( -1,  -1, -2, -2.        , 0.        ,   25, 2.500e+01)\n",
      " (376, 377,  3,  0.40781958, 0.65002242,    6, 6.000e+00)\n",
      " ( -1,  -1, -2, -2.        , 0.        ,    1, 1.000e+00)\n",
      " ( -1,  -1, -2, -2.        , 0.        ,    5, 5.000e+00)\n",
      " (379, 380,  1, -0.30384369, 0.91829583,    6, 6.000e+00)\n",
      " ( -1,  -1, -2, -2.        , 0.        ,    2, 2.000e+00)\n",
      " ( -1,  -1, -2, -2.        , 0.        ,    4, 4.000e+00)]\n"
     ]
    },
    {
     "data": {
      "text/plain": [
       "381"
      ]
     },
     "execution_count": 26,
     "metadata": {},
     "output_type": "execute_result"
    }
   ],
   "source": [
    "classifier = DecisionTreeClassifier(criterion = \"entropy\", splitter=\"best\", min_weight_fraction_leaf=0.0, max_features=None, random_state=0, max_leaf_nodes=None, min_impurity_decrease=0.0, min_impurity_split=None, class_weight=None)\n",
    "classifier.fit(x_train_scaled_df[['Hispanic','Black', 'White' ,'Unemployment', 'Income','SelfEmployed','Professional']], y_train)\n",
    "\n",
    "\n",
    "\n",
    "# Show the structure of the decision tree classifier\n",
    "print(classifier.tree_.__getstate__()['nodes'])\n",
    "len(classifier.tree_.__getstate__()['nodes'])"
   ]
  },
  {
   "cell_type": "code",
   "execution_count": 27,
   "metadata": {
    "colab": {
     "base_uri": "https://localhost:8080/",
     "height": 297
    },
    "colab_type": "code",
    "executionInfo": {
     "elapsed": 3221,
     "status": "ok",
     "timestamp": 1575244692408,
     "user": {
      "displayName": "Lydia Tse",
      "photoUrl": "",
      "userId": "08063489847245829399"
     },
     "user_tz": 360
    },
    "id": "g0VQmnczyCaf",
    "outputId": "89646680-0d97-43ea-ce93-1531a7927dde"
   },
   "outputs": [
    {
     "data": {
      "image/png": "[encoded data removed]",
      "text/plain": [
       "<Figure size 432x288 with 2 Axes>"
      ]
     },
     "metadata": {
      "needs_background": "light"
     },
     "output_type": "display_data"
    }
   ],
   "source": [
    "y_pred = classifier.predict(x_validation_scaled_df[['Hispanic','Black', 'White','Unemployment','Income','SelfEmployed', 'Professional']])\n",
    "conf_matrix = metrics.confusion_matrix(y_validation, y_pred)\n",
    "sns.heatmap(conf_matrix, annot = True, fmt = \".3f\", square = True, cmap = plt.cm.Blues)\n",
    "plt.ylabel('Actual')\n",
    "plt.xlabel('Predicted')\n",
    "plt.title('Confusion matrix')\n",
    "plt.tight_layout()"
   ]
  },
  {
   "cell_type": "code",
   "execution_count": 28,
   "metadata": {
    "colab": {
     "base_uri": "https://localhost:8080/",
     "height": 54
    },
    "colab_type": "code",
    "executionInfo": {
     "elapsed": 3220,
     "status": "ok",
     "timestamp": 1575244692409,
     "user": {
      "displayName": "Lydia Tse",
      "photoUrl": "",
      "userId": "08063489847245829399"
     },
     "user_tz": 360
    },
    "id": "qJM7Rw05yEH-",
    "outputId": "0e2f2393-027c-4c9c-a926-178eff34251c"
   },
   "outputs": [
    {
     "name": "stdout",
     "output_type": "stream",
     "text": [
      "[0.8698517298187809, 0.1301482701812191, array([0.88662791, 0.84790875]), array([0.88405797, 0.85114504]), array([0.88534107, 0.84952381])]\n"
     ]
    }
   ],
   "source": [
    "accuracy = metrics.accuracy_score(y_validation, y_pred)\n",
    "error = 1 - accuracy\n",
    "precision = metrics.precision_score(y_validation, y_pred, average = None)\n",
    "recall = metrics.recall_score(y_validation, y_pred, average = None)\n",
    "F1_score = metrics.f1_score(y_validation, y_pred, average = None)\n",
    "print([accuracy, error, precision, recall, F1_score])"
   ]
  },
  {
   "cell_type": "markdown",
   "metadata": {
    "colab_type": "text",
    "id": "2C2sM7R0yGqu"
   },
   "source": [
    "---"
   ]
  },
  {
   "cell_type": "markdown",
   "metadata": {
    "colab_type": "text",
    "id": "xZhmJsvYyIEr"
   },
   "source": [
    "# Classification Model Used: K-Nearest Neighbors"
   ]
  },
  {
   "cell_type": "markdown",
   "metadata": {
    "colab_type": "text",
    "id": "EXOf-Pr2yKgj"
   },
   "source": [
    "MODEL 1\n",
    "\n",
    "    - Variables: Hispanic, Black, White, Unmployment, Income, SelfEmployed, Professional\n",
    "    - K = 5 "
   ]
  },
  {
   "cell_type": "code",
   "execution_count": 29,
   "metadata": {
    "colab": {
     "base_uri": "https://localhost:8080/",
     "height": 68
    },
    "colab_type": "code",
    "executionInfo": {
     "elapsed": 3218,
     "status": "ok",
     "timestamp": 1575244692409,
     "user": {
      "displayName": "Lydia Tse",
      "photoUrl": "",
      "userId": "08063489847245829399"
     },
     "user_tz": 360
    },
    "id": "Gr6hJGWiyOtn",
    "outputId": "6598e1fd-ce0b-42b9-d1de-005b21f622c4"
   },
   "outputs": [
    {
     "data": {
      "text/plain": [
       "KNeighborsClassifier(algorithm='auto', leaf_size=30, metric='minkowski',\n",
       "                     metric_params=None, n_jobs=None, n_neighbors=5, p=2,\n",
       "                     weights='uniform')"
      ]
     },
     "execution_count": 29,
     "metadata": {},
     "output_type": "execute_result"
    }
   ],
   "source": [
    "classifier = KNeighborsClassifier(n_neighbors = 5)  \n",
    "classifier.fit(x_train_scaled_df[['Hispanic','Black', 'White' ,'Unemployment', 'Income','SelfEmployed','Professional']], y_train)"
   ]
  },
  {
   "cell_type": "code",
   "execution_count": 30,
   "metadata": {
    "colab": {
     "base_uri": "https://localhost:8080/",
     "height": 297
    },
    "colab_type": "code",
    "executionInfo": {
     "elapsed": 3647,
     "status": "ok",
     "timestamp": 1575244692840,
     "user": {
      "displayName": "Lydia Tse",
      "photoUrl": "",
      "userId": "08063489847245829399"
     },
     "user_tz": 360
    },
    "id": "yXiLfUSbyRkz",
    "outputId": "f397a156-aa4c-485a-ff97-f21b533c6f8b"
   },
   "outputs": [
    {
     "data": {
      "image/png": "[encoded data removed]",
      "text/plain": [
       "<Figure size 432x288 with 2 Axes>"
      ]
     },
     "metadata": {
      "needs_background": "light"
     },
     "output_type": "display_data"
    }
   ],
   "source": [
    "y_pred = classifier.predict(x_validation_scaled_df[['Hispanic','Black', 'White','Unemployment','Income','SelfEmployed', 'Professional']])\n",
    "conf_matrix = metrics.confusion_matrix(y_validation, y_pred)\n",
    "sns.heatmap(conf_matrix, annot = True, fmt = \".3f\", square = True, cmap = plt.cm.Blues)\n",
    "plt.ylabel('Actual')\n",
    "plt.xlabel('Predicted')\n",
    "plt.title('Confusion matrix')\n",
    "plt.tight_layout()"
   ]
  },
  {
   "cell_type": "code",
   "execution_count": 31,
   "metadata": {
    "colab": {
     "base_uri": "https://localhost:8080/",
     "height": 54
    },
    "colab_type": "code",
    "executionInfo": {
     "elapsed": 3645,
     "status": "ok",
     "timestamp": 1575244692840,
     "user": {
      "displayName": "Lydia Tse",
      "photoUrl": "",
      "userId": "08063489847245829399"
     },
     "user_tz": 360
    },
    "id": "bvUKUVp5yTsF",
    "outputId": "b5929b5c-fa72-4406-b1e0-63a3ada1598c"
   },
   "outputs": [
    {
     "name": "stdout",
     "output_type": "stream",
     "text": [
      "[0.8682042833607908, 0.1317957166392092, array([0.86103542, 0.87916667]), array([0.91594203, 0.80534351]), array([0.88764045, 0.84063745])]\n"
     ]
    }
   ],
   "source": [
    "accuracy = metrics.accuracy_score(y_validation, y_pred)\n",
    "error = 1 - metrics.accuracy_score(y_validation, y_pred)\n",
    "precision = metrics.precision_score(y_validation, y_pred, average = None)\n",
    "recall = metrics.recall_score(y_validation, y_pred, average = None)\n",
    "F1_score = metrics.f1_score(y_validation, y_pred, average = None)\n",
    "print([accuracy, error, precision, recall, F1_score])"
   ]
  },
  {
   "cell_type": "markdown",
   "metadata": {
    "colab_type": "text",
    "id": "UeZYmyHByW45"
   },
   "source": [
    "---"
   ]
  },
  {
   "cell_type": "markdown",
   "metadata": {
    "colab_type": "text",
    "id": "bs5EApLmyXqC"
   },
   "source": [
    "MODEL 2 \n",
    "\n",
    "    - Variables: Hispanic, Black, White, Unmployment, Income, SelfEmployed, Professional\n",
    "    - K = 7 "
   ]
  },
  {
   "cell_type": "code",
   "execution_count": 32,
   "metadata": {
    "colab": {
     "base_uri": "https://localhost:8080/",
     "height": 68
    },
    "colab_type": "code",
    "executionInfo": {
     "elapsed": 3644,
     "status": "ok",
     "timestamp": 1575244692841,
     "user": {
      "displayName": "Lydia Tse",
      "photoUrl": "",
      "userId": "08063489847245829399"
     },
     "user_tz": 360
    },
    "id": "9yUnJ0k9yZ8H",
    "outputId": "03f5f241-9ac8-4b41-cf45-ebe906cb2ab4"
   },
   "outputs": [
    {
     "data": {
      "text/plain": [
       "KNeighborsClassifier(algorithm='auto', leaf_size=30, metric='minkowski',\n",
       "                     metric_params=None, n_jobs=None, n_neighbors=7, p=2,\n",
       "                     weights='uniform')"
      ]
     },
     "execution_count": 32,
     "metadata": {},
     "output_type": "execute_result"
    }
   ],
   "source": [
    "classifier = KNeighborsClassifier(n_neighbors = 7)  \n",
    "classifier.fit(x_train_scaled_df[['Hispanic','Black', 'White' ,'Unemployment', 'Income','SelfEmployed','Professional']], y_train)"
   ]
  },
  {
   "cell_type": "code",
   "execution_count": 33,
   "metadata": {
    "colab": {
     "base_uri": "https://localhost:8080/",
     "height": 297
    },
    "colab_type": "code",
    "executionInfo": {
     "elapsed": 3825,
     "status": "ok",
     "timestamp": 1575244693024,
     "user": {
      "displayName": "Lydia Tse",
      "photoUrl": "",
      "userId": "08063489847245829399"
     },
     "user_tz": 360
    },
    "id": "8K_vw8Pjybt3",
    "outputId": "c6e343d9-3123-4bbc-fd7d-db8ee17b2cf5"
   },
   "outputs": [
    {
     "data": {
      "image/png": "[encoded data removed]",
      "text/plain": [
       "<Figure size 432x288 with 2 Axes>"
      ]
     },
     "metadata": {
      "needs_background": "light"
     },
     "output_type": "display_data"
    }
   ],
   "source": [
    "y_pred = classifier.predict(x_validation_scaled_df[['Hispanic','Black', 'White','Unemployment','Income','SelfEmployed', 'Professional']])\n",
    "conf_matrix = metrics.confusion_matrix(y_validation, y_pred)\n",
    "sns.heatmap(conf_matrix, annot = True, fmt = \".3f\", square = True, cmap = plt.cm.Blues)\n",
    "plt.ylabel('Actual')\n",
    "plt.xlabel('Predicted')\n",
    "plt.title('Confusion matrix')\n",
    "plt.tight_layout()"
   ]
  },
  {
   "cell_type": "code",
   "execution_count": 34,
   "metadata": {
    "colab": {
     "base_uri": "https://localhost:8080/",
     "height": 54
    },
    "colab_type": "code",
    "executionInfo": {
     "elapsed": 3824,
     "status": "ok",
     "timestamp": 1575244693025,
     "user": {
      "displayName": "Lydia Tse",
      "photoUrl": "",
      "userId": "08063489847245829399"
     },
     "user_tz": 360
    },
    "id": "zIc0hATmydxn",
    "outputId": "6053266b-a512-486f-8838-8c89edf0dc9d"
   },
   "outputs": [
    {
     "name": "stdout",
     "output_type": "stream",
     "text": [
      "[0.8731466227347611, 0.12685337726523893, array([0.86413043, 0.88702929]), array([0.92173913, 0.80916031]), array([0.89200561, 0.84630739])]\n"
     ]
    }
   ],
   "source": [
    "accuracy = metrics.accuracy_score(y_validation, y_pred)\n",
    "error = 1 - metrics.accuracy_score(y_validation, y_pred)\n",
    "precision = metrics.precision_score(y_validation, y_pred, average = None)\n",
    "recall = metrics.recall_score(y_validation, y_pred, average = None)\n",
    "F1_score = metrics.f1_score(y_validation, y_pred, average = None)\n",
    "print([accuracy, error, precision, recall, F1_score])"
   ]
  },
  {
   "cell_type": "markdown",
   "metadata": {
    "colab_type": "text",
    "id": "E3ArPCv6yf5j"
   },
   "source": [
    "---"
   ]
  },
  {
   "cell_type": "markdown",
   "metadata": {
    "colab_type": "text",
    "id": "FuCYTuMDyiT5"
   },
   "source": [
    "MODEL 3 \n",
    "\n",
    "    - Variables: Hispanic, Black, White, Percent_Women, Unemployment, Income, SelfEmployed, Professional\n",
    "    - K = 7"
   ]
  },
  {
   "cell_type": "code",
   "execution_count": 35,
   "metadata": {
    "colab": {
     "base_uri": "https://localhost:8080/",
     "height": 68
    },
    "colab_type": "code",
    "executionInfo": {
     "elapsed": 3822,
     "status": "ok",
     "timestamp": 1575244693025,
     "user": {
      "displayName": "Lydia Tse",
      "photoUrl": "",
      "userId": "08063489847245829399"
     },
     "user_tz": 360
    },
    "id": "YbjAj0XyyjWQ",
    "outputId": "ea2b6bc7-6d30-4557-e617-3ce34d66f618"
   },
   "outputs": [
    {
     "data": {
      "text/plain": [
       "KNeighborsClassifier(algorithm='auto', leaf_size=30, metric='minkowski',\n",
       "                     metric_params=None, n_jobs=None, n_neighbors=7, p=2,\n",
       "                     weights='uniform')"
      ]
     },
     "execution_count": 35,
     "metadata": {},
     "output_type": "execute_result"
    }
   ],
   "source": [
    "classifier = KNeighborsClassifier(n_neighbors = 7)  \n",
    "classifier.fit(x_train_scaled_df[['Hispanic','Black', 'White' ,'Percent_Women','Unemployment', 'Income','SelfEmployed','Professional']], y_train)"
   ]
  },
  {
   "cell_type": "code",
   "execution_count": 36,
   "metadata": {
    "colab": {
     "base_uri": "https://localhost:8080/",
     "height": 297
    },
    "colab_type": "code",
    "executionInfo": {
     "elapsed": 4296,
     "status": "ok",
     "timestamp": 1575244693501,
     "user": {
      "displayName": "Lydia Tse",
      "photoUrl": "",
      "userId": "08063489847245829399"
     },
     "user_tz": 360
    },
    "id": "h4QEjuuIymcv",
    "outputId": "75584658-b76a-427c-e421-60d2d97b60ab"
   },
   "outputs": [
    {
     "data": {
      "image/png": "[encoded data removed]",
      "text/plain": [
       "<Figure size 432x288 with 2 Axes>"
      ]
     },
     "metadata": {
      "needs_background": "light"
     },
     "output_type": "display_data"
    }
   ],
   "source": [
    "y_pred = classifier.predict(x_validation_scaled_df[['Hispanic','Black', 'White','Percent_Women','Unemployment','Income','SelfEmployed', 'Professional']])\n",
    "conf_matrix = metrics.confusion_matrix(y_validation, y_pred)\n",
    "sns.heatmap(conf_matrix, annot = True, fmt = \".3f\", square = True, cmap = plt.cm.Blues)\n",
    "plt.ylabel('Actual')\n",
    "plt.xlabel('Predicted')\n",
    "plt.title('Confusion matrix')\n",
    "plt.tight_layout()"
   ]
  },
  {
   "cell_type": "code",
   "execution_count": 37,
   "metadata": {
    "colab": {
     "base_uri": "https://localhost:8080/",
     "height": 54
    },
    "colab_type": "code",
    "executionInfo": {
     "elapsed": 4294,
     "status": "ok",
     "timestamp": 1575244693501,
     "user": {
      "displayName": "Lydia Tse",
      "photoUrl": "",
      "userId": "08063489847245829399"
     },
     "user_tz": 360
    },
    "id": "4v0DFUG5yoPr",
    "outputId": "93365c9e-0db0-4781-8f23-a5127b4e81f7"
   },
   "outputs": [
    {
     "name": "stdout",
     "output_type": "stream",
     "text": [
      "[0.8616144975288303, 0.13838550247116965, array([0.85753425, 0.8677686 ]), array([0.90724638, 0.80152672]), array([0.88169014, 0.83333333])]\n"
     ]
    }
   ],
   "source": [
    "accuracy = metrics.accuracy_score(y_validation, y_pred)\n",
    "error = 1 - metrics.accuracy_score(y_validation, y_pred)\n",
    "precision = metrics.precision_score(y_validation, y_pred, average = None)\n",
    "recall = metrics.recall_score(y_validation, y_pred, average = None)\n",
    "F1_score = metrics.f1_score(y_validation, y_pred, average = None)\n",
    "print([accuracy, error, precision, recall, F1_score])"
   ]
  },
  {
   "cell_type": "markdown",
   "metadata": {
    "colab_type": "text",
    "id": "CVjBH45kyqU1"
   },
   "source": [
    "---"
   ]
  },
  {
   "cell_type": "markdown",
   "metadata": {
    "colab_type": "text",
    "id": "eLnzEx1uyq8O"
   },
   "source": [
    "MODEL 4 \n",
    "\n",
    "    - Variables: Hispanic, Black, White, Percent_Women\n",
    "    - K = 7"
   ]
  },
  {
   "cell_type": "code",
   "execution_count": 38,
   "metadata": {
    "colab": {
     "base_uri": "https://localhost:8080/",
     "height": 68
    },
    "colab_type": "code",
    "executionInfo": {
     "elapsed": 4293,
     "status": "ok",
     "timestamp": 1575244693502,
     "user": {
      "displayName": "Lydia Tse",
      "photoUrl": "",
      "userId": "08063489847245829399"
     },
     "user_tz": 360
    },
    "id": "dRWbYd4pytRy",
    "outputId": "b20fbecb-79b7-4795-9928-02432e58774e"
   },
   "outputs": [
    {
     "data": {
      "text/plain": [
       "KNeighborsClassifier(algorithm='auto', leaf_size=30, metric='minkowski',\n",
       "                     metric_params=None, n_jobs=None, n_neighbors=7, p=2,\n",
       "                     weights='uniform')"
      ]
     },
     "execution_count": 38,
     "metadata": {},
     "output_type": "execute_result"
    }
   ],
   "source": [
    "classifier = KNeighborsClassifier(n_neighbors = 7)  \n",
    "classifier.fit(x_train_scaled_df[['Hispanic','Black', 'White' ,'Percent_Women']], y_train)"
   ]
  },
  {
   "cell_type": "code",
   "execution_count": 39,
   "metadata": {
    "colab": {
     "base_uri": "https://localhost:8080/",
     "height": 297
    },
    "colab_type": "code",
    "executionInfo": {
     "elapsed": 4490,
     "status": "ok",
     "timestamp": 1575244693701,
     "user": {
      "displayName": "Lydia Tse",
      "photoUrl": "",
      "userId": "08063489847245829399"
     },
     "user_tz": 360
    },
    "id": "Oz6Z69-lyvS9",
    "outputId": "546efc07-a85c-4ced-ff3e-afb7a4546b74"
   },
   "outputs": [
    {
     "data": {
      "image/png": "[encoded data removed]",
      "text/plain": [
       "<Figure size 432x288 with 2 Axes>"
      ]
     },
     "metadata": {
      "needs_background": "light"
     },
     "output_type": "display_data"
    }
   ],
   "source": [
    "y_pred = classifier.predict(x_validation_scaled_df[['Hispanic','Black', 'White','Percent_Women']])\n",
    "conf_matrix = metrics.confusion_matrix(y_validation, y_pred)\n",
    "sns.heatmap(conf_matrix, annot = True, fmt = \".3f\", square = True, cmap = plt.cm.Blues)\n",
    "plt.ylabel('Actual')\n",
    "plt.xlabel('Predicted')\n",
    "plt.title('Confusion matrix')\n",
    "plt.tight_layout()"
   ]
  },
  {
   "cell_type": "code",
   "execution_count": 40,
   "metadata": {
    "colab": {
     "base_uri": "https://localhost:8080/",
     "height": 54
    },
    "colab_type": "code",
    "executionInfo": {
     "elapsed": 4489,
     "status": "ok",
     "timestamp": 1575244693702,
     "user": {
      "displayName": "Lydia Tse",
      "photoUrl": "",
      "userId": "08063489847245829399"
     },
     "user_tz": 360
    },
    "id": "1pG4LjK9yw4M",
    "outputId": "00c5bdfe-b2a1-495e-8a7f-297345ad2ef7"
   },
   "outputs": [
    {
     "name": "stdout",
     "output_type": "stream",
     "text": [
      "[0.71334431630972, 0.28665568369028005, array([0.70405728, 0.73404255]), array([0.85507246, 0.52671756]), array([0.77225131, 0.61333333])]\n"
     ]
    }
   ],
   "source": [
    "accuracy = metrics.accuracy_score(y_validation, y_pred)\n",
    "error = 1 - metrics.accuracy_score(y_validation, y_pred)\n",
    "precision = metrics.precision_score(y_validation, y_pred, average = None)\n",
    "recall = metrics.recall_score(y_validation, y_pred, average = None)\n",
    "F1_score = metrics.f1_score(y_validation, y_pred, average = None)\n",
    "print([accuracy, error, precision, recall, F1_score])"
   ]
  },
  {
   "cell_type": "markdown",
   "metadata": {
    "colab_type": "text",
    "id": "O7L8FSMky1ck"
   },
   "source": [
    "----"
   ]
  },
  {
   "cell_type": "markdown",
   "metadata": {
    "colab_type": "text",
    "id": "S4uv8CPpy2bk"
   },
   "source": [
    "MODEL 5 \n",
    "\n",
    "    - Variables: Unemployment, Income, SelfEmployed, Professional\n",
    "    - K = 7"
   ]
  },
  {
   "cell_type": "code",
   "execution_count": 41,
   "metadata": {
    "colab": {
     "base_uri": "https://localhost:8080/",
     "height": 68
    },
    "colab_type": "code",
    "executionInfo": {
     "elapsed": 4486,
     "status": "ok",
     "timestamp": 1575244693702,
     "user": {
      "displayName": "Lydia Tse",
      "photoUrl": "",
      "userId": "08063489847245829399"
     },
     "user_tz": 360
    },
    "id": "24U9QFEWy4lZ",
    "outputId": "7579f047-2254-4f08-c7c6-e3240bfc41d2"
   },
   "outputs": [
    {
     "data": {
      "text/plain": [
       "KNeighborsClassifier(algorithm='auto', leaf_size=30, metric='minkowski',\n",
       "                     metric_params=None, n_jobs=None, n_neighbors=7, p=2,\n",
       "                     weights='uniform')"
      ]
     },
     "execution_count": 41,
     "metadata": {},
     "output_type": "execute_result"
    }
   ],
   "source": [
    "classifier = KNeighborsClassifier(n_neighbors = 7)  \n",
    "classifier.fit(x_train_scaled_df[['Unemployment', 'Income','SelfEmployed','Professional']], y_train)"
   ]
  },
  {
   "cell_type": "code",
   "execution_count": 42,
   "metadata": {
    "colab": {
     "base_uri": "https://localhost:8080/",
     "height": 297
    },
    "colab_type": "code",
    "executionInfo": {
     "elapsed": 4924,
     "status": "ok",
     "timestamp": 1575244694141,
     "user": {
      "displayName": "Lydia Tse",
      "photoUrl": "",
      "userId": "08063489847245829399"
     },
     "user_tz": 360
    },
    "id": "XFTSbvKky6yT",
    "outputId": "2cc47ba4-2f2c-4c41-c5b5-b2b7011ef2d6"
   },
   "outputs": [
    {
     "data": {
      "image/png": "[encoded data removed]",
      "text/plain": [
       "<Figure size 432x288 with 2 Axes>"
      ]
     },
     "metadata": {
      "needs_background": "light"
     },
     "output_type": "display_data"
    }
   ],
   "source": [
    "y_pred = classifier.predict(x_validation_scaled_df[['Unemployment','Income','SelfEmployed', 'Professional']])\n",
    "conf_matrix = metrics.confusion_matrix(y_validation, y_pred)\n",
    "sns.heatmap(conf_matrix, annot = True, fmt = \".3f\", square = True, cmap = plt.cm.Blues)\n",
    "plt.ylabel('Actual')\n",
    "plt.xlabel('Predicted')\n",
    "plt.title('Confusion matrix')\n",
    "plt.tight_layout()"
   ]
  },
  {
   "cell_type": "code",
   "execution_count": 43,
   "metadata": {
    "colab": {
     "base_uri": "https://localhost:8080/",
     "height": 54
    },
    "colab_type": "code",
    "executionInfo": {
     "elapsed": 4922,
     "status": "ok",
     "timestamp": 1575244694141,
     "user": {
      "displayName": "Lydia Tse",
      "photoUrl": "",
      "userId": "08063489847245829399"
     },
     "user_tz": 360
    },
    "id": "ZCmzXv-Sy9jS",
    "outputId": "c8f9fb2c-894d-49ba-a806-9518d39a363f"
   },
   "outputs": [
    {
     "name": "stdout",
     "output_type": "stream",
     "text": [
      "[0.8484349258649094, 0.15156507413509057, array([0.86666667, 0.82442748]), array([0.86666667, 0.82442748]), array([0.86666667, 0.82442748])]\n"
     ]
    }
   ],
   "source": [
    "accuracy = metrics.accuracy_score(y_validation, y_pred)\n",
    "error = 1 - metrics.accuracy_score(y_validation, y_pred)\n",
    "precision = metrics.precision_score(y_validation, y_pred, average = None)\n",
    "recall = metrics.recall_score(y_validation, y_pred, average = None)\n",
    "F1_score = metrics.f1_score(y_validation, y_pred, average = None)\n",
    "print([accuracy, error, precision, recall, F1_score])"
   ]
  },
  {
   "cell_type": "markdown",
   "metadata": {
    "colab_type": "text",
    "id": "3mMWjpoOy_0g"
   },
   "source": [
    "-----"
   ]
  },
  {
   "cell_type": "markdown",
   "metadata": {
    "colab_type": "text",
    "id": "lySlHZNXzBR_"
   },
   "source": [
    "MODEL 6 \n",
    "\n",
    "    - Variables: Percent_Women, Unemployment, Income, SelfEmployed, Professional\n",
    "    - K = 7"
   ]
  },
  {
   "cell_type": "code",
   "execution_count": 44,
   "metadata": {
    "colab": {
     "base_uri": "https://localhost:8080/",
     "height": 68
    },
    "colab_type": "code",
    "executionInfo": {
     "elapsed": 4921,
     "status": "ok",
     "timestamp": 1575244694142,
     "user": {
      "displayName": "Lydia Tse",
      "photoUrl": "",
      "userId": "08063489847245829399"
     },
     "user_tz": 360
    },
    "id": "8PLk2EgYzDku",
    "outputId": "da10473b-1d9d-435d-9c9d-cf4ad943a382"
   },
   "outputs": [
    {
     "data": {
      "text/plain": [
       "KNeighborsClassifier(algorithm='auto', leaf_size=30, metric='minkowski',\n",
       "                     metric_params=None, n_jobs=None, n_neighbors=7, p=2,\n",
       "                     weights='uniform')"
      ]
     },
     "execution_count": 44,
     "metadata": {},
     "output_type": "execute_result"
    }
   ],
   "source": [
    "classifier = KNeighborsClassifier(n_neighbors = 7)  \n",
    "classifier.fit(x_train_scaled_df[['Percent_Women','Unemployment', 'Income','SelfEmployed','Professional']], y_train)"
   ]
  },
  {
   "cell_type": "code",
   "execution_count": 45,
   "metadata": {
    "colab": {
     "base_uri": "https://localhost:8080/",
     "height": 297
    },
    "colab_type": "code",
    "executionInfo": {
     "elapsed": 5101,
     "status": "ok",
     "timestamp": 1575244694324,
     "user": {
      "displayName": "Lydia Tse",
      "photoUrl": "",
      "userId": "08063489847245829399"
     },
     "user_tz": 360
    },
    "id": "yFdFUE3YzFzw",
    "outputId": "eb3e0511-96f9-40e9-adae-10d041107590"
   },
   "outputs": [
    {
     "data": {
      "image/png": "[encoded data removed]",
      "text/plain": [
       "<Figure size 432x288 with 2 Axes>"
      ]
     },
     "metadata": {
      "needs_background": "light"
     },
     "output_type": "display_data"
    }
   ],
   "source": [
    "y_pred = classifier.predict(x_validation_scaled_df[['Percent_Women','Unemployment','Income','SelfEmployed', 'Professional']])\n",
    "conf_matrix = metrics.confusion_matrix(y_validation, y_pred)\n",
    "sns.heatmap(conf_matrix, annot = True, fmt = \".3f\", square = True, cmap = plt.cm.Blues)\n",
    "plt.ylabel('Actual')\n",
    "plt.xlabel('Predicted')\n",
    "plt.title('Confusion matrix')\n",
    "plt.tight_layout()"
   ]
  },
  {
   "cell_type": "code",
   "execution_count": 46,
   "metadata": {
    "colab": {
     "base_uri": "https://localhost:8080/",
     "height": 54
    },
    "colab_type": "code",
    "executionInfo": {
     "elapsed": 5230,
     "status": "ok",
     "timestamp": 1575244694455,
     "user": {
      "displayName": "Lydia Tse",
      "photoUrl": "",
      "userId": "08063489847245829399"
     },
     "user_tz": 360
    },
    "id": "B02J3u-BzH1z",
    "outputId": "6876d1b9-e303-423f-ccda-486669d441de"
   },
   "outputs": [
    {
     "name": "stdout",
     "output_type": "stream",
     "text": [
      "[0.8780889621087314, 0.12191103789126856, array([0.87327824, 0.8852459 ]), array([0.91884058, 0.82442748]), array([0.89548023, 0.85375494])]\n"
     ]
    }
   ],
   "source": [
    "accuracy = metrics.accuracy_score(y_validation, y_pred)\n",
    "error = 1 - metrics.accuracy_score(y_validation, y_pred)\n",
    "precision = metrics.precision_score(y_validation, y_pred, average = None)\n",
    "recall = metrics.recall_score(y_validation, y_pred, average = None)\n",
    "F1_score = metrics.f1_score(y_validation, y_pred, average = None)\n",
    "print([accuracy, error, precision, recall, F1_score])"
   ]
  },
  {
   "cell_type": "markdown",
   "metadata": {
    "colab_type": "text",
    "id": "iM3GZvihzJs_"
   },
   "source": [
    "----"
   ]
  },
  {
   "cell_type": "markdown",
   "metadata": {
    "colab_type": "text",
    "id": "zxn378TrzKri"
   },
   "source": [
    "# Classification Model Used: Support Vector Machines"
   ]
  },
  {
   "cell_type": "markdown",
   "metadata": {
    "colab_type": "text",
    "id": "ECTj50HMzNBr"
   },
   "source": [
    "---"
   ]
  },
  {
   "cell_type": "markdown",
   "metadata": {
    "colab_type": "text",
    "id": "VJrqFi3HzQ0z"
   },
   "source": [
    "MODEL 1\n",
    "\n",
    "    -Variables Used: All"
   ]
  },
  {
   "cell_type": "code",
   "execution_count": 47,
   "metadata": {
    "colab": {},
    "colab_type": "code",
    "id": "UUCLNIJezOgX"
   },
   "outputs": [],
   "source": [
    "classifier = SVC(kernel = 'rbf')  \n",
    "classifier.fit(x_train_scaled_df, y_train)\n",
    "y_pred = classifier.predict(x_validation_scaled_df)"
   ]
  },
  {
   "cell_type": "code",
   "execution_count": 48,
   "metadata": {
    "colab": {
     "base_uri": "https://localhost:8080/",
     "height": 297
    },
    "colab_type": "code",
    "executionInfo": {
     "elapsed": 5777,
     "status": "ok",
     "timestamp": 1575244695006,
     "user": {
      "displayName": "Lydia Tse",
      "photoUrl": "",
      "userId": "08063489847245829399"
     },
     "user_tz": 360
    },
    "id": "BO36lyE5zUMk",
    "outputId": "0a703f38-caec-4fff-b05f-1a03d585d3f7"
   },
   "outputs": [
    {
     "data": {
      "image/png": "[encoded data removed]",
      "text/plain": [
       "<Figure size 432x288 with 2 Axes>"
      ]
     },
     "metadata": {
      "needs_background": "light"
     },
     "output_type": "display_data"
    }
   ],
   "source": [
    "conf_matrix = metrics.confusion_matrix(y_validation, y_pred)\n",
    "sns.heatmap(conf_matrix, annot = True, fmt = \".3f\", square = True, cmap = plt.cm.Blues)\n",
    "plt.ylabel('Actual')\n",
    "plt.xlabel('Predicted')\n",
    "plt.title('Confusion matrix')\n",
    "plt.tight_layout()"
   ]
  },
  {
   "cell_type": "code",
   "execution_count": 49,
   "metadata": {
    "colab": {
     "base_uri": "https://localhost:8080/",
     "height": 54
    },
    "colab_type": "code",
    "executionInfo": {
     "elapsed": 5776,
     "status": "ok",
     "timestamp": 1575244695006,
     "user": {
      "displayName": "Lydia Tse",
      "photoUrl": "",
      "userId": "08063489847245829399"
     },
     "user_tz": 360
    },
    "id": "N51GfTAuzV6v",
    "outputId": "59b6290b-2d48-4c71-f22d-7e5e618d0cc5"
   },
   "outputs": [
    {
     "name": "stdout",
     "output_type": "stream",
     "text": [
      "[0.8731466227347611, 0.12685337726523893, array([0.88285714, 0.85992218]), array([0.89565217, 0.84351145]), array([0.88920863, 0.85163776])]\n"
     ]
    }
   ],
   "source": [
    "accuracy = metrics.accuracy_score(y_validation, y_pred)\n",
    "error = 1 - metrics.accuracy_score(y_validation, y_pred)\n",
    "precision = metrics.precision_score(y_validation, y_pred, average = None)\n",
    "recall = metrics.recall_score(y_validation, y_pred, average = None)\n",
    "F1_score = metrics.f1_score(y_validation, y_pred, average = None)\n",
    "print([accuracy, error, precision, recall, F1_score])"
   ]
  },
  {
   "cell_type": "markdown",
   "metadata": {
    "colab_type": "text",
    "id": "AX4oEOAizXlL"
   },
   "source": [
    "----"
   ]
  },
  {
   "cell_type": "markdown",
   "metadata": {
    "colab_type": "text",
    "id": "_JB07sMNzZyp"
   },
   "source": [
    "MODEL 2\n",
    "\n",
    "    - Variables Used: Hispanic, White, Black"
   ]
  },
  {
   "cell_type": "code",
   "execution_count": 50,
   "metadata": {
    "colab": {},
    "colab_type": "code",
    "id": "jd9szobTzavM"
   },
   "outputs": [],
   "source": [
    "classifier = SVC(kernel = 'rbf')  \n",
    "classifier.fit(x_train_scaled_df[['Hispanic', 'White', 'Black']], y_train)\n",
    "y_pred = classifier.predict(x_validation_scaled_df[['Hispanic', 'White', 'Black']])"
   ]
  },
  {
   "cell_type": "code",
   "execution_count": 51,
   "metadata": {
    "colab": {
     "base_uri": "https://localhost:8080/",
     "height": 297
    },
    "colab_type": "code",
    "executionInfo": {
     "elapsed": 5910,
     "status": "ok",
     "timestamp": 1575244695144,
     "user": {
      "displayName": "Lydia Tse",
      "photoUrl": "",
      "userId": "08063489847245829399"
     },
     "user_tz": 360
    },
    "id": "D3oSTJtazd5E",
    "outputId": "1e555279-93e7-435c-9b6a-a44c574818bb"
   },
   "outputs": [
    {
     "data": {
      "image/png": "[encoded data removed]",
      "text/plain": [
       "<Figure size 432x288 with 2 Axes>"
      ]
     },
     "metadata": {
      "needs_background": "light"
     },
     "output_type": "display_data"
    }
   ],
   "source": [
    "conf_matrix = metrics.confusion_matrix(y_validation, y_pred)\n",
    "sns.heatmap(conf_matrix, annot = True, fmt = \".3f\", square = True, cmap = plt.cm.Blues)\n",
    "plt.ylabel('Actual')\n",
    "plt.xlabel('Predicted')\n",
    "plt.title('Confusion matrix')\n",
    "plt.tight_layout()"
   ]
  },
  {
   "cell_type": "code",
   "execution_count": 52,
   "metadata": {
    "colab": {
     "base_uri": "https://localhost:8080/",
     "height": 54
    },
    "colab_type": "code",
    "executionInfo": {
     "elapsed": 5909,
     "status": "ok",
     "timestamp": 1575244695145,
     "user": {
      "displayName": "Lydia Tse",
      "photoUrl": "",
      "userId": "08063489847245829399"
     },
     "user_tz": 360
    },
    "id": "-aZrtIkmzgAh",
    "outputId": "e79827d6-2310-4718-d7af-673425a27bbe"
   },
   "outputs": [
    {
     "name": "stdout",
     "output_type": "stream",
     "text": [
      "[0.7232289950576606, 0.2767710049423394, array([0.68950749, 0.83571429]), array([0.93333333, 0.44656489]), array([0.79310345, 0.58208955])]\n"
     ]
    }
   ],
   "source": [
    "accuracy = metrics.accuracy_score(y_validation, y_pred)\n",
    "error = 1 - metrics.accuracy_score(y_validation, y_pred)\n",
    "precision = metrics.precision_score(y_validation, y_pred, average = None)\n",
    "recall = metrics.recall_score(y_validation, y_pred, average = None)\n",
    "F1_score = metrics.f1_score(y_validation, y_pred, average = None)\n",
    "print([accuracy, error, precision, recall, F1_score])"
   ]
  },
  {
   "cell_type": "markdown",
   "metadata": {
    "colab_type": "text",
    "id": "kd5sFHQHzh21"
   },
   "source": [
    "----"
   ]
  },
  {
   "cell_type": "markdown",
   "metadata": {
    "colab_type": "text",
    "id": "9Vn3pDpLzi30"
   },
   "source": [
    "MODEL 3\n",
    "\n",
    "    -Variables Used: Hispanic, White, Black, Percent_Women"
   ]
  },
  {
   "cell_type": "code",
   "execution_count": 53,
   "metadata": {
    "colab": {},
    "colab_type": "code",
    "id": "9FEnWNHSzlEB"
   },
   "outputs": [],
   "source": [
    "classifier = SVC(kernel = 'rbf')\n",
    "classifier.fit(x_train_scaled_df[['Hispanic', 'White', 'Black', 'Percent_Women']], y_train)\n",
    "y_pred = classifier.predict(x_validation_scaled_df[['Hispanic', 'White', 'Black', 'Percent_Women']])"
   ]
  },
  {
   "cell_type": "code",
   "execution_count": 54,
   "metadata": {
    "colab": {
     "base_uri": "https://localhost:8080/",
     "height": 297
    },
    "colab_type": "code",
    "executionInfo": {
     "elapsed": 6337,
     "status": "ok",
     "timestamp": 1575244695577,
     "user": {
      "displayName": "Lydia Tse",
      "photoUrl": "",
      "userId": "08063489847245829399"
     },
     "user_tz": 360
    },
    "id": "afDTwIZczmky",
    "outputId": "fff41d86-7b69-468c-b0f1-ae2480bfd45c"
   },
   "outputs": [
    {
     "data": {
      "image/png": "[encoded data removed]",
      "text/plain": [
       "<Figure size 432x288 with 2 Axes>"
      ]
     },
     "metadata": {
      "needs_background": "light"
     },
     "output_type": "display_data"
    }
   ],
   "source": [
    "conf_matrix = metrics.confusion_matrix(y_validation, y_pred)\n",
    "sns.heatmap(conf_matrix, annot = True, fmt = \".3f\", square = True, cmap = plt.cm.Blues)\n",
    "plt.ylabel('Actual')\n",
    "plt.xlabel('Predicted')\n",
    "plt.title('Confusion matrix')\n",
    "plt.tight_layout()"
   ]
  },
  {
   "cell_type": "code",
   "execution_count": 55,
   "metadata": {
    "colab": {
     "base_uri": "https://localhost:8080/",
     "height": 54
    },
    "colab_type": "code",
    "executionInfo": {
     "elapsed": 6336,
     "status": "ok",
     "timestamp": 1575244695578,
     "user": {
      "displayName": "Lydia Tse",
      "photoUrl": "",
      "userId": "08063489847245829399"
     },
     "user_tz": 360
    },
    "id": "fpXrtfKozn9W",
    "outputId": "c9ddb66d-3c3e-4d25-9fea-292420261e6d"
   },
   "outputs": [
    {
     "name": "stdout",
     "output_type": "stream",
     "text": [
      "[0.7232289950576606, 0.2767710049423394, array([0.69114471, 0.82638889]), array([0.92753623, 0.45419847]), array([0.79207921, 0.5862069 ])]\n"
     ]
    }
   ],
   "source": [
    "accuracy = metrics.accuracy_score(y_validation, y_pred)\n",
    "error = 1 - metrics.accuracy_score(y_validation, y_pred)\n",
    "precision = metrics.precision_score(y_validation, y_pred, average = None)\n",
    "recall = metrics.recall_score(y_validation, y_pred, average = None)\n",
    "F1_score = metrics.f1_score(y_validation, y_pred, average = None)\n",
    "print([accuracy, error, precision, recall, F1_score])"
   ]
  },
  {
   "cell_type": "markdown",
   "metadata": {
    "colab_type": "text",
    "id": "8TpcG4bVzp4Z"
   },
   "source": [
    "-----"
   ]
  },
  {
   "cell_type": "markdown",
   "metadata": {
    "colab_type": "text",
    "id": "K4b-8eQszrCx"
   },
   "source": [
    "MODEL 4\n",
    "\n",
    "    -Variables Used: Unemployment, Income, SelfEmployed"
   ]
  },
  {
   "cell_type": "code",
   "execution_count": 56,
   "metadata": {
    "colab": {},
    "colab_type": "code",
    "id": "Uyg4k1gXztKj"
   },
   "outputs": [],
   "source": [
    "classifier = SVC(kernel = 'rbf')\n",
    "classifier.fit(x_train_scaled_df[['Unemployment', 'Income', 'SelfEmployed']], y_train)\n",
    "y_pred = classifier.predict(x_validation_scaled_df[['Unemployment', 'Income', 'SelfEmployed']])"
   ]
  },
  {
   "cell_type": "code",
   "execution_count": 57,
   "metadata": {
    "colab": {
     "base_uri": "https://localhost:8080/",
     "height": 297
    },
    "colab_type": "code",
    "executionInfo": {
     "elapsed": 6783,
     "status": "ok",
     "timestamp": 1575244696028,
     "user": {
      "displayName": "Lydia Tse",
      "photoUrl": "",
      "userId": "08063489847245829399"
     },
     "user_tz": 360
    },
    "id": "AEs3Y73Tzu3s",
    "outputId": "2021cc33-5bb2-4a10-a1da-1ddb48f1e4e3"
   },
   "outputs": [
    {
     "data": {
      "image/png": "[encoded data removed]",
      "text/plain": [
       "<Figure size 432x288 with 2 Axes>"
      ]
     },
     "metadata": {
      "needs_background": "light"
     },
     "output_type": "display_data"
    }
   ],
   "source": [
    "conf_matrix = metrics.confusion_matrix(y_validation, y_pred)\n",
    "sns.heatmap(conf_matrix, annot = True, fmt = \".3f\", square = True, cmap = plt.cm.Blues)\n",
    "plt.ylabel('Actual')\n",
    "plt.xlabel('Predicted')\n",
    "plt.title('Confusion matrix')\n",
    "plt.tight_layout()"
   ]
  },
  {
   "cell_type": "code",
   "execution_count": 58,
   "metadata": {
    "colab": {
     "base_uri": "https://localhost:8080/",
     "height": 54
    },
    "colab_type": "code",
    "executionInfo": {
     "elapsed": 6781,
     "status": "ok",
     "timestamp": 1575244696028,
     "user": {
      "displayName": "Lydia Tse",
      "photoUrl": "",
      "userId": "08063489847245829399"
     },
     "user_tz": 360
    },
    "id": "C2Tnwdz-zwxc",
    "outputId": "1d388e09-da65-4ad9-d344-de87774000eb"
   },
   "outputs": [
    {
     "name": "stdout",
     "output_type": "stream",
     "text": [
      "[0.8649093904448105, 0.13509060955518948, array([0.86027397, 0.87190083]), array([0.91014493, 0.80534351]), array([0.88450704, 0.83730159])]\n"
     ]
    }
   ],
   "source": [
    "accuracy = metrics.accuracy_score(y_validation, y_pred)\n",
    "error = 1 - metrics.accuracy_score(y_validation, y_pred)\n",
    "precision = metrics.precision_score(y_validation, y_pred, average = None)\n",
    "recall = metrics.recall_score(y_validation, y_pred, average = None)\n",
    "F1_score = metrics.f1_score(y_validation, y_pred, average = None)\n",
    "print([accuracy, error, precision, recall, F1_score])"
   ]
  },
  {
   "cell_type": "markdown",
   "metadata": {
    "colab_type": "text",
    "id": "LoaY4AOBzyme"
   },
   "source": [
    "----"
   ]
  },
  {
   "cell_type": "markdown",
   "metadata": {
    "colab_type": "text",
    "id": "c_1m9CkYzzmX"
   },
   "source": [
    "MODEL 5\n",
    "\n",
    "    -Variables Used: Unemployment, Income, SelfEmployed, Black, White, Hispanic, Percent_Women"
   ]
  },
  {
   "cell_type": "code",
   "execution_count": 59,
   "metadata": {
    "colab": {},
    "colab_type": "code",
    "id": "pt5OznPQz1e0"
   },
   "outputs": [],
   "source": [
    "classifier = SVC(kernel = 'rbf')\n",
    "classifier.fit(x_train_scaled_df[['Unemployment', 'Income', 'SelfEmployed', 'Black', 'White', 'Hispanic', 'Percent_Women']], y_train)\n",
    "y_pred = classifier.predict(x_validation_scaled_df[['Unemployment', 'Income', 'SelfEmployed', 'Black', 'White', 'Hispanic', 'Percent_Women']])"
   ]
  },
  {
   "cell_type": "code",
   "execution_count": 60,
   "metadata": {
    "colab": {
     "base_uri": "https://localhost:8080/",
     "height": 297
    },
    "colab_type": "code",
    "executionInfo": {
     "elapsed": 7047,
     "status": "ok",
     "timestamp": 1575244696299,
     "user": {
      "displayName": "Lydia Tse",
      "photoUrl": "",
      "userId": "08063489847245829399"
     },
     "user_tz": 360
    },
    "id": "MNM4DjnGz5Oj",
    "outputId": "55e00867-9625-4172-c323-ef087656dd01"
   },
   "outputs": [
    {
     "data": {
      "image/png": "[encoded data removed]",
      "text/plain": [
       "<Figure size 432x288 with 2 Axes>"
      ]
     },
     "metadata": {
      "needs_background": "light"
     },
     "output_type": "display_data"
    }
   ],
   "source": [
    "conf_matrix = metrics.confusion_matrix(y_validation, y_pred)\n",
    "sns.heatmap(conf_matrix, annot = True, fmt = \".3f\", square = True, cmap = plt.cm.Blues)\n",
    "plt.ylabel('Actual')\n",
    "plt.xlabel('Predicted')\n",
    "plt.title('Confusion matrix')\n",
    "plt.tight_layout()"
   ]
  },
  {
   "cell_type": "code",
   "execution_count": 61,
   "metadata": {
    "colab": {
     "base_uri": "https://localhost:8080/",
     "height": 54
    },
    "colab_type": "code",
    "executionInfo": {
     "elapsed": 7046,
     "status": "ok",
     "timestamp": 1575244696300,
     "user": {
      "displayName": "Lydia Tse",
      "photoUrl": "",
      "userId": "08063489847245829399"
     },
     "user_tz": 360
    },
    "id": "HVQYRf3Iz7bF",
    "outputId": "955dd152-bccb-4b38-a81b-1ddc23fbf7bf"
   },
   "outputs": [
    {
     "name": "stdout",
     "output_type": "stream",
     "text": [
      "[0.8813838550247117, 0.11861614497528827, array([0.88668555, 0.87401575]), array([0.90724638, 0.84732824]), array([0.89684814, 0.86046512])]\n"
     ]
    }
   ],
   "source": [
    "accuracy = metrics.accuracy_score(y_validation, y_pred)\n",
    "error = 1 - metrics.accuracy_score(y_validation, y_pred)\n",
    "precision = metrics.precision_score(y_validation, y_pred, average = None)\n",
    "recall = metrics.recall_score(y_validation, y_pred, average = None)\n",
    "F1_score = metrics.f1_score(y_validation, y_pred, average = None)\n",
    "print([accuracy, error, precision, recall, F1_score])"
   ]
  },
  {
   "cell_type": "markdown",
   "metadata": {
    "colab_type": "text",
    "id": "_3zSu9g2z8tW"
   },
   "source": [
    "-----"
   ]
  },
  {
   "cell_type": "markdown",
   "metadata": {
    "colab_type": "text",
    "id": "u_jRNv-6z-LA"
   },
   "source": [
    "MODEL 6 \n",
    "\n",
    "    -Variables Used: Unemployment, Income, SelfEmployed, Black, White, Hispanic, Percent_Women, Professional"
   ]
  },
  {
   "cell_type": "code",
   "execution_count": 62,
   "metadata": {
    "colab": {},
    "colab_type": "code",
    "id": "pRcWZu1-0Ajv"
   },
   "outputs": [],
   "source": [
    "classifier_poverty = SVC(kernel = 'rbf')\n",
    "classifier_poverty.fit(x_train_scaled_df[['Unemployment', 'Income', 'SelfEmployed', 'Black', 'White', 'Hispanic', 'Percent_Women', 'Professional']], y_train)\n",
    "y_pred = classifier_poverty.predict(x_validation_scaled_df[['Unemployment', 'Income', 'SelfEmployed', 'Black', 'White', 'Hispanic', 'Percent_Women', 'Professional']])"
   ]
  },
  {
   "cell_type": "code",
   "execution_count": 63,
   "metadata": {
    "colab": {
     "base_uri": "https://localhost:8080/",
     "height": 297
    },
    "colab_type": "code",
    "executionInfo": {
     "elapsed": 7563,
     "status": "ok",
     "timestamp": 1575244696821,
     "user": {
      "displayName": "Lydia Tse",
      "photoUrl": "",
      "userId": "08063489847245829399"
     },
     "user_tz": 360
    },
    "id": "WfAYGb4Z0D-9",
    "outputId": "89ae78d1-bcaa-44db-8593-469dcb3cd9ab"
   },
   "outputs": [
    {
     "data": {
      "image/png": "[encoded data removed]",
      "text/plain": [
       "<Figure size 432x288 with 2 Axes>"
      ]
     },
     "metadata": {
      "needs_background": "light"
     },
     "output_type": "display_data"
    }
   ],
   "source": [
    "conf_matrix = metrics.confusion_matrix(y_validation, y_pred)\n",
    "sns.heatmap(conf_matrix, annot = True, fmt = \".3f\", square = True, cmap = plt.cm.Blues)\n",
    "plt.ylabel('Actual')\n",
    "plt.xlabel('Predicted')\n",
    "plt.title('Confusion matrix')\n",
    "plt.tight_layout()"
   ]
  },
  {
   "cell_type": "code",
   "execution_count": 64,
   "metadata": {
    "colab": {
     "base_uri": "https://localhost:8080/",
     "height": 54
    },
    "colab_type": "code",
    "executionInfo": {
     "elapsed": 7561,
     "status": "ok",
     "timestamp": 1575244696822,
     "user": {
      "displayName": "Lydia Tse",
      "photoUrl": "",
      "userId": "08063489847245829399"
     },
     "user_tz": 360
    },
    "id": "eOu1i-A40Iaz",
    "outputId": "4796ee92-7034-4aab-d119-bc13fc7a01cc"
   },
   "outputs": [
    {
     "name": "stdout",
     "output_type": "stream",
     "text": [
      "[0.886326194398682, 0.11367380560131801, array([0.89428571, 0.87548638]), array([0.90724638, 0.85877863]), array([0.90071942, 0.86705202])]\n"
     ]
    }
   ],
   "source": [
    "accuracy = metrics.accuracy_score(y_validation, y_pred)\n",
    "error = 1 - metrics.accuracy_score(y_validation, y_pred)\n",
    "precision = metrics.precision_score(y_validation, y_pred, average = None)\n",
    "recall = metrics.recall_score(y_validation, y_pred, average = None)\n",
    "F1_score = metrics.f1_score(y_validation, y_pred, average = None)\n",
    "print([accuracy, error, precision, recall, F1_score])"
   ]
  },
  {
   "cell_type": "markdown",
   "metadata": {
    "colab_type": "text",
    "id": "EbmU9E6s0JJx"
   },
   "source": [
    "BEST MODELS FOR Poverty Variable\n",
    "\n",
    "    - The best model for Decision Tree classifier is MODEL 6 with accuracy of 0.87. The variables used in this model are Hispanic, Black, \n",
    "      White, Unemployment, Income, SelfEmployed, Professional.\n",
    "      \n",
    "    - The best model for K-Nearest Neighbors classifier is MODEL 6 with accuracy of 0.88. The variables used in this model are Percent_Women, \n",
    "      Unemployment, Income, SelfEmployed, Professional.\n",
    "      \n",
    "    - The best model for Support Vector Machines is MODEL 6 with accuracy of 0.89. The variables used in this model are Unemployment, Income, \n",
    "      SelfEmployed, Black, White, Hispanic, Percent_Women,Professional.\n",
    "      \n",
    "We could observe that the shared variables for each of the models are Income, Unemployment, and SelfEmployed. The model that performs the best contains additional variables Black, White, Hispanic, Percent_Women, and Professional. "
   ]
  },
  {
   "cell_type": "markdown",
   "metadata": {
    "colab_type": "text",
    "id": "D_zD8wjS0LrV"
   },
   "source": [
    "------"
   ]
  },
  {
   "cell_type": "markdown",
   "metadata": {
    "colab_type": "text",
    "id": "xkNB_Udd0NBW"
   },
   "source": [
    "#                        MODELS FOR CHILD POVERTY"
   ]
  },
  {
   "cell_type": "markdown",
   "metadata": {
    "colab_type": "text",
    "id": "-ZopFv830Px3"
   },
   "source": [
    "-----"
   ]
  },
  {
   "cell_type": "markdown",
   "metadata": {
    "colab_type": "text",
    "id": "KHyFXt5E0RWt"
   },
   "source": [
    "Prepare data"
   ]
  },
  {
   "cell_type": "code",
   "execution_count": 65,
   "metadata": {
    "colab": {},
    "colab_type": "code",
    "id": "a274vG330YPB"
   },
   "outputs": [],
   "source": [
    "x_train_full, x_validation_full, y_train, y_validation = train_test_split(data_census[['CountyId', 'State', 'County', 'TotalPop', 'Percent_Women', 'Hispanic', 'White', 'Black', 'Income', 'IncomePerCap', 'Professional', 'Service', 'Production', 'Carpool', 'WorkAtHome', 'PrivateWork', 'PublicWork', 'SelfEmployed', 'Unemployment']], data_census['Child_Poverty Category'], test_size = 0.25, random_state = 0)"
   ]
  },
  {
   "cell_type": "code",
   "execution_count": 66,
   "metadata": {
    "colab": {},
    "colab_type": "code",
    "id": "uymyHDOb0ZMF"
   },
   "outputs": [],
   "source": [
    "# Selecting required variables for x_train\n",
    "x_train = x_train_full.select_dtypes(include=[np.int64,np.float64])\n",
    "x_train = x_train.iloc[:,1:17]\n",
    "\n",
    "x_train.head()\n",
    "\n",
    "# Selecting required variables for x_validation\n",
    "x_validation = x_validation_full.select_dtypes(include=[np.int64,np.float64])\n",
    "x_validation = x_validation.iloc[:,1:17]\n",
    "\n",
    "# Standardizing the data\n",
    "scaler = StandardScaler()\n",
    "scaler.fit(x_train)\n",
    "x_train_scaled = scaler.transform(x_train)\n",
    "x_validation_scaled = scaler.transform(x_validation)\n",
    "x_train_scaled_df = pd.DataFrame(x_train_scaled,index = x_train.index,columns=x_train.columns)\n",
    "x_validation_scaled_df = pd.DataFrame(x_validation_scaled,index = x_validation.index,columns=x_validation.columns)"
   ]
  },
  {
   "cell_type": "markdown",
   "metadata": {
    "colab_type": "text",
    "id": "SKtrKvI90cHg"
   },
   "source": [
    "---"
   ]
  },
  {
   "cell_type": "markdown",
   "metadata": {
    "colab_type": "text",
    "id": "sflS0xaM0dym"
   },
   "source": [
    "# Classification Model Used: Decision Tree Classifier "
   ]
  },
  {
   "cell_type": "markdown",
   "metadata": {
    "colab_type": "text",
    "id": "FJvVr_NL0frW"
   },
   "source": [
    "----"
   ]
  },
  {
   "cell_type": "markdown",
   "metadata": {
    "colab_type": "text",
    "id": "IlpDFTFJ0h06"
   },
   "source": [
    "MODEL 1 \n",
    "\n",
    "    - Variables Used: All"
   ]
  },
  {
   "cell_type": "code",
   "execution_count": 67,
   "metadata": {
    "colab": {
     "base_uri": "https://localhost:8080/",
     "height": 34
    },
    "colab_type": "code",
    "executionInfo": {
     "elapsed": 7556,
     "status": "ok",
     "timestamp": 1575244696823,
     "user": {
      "displayName": "Lydia Tse",
      "photoUrl": "",
      "userId": "08063489847245829399"
     },
     "user_tz": 360
    },
    "id": "CLLvNzqR0gk0",
    "outputId": "86833af1-60d6-4f9d-ff9f-55cf27a68a50"
   },
   "outputs": [
    {
     "data": {
      "text/plain": [
       "365"
      ]
     },
     "execution_count": 67,
     "metadata": {},
     "output_type": "execute_result"
    }
   ],
   "source": [
    "classifier = DecisionTreeClassifier(criterion = \"entropy\", splitter=\"best\", min_weight_fraction_leaf=0.0, max_features=None, random_state=0, max_leaf_nodes=None, min_impurity_decrease=0.0, min_impurity_split=None, class_weight=None)\n",
    "classifier.fit(x_train_scaled_df, y_train)\n",
    "# Show the structure of the decision tree classifier\n",
    "#print(classifier.tree_.__getstate__()['nodes'])\n",
    "len(classifier.tree_.__getstate__()['nodes'])"
   ]
  },
  {
   "cell_type": "code",
   "execution_count": 68,
   "metadata": {
    "colab": {
     "base_uri": "https://localhost:8080/",
     "height": 297
    },
    "colab_type": "code",
    "executionInfo": {
     "elapsed": 7713,
     "status": "ok",
     "timestamp": 1575244696982,
     "user": {
      "displayName": "Lydia Tse",
      "photoUrl": "",
      "userId": "08063489847245829399"
     },
     "user_tz": 360
    },
    "id": "0-CIBluv0m2l",
    "outputId": "03069782-ce05-485b-de87-f50028690e5a"
   },
   "outputs": [
    {
     "data": {
      "image/png": "[encoded data removed]",
      "text/plain": [
       "<Figure size 432x288 with 2 Axes>"
      ]
     },
     "metadata": {
      "needs_background": "light"
     },
     "output_type": "display_data"
    }
   ],
   "source": [
    "y_pred = classifier.predict(x_validation_scaled_df)\n",
    "conf_matrix = metrics.confusion_matrix(y_validation, y_pred)\n",
    "sns.heatmap(conf_matrix, annot = True, fmt = \".3f\", square = True, cmap = plt.cm.Blues)\n",
    "plt.ylabel('Actual')\n",
    "plt.xlabel('Predicted')\n",
    "plt.title('Confusion matrix')\n",
    "plt.tight_layout()"
   ]
  },
  {
   "cell_type": "code",
   "execution_count": 69,
   "metadata": {
    "colab": {
     "base_uri": "https://localhost:8080/",
     "height": 54
    },
    "colab_type": "code",
    "executionInfo": {
     "elapsed": 7712,
     "status": "ok",
     "timestamp": 1575244696983,
     "user": {
      "displayName": "Lydia Tse",
      "photoUrl": "",
      "userId": "08063489847245829399"
     },
     "user_tz": 360
    },
    "id": "vlHqRk4w0ozp",
    "outputId": "8dc4c67c-0884-42e0-c7a6-69023c87e9c3"
   },
   "outputs": [
    {
     "name": "stdout",
     "output_type": "stream",
     "text": [
      "[0.7990115321252059, 0.20098846787479407, array([0.81626506, 0.77818182]), array([0.81626506, 0.77818182]), array([0.81626506, 0.77818182])]\n"
     ]
    }
   ],
   "source": [
    "accuracy = metrics.accuracy_score(y_validation, y_pred)\n",
    "error = 1 - accuracy\n",
    "precision = metrics.precision_score(y_validation, y_pred, average = None)\n",
    "recall = metrics.recall_score(y_validation, y_pred, average = None)\n",
    "F1_score = metrics.f1_score(y_validation, y_pred, average = None)\n",
    "print([accuracy, error, precision, recall, F1_score])"
   ]
  },
  {
   "cell_type": "markdown",
   "metadata": {
    "colab_type": "text",
    "id": "yrff9qc40qz0"
   },
   "source": [
    "-----"
   ]
  },
  {
   "cell_type": "markdown",
   "metadata": {
    "colab_type": "text",
    "id": "A7kzZhyG0tvN"
   },
   "source": [
    "\n",
    "MODEL 2\n",
    "\n",
    "    -Variables Used: Hispanic, White, Black, Percent_Women"
   ]
  },
  {
   "cell_type": "code",
   "execution_count": 70,
   "metadata": {
    "colab": {
     "base_uri": "https://localhost:8080/",
     "height": 1000
    },
    "colab_type": "code",
    "executionInfo": {
     "elapsed": 7855,
     "status": "ok",
     "timestamp": 1575244697128,
     "user": {
      "displayName": "Lydia Tse",
      "photoUrl": "",
      "userId": "08063489847245829399"
     },
     "user_tz": 360
    },
    "id": "v1KJYa8o0v6Q",
    "outputId": "e2ab6a24-3814-4e94-bd88-9db5f2c65cf3"
   },
   "outputs": [
    {
     "name": "stdout",
     "output_type": "stream",
     "text": [
      "[(  1, 260,  1, -0.17469436, 0.98612608, 1820, 1.820e+03)\n",
      " (  2, 183,  2,  1.08926845, 0.88884602,  604, 6.040e+02)\n",
      " (  3,   4,  1, -2.63894856, 0.98019627,  369, 3.690e+02)\n",
      " ( -1,  -1, -2, -2.        , 0.        ,   57, 5.700e+01)\n",
      " (  5,  34,  1, -1.49804938, 0.99988143,  312, 3.120e+02)\n",
      " (  6,   7,  2, -0.60136765, 0.85365767,   61, 6.100e+01)\n",
      " ( -1,  -1, -2, -2.        , 0.        ,    2, 2.000e+00)\n",
      " (  8,   9,  2, -0.57336539, 0.81792525,   59, 5.900e+01)\n",
      " ( -1,  -1, -2, -2.        , 0.        ,   10, 1.000e+01)\n",
      " ( 10,  19,  0,  1.22743124, 0.88864667,   49, 4.900e+01)\n",
      " ( 11,  12,  0, -0.53040332, 0.9456603 ,   11, 1.100e+01)\n",
      " ( -1,  -1, -2, -2.        , 0.        ,    2, 2.000e+00)\n",
      " ( 13,  18,  2,  0.93875632, 0.76420451,    9, 9.000e+00)\n",
      " ( 14,  15,  0,  0.03263243, 0.54356444,    8, 8.000e+00)\n",
      " ( -1,  -1, -2, -2.        , 0.        ,    5, 5.000e+00)\n",
      " ( 16,  17,  1, -1.75524628, 0.91829583,    3, 3.000e+00)\n",
      " ( -1,  -1, -2, -2.        , 0.        ,    1, 1.000e+00)\n",
      " ( -1,  -1, -2, -2.        , 0.        ,    2, 2.000e+00)\n",
      " ( -1,  -1, -2, -2.        , 0.        ,    1, 1.000e+00)\n",
      " ( 20,  21,  0,  2.36936295, 0.74248757,   38, 3.800e+01)\n",
      " ( -1,  -1, -2, -2.        , 0.        ,   15, 1.500e+01)\n",
      " ( 22,  23,  0,  2.41958666, 0.93211157,   23, 2.300e+01)\n",
      " ( -1,  -1, -2, -2.        , 0.        ,    3, 3.000e+00)\n",
      " ( 24,  25,  3, -4.1205039 , 0.81127812,   20, 2.000e+01)\n",
      " ( -1,  -1, -2, -2.        , 0.        ,    2, 2.000e+00)\n",
      " ( 26,  27,  1, -1.87615085, 0.65002242,   18, 1.800e+01)\n",
      " ( -1,  -1, -2, -2.        , 0.        ,    9, 9.000e+00)\n",
      " ( 28,  29,  0,  2.49360073, 0.91829583,    9, 9.000e+00)\n",
      " ( -1,  -1, -2, -2.        , 0.        ,    3, 3.000e+00)\n",
      " ( 30,  31,  2, -0.55236369, 1.        ,    6, 6.000e+00)\n",
      " ( -1,  -1, -2, -2.        , 0.        ,    2, 2.000e+00)\n",
      " ( 32,  33,  0,  2.54911137, 0.81127812,    4, 4.000e+00)\n",
      " ( -1,  -1, -2, -2.        , 0.        ,    1, 1.000e+00)\n",
      " ( -1,  -1, -2, -2.        , 0.        ,    3, 3.000e+00)\n",
      " ( 35,  44,  0, -0.35329817, 0.99393456,  251, 2.510e+02)\n",
      " ( 36,  37,  1, -0.47146001, 0.74248757,   19, 1.900e+01)\n",
      " ( -1,  -1, -2, -2.        , 0.        ,    9, 9.000e+00)\n",
      " ( 38,  41,  3,  0.26562937, 0.97095059,   10, 1.000e+01)\n",
      " ( 39,  40,  1, -0.44288258, 0.65002242,    6, 6.000e+00)\n",
      " ( -1,  -1, -2, -2.        , 0.        ,    1, 1.000e+00)\n",
      " ( -1,  -1, -2, -2.        , 0.        ,    5, 5.000e+00)\n",
      " ( 42,  43,  0, -0.44845913, 0.81127812,    4, 4.000e+00)\n",
      " ( -1,  -1, -2, -2.        , 0.        ,    1, 1.000e+00)\n",
      " ( -1,  -1, -2, -2.        , 0.        ,    3, 3.000e+00)\n",
      " ( 45, 168,  2,  0.71123803, 0.98445139,  232, 2.320e+02)\n",
      " ( 46, 125,  1, -0.50883052, 0.96300517,  204, 2.040e+02)\n",
      " ( 47, 122,  1, -0.54400274, 0.9951481 ,  122, 1.220e+02)\n",
      " ( 48, 121,  0,  2.07066321, 0.98522814,  112, 1.120e+02)\n",
      " ( 49, 120,  0,  2.00722253, 0.99107606,  108, 1.080e+02)\n",
      " ( 50,  51,  3, -5.73297262, 0.98522814,  105, 1.050e+02)\n",
      " ( -1,  -1, -2, -2.        , 0.        ,    2, 2.000e+00)\n",
      " ( 52, 119,  1, -0.56158885, 0.98025955,  103, 1.030e+02)\n",
      " ( 53, 118,  0,  1.87505454, 0.9891571 ,   98, 9.800e+01)\n",
      " ( 54, 107,  0,  1.57106811, 0.99351614,   95, 9.500e+01)\n",
      " ( 55, 106,  1, -0.57258016, 0.97244971,   77, 7.700e+01)\n",
      " ( 56, 105,  0,  1.54992121, 0.96261471,   75, 7.500e+01)\n",
      " ( 57,  58,  2, -0.59436709, 0.97255232,   72, 7.200e+01)\n",
      " ( -1,  -1, -2, -2.        , 0.        ,    2, 2.000e+00)\n",
      " ( 59,  76,  1, -0.82977709, 0.96197806,   70, 7.000e+01)\n",
      " ( 60,  75,  3,  0.94639584, 0.83664074,   30, 3.000e+01)\n",
      " ( 61,  74,  3,  0.41708757, 0.79732651,   29, 2.900e+01)\n",
      " ( 62,  73,  3,  0.29747133, 0.88654089,   23, 2.300e+01)\n",
      " ( 63,  68,  1, -1.17930108, 0.72192809,   20, 2.000e+01)\n",
      " ( 64,  65,  1, -1.37055004, 0.98522814,    7, 7.000e+00)\n",
      " ( -1,  -1, -2, -2.        , 0.        ,    3, 3.000e+00)\n",
      " ( 66,  67,  2,  0.09868871, 0.81127812,    4, 4.000e+00)\n",
      " ( -1,  -1, -2, -2.        , 0.        ,    3, 3.000e+00)\n",
      " ( -1,  -1, -2, -2.        , 0.        ,    1, 1.000e+00)\n",
      " ( 69,  70,  2,  0.07768702, 0.39124356,   13, 1.300e+01)\n",
      " ( -1,  -1, -2, -2.        , 0.        ,   10, 1.000e+01)\n",
      " ( 71,  72,  0,  1.06089956, 0.91829583,    3, 3.000e+00)\n",
      " ( -1,  -1, -2, -2.        , 0.        ,    2, 2.000e+00)\n",
      " ( -1,  -1, -2, -2.        , 0.        ,    1, 1.000e+00)\n",
      " ( -1,  -1, -2, -2.        , 0.        ,    3, 3.000e+00)\n",
      " ( -1,  -1, -2, -2.        , 0.        ,    6, 6.000e+00)\n",
      " ( -1,  -1, -2, -2.        , 0.        ,    1, 1.000e+00)\n",
      " ( 77, 104,  3,  0.69114012, 0.99819588,   40, 4.000e+01)\n",
      " ( 78, 103,  1, -0.60335585, 0.99777247,   36, 3.600e+01)\n",
      " ( 79, 100,  1, -0.65611419, 0.98999279,   34, 3.400e+01)\n",
      " ( 80,  81,  1, -0.80779445, 1.        ,   28, 2.800e+01)\n",
      " ( -1,  -1, -2, -2.        , 0.        ,    2, 2.000e+00)\n",
      " ( 82,  93,  0,  1.174564  , 0.99572745,   26, 2.600e+01)\n",
      " ( 83,  92,  1, -0.69128647, 0.91829583,   18, 1.800e+01)\n",
      " ( 84,  89,  1, -0.74624306, 0.98522814,   14, 1.400e+01)\n",
      " ( 85,  86,  3,  0.32313435, 0.76420451,    9, 9.000e+00)\n",
      " ( -1,  -1, -2, -2.        , 0.        ,    6, 6.000e+00)\n",
      " ( 87,  88,  1, -0.7682257 , 0.91829583,    3, 3.000e+00)\n",
      " ( -1,  -1, -2, -2.        , 0.        ,    2, 2.000e+00)\n",
      " ( -1,  -1, -2, -2.        , 0.        ,    1, 1.000e+00)\n",
      " ( 90,  91,  0, -0.05988518, 0.72192809,    5, 5.000e+00)\n",
      " ( -1,  -1, -2, -2.        , 0.        ,    1, 1.000e+00)\n",
      " ( -1,  -1, -2, -2.        , 0.        ,    4, 4.000e+00)\n",
      " ( -1,  -1, -2, -2.        , 0.        ,    4, 4.000e+00)\n",
      " ( 94,  99,  2, -0.36684875, 0.81127812,    8, 8.000e+00)\n",
      " ( 95,  96,  1, -0.73525175, 1.        ,    4, 4.000e+00)\n",
      " ( -1,  -1, -2, -2.        , 0.        ,    1, 1.000e+00)\n",
      " ( 97,  98,  1, -0.67809686, 0.91829583,    3, 3.000e+00)\n",
      " ( -1,  -1, -2, -2.        , 0.        ,    2, 2.000e+00)\n",
      " ( -1,  -1, -2, -2.        , 0.        ,    1, 1.000e+00)\n",
      " ( -1,  -1, -2, -2.        , 0.        ,    4, 4.000e+00)\n",
      " (101, 102,  0,  1.02124915, 0.65002242,    6, 6.000e+00)\n",
      " ( -1,  -1, -2, -2.        , 0.        ,    5, 5.000e+00)\n",
      " ( -1,  -1, -2, -2.        , 0.        ,    1, 1.000e+00)\n",
      " ( -1,  -1, -2, -2.        , 0.        ,    2, 2.000e+00)\n",
      " ( -1,  -1, -2, -2.        , 0.        ,    4, 4.000e+00)\n",
      " ( -1,  -1, -2, -2.        , 0.        ,    3, 3.000e+00)\n",
      " ( -1,  -1, -2, -2.        , 0.        ,    2, 2.000e+00)\n",
      " (108, 109,  0,  1.64243877, 0.91829583,   18, 1.800e+01)\n",
      " ( -1,  -1, -2, -2.        , 0.        ,    5, 5.000e+00)\n",
      " (110, 113,  3, -0.34964634, 0.99572745,   13, 1.300e+01)\n",
      " (111, 112,  1, -1.21007681, 0.72192809,    5, 5.000e+00)\n",
      " ( -1,  -1, -2, -2.        , 0.        ,    1, 1.000e+00)\n",
      " ( -1,  -1, -2, -2.        , 0.        ,    4, 4.000e+00)\n",
      " (114, 117,  1, -1.21667159, 0.81127812,    8, 8.000e+00)\n",
      " (115, 116,  1, -1.34636921, 0.91829583,    3, 3.000e+00)\n",
      " ( -1,  -1, -2, -2.        , 0.        ,    1, 1.000e+00)\n",
      " ( -1,  -1, -2, -2.        , 0.        ,    2, 2.000e+00)\n",
      " ( -1,  -1, -2, -2.        , 0.        ,    5, 5.000e+00)\n",
      " ( -1,  -1, -2, -2.        , 0.        ,    3, 3.000e+00)\n",
      " ( -1,  -1, -2, -2.        , 0.        ,    5, 5.000e+00)\n",
      " ( -1,  -1, -2, -2.        , 0.        ,    3, 3.000e+00)\n",
      " ( -1,  -1, -2, -2.        , 0.        ,    4, 4.000e+00)\n",
      " (123, 124,  3,  0.54059741, 0.72192809,   10, 1.000e+01)\n",
      " ( -1,  -1, -2, -2.        , 0.        ,    8, 8.000e+00)\n",
      " ( -1,  -1, -2, -2.        , 0.        ,    2, 2.000e+00)\n",
      " (126, 167,  1, -0.18348742, 0.85611463,   82, 8.200e+01)\n",
      " (127, 132,  1, -0.45607217, 0.83049552,   80, 8.000e+01)\n",
      " (128, 131,  0, -0.19733991, 0.35335934,   15, 1.500e+01)\n",
      " (129, 130,  0, -0.32686456, 1.        ,    2, 2.000e+00)\n",
      " ( -1,  -1, -2, -2.        , 0.        ,    1, 1.000e+00)\n",
      " ( -1,  -1, -2, -2.        , 0.        ,    1, 1.000e+00)\n",
      " ( -1,  -1, -2, -2.        , 0.        ,   13, 1.300e+01)\n",
      " (133, 154,  0,  0.68025568, 0.89049164,   65, 6.500e+01)\n",
      " (134, 143,  1, -0.3989173 , 0.74014704,   43, 4.300e+01)\n",
      " (135, 136,  3, -0.82310757, 1.        ,    8, 8.000e+00)\n",
      " ( -1,  -1, -2, -2.        , 0.        ,    1, 1.000e+00)\n",
      " (137, 138,  1, -0.41870168, 0.98522814,    7, 7.000e+00)\n",
      " ( -1,  -1, -2, -2.        , 0.        ,    2, 2.000e+00)\n",
      " (139, 140,  3,  0.13658906, 0.97095059,    5, 5.000e+00)\n",
      " ( -1,  -1, -2, -2.        , 0.        ,    2, 2.000e+00)\n",
      " (141, 142,  2, -0.21983692, 0.91829583,    3, 3.000e+00)\n",
      " ( -1,  -1, -2, -2.        , 0.        ,    1, 1.000e+00)\n",
      " ( -1,  -1, -2, -2.        , 0.        ,    2, 2.000e+00)\n",
      " (144, 145,  1, -0.24064229, 0.59167278,   35, 3.500e+01)\n",
      " ( -1,  -1, -2, -2.        , 0.        ,   21, 2.100e+01)\n",
      " (146, 151,  0, -0.20791335, 0.94028596,   14, 1.400e+01)\n",
      " (147, 150,  1, -0.21865965, 0.54356444,    8, 8.000e+00)\n",
      " (148, 149,  3, -0.08920787, 1.        ,    2, 2.000e+00)\n",
      " ( -1,  -1, -2, -2.        , 0.        ,    1, 1.000e+00)\n",
      " ( -1,  -1, -2, -2.        , 0.        ,    1, 1.000e+00)\n",
      " ( -1,  -1, -2, -2.        , 0.        ,    6, 6.000e+00)\n",
      " (152, 153,  3,  0.26381864, 0.91829583,    6, 6.000e+00)\n",
      " ( -1,  -1, -2, -2.        , 0.        ,    2, 2.000e+00)\n",
      " ( -1,  -1, -2, -2.        , 0.        ,    4, 4.000e+00)\n",
      " (155, 156,  2, -0.56636482, 1.        ,   22, 2.200e+01)\n",
      " ( -1,  -1, -2, -2.        , 0.        ,    7, 7.000e+00)\n",
      " (157, 166,  3, -0.10850188, 0.83664074,   15, 1.500e+01)\n",
      " (158, 165,  2, -0.43335411, 1.        ,    8, 8.000e+00)\n",
      " (159, 160,  3, -0.88176554, 0.91829583,    6, 6.000e+00)\n",
      " ( -1,  -1, -2, -2.        , 0.        ,    1, 1.000e+00)\n",
      " (161, 162,  2, -0.52786171, 0.72192809,    5, 5.000e+00)\n",
      " ( -1,  -1, -2, -2.        , 0.        ,    3, 3.000e+00)\n",
      " (163, 164,  1, -0.3197798 , 1.        ,    2, 2.000e+00)\n",
      " ( -1,  -1, -2, -2.        , 0.        ,    1, 1.000e+00)\n",
      " ( -1,  -1, -2, -2.        , 0.        ,    1, 1.000e+00)\n",
      " ( -1,  -1, -2, -2.        , 0.        ,    2, 2.000e+00)\n",
      " ( -1,  -1, -2, -2.        , 0.        ,    7, 7.000e+00)\n",
      " ( -1,  -1, -2, -2.        , 0.        ,    2, 2.000e+00)\n",
      " (169, 170,  3,  0.28786436, 0.86312057,   28, 2.800e+01)\n",
      " ( -1,  -1, -2, -2.        , 0.        ,   10, 1.000e+01)\n",
      " (171, 172,  2,  0.76024199, 0.99107606,   18, 1.800e+01)\n",
      " ( -1,  -1, -2, -2.        , 0.        ,    3, 3.000e+00)\n",
      " (173, 180,  1, -0.28021105, 0.99679163,   15, 1.500e+01)\n",
      " (174, 179,  1, -0.46486524, 0.8812909 ,   10, 1.000e+01)\n",
      " (175, 176,  1, -0.66710553, 1.        ,    6, 6.000e+00)\n",
      " ( -1,  -1, -2, -2.        , 0.        ,    2, 2.000e+00)\n",
      " (177, 178,  2,  0.83374789, 0.81127812,    4, 4.000e+00)\n",
      " ( -1,  -1, -2, -2.        , 0.        ,    1, 1.000e+00)\n",
      " ( -1,  -1, -2, -2.        , 0.        ,    3, 3.000e+00)\n",
      " ( -1,  -1, -2, -2.        , 0.        ,    4, 4.000e+00)\n",
      " (181, 182,  3,  0.38071074, 0.72192809,    5, 5.000e+00)\n",
      " ( -1,  -1, -2, -2.        , 0.        ,    1, 1.000e+00)\n",
      " ( -1,  -1, -2, -2.        , 0.        ,    4, 4.000e+00)\n",
      " (184, 185,  1, -1.58597994, 0.5626665 ,  235, 2.350e+02)\n",
      " ( -1,  -1, -2, -2.        , 0.        ,   43, 4.300e+01)\n",
      " (186, 187,  0, -0.55419356, 0.63778696,  192, 1.920e+02)\n",
      " ( -1,  -1, -2, -2.        , 0.        ,   16, 1.600e+01)\n",
      " (188, 189,  1, -1.56619561, 0.67155148,  176, 1.760e+02)\n",
      " ( -1,  -1, -2, -2.        , 0.        ,    2, 2.000e+00)\n",
      " (190, 255,  2,  2.63289273, 0.65002242,  174, 1.740e+02)\n",
      " (191, 192,  2,  1.16977495, 0.69709879,  149, 1.490e+02)\n",
      " ( -1,  -1, -2, -2.        , 0.        ,    9, 9.000e+00)\n",
      " (193, 224,  3,  0.50811353, 0.72192809,  140, 1.400e+02)\n",
      " (194, 195,  2,  1.19077665, 0.84975114,   58, 5.800e+01)\n",
      " ( -1,  -1, -2, -2.        , 0.        ,    2, 2.000e+00)\n",
      " (196, 201,  0, -0.50661305, 0.81127812,   56, 5.600e+01)\n",
      " (197, 198,  1, -0.60775241, 0.97095059,    5, 5.000e+00)\n",
      " ( -1,  -1, -2, -2.        , 0.        ,    2, 2.000e+00)\n",
      " (199, 200,  3,  0.45544814, 0.91829583,    3, 3.000e+00)\n",
      " ( -1,  -1, -2, -2.        , 0.        ,    2, 2.000e+00)\n",
      " ( -1,  -1, -2, -2.        , 0.        ,    1, 1.000e+00)\n",
      " (202, 203,  0, -0.4643193 , 0.75221217,   51, 5.100e+01)\n",
      " ( -1,  -1, -2, -2.        , 0.        ,    9, 9.000e+00)\n",
      " (204, 215,  1, -0.61654547, 0.8296071 ,   42, 4.200e+01)\n",
      " (205, 206,  1, -1.52223033, 0.60518658,   27, 2.700e+01)\n",
      " ( -1,  -1, -2, -2.        , 0.        ,    1, 1.000e+00)\n",
      " (207, 210,  3, -1.71791416, 0.51594693,   26, 2.600e+01)\n",
      " (208, 209,  3, -2.32870448, 0.91829583,    6, 6.000e+00)\n",
      " ( -1,  -1, -2, -2.        , 0.        ,    4, 4.000e+00)\n",
      " ( -1,  -1, -2, -2.        , 0.        ,    2, 2.000e+00)\n",
      " (211, 212,  3,  0.49689032, 0.28639696,   20, 2.000e+01)\n",
      " ( -1,  -1, -2, -2.        , 0.        ,   18, 1.800e+01)\n",
      " (213, 214,  0, -0.3638716 , 1.        ,    2, 2.000e+00)\n",
      " ( -1,  -1, -2, -2.        , 0.        ,    1, 1.000e+00)\n",
      " ( -1,  -1, -2, -2.        , 0.        ,    1, 1.000e+00)\n",
      " (216, 217,  1, -0.48904614, 0.99679163,   15, 1.500e+01)\n",
      " ( -1,  -1, -2, -2.        , 0.        ,    4, 4.000e+00)\n",
      " (218, 223,  2,  1.53380424, 0.84535094,   11, 1.100e+01)\n",
      " (219, 220,  3,  0.34881929, 0.72192809,   10, 1.000e+01)\n",
      " ( -1,  -1, -2, -2.        , 0.        ,    6, 6.000e+00)\n",
      " (221, 222,  3,  0.40029334, 1.        ,    4, 4.000e+00)\n",
      " ( -1,  -1, -2, -2.        , 0.        ,    2, 2.000e+00)\n",
      " ( -1,  -1, -2, -2.        , 0.        ,    2, 2.000e+00)\n",
      " ( -1,  -1, -2, -2.        , 0.        ,    1, 1.000e+00)\n",
      " (225, 240,  1, -0.87154409, 0.60060858,   82, 8.200e+01)\n",
      " (226, 227,  0, -0.4299556 , 0.82381163,   31, 3.100e+01)\n",
      " ( -1,  -1, -2, -2.        , 0.        ,    7, 7.000e+00)\n",
      " (228, 239,  1, -0.91770765, 0.91829583,   24, 2.400e+01)\n",
      " (229, 230,  2,  2.188357  , 0.84535094,   22, 2.200e+01)\n",
      " ( -1,  -1, -2, -2.        , 0.        ,    7, 7.000e+00)\n",
      " (231, 238,  3,  0.99029136, 0.97095059,   15, 1.500e+01)\n",
      " (232, 233,  2,  2.32486796, 0.99403021,   11, 1.100e+01)\n",
      " ( -1,  -1, -2, -2.        , 0.        ,    4, 4.000e+00)\n",
      " (234, 237,  1, -1.35076571, 0.86312057,    7, 7.000e+00)\n",
      " (235, 236,  2,  2.46137881, 0.91829583,    3, 3.000e+00)\n",
      " ( -1,  -1, -2, -2.        , 0.        ,    1, 1.000e+00)\n",
      " ( -1,  -1, -2, -2.        , 0.        ,    2, 2.000e+00)\n",
      " ( -1,  -1, -2, -2.        , 0.        ,    4, 4.000e+00)\n",
      " ( -1,  -1, -2, -2.        , 0.        ,    4, 4.000e+00)\n",
      " ( -1,  -1, -2, -2.        , 0.        ,    2, 2.000e+00)\n",
      " (241, 242,  1, -0.72645867, 0.39662777,   51, 5.100e+01)\n",
      " ( -1,  -1, -2, -2.        , 0.        ,   18, 1.800e+01)\n",
      " (243, 244,  1, -0.70667431, 0.53283506,   33, 3.300e+01)\n",
      " ( -1,  -1, -2, -2.        , 0.        ,    1, 1.000e+00)\n",
      " (245, 254,  0, -0.40087865, 0.44886449,   32, 3.200e+01)\n",
      " (246, 253,  0, -0.41145208, 0.67229482,   17, 1.700e+01)\n",
      " (247, 252,  3,  1.61129797, 0.54356444,   16, 1.600e+01)\n",
      " (248, 251,  1, -0.64732113, 0.35335934,   15, 1.500e+01)\n",
      " (249, 250,  0, -0.4511025 , 1.        ,    2, 2.000e+00)\n",
      " ( -1,  -1, -2, -2.        , 0.        ,    1, 1.000e+00)\n",
      " ( -1,  -1, -2, -2.        , 0.        ,    1, 1.000e+00)\n",
      " ( -1,  -1, -2, -2.        , 0.        ,   13, 1.300e+01)\n",
      " ( -1,  -1, -2, -2.        , 0.        ,    1, 1.000e+00)\n",
      " ( -1,  -1, -2, -2.        , 0.        ,    1, 1.000e+00)\n",
      " ( -1,  -1, -2, -2.        , 0.        ,   15, 1.500e+01)\n",
      " (256, 257,  2,  3.33994961, 0.24229219,   25, 2.500e+01)\n",
      " ( -1,  -1, -2, -2.        , 0.        ,   22, 2.200e+01)\n",
      " (258, 259,  0, -0.49075289, 0.91829583,    3, 3.000e+00)\n",
      " ( -1,  -1, -2, -2.        , 0.        ,    2, 2.000e+00)\n",
      " ( -1,  -1, -2, -2.        , 0.        ,    1, 1.000e+00)\n",
      " (261, 322,  0, -0.53304666, 0.88149186, 1216, 1.216e+03)\n",
      " (262, 267,  3, -0.39338239, 0.98943402,   91, 9.100e+01)\n",
      " (263, 264,  1,  0.98598912, 0.59167278,   14, 1.400e+01)\n",
      " ( -1,  -1, -2, -2.        , 0.        ,    9, 9.000e+00)\n",
      " (265, 266,  3, -0.98270637, 0.97095059,    5, 5.000e+00)\n",
      " ( -1,  -1, -2, -2.        , 0.        ,    2, 2.000e+00)\n",
      " ( -1,  -1, -2, -2.        , 0.        ,    3, 3.000e+00)\n",
      " (268, 297,  2, -0.55236369, 0.9456603 ,   77, 7.700e+01)\n",
      " (269, 292,  0, -0.54362011, 1.        ,   42, 4.200e+01)\n",
      " (270, 271,  1,  0.71780092, 0.9744894 ,   32, 3.200e+01)\n",
      " ( -1,  -1, -2, -2.        , 0.        ,    3, 3.000e+00)\n",
      " (272, 273,  3, -0.14173291, 0.92936363,   29, 2.900e+01)\n",
      " ( -1,  -1, -2, -2.        , 0.        ,    4, 4.000e+00)\n",
      " (274, 281,  3,  0.08811321, 0.97095059,   25, 2.500e+01)\n",
      " (275, 276,  1,  0.89586031, 0.91829583,    6, 6.000e+00)\n",
      " ( -1,  -1, -2, -2.        , 0.        ,    1, 1.000e+00)\n",
      " (277, 280,  2, -0.60136765, 0.72192809,    5, 5.000e+00)\n",
      " (278, 279,  3,  0.01306421, 1.        ,    2, 2.000e+00)\n",
      " ( -1,  -1, -2, -2.        , 0.        ,    1, 1.000e+00)\n",
      " ( -1,  -1, -2, -2.        , 0.        ,    1, 1.000e+00)\n",
      " ( -1,  -1, -2, -2.        , 0.        ,    3, 3.000e+00)\n",
      " (282, 283,  3,  0.18280821, 0.89974376,   19, 1.900e+01)\n",
      " ( -1,  -1, -2, -2.        , 0.        ,    5, 5.000e+00)\n",
      " (284, 291,  1,  1.03435093, 0.98522814,   14, 1.400e+01)\n",
      " (285, 288,  1,  0.97499779, 0.99403021,   11, 1.100e+01)\n",
      " (286, 287,  3,  0.21233317, 0.72192809,    5, 5.000e+00)\n",
      " ( -1,  -1, -2, -2.        , 0.        ,    1, 1.000e+00)\n",
      " ( -1,  -1, -2, -2.        , 0.        ,    4, 4.000e+00)\n",
      " (289, 290,  2, -0.60136765, 0.65002242,    6, 6.000e+00)\n",
      " ( -1,  -1, -2, -2.        , 0.        ,    1, 1.000e+00)\n",
      " ( -1,  -1, -2, -2.        , 0.        ,    5, 5.000e+00)\n",
      " ( -1,  -1, -2, -2.        , 0.        ,    3, 3.000e+00)\n",
      " (293, 294,  1,  0.97719607, 0.72192809,   10, 1.000e+01)\n",
      " ( -1,  -1, -2, -2.        , 0.        ,    6, 6.000e+00)\n",
      " (295, 296,  2, -0.59786737, 1.        ,    4, 4.000e+00)\n",
      " ( -1,  -1, -2, -2.        , 0.        ,    2, 2.000e+00)\n",
      " ( -1,  -1, -2, -2.        , 0.        ,    2, 2.000e+00)\n",
      " (298, 299,  2, -0.53836256, 0.72192809,   35, 3.500e+01)\n",
      " ( -1,  -1, -2, -2.        , 0.        ,    8, 8.000e+00)\n",
      " (300, 317,  2, -0.39135075, 0.82562653,   27, 2.700e+01)\n",
      " (301, 316,  2, -0.45785609, 0.93666738,   17, 1.700e+01)\n",
      " (302, 315,  2, -0.47885779, 0.83664074,   15, 1.500e+01)\n",
      " (303, 304,  1,  0.89586028, 0.91829583,   12, 1.200e+01)\n",
      " ( -1,  -1, -2, -2.        , 0.        ,    1, 1.000e+00)\n",
      " (305, 306,  1,  0.9090499 , 0.84535094,   11, 1.100e+01)\n",
      " ( -1,  -1, -2, -2.        , 0.        ,    3, 3.000e+00)\n",
      " (307, 308,  1,  0.91784295, 0.954434  ,    8, 8.000e+00)\n",
      " ( -1,  -1, -2, -2.        , 0.        ,    1, 1.000e+00)\n",
      " (309, 314,  0, -0.54890683, 0.86312057,    7, 7.000e+00)\n",
      " (310, 311,  3, -0.18871226, 1.        ,    4, 4.000e+00)\n",
      " ( -1,  -1, -2, -2.        , 0.        ,    1, 1.000e+00)\n",
      " (312, 313,  0, -0.55948028, 0.91829583,    3, 3.000e+00)\n",
      " ( -1,  -1, -2, -2.        , 0.        ,    2, 2.000e+00)\n",
      " ( -1,  -1, -2, -2.        , 0.        ,    1, 1.000e+00)\n",
      " ( -1,  -1, -2, -2.        , 0.        ,    3, 3.000e+00)\n",
      " ( -1,  -1, -2, -2.        , 0.        ,    3, 3.000e+00)\n",
      " ( -1,  -1, -2, -2.        , 0.        ,    2, 2.000e+00)\n",
      " (318, 319,  3,  0.75711304, 0.46899559,   10, 1.000e+01)\n",
      " ( -1,  -1, -2, -2.        , 0.        ,    8, 8.000e+00)\n",
      " (320, 321,  2, -0.09382678, 1.        ,    2, 2.000e+00)\n",
      " ( -1,  -1, -2, -2.        , 0.        ,    1, 1.000e+00)\n",
      " ( -1,  -1, -2, -2.        , 0.        ,    1, 1.000e+00)\n",
      " (323, 622,  2, -0.4753575 , 0.85423681, 1125, 1.125e+03)\n",
      " (324, 451,  3,  0.09579572, 0.7626471 ,  646, 6.460e+02)\n",
      " (325, 406,  0, -0.4114521 , 0.62548664,  339, 3.390e+02)\n",
      " (326, 405,  3,  0.04525542, 0.73146256,  166, 1.660e+02)\n",
      " (327, 404,  3,  0.04367012, 0.76683793,  152, 1.520e+02)\n",
      " (328, 403,  2, -0.52436143, 0.74780616,  150, 1.500e+02)\n",
      " (329, 338,  2, -0.59436709, 0.77838735,  139, 1.390e+02)\n",
      " (330, 331,  3, -0.5167377 , 0.47983202,   29, 2.900e+01)\n",
      " ( -1,  -1, -2, -2.        , 0.        ,   13, 1.300e+01)\n",
      " (332, 333,  3, -0.49799383, 0.69621226,   16, 1.600e+01)\n",
      " ( -1,  -1, -2, -2.        , 0.        ,    1, 1.000e+00)\n",
      " (334, 337,  2, -0.60136765, 0.56650951,   15, 1.500e+01)\n",
      " (335, 336,  3, -0.18422143, 0.97095059,    5, 5.000e+00)\n",
      " ( -1,  -1, -2, -2.        , 0.        ,    3, 3.000e+00)\n",
      " ( -1,  -1, -2, -2.        , 0.        ,    2, 2.000e+00)\n",
      " ( -1,  -1, -2, -2.        , 0.        ,   10, 1.000e+01)\n",
      " (339, 344,  3, -0.88573155, 0.83218427,  110, 1.100e+02)\n",
      " (340, 341,  2, -0.55586398, 0.65002242,    6, 6.000e+00)\n",
      " ( -1,  -1, -2, -2.        , 0.        ,    4, 4.000e+00)\n",
      " (342, 343,  0, -0.47489272, 1.        ,    2, 2.000e+00)\n",
      " ( -1,  -1, -2, -2.        , 0.        ,    1, 1.000e+00)\n",
      " ( -1,  -1, -2, -2.        , 0.        ,    1, 1.000e+00)\n",
      " (345, 348,  1,  0.40125085, 0.77934984,  104, 1.040e+02)\n",
      " (346, 347,  0, -0.45374586, 0.97095059,    5, 5.000e+00)\n",
      " ( -1,  -1, -2, -2.        , 0.        ,    3, 3.000e+00)\n",
      " ( -1,  -1, -2, -2.        , 0.        ,    2, 2.000e+00)\n",
      " (349, 350,  1,  0.6672408 , 0.74551784,   99, 9.900e+01)\n",
      " ( -1,  -1, -2, -2.        , 0.        ,    7, 7.000e+00)\n",
      " (351, 400,  2, -0.531362  , 0.77496727,   92, 9.200e+01)\n",
      " (352, 361,  2, -0.58736652, 0.74808811,   89, 8.900e+01)\n",
      " (353, 354,  3, -0.30986591, 0.9612366 ,   13, 1.300e+01)\n",
      " ( -1,  -1, -2, -2.        , 0.        ,    3, 3.000e+00)\n",
      " (355, 356,  1,  0.8716794 , 1.        ,   10, 1.000e+01)\n",
      " ( -1,  -1, -2, -2.        , 0.        ,    3, 3.000e+00)\n",
      " (357, 360,  0, -0.51454315, 0.86312057,    7, 7.000e+00)\n",
      " (358, 359,  3, -0.00650951, 0.91829583,    3, 3.000e+00)\n",
      " ( -1,  -1, -2, -2.        , 0.        ,    2, 2.000e+00)\n",
      " ( -1,  -1, -2, -2.        , 0.        ,    1, 1.000e+00)\n",
      " ( -1,  -1, -2, -2.        , 0.        ,    4, 4.000e+00)\n",
      " (362, 363,  3, -0.74443981, 0.68920199,   76, 7.600e+01)\n",
      " ( -1,  -1, -2, -2.        , 0.        ,    1, 1.000e+00)\n",
      " (364, 365,  3, -0.48682129, 0.66527352,   75, 7.500e+01)\n",
      " ( -1,  -1, -2, -2.        , 0.        ,    9, 9.000e+00)\n",
      " (366, 367,  3, -0.43601461, 0.71582593,   66, 6.600e+01)\n",
      " ( -1,  -1, -2, -2.        , 0.        ,    2, 2.000e+00)\n",
      " (368, 369,  2, -0.58036596, 0.66197606,   64, 6.400e+01)\n",
      " ( -1,  -1, -2, -2.        , 0.        ,    7, 7.000e+00)\n",
      " (370, 399,  1,  0.93323079, 0.707669  ,   57, 5.700e+01)\n",
      " (371, 372,  0, -0.52247322, 0.74441318,   52, 5.200e+01)\n",
      " ( -1,  -1, -2, -2.        , 0.        ,    1, 1.000e+00)\n",
      " (373, 374,  0, -0.51189977, 0.71401528,   51, 5.100e+01)\n",
      " ( -1,  -1, -2, -2.        , 0.        ,    8, 8.000e+00)\n",
      " (375, 398,  3,  0.03470244, 0.78244413,   43, 4.300e+01)\n",
      " (376, 397,  3, -0.08052499, 0.74959526,   42, 4.200e+01)\n",
      " (377, 396,  3, -0.08928825, 0.8812909 ,   30, 3.000e+01)\n",
      " (378, 391,  0, -0.48282281, 0.84975114,   29, 2.900e+01)\n",
      " (379, 380,  1,  0.88047245, 0.97095059,   15, 1.500e+01)\n",
      " ( -1,  -1, -2, -2.        , 0.        ,    2, 2.000e+00)\n",
      " (381, 382,  3, -0.27655816, 0.89049164,   13, 1.300e+01)\n",
      " ( -1,  -1, -2, -2.        , 0.        ,    1, 1.000e+00)\n",
      " (383, 384,  2, -0.57336539, 0.81127812,   12, 1.200e+01)\n",
      " ( -1,  -1, -2, -2.        , 0.        ,    1, 1.000e+00)\n",
      " (385, 390,  3, -0.15437525, 0.68403844,   11, 1.100e+01)\n",
      " (386, 389,  1,  0.91124815, 0.97095059,    5, 5.000e+00)\n",
      " (387, 388,  2, -0.56636482, 0.91829583,    3, 3.000e+00)\n",
      " ( -1,  -1, -2, -2.        , 0.        ,    1, 1.000e+00)\n",
      " ( -1,  -1, -2, -2.        , 0.        ,    2, 2.000e+00)\n",
      " ( -1,  -1, -2, -2.        , 0.        ,    2, 2.000e+00)\n",
      " ( -1,  -1, -2, -2.        , 0.        ,    6, 6.000e+00)\n",
      " (392, 393,  0, -0.42731224, 0.59167278,   14, 1.400e+01)\n",
      " ( -1,  -1, -2, -2.        , 0.        ,   10, 1.000e+01)\n",
      " (394, 395,  0, -0.42202552, 1.        ,    4, 4.000e+00)\n",
      " ( -1,  -1, -2, -2.        , 0.        ,    2, 2.000e+00)\n",
      " ( -1,  -1, -2, -2.        , 0.        ,    2, 2.000e+00)\n",
      " ( -1,  -1, -2, -2.        , 0.        ,    1, 1.000e+00)\n",
      " ( -1,  -1, -2, -2.        , 0.        ,   12, 1.200e+01)\n",
      " ( -1,  -1, -2, -2.        , 0.        ,    1, 1.000e+00)\n",
      " ( -1,  -1, -2, -2.        , 0.        ,    5, 5.000e+00)\n",
      " (401, 402,  1,  0.8035332 , 0.91829583,    3, 3.000e+00)\n",
      " ( -1,  -1, -2, -2.        , 0.        ,    1, 1.000e+00)\n",
      " ( -1,  -1, -2, -2.        , 0.        ,    2, 2.000e+00)\n",
      " ( -1,  -1, -2, -2.        , 0.        ,   11, 1.100e+01)\n",
      " ( -1,  -1, -2, -2.        , 0.        ,    2, 2.000e+00)\n",
      " ( -1,  -1, -2, -2.        , 0.        ,   14, 1.400e+01)\n",
      " (407, 432,  1,  0.50676754, 0.49939268,  173, 1.730e+02)\n",
      " (408, 427,  0,  0.06963947, 0.73828487,   72, 7.200e+01)\n",
      " (409, 410,  3, -0.50803143, 0.90973612,   40, 4.000e+01)\n",
      " ( -1,  -1, -2, -2.        , 0.        ,   10, 1.000e+01)\n",
      " (411, 426,  3,  0.05398633, 0.98713777,   30, 3.000e+01)\n",
      " (412, 413,  1,  0.21879493, 0.99884554,   25, 2.500e+01)\n",
      " ( -1,  -1, -2, -2.        , 0.        ,    5, 5.000e+00)\n",
      " (414, 425,  3,  0.02351265, 0.97095059,   20, 2.000e+01)\n",
      " (415, 424,  2, -0.54536313, 0.91829583,   18, 1.800e+01)\n",
      " (416, 417,  2, -0.59436709, 1.        ,   12, 1.200e+01)\n",
      " ( -1,  -1, -2, -2.        , 0.        ,    2, 2.000e+00)\n",
      " (418, 419,  1,  0.31991509, 0.97095059,   10, 1.000e+01)\n",
      " ( -1,  -1, -2, -2.        , 0.        ,    2, 2.000e+00)\n",
      " (420, 421,  0, -0.06781526, 0.81127812,    8, 8.000e+00)\n",
      " ( -1,  -1, -2, -2.        , 0.        ,    5, 5.000e+00)\n",
      " (422, 423,  1,  0.40784565, 0.91829583,    3, 3.000e+00)\n",
      " ( -1,  -1, -2, -2.        , 0.        ,    2, 2.000e+00)\n",
      " ( -1,  -1, -2, -2.        , 0.        ,    1, 1.000e+00)\n",
      " ( -1,  -1, -2, -2.        , 0.        ,    6, 6.000e+00)\n",
      " ( -1,  -1, -2, -2.        , 0.        ,    2, 2.000e+00)\n",
      " ( -1,  -1, -2, -2.        , 0.        ,    5, 5.000e+00)\n",
      " (428, 429,  0,  0.24410124, 0.33729007,   32, 3.200e+01)\n",
      " ( -1,  -1, -2, -2.        , 0.        ,   18, 1.800e+01)\n",
      " (430, 431,  0,  0.25996141, 0.59167278,   14, 1.400e+01)\n",
      " ( -1,  -1, -2, -2.        , 0.        ,    2, 2.000e+00)\n",
      " ( -1,  -1, -2, -2.        , 0.        ,   12, 1.200e+01)\n",
      " (433, 440,  3, -0.04662087, 0.24047341,  101, 1.010e+02)\n",
      " (434, 435,  2, -0.54536313, 0.09794058,   79, 7.900e+01)\n",
      " ( -1,  -1, -2, -2.        , 0.        ,   60, 6.000e+01)\n",
      " (436, 439,  0, -0.3770884 , 0.29747225,   19, 1.900e+01)\n",
      " (437, 438,  0, -0.38766184, 0.72192809,    5, 5.000e+00)\n",
      " ( -1,  -1, -2, -2.        , 0.        ,    4, 4.000e+00)\n",
      " ( -1,  -1, -2, -2.        , 0.        ,    1, 1.000e+00)\n",
      " ( -1,  -1, -2, -2.        , 0.        ,   14, 1.400e+01)\n",
      " (441, 442,  3, -0.04455092, 0.5746357 ,   22, 2.200e+01)\n",
      " ( -1,  -1, -2, -2.        , 0.        ,    1, 1.000e+00)\n",
      " (443, 450,  2, -0.55936426, 0.45371634,   21, 2.100e+01)\n",
      " (444, 445,  1,  0.66064602, 0.65002242,   12, 1.200e+01)\n",
      " ( -1,  -1, -2, -2.        , 0.        ,    1, 1.000e+00)\n",
      " (446, 447,  3,  0.07172553, 0.43949699,   11, 1.100e+01)\n",
      " ( -1,  -1, -2, -2.        , 0.        ,    8, 8.000e+00)\n",
      " (448, 449,  3,  0.08217756, 0.91829583,    3, 3.000e+00)\n",
      " ( -1,  -1, -2, -2.        , 0.        ,    1, 1.000e+00)\n",
      " ( -1,  -1, -2, -2.        , 0.        ,    2, 2.000e+00)\n",
      " ( -1,  -1, -2, -2.        , 0.        ,    9, 9.000e+00)\n",
      " (452, 531,  0, -0.4643193 , 0.87276782,  307, 3.070e+02)\n",
      " (453, 518,  2, -0.531362  , 0.94292706,  136, 1.360e+02)\n",
      " (454, 517,  3,  0.67285004, 0.88797632,  108, 1.080e+02)\n",
      " (455, 466,  3,  0.20551898, 0.90817835,  102, 1.020e+02)\n",
      " (456, 465,  3,  0.16070911, 0.67694187,   28, 2.800e+01)\n",
      " (457, 458,  1,  0.85409328, 0.87398105,   17, 1.700e+01)\n",
      " ( -1,  -1, -2, -2.        , 0.        ,    1, 1.000e+00)\n",
      " (459, 460,  1,  0.88926551, 0.81127812,   16, 1.600e+01)\n",
      " ( -1,  -1, -2, -2.        , 0.        ,    6, 6.000e+00)\n",
      " (461, 462,  3,  0.10305991, 0.97095059,   10, 1.000e+01)\n",
      " ( -1,  -1, -2, -2.        , 0.        ,    2, 2.000e+00)\n",
      " (463, 464,  3,  0.15258773, 0.81127812,    8, 8.000e+00)\n",
      " ( -1,  -1, -2, -2.        , 0.        ,    6, 6.000e+00)\n",
      " ( -1,  -1, -2, -2.        , 0.        ,    2, 2.000e+00)\n",
      " ( -1,  -1, -2, -2.        , 0.        ,   11, 1.100e+01)\n",
      " (467, 468,  3,  0.22607534, 0.95688867,   74, 7.400e+01)\n",
      " ( -1,  -1, -2, -2.        , 0.        ,    4, 4.000e+00)\n",
      " (469, 470,  3,  0.24981419, 0.92752659,   70, 7.000e+01)\n",
      " ( -1,  -1, -2, -2.        , 0.        ,    4, 4.000e+00)\n",
      " (471, 472,  3,  0.25230357, 0.9456603 ,   66, 6.600e+01)\n",
      " ( -1,  -1, -2, -2.        , 0.        ,    2, 2.000e+00)\n",
      " (473, 474,  1,  0.82111934, 0.92836207,   64, 6.400e+01)\n",
      " ( -1,  -1, -2, -2.        , 0.        ,    5, 5.000e+00)\n",
      " (475, 516,  2, -0.53836256, 0.95285881,   59, 5.900e+01)\n",
      " (476, 513,  2, -0.55236369, 0.93484902,   57, 5.700e+01)\n",
      " (477, 486,  0, -0.51189977, 0.97807097,   46, 4.600e+01)\n",
      " (478, 483,  3,  0.37231806, 0.81127812,   16, 1.600e+01)\n",
      " (479, 482,  0, -0.51718649, 1.        ,    6, 6.000e+00)\n",
      " (480, 481,  3,  0.3163894 , 0.81127812,    4, 4.000e+00)\n",
      " ( -1,  -1, -2, -2.        , 0.        ,    3, 3.000e+00)\n",
      " ( -1,  -1, -2, -2.        , 0.        ,    1, 1.000e+00)\n",
      " ( -1,  -1, -2, -2.        , 0.        ,    2, 2.000e+00)\n",
      " (484, 485,  3,  0.53000021, 0.46899559,   10, 1.000e+01)\n",
      " ( -1,  -1, -2, -2.        , 0.        ,    9, 9.000e+00)\n",
      " ( -1,  -1, -2, -2.        , 0.        ,    1, 1.000e+00)\n",
      " (487, 488,  3,  0.25821406, 1.        ,   30, 3.000e+01)\n",
      " ( -1,  -1, -2, -2.        , 0.        ,    2, 2.000e+00)\n",
      " (489, 490,  3,  0.27368271, 0.99631652,   28, 2.800e+01)\n",
      " ( -1,  -1, -2, -2.        , 0.        ,    2, 2.000e+00)\n",
      " (491, 492,  3,  0.28006335, 1.        ,   26, 2.600e+01)\n",
      " ( -1,  -1, -2, -2.        , 0.        ,    3, 3.000e+00)\n",
      " (493, 496,  2, -0.60136765, 0.98769251,   23, 2.300e+01)\n",
      " (494, 495,  3,  0.51183894, 0.81127812,    4, 4.000e+00)\n",
      " ( -1,  -1, -2, -2.        , 0.        ,    3, 3.000e+00)\n",
      " ( -1,  -1, -2, -2.        , 0.        ,    1, 1.000e+00)\n",
      " (497, 512,  3,  0.53475454, 0.94945202,   19, 1.900e+01)\n",
      " (498, 511,  3,  0.44460218, 0.91829583,   18, 1.800e+01)\n",
      " (499, 502,  1,  0.88047245, 0.99572745,   13, 1.300e+01)\n",
      " (500, 501,  0, -0.48017946, 0.81127812,    4, 4.000e+00)\n",
      " ( -1,  -1, -2, -2.        , 0.        ,    3, 3.000e+00)\n",
      " ( -1,  -1, -2, -2.        , 0.        ,    1, 1.000e+00)\n",
      " (503, 510,  0, -0.48282281, 0.91829583,    9, 9.000e+00)\n",
      " (504, 505,  2, -0.5908668 , 0.81127812,    8, 8.000e+00)\n",
      " ( -1,  -1, -2, -2.        , 0.        ,    1, 1.000e+00)\n",
      " (506, 507,  2, -0.57336539, 0.59167278,    7, 7.000e+00)\n",
      " ( -1,  -1, -2, -2.        , 0.        ,    4, 4.000e+00)\n",
      " (508, 509,  2, -0.56636482, 0.91829583,    3, 3.000e+00)\n",
      " ( -1,  -1, -2, -2.        , 0.        ,    1, 1.000e+00)\n",
      " ( -1,  -1, -2, -2.        , 0.        ,    2, 2.000e+00)\n",
      " ( -1,  -1, -2, -2.        , 0.        ,    1, 1.000e+00)\n",
      " ( -1,  -1, -2, -2.        , 0.        ,    5, 5.000e+00)\n",
      " ( -1,  -1, -2, -2.        , 0.        ,    1, 1.000e+00)\n",
      " (514, 515,  1,  0.94861865, 0.43949699,   11, 1.100e+01)\n",
      " ( -1,  -1, -2, -2.        , 0.        ,   10, 1.000e+01)\n",
      " ( -1,  -1, -2, -2.        , 0.        ,    1, 1.000e+00)\n",
      " ( -1,  -1, -2, -2.        , 0.        ,    2, 2.000e+00)\n",
      " ( -1,  -1, -2, -2.        , 0.        ,    6, 6.000e+00)\n",
      " (519, 526,  3,  0.3644655 , 0.98522814,   28, 2.800e+01)\n",
      " (520, 525,  3,  0.19123359, 0.86312057,   14, 1.400e+01)\n",
      " (521, 522,  1,  0.86068806, 0.98522814,    7, 7.000e+00)\n",
      " ( -1,  -1, -2, -2.        , 0.        ,    3, 3.000e+00)\n",
      " (523, 524,  0, -0.52511659, 0.81127812,    4, 4.000e+00)\n",
      " ( -1,  -1, -2, -2.        , 0.        ,    1, 1.000e+00)\n",
      " ( -1,  -1, -2, -2.        , 0.        ,    3, 3.000e+00)\n",
      " ( -1,  -1, -2, -2.        , 0.        ,    7, 7.000e+00)\n",
      " (527, 528,  2, -0.50335974, 0.59167278,   14, 1.400e+01)\n",
      " ( -1,  -1, -2, -2.        , 0.        ,   10, 1.000e+01)\n",
      " (529, 530,  0, -0.48810953, 1.        ,    4, 4.000e+00)\n",
      " ( -1,  -1, -2, -2.        , 0.        ,    2, 2.000e+00)\n",
      " ( -1,  -1, -2, -2.        , 0.        ,    2, 2.000e+00)\n",
      " (532, 585,  0, -0.27399735, 0.79465107,  171, 1.710e+02)\n",
      " (533, 540,  3,  0.16784743, 0.69751953,  101, 1.010e+02)\n",
      " (534, 537,  1,  0.75517139, 1.        ,   10, 1.000e+01)\n",
      " (535, 536,  1,  0.16823486, 0.72192809,    5, 5.000e+00)\n",
      " ( -1,  -1, -2, -2.        , 0.        ,    1, 1.000e+00)\n",
      " ( -1,  -1, -2, -2.        , 0.        ,    4, 4.000e+00)\n",
      " (538, 539,  0, -0.39030521, 0.72192809,    5, 5.000e+00)\n",
      " ( -1,  -1, -2, -2.        , 0.        ,    4, 4.000e+00)\n",
      " ( -1,  -1, -2, -2.        , 0.        ,    1, 1.000e+00)\n",
      " (541, 542,  1,  0.67383561, 0.61938219,   91, 9.100e+01)\n",
      " ( -1,  -1, -2, -2.        , 0.        ,   14, 1.400e+01)\n",
      " (543, 546,  1,  0.68702519, 0.68403844,   77, 7.700e+01)\n",
      " (544, 545,  0, -0.30043095, 0.91829583,    3, 3.000e+00)\n",
      " ( -1,  -1, -2, -2.        , 0.        ,    2, 2.000e+00)\n",
      " ( -1,  -1, -2, -2.        , 0.        ,    1, 1.000e+00)\n",
      " (547, 584,  0, -0.3585849 , 0.63945713,   74, 7.400e+01)\n",
      " (548, 583,  3,  1.02683157, 0.70246655,   63, 6.300e+01)\n",
      " (549, 582,  0, -0.3638716 , 0.67439889,   62, 6.200e+01)\n",
      " (550, 575,  2, -0.531362  , 0.64363941,   61, 6.100e+01)\n",
      " (551, 552,  1,  0.7046113 , 0.76919283,   40, 4.000e+01)\n",
      " ( -1,  -1, -2, -2.        , 0.        ,    1, 1.000e+00)\n",
      " (553, 574,  0, -0.39559193, 0.73206669,   39, 3.900e+01)\n",
      " (554, 555,  3,  0.20971845, 0.83664074,   30, 3.000e+01)\n",
      " ( -1,  -1, -2, -2.        , 0.        ,    4, 4.000e+00)\n",
      " (556, 557,  3,  0.2317908 , 0.89049164,   26, 2.600e+01)\n",
      " ( -1,  -1, -2, -2.        , 0.        ,    1, 1.000e+00)\n",
      " (558, 567,  0, -0.43788569, 0.85545081,   25, 2.500e+01)\n",
      " (559, 566,  3,  0.44560501, 0.69621226,   16, 1.600e+01)\n",
      " (560, 565,  3,  0.37566236, 0.84535094,   11, 1.100e+01)\n",
      " (561, 562,  1,  0.9090499 , 0.50325833,    9, 9.000e+00)\n",
      " ( -1,  -1, -2, -2.        , 0.        ,    7, 7.000e+00)\n",
      " (563, 564,  2, -0.5908668 , 1.        ,    2, 2.000e+00)\n",
      " ( -1,  -1, -2, -2.        , 0.        ,    1, 1.000e+00)\n",
      " ( -1,  -1, -2, -2.        , 0.        ,    1, 1.000e+00)\n",
      " ( -1,  -1, -2, -2.        , 0.        ,    2, 2.000e+00)\n",
      " ( -1,  -1, -2, -2.        , 0.        ,    5, 5.000e+00)\n",
      " (568, 569,  0, -0.42731224, 0.99107606,    9, 9.000e+00)\n",
      " ( -1,  -1, -2, -2.        , 0.        ,    3, 3.000e+00)\n",
      " (570, 571,  3,  0.76292256, 0.65002242,    6, 6.000e+00)\n",
      " ( -1,  -1, -2, -2.        , 0.        ,    4, 4.000e+00)\n",
      " (572, 573,  1,  0.77495575, 1.        ,    2, 2.000e+00)\n",
      " ( -1,  -1, -2, -2.        , 0.        ,    1, 1.000e+00)\n",
      " ( -1,  -1, -2, -2.        , 0.        ,    1, 1.000e+00)\n",
      " ( -1,  -1, -2, -2.        , 0.        ,    9, 9.000e+00)\n",
      " (576, 581,  1,  0.72659394, 0.27619543,   21, 2.100e+01)\n",
      " (577, 578,  1,  0.71999916, 0.59167278,    7, 7.000e+00)\n",
      " ( -1,  -1, -2, -2.        , 0.        ,    5, 5.000e+00)\n",
      " (579, 580,  2, -0.49635918, 1.        ,    2, 2.000e+00)\n",
      " ( -1,  -1, -2, -2.        , 0.        ,    1, 1.000e+00)\n",
      " ( -1,  -1, -2, -2.        , 0.        ,    1, 1.000e+00)\n",
      " ( -1,  -1, -2, -2.        , 0.        ,   14, 1.400e+01)\n",
      " ( -1,  -1, -2, -2.        , 0.        ,    1, 1.000e+00)\n",
      " ( -1,  -1, -2, -2.        , 0.        ,    1, 1.000e+00)\n",
      " ( -1,  -1, -2, -2.        , 0.        ,   11, 1.100e+01)\n",
      " (586, 587,  3,  0.1461997 , 0.89805879,   70, 7.000e+01)\n",
      " ( -1,  -1, -2, -2.        , 0.        ,    6, 6.000e+00)\n",
      " (588, 589,  3,  0.16261969, 0.92836207,   64, 6.400e+01)\n",
      " ( -1,  -1, -2, -2.        , 0.        ,    3, 3.000e+00)\n",
      " (590, 621,  2, -0.49635918, 0.89486923,   61, 6.100e+01)\n",
      " (591, 596,  0, -0.19998327, 0.94142311,   53, 5.300e+01)\n",
      " (592, 595,  3,  0.46122923, 0.9456603 ,   11, 1.100e+01)\n",
      " (593, 594,  1,  0.49797449, 0.98522814,    7, 7.000e+00)\n",
      " ( -1,  -1, -2, -2.        , 0.        ,    3, 3.000e+00)\n",
      " ( -1,  -1, -2, -2.        , 0.        ,    4, 4.000e+00)\n",
      " ( -1,  -1, -2, -2.        , 0.        ,    4, 4.000e+00)\n",
      " (597, 620,  1,  0.59249982, 0.86312057,   42, 4.200e+01)\n",
      " (598, 599,  3,  0.23318774, 0.91829583,   36, 3.600e+01)\n",
      " ( -1,  -1, -2, -2.        , 0.        ,    4, 4.000e+00)\n",
      " (600, 619,  3,  1.15405434, 0.954434  ,   32, 3.200e+01)\n",
      " (601, 614,  3,  0.71141648, 0.97844933,   29, 2.900e+01)\n",
      " (602, 613,  3,  0.49288297, 0.91829583,   24, 2.400e+01)\n",
      " (603, 604,  2, -0.58386624, 0.99750255,   17, 1.700e+01)\n",
      " ( -1,  -1, -2, -2.        , 0.        ,    2, 2.000e+00)\n",
      " (605, 608,  2, -0.53836256, 0.97095059,   15, 1.500e+01)\n",
      " (606, 607,  1,  0.29133765, 0.54356444,    8, 8.000e+00)\n",
      " ( -1,  -1, -2, -2.        , 0.        ,    1, 1.000e+00)\n",
      " ( -1,  -1, -2, -2.        , 0.        ,    7, 7.000e+00)\n",
      " (609, 610,  0, -0.17354967, 0.86312057,    7, 7.000e+00)\n",
      " ( -1,  -1, -2, -2.        , 0.        ,    1, 1.000e+00)\n",
      " (611, 612,  0,  0.45557006, 0.65002242,    6, 6.000e+00)\n",
      " ( -1,  -1, -2, -2.        , 0.        ,    5, 5.000e+00)\n",
      " ( -1,  -1, -2, -2.        , 0.        ,    1, 1.000e+00)\n",
      " ( -1,  -1, -2, -2.        , 0.        ,    7, 7.000e+00)\n",
      " (615, 618,  0,  0.3868427 , 0.72192809,    5, 5.000e+00)\n",
      " (616, 617,  0,  0.11721995, 1.        ,    2, 2.000e+00)\n",
      " ( -1,  -1, -2, -2.        , 0.        ,    1, 1.000e+00)\n",
      " ( -1,  -1, -2, -2.        , 0.        ,    1, 1.000e+00)\n",
      " ( -1,  -1, -2, -2.        , 0.        ,    3, 3.000e+00)\n",
      " ( -1,  -1, -2, -2.        , 0.        ,    3, 3.000e+00)\n",
      " ( -1,  -1, -2, -2.        , 0.        ,    6, 6.000e+00)\n",
      " ( -1,  -1, -2, -2.        , 0.        ,    8, 8.000e+00)\n",
      " (623, 690,  0, -0.45903258, 0.94015944,  479, 4.790e+02)\n",
      " (624, 689,  1,  0.85629156, 0.99750255,  102, 1.020e+02)\n",
      " (625, 672,  3,  0.44398813, 0.99403021,   99, 9.900e+01)\n",
      " (626, 665,  3,  0.31971951, 0.9612366 ,   65, 6.500e+01)\n",
      " (627, 664,  1,  0.84530023, 0.98738002,   53, 5.300e+01)\n",
      " (628, 663,  1,  0.82111934, 0.99537844,   50, 5.000e+01)\n",
      " (629, 662,  3,  0.27927393, 0.9839394 ,   47, 4.700e+01)\n",
      " (630, 631,  1, -0.03620372, 0.97095059,   45, 4.500e+01)\n",
      " ( -1,  -1, -2, -2.        , 0.        ,    2, 2.000e+00)\n",
      " (632, 633,  1,  0.34409599, 0.98079836,   43, 4.300e+01)\n",
      " ( -1,  -1, -2, -2.        , 0.        ,    2, 2.000e+00)\n",
      " (634, 655,  2, -0.24083862, 0.96495677,   41, 4.100e+01)\n",
      " (635, 636,  0, -0.51189977, 0.99901027,   27, 2.700e+01)\n",
      " ( -1,  -1, -2, -2.        , 0.        ,    4, 4.000e+00)\n",
      " (637, 638,  1,  0.68262866, 0.96563613,   23, 2.300e+01)\n",
      " ( -1,  -1, -2, -2.        , 0.        ,    3, 3.000e+00)\n",
      " (639, 640,  3, -0.98811913, 0.99277445,   20, 2.000e+01)\n",
      " ( -1,  -1, -2, -2.        , 0.        ,    2, 2.000e+00)\n",
      " (641, 650,  2, -0.4158527 , 0.96407876,   18, 1.800e+01)\n",
      " (642, 643,  1,  0.78814533, 0.954434  ,    8, 8.000e+00)\n",
      " ( -1,  -1, -2, -2.        , 0.        ,    3, 3.000e+00)\n",
      " (644, 649,  1,  0.810128  , 0.97095059,    5, 5.000e+00)\n",
      " (645, 646,  2, -0.44735524, 0.81127812,    4, 4.000e+00)\n",
      " ( -1,  -1, -2, -2.        , 0.        ,    2, 2.000e+00)\n",
      " (647, 648,  3, -0.45434045, 1.        ,    2, 2.000e+00)\n",
      " ( -1,  -1, -2, -2.        , 0.        ,    1, 1.000e+00)\n",
      " ( -1,  -1, -2, -2.        , 0.        ,    1, 1.000e+00)\n",
      " ( -1,  -1, -2, -2.        , 0.        ,    1, 1.000e+00)\n",
      " (651, 652,  2, -0.3598482 , 0.72192809,   10, 1.000e+01)\n",
      " ( -1,  -1, -2, -2.        , 0.        ,    6, 6.000e+00)\n",
      " (653, 654,  1,  0.74418005, 1.        ,    4, 4.000e+00)\n",
      " ( -1,  -1, -2, -2.        , 0.        ,    2, 2.000e+00)\n",
      " ( -1,  -1, -2, -2.        , 0.        ,    2, 2.000e+00)\n",
      " (656, 657,  2, -0.06232425, 0.74959526,   14, 1.400e+01)\n",
      " ( -1,  -1, -2, -2.        , 0.        ,    9, 9.000e+00)\n",
      " (658, 659,  2,  0.01818223, 0.97095059,    5, 5.000e+00)\n",
      " ( -1,  -1, -2, -2.        , 0.        ,    2, 2.000e+00)\n",
      " (660, 661,  0, -0.48810953, 0.91829583,    3, 3.000e+00)\n",
      " ( -1,  -1, -2, -2.        , 0.        ,    1, 1.000e+00)\n",
      " ( -1,  -1, -2, -2.        , 0.        ,    2, 2.000e+00)\n",
      " ( -1,  -1, -2, -2.        , 0.        ,    2, 2.000e+00)\n",
      " ( -1,  -1, -2, -2.        , 0.        ,    3, 3.000e+00)\n",
      " ( -1,  -1, -2, -2.        , 0.        ,    3, 3.000e+00)\n",
      " (666, 671,  0, -0.46960603, 0.65002242,   12, 1.200e+01)\n",
      " (667, 670,  0, -0.51189977, 0.43949699,   11, 1.100e+01)\n",
      " (668, 669,  1,  0.76396444, 1.        ,    2, 2.000e+00)\n",
      " ( -1,  -1, -2, -2.        , 0.        ,    1, 1.000e+00)\n",
      " ( -1,  -1, -2, -2.        , 0.        ,    1, 1.000e+00)\n",
      " ( -1,  -1, -2, -2.        , 0.        ,    9, 9.000e+00)\n",
      " ( -1,  -1, -2, -2.        , 0.        ,    1, 1.000e+00)\n",
      " (673, 686,  3,  0.82934424, 0.97741782,   34, 3.400e+01)\n",
      " (674, 675,  0, -0.51718649, 0.89049164,   26, 2.600e+01)\n",
      " ( -1,  -1, -2, -2.        , 0.        ,    3, 3.000e+00)\n",
      " (676, 685,  3,  0.65067703, 0.75537541,   23, 2.300e+01)\n",
      " (677, 678,  3,  0.57964727, 0.89603823,   16, 1.600e+01)\n",
      " ( -1,  -1, -2, -2.        , 0.        ,    6, 6.000e+00)\n",
      " (679, 682,  0, -0.48546617, 1.        ,   10, 1.000e+01)\n",
      " (680, 681,  2,  1.05426565, 0.72192809,    5, 5.000e+00)\n",
      " ( -1,  -1, -2, -2.        , 0.        ,    4, 4.000e+00)\n",
      " ( -1,  -1, -2, -2.        , 0.        ,    1, 1.000e+00)\n",
      " (683, 684,  1,  0.17043312, 0.72192809,    5, 5.000e+00)\n",
      " ( -1,  -1, -2, -2.        , 0.        ,    1, 1.000e+00)\n",
      " ( -1,  -1, -2, -2.        , 0.        ,    4, 4.000e+00)\n",
      " ( -1,  -1, -2, -2.        , 0.        ,    7, 7.000e+00)\n",
      " (687, 688,  0, -0.52247322, 0.81127812,    8, 8.000e+00)\n",
      " ( -1,  -1, -2, -2.        , 0.        ,    2, 2.000e+00)\n",
      " ( -1,  -1, -2, -2.        , 0.        ,    6, 6.000e+00)\n",
      " ( -1,  -1, -2, -2.        , 0.        ,    3, 3.000e+00)\n",
      " (691, 886,  0,  0.51901071, 0.91105945,  377, 3.770e+02)\n",
      " (692, 847,  2,  0.31570619, 0.90530948,  374, 3.740e+02)\n",
      " (693, 710,  3, -1.14301354, 0.87671629,  324, 3.240e+02)\n",
      " (694, 709,  3, -1.34979284, 1.        ,   32, 3.200e+01)\n",
      " (695, 696,  1,  0.10448518, 0.97511906,   27, 2.700e+01)\n",
      " ( -1,  -1, -2, -2.        , 0.        ,    6, 6.000e+00)\n",
      " (697, 708,  3, -1.54161787, 0.99836367,   21, 2.100e+01)\n",
      " (698, 707,  3, -1.98443788, 0.99107606,   18, 1.800e+01)\n",
      " (699, 700,  1,  0.20560534, 0.98522814,   14, 1.400e+01)\n",
      " ( -1,  -1, -2, -2.        , 0.        ,    4, 4.000e+00)\n",
      " (701, 706,  1,  0.53754324, 0.97095059,   10, 1.000e+01)\n",
      " (702, 705,  0, -0.35329816, 0.81127812,    8, 8.000e+00)\n",
      " (703, 704,  0, -0.39823529, 1.        ,    4, 4.000e+00)\n",
      " ( -1,  -1, -2, -2.        , 0.        ,    2, 2.000e+00)\n",
      " ( -1,  -1, -2, -2.        , 0.        ,    2, 2.000e+00)\n",
      " ( -1,  -1, -2, -2.        , 0.        ,    4, 4.000e+00)\n",
      " ( -1,  -1, -2, -2.        , 0.        ,    2, 2.000e+00)\n",
      " ( -1,  -1, -2, -2.        , 0.        ,    4, 4.000e+00)\n",
      " ( -1,  -1, -2, -2.        , 0.        ,    3, 3.000e+00)\n",
      " ( -1,  -1, -2, -2.        , 0.        ,    5, 5.000e+00)\n",
      " (711, 744,  2, -0.42635354, 0.84710749,  292, 2.920e+02)\n",
      " (712, 733,  3,  0.16696493, 0.97552595,   49, 4.900e+01)\n",
      " (713, 732,  0, -0.15768951, 0.81127812,   28, 2.800e+01)\n",
      " (714, 727,  0, -0.2449204 , 0.88654089,   23, 2.300e+01)\n",
      " (715, 716,  1,  0.65405124, 0.74248757,   19, 1.900e+01)\n",
      " ( -1,  -1, -2, -2.        , 0.        ,    7, 7.000e+00)\n",
      " (717, 726,  3,  0.03562196, 0.91829583,   12, 1.200e+01)\n",
      " (718, 719,  0, -0.43788569, 0.99107606,    9, 9.000e+00)\n",
      " ( -1,  -1, -2, -2.        , 0.        ,    2, 2.000e+00)\n",
      " (720, 721,  3, -0.96742752, 0.98522814,    7, 7.000e+00)\n",
      " ( -1,  -1, -2, -2.        , 0.        ,    1, 1.000e+00)\n",
      " (722, 723,  3, -0.18017242, 0.91829583,    6, 6.000e+00)\n",
      " ( -1,  -1, -2, -2.        , 0.        ,    3, 3.000e+00)\n",
      " (724, 725,  2, -0.43335411, 0.91829583,    3, 3.000e+00)\n",
      " ( -1,  -1, -2, -2.        , 0.        ,    1, 1.000e+00)\n",
      " ( -1,  -1, -2, -2.        , 0.        ,    2, 2.000e+00)\n",
      " ( -1,  -1, -2, -2.        , 0.        ,    3, 3.000e+00)\n",
      " (728, 731,  3, -0.18529756, 0.81127812,    4, 4.000e+00)\n",
      " (729, 730,  3, -0.38244916, 1.        ,    2, 2.000e+00)\n",
      " ( -1,  -1, -2, -2.        , 0.        ,    1, 1.000e+00)\n",
      " ( -1,  -1, -2, -2.        , 0.        ,    1, 1.000e+00)\n",
      " ( -1,  -1, -2, -2.        , 0.        ,    2, 2.000e+00)\n",
      " ( -1,  -1, -2, -2.        , 0.        ,    5, 5.000e+00)\n",
      " (734, 743,  3,  0.60504445, 0.95871188,   21, 2.100e+01)\n",
      " (735, 738,  0, -0.35065481, 0.78712659,   17, 1.700e+01)\n",
      " (736, 737,  0, -0.41938217, 0.97095059,    5, 5.000e+00)\n",
      " ( -1,  -1, -2, -2.        , 0.        ,    2, 2.000e+00)\n",
      " ( -1,  -1, -2, -2.        , 0.        ,    3, 3.000e+00)\n",
      " (739, 742,  2, -0.46135637, 0.41381685,   12, 1.200e+01)\n",
      " (740, 741,  1,  0.62987033, 1.        ,    2, 2.000e+00)\n",
      " ( -1,  -1, -2, -2.        , 0.        ,    1, 1.000e+00)\n",
      " ( -1,  -1, -2, -2.        , 0.        ,    1, 1.000e+00)\n",
      " ( -1,  -1, -2, -2.        , 0.        ,   10, 1.000e+01)\n",
      " ( -1,  -1, -2, -2.        , 0.        ,    4, 4.000e+00)\n",
      " (745, 752,  1,  0.05832164, 0.80634952,  243, 2.430e+02)\n",
      " (746, 751,  1, -0.09116033, 0.39845927,   38, 3.800e+01)\n",
      " (747, 748,  1, -0.11314297, 0.77934984,   13, 1.300e+01)\n",
      " ( -1,  -1, -2, -2.        , 0.        ,    8, 8.000e+00)\n",
      " (749, 750,  3,  0.26619787, 0.97095059,    5, 5.000e+00)\n",
      " ( -1,  -1, -2, -2.        , 0.        ,    2, 2.000e+00)\n",
      " ( -1,  -1, -2, -2.        , 0.        ,    3, 3.000e+00)\n",
      " ( -1,  -1, -2, -2.        , 0.        ,   25, 2.500e+01)\n",
      " (753, 808,  2, -0.14633101, 0.8527785 ,  205, 2.050e+02)\n",
      " (754, 799,  0, -0.03080822, 0.75357256,  134, 1.340e+02)\n",
      " (755, 770,  1,  0.50237101, 0.69837479,  122, 1.220e+02)\n",
      " (756, 769,  3,  0.28252339, 0.42881096,   57, 5.700e+01)\n",
      " (757, 762,  3,  0.18249398, 0.6373875 ,   31, 3.100e+01)\n",
      " (758, 759,  0, -0.25285049, 0.26676499,   22, 2.200e+01)\n",
      " ( -1,  -1, -2, -2.        , 0.        ,   15, 1.500e+01)\n",
      " (760, 761,  0, -0.24227704, 0.59167278,    7, 7.000e+00)\n",
      " ( -1,  -1, -2, -2.        , 0.        ,    1, 1.000e+00)\n",
      " ( -1,  -1, -2, -2.        , 0.        ,    6, 6.000e+00)\n",
      " (763, 768,  1,  0.41004391, 0.99107606,    9, 9.000e+00)\n",
      " (764, 767,  1,  0.35069078, 0.86312057,    7, 7.000e+00)\n",
      " (765, 766,  3,  0.22989462, 0.91829583,    3, 3.000e+00)\n",
      " ( -1,  -1, -2, -2.        , 0.        ,    1, 1.000e+00)\n",
      " ( -1,  -1, -2, -2.        , 0.        ,    2, 2.000e+00)\n",
      " ( -1,  -1, -2, -2.        , 0.        ,    4, 4.000e+00)\n",
      " ( -1,  -1, -2, -2.        , 0.        ,    2, 2.000e+00)\n",
      " ( -1,  -1, -2, -2.        , 0.        ,   26, 2.600e+01)\n",
      " (771, 788,  0, -0.34801145, 0.85122434,   65, 6.500e+01)\n",
      " (772, 775,  1,  0.62987033, 0.73676801,   53, 5.300e+01)\n",
      " (773, 774,  3,  1.37549749, 0.22853814,   27, 2.700e+01)\n",
      " ( -1,  -1, -2, -2.        , 0.        ,   26, 2.600e+01)\n",
      " ( -1,  -1, -2, -2.        , 0.        ,    1, 1.000e+00)\n",
      " (776, 779,  3,  0.1165069 , 0.9612366 ,   26, 2.600e+01)\n",
      " (777, 778,  1,  0.63426685, 0.43949699,   11, 1.100e+01)\n",
      " ( -1,  -1, -2, -2.        , 0.        ,    1, 1.000e+00)\n",
      " ( -1,  -1, -2, -2.        , 0.        ,   10, 1.000e+01)\n",
      " (780, 781,  1,  0.64745644, 0.97095059,   15, 1.500e+01)\n",
      " ( -1,  -1, -2, -2.        , 0.        ,    4, 4.000e+00)\n",
      " (782, 787,  3,  0.39889781, 0.99403021,   11, 1.100e+01)\n",
      " (783, 786,  1,  0.67383561, 0.86312057,    7, 7.000e+00)\n",
      " (784, 785,  0, -0.4299556 , 0.91829583,    3, 3.000e+00)\n",
      " ( -1,  -1, -2, -2.        , 0.        ,    1, 1.000e+00)\n",
      " ( -1,  -1, -2, -2.        , 0.        ,    2, 2.000e+00)\n",
      " ( -1,  -1, -2, -2.        , 0.        ,    4, 4.000e+00)\n",
      " ( -1,  -1, -2, -2.        , 0.        ,    4, 4.000e+00)\n",
      " (789, 790,  1,  0.51336235, 0.97986876,   12, 1.200e+01)\n",
      " ( -1,  -1, -2, -2.        , 0.        ,    3, 3.000e+00)\n",
      " (791, 798,  2, -0.2058358 , 0.99107606,    9, 9.000e+00)\n",
      " (792, 797,  2, -0.27584144, 0.86312057,    7, 7.000e+00)\n",
      " (793, 794,  1,  0.53314671, 1.        ,    4, 4.000e+00)\n",
      " ( -1,  -1, -2, -2.        , 0.        ,    1, 1.000e+00)\n",
      " (795, 796,  0, -0.30307433, 0.91829583,    3, 3.000e+00)\n",
      " ( -1,  -1, -2, -2.        , 0.        ,    1, 1.000e+00)\n",
      " ( -1,  -1, -2, -2.        , 0.        ,    2, 2.000e+00)\n",
      " ( -1,  -1, -2, -2.        , 0.        ,    3, 3.000e+00)\n",
      " ( -1,  -1, -2, -2.        , 0.        ,    2, 2.000e+00)\n",
      " (800, 807,  1,  0.19241576, 1.        ,   12, 1.200e+01)\n",
      " (801, 806,  3,  0.25338303, 0.91829583,    9, 9.000e+00)\n",
      " (802, 805,  3, -0.22972   , 0.97095059,    5, 5.000e+00)\n",
      " (803, 804,  0,  0.30225517, 0.91829583,    3, 3.000e+00)\n",
      " ( -1,  -1, -2, -2.        , 0.        ,    2, 2.000e+00)\n",
      " ( -1,  -1, -2, -2.        , 0.        ,    1, 1.000e+00)\n",
      " ( -1,  -1, -2, -2.        , 0.        ,    2, 2.000e+00)\n",
      " ( -1,  -1, -2, -2.        , 0.        ,    4, 4.000e+00)\n",
      " ( -1,  -1, -2, -2.        , 0.        ,    3, 3.000e+00)\n",
      " (809, 846,  0,  0.00884219, 0.96755948,   71, 7.100e+01)\n",
      " (810, 815,  1,  0.21220013, 0.94884829,   68, 6.800e+01)\n",
      " (811, 812,  0, -0.22906024, 0.54356444,   16, 1.600e+01)\n",
      " ( -1,  -1, -2, -2.        , 0.        ,   13, 1.300e+01)\n",
      " (813, 814,  2,  0.07068646, 0.91829583,    3, 3.000e+00)\n",
      " ( -1,  -1, -2, -2.        , 0.        ,    1, 1.000e+00)\n",
      " ( -1,  -1, -2, -2.        , 0.        ,    2, 2.000e+00)\n",
      " (816, 843,  3,  0.59312624, 0.99037484,   52, 5.200e+01)\n",
      " (817, 836,  3,  0.35765332, 0.9456603 ,   44, 4.400e+01)\n",
      " (818, 835,  0, -0.21848679, 0.99901027,   27, 2.700e+01)\n",
      " (819, 828,  2, -0.06232425, 0.97986876,   24, 2.400e+01)\n",
      " (820, 821,  1,  0.42763002, 0.9456603 ,   11, 1.100e+01)\n",
      " ( -1,  -1, -2, -2.        , 0.        ,    4, 4.000e+00)\n",
      " (822, 827,  3,  0.26420499, 0.98522814,    7, 7.000e+00)\n",
      " (823, 826,  1,  0.49797447, 0.81127812,    4, 4.000e+00)\n",
      " (824, 825,  1,  0.4715953 , 1.        ,    2, 2.000e+00)\n",
      " ( -1,  -1, -2, -2.        , 0.        ,    1, 1.000e+00)\n",
      " ( -1,  -1, -2, -2.        , 0.        ,    1, 1.000e+00)\n",
      " ( -1,  -1, -2, -2.        , 0.        ,    2, 2.000e+00)\n",
      " ( -1,  -1, -2, -2.        , 0.        ,    3, 3.000e+00)\n",
      " (829, 834,  0, -0.39823529, 0.77934984,   13, 1.300e+01)\n",
      " (830, 831,  0, -0.43788569, 1.        ,    6, 6.000e+00)\n",
      " ( -1,  -1, -2, -2.        , 0.        ,    2, 2.000e+00)\n",
      " (832, 833,  3,  0.29625885, 0.81127812,    4, 4.000e+00)\n",
      " ( -1,  -1, -2, -2.        , 0.        ,    3, 3.000e+00)\n",
      " ( -1,  -1, -2, -2.        , 0.        ,    1, 1.000e+00)\n",
      " ( -1,  -1, -2, -2.        , 0.        ,    7, 7.000e+00)\n",
      " ( -1,  -1, -2, -2.        , 0.        ,    3, 3.000e+00)\n",
      " (837, 838,  1,  0.2385793 , 0.52255937,   17, 1.700e+01)\n",
      " ( -1,  -1, -2, -2.        , 0.        ,    1, 1.000e+00)\n",
      " (839, 840,  2,  0.0251828 , 0.33729007,   16, 1.600e+01)\n",
      " ( -1,  -1, -2, -2.        , 0.        ,   11, 1.100e+01)\n",
      " (841, 842,  2,  0.0426842 , 0.72192809,    5, 5.000e+00)\n",
      " ( -1,  -1, -2, -2.        , 0.        ,    1, 1.000e+00)\n",
      " ( -1,  -1, -2, -2.        , 0.        ,    4, 4.000e+00)\n",
      " (844, 845,  2,  0.14419238, 0.54356444,    8, 8.000e+00)\n",
      " ( -1,  -1, -2, -2.        , 0.        ,    7, 7.000e+00)\n",
      " ( -1,  -1, -2, -2.        , 0.        ,    1, 1.000e+00)\n",
      " ( -1,  -1, -2, -2.        , 0.        ,    3, 3.000e+00)\n",
      " (848, 849,  0, -0.43259896, 0.99884554,   50, 5.000e+01)\n",
      " ( -1,  -1, -2, -2.        , 0.        ,    6, 6.000e+00)\n",
      " (850, 859,  1, -0.0867638 , 0.99403021,   44, 4.400e+01)\n",
      " (851, 852,  3, -0.46929651, 0.84535094,   11, 1.100e+01)\n",
      " ( -1,  -1, -2, -2.        , 0.        ,    1, 1.000e+00)\n",
      " (853, 858,  0, -0.0519551 , 0.72192809,   10, 1.000e+01)\n",
      " (854, 857,  1, -0.17029783, 0.50325833,    9, 9.000e+00)\n",
      " (855, 856,  0, -0.15504615, 1.        ,    2, 2.000e+00)\n",
      " ( -1,  -1, -2, -2.        , 0.        ,    1, 1.000e+00)\n",
      " ( -1,  -1, -2, -2.        , 0.        ,    1, 1.000e+00)\n",
      " ( -1,  -1, -2, -2.        , 0.        ,    7, 7.000e+00)\n",
      " ( -1,  -1, -2, -2.        , 0.        ,    1, 1.000e+00)\n",
      " (860, 873,  3,  0.40007676, 0.9456603 ,   33, 3.300e+01)\n",
      " (861, 862,  2,  0.36821041, 0.99679163,   15, 1.500e+01)\n",
      " ( -1,  -1, -2, -2.        , 0.        ,    2, 2.000e+00)\n",
      " (863, 864,  3, -2.11198699, 0.9612366 ,   13, 1.300e+01)\n",
      " ( -1,  -1, -2, -2.        , 0.        ,    2, 2.000e+00)\n",
      " (865, 872,  1,  0.09349386, 0.99403021,   11, 1.100e+01)\n",
      " (866, 871,  3,  0.15077754, 0.91829583,    9, 9.000e+00)\n",
      " (867, 868,  0, -0.40087865, 1.        ,    6, 6.000e+00)\n",
      " ( -1,  -1, -2, -2.        , 0.        ,    2, 2.000e+00)\n",
      " (869, 870,  2,  0.40321323, 0.81127812,    4, 4.000e+00)\n",
      " ( -1,  -1, -2, -2.        , 0.        ,    1, 1.000e+00)\n",
      " ( -1,  -1, -2, -2.        , 0.        ,    3, 3.000e+00)\n",
      " ( -1,  -1, -2, -2.        , 0.        ,    3, 3.000e+00)\n",
      " ( -1,  -1, -2, -2.        , 0.        ,    2, 2.000e+00)\n",
      " (874, 885,  2,  0.55372536, 0.76420451,   18, 1.800e+01)\n",
      " (875, 880,  0, -0.337438  , 0.9456603 ,   11, 1.100e+01)\n",
      " (876, 879,  3,  0.82069054, 0.97095059,    5, 5.000e+00)\n",
      " (877, 878,  2,  0.49072027, 0.91829583,    3, 3.000e+00)\n",
      " ( -1,  -1, -2, -2.        , 0.        ,    2, 2.000e+00)\n",
      " ( -1,  -1, -2, -2.        , 0.        ,    1, 1.000e+00)\n",
      " ( -1,  -1, -2, -2.        , 0.        ,    2, 2.000e+00)\n",
      " (881, 884,  3,  0.53372568, 0.65002242,    6, 6.000e+00)\n",
      " (882, 883,  1,  0.01435636, 1.        ,    2, 2.000e+00)\n",
      " ( -1,  -1, -2, -2.        , 0.        ,    1, 1.000e+00)\n",
      " ( -1,  -1, -2, -2.        , 0.        ,    1, 1.000e+00)\n",
      " ( -1,  -1, -2, -2.        , 0.        ,    4, 4.000e+00)\n",
      " ( -1,  -1, -2, -2.        , 0.        ,    7, 7.000e+00)\n",
      " ( -1,  -1, -2, -2.        , 0.        ,    3, 3.000e+00)]\n"
     ]
    },
    {
     "data": {
      "text/plain": [
       "887"
      ]
     },
     "execution_count": 70,
     "metadata": {},
     "output_type": "execute_result"
    }
   ],
   "source": [
    "classifier = DecisionTreeClassifier(criterion = \"entropy\", splitter=\"best\", min_weight_fraction_leaf=0.0, max_features=None, random_state=0, max_leaf_nodes=None, min_impurity_decrease=0.0, min_impurity_split=None, class_weight=None)\n",
    "classifier.fit(x_train_scaled_df[['Hispanic', 'White', 'Black', 'Percent_Women']], y_train)\n",
    "\n",
    "\n",
    "\n",
    "# Show the structure of the decision tree classifier\n",
    "print(classifier.tree_.__getstate__()['nodes'])\n",
    "len(classifier.tree_.__getstate__()['nodes'])"
   ]
  },
  {
   "cell_type": "code",
   "execution_count": 71,
   "metadata": {
    "colab": {
     "base_uri": "https://localhost:8080/",
     "height": 297
    },
    "colab_type": "code",
    "executionInfo": {
     "elapsed": 8305,
     "status": "ok",
     "timestamp": 1575244697580,
     "user": {
      "displayName": "Lydia Tse",
      "photoUrl": "",
      "userId": "08063489847245829399"
     },
     "user_tz": 360
    },
    "id": "fGef8CLO0xrl",
    "outputId": "cb600b06-3cf8-44ad-9023-0a31b7319730"
   },
   "outputs": [
    {
     "data": {
      "image/png": "[encoded data removed]",
      "text/plain": [
       "<Figure size 432x288 with 2 Axes>"
      ]
     },
     "metadata": {
      "needs_background": "light"
     },
     "output_type": "display_data"
    }
   ],
   "source": [
    "y_pred = classifier.predict(x_validation_scaled_df[['Hispanic', 'White', 'Black', 'Percent_Women']])\n",
    "conf_matrix = metrics.confusion_matrix(y_validation, y_pred)\n",
    "sns.heatmap(conf_matrix, annot = True, fmt = \".3f\", square = True, cmap = plt.cm.Blues)\n",
    "plt.ylabel('Actual')\n",
    "plt.xlabel('Predicted')\n",
    "plt.title('Confusion matrix')\n",
    "plt.tight_layout()"
   ]
  },
  {
   "cell_type": "code",
   "execution_count": 72,
   "metadata": {
    "colab": {
     "base_uri": "https://localhost:8080/",
     "height": 54
    },
    "colab_type": "code",
    "executionInfo": {
     "elapsed": 8304,
     "status": "ok",
     "timestamp": 1575244697581,
     "user": {
      "displayName": "Lydia Tse",
      "photoUrl": "",
      "userId": "08063489847245829399"
     },
     "user_tz": 360
    },
    "id": "G8soDsL8032s",
    "outputId": "6ff7834b-b7fb-4dd6-a0d5-1203e6ef3116"
   },
   "outputs": [
    {
     "name": "stdout",
     "output_type": "stream",
     "text": [
      "[0.6457990115321252, 0.35420098846787484, array([0.67256637, 0.6119403 ]), array([0.68674699, 0.59636364]), array([0.67958271, 0.60405157])]\n"
     ]
    }
   ],
   "source": [
    "accuracy = metrics.accuracy_score(y_validation, y_pred)\n",
    "error = 1 - accuracy\n",
    "precision = metrics.precision_score(y_validation, y_pred, average = None)\n",
    "recall = metrics.recall_score(y_validation, y_pred, average = None)\n",
    "F1_score = metrics.f1_score(y_validation, y_pred, average = None)\n",
    "print([accuracy, error, precision, recall, F1_score])"
   ]
  },
  {
   "cell_type": "markdown",
   "metadata": {
    "colab_type": "text",
    "id": "9VGt5h7A04yX"
   },
   "source": [
    "----"
   ]
  },
  {
   "cell_type": "markdown",
   "metadata": {
    "colab_type": "text",
    "id": "AvMLPzEz05ow"
   },
   "source": [
    "MODEL 3\n",
    "\n",
    "    -Variables Used: Unemployment, Income, SelfEmployed"
   ]
  },
  {
   "cell_type": "code",
   "execution_count": 73,
   "metadata": {
    "colab": {
     "base_uri": "https://localhost:8080/",
     "height": 1000
    },
    "colab_type": "code",
    "executionInfo": {
     "elapsed": 8302,
     "status": "ok",
     "timestamp": 1575244697581,
     "user": {
      "displayName": "Lydia Tse",
      "photoUrl": "",
      "userId": "08063489847245829399"
     },
     "user_tz": 360
    },
    "id": "iraihjqs01AF",
    "outputId": "36f39719-bc89-4b51-b16c-ca2c4ddf69ce"
   },
   "outputs": [
    {
     "name": "stdout",
     "output_type": "stream",
     "text": [
      "[(  1, 330,  2, -2.12834463e-01, 0.98612608, 1820, 1.820e+03)\n",
      " (  2,  29,  2, -9.29847062e-01, 0.77786044,  809, 8.090e+02)\n",
      " (  3,  28,  0,  7.17295825e-01, 0.1854148 ,  248, 2.480e+02)\n",
      " (  4,  27,  0,  6.90384835e-01, 0.34626857,  108, 1.080e+02)\n",
      " (  5,  18,  1, -5.89339018e-01, 0.31166199,  107, 1.070e+02)\n",
      " (  6,  11,  2, -1.00326765e+00, 0.55477816,   31, 3.100e+01)\n",
      " (  7,  10,  0, -1.00500667e+00, 0.25801867,   23, 2.300e+01)\n",
      " (  8,   9,  1, -1.33634338e+00, 1.        ,    2, 2.000e+00)\n",
      " ( -1,  -1, -2, -2.00000000e+00, 0.        ,    1, 1.000e+00)\n",
      " ( -1,  -1, -2, -2.00000000e+00, 0.        ,    1, 1.000e+00)\n",
      " ( -1,  -1, -2, -2.00000000e+00, 0.        ,   21, 2.100e+01)\n",
      " ( 12,  17,  2, -9.60543483e-01, 0.954434  ,    8, 8.000e+00)\n",
      " ( 13,  16,  2, -9.79913235e-01, 0.81127812,    4, 4.000e+00)\n",
      " ( 14,  15,  0,  1.11798845e-01, 1.        ,    2, 2.000e+00)\n",
      " ( -1,  -1, -2, -2.00000000e+00, 0.        ,    1, 1.000e+00)\n",
      " ( -1,  -1, -2, -2.00000000e+00, 0.        ,    1, 1.000e+00)\n",
      " ( -1,  -1, -2, -2.00000000e+00, 0.        ,    2, 2.000e+00)\n",
      " ( -1,  -1, -2, -2.00000000e+00, 0.        ,    4, 4.000e+00)\n",
      " ( 19,  20,  1,  6.38786852e-01, 0.17556503,   76, 7.600e+01)\n",
      " ( -1,  -1, -2, -2.00000000e+00, 0.        ,   55, 5.500e+01)\n",
      " ( 21,  22,  2, -1.60380346e+00, 0.45371634,   21, 2.100e+01)\n",
      " ( -1,  -1, -2, -2.00000000e+00, 0.        ,    1, 1.000e+00)\n",
      " ( 23,  26,  1,  7.52736658e-01, 0.28639696,   20, 2.000e+01)\n",
      " ( 24,  25,  0, -2.27560401e-02, 1.        ,    2, 2.000e+00)\n",
      " ( -1,  -1, -2, -2.00000000e+00, 0.        ,    1, 1.000e+00)\n",
      " ( -1,  -1, -2, -2.00000000e+00, 0.        ,    1, 1.000e+00)\n",
      " ( -1,  -1, -2, -2.00000000e+00, 0.        ,   18, 1.800e+01)\n",
      " ( -1,  -1, -2, -2.00000000e+00, 0.        ,    1, 1.000e+00)\n",
      " ( -1,  -1, -2, -2.00000000e+00, 0.        ,  140, 1.400e+02)\n",
      " ( 30, 113,  0, -3.32232267e-01, 0.90337062,  561, 5.610e+02)\n",
      " ( 31,  42,  0, -1.19338351e+00, 0.97009651,  138, 1.380e+02)\n",
      " ( 32,  41,  0, -1.34139389e+00, 0.46899559,   20, 2.000e+01)\n",
      " ( 33,  40,  2, -3.35251242e-01, 0.65002242,   12, 1.200e+01)\n",
      " ( 34,  39,  0, -1.44903779e+00, 0.86312057,    7, 7.000e+00)\n",
      " ( 35,  38,  0, -1.71814758e+00, 0.65002242,    6, 6.000e+00)\n",
      " ( 36,  37,  1,  1.98086250e+00, 1.        ,    2, 2.000e+00)\n",
      " ( -1,  -1, -2, -2.00000000e+00, 0.        ,    1, 1.000e+00)\n",
      " ( -1,  -1, -2, -2.00000000e+00, 0.        ,    1, 1.000e+00)\n",
      " ( -1,  -1, -2, -2.00000000e+00, 0.        ,    4, 4.000e+00)\n",
      " ( -1,  -1, -2, -2.00000000e+00, 0.        ,    1, 1.000e+00)\n",
      " ( -1,  -1, -2, -2.00000000e+00, 0.        ,    5, 5.000e+00)\n",
      " ( -1,  -1, -2, -2.00000000e+00, 0.        ,    8, 8.000e+00)\n",
      " ( 43, 112,  0, -3.59143242e-01, 0.99252702,  118, 1.180e+02)\n",
      " ( 44,  69,  1, -1.08217545e-01, 0.99792881,  112, 1.120e+02)\n",
      " ( 45,  60,  1, -5.26033551e-01, 0.91829583,   36, 3.600e+01)\n",
      " ( 46,  47,  2, -7.62086630e-01, 0.99800088,   19, 1.900e+01)\n",
      " ( -1,  -1, -2, -2.00000000e+00, 0.        ,    4, 4.000e+00)\n",
      " ( 48,  55,  1, -8.04577559e-01, 0.91829583,   15, 1.500e+01)\n",
      " ( 49,  54,  0, -4.12965208e-01, 0.91829583,    6, 6.000e+00)\n",
      " ( 50,  53,  2, -4.76078525e-01, 0.72192809,    5, 5.000e+00)\n",
      " ( 51,  52,  0, -5.34064606e-01, 1.        ,    2, 2.000e+00)\n",
      " ( -1,  -1, -2, -2.00000000e+00, 0.        ,    1, 1.000e+00)\n",
      " ( -1,  -1, -2, -2.00000000e+00, 0.        ,    1, 1.000e+00)\n",
      " ( -1,  -1, -2, -2.00000000e+00, 0.        ,    3, 3.000e+00)\n",
      " ( -1,  -1, -2, -2.00000000e+00, 0.        ,    1, 1.000e+00)\n",
      " ( 56,  59,  0, -6.28253013e-01, 0.50325833,    9, 9.000e+00)\n",
      " ( 57,  58,  1, -6.65305555e-01, 1.        ,    2, 2.000e+00)\n",
      " ( -1,  -1, -2, -2.00000000e+00, 0.        ,    1, 1.000e+00)\n",
      " ( -1,  -1, -2, -2.00000000e+00, 0.        ,    1, 1.000e+00)\n",
      " ( -1,  -1, -2, -2.00000000e+00, 0.        ,    7, 7.000e+00)\n",
      " ( 61,  68,  2, -2.29732260e-01, 0.52255937,   17, 1.700e+01)\n",
      " ( 62,  63,  0, -5.20609111e-01, 0.33729007,   16, 1.600e+01)\n",
      " ( -1,  -1, -2, -2.00000000e+00, 0.        ,    9, 9.000e+00)\n",
      " ( 64,  67,  2, -4.80026245e-01, 0.59167278,    7, 7.000e+00)\n",
      " ( 65,  66,  1, -2.34828465e-01, 0.91829583,    3, 3.000e+00)\n",
      " ( -1,  -1, -2, -2.00000000e+00, 0.        ,    1, 1.000e+00)\n",
      " ( -1,  -1, -2, -2.00000000e+00, 0.        ,    2, 2.000e+00)\n",
      " ( -1,  -1, -2, -2.00000000e+00, 0.        ,    4, 4.000e+00)\n",
      " ( -1,  -1, -2, -2.00000000e+00, 0.        ,    1, 1.000e+00)\n",
      " ( 70,  71,  1, -6.92881737e-03, 0.95914955,   76, 7.600e+01)\n",
      " ( -1,  -1, -2, -2.00000000e+00, 0.        ,    4, 4.000e+00)\n",
      " ( 72,  87,  0, -7.62807906e-01, 0.97255232,   72, 7.200e+01)\n",
      " ( 73,  82,  2, -4.99801829e-01, 0.84535094,   33, 3.300e+01)\n",
      " ( 74,  75,  0, -1.00500670e+00, 1.        ,   14, 1.400e+01)\n",
      " ( -1,  -1, -2, -2.00000000e+00, 0.        ,    3, 3.000e+00)\n",
      " ( 76,  81,  1,  1.72764069e+00, 0.9456603 ,   11, 1.100e+01)\n",
      " ( 77,  78,  0, -8.83907288e-01, 0.91829583,    6, 6.000e+00)\n",
      " ( -1,  -1, -2, -2.00000000e+00, 0.        ,    3, 3.000e+00)\n",
      " ( 79,  80,  0, -8.16629857e-01, 0.91829583,    3, 3.000e+00)\n",
      " ( -1,  -1, -2, -2.00000000e+00, 0.        ,    2, 2.000e+00)\n",
      " ( -1,  -1, -2, -2.00000000e+00, 0.        ,    1, 1.000e+00)\n",
      " ( -1,  -1, -2, -2.00000000e+00, 0.        ,    5, 5.000e+00)\n",
      " ( 83,  84,  2, -2.88837656e-01, 0.48546076,   19, 1.900e+01)\n",
      " ( -1,  -1, -2, -2.00000000e+00, 0.        ,   14, 1.400e+01)\n",
      " ( 85,  86,  2, -2.65225008e-01, 0.97095059,    5, 5.000e+00)\n",
      " ( -1,  -1, -2, -2.00000000e+00, 0.        ,    2, 2.000e+00)\n",
      " ( -1,  -1, -2, -2.00000000e+00, 0.        ,    3, 3.000e+00)\n",
      " ( 88, 111,  1,  2.03150684e+00, 0.99952569,   39, 3.900e+01)\n",
      " ( 89, 108,  1,  1.60102975e+00, 0.99777247,   36, 3.600e+01)\n",
      " ( 90, 107,  1,  9.80636299e-01, 0.99679163,   30, 3.000e+01)\n",
      " ( 91, 100,  2, -5.38356841e-01, 0.97986876,   24, 2.400e+01)\n",
      " ( 92,  95,  0, -7.08985955e-01, 0.9456603 ,   11, 1.100e+01)\n",
      " ( 93,  94,  2, -7.31058121e-01, 0.81127812,    4, 4.000e+00)\n",
      " ( -1,  -1, -2, -2.00000000e+00, 0.        ,    1, 1.000e+00)\n",
      " ( -1,  -1, -2, -2.00000000e+00, 0.        ,    3, 3.000e+00)\n",
      " ( 96,  99,  2, -8.01158160e-01, 0.59167278,    7, 7.000e+00)\n",
      " ( 97,  98,  2, -8.65723968e-01, 1.        ,    2, 2.000e+00)\n",
      " ( -1,  -1, -2, -2.00000000e+00, 0.        ,    1, 1.000e+00)\n",
      " ( -1,  -1, -2, -2.00000000e+00, 0.        ,    1, 1.000e+00)\n",
      " ( -1,  -1, -2, -2.00000000e+00, 0.        ,    5, 5.000e+00)\n",
      " (101, 106,  1,  2.33631916e-01, 0.77934984,   13, 1.300e+01)\n",
      " (102, 105,  1,  1.19682096e-01, 0.97095059,    5, 5.000e+00)\n",
      " (103, 104,  0, -5.87886542e-01, 0.91829583,    3, 3.000e+00)\n",
      " ( -1,  -1, -2, -2.00000000e+00, 0.        ,    1, 1.000e+00)\n",
      " ( -1,  -1, -2, -2.00000000e+00, 0.        ,    2, 2.000e+00)\n",
      " ( -1,  -1, -2, -2.00000000e+00, 0.        ,    2, 2.000e+00)\n",
      " ( -1,  -1, -2, -2.00000000e+00, 0.        ,    8, 8.000e+00)\n",
      " ( -1,  -1, -2, -2.00000000e+00, 0.        ,    6, 6.000e+00)\n",
      " (109, 110,  0, -6.68619484e-01, 0.65002242,    6, 6.000e+00)\n",
      " ( -1,  -1, -2, -2.00000000e+00, 0.        ,    1, 1.000e+00)\n",
      " ( -1,  -1, -2, -2.00000000e+00, 0.        ,    5, 5.000e+00)\n",
      " ( -1,  -1, -2, -2.00000000e+00, 0.        ,    3, 3.000e+00)\n",
      " ( -1,  -1, -2, -2.00000000e+00, 0.        ,    6, 6.000e+00)\n",
      " (114, 217,  0,  1.25254329e-01, 0.77265709,  423, 4.230e+02)\n",
      " (115, 140,  2, -6.43654466e-01, 0.91401851,  158, 1.580e+02)\n",
      " (116, 135,  0, -9.00334790e-02, 0.60717165,   47, 4.700e+01)\n",
      " (117, 124,  1, -6.02000087e-01, 0.79504028,   25, 2.500e+01)\n",
      " (118, 123,  2, -8.24955285e-01, 0.97095059,    5, 5.000e+00)\n",
      " (119, 120,  0, -2.24588372e-01, 0.91829583,    3, 3.000e+00)\n",
      " ( -1,  -1, -2, -2.00000000e+00, 0.        ,    1, 1.000e+00)\n",
      " (121, 122,  2, -8.59119803e-01, 1.        ,    2, 2.000e+00)\n",
      " ( -1,  -1, -2, -2.00000000e+00, 0.        ,    1, 1.000e+00)\n",
      " ( -1,  -1, -2, -2.00000000e+00, 0.        ,    1, 1.000e+00)\n",
      " ( -1,  -1, -2, -2.00000000e+00, 0.        ,    2, 2.000e+00)\n",
      " (125, 126,  1,  5.73227368e-03, 0.6098403 ,   20, 2.000e+01)\n",
      " ( -1,  -1, -2, -2.00000000e+00, 0.        ,    9, 9.000e+00)\n",
      " (127, 132,  0, -1.97677389e-01, 0.84535094,   11, 1.100e+01)\n",
      " (128, 131,  1,  8.16988219e-02, 0.54356444,    8, 8.000e+00)\n",
      " (129, 130,  2, -8.13960642e-01, 1.        ,    2, 2.000e+00)\n",
      " ( -1,  -1, -2, -2.00000000e+00, 0.        ,    1, 1.000e+00)\n",
      " ( -1,  -1, -2, -2.00000000e+00, 0.        ,    1, 1.000e+00)\n",
      " ( -1,  -1, -2, -2.00000000e+00, 0.        ,    6, 6.000e+00)\n",
      " (133, 134,  2, -7.25671500e-01, 0.91829583,    3, 3.000e+00)\n",
      " ( -1,  -1, -2, -2.00000000e+00, 0.        ,    1, 1.000e+00)\n",
      " ( -1,  -1, -2, -2.00000000e+00, 0.        ,    2, 2.000e+00)\n",
      " (136, 139,  2, -8.22372645e-01, 0.26676499,   22, 2.200e+01)\n",
      " (137, 138,  2, -8.38827699e-01, 0.54356444,    8, 8.000e+00)\n",
      " ( -1,  -1, -2, -2.00000000e+00, 0.        ,    7, 7.000e+00)\n",
      " ( -1,  -1, -2, -2.00000000e+00, 0.        ,    1, 1.000e+00)\n",
      " ( -1,  -1, -2, -2.00000000e+00, 0.        ,   14, 1.400e+01)\n",
      " (141, 214,  1,  5.62820286e-01, 0.97402486,  111, 1.110e+02)\n",
      " (142, 143,  1, -9.43849564e-01, 0.992476  ,   98, 9.800e+01)\n",
      " ( -1,  -1, -2, -2.00000000e+00, 0.        ,    7, 7.000e+00)\n",
      " (144, 205,  1,  2.46293008e-01, 0.99921588,   91, 9.100e+01)\n",
      " (145, 146,  2, -6.33840472e-01, 0.99277445,   80, 8.000e+01)\n",
      " ( -1,  -1, -2, -2.00000000e+00, 0.        ,    2, 2.000e+00)\n",
      " (147, 148,  2, -6.14175558e-01, 0.98811084,   78, 7.800e+01)\n",
      " ( -1,  -1, -2, -2.00000000e+00, 0.        ,    3, 3.000e+00)\n",
      " (149, 150,  2, -6.10707462e-01, 0.99370711,   75, 7.500e+01)\n",
      " ( -1,  -1, -2, -2.00000000e+00, 0.        ,    2, 2.000e+00)\n",
      " (151, 152,  2, -5.83552927e-01, 0.98900768,   73, 7.300e+01)\n",
      " ( -1,  -1, -2, -2.00000000e+00, 0.        ,    5, 5.000e+00)\n",
      " (153, 204,  1,  1.57665372e-01, 0.99750255,   68, 6.800e+01)\n",
      " (154, 155,  2, -5.56509078e-01, 0.9993375 ,   66, 6.600e+01)\n",
      " ( -1,  -1, -2, -2.00000000e+00, 0.        ,    2, 2.000e+00)\n",
      " (156, 175,  2, -3.89043793e-01, 0.9971804 ,   64, 6.400e+01)\n",
      " (157, 158,  1, -6.65305555e-01, 0.93058613,   26, 2.600e+01)\n",
      " ( -1,  -1, -2, -2.00000000e+00, 0.        ,    4, 4.000e+00)\n",
      " (159, 174,  1, -3.22510004e-02, 0.97602065,   22, 2.200e+01)\n",
      " (160, 173,  2, -3.94098386e-01, 1.        ,   18, 1.800e+01)\n",
      " (161, 162,  1, -5.89339018e-01, 0.98869941,   16, 1.600e+01)\n",
      " ( -1,  -1, -2, -2.00000000e+00, 0.        ,    2, 2.000e+00)\n",
      " (163, 164,  2, -5.22934854e-01, 1.        ,   14, 1.400e+01)\n",
      " ( -1,  -1, -2, -2.00000000e+00, 0.        ,    2, 2.000e+00)\n",
      " (165, 166,  0, -1.57310918e-01, 0.97986876,   12, 1.200e+01)\n",
      " ( -1,  -1, -2, -2.00000000e+00, 0.        ,    4, 4.000e+00)\n",
      " (167, 172,  2, -4.32985440e-01, 0.954434  ,    8, 8.000e+00)\n",
      " (168, 171,  2, -4.80321407e-01, 0.97095059,    5, 5.000e+00)\n",
      " (169, 170,  2, -5.20204633e-01, 0.91829583,    3, 3.000e+00)\n",
      " ( -1,  -1, -2, -2.00000000e+00, 0.        ,    1, 1.000e+00)\n",
      " ( -1,  -1, -2, -2.00000000e+00, 0.        ,    2, 2.000e+00)\n",
      " ( -1,  -1, -2, -2.00000000e+00, 0.        ,    2, 2.000e+00)\n",
      " ( -1,  -1, -2, -2.00000000e+00, 0.        ,    3, 3.000e+00)\n",
      " ( -1,  -1, -2, -2.00000000e+00, 0.        ,    2, 2.000e+00)\n",
      " ( -1,  -1, -2, -2.00000000e+00, 0.        ,    4, 4.000e+00)\n",
      " (176, 181,  2, -3.52222830e-01, 0.9919924 ,   38, 3.800e+01)\n",
      " (177, 180,  1, -5.13372481e-01, 0.72192809,   10, 1.000e+01)\n",
      " (178, 179,  2, -3.64803940e-01, 1.        ,    4, 4.000e+00)\n",
      " ( -1,  -1, -2, -2.00000000e+00, 0.        ,    2, 2.000e+00)\n",
      " ( -1,  -1, -2, -2.00000000e+00, 0.        ,    2, 2.000e+00)\n",
      " ( -1,  -1, -2, -2.00000000e+00, 0.        ,    6, 6.000e+00)\n",
      " (182, 183,  2, -3.46430361e-01, 0.99631652,   28, 2.800e+01)\n",
      " ( -1,  -1, -2, -2.00000000e+00, 0.        ,    4, 4.000e+00)\n",
      " (184, 203,  0,  9.83433574e-02, 0.99498483,   24, 2.400e+01)\n",
      " (185, 202,  0,  1.76104247e-02, 0.95871188,   21, 2.100e+01)\n",
      " (186, 195,  1, -5.13372481e-01, 0.99750255,   17, 1.700e+01)\n",
      " (187, 188,  0, -6.31225035e-02, 0.86312057,    7, 7.000e+00)\n",
      " ( -1,  -1, -2, -2.00000000e+00, 0.        ,    3, 3.000e+00)\n",
      " (189, 190,  2, -3.26470301e-01, 1.        ,    4, 4.000e+00)\n",
      " ( -1,  -1, -2, -2.00000000e+00, 0.        ,    1, 1.000e+00)\n",
      " (191, 194,  0, -2.27560396e-02, 0.91829583,    3, 3.000e+00)\n",
      " (192, 193,  2, -3.10642451e-01, 1.        ,    2, 2.000e+00)\n",
      " ( -1,  -1, -2, -2.00000000e+00, 0.        ,    1, 1.000e+00)\n",
      " ( -1,  -1, -2, -2.00000000e+00, 0.        ,    1, 1.000e+00)\n",
      " ( -1,  -1, -2, -2.00000000e+00, 0.        ,    1, 1.000e+00)\n",
      " (196, 197,  1, -2.98133925e-01, 0.97095059,   10, 1.000e+01)\n",
      " ( -1,  -1, -2, -2.00000000e+00, 0.        ,    4, 4.000e+00)\n",
      " (198, 199,  2, -3.34513351e-01, 0.91829583,    6, 6.000e+00)\n",
      " ( -1,  -1, -2, -2.00000000e+00, 0.        ,    1, 1.000e+00)\n",
      " (200, 201,  2, -2.40284160e-01, 0.72192809,    5, 5.000e+00)\n",
      " ( -1,  -1, -2, -2.00000000e+00, 0.        ,    4, 4.000e+00)\n",
      " ( -1,  -1, -2, -2.00000000e+00, 0.        ,    1, 1.000e+00)\n",
      " ( -1,  -1, -2, -2.00000000e+00, 0.        ,    4, 4.000e+00)\n",
      " ( -1,  -1, -2, -2.00000000e+00, 0.        ,    3, 3.000e+00)\n",
      " ( -1,  -1, -2, -2.00000000e+00, 0.        ,    2, 2.000e+00)\n",
      " (206, 213,  2, -4.58184555e-01, 0.84535094,   11, 1.100e+01)\n",
      " (207, 208,  2, -5.64736605e-01, 1.        ,    6, 6.000e+00)\n",
      " ( -1,  -1, -2, -2.00000000e+00, 0.        ,    2, 2.000e+00)\n",
      " (209, 212,  2, -4.89766464e-01, 0.81127812,    4, 4.000e+00)\n",
      " (210, 211,  0,  5.79768908e-02, 1.        ,    2, 2.000e+00)\n",
      " ( -1,  -1, -2, -2.00000000e+00, 0.        ,    1, 1.000e+00)\n",
      " ( -1,  -1, -2, -2.00000000e+00, 0.        ,    1, 1.000e+00)\n",
      " ( -1,  -1, -2, -2.00000000e+00, 0.        ,    2, 2.000e+00)\n",
      " ( -1,  -1, -2, -2.00000000e+00, 0.        ,    5, 5.000e+00)\n",
      " (215, 216,  1,  3.20898831e+00, 0.39124356,   13, 1.300e+01)\n",
      " ( -1,  -1, -2, -2.00000000e+00, 0.        ,   12, 1.200e+01)\n",
      " ( -1,  -1, -2, -2.00000000e+00, 0.        ,    1, 1.000e+00)\n",
      " (218, 307,  1,  5.50159216e-01, 0.64856003,  265, 2.650e+02)\n",
      " (219, 232,  2, -6.79589957e-01, 0.55401486,  233, 2.330e+02)\n",
      " (220, 225,  2, -9.23722506e-01, 0.30337484,   74, 7.400e+01)\n",
      " (221, 222,  2, -9.28887784e-01, 1.        ,    4, 4.000e+00)\n",
      " ( -1,  -1, -2, -2.00000000e+00, 0.        ,    1, 1.000e+00)\n",
      " (223, 224,  2, -9.26268250e-01, 0.91829583,    3, 3.000e+00)\n",
      " ( -1,  -1, -2, -2.00000000e+00, 0.        ,    2, 2.000e+00)\n",
      " ( -1,  -1, -2, -2.00000000e+00, 0.        ,    1, 1.000e+00)\n",
      " (226, 231,  1, -8.04577559e-01, 0.18717626,   70, 7.000e+01)\n",
      " (227, 230,  0,  5.02008006e-01, 0.46899559,   20, 2.000e+01)\n",
      " (228, 229,  2, -7.60869116e-01, 0.97095059,    5, 5.000e+00)\n",
      " ( -1,  -1, -2, -2.00000000e+00, 0.        ,    2, 2.000e+00)\n",
      " ( -1,  -1, -2, -2.00000000e+00, 0.        ,    3, 3.000e+00)\n",
      " ( -1,  -1, -2, -2.00000000e+00, 0.        ,   15, 1.500e+01)\n",
      " ( -1,  -1, -2, -2.00000000e+00, 0.        ,   50, 5.000e+01)\n",
      " (233, 238,  2, -6.59224063e-01, 0.64266914,  159, 1.590e+02)\n",
      " (234, 237,  2, -6.72247916e-01, 0.98522814,    7, 7.000e+00)\n",
      " (235, 236,  0,  1.52165309e-01, 0.81127812,    4, 4.000e+00)\n",
      " ( -1,  -1, -2, -2.00000000e+00, 0.        ,    1, 1.000e+00)\n",
      " ( -1,  -1, -2, -2.00000000e+00, 0.        ,    3, 3.000e+00)\n",
      " ( -1,  -1, -2, -2.00000000e+00, 0.        ,    3, 3.000e+00)\n",
      " (239, 284,  2, -3.03521752e-01, 0.59651099,  152, 1.520e+02)\n",
      " (240, 241,  1, -1.43763208e+00, 0.50861133,  124, 1.240e+02)\n",
      " ( -1,  -1, -2, -2.00000000e+00, 0.        ,    1, 1.000e+00)\n",
      " (242, 283,  2, -3.54620993e-01, 0.48678048,  123, 1.230e+02)\n",
      " (243, 244,  1, -9.69171762e-01, 0.53690644,  106, 1.060e+02)\n",
      " ( -1,  -1, -2, -2.00000000e+00, 0.        ,   16, 1.600e+01)\n",
      " (245, 282,  2, -3.58605623e-01, 0.5957611 ,   90, 9.000e+01)\n",
      " (246, 281,  0,  1.40352571e+00, 0.57054114,   89, 8.900e+01)\n",
      " (247, 248,  2, -6.18344665e-01, 0.54356444,   88, 8.800e+01)\n",
      " ( -1,  -1, -2, -2.00000000e+00, 0.        ,   11, 1.100e+01)\n",
      " (249, 250,  2, -6.13806605e-01, 0.59167278,   77, 7.700e+01)\n",
      " ( -1,  -1, -2, -2.00000000e+00, 0.        ,    1, 1.000e+00)\n",
      " (251, 280,  0,  1.06713855e+00, 0.56175261,   76, 7.600e+01)\n",
      " (252, 273,  0,  9.72950101e-01, 0.6024308 ,   68, 6.800e+01)\n",
      " (253, 272,  1, -1.58861913e-01, 0.50861133,   62, 6.200e+01)\n",
      " (254, 263,  2, -5.65363795e-01, 0.64094418,   43, 4.300e+01)\n",
      " (255, 256,  2, -6.00635201e-01, 0.99107606,    9, 9.000e+00)\n",
      " ( -1,  -1, -2, -2.00000000e+00, 0.        ,    3, 3.000e+00)\n",
      " (257, 262,  0,  8.65306199e-01, 0.91829583,    6, 6.000e+00)\n",
      " (258, 261,  0,  3.40542138e-01, 0.72192809,    5, 5.000e+00)\n",
      " (259, 260,  2, -5.78793496e-01, 1.        ,    2, 2.000e+00)\n",
      " ( -1,  -1, -2, -2.00000000e+00, 0.        ,    1, 1.000e+00)\n",
      " ( -1,  -1, -2, -2.00000000e+00, 0.        ,    1, 1.000e+00)\n",
      " ( -1,  -1, -2, -2.00000000e+00, 0.        ,    3, 3.000e+00)\n",
      " ( -1,  -1, -2, -2.00000000e+00, 0.        ,    1, 1.000e+00)\n",
      " (264, 265,  2, -4.72942472e-01, 0.43055187,   34, 3.400e+01)\n",
      " ( -1,  -1, -2, -2.00000000e+00, 0.        ,   19, 1.900e+01)\n",
      " (266, 271,  1, -3.48778293e-01, 0.72192809,   15, 1.500e+01)\n",
      " (267, 268,  0,  3.40542145e-01, 0.91829583,    9, 9.000e+00)\n",
      " ( -1,  -1, -2, -2.00000000e+00, 0.        ,    2, 2.000e+00)\n",
      " (269, 270,  2, -4.56413612e-01, 0.59167278,    7, 7.000e+00)\n",
      " ( -1,  -1, -2, -2.00000000e+00, 0.        ,    1, 1.000e+00)\n",
      " ( -1,  -1, -2, -2.00000000e+00, 0.        ,    6, 6.000e+00)\n",
      " ( -1,  -1, -2, -2.00000000e+00, 0.        ,    6, 6.000e+00)\n",
      " ( -1,  -1, -2, -2.00000000e+00, 0.        ,   19, 1.900e+01)\n",
      " (274, 275,  2, -4.90983993e-01, 1.        ,    6, 6.000e+00)\n",
      " ( -1,  -1, -2, -2.00000000e+00, 0.        ,    2, 2.000e+00)\n",
      " (276, 277,  1, -5.26033565e-01, 0.81127812,    4, 4.000e+00)\n",
      " ( -1,  -1, -2, -2.00000000e+00, 0.        ,    2, 2.000e+00)\n",
      " (278, 279,  0,  1.01331654e+00, 1.        ,    2, 2.000e+00)\n",
      " ( -1,  -1, -2, -2.00000000e+00, 0.        ,    1, 1.000e+00)\n",
      " ( -1,  -1, -2, -2.00000000e+00, 0.        ,    1, 1.000e+00)\n",
      " ( -1,  -1, -2, -2.00000000e+00, 0.        ,    8, 8.000e+00)\n",
      " ( -1,  -1, -2, -2.00000000e+00, 0.        ,    1, 1.000e+00)\n",
      " ( -1,  -1, -2, -2.00000000e+00, 0.        ,    1, 1.000e+00)\n",
      " ( -1,  -1, -2, -2.00000000e+00, 0.        ,   17, 1.700e+01)\n",
      " (285, 292,  2, -2.78728485e-01, 0.86312057,   28, 2.800e+01)\n",
      " (286, 291,  1, -1.95899084e-02, 0.98522814,    7, 7.000e+00)\n",
      " (287, 290,  2, -3.00201237e-01, 0.72192809,    5, 5.000e+00)\n",
      " (288, 289,  0,  3.13631169e-01, 1.        ,    2, 2.000e+00)\n",
      " ( -1,  -1, -2, -2.00000000e+00, 0.        ,    1, 1.000e+00)\n",
      " ( -1,  -1, -2, -2.00000000e+00, 0.        ,    1, 1.000e+00)\n",
      " ( -1,  -1, -2, -2.00000000e+00, 0.        ,    3, 3.000e+00)\n",
      " ( -1,  -1, -2, -2.00000000e+00, 0.        ,    2, 2.000e+00)\n",
      " (293, 306,  1,  1.57665368e-01, 0.70246655,   21, 2.100e+01)\n",
      " (294, 305,  2, -2.33458631e-01, 0.6098403 ,   20, 2.000e+01)\n",
      " (295, 296,  2, -2.61092797e-01, 0.74959526,   14, 1.400e+01)\n",
      " ( -1,  -1, -2, -2.00000000e+00, 0.        ,    4, 4.000e+00)\n",
      " (297, 298,  1, -9.18527395e-01, 0.8812909 ,   10, 1.000e+01)\n",
      " ( -1,  -1, -2, -2.00000000e+00, 0.        ,    1, 1.000e+00)\n",
      " (299, 300,  2, -2.58178115e-01, 0.76420451,    9, 9.000e+00)\n",
      " ( -1,  -1, -2, -2.00000000e+00, 0.        ,    1, 1.000e+00)\n",
      " (301, 302,  2, -2.34639265e-01, 0.54356444,    8, 8.000e+00)\n",
      " ( -1,  -1, -2, -2.00000000e+00, 0.        ,    6, 6.000e+00)\n",
      " (303, 304,  0,  3.13631169e-01, 1.        ,    2, 2.000e+00)\n",
      " ( -1,  -1, -2, -2.00000000e+00, 0.        ,    1, 1.000e+00)\n",
      " ( -1,  -1, -2, -2.00000000e+00, 0.        ,    1, 1.000e+00)\n",
      " ( -1,  -1, -2, -2.00000000e+00, 0.        ,    6, 6.000e+00)\n",
      " ( -1,  -1, -2, -2.00000000e+00, 0.        ,    1, 1.000e+00)\n",
      " (308, 329,  0,  9.05672640e-01, 0.98869941,   32, 3.200e+01)\n",
      " (309, 326,  2, -4.88143101e-01, 0.99901027,   27, 2.700e+01)\n",
      " (310, 313,  0,  3.40542153e-01, 0.94945202,   19, 1.900e+01)\n",
      " (311, 312,  2, -6.40075684e-01, 0.81127812,    4, 4.000e+00)\n",
      " ( -1,  -1, -2, -2.00000000e+00, 0.        ,    3, 3.000e+00)\n",
      " ( -1,  -1, -2, -2.00000000e+00, 0.        ,    1, 1.000e+00)\n",
      " (314, 315,  0,  3.94364104e-01, 0.83664074,   15, 1.500e+01)\n",
      " ( -1,  -1, -2, -2.00000000e+00, 0.        ,    4, 4.000e+00)\n",
      " (316, 317,  2, -8.70040685e-01, 0.9456603 ,   11, 1.100e+01)\n",
      " ( -1,  -1, -2, -2.00000000e+00, 0.        ,    1, 1.000e+00)\n",
      " (318, 319,  0,  4.34730574e-01, 0.8812909 ,   10, 1.000e+01)\n",
      " ( -1,  -1, -2, -2.00000000e+00, 0.        ,    1, 1.000e+00)\n",
      " (320, 325,  2, -5.57173193e-01, 0.76420451,    9, 9.000e+00)\n",
      " (321, 324,  0,  5.42374462e-01, 0.54356444,    8, 8.000e+00)\n",
      " (322, 323,  2, -8.27685475e-01, 1.        ,    2, 2.000e+00)\n",
      " ( -1,  -1, -2, -2.00000000e+00, 0.        ,    1, 1.000e+00)\n",
      " ( -1,  -1, -2, -2.00000000e+00, 0.        ,    1, 1.000e+00)\n",
      " ( -1,  -1, -2, -2.00000000e+00, 0.        ,    6, 6.000e+00)\n",
      " ( -1,  -1, -2, -2.00000000e+00, 0.        ,    1, 1.000e+00)\n",
      " (327, 328,  0,  2.32898243e-01, 0.54356444,    8, 8.000e+00)\n",
      " ( -1,  -1, -2, -2.00000000e+00, 0.        ,    1, 1.000e+00)\n",
      " ( -1,  -1, -2, -2.00000000e+00, 0.        ,    7, 7.000e+00)\n",
      " ( -1,  -1, -2, -2.00000000e+00, 0.        ,    5, 5.000e+00)\n",
      " (331, 600,  2,  3.76337811e-01, 0.63250814, 1011, 1.011e+03)\n",
      " (332, 451,  0, -1.97677389e-01, 0.84975114,  493, 4.930e+02)\n",
      " (333, 344,  1, -5.38694650e-01, 0.58898073,  275, 2.750e+02)\n",
      " (334, 343,  2,  1.05124500e-01, 0.29747225,   57, 5.700e+01)\n",
      " (335, 340,  0, -2.51499347e-01, 0.5746357 ,   22, 2.200e+01)\n",
      " (336, 339,  1, -9.69171762e-01, 0.29747225,   19, 1.900e+01)\n",
      " (337, 338,  0, -4.12965208e-01, 1.        ,    2, 2.000e+00)\n",
      " ( -1,  -1, -2, -2.00000000e+00, 0.        ,    1, 1.000e+00)\n",
      " ( -1,  -1, -2, -2.00000000e+00, 0.        ,    1, 1.000e+00)\n",
      " ( -1,  -1, -2, -2.00000000e+00, 0.        ,   17, 1.700e+01)\n",
      " (341, 342,  1, -7.15949923e-01, 0.91829583,    3, 3.000e+00)\n",
      " ( -1,  -1, -2, -2.00000000e+00, 0.        ,    2, 2.000e+00)\n",
      " ( -1,  -1, -2, -2.00000000e+00, 0.        ,    1, 1.000e+00)\n",
      " ( -1,  -1, -2, -2.00000000e+00, 0.        ,   35, 3.500e+01)\n",
      " (345, 450,  2,  3.36971104e-01, 0.6464599 ,  218, 2.180e+02)\n",
      " (346, 351,  0, -1.30102742e+00, 0.67422303,  203, 2.030e+02)\n",
      " (347, 350,  2, -1.60702184e-01, 0.24988229,   24, 2.400e+01)\n",
      " (348, 349,  0, -1.48940426e+00, 0.91829583,    3, 3.000e+00)\n",
      " ( -1,  -1, -2, -2.00000000e+00, 0.        ,    2, 2.000e+00)\n",
      " ( -1,  -1, -2, -2.00000000e+00, 0.        ,    1, 1.000e+00)\n",
      " ( -1,  -1, -2, -2.00000000e+00, 0.        ,   21, 2.100e+01)\n",
      " (352, 371,  0, -1.00500670e+00, 0.71289899,  179, 1.790e+02)\n",
      " (353, 354,  2, -7.24499412e-02, 0.90716577,   31, 3.100e+01)\n",
      " ( -1,  -1, -2, -2.00000000e+00, 0.        ,    6, 6.000e+00)\n",
      " (355, 362,  1,  8.92008662e-01, 0.97095059,   25, 2.500e+01)\n",
      " (356, 357,  0, -1.26066095e+00, 0.91829583,    9, 9.000e+00)\n",
      " ( -1,  -1, -2, -2.00000000e+00, 0.        ,    2, 2.000e+00)\n",
      " (358, 361,  1, -1.20878641e-01, 0.59167278,    7, 7.000e+00)\n",
      " (359, 360,  2,  2.15402909e-01, 1.        ,    2, 2.000e+00)\n",
      " ( -1,  -1, -2, -2.00000000e+00, 0.        ,    1, 1.000e+00)\n",
      " ( -1,  -1, -2, -2.00000000e+00, 0.        ,    1, 1.000e+00)\n",
      " ( -1,  -1, -2, -2.00000000e+00, 0.        ,    5, 5.000e+00)\n",
      " (363, 370,  0, -1.08573961e+00, 0.81127812,   16, 1.600e+01)\n",
      " (364, 369,  2,  2.13152334e-01, 0.99107606,    9, 9.000e+00)\n",
      " (365, 366,  2, -2.06497097e-02, 0.86312057,    7, 7.000e+00)\n",
      " ( -1,  -1, -2, -2.00000000e+00, 0.        ,    1, 1.000e+00)\n",
      " (367, 368,  0, -1.11265063e+00, 0.65002242,    6, 6.000e+00)\n",
      " ( -1,  -1, -2, -2.00000000e+00, 0.        ,    5, 5.000e+00)\n",
      " ( -1,  -1, -2, -2.00000000e+00, 0.        ,    1, 1.000e+00)\n",
      " ( -1,  -1, -2, -2.00000000e+00, 0.        ,    2, 2.000e+00)\n",
      " ( -1,  -1, -2, -2.00000000e+00, 0.        ,    7, 7.000e+00)\n",
      " (372, 377,  0, -8.16629857e-01, 0.65522574,  148, 1.480e+02)\n",
      " (373, 374,  2,  3.24316218e-01, 0.19590927,   33, 3.300e+01)\n",
      " ( -1,  -1, -2, -2.00000000e+00, 0.        ,   31, 3.100e+01)\n",
      " (375, 376,  0, -9.10818249e-01, 1.        ,    2, 2.000e+00)\n",
      " ( -1,  -1, -2, -2.00000000e+00, 0.        ,    1, 1.000e+00)\n",
      " ( -1,  -1, -2, -2.00000000e+00, 0.        ,    1, 1.000e+00)\n",
      " (378, 449,  1,  2.58859491e+00, 0.73898212,  115, 1.150e+02)\n",
      " (379, 448,  1,  1.20853597e+00, 0.72542302,  114, 1.140e+02)\n",
      " (380, 433,  1,  3.98226097e-01, 0.76614934,  103, 1.030e+02)\n",
      " (381, 408,  2,  6.60898499e-02, 0.69312742,   86, 8.600e+01)\n",
      " (382, 383,  0, -6.68619484e-01, 0.84854818,   40, 4.000e+01)\n",
      " ( -1,  -1, -2, -2.00000000e+00, 0.        ,    5, 5.000e+00)\n",
      " (384, 387,  2, -1.62436239e-01, 0.89805879,   35, 3.500e+01)\n",
      " (385, 386,  2, -2.08517782e-01, 0.50325833,    9, 9.000e+00)\n",
      " ( -1,  -1, -2, -2.00000000e+00, 0.        ,    1, 1.000e+00)\n",
      " ( -1,  -1, -2, -2.00000000e+00, 0.        ,    8, 8.000e+00)\n",
      " (388, 389,  2, -1.26168694e-01, 0.9612366 ,   26, 2.600e+01)\n",
      " ( -1,  -1, -2, -2.00000000e+00, 0.        ,    4, 4.000e+00)\n",
      " (390, 397,  2, -3.75191242e-03, 0.84535094,   22, 2.200e+01)\n",
      " (391, 396,  1, -4.62728098e-01, 0.43949699,   11, 1.100e+01)\n",
      " (392, 393,  2, -9.96044762e-02, 0.91829583,    3, 3.000e+00)\n",
      " ( -1,  -1, -2, -2.00000000e+00, 0.        ,    1, 1.000e+00)\n",
      " (394, 395,  0, -5.47520101e-01, 1.        ,    2, 2.000e+00)\n",
      " ( -1,  -1, -2, -2.00000000e+00, 0.        ,    1, 1.000e+00)\n",
      " ( -1,  -1, -2, -2.00000000e+00, 0.        ,    1, 1.000e+00)\n",
      " ( -1,  -1, -2, -2.00000000e+00, 0.        ,    8, 8.000e+00)\n",
      " (398, 405,  1, -2.34828465e-01, 0.99403021,   11, 1.100e+01)\n",
      " (399, 404,  0, -3.59143242e-01, 0.91829583,    6, 6.000e+00)\n",
      " (400, 401,  0, -5.07153630e-01, 1.        ,    4, 4.000e+00)\n",
      " ( -1,  -1, -2, -2.00000000e+00, 0.        ,    1, 1.000e+00)\n",
      " (402, 403,  1, -4.37405929e-01, 0.91829583,    3, 3.000e+00)\n",
      " ( -1,  -1, -2, -2.00000000e+00, 0.        ,    1, 1.000e+00)\n",
      " ( -1,  -1, -2, -2.00000000e+00, 0.        ,    2, 2.000e+00)\n",
      " ( -1,  -1, -2, -2.00000000e+00, 0.        ,    2, 2.000e+00)\n",
      " (406, 407,  1,  8.16988230e-02, 0.72192809,    5, 5.000e+00)\n",
      " ( -1,  -1, -2, -2.00000000e+00, 0.        ,    4, 4.000e+00)\n",
      " ( -1,  -1, -2, -2.00000000e+00, 0.        ,    1, 1.000e+00)\n",
      " (409, 432,  1,  5.73227368e-03, 0.49596907,   46, 4.600e+01)\n",
      " (410, 431,  0, -3.32232267e-01, 0.62526241,   32, 3.200e+01)\n",
      " (411, 424,  2,  2.75356889e-01, 0.73828487,   24, 2.400e+01)\n",
      " (412, 423,  2,  2.11861007e-01, 0.6098403 ,   20, 2.000e+01)\n",
      " (413, 422,  2,  1.92528158e-01, 0.72192809,   15, 1.500e+01)\n",
      " (414, 421,  1, -3.86761561e-01, 0.59167278,   14, 1.400e+01)\n",
      " (415, 420,  2,  1.63012363e-01, 0.97095059,    5, 5.000e+00)\n",
      " (416, 417,  0, -4.53331664e-01, 0.81127812,    4, 4.000e+00)\n",
      " ( -1,  -1, -2, -2.00000000e+00, 0.        ,    2, 2.000e+00)\n",
      " (418, 419,  1, -5.00711381e-01, 1.        ,    2, 2.000e+00)\n",
      " ( -1,  -1, -2, -2.00000000e+00, 0.        ,    1, 1.000e+00)\n",
      " ( -1,  -1, -2, -2.00000000e+00, 0.        ,    1, 1.000e+00)\n",
      " ( -1,  -1, -2, -2.00000000e+00, 0.        ,    1, 1.000e+00)\n",
      " ( -1,  -1, -2, -2.00000000e+00, 0.        ,    9, 9.000e+00)\n",
      " ( -1,  -1, -2, -2.00000000e+00, 0.        ,    1, 1.000e+00)\n",
      " ( -1,  -1, -2, -2.00000000e+00, 0.        ,    5, 5.000e+00)\n",
      " (425, 426,  0, -5.74431047e-01, 1.        ,    4, 4.000e+00)\n",
      " ( -1,  -1, -2, -2.00000000e+00, 0.        ,    1, 1.000e+00)\n",
      " (427, 428,  0, -4.12965193e-01, 0.91829583,    3, 3.000e+00)\n",
      " ( -1,  -1, -2, -2.00000000e+00, 0.        ,    1, 1.000e+00)\n",
      " (429, 430,  1, -2.85472833e-01, 1.        ,    2, 2.000e+00)\n",
      " ( -1,  -1, -2, -2.00000000e+00, 0.        ,    1, 1.000e+00)\n",
      " ( -1,  -1, -2, -2.00000000e+00, 0.        ,    1, 1.000e+00)\n",
      " ( -1,  -1, -2, -2.00000000e+00, 0.        ,    8, 8.000e+00)\n",
      " ( -1,  -1, -2, -2.00000000e+00, 0.        ,   14, 1.400e+01)\n",
      " (434, 435,  1,  4.74192649e-01, 0.97741782,   17, 1.700e+01)\n",
      " ( -1,  -1, -2, -2.00000000e+00, 0.        ,    2, 2.000e+00)\n",
      " (436, 437,  2, -7.42577817e-02, 0.91829583,   15, 1.500e+01)\n",
      " ( -1,  -1, -2, -2.00000000e+00, 0.        ,    3, 3.000e+00)\n",
      " (438, 447,  2,  2.28721917e-01, 0.97986876,   12, 1.200e+01)\n",
      " (439, 446,  2,  1.61831729e-01, 0.99107606,    9, 9.000e+00)\n",
      " (440, 445,  2,  1.34123772e-01, 0.98522814,    7, 7.000e+00)\n",
      " (441, 444,  2,  7.13289045e-02, 0.97095059,    5, 5.000e+00)\n",
      " (442, 443,  2, -1.27996504e-03, 0.91829583,    3, 3.000e+00)\n",
      " ( -1,  -1, -2, -2.00000000e+00, 0.        ,    1, 1.000e+00)\n",
      " ( -1,  -1, -2, -2.00000000e+00, 0.        ,    2, 2.000e+00)\n",
      " ( -1,  -1, -2, -2.00000000e+00, 0.        ,    2, 2.000e+00)\n",
      " ( -1,  -1, -2, -2.00000000e+00, 0.        ,    2, 2.000e+00)\n",
      " ( -1,  -1, -2, -2.00000000e+00, 0.        ,    2, 2.000e+00)\n",
      " ( -1,  -1, -2, -2.00000000e+00, 0.        ,    3, 3.000e+00)\n",
      " ( -1,  -1, -2, -2.00000000e+00, 0.        ,   11, 1.100e+01)\n",
      " ( -1,  -1, -2, -2.00000000e+00, 0.        ,    1, 1.000e+00)\n",
      " ( -1,  -1, -2, -2.00000000e+00, 0.        ,   15, 1.500e+01)\n",
      " (452, 599,  0,  1.39007020e+00, 0.99123938,  218, 2.180e+02)\n",
      " (453, 522,  1, -5.64016819e-01, 0.98550647,  212, 2.120e+02)\n",
      " (454, 489,  0,  1.79076292e-01, 0.99664403,   88, 8.800e+01)\n",
      " (455, 456,  2, -1.47641443e-01, 0.97338544,   47, 4.700e+01)\n",
      " ( -1,  -1, -2, -2.00000000e+00, 0.        ,    7, 7.000e+00)\n",
      " (457, 462,  2, -7.47005194e-02, 0.99819588,   40, 4.000e+01)\n",
      " (458, 459,  0,  1.76104247e-02, 0.89049164,   13, 1.300e+01)\n",
      " ( -1,  -1, -2, -2.00000000e+00, 0.        ,    8, 8.000e+00)\n",
      " (460, 461,  1, -6.39983386e-01, 0.72192809,    5, 5.000e+00)\n",
      " ( -1,  -1, -2, -2.00000000e+00, 0.        ,    4, 4.000e+00)\n",
      " ( -1,  -1, -2, -2.00000000e+00, 0.        ,    1, 1.000e+00)\n",
      " (463, 476,  0,  4.45214016e-02, 0.95095605,   27, 2.700e+01)\n",
      " (464, 465,  1, -7.41272092e-01, 0.78712659,   17, 1.700e+01)\n",
      " ( -1,  -1, -2, -2.00000000e+00, 0.        ,    9, 9.000e+00)\n",
      " (466, 471,  0, -1.03488967e-01, 1.        ,    8, 8.000e+00)\n",
      " (467, 468,  2,  9.69338622e-02, 0.81127812,    4, 4.000e+00)\n",
      " ( -1,  -1, -2, -2.00000000e+00, 0.        ,    2, 2.000e+00)\n",
      " (469, 470,  2,  1.77954733e-01, 1.        ,    2, 2.000e+00)\n",
      " ( -1,  -1, -2, -2.00000000e+00, 0.        ,    1, 1.000e+00)\n",
      " ( -1,  -1, -2, -2.00000000e+00, 0.        ,    1, 1.000e+00)\n",
      " (472, 473,  0, -3.62115279e-02, 0.81127812,    4, 4.000e+00)\n",
      " ( -1,  -1, -2, -2.00000000e+00, 0.        ,    2, 2.000e+00)\n",
      " (474, 475,  1, -6.90627754e-01, 1.        ,    2, 2.000e+00)\n",
      " ( -1,  -1, -2, -2.00000000e+00, 0.        ,    1, 1.000e+00)\n",
      " ( -1,  -1, -2, -2.00000000e+00, 0.        ,    1, 1.000e+00)\n",
      " (477, 478,  2, -6.91663064e-02, 0.97095059,   10, 1.000e+01)\n",
      " ( -1,  -1, -2, -2.00000000e+00, 0.        ,    1, 1.000e+00)\n",
      " (479, 488,  0,  1.52165309e-01, 0.91829583,    9, 9.000e+00)\n",
      " (480, 487,  0,  9.83433574e-02, 0.81127812,    8, 8.000e+00)\n",
      " (481, 482,  1, -8.67883027e-01, 0.97095059,    5, 5.000e+00)\n",
      " ( -1,  -1, -2, -2.00000000e+00, 0.        ,    1, 1.000e+00)\n",
      " (483, 484,  1, -6.52644485e-01, 0.81127812,    4, 4.000e+00)\n",
      " ( -1,  -1, -2, -2.00000000e+00, 0.        ,    2, 2.000e+00)\n",
      " (485, 486,  0,  7.14323800e-02, 1.        ,    2, 2.000e+00)\n",
      " ( -1,  -1, -2, -2.00000000e+00, 0.        ,    1, 1.000e+00)\n",
      " ( -1,  -1, -2, -2.00000000e+00, 0.        ,    1, 1.000e+00)\n",
      " ( -1,  -1, -2, -2.00000000e+00, 0.        ,    3, 3.000e+00)\n",
      " ( -1,  -1, -2, -2.00000000e+00, 0.        ,    1, 1.000e+00)\n",
      " (490, 491,  2, -1.24545325e-01, 0.9011702 ,   41, 4.100e+01)\n",
      " ( -1,  -1, -2, -2.00000000e+00, 0.        ,    8, 8.000e+00)\n",
      " (492, 499,  1, -9.81832862e-01, 0.96729478,   33, 3.300e+01)\n",
      " (493, 494,  0,  3.13631162e-01, 0.954434  ,    8, 8.000e+00)\n",
      " ( -1,  -1, -2, -2.00000000e+00, 0.        ,    2, 2.000e+00)\n",
      " (495, 496,  2,  2.04518959e-01, 0.65002242,    6, 6.000e+00)\n",
      " ( -1,  -1, -2, -2.00000000e+00, 0.        ,    3, 3.000e+00)\n",
      " (497, 498,  2,  2.42963284e-01, 0.91829583,    3, 3.000e+00)\n",
      " ( -1,  -1, -2, -2.00000000e+00, 0.        ,    1, 1.000e+00)\n",
      " ( -1,  -1, -2, -2.00000000e+00, 0.        ,    2, 2.000e+00)\n",
      " (500, 521,  0,  6.90384865e-01, 0.90438146,   25, 2.500e+01)\n",
      " (501, 512,  1, -7.28611022e-01, 0.95871188,   21, 2.100e+01)\n",
      " (502, 503,  2,  1.78766422e-01, 0.81127812,   12, 1.200e+01)\n",
      " ( -1,  -1, -2, -2.00000000e+00, 0.        ,    5, 5.000e+00)\n",
      " (504, 505,  2,  2.19535120e-01, 0.98522814,    7, 7.000e+00)\n",
      " ( -1,  -1, -2, -2.00000000e+00, 0.        ,    1, 1.000e+00)\n",
      " (506, 511,  2,  3.18449944e-01, 0.91829583,    6, 6.000e+00)\n",
      " (507, 508,  0,  5.28918982e-01, 0.72192809,    5, 5.000e+00)\n",
      " ( -1,  -1, -2, -2.00000000e+00, 0.        ,    3, 3.000e+00)\n",
      " (509, 510,  0,  6.23107404e-01, 1.        ,    2, 2.000e+00)\n",
      " ( -1,  -1, -2, -2.00000000e+00, 0.        ,    1, 1.000e+00)\n",
      " ( -1,  -1, -2, -2.00000000e+00, 0.        ,    1, 1.000e+00)\n",
      " ( -1,  -1, -2, -2.00000000e+00, 0.        ,    1, 1.000e+00)\n",
      " (513, 514,  0,  4.48186055e-01, 0.99107606,    9, 9.000e+00)\n",
      " ( -1,  -1, -2, -2.00000000e+00, 0.        ,    3, 3.000e+00)\n",
      " (515, 520,  0,  6.09651923e-01, 0.91829583,    6, 6.000e+00)\n",
      " (516, 519,  2,  5.55748474e-02, 0.72192809,    5, 5.000e+00)\n",
      " (517, 518,  2, -5.52286208e-03, 1.        ,    2, 2.000e+00)\n",
      " ( -1,  -1, -2, -2.00000000e+00, 0.        ,    1, 1.000e+00)\n",
      " ( -1,  -1, -2, -2.00000000e+00, 0.        ,    1, 1.000e+00)\n",
      " ( -1,  -1, -2, -2.00000000e+00, 0.        ,    3, 3.000e+00)\n",
      " ( -1,  -1, -2, -2.00000000e+00, 0.        ,    1, 1.000e+00)\n",
      " ( -1,  -1, -2, -2.00000000e+00, 0.        ,    4, 4.000e+00)\n",
      " (523, 524,  1, -5.13372481e-01, 0.93831535,  124, 1.240e+02)\n",
      " ( -1,  -1, -2, -2.00000000e+00, 0.        ,    6, 6.000e+00)\n",
      " (525, 598,  1,  1.25918031e+00, 0.95285881,  118, 1.180e+02)\n",
      " (526, 533,  2, -1.71143398e-01, 0.96439862,  113, 1.130e+02)\n",
      " (527, 532,  2, -2.05639996e-01, 0.61938219,   13, 1.300e+01)\n",
      " (528, 529,  0,  9.83433574e-02, 1.        ,    4, 4.000e+00)\n",
      " ( -1,  -1, -2, -2.00000000e+00, 0.        ,    1, 1.000e+00)\n",
      " (530, 531,  0,  4.88552511e-01, 0.91829583,    3, 3.000e+00)\n",
      " ( -1,  -1, -2, -2.00000000e+00, 0.        ,    2, 2.000e+00)\n",
      " ( -1,  -1, -2, -2.00000000e+00, 0.        ,    1, 1.000e+00)\n",
      " ( -1,  -1, -2, -2.00000000e+00, 0.        ,    9, 9.000e+00)\n",
      " (534, 535,  2, -1.49375491e-01, 0.9814539 ,  100, 1.000e+02)\n",
      " ( -1,  -1, -2, -2.00000000e+00, 0.        ,    5, 5.000e+00)\n",
      " (536, 547,  0, -9.00334790e-02, 0.96445906,   95, 9.500e+01)\n",
      " (537, 546,  1,  1.08192500e+00, 0.68403844,   22, 2.200e+01)\n",
      " (538, 545,  2,  3.20958793e-01, 0.59167278,   21, 2.100e+01)\n",
      " (539, 544,  2,  1.37628771e-01, 0.46899559,   20, 2.000e+01)\n",
      " (540, 541,  2,  9.62328613e-02, 0.68403844,   11, 1.100e+01)\n",
      " ( -1,  -1, -2, -2.00000000e+00, 0.        ,    8, 8.000e+00)\n",
      " (542, 543,  1,  3.09598464e-01, 0.91829583,    3, 3.000e+00)\n",
      " ( -1,  -1, -2, -2.00000000e+00, 0.        ,    2, 2.000e+00)\n",
      " ( -1,  -1, -2, -2.00000000e+00, 0.        ,    1, 1.000e+00)\n",
      " ( -1,  -1, -2, -2.00000000e+00, 0.        ,    9, 9.000e+00)\n",
      " ( -1,  -1, -2, -2.00000000e+00, 0.        ,    1, 1.000e+00)\n",
      " ( -1,  -1, -2, -2.00000000e+00, 0.        ,    1, 1.000e+00)\n",
      " (548, 557,  0, -9.30055184e-03, 0.99335703,   73, 7.300e+01)\n",
      " (549, 556,  1,  6.13464653e-01, 0.93666738,   17, 1.700e+01)\n",
      " (550, 555,  1, -1.96845189e-01, 0.83664074,   15, 1.500e+01)\n",
      " (551, 554,  1, -3.86761546e-01, 0.91829583,    6, 6.000e+00)\n",
      " (552, 553,  1, -4.88050282e-01, 0.91829583,    3, 3.000e+00)\n",
      " ( -1,  -1, -2, -2.00000000e+00, 0.        ,    1, 1.000e+00)\n",
      " ( -1,  -1, -2, -2.00000000e+00, 0.        ,    2, 2.000e+00)\n",
      " ( -1,  -1, -2, -2.00000000e+00, 0.        ,    3, 3.000e+00)\n",
      " ( -1,  -1, -2, -2.00000000e+00, 0.        ,    9, 9.000e+00)\n",
      " ( -1,  -1, -2, -2.00000000e+00, 0.        ,    2, 2.000e+00)\n",
      " (558, 585,  0,  3.40542153e-01, 0.96661863,   56, 5.600e+01)\n",
      " (559, 568,  2, -7.09372573e-02, 0.89805879,   35, 3.500e+01)\n",
      " (560, 561,  1, -2.09506281e-01, 0.97095059,   10, 1.000e+01)\n",
      " ( -1,  -1, -2, -2.00000000e+00, 0.        ,    4, 4.000e+00)\n",
      " (562, 567,  1,  8.16042140e-01, 0.91829583,    6, 6.000e+00)\n",
      " (563, 564,  2, -1.04659054e-01, 0.72192809,    5, 5.000e+00)\n",
      " ( -1,  -1, -2, -2.00000000e+00, 0.        ,    3, 3.000e+00)\n",
      " (565, 566,  0,  2.05987263e-01, 1.        ,    2, 2.000e+00)\n",
      " ( -1,  -1, -2, -2.00000000e+00, 0.        ,    1, 1.000e+00)\n",
      " ( -1,  -1, -2, -2.00000000e+00, 0.        ,    1, 1.000e+00)\n",
      " ( -1,  -1, -2, -2.00000000e+00, 0.        ,    1, 1.000e+00)\n",
      " (569, 570,  1, -4.37405914e-01, 0.72192809,   25, 2.500e+01)\n",
      " ( -1,  -1, -2, -2.00000000e+00, 0.        ,    1, 1.000e+00)\n",
      " (571, 576,  2,  1.56297520e-01, 0.65002242,   24, 2.400e+01)\n",
      " (572, 575,  1, -3.86761561e-01, 0.35335934,   15, 1.500e+01)\n",
      " (573, 574,  0,  7.14323800e-02, 0.91829583,    3, 3.000e+00)\n",
      " ( -1,  -1, -2, -2.00000000e+00, 0.        ,    1, 1.000e+00)\n",
      " ( -1,  -1, -2, -2.00000000e+00, 0.        ,    2, 2.000e+00)\n",
      " ( -1,  -1, -2, -2.00000000e+00, 0.        ,   12, 1.200e+01)\n",
      " (577, 584,  0,  2.86720194e-01, 0.91829583,    9, 9.000e+00)\n",
      " (578, 583,  2,  2.39974812e-01, 0.81127812,    8, 8.000e+00)\n",
      " (579, 580,  0,  1.76104247e-02, 1.        ,    4, 4.000e+00)\n",
      " ( -1,  -1, -2, -2.00000000e+00, 0.        ,    1, 1.000e+00)\n",
      " (581, 582,  0,  1.79076288e-01, 0.91829583,    3, 3.000e+00)\n",
      " ( -1,  -1, -2, -2.00000000e+00, 0.        ,    2, 2.000e+00)\n",
      " ( -1,  -1, -2, -2.00000000e+00, 0.        ,    1, 1.000e+00)\n",
      " ( -1,  -1, -2, -2.00000000e+00, 0.        ,    4, 4.000e+00)\n",
      " ( -1,  -1, -2, -2.00000000e+00, 0.        ,    1, 1.000e+00)\n",
      " (586, 597,  1,  4.37155471e-02, 0.99836367,   21, 2.100e+01)\n",
      " (587, 588,  2, -7.52908364e-02, 0.954434  ,   16, 1.600e+01)\n",
      " ( -1,  -1, -2, -2.00000000e+00, 0.        ,    4, 4.000e+00)\n",
      " (589, 596,  0,  9.59494591e-01, 1.        ,   12, 1.200e+01)\n",
      " (590, 591,  2, -5.18995635e-02, 0.91829583,    9, 9.000e+00)\n",
      " ( -1,  -1, -2, -2.00000000e+00, 0.        ,    1, 1.000e+00)\n",
      " (592, 593,  2,  1.88691106e-01, 0.81127812,    8, 8.000e+00)\n",
      " ( -1,  -1, -2, -2.00000000e+00, 0.        ,    5, 5.000e+00)\n",
      " (594, 595,  2,  3.07270840e-01, 0.91829583,    3, 3.000e+00)\n",
      " ( -1,  -1, -2, -2.00000000e+00, 0.        ,    2, 2.000e+00)\n",
      " ( -1,  -1, -2, -2.00000000e+00, 0.        ,    1, 1.000e+00)\n",
      " ( -1,  -1, -2, -2.00000000e+00, 0.        ,    3, 3.000e+00)\n",
      " ( -1,  -1, -2, -2.00000000e+00, 0.        ,    5, 5.000e+00)\n",
      " ( -1,  -1, -2, -2.00000000e+00, 0.        ,    5, 5.000e+00)\n",
      " ( -1,  -1, -2, -2.00000000e+00, 0.        ,    6, 6.000e+00)\n",
      " (601, 640,  0, -1.16944455e-01, 0.27897003,  518, 5.180e+02)\n",
      " (602, 639,  2,  1.34157830e+00, 0.1860511 ,  388, 3.880e+02)\n",
      " (603, 638,  2,  1.33062053e+00, 0.24363416,  273, 2.730e+02)\n",
      " (604, 611,  1, -2.85472825e-01, 0.22725656,  272, 2.720e+02)\n",
      " (605, 606,  0, -2.24588372e-01, 0.06952965,  120, 1.200e+02)\n",
      " ( -1,  -1, -2, -2.00000000e+00, 0.        ,  102, 1.020e+02)\n",
      " (607, 610,  2,  5.66050619e-01, 0.30954343,   18, 1.800e+01)\n",
      " (608, 609,  0, -1.97677389e-01, 0.91829583,    3, 3.000e+00)\n",
      " ( -1,  -1, -2, -2.00000000e+00, 0.        ,    1, 1.000e+00)\n",
      " ( -1,  -1, -2, -2.00000000e+00, 0.        ,    2, 2.000e+00)\n",
      " ( -1,  -1, -2, -2.00000000e+00, 0.        ,   15, 1.500e+01)\n",
      " (612, 613,  2,  5.12848407e-01, 0.324303  ,  152, 1.520e+02)\n",
      " ( -1,  -1, -2, -2.00000000e+00, 0.        ,   34, 3.400e+01)\n",
      " (614, 615,  2,  5.15320331e-01, 0.38890223,  118, 1.180e+02)\n",
      " ( -1,  -1, -2, -2.00000000e+00, 0.        ,    1, 1.000e+00)\n",
      " (616, 637,  2,  9.92849082e-01, 0.35983402,  117, 1.170e+02)\n",
      " (617, 636,  2,  9.82739955e-01, 0.42304882,   93, 9.300e+01)\n",
      " (618, 635,  2,  8.43388468e-01, 0.38823898,   92, 9.200e+01)\n",
      " (619, 626,  2,  7.62072444e-01, 0.47825016,   68, 6.800e+01)\n",
      " (620, 621,  1, -2.60150649e-01, 0.22853814,   54, 5.400e+01)\n",
      " ( -1,  -1, -2, -2.00000000e+00, 0.        ,    1, 1.000e+00)\n",
      " (622, 625,  2,  5.31664699e-01, 0.1350362 ,   53, 5.300e+01)\n",
      " (623, 624,  2,  5.28491765e-01, 0.81127812,    4, 4.000e+00)\n",
      " ( -1,  -1, -2, -2.00000000e+00, 0.        ,    3, 3.000e+00)\n",
      " ( -1,  -1, -2, -2.00000000e+00, 0.        ,    1, 1.000e+00)\n",
      " ( -1,  -1, -2, -2.00000000e+00, 0.        ,   49, 4.900e+01)\n",
      " (627, 630,  2,  7.81921804e-01, 0.94028596,   14, 1.400e+01)\n",
      " (628, 629,  1,  1.83933675e-02, 0.81127812,    4, 4.000e+00)\n",
      " ( -1,  -1, -2, -2.00000000e+00, 0.        ,    1, 1.000e+00)\n",
      " ( -1,  -1, -2, -2.00000000e+00, 0.        ,    3, 3.000e+00)\n",
      " (631, 634,  0, -4.26420689e-01, 0.72192809,   10, 1.000e+01)\n",
      " (632, 633,  2,  8.36526036e-01, 0.50325833,    9, 9.000e+00)\n",
      " ( -1,  -1, -2, -2.00000000e+00, 0.        ,    8, 8.000e+00)\n",
      " ( -1,  -1, -2, -2.00000000e+00, 0.        ,    1, 1.000e+00)\n",
      " ( -1,  -1, -2, -2.00000000e+00, 0.        ,    1, 1.000e+00)\n",
      " ( -1,  -1, -2, -2.00000000e+00, 0.        ,   24, 2.400e+01)\n",
      " ( -1,  -1, -2, -2.00000000e+00, 0.        ,    1, 1.000e+00)\n",
      " ( -1,  -1, -2, -2.00000000e+00, 0.        ,   24, 2.400e+01)\n",
      " ( -1,  -1, -2, -2.00000000e+00, 0.        ,    1, 1.000e+00)\n",
      " ( -1,  -1, -2, -2.00000000e+00, 0.        ,  115, 1.150e+02)\n",
      " (641, 658,  2,  6.31797075e-01, 0.49291578,  130, 1.300e+02)\n",
      " (642, 651,  2,  5.23252696e-01, 0.74959526,   42, 4.200e+01)\n",
      " (643, 646,  1, -5.89339018e-01, 0.55477816,   31, 3.100e+01)\n",
      " (644, 645,  1, -7.28611022e-01, 0.8812909 ,   10, 1.000e+01)\n",
      " ( -1,  -1, -2, -2.00000000e+00, 0.        ,    7, 7.000e+00)\n",
      " ( -1,  -1, -2, -2.00000000e+00, 0.        ,    3, 3.000e+00)\n",
      " (647, 650,  2,  4.55919787e-01, 0.27619543,   21, 2.100e+01)\n",
      " (648, 649,  2,  4.54148844e-01, 0.46899559,   10, 1.000e+01)\n",
      " ( -1,  -1, -2, -2.00000000e+00, 0.        ,    9, 9.000e+00)\n",
      " ( -1,  -1, -2, -2.00000000e+00, 0.        ,    1, 1.000e+00)\n",
      " ( -1,  -1, -2, -2.00000000e+00, 0.        ,   11, 1.100e+01)\n",
      " (652, 657,  1, -1.58861917e-01, 0.99403021,   11, 1.100e+01)\n",
      " (653, 656,  2,  6.24012291e-01, 0.81127812,    8, 8.000e+00)\n",
      " (654, 655,  0,  5.69285445e-01, 0.59167278,    7, 7.000e+00)\n",
      " ( -1,  -1, -2, -2.00000000e+00, 0.        ,    6, 6.000e+00)\n",
      " ( -1,  -1, -2, -2.00000000e+00, 0.        ,    1, 1.000e+00)\n",
      " ( -1,  -1, -2, -2.00000000e+00, 0.        ,    1, 1.000e+00)\n",
      " ( -1,  -1, -2, -2.00000000e+00, 0.        ,    3, 3.000e+00)\n",
      " (659, 668,  2,  2.09072626e+00, 0.3146826 ,   88, 8.800e+01)\n",
      " (660, 661,  0,  2.73264699e-01, 0.17203695,   78, 7.800e+01)\n",
      " ( -1,  -1, -2, -2.00000000e+00, 0.        ,   54, 5.400e+01)\n",
      " (662, 667,  0,  3.40542153e-01, 0.41381685,   24, 2.400e+01)\n",
      " (663, 666,  2,  1.01664624e+00, 0.97095059,    5, 5.000e+00)\n",
      " (664, 665,  2,  7.99409926e-01, 0.91829583,    3, 3.000e+00)\n",
      " ( -1,  -1, -2, -2.00000000e+00, 0.        ,    1, 1.000e+00)\n",
      " ( -1,  -1, -2, -2.00000000e+00, 0.        ,    2, 2.000e+00)\n",
      " ( -1,  -1, -2, -2.00000000e+00, 0.        ,    2, 2.000e+00)\n",
      " ( -1,  -1, -2, -2.00000000e+00, 0.        ,   19, 1.900e+01)\n",
      " (669, 670,  0, -6.31225035e-02, 0.8812909 ,   10, 1.000e+01)\n",
      " ( -1,  -1, -2, -2.00000000e+00, 0.        ,    2, 2.000e+00)\n",
      " (671, 672,  2,  2.16263413e+00, 0.54356444,    8, 8.000e+00)\n",
      " ( -1,  -1, -2, -2.00000000e+00, 0.        ,    1, 1.000e+00)\n",
      " ( -1,  -1, -2, -2.00000000e+00, 0.        ,    7, 7.000e+00)]\n"
     ]
    },
    {
     "data": {
      "text/plain": [
       "673"
      ]
     },
     "execution_count": 73,
     "metadata": {},
     "output_type": "execute_result"
    }
   ],
   "source": [
    "classifier = DecisionTreeClassifier(criterion = \"entropy\", splitter=\"best\", min_weight_fraction_leaf=0.0, max_features=None, random_state=0, max_leaf_nodes=None, min_impurity_decrease=0.0, min_impurity_split=None, class_weight=None)\n",
    "classifier.fit(x_train_scaled_df[['Unemployment', 'SelfEmployed', 'Income']], y_train)\n",
    "\n",
    "\n",
    "# Show the structure of the decision tree classifier\n",
    "print(classifier.tree_.__getstate__()['nodes'])\n",
    "len(classifier.tree_.__getstate__()['nodes'])"
   ]
  },
  {
   "cell_type": "code",
   "execution_count": 74,
   "metadata": {
    "colab": {
     "base_uri": "https://localhost:8080/",
     "height": 297
    },
    "colab_type": "code",
    "executionInfo": {
     "elapsed": 8512,
     "status": "ok",
     "timestamp": 1575244697792,
     "user": {
      "displayName": "Lydia Tse",
      "photoUrl": "",
      "userId": "08063489847245829399"
     },
     "user_tz": 360
    },
    "id": "v2Nbo4ou0-9K",
    "outputId": "d6b96cff-6c66-4ece-c8be-5636480dcd07"
   },
   "outputs": [
    {
     "data": {
      "image/png": "[encoded data removed]",
      "text/plain": [
       "<Figure size 432x288 with 2 Axes>"
      ]
     },
     "metadata": {
      "needs_background": "light"
     },
     "output_type": "display_data"
    }
   ],
   "source": [
    "y_pred = classifier.predict(x_validation_scaled_df[['Unemployment', 'SelfEmployed', 'Income']])\n",
    "conf_matrix = metrics.confusion_matrix(y_validation, y_pred)\n",
    "sns.heatmap(conf_matrix, annot = True, fmt = \".3f\", square = True, cmap = plt.cm.Blues)\n",
    "plt.ylabel('Actual')\n",
    "plt.xlabel('Predicted')\n",
    "plt.title('Confusion matrix')\n",
    "plt.tight_layout()"
   ]
  },
  {
   "cell_type": "code",
   "execution_count": 75,
   "metadata": {
    "colab": {
     "base_uri": "https://localhost:8080/",
     "height": 54
    },
    "colab_type": "code",
    "executionInfo": {
     "elapsed": 8510,
     "status": "ok",
     "timestamp": 1575244697792,
     "user": {
      "displayName": "Lydia Tse",
      "photoUrl": "",
      "userId": "08063489847245829399"
     },
     "user_tz": 360
    },
    "id": "WQumFhBa1Ayt",
    "outputId": "b5e90556-1283-47e6-e1cb-ce3d4e8cc5f7"
   },
   "outputs": [
    {
     "name": "stdout",
     "output_type": "stream",
     "text": [
      "[0.7578253706754531, 0.24217462932454692, array([0.78461538, 0.72695035]), array([0.76807229, 0.74545455]), array([0.77625571, 0.73608618])]\n"
     ]
    }
   ],
   "source": [
    "accuracy = metrics.accuracy_score(y_validation, y_pred)\n",
    "error = 1 - accuracy\n",
    "precision = metrics.precision_score(y_validation, y_pred, average = None)\n",
    "recall = metrics.recall_score(y_validation, y_pred, average = None)\n",
    "F1_score = metrics.f1_score(y_validation, y_pred, average = None)\n",
    "print([accuracy, error, precision, recall, F1_score])"
   ]
  },
  {
   "cell_type": "markdown",
   "metadata": {
    "colab_type": "text",
    "id": "RZF_2lN21DqI"
   },
   "source": [
    "----"
   ]
  },
  {
   "cell_type": "markdown",
   "metadata": {
    "colab_type": "text",
    "id": "7FRwkhE01GRV"
   },
   "source": [
    "MODEL 4\n",
    "\n",
    "    -Variables Used: Hispanic, Black, White, Percent_Women, Unemployment, Income, SelfEmployment"
   ]
  },
  {
   "cell_type": "code",
   "execution_count": 76,
   "metadata": {
    "colab": {
     "base_uri": "https://localhost:8080/",
     "height": 1000
    },
    "colab_type": "code",
    "executionInfo": {
     "elapsed": 8715,
     "status": "ok",
     "timestamp": 1575244697999,
     "user": {
      "displayName": "Lydia Tse",
      "photoUrl": "",
      "userId": "08063489847245829399"
     },
     "user_tz": 360
    },
    "id": "NGP_diIG1IPM",
    "outputId": "407c7c44-d807-4c1c-d9dc-b2ddc32c93d0"
   },
   "outputs": [
    {
     "name": "stdout",
     "output_type": "stream",
     "text": [
      "[(  1, 226,  5, -0.21283446, 0.98612608, 1820, 1.820e+03)\n",
      " (  2,  25,  5, -0.92984706, 0.77786044,  809, 8.090e+02)\n",
      " (  3,  24,  4,  0.71729583, 0.1854148 ,  248, 2.480e+02)\n",
      " (  4,   5,  0, -0.43788569, 0.34626857,  108, 1.080e+02)\n",
      " ( -1,  -1, -2, -2.        , 0.        ,   59, 5.900e+01)\n",
      " (  6,   7,  1, -0.58036596, 0.59167278,   49, 4.900e+01)\n",
      " ( -1,  -1, -2, -2.        , 0.        ,   14, 1.400e+01)\n",
      " (  8,   9,  5, -1.69002646, 0.72192809,   35, 3.500e+01)\n",
      " ( -1,  -1, -2, -2.        , 0.        ,    2, 2.000e+00)\n",
      " ( 10,  15,  6, -0.8932052 , 0.61361902,   33, 3.300e+01)\n",
      " ( 11,  12,  1,  0.41721437, 0.97095059,    5, 5.000e+00)\n",
      " ( -1,  -1, -2, -2.        , 0.        ,    2, 2.000e+00)\n",
      " ( 13,  14,  4,  0.13870982, 0.91829583,    3, 3.000e+00)\n",
      " ( -1,  -1, -2, -2.        , 0.        ,    1, 1.000e+00)\n",
      " ( -1,  -1, -2, -2.        , 0.        ,    2, 2.000e+00)\n",
      " ( 16,  17,  2,  0.07151122, 0.37123233,   28, 2.800e+01)\n",
      " ( -1,  -1, -2, -2.        , 0.        ,   19, 1.900e+01)\n",
      " ( 18,  23,  1,  0.18269548, 0.76420451,    9, 9.000e+00)\n",
      " ( 19,  22,  1, -0.54536313, 0.54356444,    8, 8.000e+00)\n",
      " ( 20,  21,  5, -1.05414546, 1.        ,    2, 2.000e+00)\n",
      " ( -1,  -1, -2, -2.        , 0.        ,    1, 1.000e+00)\n",
      " ( -1,  -1, -2, -2.        , 0.        ,    1, 1.000e+00)\n",
      " ( -1,  -1, -2, -2.        , 0.        ,    6, 6.000e+00)\n",
      " ( -1,  -1, -2, -2.        , 0.        ,    1, 1.000e+00)\n",
      " ( -1,  -1, -2, -2.        , 0.        ,  140, 1.400e+02)\n",
      " ( 26,  87,  4, -0.33223227, 0.90337062,  561, 5.610e+02)\n",
      " ( 27,  58,  1, -0.54536313, 0.97009651,  138, 1.380e+02)\n",
      " ( 28,  57,  3,  0.57191768, 0.82805573,   69, 6.900e+01)\n",
      " ( 29,  52,  5, -0.34761098, 0.88741793,   59, 5.900e+01)\n",
      " ( 30,  41,  2,  0.69801652, 0.96495677,   41, 4.100e+01)\n",
      " ( 31,  36,  1, -0.56636482, 0.94028596,   14, 1.400e+01)\n",
      " ( 32,  33,  2,  0.63426685, 0.54356444,    8, 8.000e+00)\n",
      " ( -1,  -1, -2, -2.        , 0.        ,    6, 6.000e+00)\n",
      " ( 34,  35,  3, -0.57258205, 1.        ,    2, 2.000e+00)\n",
      " ( -1,  -1, -2, -2.        , 0.        ,    1, 1.000e+00)\n",
      " ( -1,  -1, -2, -2.        , 0.        ,    1, 1.000e+00)\n",
      " ( 37,  40,  4, -0.7897189 , 0.91829583,    6, 6.000e+00)\n",
      " ( 38,  39,  6,  1.68965742, 0.91829583,    3, 3.000e+00)\n",
      " ( -1,  -1, -2, -2.        , 0.        ,    2, 2.000e+00)\n",
      " ( -1,  -1, -2, -2.        , 0.        ,    1, 1.000e+00)\n",
      " ( -1,  -1, -2, -2.        , 0.        ,    3, 3.000e+00)\n",
      " ( 42,  51,  0, -0.4299556 , 0.82562653,   27, 2.700e+01)\n",
      " ( 43,  50,  1, -0.57686567, 0.98869941,   16, 1.600e+01)\n",
      " ( 44,  49,  2,  0.89805856, 0.89049164,   13, 1.300e+01)\n",
      " ( 45,  46,  2,  0.83870542, 0.98522814,    7, 7.000e+00)\n",
      " ( -1,  -1, -2, -2.        , 0.        ,    2, 2.000e+00)\n",
      " ( 47,  48,  4, -0.66861948, 0.72192809,    5, 5.000e+00)\n",
      " ( -1,  -1, -2, -2.        , 0.        ,    4, 4.000e+00)\n",
      " ( -1,  -1, -2, -2.        , 0.        ,    1, 1.000e+00)\n",
      " ( -1,  -1, -2, -2.        , 0.        ,    6, 6.000e+00)\n",
      " ( -1,  -1, -2, -2.        , 0.        ,    3, 3.000e+00)\n",
      " ( -1,  -1, -2, -2.        , 0.        ,   11, 1.100e+01)\n",
      " ( 53,  54,  3,  0.24251702, 0.50325833,   18, 1.800e+01)\n",
      " ( -1,  -1, -2, -2.        , 0.        ,   14, 1.400e+01)\n",
      " ( 55,  56,  5, -0.25397211, 1.        ,    4, 4.000e+00)\n",
      " ( -1,  -1, -2, -2.        , 0.        ,    2, 2.000e+00)\n",
      " ( -1,  -1, -2, -2.        , 0.        ,    2, 2.000e+00)\n",
      " ( -1,  -1, -2, -2.        , 0.        ,   10, 1.000e+01)\n",
      " ( 59,  60,  3, -0.97095737, 0.99620888,   69, 6.900e+01)\n",
      " ( -1,  -1, -2, -2.        , 0.        ,    8, 8.000e+00)\n",
      " ( 61,  86,  4, -0.35914324, 0.9669853 ,   61, 6.100e+01)\n",
      " ( 62,  73,  5, -0.53835684, 0.92413354,   56, 5.600e+01)\n",
      " ( 63,  72,  1,  1.86633098, 0.5746357 ,   22, 2.200e+01)\n",
      " ( 64,  71,  1, -0.30384369, 0.45371634,   21, 2.100e+01)\n",
      " ( 65,  66,  3, -0.45966975, 0.68403844,   11, 1.100e+01)\n",
      " ( -1,  -1, -2, -2.        , 0.        ,    1, 1.000e+00)\n",
      " ( 67,  68,  3,  0.47076274, 0.46899559,   10, 1.000e+01)\n",
      " ( -1,  -1, -2, -2.        , 0.        ,    8, 8.000e+00)\n",
      " ( 69,  70,  2,  0.57711199, 1.        ,    2, 2.000e+00)\n",
      " ( -1,  -1, -2, -2.        , 0.        ,    1, 1.000e+00)\n",
      " ( -1,  -1, -2, -2.        , 0.        ,    1, 1.000e+00)\n",
      " ( -1,  -1, -2, -2.        , 0.        ,   10, 1.000e+01)\n",
      " ( -1,  -1, -2, -2.        , 0.        ,    1, 1.000e+00)\n",
      " ( 74,  79,  4, -0.62825301, 0.99750255,   34, 3.400e+01)\n",
      " ( 75,  76,  2, -0.2516336 , 0.77934984,   13, 1.300e+01)\n",
      " ( -1,  -1, -2, -2.        , 0.        ,    2, 2.000e+00)\n",
      " ( 77,  78,  3,  0.36018792, 0.43949699,   11, 1.100e+01)\n",
      " ( -1,  -1, -2, -2.        , 0.        ,   10, 1.000e+01)\n",
      " ( -1,  -1, -2, -2.        , 0.        ,    1, 1.000e+00)\n",
      " ( 80,  85,  5, -0.32912673, 0.86312057,   21, 2.100e+01)\n",
      " ( 81,  82,  3, -0.08400713, 0.99572745,   13, 1.300e+01)\n",
      " ( -1,  -1, -2, -2.        , 0.        ,    4, 4.000e+00)\n",
      " ( 83,  84,  4, -0.43987618, 0.76420451,    9, 9.000e+00)\n",
      " ( -1,  -1, -2, -2.        , 0.        ,    7, 7.000e+00)\n",
      " ( -1,  -1, -2, -2.        , 0.        ,    2, 2.000e+00)\n",
      " ( -1,  -1, -2, -2.        , 0.        ,    8, 8.000e+00)\n",
      " ( -1,  -1, -2, -2.        , 0.        ,    5, 5.000e+00)\n",
      " ( 88, 123,  2, -0.09116033, 0.77265709,  423, 4.230e+02)\n",
      " ( 89, 104,  3, -0.2723294 , 0.46121604,  164, 1.640e+02)\n",
      " ( 90, 103,  5, -0.32514209, 0.81127812,   36, 3.600e+01)\n",
      " ( 91, 100,  1,  1.5618065 , 0.68403844,   33, 3.300e+01)\n",
      " ( 92,  95,  1, -0.5138606 , 0.50325833,   27, 2.700e+01)\n",
      " ( 93,  94,  2, -1.23205945, 0.91829583,    3, 3.000e+00)\n",
      " ( -1,  -1, -2, -2.        , 0.        ,    1, 1.000e+00)\n",
      " ( -1,  -1, -2, -2.        , 0.        ,    2, 2.000e+00)\n",
      " ( 96,  99,  3, -2.28330171, 0.24988229,   24, 2.400e+01)\n",
      " ( 97,  98,  3, -2.62138224, 0.72192809,    5, 5.000e+00)\n",
      " ( -1,  -1, -2, -2.        , 0.        ,    4, 4.000e+00)\n",
      " ( -1,  -1, -2, -2.        , 0.        ,    1, 1.000e+00)\n",
      " ( -1,  -1, -2, -2.        , 0.        ,   19, 1.900e+01)\n",
      " (101, 102,  1,  2.24786174, 1.        ,    6, 6.000e+00)\n",
      " ( -1,  -1, -2, -2.        , 0.        ,    3, 3.000e+00)\n",
      " ( -1,  -1, -2, -2.        , 0.        ,    3, 3.000e+00)\n",
      " ( -1,  -1, -2, -2.        , 0.        ,    3, 3.000e+00)\n",
      " (105, 122,  4,  0.90567264, 0.30598487,  128, 1.280e+02)\n",
      " (106, 121,  1,  3.12643242, 0.37952438,   95, 9.500e+01)\n",
      " (107, 112,  6, -0.33611719, 0.34246377,   94, 9.400e+01)\n",
      " (108, 109,  5, -0.28725117, 0.1222916 ,   60, 6.000e+01)\n",
      " ( -1,  -1, -2, -2.        , 0.        ,   54, 5.400e+01)\n",
      " (110, 111,  3,  0.66801968, 0.65002242,    6, 6.000e+00)\n",
      " ( -1,  -1, -2, -2.        , 0.        ,    5, 5.000e+00)\n",
      " ( -1,  -1, -2, -2.        , 0.        ,    1, 1.000e+00)\n",
      " (113, 120,  6, -0.22216737, 0.6024308 ,   34, 3.400e+01)\n",
      " (114, 115,  2, -0.98585385, 0.94028596,   14, 1.400e+01)\n",
      " ( -1,  -1, -2, -2.        , 0.        ,    5, 5.000e+00)\n",
      " (116, 119,  5, -0.71537787, 0.99107606,    9, 9.000e+00)\n",
      " (117, 118,  0,  0.09871642, 0.72192809,    5, 5.000e+00)\n",
      " ( -1,  -1, -2, -2.        , 0.        ,    4, 4.000e+00)\n",
      " ( -1,  -1, -2, -2.        , 0.        ,    1, 1.000e+00)\n",
      " ( -1,  -1, -2, -2.        , 0.        ,    4, 4.000e+00)\n",
      " ( -1,  -1, -2, -2.        , 0.        ,   20, 2.000e+01)\n",
      " ( -1,  -1, -2, -2.        , 0.        ,    1, 1.000e+00)\n",
      " ( -1,  -1, -2, -2.        , 0.        ,   33, 3.300e+01)\n",
      " (124, 159,  3, -0.14874531, 0.89187674,  259, 2.590e+02)\n",
      " (125, 146,  1, -0.30034341, 0.99370711,   75, 7.500e+01)\n",
      " (126, 133,  2,  0.61668074, 0.98247409,   45, 4.500e+01)\n",
      " (127, 128,  3, -0.40135697, 0.69621226,   16, 1.600e+01)\n",
      " ( -1,  -1, -2, -2.        , 0.        ,    8, 8.000e+00)\n",
      " (129, 132,  2,  0.27155327, 0.954434  ,    8, 8.000e+00)\n",
      " (130, 131,  1, -0.48935862, 0.81127812,    4, 4.000e+00)\n",
      " ( -1,  -1, -2, -2.        , 0.        ,    3, 3.000e+00)\n",
      " ( -1,  -1, -2, -2.        , 0.        ,    1, 1.000e+00)\n",
      " ( -1,  -1, -2, -2.        , 0.        ,    4, 4.000e+00)\n",
      " (134, 135,  5, -0.59133771, 0.99226664,   29, 2.900e+01)\n",
      " ( -1,  -1, -2, -2.        , 0.        ,    6, 6.000e+00)\n",
      " (136, 137,  5, -0.43822451, 0.98769251,   23, 2.300e+01)\n",
      " ( -1,  -1, -2, -2.        , 0.        ,    6, 6.000e+00)\n",
      " (138, 139,  4, -0.00930055, 0.97741782,   17, 1.700e+01)\n",
      " ( -1,  -1, -2, -2.        , 0.        ,    4, 4.000e+00)\n",
      " (140, 141,  5, -0.33410752, 0.77934984,   13, 1.300e+01)\n",
      " ( -1,  -1, -2, -2.        , 0.        ,    6, 6.000e+00)\n",
      " (142, 145,  3, -0.61055577, 0.98522814,    7, 7.000e+00)\n",
      " (143, 144,  6,  0.27161518, 0.72192809,    5, 5.000e+00)\n",
      " ( -1,  -1, -2, -2.        , 0.        ,    4, 4.000e+00)\n",
      " ( -1,  -1, -2, -2.        , 0.        ,    1, 1.000e+00)\n",
      " ( -1,  -1, -2, -2.        , 0.        ,    2, 2.000e+00)\n",
      " (147, 158,  6, -0.15886191, 0.83664074,   30, 3.000e+01)\n",
      " (148, 157,  6, -0.20950628, 0.9456603 ,   22, 2.200e+01)\n",
      " (149, 152,  4,  0.25980922, 0.8812909 ,   20, 2.000e+01)\n",
      " (150, 151,  0, -0.37708841, 0.99107606,    9, 9.000e+00)\n",
      " ( -1,  -1, -2, -2.        , 0.        ,    5, 5.000e+00)\n",
      " ( -1,  -1, -2, -2.        , 0.        ,    4, 4.000e+00)\n",
      " (153, 156,  2, -0.04060025, 0.43949699,   11, 1.100e+01)\n",
      " (154, 155,  3, -0.71290927, 1.        ,    2, 2.000e+00)\n",
      " ( -1,  -1, -2, -2.        , 0.        ,    1, 1.000e+00)\n",
      " ( -1,  -1, -2, -2.        , 0.        ,    1, 1.000e+00)\n",
      " ( -1,  -1, -2, -2.        , 0.        ,    9, 9.000e+00)\n",
      " ( -1,  -1, -2, -2.        , 0.        ,    2, 2.000e+00)\n",
      " ( -1,  -1, -2, -2.        , 0.        ,    8, 8.000e+00)\n",
      " (160, 193,  5, -0.46980642, 0.81127812,  184, 1.840e+02)\n",
      " (161, 166,  1, -0.58736652, 0.62924922,  114, 1.140e+02)\n",
      " (162, 163,  3,  0.12833795, 0.97095059,   10, 1.000e+01)\n",
      " ( -1,  -1, -2, -2.        , 0.        ,    5, 5.000e+00)\n",
      " (164, 165,  6, -0.36143937, 0.72192809,    5, 5.000e+00)\n",
      " ( -1,  -1, -2, -2.        , 0.        ,    1, 1.000e+00)\n",
      " ( -1,  -1, -2, -2.        , 0.        ,    4, 4.000e+00)\n",
      " (167, 192,  3,  1.10557073, 0.51594693,  104, 1.040e+02)\n",
      " (168, 187,  6, -0.032251  , 0.43348846,  101, 1.010e+02)\n",
      " (169, 176,  4,  0.0445214 , 0.59167278,   56, 5.600e+01)\n",
      " (170, 175,  0, -0.44052905, 0.91829583,   15, 1.500e+01)\n",
      " (171, 174,  4, -0.07657799, 0.99107606,    9, 9.000e+00)\n",
      " (172, 173,  0, -0.4775361 , 0.91829583,    6, 6.000e+00)\n",
      " ( -1,  -1, -2, -2.        , 0.        ,    4, 4.000e+00)\n",
      " ( -1,  -1, -2, -2.        , 0.        ,    2, 2.000e+00)\n",
      " ( -1,  -1, -2, -2.        , 0.        ,    3, 3.000e+00)\n",
      " ( -1,  -1, -2, -2.        , 0.        ,    6, 6.000e+00)\n",
      " (177, 178,  5, -0.89819136, 0.37764632,   41, 4.100e+01)\n",
      " ( -1,  -1, -2, -2.        , 0.        ,    1, 1.000e+00)\n",
      " (179, 186,  3,  0.36758469, 0.28639696,   40, 4.000e+01)\n",
      " (180, 181,  3,  0.27998494, 0.50325833,   18, 1.800e+01)\n",
      " ( -1,  -1, -2, -2.        , 0.        ,   13, 1.300e+01)\n",
      " (182, 183,  1, -0.46485665, 0.97095059,    5, 5.000e+00)\n",
      " ( -1,  -1, -2, -2.        , 0.        ,    2, 2.000e+00)\n",
      " (184, 185,  6, -0.41208373, 0.91829583,    3, 3.000e+00)\n",
      " ( -1,  -1, -2, -2.        , 0.        ,    2, 2.000e+00)\n",
      " ( -1,  -1, -2, -2.        , 0.        ,    1, 1.000e+00)\n",
      " ( -1,  -1, -2, -2.        , 0.        ,   22, 2.200e+01)\n",
      " (188, 189,  3,  0.57023877, 0.15374218,   45, 4.500e+01)\n",
      " ( -1,  -1, -2, -2.        , 0.        ,   40, 4.000e+01)\n",
      " (190, 191,  3,  0.61971614, 0.72192809,    5, 5.000e+00)\n",
      " ( -1,  -1, -2, -2.        , 0.        ,    1, 1.000e+00)\n",
      " ( -1,  -1, -2, -2.        , 0.        ,    4, 4.000e+00)\n",
      " ( -1,  -1, -2, -2.        , 0.        ,    3, 3.000e+00)\n",
      " (194, 195,  6, -0.76659429, 0.97095059,   70, 7.000e+01)\n",
      " ( -1,  -1, -2, -2.        , 0.        ,   10, 1.000e+01)\n",
      " (196, 207,  2,  0.44521613, 0.99679163,   60, 6.000e+01)\n",
      " (197, 206,  3,  0.89459848, 0.81127812,   20, 2.000e+01)\n",
      " (198, 201,  2,  0.0055633 , 0.65002242,   18, 1.800e+01)\n",
      " (199, 200,  4, -0.07657799, 0.91829583,    3, 3.000e+00)\n",
      " ( -1,  -1, -2, -2.        , 0.        ,    1, 1.000e+00)\n",
      " ( -1,  -1, -2, -2.        , 0.        ,    2, 2.000e+00)\n",
      " (202, 205,  6, -0.52603355, 0.35335934,   15, 1.500e+01)\n",
      " (203, 204,  6, -0.57667792, 0.91829583,    3, 3.000e+00)\n",
      " ( -1,  -1, -2, -2.        , 0.        ,    2, 2.000e+00)\n",
      " ( -1,  -1, -2, -2.        , 0.        ,    1, 1.000e+00)\n",
      " ( -1,  -1, -2, -2.        , 0.        ,   12, 1.200e+01)\n",
      " ( -1,  -1, -2, -2.        , 0.        ,    2, 2.000e+00)\n",
      " (208, 209,  4, -0.14385543, 0.98370826,   40, 4.000e+01)\n",
      " ( -1,  -1, -2, -2.        , 0.        ,    7, 7.000e+00)\n",
      " (210, 211,  3,  0.12145772, 0.9993375 ,   33, 3.300e+01)\n",
      " ( -1,  -1, -2, -2.        , 0.        ,    7, 7.000e+00)\n",
      " (212, 215,  1, -0.55236369, 0.9612366 ,   26, 2.600e+01)\n",
      " (213, 214,  3,  0.72855842, 0.54356444,    8, 8.000e+00)\n",
      " ( -1,  -1, -2, -2.        , 0.        ,    7, 7.000e+00)\n",
      " ( -1,  -1, -2, -2.        , 0.        ,    1, 1.000e+00)\n",
      " (216, 225,  1, -0.16383242, 1.        ,   18, 1.800e+01)\n",
      " (217, 224,  6, -0.33611719, 0.97095059,   15, 1.500e+01)\n",
      " (218, 223,  1, -0.45085552, 0.97095059,   10, 1.000e+01)\n",
      " (219, 222,  4,  0.09834336, 0.91829583,    6, 6.000e+00)\n",
      " (220, 221,  3,  0.39685938, 0.91829583,    3, 3.000e+00)\n",
      " ( -1,  -1, -2, -2.        , 0.        ,    2, 2.000e+00)\n",
      " ( -1,  -1, -2, -2.        , 0.        ,    1, 1.000e+00)\n",
      " ( -1,  -1, -2, -2.        , 0.        ,    3, 3.000e+00)\n",
      " ( -1,  -1, -2, -2.        , 0.        ,    4, 4.000e+00)\n",
      " ( -1,  -1, -2, -2.        , 0.        ,    5, 5.000e+00)\n",
      " ( -1,  -1, -2, -2.        , 0.        ,    3, 3.000e+00)\n",
      " (227, 382,  5,  0.37633781, 0.63250814, 1011, 1.011e+03)\n",
      " (228, 277,  2, -0.0559881 , 0.84975114,  493, 4.930e+02)\n",
      " (229, 248,  4, -0.25149935, 0.95372799,  131, 1.310e+02)\n",
      " (230, 247,  0,  2.14996397, 0.91829583,   39, 3.900e+01)\n",
      " (231, 238,  2, -0.73085523, 0.82240423,   35, 3.500e+01)\n",
      " (232, 233,  6, -0.51337245, 1.        ,   10, 1.000e+01)\n",
      " ( -1,  -1, -2, -2.        , 0.        ,    3, 3.000e+00)\n",
      " (234, 237,  4, -0.57443106, 0.86312057,    7, 7.000e+00)\n",
      " (235, 236,  2, -0.83857015, 0.91829583,    3, 3.000e+00)\n",
      " ( -1,  -1, -2, -2.        , 0.        ,    2, 2.000e+00)\n",
      " ( -1,  -1, -2, -2.        , 0.        ,    1, 1.000e+00)\n",
      " ( -1,  -1, -2, -2.        , 0.        ,    4, 4.000e+00)\n",
      " (239, 246,  3,  0.0579404 , 0.63430955,   25, 2.500e+01)\n",
      " (240, 245,  3, -0.07195993, 0.86312057,   14, 1.400e+01)\n",
      " (241, 244,  0,  1.21421444, 0.65002242,   12, 1.200e+01)\n",
      " (242, 243,  4, -0.29186581, 0.43949699,   11, 1.100e+01)\n",
      " ( -1,  -1, -2, -2.        , 0.        ,   10, 1.000e+01)\n",
      " ( -1,  -1, -2, -2.        , 0.        ,    1, 1.000e+00)\n",
      " ( -1,  -1, -2, -2.        , 0.        ,    1, 1.000e+00)\n",
      " ( -1,  -1, -2, -2.        , 0.        ,    2, 2.000e+00)\n",
      " ( -1,  -1, -2, -2.        , 0.        ,   11, 1.100e+01)\n",
      " ( -1,  -1, -2, -2.        , 0.        ,    4, 4.000e+00)\n",
      " (249, 250,  0, -0.50661305, 0.81127812,   92, 9.200e+01)\n",
      " ( -1,  -1, -2, -2.        , 0.        ,    3, 3.000e+00)\n",
      " (251, 276,  3,  0.75607184, 0.7686913 ,   89, 8.900e+01)\n",
      " (252, 271,  3,  0.65063053, 0.83147439,   76, 7.600e+01)\n",
      " (253, 254,  4,  0.07143238, 0.69621226,   64, 6.400e+01)\n",
      " ( -1,  -1, -2, -2.        , 0.        ,   20, 2.000e+01)\n",
      " (255, 256,  3, -2.31172347, 0.84535094,   44, 4.400e+01)\n",
      " ( -1,  -1, -2, -2.        , 0.        ,    3, 3.000e+00)\n",
      " (257, 270,  4,  0.99986106, 0.75927578,   41, 4.100e+01)\n",
      " (258, 259,  1, -0.55236369, 0.85714844,   32, 3.200e+01)\n",
      " ( -1,  -1, -2, -2.        , 0.        ,    3, 3.000e+00)\n",
      " (260, 263,  6, -0.56401682, 0.73550858,   29, 2.900e+01)\n",
      " (261, 262,  1,  2.45437837, 0.35335934,   15, 1.500e+01)\n",
      " ( -1,  -1, -2, -2.        , 0.        ,   14, 1.400e+01)\n",
      " ( -1,  -1, -2, -2.        , 0.        ,    1, 1.000e+00)\n",
      " (264, 265,  2, -0.79460487, 0.94028596,   14, 1.400e+01)\n",
      " ( -1,  -1, -2, -2.        , 0.        ,    5, 5.000e+00)\n",
      " (266, 269,  4,  0.30017568, 0.99107606,    9, 9.000e+00)\n",
      " (267, 268,  3,  0.11183982, 0.72192809,    5, 5.000e+00)\n",
      " ( -1,  -1, -2, -2.        , 0.        ,    1, 1.000e+00)\n",
      " ( -1,  -1, -2, -2.        , 0.        ,    4, 4.000e+00)\n",
      " ( -1,  -1, -2, -2.        , 0.        ,    4, 4.000e+00)\n",
      " ( -1,  -1, -2, -2.        , 0.        ,    9, 9.000e+00)\n",
      " (272, 273,  0, -0.27928409, 0.91829583,   12, 1.200e+01)\n",
      " ( -1,  -1, -2, -2.        , 0.        ,    6, 6.000e+00)\n",
      " (274, 275,  2, -0.20547006, 0.91829583,    6, 6.000e+00)\n",
      " ( -1,  -1, -2, -2.        , 0.        ,    4, 4.000e+00)\n",
      " ( -1,  -1, -2, -2.        , 0.        ,    2, 2.000e+00)\n",
      " ( -1,  -1, -2, -2.        , 0.        ,   13, 1.300e+01)\n",
      " (278, 337,  4, -0.03621153, 0.60776252,  362, 3.620e+02)\n",
      " (279, 302,  2,  0.46939704, 0.45946107,  268, 2.680e+02)\n",
      " (280, 285,  1, -0.57336539, 0.77062907,   62, 6.200e+01)\n",
      " (281, 282,  0,  0.04849259, 0.8812909 ,   10, 1.000e+01)\n",
      " ( -1,  -1, -2, -2.        , 0.        ,    6, 6.000e+00)\n",
      " (283, 284,  2,  0.36827689, 0.81127812,    4, 4.000e+00)\n",
      " ( -1,  -1, -2, -2.        , 0.        ,    3, 3.000e+00)\n",
      " ( -1,  -1, -2, -2.        , 0.        ,    1, 1.000e+00)\n",
      " (286, 295,  0,  0.25996141, 0.56996138,   52, 5.200e+01)\n",
      " (287, 294,  5, -0.02592566, 0.35910163,   44, 4.400e+01)\n",
      " (288, 289,  0, -0.37973176, 0.81127812,   12, 1.200e+01)\n",
      " ( -1,  -1, -2, -2.        , 0.        ,    5, 5.000e+00)\n",
      " (290, 293,  5, -0.05359672, 0.98522814,    7, 7.000e+00)\n",
      " (291, 292,  1, -0.15333157, 0.72192809,    5, 5.000e+00)\n",
      " ( -1,  -1, -2, -2.        , 0.        ,    4, 4.000e+00)\n",
      " ( -1,  -1, -2, -2.        , 0.        ,    1, 1.000e+00)\n",
      " ( -1,  -1, -2, -2.        , 0.        ,    2, 2.000e+00)\n",
      " ( -1,  -1, -2, -2.        , 0.        ,   32, 3.200e+01)\n",
      " (296, 301,  3,  0.57020628, 1.        ,    8, 8.000e+00)\n",
      " (297, 300,  0,  0.3604091 , 0.91829583,    6, 6.000e+00)\n",
      " (298, 299,  4, -0.91081828, 0.91829583,    3, 3.000e+00)\n",
      " ( -1,  -1, -2, -2.        , 0.        ,    1, 1.000e+00)\n",
      " ( -1,  -1, -2, -2.        , 0.        ,    2, 2.000e+00)\n",
      " ( -1,  -1, -2, -2.        , 0.        ,    3, 3.000e+00)\n",
      " ( -1,  -1, -2, -2.        , 0.        ,    2, 2.000e+00)\n",
      " (303, 330,  5,  0.10405455, 0.32046829,  206, 2.060e+02)\n",
      " (304, 317,  1, -0.5103603 , 0.49337573,  102, 1.020e+02)\n",
      " (305, 310,  2,  0.95960996, 0.25524211,   70, 7.000e+01)\n",
      " (306, 309,  3, -0.38447532, 0.12565805,   58, 5.800e+01)\n",
      " (307, 308,  3, -0.39200814, 0.46899559,   10, 1.000e+01)\n",
      " ( -1,  -1, -2, -2.        , 0.        ,    9, 9.000e+00)\n",
      " ( -1,  -1, -2, -2.        , 0.        ,    1, 1.000e+00)\n",
      " ( -1,  -1, -2, -2.        , 0.        ,   48, 4.800e+01)\n",
      " (311, 316,  3,  0.4506291 , 0.65002242,   12, 1.200e+01)\n",
      " (312, 313,  4, -0.53406461, 0.43949699,   11, 1.100e+01)\n",
      " ( -1,  -1, -2, -2.        , 0.        ,    9, 9.000e+00)\n",
      " (314, 315,  1, -0.58036596, 1.        ,    2, 2.000e+00)\n",
      " ( -1,  -1, -2, -2.        , 0.        ,    1, 1.000e+00)\n",
      " ( -1,  -1, -2, -2.        , 0.        ,    1, 1.000e+00)\n",
      " ( -1,  -1, -2, -2.        , 0.        ,    1, 1.000e+00)\n",
      " (318, 329,  3,  0.41988419, 0.81127812,   32, 3.200e+01)\n",
      " (319, 322,  3, -0.05956682, 0.91829583,   24, 2.400e+01)\n",
      " (320, 321,  5,  0.10361181, 0.37123233,   14, 1.400e+01)\n",
      " ( -1,  -1, -2, -2.        , 0.        ,   13, 1.300e+01)\n",
      " ( -1,  -1, -2, -2.        , 0.        ,    1, 1.000e+00)\n",
      " (323, 324,  0, -0.51982984, 0.8812909 ,   10, 1.000e+01)\n",
      " ( -1,  -1, -2, -2.        , 0.        ,    1, 1.000e+00)\n",
      " (325, 328,  4, -0.62825301, 0.76420451,    9, 9.000e+00)\n",
      " (326, 327,  6,  0.42354828, 0.91829583,    3, 3.000e+00)\n",
      " ( -1,  -1, -2, -2.        , 0.        ,    2, 2.000e+00)\n",
      " ( -1,  -1, -2, -2.        , 0.        ,    1, 1.000e+00)\n",
      " ( -1,  -1, -2, -2.        , 0.        ,    6, 6.000e+00)\n",
      " ( -1,  -1, -2, -2.        , 0.        ,    8, 8.000e+00)\n",
      " (331, 332,  2,  0.92443773, 0.07823247,  104, 1.040e+02)\n",
      " ( -1,  -1, -2, -2.        , 0.        ,   86, 8.600e+01)\n",
      " (333, 336,  2,  0.92883426, 0.30954343,   18, 1.800e+01)\n",
      " (334, 335,  6,  0.28427629, 1.        ,    2, 2.000e+00)\n",
      " ( -1,  -1, -2, -2.        , 0.        ,    1, 1.000e+00)\n",
      " ( -1,  -1, -2, -2.        , 0.        ,    1, 1.000e+00)\n",
      " ( -1,  -1, -2, -2.        , 0.        ,   16, 1.600e+01)\n",
      " (338, 377,  0, -0.11803911, 0.87867449,   94, 9.400e+01)\n",
      " (339, 376,  5,  0.28126004, 0.93058613,   78, 7.800e+01)\n",
      " (340, 349,  4, -0.00930055, 0.95824073,   71, 7.100e+01)\n",
      " (341, 342,  5, -0.14077902, 0.89049164,   13, 1.300e+01)\n",
      " ( -1,  -1, -2, -2.        , 0.        ,    2, 2.000e+00)\n",
      " (343, 348,  6,  0.76539778, 0.68403844,   11, 1.100e+01)\n",
      " (344, 345,  5,  0.1212844 , 0.46899559,   10, 1.000e+01)\n",
      " ( -1,  -1, -2, -2.        , 0.        ,    7, 7.000e+00)\n",
      " (346, 347,  6, -0.3361172 , 0.91829583,    3, 3.000e+00)\n",
      " ( -1,  -1, -2, -2.        , 0.        ,    1, 1.000e+00)\n",
      " ( -1,  -1, -2, -2.        , 0.        ,    2, 2.000e+00)\n",
      " ( -1,  -1, -2, -2.        , 0.        ,    1, 1.000e+00)\n",
      " (350, 359,  4,  0.17907629, 0.8935711 ,   58, 5.800e+01)\n",
      " (351, 354,  3,  0.53978708, 0.66319684,   29, 2.900e+01)\n",
      " (352, 353,  1, -0.58386624, 0.26676499,   22, 2.200e+01)\n",
      " ( -1,  -1, -2, -2.        , 0.        ,    1, 1.000e+00)\n",
      " ( -1,  -1, -2, -2.        , 0.        ,   21, 2.100e+01)\n",
      " (355, 356,  2,  0.64525816, 0.98522814,    7, 7.000e+00)\n",
      " ( -1,  -1, -2, -2.        , 0.        ,    3, 3.000e+00)\n",
      " (357, 358,  4,  0.01761042, 0.81127812,    4, 4.000e+00)\n",
      " ( -1,  -1, -2, -2.        , 0.        ,    1, 1.000e+00)\n",
      " ( -1,  -1, -2, -2.        , 0.        ,    3, 3.000e+00)\n",
      " (360, 369,  3,  0.20661252, 0.99226664,   29, 2.900e+01)\n",
      " (361, 368,  2,  0.74857658, 0.91829583,   15, 1.500e+01)\n",
      " (362, 363,  0, -0.43259896, 0.99403021,   11, 1.100e+01)\n",
      " ( -1,  -1, -2, -2.        , 0.        ,    2, 2.000e+00)\n",
      " (364, 365,  3, -0.18381408, 0.91829583,    9, 9.000e+00)\n",
      " ( -1,  -1, -2, -2.        , 0.        ,    4, 4.000e+00)\n",
      " (366, 367,  5, -0.04330308, 0.97095059,    5, 5.000e+00)\n",
      " ( -1,  -1, -2, -2.        , 0.        ,    2, 2.000e+00)\n",
      " ( -1,  -1, -2, -2.        , 0.        ,    3, 3.000e+00)\n",
      " ( -1,  -1, -2, -2.        , 0.        ,    4, 4.000e+00)\n",
      " (370, 375,  5, -0.12904648, 0.74959526,   14, 1.400e+01)\n",
      " (371, 372,  6, -0.45006701, 0.97095059,    5, 5.000e+00)\n",
      " ( -1,  -1, -2, -2.        , 0.        ,    2, 2.000e+00)\n",
      " (373, 374,  2,  0.38806127, 0.91829583,    3, 3.000e+00)\n",
      " ( -1,  -1, -2, -2.        , 0.        ,    1, 1.000e+00)\n",
      " ( -1,  -1, -2, -2.        , 0.        ,    2, 2.000e+00)\n",
      " ( -1,  -1, -2, -2.        , 0.        ,    9, 9.000e+00)\n",
      " ( -1,  -1, -2, -2.        , 0.        ,    7, 7.000e+00)\n",
      " (378, 381,  6, -0.36143938, 0.33729007,   16, 1.600e+01)\n",
      " (379, 380,  5, -0.01109397, 0.91829583,    3, 3.000e+00)\n",
      " ( -1,  -1, -2, -2.        , 0.        ,    2, 2.000e+00)\n",
      " ( -1,  -1, -2, -2.        , 0.        ,    1, 1.000e+00)\n",
      " ( -1,  -1, -2, -2.        , 0.        ,   13, 1.300e+01)\n",
      " (383, 392,  2, -1.43649805, 0.27897003,  518, 5.180e+02)\n",
      " (384, 389,  5,  0.90588817, 0.96563613,   23, 2.300e+01)\n",
      " (385, 386,  0,  2.29534876, 0.72192809,   10, 1.000e+01)\n",
      " ( -1,  -1, -2, -2.        , 0.        ,    7, 7.000e+00)\n",
      " (387, 388,  6, -0.032251  , 0.91829583,    3, 3.000e+00)\n",
      " ( -1,  -1, -2, -2.        , 0.        ,    2, 2.000e+00)\n",
      " ( -1,  -1, -2, -2.        , 0.        ,    1, 1.000e+00)\n",
      " (390, 391,  3,  1.03904825, 0.39124356,   13, 1.300e+01)\n",
      " ( -1,  -1, -2, -2.        , 0.        ,   12, 1.200e+01)\n",
      " ( -1,  -1, -2, -2.        , 0.        ,    1, 1.000e+00)\n",
      " (393, 396,  0, -0.54362011, 0.20591218,  495, 4.950e+02)\n",
      " (394, 395,  2,  0.26276021, 1.        ,    4, 4.000e+00)\n",
      " ( -1,  -1, -2, -2.        , 0.        ,    2, 2.000e+00)\n",
      " ( -1,  -1, -2, -2.        , 0.        ,    2, 2.000e+00)\n",
      " (397, 398,  6, -0.69062775, 0.18688013,  491, 4.910e+02)\n",
      " ( -1,  -1, -2, -2.        , 0.        ,  124, 1.240e+02)\n",
      " (399, 408,  2, -0.50883052, 0.23373142,  367, 3.670e+02)\n",
      " (400, 407,  2, -0.53740793, 0.54356444,   40, 4.000e+01)\n",
      " (401, 406,  3,  1.09063745, 0.39845927,   38, 3.800e+01)\n",
      " (402, 405,  5,  0.5704042 , 0.30337484,   37, 3.700e+01)\n",
      " (403, 404,  4, -0.22458837, 0.97095059,    5, 5.000e+00)\n",
      " ( -1,  -1, -2, -2.        , 0.        ,    3, 3.000e+00)\n",
      " ( -1,  -1, -2, -2.        , 0.        ,    2, 2.000e+00)\n",
      " ( -1,  -1, -2, -2.        , 0.        ,   32, 3.200e+01)\n",
      " ( -1,  -1, -2, -2.        , 0.        ,    1, 1.000e+00)\n",
      " ( -1,  -1, -2, -2.        , 0.        ,    2, 2.000e+00)\n",
      " (409, 434,  5,  0.8368212 , 0.18181317,  327, 3.270e+02)\n",
      " (410, 433,  2,  0.83870545, 0.30540057,  165, 1.650e+02)\n",
      " (411, 426,  5,  0.76207244, 0.39602141,  115, 1.150e+02)\n",
      " (412, 421,  0, -0.39559193, 0.28017815,  103, 1.030e+02)\n",
      " (413, 420,  2,  0.83211064, 0.57879462,   29, 2.900e+01)\n",
      " (414, 415,  0, -0.43259896, 0.49123734,   28, 2.800e+01)\n",
      " ( -1,  -1, -2, -2.        , 0.        ,   17, 1.700e+01)\n",
      " (416, 417,  3, -0.57524276, 0.84535094,   11, 1.100e+01)\n",
      " ( -1,  -1, -2, -2.        , 0.        ,    5, 5.000e+00)\n",
      " (418, 419,  5,  0.59722668, 1.        ,    6, 6.000e+00)\n",
      " ( -1,  -1, -2, -2.        , 0.        ,    3, 3.000e+00)\n",
      " ( -1,  -1, -2, -2.        , 0.        ,    3, 3.000e+00)\n",
      " ( -1,  -1, -2, -2.        , 0.        ,    1, 1.000e+00)\n",
      " (422, 423,  3,  0.47907038, 0.10327508,   74, 7.400e+01)\n",
      " ( -1,  -1, -2, -2.        , 0.        ,   64, 6.400e+01)\n",
      " (424, 425,  3,  0.4893057 , 0.46899559,   10, 1.000e+01)\n",
      " ( -1,  -1, -2, -2.        , 0.        ,    1, 1.000e+00)\n",
      " ( -1,  -1, -2, -2.        , 0.        ,    9, 9.000e+00)\n",
      " (427, 428,  6, -0.15886191, 0.91829583,   12, 1.200e+01)\n",
      " ( -1,  -1, -2, -2.        , 0.        ,    6, 6.000e+00)\n",
      " (429, 430,  6,  0.24629302, 0.91829583,    6, 6.000e+00)\n",
      " ( -1,  -1, -2, -2.        , 0.        ,    3, 3.000e+00)\n",
      " (431, 432,  5,  0.77683032, 0.91829583,    3, 3.000e+00)\n",
      " ( -1,  -1, -2, -2.        , 0.        ,    1, 1.000e+00)\n",
      " ( -1,  -1, -2, -2.        , 0.        ,    2, 2.000e+00)\n",
      " ( -1,  -1, -2, -2.        , 0.        ,   50, 5.000e+01)\n",
      " ( -1,  -1, -2, -2.        , 0.        ,  162, 1.620e+02)]\n"
     ]
    },
    {
     "data": {
      "text/plain": [
       "435"
      ]
     },
     "execution_count": 76,
     "metadata": {},
     "output_type": "execute_result"
    }
   ],
   "source": [
    "classifier = DecisionTreeClassifier(criterion = \"entropy\", splitter=\"best\", min_weight_fraction_leaf=0.0, max_features=None, random_state=0, max_leaf_nodes=None, min_impurity_decrease=0.0, min_impurity_split=None, class_weight=None)\n",
    "classifier.fit(x_train_scaled_df[['Hispanic','Black', 'White', 'Percent_Women', 'Unemployment', 'Income', 'SelfEmployed']], y_train)\n",
    "\n",
    "\n",
    "\n",
    "# Show the structure of the decision tree classifier\n",
    "print(classifier.tree_.__getstate__()['nodes'])\n",
    "len(classifier.tree_.__getstate__()['nodes'])"
   ]
  },
  {
   "cell_type": "code",
   "execution_count": 77,
   "metadata": {
    "colab": {
     "base_uri": "https://localhost:8080/",
     "height": 297
    },
    "colab_type": "code",
    "executionInfo": {
     "elapsed": 8999,
     "status": "ok",
     "timestamp": 1575244698286,
     "user": {
      "displayName": "Lydia Tse",
      "photoUrl": "",
      "userId": "08063489847245829399"
     },
     "user_tz": 360
    },
    "id": "tmip6J4b1KWq",
    "outputId": "3f12defd-cf55-44cf-e4ea-6f9bf80fb26b"
   },
   "outputs": [
    {
     "data": {
      "image/png": "[encoded data removed]",
      "text/plain": [
       "<Figure size 432x288 with 2 Axes>"
      ]
     },
     "metadata": {
      "needs_background": "light"
     },
     "output_type": "display_data"
    }
   ],
   "source": [
    "y_pred = classifier.predict(x_validation_scaled_df[['Hispanic','Black', 'White', 'Percent_Women','Unemployment', 'Income', 'SelfEmployed']])\n",
    "conf_matrix = metrics.confusion_matrix(y_validation, y_pred)\n",
    "sns.heatmap(conf_matrix, annot = True, fmt = \".3f\", square = True, cmap = plt.cm.Blues)\n",
    "plt.ylabel('Actual')\n",
    "plt.xlabel('Predicted')\n",
    "plt.title('Confusion matrix')\n",
    "plt.tight_layout()"
   ]
  },
  {
   "cell_type": "code",
   "execution_count": 78,
   "metadata": {
    "colab": {
     "base_uri": "https://localhost:8080/",
     "height": 54
    },
    "colab_type": "code",
    "executionInfo": {
     "elapsed": 8998,
     "status": "ok",
     "timestamp": 1575244698286,
     "user": {
      "displayName": "Lydia Tse",
      "photoUrl": "",
      "userId": "08063489847245829399"
     },
     "user_tz": 360
    },
    "id": "fZoB0SO-1NPU",
    "outputId": "a0a79a4b-d9d5-46f8-eb18-7c36b8bd25df"
   },
   "outputs": [
    {
     "name": "stdout",
     "output_type": "stream",
     "text": [
      "[0.7808896210873146, 0.21911037891268537, array([0.7987988 , 0.75912409]), array([0.80120482, 0.75636364]), array([0.8       , 0.75774135])]\n"
     ]
    }
   ],
   "source": [
    "accuracy = metrics.accuracy_score(y_validation, y_pred)\n",
    "error = 1 - accuracy\n",
    "precision = metrics.precision_score(y_validation, y_pred, average = None)\n",
    "recall = metrics.recall_score(y_validation, y_pred, average = None)\n",
    "F1_score = metrics.f1_score(y_validation, y_pred, average = None)\n",
    "print([accuracy, error, precision, recall, F1_score])"
   ]
  },
  {
   "cell_type": "markdown",
   "metadata": {
    "colab_type": "text",
    "id": "Tx_XElyW1RCo"
   },
   "source": [
    "----"
   ]
  },
  {
   "cell_type": "markdown",
   "metadata": {
    "colab_type": "text",
    "id": "lIVq92NQ1UqL"
   },
   "source": [
    "MODEL 5 \n",
    "\n",
    "    -Variables Used: Hispanic, Black, White, Unemployment, Income, SelfEmployment"
   ]
  },
  {
   "cell_type": "code",
   "execution_count": 79,
   "metadata": {
    "colab": {
     "base_uri": "https://localhost:8080/",
     "height": 1000
    },
    "colab_type": "code",
    "executionInfo": {
     "elapsed": 8997,
     "status": "ok",
     "timestamp": 1575244698287,
     "user": {
      "displayName": "Lydia Tse",
      "photoUrl": "",
      "userId": "08063489847245829399"
     },
     "user_tz": 360
    },
    "id": "4MVh_Y0K1VaT",
    "outputId": "578da000-dd4f-452e-c378-aa985c7c15ab"
   },
   "outputs": [
    {
     "name": "stdout",
     "output_type": "stream",
     "text": [
      "[(  1, 216,  4, -2.12834463e-01, 0.98612608, 1820, 1.820e+03)\n",
      " (  2,  19,  4, -9.29847062e-01, 0.77786044,  809, 8.090e+02)\n",
      " (  3,  18,  3,  7.17295825e-01, 0.1854148 ,  248, 2.480e+02)\n",
      " (  4,   5,  0, -4.37885687e-01, 0.34626857,  108, 1.080e+02)\n",
      " ( -1,  -1, -2, -2.00000000e+00, 0.        ,   59, 5.900e+01)\n",
      " (  6,   7,  1, -5.80365956e-01, 0.59167278,   49, 4.900e+01)\n",
      " ( -1,  -1, -2, -2.00000000e+00, 0.        ,   14, 1.400e+01)\n",
      " (  8,   9,  4, -1.69002646e+00, 0.72192809,   35, 3.500e+01)\n",
      " ( -1,  -1, -2, -2.00000000e+00, 0.        ,    2, 2.000e+00)\n",
      " ( 10,  15,  6, -8.57785761e-01, 0.61361902,   33, 3.300e+01)\n",
      " ( 11,  14,  2, -1.03149563e-03, 0.99107606,    9, 9.000e+00)\n",
      " ( 12,  13,  5, -9.94493961e-01, 0.65002242,    6, 6.000e+00)\n",
      " ( -1,  -1, -2, -2.00000000e+00, 0.        ,    1, 1.000e+00)\n",
      " ( -1,  -1, -2, -2.00000000e+00, 0.        ,    5, 5.000e+00)\n",
      " ( -1,  -1, -2, -2.00000000e+00, 0.        ,    3, 3.000e+00)\n",
      " ( 16,  17,  7, -8.82457525e-01, 0.24988229,   24, 2.400e+01)\n",
      " ( -1,  -1, -2, -2.00000000e+00, 0.        ,    1, 1.000e+00)\n",
      " ( -1,  -1, -2, -2.00000000e+00, 0.        ,   23, 2.300e+01)\n",
      " ( -1,  -1, -2, -2.00000000e+00, 0.        ,  140, 1.400e+02)\n",
      " ( 20,  77,  3, -3.32232267e-01, 0.90337062,  561, 5.610e+02)\n",
      " ( 21,  32,  6, -5.70824593e-01, 0.97009651,  138, 1.380e+02)\n",
      " ( 22,  31,  1, -2.37338334e-01, 0.90592822,   28, 2.800e+01)\n",
      " ( 23,  30,  0,  3.15471962e-01, 0.99800088,   19, 1.900e+01)\n",
      " ( 24,  25,  5, -8.17238688e-01, 0.94028596,   14, 1.400e+01)\n",
      " ( -1,  -1, -2, -2.00000000e+00, 0.        ,    2, 2.000e+00)\n",
      " ( 26,  29,  1, -4.99859467e-01, 0.81127812,   12, 1.200e+01)\n",
      " ( 27,  28,  1, -5.48863411e-01, 0.98522814,    7, 7.000e+00)\n",
      " ( -1,  -1, -2, -2.00000000e+00, 0.        ,    4, 4.000e+00)\n",
      " ( -1,  -1, -2, -2.00000000e+00, 0.        ,    3, 3.000e+00)\n",
      " ( -1,  -1, -2, -2.00000000e+00, 0.        ,    5, 5.000e+00)\n",
      " ( -1,  -1, -2, -2.00000000e+00, 0.        ,    5, 5.000e+00)\n",
      " ( -1,  -1, -2, -2.00000000e+00, 0.        ,    9, 9.000e+00)\n",
      " ( 33,  42,  7, -5.75353980e-01, 0.91211563,  110, 1.100e+02)\n",
      " ( 34,  39,  4, -4.49920133e-01, 0.96407876,   18, 1.800e+01)\n",
      " ( 35,  36,  5,  1.29716355e+00, 0.65002242,   12, 1.200e+01)\n",
      " ( -1,  -1, -2, -2.00000000e+00, 0.        ,    8, 8.000e+00)\n",
      " ( 37,  38,  0, -5.56836903e-01, 1.        ,    4, 4.000e+00)\n",
      " ( -1,  -1, -2, -2.00000000e+00, 0.        ,    2, 2.000e+00)\n",
      " ( -1,  -1, -2, -2.00000000e+00, 0.        ,    2, 2.000e+00)\n",
      " ( 40,  41,  3, -8.70451808e-01, 0.65002242,    6, 6.000e+00)\n",
      " ( -1,  -1, -2, -2.00000000e+00, 0.        ,    1, 1.000e+00)\n",
      " ( -1,  -1, -2, -2.00000000e+00, 0.        ,    5, 5.000e+00)\n",
      " ( 43,  44,  7, -4.41488355e-01, 0.84394912,   92, 9.200e+01)\n",
      " ( -1,  -1, -2, -2.00000000e+00, 0.        ,    9, 9.000e+00)\n",
      " ( 45,  46,  7, -4.02116105e-01, 0.88275868,   83, 8.300e+01)\n",
      " ( -1,  -1, -2, -2.00000000e+00, 0.        ,    3, 3.000e+00)\n",
      " ( 47,  54,  5, -1.08217545e-01, 0.84854818,   80, 8.000e+01)\n",
      " ( 48,  51,  5, -5.26033551e-01, 0.98869941,   16, 1.600e+01)\n",
      " ( 49,  50,  4, -8.20527911e-01, 0.59167278,    7, 7.000e+00)\n",
      " ( -1,  -1, -2, -2.00000000e+00, 0.        ,    1, 1.000e+00)\n",
      " ( -1,  -1, -2, -2.00000000e+00, 0.        ,    6, 6.000e+00)\n",
      " ( 52,  53,  3, -4.12965193e-01, 0.50325833,    9, 9.000e+00)\n",
      " ( -1,  -1, -2, -2.00000000e+00, 0.        ,    8, 8.000e+00)\n",
      " ( -1,  -1, -2, -2.00000000e+00, 0.        ,    1, 1.000e+00)\n",
      " ( 55,  74,  6,  3.10903049e+00, 0.72813424,   64, 6.400e+01)\n",
      " ( 56,  61,  2, -4.03313830e-01, 0.62924922,   57, 5.700e+01)\n",
      " ( 57,  60,  5,  1.47441888e+00, 1.        ,    8, 8.000e+00)\n",
      " ( 58,  59,  6, -3.51383686e-01, 0.72192809,    5, 5.000e+00)\n",
      " ( -1,  -1, -2, -2.00000000e+00, 0.        ,    1, 1.000e+00)\n",
      " ( -1,  -1, -2, -2.00000000e+00, 0.        ,    4, 4.000e+00)\n",
      " ( -1,  -1, -2, -2.00000000e+00, 0.        ,    3, 3.000e+00)\n",
      " ( 62,  63,  7,  3.88530514e-02, 0.47543165,   49, 4.900e+01)\n",
      " ( -1,  -1, -2, -2.00000000e+00, 0.        ,   22, 2.200e+01)\n",
      " ( 64,  69,  0, -4.37885687e-01, 0.69128987,   27, 2.700e+01)\n",
      " ( 65,  66,  4, -5.17326847e-01, 1.        ,    8, 8.000e+00)\n",
      " ( -1,  -1, -2, -2.00000000e+00, 0.        ,    3, 3.000e+00)\n",
      " ( 67,  68,  7,  8.60997476e-02, 0.72192809,    5, 5.000e+00)\n",
      " ( -1,  -1, -2, -2.00000000e+00, 0.        ,    1, 1.000e+00)\n",
      " ( -1,  -1, -2, -2.00000000e+00, 0.        ,    4, 4.000e+00)\n",
      " ( 70,  71,  1, -3.63348484e-01, 0.29747225,   19, 1.900e+01)\n",
      " ( -1,  -1, -2, -2.00000000e+00, 0.        ,   16, 1.600e+01)\n",
      " ( 72,  73,  6,  6.61420465e-01, 0.91829583,    3, 3.000e+00)\n",
      " ( -1,  -1, -2, -2.00000000e+00, 0.        ,    1, 1.000e+00)\n",
      " ( -1,  -1, -2, -2.00000000e+00, 0.        ,    2, 2.000e+00)\n",
      " ( 75,  76,  6,  4.20623505e+00, 0.98522814,    7, 7.000e+00)\n",
      " ( -1,  -1, -2, -2.00000000e+00, 0.        ,    4, 4.000e+00)\n",
      " ( -1,  -1, -2, -2.00000000e+00, 0.        ,    3, 3.000e+00)\n",
      " ( 78, 115,  2, -9.11603272e-02, 0.77265709,  423, 4.230e+02)\n",
      " ( 79, 100,  7,  1.08615482e+00, 0.46121604,  164, 1.640e+02)\n",
      " ( 80,  81,  6, -6.38344854e-01, 0.30954343,  126, 1.260e+02)\n",
      " ( -1,  -1, -2, -2.00000000e+00, 0.        ,   64, 6.400e+01)\n",
      " ( 82,  85,  5, -9.94493961e-01, 0.50861133,   62, 6.200e+01)\n",
      " ( 83,  84,  1,  1.54430506e+00, 0.91829583,    3, 3.000e+00)\n",
      " ( -1,  -1, -2, -2.00000000e+00, 0.        ,    1, 1.000e+00)\n",
      " ( -1,  -1, -2, -2.00000000e+00, 0.        ,    2, 2.000e+00)\n",
      " ( 86,  87,  5, -3.36117193e-01, 0.41868431,   59, 5.900e+01)\n",
      " ( -1,  -1, -2, -2.00000000e+00, 0.        ,   27, 2.700e+01)\n",
      " ( 88,  89,  4, -7.18403250e-01, 0.62526241,   32, 3.200e+01)\n",
      " ( -1,  -1, -2, -2.00000000e+00, 0.        ,   11, 1.100e+01)\n",
      " ( 90,  99,  5,  3.72903928e-01, 0.79185835,   21, 2.100e+01)\n",
      " ( 91,  96,  2, -4.84649613e-01, 0.91829583,   15, 1.500e+01)\n",
      " ( 92,  95,  6, -5.03304318e-01, 0.68403844,   11, 1.100e+01)\n",
      " ( 93,  94,  7,  3.88530567e-02, 0.91829583,    3, 3.000e+00)\n",
      " ( -1,  -1, -2, -2.00000000e+00, 0.        ,    1, 1.000e+00)\n",
      " ( -1,  -1, -2, -2.00000000e+00, 0.        ,    2, 2.000e+00)\n",
      " ( -1,  -1, -2, -2.00000000e+00, 0.        ,    8, 8.000e+00)\n",
      " ( 97,  98,  2, -2.42840551e-01, 0.81127812,    4, 4.000e+00)\n",
      " ( -1,  -1, -2, -2.00000000e+00, 0.        ,    3, 3.000e+00)\n",
      " ( -1,  -1, -2, -2.00000000e+00, 0.        ,    1, 1.000e+00)\n",
      " ( -1,  -1, -2, -2.00000000e+00, 0.        ,    6, 6.000e+00)\n",
      " (101, 110,  3,  4.21275079e-01, 0.78974925,   38, 3.800e+01)\n",
      " (102, 103,  1, -5.62864542e-01, 0.99679163,   15, 1.500e+01)\n",
      " ( -1,  -1, -2, -2.00000000e+00, 0.        ,    4, 4.000e+00)\n",
      " (104, 105,  0, -4.22025532e-01, 0.9456603 ,   11, 1.100e+01)\n",
      " ( -1,  -1, -2, -2.00000000e+00, 0.        ,    2, 2.000e+00)\n",
      " (106, 109,  2, -8.38570148e-01, 0.76420451,    9, 9.000e+00)\n",
      " (107, 108,  7,  1.34601164e+00, 0.91829583,    3, 3.000e+00)\n",
      " ( -1,  -1, -2, -2.00000000e+00, 0.        ,    2, 2.000e+00)\n",
      " ( -1,  -1, -2, -2.00000000e+00, 0.        ,    1, 1.000e+00)\n",
      " ( -1,  -1, -2, -2.00000000e+00, 0.        ,    6, 6.000e+00)\n",
      " (111, 112,  4, -4.59660351e-01, 0.42622866,   23, 2.300e+01)\n",
      " ( -1,  -1, -2, -2.00000000e+00, 0.        ,   17, 1.700e+01)\n",
      " (113, 114,  6, -4.35784027e-01, 0.91829583,    6, 6.000e+00)\n",
      " ( -1,  -1, -2, -2.00000000e+00, 0.        ,    2, 2.000e+00)\n",
      " ( -1,  -1, -2, -2.00000000e+00, 0.        ,    4, 4.000e+00)\n",
      " (116, 211,  7,  1.47987729e+00, 0.89187674,  259, 2.590e+02)\n",
      " (117, 176,  4, -3.83804739e-01, 0.85209241,  245, 2.450e+02)\n",
      " (118, 169,  5,  1.01861957e+00, 0.75491602,  175, 1.750e+02)\n",
      " (119, 148,  3,  1.79076292e-01, 0.69128987,  162, 1.620e+02)\n",
      " (120, 121,  2,  3.30906406e-01, 0.84185219,   74, 7.400e+01)\n",
      " ( -1,  -1, -2, -2.00000000e+00, 0.        ,   13, 1.300e+01)\n",
      " (122, 147,  5,  4.74192649e-01, 0.91273416,   61, 6.100e+01)\n",
      " (123, 124,  0, -5.27759939e-01, 0.9612366 ,   52, 5.200e+01)\n",
      " ( -1,  -1, -2, -2.00000000e+00, 0.        ,    6, 6.000e+00)\n",
      " (125, 128,  5, -6.27322286e-01, 0.98769251,   46, 4.600e+01)\n",
      " (126, 127,  5, -9.69171733e-01, 0.59167278,    7, 7.000e+00)\n",
      " ( -1,  -1, -2, -2.00000000e+00, 0.        ,    1, 1.000e+00)\n",
      " ( -1,  -1, -2, -2.00000000e+00, 0.        ,    6, 6.000e+00)\n",
      " (129, 134,  4, -6.21738970e-01, 0.94182854,   39, 3.900e+01)\n",
      " (130, 133,  7, -4.80860591e-01, 0.54356444,   16, 1.600e+01)\n",
      " (131, 132,  4, -6.76084965e-01, 0.97095059,    5, 5.000e+00)\n",
      " ( -1,  -1, -2, -2.00000000e+00, 0.        ,    2, 2.000e+00)\n",
      " ( -1,  -1, -2, -2.00000000e+00, 0.        ,    3, 3.000e+00)\n",
      " ( -1,  -1, -2, -2.00000000e+00, 0.        ,   11, 1.100e+01)\n",
      " (135, 136,  6, -7.73385406e-01, 0.99863596,   23, 2.300e+01)\n",
      " ( -1,  -1, -2, -2.00000000e+00, 0.        ,    3, 3.000e+00)\n",
      " (137, 146,  6,  2.73178883e-01, 0.97095059,   20, 2.000e+01)\n",
      " (138, 145,  4, -4.20515016e-01, 0.87398105,   17, 1.700e+01)\n",
      " (139, 144,  7, -7.64340788e-01, 0.72192809,   15, 1.500e+01)\n",
      " (140, 143,  4, -5.13268411e-01, 0.954434  ,    8, 8.000e+00)\n",
      " (141, 142,  5, -2.09506281e-01, 0.97095059,    5, 5.000e+00)\n",
      " ( -1,  -1, -2, -2.00000000e+00, 0.        ,    2, 2.000e+00)\n",
      " ( -1,  -1, -2, -2.00000000e+00, 0.        ,    3, 3.000e+00)\n",
      " ( -1,  -1, -2, -2.00000000e+00, 0.        ,    3, 3.000e+00)\n",
      " ( -1,  -1, -2, -2.00000000e+00, 0.        ,    7, 7.000e+00)\n",
      " ( -1,  -1, -2, -2.00000000e+00, 0.        ,    2, 2.000e+00)\n",
      " ( -1,  -1, -2, -2.00000000e+00, 0.        ,    3, 3.000e+00)\n",
      " ( -1,  -1, -2, -2.00000000e+00, 0.        ,    9, 9.000e+00)\n",
      " (149, 154,  2,  2.31494126e-02, 0.51078782,   88, 8.800e+01)\n",
      " (150, 153,  0, -4.08808738e-01, 1.        ,    6, 6.000e+00)\n",
      " (151, 152,  6, -8.13025832e-02, 0.81127812,    4, 4.000e+00)\n",
      " ( -1,  -1, -2, -2.00000000e+00, 0.        ,    3, 3.000e+00)\n",
      " ( -1,  -1, -2, -2.00000000e+00, 0.        ,    1, 1.000e+00)\n",
      " ( -1,  -1, -2, -2.00000000e+00, 0.        ,    2, 2.000e+00)\n",
      " (155, 158,  1, -5.87366521e-01, 0.42080949,   82, 8.200e+01)\n",
      " (156, 157,  7,  4.67275009e-02, 1.        ,    4, 4.000e+00)\n",
      " ( -1,  -1, -2, -2.00000000e+00, 0.        ,    2, 2.000e+00)\n",
      " ( -1,  -1, -2, -2.00000000e+00, 0.        ,    2, 2.000e+00)\n",
      " (159, 160,  1, -4.36854392e-01, 0.34351974,   78, 7.800e+01)\n",
      " ( -1,  -1, -2, -2.00000000e+00, 0.        ,   42, 4.200e+01)\n",
      " (161, 168,  2,  8.05731475e-01, 0.5813215 ,   36, 3.600e+01)\n",
      " (162, 167,  0, -4.59032580e-01, 0.43055187,   34, 3.400e+01)\n",
      " (163, 166,  6,  1.55018393e-01, 0.81127812,   12, 1.200e+01)\n",
      " (164, 165,  4, -4.45751026e-01, 0.46899559,   10, 1.000e+01)\n",
      " ( -1,  -1, -2, -2.00000000e+00, 0.        ,    9, 9.000e+00)\n",
      " ( -1,  -1, -2, -2.00000000e+00, 0.        ,    1, 1.000e+00)\n",
      " ( -1,  -1, -2, -2.00000000e+00, 0.        ,    2, 2.000e+00)\n",
      " ( -1,  -1, -2, -2.00000000e+00, 0.        ,   22, 2.200e+01)\n",
      " ( -1,  -1, -2, -2.00000000e+00, 0.        ,    2, 2.000e+00)\n",
      " (170, 171,  1, -5.80365956e-01, 0.9612366 ,   13, 1.300e+01)\n",
      " ( -1,  -1, -2, -2.00000000e+00, 0.        ,    5, 5.000e+00)\n",
      " (172, 173,  2,  8.03042799e-02, 0.954434  ,    8, 8.000e+00)\n",
      " ( -1,  -1, -2, -2.00000000e+00, 0.        ,    2, 2.000e+00)\n",
      " (174, 175,  5,  1.05660284e+00, 0.65002242,    6, 6.000e+00)\n",
      " ( -1,  -1, -2, -2.00000000e+00, 0.        ,    1, 1.000e+00)\n",
      " ( -1,  -1, -2, -2.00000000e+00, 0.        ,    5, 5.000e+00)\n",
      " (177, 178,  7, -9.92699802e-01, 0.98522814,   70, 7.000e+01)\n",
      " ( -1,  -1, -2, -2.00000000e+00, 0.        ,    9, 9.000e+00)\n",
      " (179, 194,  3,  9.83433574e-02, 0.99980613,   61, 6.100e+01)\n",
      " (180, 193,  6,  6.95180625e-01, 0.91829583,   30, 3.000e+01)\n",
      " (181, 182,  5, -9.31188464e-01, 0.77934984,   26, 2.600e+01)\n",
      " ( -1,  -1, -2, -2.00000000e+00, 0.        ,    2, 2.000e+00)\n",
      " (183, 184,  7, -5.20232826e-01, 0.65002242,   24, 2.400e+01)\n",
      " ( -1,  -1, -2, -2.00000000e+00, 0.        ,   10, 1.000e+01)\n",
      " (185, 192,  4, -3.06694716e-01, 0.86312057,   14, 1.400e+01)\n",
      " (186, 191,  5, -1.33539733e-01, 0.99107606,    9, 9.000e+00)\n",
      " (187, 190,  5, -5.13372481e-01, 0.86312057,    7, 7.000e+00)\n",
      " (188, 189,  6, -1.99463064e-01, 0.91829583,    3, 3.000e+00)\n",
      " ( -1,  -1, -2, -2.00000000e+00, 0.        ,    2, 2.000e+00)\n",
      " ( -1,  -1, -2, -2.00000000e+00, 0.        ,    1, 1.000e+00)\n",
      " ( -1,  -1, -2, -2.00000000e+00, 0.        ,    4, 4.000e+00)\n",
      " ( -1,  -1, -2, -2.00000000e+00, 0.        ,    2, 2.000e+00)\n",
      " ( -1,  -1, -2, -2.00000000e+00, 0.        ,    5, 5.000e+00)\n",
      " ( -1,  -1, -2, -2.00000000e+00, 0.        ,    4, 4.000e+00)\n",
      " (195, 208,  6,  2.56298810e-01, 0.90716577,   31, 3.100e+01)\n",
      " (196, 207,  0, -4.37885687e-01, 0.72192809,   25, 2.500e+01)\n",
      " (197, 198,  6, -7.73385435e-01, 0.91829583,   15, 1.500e+01)\n",
      " ( -1,  -1, -2, -2.00000000e+00, 0.        ,    4, 4.000e+00)\n",
      " (199, 202,  3,  2.32898243e-01, 0.99403021,   11, 1.100e+01)\n",
      " (200, 201,  6, -2.33223192e-01, 0.72192809,    5, 5.000e+00)\n",
      " ( -1,  -1, -2, -2.00000000e+00, 0.        ,    4, 4.000e+00)\n",
      " ( -1,  -1, -2, -2.00000000e+00, 0.        ,    1, 1.000e+00)\n",
      " (203, 206,  2,  7.17800885e-01, 0.91829583,    6, 6.000e+00)\n",
      " (204, 205,  4, -3.17394197e-01, 0.91829583,    3, 3.000e+00)\n",
      " ( -1,  -1, -2, -2.00000000e+00, 0.        ,    1, 1.000e+00)\n",
      " ( -1,  -1, -2, -2.00000000e+00, 0.        ,    2, 2.000e+00)\n",
      " ( -1,  -1, -2, -2.00000000e+00, 0.        ,    3, 3.000e+00)\n",
      " ( -1,  -1, -2, -2.00000000e+00, 0.        ,   10, 1.000e+01)\n",
      " (209, 210,  1,  4.20714632e-01, 0.65002242,    6, 6.000e+00)\n",
      " ( -1,  -1, -2, -2.00000000e+00, 0.        ,    5, 5.000e+00)\n",
      " ( -1,  -1, -2, -2.00000000e+00, 0.        ,    1, 1.000e+00)\n",
      " (212, 213,  1, -3.45847070e-01, 0.59167278,   14, 1.400e+01)\n",
      " ( -1,  -1, -2, -2.00000000e+00, 0.        ,   10, 1.000e+01)\n",
      " (214, 215,  6, -2.50103272e-01, 1.        ,    4, 4.000e+00)\n",
      " ( -1,  -1, -2, -2.00000000e+00, 0.        ,    2, 2.000e+00)\n",
      " ( -1,  -1, -2, -2.00000000e+00, 0.        ,    2, 2.000e+00)\n",
      " (217, 360,  4,  3.76337811e-01, 0.63250814, 1011, 1.011e+03)\n",
      " (218, 271,  2, -5.59880957e-02, 0.84975114,  493, 4.930e+02)\n",
      " (219, 240,  3, -2.51499347e-01, 0.95372799,  131, 1.310e+02)\n",
      " (220, 239,  0,  2.14996397e+00, 0.91829583,   39, 3.900e+01)\n",
      " (221, 226,  2, -7.30855227e-01, 0.82240423,   35, 3.500e+01)\n",
      " (222, 225,  7, -1.89505972e-01, 1.        ,   10, 1.000e+01)\n",
      " (223, 224,  5, -5.89339018e-01, 0.65002242,    6, 6.000e+00)\n",
      " ( -1,  -1, -2, -2.00000000e+00, 0.        ,    1, 1.000e+00)\n",
      " ( -1,  -1, -2, -2.00000000e+00, 0.        ,    5, 5.000e+00)\n",
      " ( -1,  -1, -2, -2.00000000e+00, 0.        ,    4, 4.000e+00)\n",
      " (227, 228,  3, -6.01342052e-01, 0.63430955,   25, 2.500e+01)\n",
      " ( -1,  -1, -2, -2.00000000e+00, 0.        ,    9, 9.000e+00)\n",
      " (229, 238,  4,  1.64635733e-01, 0.81127812,   16, 1.600e+01)\n",
      " (230, 233,  4,  2.44725719e-02, 0.9456603 ,   11, 1.100e+01)\n",
      " (231, 232,  1, -5.80365956e-01, 0.65002242,    6, 6.000e+00)\n",
      " ( -1,  -1, -2, -2.00000000e+00, 0.        ,    1, 1.000e+00)\n",
      " ( -1,  -1, -2, -2.00000000e+00, 0.        ,    5, 5.000e+00)\n",
      " (234, 235,  4,  1.41428933e-01, 0.97095059,    5, 5.000e+00)\n",
      " ( -1,  -1, -2, -2.00000000e+00, 0.        ,    2, 2.000e+00)\n",
      " (236, 237,  5, -2.22167369e-01, 0.91829583,    3, 3.000e+00)\n",
      " ( -1,  -1, -2, -2.00000000e+00, 0.        ,    1, 1.000e+00)\n",
      " ( -1,  -1, -2, -2.00000000e+00, 0.        ,    2, 2.000e+00)\n",
      " ( -1,  -1, -2, -2.00000000e+00, 0.        ,    5, 5.000e+00)\n",
      " ( -1,  -1, -2, -2.00000000e+00, 0.        ,    4, 4.000e+00)\n",
      " (241, 242,  0, -5.06613046e-01, 0.81127812,   92, 9.200e+01)\n",
      " ( -1,  -1, -2, -2.00000000e+00, 0.        ,    3, 3.000e+00)\n",
      " (243, 264,  6,  7.06180502e-02, 0.7686913 ,   89, 8.900e+01)\n",
      " (244, 253,  0, -2.97787607e-01, 0.65002242,   72, 7.200e+01)\n",
      " (245, 252,  3,  5.69285452e-01, 0.94945202,   19, 1.900e+01)\n",
      " (246, 251,  7,  8.60997438e-02, 0.99572745,   13, 1.300e+01)\n",
      " (247, 248,  2, -2.93400630e-01, 0.91829583,    9, 9.000e+00)\n",
      " ( -1,  -1, -2, -2.00000000e+00, 0.        ,    5, 5.000e+00)\n",
      " (249, 250,  6, -1.82582986e-01, 0.81127812,    4, 4.000e+00)\n",
      " ( -1,  -1, -2, -2.00000000e+00, 0.        ,    3, 3.000e+00)\n",
      " ( -1,  -1, -2, -2.00000000e+00, 0.        ,    1, 1.000e+00)\n",
      " ( -1,  -1, -2, -2.00000000e+00, 0.        ,    4, 4.000e+00)\n",
      " ( -1,  -1, -2, -2.00000000e+00, 0.        ,    6, 6.000e+00)\n",
      " (254, 263,  7,  1.20427155e+00, 0.45079139,   53, 5.300e+01)\n",
      " (255, 262,  6, -5.53944528e-01, 0.32275696,   51, 5.100e+01)\n",
      " (256, 261,  1,  1.75694909e-01, 0.62924922,   19, 1.900e+01)\n",
      " (257, 258,  7, -7.56466329e-01, 0.91829583,    9, 9.000e+00)\n",
      " ( -1,  -1, -2, -2.00000000e+00, 0.        ,    4, 4.000e+00)\n",
      " (259, 260,  7, -4.25739452e-01, 0.97095059,    5, 5.000e+00)\n",
      " ( -1,  -1, -2, -2.00000000e+00, 0.        ,    3, 3.000e+00)\n",
      " ( -1,  -1, -2, -2.00000000e+00, 0.        ,    2, 2.000e+00)\n",
      " ( -1,  -1, -2, -2.00000000e+00, 0.        ,   10, 1.000e+01)\n",
      " ( -1,  -1, -2, -2.00000000e+00, 0.        ,   32, 3.200e+01)\n",
      " ( -1,  -1, -2, -2.00000000e+00, 0.        ,    2, 2.000e+00)\n",
      " (265, 268,  2, -5.85769773e-01, 0.99750255,   17, 1.700e+01)\n",
      " (266, 267,  4,  1.32500406e-01, 0.72192809,   10, 1.000e+01)\n",
      " ( -1,  -1, -2, -2.00000000e+00, 0.        ,    8, 8.000e+00)\n",
      " ( -1,  -1, -2, -2.00000000e+00, 0.        ,    2, 2.000e+00)\n",
      " (269, 270,  6,  1.21846277e+00, 0.59167278,    7, 7.000e+00)\n",
      " ( -1,  -1, -2, -2.00000000e+00, 0.        ,    6, 6.000e+00)\n",
      " ( -1,  -1, -2, -2.00000000e+00, 0.        ,    1, 1.000e+00)\n",
      " (272, 329,  3, -3.62115279e-02, 0.60776252,  362, 3.620e+02)\n",
      " (273, 294,  2,  4.69397038e-01, 0.45946107,  268, 2.680e+02)\n",
      " (274, 279,  1, -5.73365390e-01, 0.77062907,   62, 6.200e+01)\n",
      " (275, 276,  0,  4.84925881e-02, 0.8812909 ,   10, 1.000e+01)\n",
      " ( -1,  -1, -2, -2.00000000e+00, 0.        ,    6, 6.000e+00)\n",
      " (277, 278,  2,  3.68276894e-01, 0.81127812,    4, 4.000e+00)\n",
      " ( -1,  -1, -2, -2.00000000e+00, 0.        ,    3, 3.000e+00)\n",
      " ( -1,  -1, -2, -2.00000000e+00, 0.        ,    1, 1.000e+00)\n",
      " (280, 289,  0,  2.59961411e-01, 0.56996138,   52, 5.200e+01)\n",
      " (281, 288,  4, -2.59256577e-02, 0.35910163,   44, 4.400e+01)\n",
      " (282, 283,  0, -3.79731759e-01, 0.81127812,   12, 1.200e+01)\n",
      " ( -1,  -1, -2, -2.00000000e+00, 0.        ,    5, 5.000e+00)\n",
      " (284, 287,  4, -5.35967220e-02, 0.98522814,    7, 7.000e+00)\n",
      " (285, 286,  1, -1.53331570e-01, 0.72192809,    5, 5.000e+00)\n",
      " ( -1,  -1, -2, -2.00000000e+00, 0.        ,    4, 4.000e+00)\n",
      " ( -1,  -1, -2, -2.00000000e+00, 0.        ,    1, 1.000e+00)\n",
      " ( -1,  -1, -2, -2.00000000e+00, 0.        ,    2, 2.000e+00)\n",
      " ( -1,  -1, -2, -2.00000000e+00, 0.        ,   32, 3.200e+01)\n",
      " (290, 291,  7, -4.96609479e-01, 1.        ,    8, 8.000e+00)\n",
      " ( -1,  -1, -2, -2.00000000e+00, 0.        ,    3, 3.000e+00)\n",
      " (292, 293,  0,  5.40157586e-01, 0.72192809,    5, 5.000e+00)\n",
      " ( -1,  -1, -2, -2.00000000e+00, 0.        ,    4, 4.000e+00)\n",
      " ( -1,  -1, -2, -2.00000000e+00, 0.        ,    1, 1.000e+00)\n",
      " (295, 322,  4,  1.04054552e-01, 0.32046829,  206, 2.060e+02)\n",
      " (296, 309,  1, -5.10360301e-01, 0.49337573,  102, 1.020e+02)\n",
      " (297, 304,  6,  2.26502705e+00, 0.25524211,   70, 7.000e+01)\n",
      " (298, 299,  2,  9.59609956e-01, 0.12068101,   61, 6.100e+01)\n",
      " ( -1,  -1, -2, -2.00000000e+00, 0.        ,   52, 5.200e+01)\n",
      " (300, 303,  2,  9.66204733e-01, 0.50325833,    9, 9.000e+00)\n",
      " (301, 302,  3, -3.32232267e-01, 1.        ,    2, 2.000e+00)\n",
      " ( -1,  -1, -2, -2.00000000e+00, 0.        ,    1, 1.000e+00)\n",
      " ( -1,  -1, -2, -2.00000000e+00, 0.        ,    1, 1.000e+00)\n",
      " ( -1,  -1, -2, -2.00000000e+00, 0.        ,    7, 7.000e+00)\n",
      " (305, 306,  4, -7.69965071e-03, 0.76420451,    9, 9.000e+00)\n",
      " ( -1,  -1, -2, -2.00000000e+00, 0.        ,    6, 6.000e+00)\n",
      " (307, 308,  3, -4.93698120e-01, 0.91829583,    3, 3.000e+00)\n",
      " ( -1,  -1, -2, -2.00000000e+00, 0.        ,    2, 2.000e+00)\n",
      " ( -1,  -1, -2, -2.00000000e+00, 0.        ,    1, 1.000e+00)\n",
      " (310, 315,  5, -4.62728098e-01, 0.81127812,   32, 3.200e+01)\n",
      " (311, 312,  4, -8.79826285e-02, 0.99403021,   11, 1.100e+01)\n",
      " ( -1,  -1, -2, -2.00000000e+00, 0.        ,    4, 4.000e+00)\n",
      " (313, 314,  7, -8.90331984e-01, 0.59167278,    7, 7.000e+00)\n",
      " ( -1,  -1, -2, -2.00000000e+00, 0.        ,    1, 1.000e+00)\n",
      " ( -1,  -1, -2, -2.00000000e+00, 0.        ,    6, 6.000e+00)\n",
      " (316, 317,  5,  4.23548281e-01, 0.59167278,   21, 2.100e+01)\n",
      " ( -1,  -1, -2, -2.00000000e+00, 0.        ,   14, 1.400e+01)\n",
      " (318, 319,  6,  2.05658601e-01, 0.98522814,    7, 7.000e+00)\n",
      " ( -1,  -1, -2, -2.00000000e+00, 0.        ,    3, 3.000e+00)\n",
      " (320, 321,  1, -4.89358619e-01, 0.81127812,    4, 4.000e+00)\n",
      " ( -1,  -1, -2, -2.00000000e+00, 0.        ,    1, 1.000e+00)\n",
      " ( -1,  -1, -2, -2.00000000e+00, 0.        ,    3, 3.000e+00)\n",
      " (323, 324,  2,  9.24437732e-01, 0.07823247,  104, 1.040e+02)\n",
      " ( -1,  -1, -2, -2.00000000e+00, 0.        ,   86, 8.600e+01)\n",
      " (325, 328,  2,  9.28834260e-01, 0.30954343,   18, 1.800e+01)\n",
      " (326, 327,  3, -5.47520086e-01, 1.        ,    2, 2.000e+00)\n",
      " ( -1,  -1, -2, -2.00000000e+00, 0.        ,    1, 1.000e+00)\n",
      " ( -1,  -1, -2, -2.00000000e+00, 0.        ,    1, 1.000e+00)\n",
      " ( -1,  -1, -2, -2.00000000e+00, 0.        ,   16, 1.600e+01)\n",
      " (330, 331,  6, -9.42186087e-01, 0.87867449,   94, 9.400e+01)\n",
      " ( -1,  -1, -2, -2.00000000e+00, 0.        ,    5, 5.000e+00)\n",
      " (332, 335,  6, -6.04584724e-01, 0.82436335,   89, 8.900e+01)\n",
      " (333, 334,  1,  3.15706193e-01, 0.29747225,   19, 1.900e+01)\n",
      " ( -1,  -1, -2, -2.00000000e+00, 0.        ,   18, 1.800e+01)\n",
      " ( -1,  -1, -2, -2.00000000e+00, 0.        ,    1, 1.000e+00)\n",
      " (336, 355,  0, -2.31703594e-01, 0.89805879,   70, 7.000e+01)\n",
      " (337, 340,  2,  4.75991830e-01, 0.97552595,   49, 4.900e+01)\n",
      " (338, 339,  4,  1.79651894e-01, 0.68403844,   11, 1.100e+01)\n",
      " ( -1,  -1, -2, -2.00000000e+00, 0.        ,    9, 9.000e+00)\n",
      " ( -1,  -1, -2, -2.00000000e+00, 0.        ,    2, 2.000e+00)\n",
      " (341, 346,  7, -6.06851786e-01, 0.8680404 ,   38, 3.800e+01)\n",
      " (342, 345,  5, -3.22510004e-02, 0.97986876,   12, 1.200e+01)\n",
      " (343, 344,  4,  1.25527292e-01, 0.65002242,    6, 6.000e+00)\n",
      " ( -1,  -1, -2, -2.00000000e+00, 0.        ,    5, 5.000e+00)\n",
      " ( -1,  -1, -2, -2.00000000e+00, 0.        ,    1, 1.000e+00)\n",
      " ( -1,  -1, -2, -2.00000000e+00, 0.        ,    6, 6.000e+00)\n",
      " (347, 354,  4,  2.42880984e-02, 0.61938219,   26, 2.600e+01)\n",
      " (348, 349,  1, -4.92858902e-01, 0.91829583,   12, 1.200e+01)\n",
      " ( -1,  -1, -2, -2.00000000e+00, 0.        ,    5, 5.000e+00)\n",
      " (350, 351,  7,  7.03508491e-02, 0.98522814,    7, 7.000e+00)\n",
      " ( -1,  -1, -2, -2.00000000e+00, 0.        ,    3, 3.000e+00)\n",
      " (352, 353,  7,  9.20791388e-01, 0.81127812,    4, 4.000e+00)\n",
      " ( -1,  -1, -2, -2.00000000e+00, 0.        ,    3, 3.000e+00)\n",
      " ( -1,  -1, -2, -2.00000000e+00, 0.        ,    1, 1.000e+00)\n",
      " ( -1,  -1, -2, -2.00000000e+00, 0.        ,   14, 1.400e+01)\n",
      " (356, 359,  5, -3.61439377e-01, 0.45371634,   21, 2.100e+01)\n",
      " (357, 358,  7,  7.35527277e-03, 1.        ,    4, 4.000e+00)\n",
      " ( -1,  -1, -2, -2.00000000e+00, 0.        ,    2, 2.000e+00)\n",
      " ( -1,  -1, -2, -2.00000000e+00, 0.        ,    2, 2.000e+00)\n",
      " ( -1,  -1, -2, -2.00000000e+00, 0.        ,   17, 1.700e+01)\n",
      " (361, 368,  2, -1.43649805e+00, 0.27897003,  518, 5.180e+02)\n",
      " (362, 365,  4,  9.05888170e-01, 0.96563613,   23, 2.300e+01)\n",
      " (363, 364,  6, -8.07145566e-01, 0.72192809,   10, 1.000e+01)\n",
      " ( -1,  -1, -2, -2.00000000e+00, 0.        ,    2, 2.000e+00)\n",
      " ( -1,  -1, -2, -2.00000000e+00, 0.        ,    8, 8.000e+00)\n",
      " (366, 367,  1,  1.94333726e+00, 0.39124356,   13, 1.300e+01)\n",
      " ( -1,  -1, -2, -2.00000000e+00, 0.        ,   12, 1.200e+01)\n",
      " ( -1,  -1, -2, -2.00000000e+00, 0.        ,    1, 1.000e+00)\n",
      " (369, 372,  0, -5.43620110e-01, 0.20591218,  495, 4.950e+02)\n",
      " (370, 371,  6,  1.21258252e-01, 1.        ,    4, 4.000e+00)\n",
      " ( -1,  -1, -2, -2.00000000e+00, 0.        ,    2, 2.000e+00)\n",
      " ( -1,  -1, -2, -2.00000000e+00, 0.        ,    2, 2.000e+00)\n",
      " (373, 380,  6, -6.44225068e-02, 0.18688013,  491, 4.910e+02)\n",
      " (374, 379,  6, -7.05865115e-01, 0.04503629,  202, 2.020e+02)\n",
      " (375, 378,  0, -4.61675942e-01, 0.24988229,   24, 2.400e+01)\n",
      " (376, 377,  2,  8.62886339e-01, 0.81127812,    4, 4.000e+00)\n",
      " ( -1,  -1, -2, -2.00000000e+00, 0.        ,    1, 1.000e+00)\n",
      " ( -1,  -1, -2, -2.00000000e+00, 0.        ,    3, 3.000e+00)\n",
      " ( -1,  -1, -2, -2.00000000e+00, 0.        ,   20, 2.000e+01)\n",
      " ( -1,  -1, -2, -2.00000000e+00, 0.        ,  178, 1.780e+02)\n",
      " (381, 404,  4,  8.36821198e-01, 0.26468877,  289, 2.890e+02)\n",
      " (382, 403,  2,  7.96938390e-01, 0.42622866,  115, 1.150e+02)\n",
      " (383, 398,  4,  7.61666596e-01, 0.57629146,   73, 7.300e+01)\n",
      " (384, 397,  4,  5.62287360e-01, 0.44886449,   64, 6.400e+01)\n",
      " (385, 386,  3, -7.22441435e-01, 0.63945713,   37, 3.700e+01)\n",
      " ( -1,  -1, -2, -2.00000000e+00, 0.        ,   11, 1.100e+01)\n",
      " (387, 388,  2, -6.75898612e-01, 0.77934984,   26, 2.600e+01)\n",
      " ( -1,  -1, -2, -2.00000000e+00, 0.        ,    2, 2.000e+00)\n",
      " (389, 394,  2,  5.70517182e-01, 0.65002242,   24, 2.400e+01)\n",
      " (390, 393,  0, -3.79731774e-01, 0.29747225,   19, 1.900e+01)\n",
      " (391, 392,  0, -4.08808723e-01, 0.81127812,    4, 4.000e+00)\n",
      " ( -1,  -1, -2, -2.00000000e+00, 0.        ,    3, 3.000e+00)\n",
      " ( -1,  -1, -2, -2.00000000e+00, 0.        ,    1, 1.000e+00)\n",
      " ( -1,  -1, -2, -2.00000000e+00, 0.        ,   15, 1.500e+01)\n",
      " (395, 396,  4,  4.54148844e-01, 0.97095059,    5, 5.000e+00)\n",
      " ( -1,  -1, -2, -2.00000000e+00, 0.        ,    2, 2.000e+00)\n",
      " ( -1,  -1, -2, -2.00000000e+00, 0.        ,    3, 3.000e+00)\n",
      " ( -1,  -1, -2, -2.00000000e+00, 0.        ,   27, 2.700e+01)\n",
      " (399, 400,  2, -6.91776797e-02, 0.99107606,    9, 9.000e+00)\n",
      " ( -1,  -1, -2, -2.00000000e+00, 0.        ,    4, 4.000e+00)\n",
      " (401, 402,  7, -4.17865008e-01, 0.72192809,    5, 5.000e+00)\n",
      " ( -1,  -1, -2, -2.00000000e+00, 0.        ,    1, 1.000e+00)\n",
      " ( -1,  -1, -2, -2.00000000e+00, 0.        ,    4, 4.000e+00)\n",
      " ( -1,  -1, -2, -2.00000000e+00, 0.        ,   42, 4.200e+01)\n",
      " (405, 410,  2, -5.08830518e-01, 0.12565805,  174, 1.740e+02)\n",
      " (406, 409,  2, -5.39606214e-01, 0.59167278,   21, 2.100e+01)\n",
      " (407, 408,  7, -1.15018877e+00, 0.29747225,   19, 1.900e+01)\n",
      " ( -1,  -1, -2, -2.00000000e+00, 0.        ,    1, 1.000e+00)\n",
      " ( -1,  -1, -2, -2.00000000e+00, 0.        ,   18, 1.800e+01)\n",
      " ( -1,  -1, -2, -2.00000000e+00, 0.        ,    2, 2.000e+00)\n",
      " ( -1,  -1, -2, -2.00000000e+00, 0.        ,  153, 1.530e+02)]\n"
     ]
    },
    {
     "data": {
      "text/plain": [
       "411"
      ]
     },
     "execution_count": 79,
     "metadata": {},
     "output_type": "execute_result"
    }
   ],
   "source": [
    "classifier = DecisionTreeClassifier(criterion = \"entropy\", splitter=\"best\", min_weight_fraction_leaf=0.0, max_features=None, random_state=0, max_leaf_nodes=None, min_impurity_decrease=0.0, min_impurity_split=None, class_weight=None)\n",
    "classifier.fit(x_train_scaled_df[['Hispanic','Black', 'White','Unemployment', 'Income', 'SelfEmployed', 'WorkAtHome', 'PublicWork']], y_train)\n",
    "\n",
    "\n",
    "# Show the structure of the decision tree classifier\n",
    "print(classifier.tree_.__getstate__()['nodes'])\n",
    "len(classifier.tree_.__getstate__()['nodes'])"
   ]
  },
  {
   "cell_type": "code",
   "execution_count": 80,
   "metadata": {
    "colab": {
     "base_uri": "https://localhost:8080/",
     "height": 297
    },
    "colab_type": "code",
    "executionInfo": {
     "elapsed": 9322,
     "status": "ok",
     "timestamp": 1575244698614,
     "user": {
      "displayName": "Lydia Tse",
      "photoUrl": "",
      "userId": "08063489847245829399"
     },
     "user_tz": 360
    },
    "id": "N9rO7G-A1QJ4",
    "outputId": "cd570f96-de3d-4a11-95ee-040da57bfb5f"
   },
   "outputs": [
    {
     "data": {
      "image/png": "[encoded data removed]",
      "text/plain": [
       "<Figure size 432x288 with 2 Axes>"
      ]
     },
     "metadata": {
      "needs_background": "light"
     },
     "output_type": "display_data"
    }
   ],
   "source": [
    "y_pred = classifier.predict(x_validation_scaled_df[['Hispanic','Black','White','Unemployment', 'Income', 'SelfEmployed', 'WorkAtHome', 'PublicWork']])\n",
    "conf_matrix = metrics.confusion_matrix(y_validation, y_pred)\n",
    "sns.heatmap(conf_matrix, annot = True, fmt = \".3f\", square = True, cmap = plt.cm.Blues)\n",
    "plt.ylabel('Actual')\n",
    "plt.xlabel('Predicted')\n",
    "plt.title('Confusion matrix')\n",
    "plt.tight_layout()"
   ]
  },
  {
   "cell_type": "code",
   "execution_count": 81,
   "metadata": {
    "colab": {
     "base_uri": "https://localhost:8080/",
     "height": 54
    },
    "colab_type": "code",
    "executionInfo": {
     "elapsed": 9321,
     "status": "ok",
     "timestamp": 1575244698615,
     "user": {
      "displayName": "Lydia Tse",
      "photoUrl": "",
      "userId": "08063489847245829399"
     },
     "user_tz": 360
    },
    "id": "Dm6jjiKr1ahc",
    "outputId": "20e02939-7b72-4ede-d411-44fa0a81804b"
   },
   "outputs": [
    {
     "name": "stdout",
     "output_type": "stream",
     "text": [
      "[0.7990115321252059, 0.20098846787479407, array([0.8125    , 0.78228782]), array([0.82228916, 0.77090909]), array([0.81736527, 0.77655678])]\n"
     ]
    }
   ],
   "source": [
    "accuracy = metrics.accuracy_score(y_validation, y_pred)\n",
    "error = 1 - accuracy\n",
    "precision = metrics.precision_score(y_validation, y_pred, average = None)\n",
    "recall = metrics.recall_score(y_validation, y_pred, average = None)\n",
    "F1_score = metrics.f1_score(y_validation, y_pred, average = None)\n",
    "print([accuracy, error, precision, recall, F1_score])"
   ]
  },
  {
   "cell_type": "markdown",
   "metadata": {
    "colab_type": "text",
    "id": "5-fQJbW_1cTF"
   },
   "source": [
    "------"
   ]
  },
  {
   "cell_type": "markdown",
   "metadata": {
    "colab_type": "text",
    "id": "Z4eseBiB1eqY"
   },
   "source": [
    "# Classification Model Used: K-Nearest Neighbors"
   ]
  },
  {
   "cell_type": "markdown",
   "metadata": {
    "colab_type": "text",
    "id": "RvPmIfgL1fan"
   },
   "source": [
    "---"
   ]
  },
  {
   "cell_type": "markdown",
   "metadata": {
    "colab_type": "text",
    "id": "cJKQSJmw1gno"
   },
   "source": [
    "MODEL 1\n",
    "        \n",
    "    - Variables Used: All\n",
    "    - K = 13"
   ]
  },
  {
   "cell_type": "code",
   "execution_count": 82,
   "metadata": {
    "colab": {
     "base_uri": "https://localhost:8080/",
     "height": 68
    },
    "colab_type": "code",
    "executionInfo": {
     "elapsed": 9319,
     "status": "ok",
     "timestamp": 1575244698615,
     "user": {
      "displayName": "Lydia Tse",
      "photoUrl": "",
      "userId": "08063489847245829399"
     },
     "user_tz": 360
    },
    "id": "aiB5BJMx1iwT",
    "outputId": "648cc6e4-7e33-4d8b-943a-3f50101856fe"
   },
   "outputs": [
    {
     "data": {
      "text/plain": [
       "KNeighborsClassifier(algorithm='auto', leaf_size=30, metric='minkowski',\n",
       "                     metric_params=None, n_jobs=None, n_neighbors=13, p=2,\n",
       "                     weights='uniform')"
      ]
     },
     "execution_count": 82,
     "metadata": {},
     "output_type": "execute_result"
    }
   ],
   "source": [
    "classifier = KNeighborsClassifier(n_neighbors = 13)  \n",
    "classifier.fit(x_train_scaled_df, y_train)"
   ]
  },
  {
   "cell_type": "code",
   "execution_count": 83,
   "metadata": {
    "colab": {
     "base_uri": "https://localhost:8080/",
     "height": 297
    },
    "colab_type": "code",
    "executionInfo": {
     "elapsed": 9536,
     "status": "ok",
     "timestamp": 1575244698834,
     "user": {
      "displayName": "Lydia Tse",
      "photoUrl": "",
      "userId": "08063489847245829399"
     },
     "user_tz": 360
    },
    "id": "MZShHu_-1kl5",
    "outputId": "426e164e-01e4-444a-d2d0-3b49b2cf89b7"
   },
   "outputs": [
    {
     "data": {
      "image/png": "[encoded data removed]",
      "text/plain": [
       "<Figure size 432x288 with 2 Axes>"
      ]
     },
     "metadata": {
      "needs_background": "light"
     },
     "output_type": "display_data"
    }
   ],
   "source": [
    "y_pred = classifier.predict(x_validation_scaled_df)\n",
    "conf_matrix = metrics.confusion_matrix(y_validation, y_pred)\n",
    "sns.heatmap(conf_matrix, annot = True, fmt = \".3f\", square = True, cmap = plt.cm.Blues)\n",
    "plt.ylabel('Actual')\n",
    "plt.xlabel('Predicted')\n",
    "plt.title('Confusion matrix')\n",
    "plt.tight_layout()"
   ]
  },
  {
   "cell_type": "code",
   "execution_count": 84,
   "metadata": {
    "colab": {
     "base_uri": "https://localhost:8080/",
     "height": 54
    },
    "colab_type": "code",
    "executionInfo": {
     "elapsed": 9534,
     "status": "ok",
     "timestamp": 1575244698834,
     "user": {
      "displayName": "Lydia Tse",
      "photoUrl": "",
      "userId": "08063489847245829399"
     },
     "user_tz": 360
    },
    "id": "G3RcYZOF1oN2",
    "outputId": "e9096906-d463-4542-bb43-8c311ecf0f05"
   },
   "outputs": [
    {
     "name": "stdout",
     "output_type": "stream",
     "text": [
      "[0.8336079077429983, 0.1663920922570017, array([0.82719547, 0.84251969]), array([0.87951807, 0.77818182]), array([0.85255474, 0.80907372])]\n"
     ]
    }
   ],
   "source": [
    "accuracy = metrics.accuracy_score(y_validation, y_pred)\n",
    "error = 1 - metrics.accuracy_score(y_validation, y_pred)\n",
    "precision = metrics.precision_score(y_validation, y_pred, average = None)\n",
    "recall = metrics.recall_score(y_validation, y_pred, average = None)\n",
    "F1_score = metrics.f1_score(y_validation, y_pred, average = None)\n",
    "print([accuracy, error, precision, recall, F1_score])"
   ]
  },
  {
   "cell_type": "markdown",
   "metadata": {
    "colab_type": "text",
    "id": "ZWweJgjx1qw4"
   },
   "source": [
    "------"
   ]
  },
  {
   "cell_type": "markdown",
   "metadata": {
    "colab_type": "text",
    "id": "EpGVCI521sL7"
   },
   "source": [
    "MODEL 2\n",
    "    \n",
    "       - Variables Used: Hispanic, Black, White, Unemployment, Income, SelfEmployed, Professional\n",
    "       - K = 13"
   ]
  },
  {
   "cell_type": "code",
   "execution_count": 85,
   "metadata": {
    "colab": {
     "base_uri": "https://localhost:8080/",
     "height": 68
    },
    "colab_type": "code",
    "executionInfo": {
     "elapsed": 9534,
     "status": "ok",
     "timestamp": 1575244698835,
     "user": {
      "displayName": "Lydia Tse",
      "photoUrl": "",
      "userId": "08063489847245829399"
     },
     "user_tz": 360
    },
    "id": "ZXBuFzdM1s5t",
    "outputId": "49dd2704-7ca7-4f08-f238-e6879b6da8c8"
   },
   "outputs": [
    {
     "data": {
      "text/plain": [
       "KNeighborsClassifier(algorithm='auto', leaf_size=30, metric='minkowski',\n",
       "                     metric_params=None, n_jobs=None, n_neighbors=13, p=2,\n",
       "                     weights='uniform')"
      ]
     },
     "execution_count": 85,
     "metadata": {},
     "output_type": "execute_result"
    }
   ],
   "source": [
    "classifier = KNeighborsClassifier(n_neighbors = 13)  \n",
    "classifier.fit(x_train_scaled_df[['Hispanic','Black', 'White' ,'Unemployment', 'Income','SelfEmployed','Professional']], y_train)"
   ]
  },
  {
   "cell_type": "code",
   "execution_count": 86,
   "metadata": {
    "colab": {
     "base_uri": "https://localhost:8080/",
     "height": 297
    },
    "colab_type": "code",
    "executionInfo": {
     "elapsed": 9961,
     "status": "ok",
     "timestamp": 1575244699264,
     "user": {
      "displayName": "Lydia Tse",
      "photoUrl": "",
      "userId": "08063489847245829399"
     },
     "user_tz": 360
    },
    "id": "4InhUlU61vKi",
    "outputId": "973650ce-7f89-4797-f372-156c2a015927"
   },
   "outputs": [
    {
     "data": {
      "image/png": "[encoded data removed]",
      "text/plain": [
       "<Figure size 432x288 with 2 Axes>"
      ]
     },
     "metadata": {
      "needs_background": "light"
     },
     "output_type": "display_data"
    }
   ],
   "source": [
    "y_pred = classifier.predict(x_validation_scaled_df[['Hispanic','Black', 'White','Unemployment','Income','SelfEmployed', 'Professional']])\n",
    "conf_matrix = metrics.confusion_matrix(y_validation, y_pred)\n",
    "sns.heatmap(conf_matrix, annot = True, fmt = \".3f\", square = True, cmap = plt.cm.Blues)\n",
    "plt.ylabel('Actual')\n",
    "plt.xlabel('Predicted')\n",
    "plt.title('Confusion matrix')\n",
    "plt.tight_layout()"
   ]
  },
  {
   "cell_type": "code",
   "execution_count": 87,
   "metadata": {
    "colab": {
     "base_uri": "https://localhost:8080/",
     "height": 54
    },
    "colab_type": "code",
    "executionInfo": {
     "elapsed": 9960,
     "status": "ok",
     "timestamp": 1575244699265,
     "user": {
      "displayName": "Lydia Tse",
      "photoUrl": "",
      "userId": "08063489847245829399"
     },
     "user_tz": 360
    },
    "id": "zS5pk2uP1xc0",
    "outputId": "905f6a45-b6c3-4fa2-91b0-bed95261116e"
   },
   "outputs": [
    {
     "name": "stdout",
     "output_type": "stream",
     "text": [
      "[0.828665568369028, 0.17133443163097195, array([0.82758621, 0.83011583]), array([0.86746988, 0.78181818]), array([0.84705882, 0.80524345])]\n"
     ]
    }
   ],
   "source": [
    "accuracy = metrics.accuracy_score(y_validation, y_pred)\n",
    "error = 1 - metrics.accuracy_score(y_validation, y_pred)\n",
    "precision = metrics.precision_score(y_validation, y_pred, average = None)\n",
    "recall = metrics.recall_score(y_validation, y_pred, average = None)\n",
    "F1_score = metrics.f1_score(y_validation, y_pred, average = None)\n",
    "print([accuracy, error, precision, recall, F1_score])"
   ]
  },
  {
   "cell_type": "markdown",
   "metadata": {
    "colab_type": "text",
    "id": "ZxOoOvoy1zfQ"
   },
   "source": [
    "--------"
   ]
  },
  {
   "cell_type": "markdown",
   "metadata": {
    "colab_type": "text",
    "id": "BKmaI0sm12gJ"
   },
   "source": [
    "MODEL 3\n",
    "\n",
    "    - Variables Used: Hispanic, Black, White, Percent_Women\n",
    "    - K = 13 "
   ]
  },
  {
   "cell_type": "code",
   "execution_count": 88,
   "metadata": {
    "colab": {
     "base_uri": "https://localhost:8080/",
     "height": 68
    },
    "colab_type": "code",
    "executionInfo": {
     "elapsed": 9958,
     "status": "ok",
     "timestamp": 1575244699265,
     "user": {
      "displayName": "Lydia Tse",
      "photoUrl": "",
      "userId": "08063489847245829399"
     },
     "user_tz": 360
    },
    "id": "zPu3YQaT13Ly",
    "outputId": "9f916c6a-81c5-4436-c956-e71cf6254dd9"
   },
   "outputs": [
    {
     "data": {
      "text/plain": [
       "KNeighborsClassifier(algorithm='auto', leaf_size=30, metric='minkowski',\n",
       "                     metric_params=None, n_jobs=None, n_neighbors=13, p=2,\n",
       "                     weights='uniform')"
      ]
     },
     "execution_count": 88,
     "metadata": {},
     "output_type": "execute_result"
    }
   ],
   "source": [
    "classifier = KNeighborsClassifier(n_neighbors = 13)  \n",
    "classifier.fit(x_train_scaled_df[['Hispanic','Black', 'White' ,'Unemployment', 'Percent_Women']], y_train)"
   ]
  },
  {
   "cell_type": "code",
   "execution_count": 89,
   "metadata": {
    "colab": {
     "base_uri": "https://localhost:8080/",
     "height": 297
    },
    "colab_type": "code",
    "executionInfo": {
     "elapsed": 10147,
     "status": "ok",
     "timestamp": 1575244699456,
     "user": {
      "displayName": "Lydia Tse",
      "photoUrl": "",
      "userId": "08063489847245829399"
     },
     "user_tz": 360
    },
    "id": "zt91nyv215OP",
    "outputId": "cd12ed0b-0056-4407-dfd8-5c73208e17b9"
   },
   "outputs": [
    {
     "data": {
      "image/png": "[encoded data removed]",
      "text/plain": [
       "<Figure size 432x288 with 2 Axes>"
      ]
     },
     "metadata": {
      "needs_background": "light"
     },
     "output_type": "display_data"
    }
   ],
   "source": [
    "y_pred = classifier.predict(x_validation_scaled_df[['Hispanic','Black', 'White','Unemployment','Percent_Women']])\n",
    "conf_matrix = metrics.confusion_matrix(y_validation, y_pred)\n",
    "sns.heatmap(conf_matrix, annot = True, fmt = \".3f\", square = True, cmap = plt.cm.Blues)\n",
    "plt.ylabel('Actual')\n",
    "plt.xlabel('Predicted')\n",
    "plt.title('Confusion matrix')\n",
    "plt.tight_layout()"
   ]
  },
  {
   "cell_type": "code",
   "execution_count": 90,
   "metadata": {
    "colab": {
     "base_uri": "https://localhost:8080/",
     "height": 54
    },
    "colab_type": "code",
    "executionInfo": {
     "elapsed": 10146,
     "status": "ok",
     "timestamp": 1575244699456,
     "user": {
      "displayName": "Lydia Tse",
      "photoUrl": "",
      "userId": "08063489847245829399"
     },
     "user_tz": 360
    },
    "id": "WHyXXayR16w7",
    "outputId": "ff5672df-6d05-43d6-f987-da1b323200a3"
   },
   "outputs": [
    {
     "name": "stdout",
     "output_type": "stream",
     "text": [
      "[0.7825370675453048, 0.21746293245469517, array([0.77624309, 0.79183673]), array([0.84638554, 0.70545455]), array([0.80979827, 0.74615385])]\n"
     ]
    }
   ],
   "source": [
    "accuracy = metrics.accuracy_score(y_validation, y_pred)\n",
    "error = 1 - metrics.accuracy_score(y_validation, y_pred)\n",
    "precision = metrics.precision_score(y_validation, y_pred, average = None)\n",
    "recall = metrics.recall_score(y_validation, y_pred, average = None)\n",
    "F1_score = metrics.f1_score(y_validation, y_pred, average = None)\n",
    "print([accuracy, error, precision, recall, F1_score])"
   ]
  },
  {
   "cell_type": "markdown",
   "metadata": {
    "colab_type": "text",
    "id": "N0OFs3SX18jL"
   },
   "source": [
    "------"
   ]
  },
  {
   "cell_type": "markdown",
   "metadata": {
    "colab_type": "text",
    "id": "xB66USWv19oF"
   },
   "source": [
    "MODEL 4\n",
    "\n",
    "    - Variables Used: White, Hispanic, Black, Unemployment, Income, WorkAtHome\n",
    "    - K = 13"
   ]
  },
  {
   "cell_type": "code",
   "execution_count": 91,
   "metadata": {
    "colab": {
     "base_uri": "https://localhost:8080/",
     "height": 68
    },
    "colab_type": "code",
    "executionInfo": {
     "elapsed": 10144,
     "status": "ok",
     "timestamp": 1575244699456,
     "user": {
      "displayName": "Lydia Tse",
      "photoUrl": "",
      "userId": "08063489847245829399"
     },
     "user_tz": 360
    },
    "id": "MVfGjJ3f2BWk",
    "outputId": "fd54512c-15d1-42d5-e884-f7072499686e"
   },
   "outputs": [
    {
     "data": {
      "text/plain": [
       "KNeighborsClassifier(algorithm='auto', leaf_size=30, metric='minkowski',\n",
       "                     metric_params=None, n_jobs=None, n_neighbors=13, p=2,\n",
       "                     weights='uniform')"
      ]
     },
     "execution_count": 91,
     "metadata": {},
     "output_type": "execute_result"
    }
   ],
   "source": [
    "classifier_childPoverty = KNeighborsClassifier(n_neighbors = 13)  \n",
    "classifier_childPoverty.fit(x_train_scaled_df[['White','Hispanic','Black' ,'Unemployment', 'Income', 'WorkAtHome']], y_train)"
   ]
  },
  {
   "cell_type": "code",
   "execution_count": 92,
   "metadata": {
    "colab": {
     "base_uri": "https://localhost:8080/",
     "height": 297
    },
    "colab_type": "code",
    "executionInfo": {
     "elapsed": 10293,
     "status": "ok",
     "timestamp": 1575244699607,
     "user": {
      "displayName": "Lydia Tse",
      "photoUrl": "",
      "userId": "08063489847245829399"
     },
     "user_tz": 360
    },
    "id": "XSP33t1z2D_E",
    "outputId": "2d3f3450-4408-4b99-b501-e42bf7550f44"
   },
   "outputs": [
    {
     "data": {
      "image/png": "[encoded data removed]",
      "text/plain": [
       "<Figure size 432x288 with 2 Axes>"
      ]
     },
     "metadata": {
      "needs_background": "light"
     },
     "output_type": "display_data"
    }
   ],
   "source": [
    "y_pred = classifier_childPoverty.predict(x_validation_scaled_df[['White','Hispanic','Black','Unemployment', 'Income', 'WorkAtHome']])\n",
    "conf_matrix = metrics.confusion_matrix(y_validation, y_pred)\n",
    "sns.heatmap(conf_matrix, annot = True, fmt = \".3f\", square = True, cmap = plt.cm.Blues)\n",
    "plt.ylabel('Actual')\n",
    "plt.xlabel('Predicted')\n",
    "plt.title('Confusion matrix')\n",
    "plt.tight_layout()"
   ]
  },
  {
   "cell_type": "code",
   "execution_count": 93,
   "metadata": {
    "colab": {
     "base_uri": "https://localhost:8080/",
     "height": 54
    },
    "colab_type": "code",
    "executionInfo": {
     "elapsed": 10535,
     "status": "ok",
     "timestamp": 1575244699851,
     "user": {
      "displayName": "Lydia Tse",
      "photoUrl": "",
      "userId": "08063489847245829399"
     },
     "user_tz": 360
    },
    "id": "vncw4l_T2JkR",
    "outputId": "590dde07-dac6-4c5d-cf2f-84de388640bf"
   },
   "outputs": [
    {
     "name": "stdout",
     "output_type": "stream",
     "text": [
      "[0.8517298187808896, 0.1482701812191104, array([0.84770115, 0.85714286]), array([0.88855422, 0.80727273]), array([0.86764706, 0.83146067])]\n"
     ]
    }
   ],
   "source": [
    "accuracy = metrics.accuracy_score(y_validation, y_pred)\n",
    "error = 1 - metrics.accuracy_score(y_validation, y_pred)\n",
    "precision = metrics.precision_score(y_validation, y_pred, average = None)\n",
    "recall = metrics.recall_score(y_validation, y_pred, average = None)\n",
    "F1_score = metrics.f1_score(y_validation, y_pred, average = None)\n",
    "print([accuracy, error, precision, recall, F1_score])"
   ]
  },
  {
   "cell_type": "markdown",
   "metadata": {
    "colab_type": "text",
    "id": "cYMN8MC32Lpe"
   },
   "source": [
    "--------"
   ]
  },
  {
   "cell_type": "markdown",
   "metadata": {
    "colab_type": "text",
    "id": "EKiRRew22NA3"
   },
   "source": [
    "# Classification Model Used: Support Vector Machines"
   ]
  },
  {
   "cell_type": "markdown",
   "metadata": {
    "colab_type": "text",
    "id": "uU5N37sw2PSB"
   },
   "source": [
    "---"
   ]
  },
  {
   "cell_type": "markdown",
   "metadata": {
    "colab_type": "text",
    "id": "0qxMS7Ez2QqU"
   },
   "source": [
    "MODEL 1\n",
    "\n",
    "    -Variables Used: All"
   ]
  },
  {
   "cell_type": "code",
   "execution_count": 94,
   "metadata": {
    "colab": {},
    "colab_type": "code",
    "id": "J6EUnYQP2Tcw"
   },
   "outputs": [],
   "source": [
    "classifier = SVC(kernel = 'rbf')  \n",
    "classifier.fit(x_train_scaled_df, y_train)\n",
    "y_pred = classifier.predict(x_validation_scaled_df)"
   ]
  },
  {
   "cell_type": "code",
   "execution_count": 95,
   "metadata": {
    "colab": {
     "base_uri": "https://localhost:8080/",
     "height": 297
    },
    "colab_type": "code",
    "executionInfo": {
     "elapsed": 10747,
     "status": "ok",
     "timestamp": 1575244700067,
     "user": {
      "displayName": "Lydia Tse",
      "photoUrl": "",
      "userId": "08063489847245829399"
     },
     "user_tz": 360
    },
    "id": "oyNg2ZFR2Var",
    "outputId": "9f4b4d27-d589-486d-e072-bfd0c53b4def"
   },
   "outputs": [
    {
     "data": {
      "image/png": "[encoded data removed]",
      "text/plain": [
       "<Figure size 432x288 with 2 Axes>"
      ]
     },
     "metadata": {
      "needs_background": "light"
     },
     "output_type": "display_data"
    }
   ],
   "source": [
    "conf_matrix = metrics.confusion_matrix(y_validation, y_pred)\n",
    "sns.heatmap(conf_matrix, annot = True, fmt = \".3f\", square = True, cmap = plt.cm.Blues)\n",
    "plt.ylabel('Actual')\n",
    "plt.xlabel('Predicted')\n",
    "plt.title('Confusion matrix')\n",
    "plt.tight_layout()"
   ]
  },
  {
   "cell_type": "code",
   "execution_count": 96,
   "metadata": {
    "colab": {
     "base_uri": "https://localhost:8080/",
     "height": 54
    },
    "colab_type": "code",
    "executionInfo": {
     "elapsed": 10745,
     "status": "ok",
     "timestamp": 1575244700067,
     "user": {
      "displayName": "Lydia Tse",
      "photoUrl": "",
      "userId": "08063489847245829399"
     },
     "user_tz": 360
    },
    "id": "v5puZhoe2XEl",
    "outputId": "146c6cd3-17b0-4d61-ec2b-72ee02aa26cd"
   },
   "outputs": [
    {
     "name": "stdout",
     "output_type": "stream",
     "text": [
      "[0.8467874794069192, 0.15321252059308077, array([0.8483965 , 0.84469697]), array([0.87650602, 0.81090909]), array([0.86222222, 0.82745826])]\n"
     ]
    }
   ],
   "source": [
    "accuracy = metrics.accuracy_score(y_validation, y_pred)\n",
    "error = 1 - accuracy\n",
    "precision = metrics.precision_score(y_validation, y_pred, average = None)\n",
    "recall = metrics.recall_score(y_validation, y_pred, average = None)\n",
    "F1_score = metrics.f1_score(y_validation, y_pred, average = None)\n",
    "print([accuracy, error, precision, recall, F1_score])"
   ]
  },
  {
   "cell_type": "markdown",
   "metadata": {
    "colab_type": "text",
    "id": "gRjijXNv2ZBr"
   },
   "source": [
    "---------"
   ]
  },
  {
   "cell_type": "markdown",
   "metadata": {
    "colab_type": "text",
    "id": "onKyixr62afz"
   },
   "source": [
    "MODEL 2\n",
    "\n",
    "    -Variables Used: Hispanic, White, Black"
   ]
  },
  {
   "cell_type": "code",
   "execution_count": 97,
   "metadata": {
    "colab": {},
    "colab_type": "code",
    "id": "PeEHaJgW2c0-"
   },
   "outputs": [],
   "source": [
    "classifier = SVC(kernel = 'rbf')  \n",
    "classifier.fit(x_train_scaled_df[['Hispanic', 'White', 'Black']], y_train)\n",
    "y_pred = classifier.predict(x_validation_scaled_df[['Hispanic', 'White', 'Black']])"
   ]
  },
  {
   "cell_type": "code",
   "execution_count": 98,
   "metadata": {
    "colab": {
     "base_uri": "https://localhost:8080/",
     "height": 297
    },
    "colab_type": "code",
    "executionInfo": {
     "elapsed": 11548,
     "status": "ok",
     "timestamp": 1575244700873,
     "user": {
      "displayName": "Lydia Tse",
      "photoUrl": "",
      "userId": "08063489847245829399"
     },
     "user_tz": 360
    },
    "id": "LIHwP-JX2evq",
    "outputId": "7b69a2fc-d52b-4afb-c1a4-3b5a8d0ab7b3"
   },
   "outputs": [
    {
     "data": {
      "image/png": "[encoded data removed]",
      "text/plain": [
       "<Figure size 432x288 with 2 Axes>"
      ]
     },
     "metadata": {
      "needs_background": "light"
     },
     "output_type": "display_data"
    }
   ],
   "source": [
    "conf_matrix = metrics.confusion_matrix(y_validation, y_pred)\n",
    "sns.heatmap(conf_matrix, annot = True, fmt = \".3f\", square = True, cmap = plt.cm.Blues)\n",
    "plt.ylabel('Actual')\n",
    "plt.xlabel('Predicted')\n",
    "plt.title('Confusion matrix')\n",
    "plt.tight_layout()"
   ]
  },
  {
   "cell_type": "code",
   "execution_count": 99,
   "metadata": {
    "colab": {
     "base_uri": "https://localhost:8080/",
     "height": 54
    },
    "colab_type": "code",
    "executionInfo": {
     "elapsed": 11546,
     "status": "ok",
     "timestamp": 1575244700873,
     "user": {
      "displayName": "Lydia Tse",
      "photoUrl": "",
      "userId": "08063489847245829399"
     },
     "user_tz": 360
    },
    "id": "O_s0zu-z2hZ5",
    "outputId": "54fcca04-574c-450f-bd80-6c7a7bad2e29"
   },
   "outputs": [
    {
     "name": "stdout",
     "output_type": "stream",
     "text": [
      "[0.7051070840197694, 0.2948929159802306, array([0.66666667, 0.82432432]), array([0.92168675, 0.44363636]), array([0.77370417, 0.57683215])]\n"
     ]
    }
   ],
   "source": [
    "accuracy = metrics.accuracy_score(y_validation, y_pred)\n",
    "error = 1 - accuracy\n",
    "precision = metrics.precision_score(y_validation, y_pred, average = None)\n",
    "recall = metrics.recall_score(y_validation, y_pred, average = None)\n",
    "F1_score = metrics.f1_score(y_validation, y_pred, average = None)\n",
    "print([accuracy, error, precision, recall, F1_score])"
   ]
  },
  {
   "cell_type": "markdown",
   "metadata": {
    "colab_type": "text",
    "id": "J3PawLIv2jp3"
   },
   "source": [
    "--------"
   ]
  },
  {
   "cell_type": "markdown",
   "metadata": {
    "colab_type": "text",
    "id": "MczCSb4i2k6q"
   },
   "source": [
    "MODEL 3\n",
    "\n",
    "    -Variables Used: Hispanic, White, Black, Percent_Women"
   ]
  },
  {
   "cell_type": "code",
   "execution_count": 100,
   "metadata": {
    "colab": {},
    "colab_type": "code",
    "id": "_duaFRCG2pEQ"
   },
   "outputs": [],
   "source": [
    "classifier = SVC(kernel = 'rbf')  \n",
    "classifier.fit(x_train_scaled_df[['Hispanic', 'White', 'Black', 'Percent_Women']], y_train)\n",
    "y_pred = classifier.predict(x_validation_scaled_df[['Hispanic', 'White', 'Black', 'Percent_Women']])"
   ]
  },
  {
   "cell_type": "code",
   "execution_count": 101,
   "metadata": {
    "colab": {
     "base_uri": "https://localhost:8080/",
     "height": 297
    },
    "colab_type": "code",
    "executionInfo": {
     "elapsed": 11763,
     "status": "ok",
     "timestamp": 1575244701094,
     "user": {
      "displayName": "Lydia Tse",
      "photoUrl": "",
      "userId": "08063489847245829399"
     },
     "user_tz": 360
    },
    "id": "YjYND7Av2pzI",
    "outputId": "561a2127-1937-42fd-c1f6-3299d70ce06b"
   },
   "outputs": [
    {
     "data": {
      "image/png": "[encoded data removed]",
      "text/plain": [
       "<Figure size 432x288 with 2 Axes>"
      ]
     },
     "metadata": {
      "needs_background": "light"
     },
     "output_type": "display_data"
    }
   ],
   "source": [
    "conf_matrix = metrics.confusion_matrix(y_validation, y_pred)\n",
    "sns.heatmap(conf_matrix, annot = True, fmt = \".3f\", square = True, cmap = plt.cm.Blues)\n",
    "plt.ylabel('Actual')\n",
    "plt.xlabel('Predicted')\n",
    "plt.title('Confusion matrix')\n",
    "plt.tight_layout()"
   ]
  },
  {
   "cell_type": "code",
   "execution_count": 102,
   "metadata": {
    "colab": {
     "base_uri": "https://localhost:8080/",
     "height": 54
    },
    "colab_type": "code",
    "executionInfo": {
     "elapsed": 11761,
     "status": "ok",
     "timestamp": 1575244701094,
     "user": {
      "displayName": "Lydia Tse",
      "photoUrl": "",
      "userId": "08063489847245829399"
     },
     "user_tz": 360
    },
    "id": "d3SIKbsB2rbz",
    "outputId": "ffd55fad-7f7d-4958-fa75-116871294cf0"
   },
   "outputs": [
    {
     "name": "stdout",
     "output_type": "stream",
     "text": [
      "[0.7067545304777595, 0.2932454695222405, array([0.66812227, 0.82550336]), array([0.92168675, 0.44727273]), array([0.77468354, 0.58018868])]\n"
     ]
    }
   ],
   "source": [
    "accuracy = metrics.accuracy_score(y_validation, y_pred)\n",
    "error = 1 - accuracy\n",
    "precision = metrics.precision_score(y_validation, y_pred, average = None)\n",
    "recall = metrics.recall_score(y_validation, y_pred, average = None)\n",
    "F1_score = metrics.f1_score(y_validation, y_pred, average = None)\n",
    "print([accuracy, error, precision, recall, F1_score])"
   ]
  },
  {
   "cell_type": "markdown",
   "metadata": {
    "colab_type": "text",
    "id": "Gk1sqrUP2tUF"
   },
   "source": [
    "-------"
   ]
  },
  {
   "cell_type": "markdown",
   "metadata": {
    "colab_type": "text",
    "id": "jRSElS3R2uTn"
   },
   "source": [
    "MODEL 4\n",
    "\n",
    "    - Variables Used: Unemployment, Income, SelfEmployed"
   ]
  },
  {
   "cell_type": "code",
   "execution_count": 103,
   "metadata": {
    "colab": {},
    "colab_type": "code",
    "id": "XWZpkX-j2wg9"
   },
   "outputs": [],
   "source": [
    "classifier = SVC(kernel = 'rbf')  \n",
    "classifier.fit(x_train_scaled_df[['Unemployment', 'Income', 'SelfEmployed']], y_train)\n",
    "y_pred = classifier.predict(x_validation_scaled_df[['Unemployment', 'Income', 'SelfEmployed']])"
   ]
  },
  {
   "cell_type": "code",
   "execution_count": 104,
   "metadata": {
    "colab": {
     "base_uri": "https://localhost:8080/",
     "height": 297
    },
    "colab_type": "code",
    "executionInfo": {
     "elapsed": 12151,
     "status": "ok",
     "timestamp": 1575244701488,
     "user": {
      "displayName": "Lydia Tse",
      "photoUrl": "",
      "userId": "08063489847245829399"
     },
     "user_tz": 360
    },
    "id": "2qfNxxn82yg8",
    "outputId": "50744ef3-3914-462f-e211-6e881cb0ad74"
   },
   "outputs": [
    {
     "data": {
      "image/png": "[encoded data removed]",
      "text/plain": [
       "<Figure size 432x288 with 2 Axes>"
      ]
     },
     "metadata": {
      "needs_background": "light"
     },
     "output_type": "display_data"
    }
   ],
   "source": [
    "conf_matrix = metrics.confusion_matrix(y_validation, y_pred)\n",
    "sns.heatmap(conf_matrix, annot = True, fmt = \".3f\", square = True, cmap = plt.cm.Blues)\n",
    "plt.ylabel('Actual')\n",
    "plt.xlabel('Predicted')\n",
    "plt.title('Confusion matrix')\n",
    "plt.tight_layout()"
   ]
  },
  {
   "cell_type": "code",
   "execution_count": 105,
   "metadata": {
    "colab": {
     "base_uri": "https://localhost:8080/",
     "height": 54
    },
    "colab_type": "code",
    "executionInfo": {
     "elapsed": 12149,
     "status": "ok",
     "timestamp": 1575244701488,
     "user": {
      "displayName": "Lydia Tse",
      "photoUrl": "",
      "userId": "08063489847245829399"
     },
     "user_tz": 360
    },
    "id": "TyT38tNZ20ZY",
    "outputId": "cbc58269-fac9-43e0-ee65-9ec8f86710d3"
   },
   "outputs": [
    {
     "name": "stdout",
     "output_type": "stream",
     "text": [
      "[0.8336079077429983, 0.1663920922570017, array([0.83478261, 0.83206107]), array([0.86746988, 0.79272727]), array([0.85081241, 0.81191806])]\n"
     ]
    }
   ],
   "source": [
    "accuracy = metrics.accuracy_score(y_validation, y_pred)\n",
    "error = 1 - accuracy\n",
    "precision = metrics.precision_score(y_validation, y_pred, average = None)\n",
    "recall = metrics.recall_score(y_validation, y_pred, average = None)\n",
    "F1_score = metrics.f1_score(y_validation, y_pred, average = None)\n",
    "print([accuracy, error, precision, recall, F1_score])"
   ]
  },
  {
   "cell_type": "markdown",
   "metadata": {
    "colab_type": "text",
    "id": "xEe3bqA122ko"
   },
   "source": [
    "-------"
   ]
  },
  {
   "cell_type": "markdown",
   "metadata": {
    "colab_type": "text",
    "id": "Z-sCyiEx238J"
   },
   "source": [
    "MODEL 5\n",
    "\n",
    "    Variables Used: Unemployment, Income, White, Black, Hispanic"
   ]
  },
  {
   "cell_type": "code",
   "execution_count": 106,
   "metadata": {
    "colab": {},
    "colab_type": "code",
    "id": "V9Mv9NUB26kL"
   },
   "outputs": [],
   "source": [
    "classifier = SVC(kernel = 'rbf')  \n",
    "classifier.fit(x_train_scaled_df[['Unemployment', 'Income', 'White', 'Black', 'Hispanic']], y_train)\n",
    "y_pred = classifier.predict(x_validation_scaled_df[['Unemployment', 'Income', 'White', 'Black', 'Hispanic']])"
   ]
  },
  {
   "cell_type": "code",
   "execution_count": 107,
   "metadata": {
    "colab": {
     "base_uri": "https://localhost:8080/",
     "height": 297
    },
    "colab_type": "code",
    "executionInfo": {
     "elapsed": 12555,
     "status": "ok",
     "timestamp": 1575244701898,
     "user": {
      "displayName": "Lydia Tse",
      "photoUrl": "",
      "userId": "08063489847245829399"
     },
     "user_tz": 360
    },
    "id": "me-JG8Iy28ha",
    "outputId": "6b2ee04d-5f6c-4946-b116-e70410954905"
   },
   "outputs": [
    {
     "data": {
      "image/png": "[encoded data removed]",
      "text/plain": [
       "<Figure size 432x288 with 2 Axes>"
      ]
     },
     "metadata": {
      "needs_background": "light"
     },
     "output_type": "display_data"
    }
   ],
   "source": [
    "conf_matrix = metrics.confusion_matrix(y_validation, y_pred)\n",
    "sns.heatmap(conf_matrix, annot = True, fmt = \".3f\", square = True, cmap = plt.cm.Blues)\n",
    "plt.ylabel('Actual')\n",
    "plt.xlabel('Predicted')\n",
    "plt.title('Confusion matrix')\n",
    "plt.tight_layout()"
   ]
  },
  {
   "cell_type": "code",
   "execution_count": 108,
   "metadata": {
    "colab": {
     "base_uri": "https://localhost:8080/",
     "height": 54
    },
    "colab_type": "code",
    "executionInfo": {
     "elapsed": 12555,
     "status": "ok",
     "timestamp": 1575244701899,
     "user": {
      "displayName": "Lydia Tse",
      "photoUrl": "",
      "userId": "08063489847245829399"
     },
     "user_tz": 360
    },
    "id": "4sSJuOR32-ZL",
    "outputId": "10f8ce9b-3a27-4455-948a-64e9d394e45a"
   },
   "outputs": [
    {
     "name": "stdout",
     "output_type": "stream",
     "text": [
      "[0.8401976935749588, 0.15980230642504123, array([0.84866469, 0.82962963]), array([0.86144578, 0.81454545]), array([0.85500747, 0.82201835])]\n"
     ]
    }
   ],
   "source": [
    "accuracy = metrics.accuracy_score(y_validation, y_pred)\n",
    "error = 1 - accuracy\n",
    "precision = metrics.precision_score(y_validation, y_pred, average = None)\n",
    "recall = metrics.recall_score(y_validation, y_pred, average = None)\n",
    "F1_score = metrics.f1_score(y_validation, y_pred, average = None)\n",
    "print([accuracy, error, precision, recall, F1_score])"
   ]
  },
  {
   "cell_type": "markdown",
   "metadata": {
    "colab_type": "text",
    "id": "DXvI2Tf43Ant"
   },
   "source": [
    "-----"
   ]
  },
  {
   "cell_type": "markdown",
   "metadata": {
    "colab_type": "text",
    "id": "YpXxUzk63DwJ"
   },
   "source": [
    "BEST MODELS FOR Child Poverty Variable\n",
    "\n",
    "    - The best model for Decision Tree classifier is MODEL 5 with accuracy of 0.80. The variables used in this model are Hispanic, Black, \n",
    "      White, Unemployment, Income, SelfEmployment.\n",
    "      \n",
    "    - The best model for K-Nearest Neighbors classifier is MODEL 4 with accuracy of 0.85. The variables used in this model are White, Hispanic, \n",
    "      Black, Unemployment, Income, WorkAtHome\n",
    "      \n",
    "    - The best model for Support Vector Machines is MODEL 1 with accuracy of 0.85. All variables are used in this model. \n",
    "      \n",
    "We could observe that the shared variables for each of the models are Income, Unemployment, Hispanic, Black, and White."
   ]
  },
  {
   "cell_type": "code",
   "execution_count": 109,
   "metadata": {},
   "outputs": [
    {
     "data": {
      "text/html": [
       "<div>\n",
       "<style scoped>\n",
       "    .dataframe tbody tr th:only-of-type {\n",
       "        vertical-align: middle;\n",
       "    }\n",
       "\n",
       "    .dataframe tbody tr th {\n",
       "        vertical-align: top;\n",
       "    }\n",
       "\n",
       "    .dataframe thead th {\n",
       "        text-align: right;\n",
       "    }\n",
       "</style>\n",
       "<table border=\"1\" class=\"dataframe\">\n",
       "  <thead>\n",
       "    <tr style=\"text-align: right;\">\n",
       "      <th></th>\n",
       "      <th>Unnamed: 0</th>\n",
       "      <th>CountyId</th>\n",
       "      <th>State</th>\n",
       "      <th>County</th>\n",
       "      <th>TotalPop</th>\n",
       "      <th>Percent_Women</th>\n",
       "      <th>Hispanic</th>\n",
       "      <th>White</th>\n",
       "      <th>Black</th>\n",
       "      <th>Income</th>\n",
       "      <th>...</th>\n",
       "      <th>Professional</th>\n",
       "      <th>Service</th>\n",
       "      <th>Production</th>\n",
       "      <th>Carpool</th>\n",
       "      <th>WorkAtHome</th>\n",
       "      <th>MeanCommute</th>\n",
       "      <th>PrivateWork</th>\n",
       "      <th>PublicWork</th>\n",
       "      <th>SelfEmployed</th>\n",
       "      <th>Unemployment</th>\n",
       "    </tr>\n",
       "  </thead>\n",
       "  <tbody>\n",
       "    <tr>\n",
       "      <th>0</th>\n",
       "      <td>0</td>\n",
       "      <td>1005</td>\n",
       "      <td>Alabama</td>\n",
       "      <td>Barbour County</td>\n",
       "      <td>26201.0</td>\n",
       "      <td>46.658524</td>\n",
       "      <td>4.2</td>\n",
       "      <td>45.7</td>\n",
       "      <td>47.8</td>\n",
       "      <td>33368</td>\n",
       "      <td>...</td>\n",
       "      <td>25.0</td>\n",
       "      <td>16.8</td>\n",
       "      <td>24.1</td>\n",
       "      <td>11.1</td>\n",
       "      <td>1.3</td>\n",
       "      <td>23.4</td>\n",
       "      <td>74.1</td>\n",
       "      <td>19.1</td>\n",
       "      <td>6.5</td>\n",
       "      <td>12.4</td>\n",
       "    </tr>\n",
       "    <tr>\n",
       "      <th>1</th>\n",
       "      <td>1</td>\n",
       "      <td>1025</td>\n",
       "      <td>Alabama</td>\n",
       "      <td>Clarke County</td>\n",
       "      <td>24625.0</td>\n",
       "      <td>52.694416</td>\n",
       "      <td>0.2</td>\n",
       "      <td>53.0</td>\n",
       "      <td>45.7</td>\n",
       "      <td>33827</td>\n",
       "      <td>...</td>\n",
       "      <td>21.6</td>\n",
       "      <td>14.3</td>\n",
       "      <td>25.6</td>\n",
       "      <td>11.9</td>\n",
       "      <td>0.9</td>\n",
       "      <td>23.9</td>\n",
       "      <td>83.1</td>\n",
       "      <td>11.8</td>\n",
       "      <td>5.1</td>\n",
       "      <td>15.2</td>\n",
       "    </tr>\n",
       "    <tr>\n",
       "      <th>2</th>\n",
       "      <td>2</td>\n",
       "      <td>1037</td>\n",
       "      <td>Alabama</td>\n",
       "      <td>Coosa County</td>\n",
       "      <td>10955.0</td>\n",
       "      <td>50.031949</td>\n",
       "      <td>0.1</td>\n",
       "      <td>65.3</td>\n",
       "      <td>33.2</td>\n",
       "      <td>34792</td>\n",
       "      <td>...</td>\n",
       "      <td>17.6</td>\n",
       "      <td>23.2</td>\n",
       "      <td>20.9</td>\n",
       "      <td>9.7</td>\n",
       "      <td>4.2</td>\n",
       "      <td>29.8</td>\n",
       "      <td>78.8</td>\n",
       "      <td>15.9</td>\n",
       "      <td>5.4</td>\n",
       "      <td>11.3</td>\n",
       "    </tr>\n",
       "    <tr>\n",
       "      <th>3</th>\n",
       "      <td>3</td>\n",
       "      <td>1047</td>\n",
       "      <td>Alabama</td>\n",
       "      <td>Dallas County</td>\n",
       "      <td>40755.0</td>\n",
       "      <td>53.848608</td>\n",
       "      <td>1.0</td>\n",
       "      <td>27.7</td>\n",
       "      <td>70.2</td>\n",
       "      <td>30065</td>\n",
       "      <td>...</td>\n",
       "      <td>26.7</td>\n",
       "      <td>18.2</td>\n",
       "      <td>25.3</td>\n",
       "      <td>8.9</td>\n",
       "      <td>1.2</td>\n",
       "      <td>22.1</td>\n",
       "      <td>78.8</td>\n",
       "      <td>15.2</td>\n",
       "      <td>5.6</td>\n",
       "      <td>13.7</td>\n",
       "    </tr>\n",
       "    <tr>\n",
       "      <th>4</th>\n",
       "      <td>4</td>\n",
       "      <td>1053</td>\n",
       "      <td>Alabama</td>\n",
       "      <td>Escambia County</td>\n",
       "      <td>37621.0</td>\n",
       "      <td>48.629755</td>\n",
       "      <td>2.2</td>\n",
       "      <td>60.2</td>\n",
       "      <td>32.2</td>\n",
       "      <td>35026</td>\n",
       "      <td>...</td>\n",
       "      <td>24.6</td>\n",
       "      <td>21.2</td>\n",
       "      <td>18.3</td>\n",
       "      <td>7.0</td>\n",
       "      <td>0.8</td>\n",
       "      <td>22.6</td>\n",
       "      <td>75.6</td>\n",
       "      <td>19.7</td>\n",
       "      <td>4.6</td>\n",
       "      <td>13.7</td>\n",
       "    </tr>\n",
       "  </tbody>\n",
       "</table>\n",
       "<p>5 rows × 21 columns</p>\n",
       "</div>"
      ],
      "text/plain": [
       "   Unnamed: 0  CountyId    State           County  TotalPop  Percent_Women  \\\n",
       "0           0      1005  Alabama   Barbour County   26201.0      46.658524   \n",
       "1           1      1025  Alabama    Clarke County   24625.0      52.694416   \n",
       "2           2      1037  Alabama     Coosa County   10955.0      50.031949   \n",
       "3           3      1047  Alabama    Dallas County   40755.0      53.848608   \n",
       "4           4      1053  Alabama  Escambia County   37621.0      48.629755   \n",
       "\n",
       "   Hispanic  White  Black  Income  ...  Professional  Service  Production  \\\n",
       "0       4.2   45.7   47.8   33368  ...          25.0     16.8        24.1   \n",
       "1       0.2   53.0   45.7   33827  ...          21.6     14.3        25.6   \n",
       "2       0.1   65.3   33.2   34792  ...          17.6     23.2        20.9   \n",
       "3       1.0   27.7   70.2   30065  ...          26.7     18.2        25.3   \n",
       "4       2.2   60.2   32.2   35026  ...          24.6     21.2        18.3   \n",
       "\n",
       "   Carpool  WorkAtHome  MeanCommute  PrivateWork  PublicWork  SelfEmployed  \\\n",
       "0     11.1         1.3         23.4         74.1        19.1           6.5   \n",
       "1     11.9         0.9         23.9         83.1        11.8           5.1   \n",
       "2      9.7         4.2         29.8         78.8        15.9           5.4   \n",
       "3      8.9         1.2         22.1         78.8        15.2           5.6   \n",
       "4      7.0         0.8         22.6         75.6        19.7           4.6   \n",
       "\n",
       "   Unemployment  \n",
       "0          12.4  \n",
       "1          15.2  \n",
       "2          11.3  \n",
       "3          13.7  \n",
       "4          13.7  \n",
       "\n",
       "[5 rows x 21 columns]"
      ]
     },
     "execution_count": 109,
     "metadata": {},
     "output_type": "execute_result"
    }
   ],
   "source": [
    "# Load Census test dataset\n",
    "test_census = pd.read_csv('test_dp_output.csv')\n",
    "test_census.head()"
   ]
  },
  {
   "cell_type": "code",
   "execution_count": 110,
   "metadata": {},
   "outputs": [
    {
     "data": {
      "text/html": [
       "<div>\n",
       "<style scoped>\n",
       "    .dataframe tbody tr th:only-of-type {\n",
       "        vertical-align: middle;\n",
       "    }\n",
       "\n",
       "    .dataframe tbody tr th {\n",
       "        vertical-align: top;\n",
       "    }\n",
       "\n",
       "    .dataframe thead th {\n",
       "        text-align: right;\n",
       "    }\n",
       "</style>\n",
       "<table border=\"1\" class=\"dataframe\">\n",
       "  <thead>\n",
       "    <tr style=\"text-align: right;\">\n",
       "      <th></th>\n",
       "      <th>CountyId</th>\n",
       "      <th>State</th>\n",
       "      <th>County</th>\n",
       "      <th>TotalPop</th>\n",
       "      <th>Percent_Women</th>\n",
       "      <th>Hispanic</th>\n",
       "      <th>White</th>\n",
       "      <th>Black</th>\n",
       "      <th>Income</th>\n",
       "      <th>IncomePerCap</th>\n",
       "      <th>Professional</th>\n",
       "      <th>Service</th>\n",
       "      <th>Production</th>\n",
       "      <th>Carpool</th>\n",
       "      <th>WorkAtHome</th>\n",
       "      <th>MeanCommute</th>\n",
       "      <th>PrivateWork</th>\n",
       "      <th>PublicWork</th>\n",
       "      <th>SelfEmployed</th>\n",
       "      <th>Unemployment</th>\n",
       "    </tr>\n",
       "  </thead>\n",
       "  <tbody>\n",
       "    <tr>\n",
       "      <th>0</th>\n",
       "      <td>1005</td>\n",
       "      <td>Alabama</td>\n",
       "      <td>Barbour County</td>\n",
       "      <td>26201.0</td>\n",
       "      <td>46.658524</td>\n",
       "      <td>4.2</td>\n",
       "      <td>45.7</td>\n",
       "      <td>47.8</td>\n",
       "      <td>33368</td>\n",
       "      <td>17561</td>\n",
       "      <td>25.0</td>\n",
       "      <td>16.8</td>\n",
       "      <td>24.1</td>\n",
       "      <td>11.1</td>\n",
       "      <td>1.3</td>\n",
       "      <td>23.4</td>\n",
       "      <td>74.1</td>\n",
       "      <td>19.1</td>\n",
       "      <td>6.5</td>\n",
       "      <td>12.4</td>\n",
       "    </tr>\n",
       "    <tr>\n",
       "      <th>1</th>\n",
       "      <td>1025</td>\n",
       "      <td>Alabama</td>\n",
       "      <td>Clarke County</td>\n",
       "      <td>24625.0</td>\n",
       "      <td>52.694416</td>\n",
       "      <td>0.2</td>\n",
       "      <td>53.0</td>\n",
       "      <td>45.7</td>\n",
       "      <td>33827</td>\n",
       "      <td>20765</td>\n",
       "      <td>21.6</td>\n",
       "      <td>14.3</td>\n",
       "      <td>25.6</td>\n",
       "      <td>11.9</td>\n",
       "      <td>0.9</td>\n",
       "      <td>23.9</td>\n",
       "      <td>83.1</td>\n",
       "      <td>11.8</td>\n",
       "      <td>5.1</td>\n",
       "      <td>15.2</td>\n",
       "    </tr>\n",
       "    <tr>\n",
       "      <th>2</th>\n",
       "      <td>1037</td>\n",
       "      <td>Alabama</td>\n",
       "      <td>Coosa County</td>\n",
       "      <td>10955.0</td>\n",
       "      <td>50.031949</td>\n",
       "      <td>0.1</td>\n",
       "      <td>65.3</td>\n",
       "      <td>33.2</td>\n",
       "      <td>34792</td>\n",
       "      <td>20342</td>\n",
       "      <td>17.6</td>\n",
       "      <td>23.2</td>\n",
       "      <td>20.9</td>\n",
       "      <td>9.7</td>\n",
       "      <td>4.2</td>\n",
       "      <td>29.8</td>\n",
       "      <td>78.8</td>\n",
       "      <td>15.9</td>\n",
       "      <td>5.4</td>\n",
       "      <td>11.3</td>\n",
       "    </tr>\n",
       "    <tr>\n",
       "      <th>3</th>\n",
       "      <td>1047</td>\n",
       "      <td>Alabama</td>\n",
       "      <td>Dallas County</td>\n",
       "      <td>40755.0</td>\n",
       "      <td>53.848608</td>\n",
       "      <td>1.0</td>\n",
       "      <td>27.7</td>\n",
       "      <td>70.2</td>\n",
       "      <td>30065</td>\n",
       "      <td>18248</td>\n",
       "      <td>26.7</td>\n",
       "      <td>18.2</td>\n",
       "      <td>25.3</td>\n",
       "      <td>8.9</td>\n",
       "      <td>1.2</td>\n",
       "      <td>22.1</td>\n",
       "      <td>78.8</td>\n",
       "      <td>15.2</td>\n",
       "      <td>5.6</td>\n",
       "      <td>13.7</td>\n",
       "    </tr>\n",
       "    <tr>\n",
       "      <th>4</th>\n",
       "      <td>1053</td>\n",
       "      <td>Alabama</td>\n",
       "      <td>Escambia County</td>\n",
       "      <td>37621.0</td>\n",
       "      <td>48.629755</td>\n",
       "      <td>2.2</td>\n",
       "      <td>60.2</td>\n",
       "      <td>32.2</td>\n",
       "      <td>35026</td>\n",
       "      <td>18164</td>\n",
       "      <td>24.6</td>\n",
       "      <td>21.2</td>\n",
       "      <td>18.3</td>\n",
       "      <td>7.0</td>\n",
       "      <td>0.8</td>\n",
       "      <td>22.6</td>\n",
       "      <td>75.6</td>\n",
       "      <td>19.7</td>\n",
       "      <td>4.6</td>\n",
       "      <td>13.7</td>\n",
       "    </tr>\n",
       "  </tbody>\n",
       "</table>\n",
       "</div>"
      ],
      "text/plain": [
       "   CountyId    State           County  TotalPop  Percent_Women  Hispanic  \\\n",
       "0      1005  Alabama   Barbour County   26201.0      46.658524       4.2   \n",
       "1      1025  Alabama    Clarke County   24625.0      52.694416       0.2   \n",
       "2      1037  Alabama     Coosa County   10955.0      50.031949       0.1   \n",
       "3      1047  Alabama    Dallas County   40755.0      53.848608       1.0   \n",
       "4      1053  Alabama  Escambia County   37621.0      48.629755       2.2   \n",
       "\n",
       "   White  Black  Income  IncomePerCap  Professional  Service  Production  \\\n",
       "0   45.7   47.8   33368         17561          25.0     16.8        24.1   \n",
       "1   53.0   45.7   33827         20765          21.6     14.3        25.6   \n",
       "2   65.3   33.2   34792         20342          17.6     23.2        20.9   \n",
       "3   27.7   70.2   30065         18248          26.7     18.2        25.3   \n",
       "4   60.2   32.2   35026         18164          24.6     21.2        18.3   \n",
       "\n",
       "   Carpool  WorkAtHome  MeanCommute  PrivateWork  PublicWork  SelfEmployed  \\\n",
       "0     11.1         1.3         23.4         74.1        19.1           6.5   \n",
       "1     11.9         0.9         23.9         83.1        11.8           5.1   \n",
       "2      9.7         4.2         29.8         78.8        15.9           5.4   \n",
       "3      8.9         1.2         22.1         78.8        15.2           5.6   \n",
       "4      7.0         0.8         22.6         75.6        19.7           4.6   \n",
       "\n",
       "   Unemployment  \n",
       "0          12.4  \n",
       "1          15.2  \n",
       "2          11.3  \n",
       "3          13.7  \n",
       "4          13.7  "
      ]
     },
     "execution_count": 110,
     "metadata": {},
     "output_type": "execute_result"
    }
   ],
   "source": [
    "#Remove unnamed first column\n",
    "test_census = test_census.loc[:, ~test_census.columns.str.contains('^Unnamed')]\n",
    "test_census.head()"
   ]
  },
  {
   "cell_type": "code",
   "execution_count": 111,
   "metadata": {},
   "outputs": [
    {
     "data": {
      "text/html": [
       "<div>\n",
       "<style scoped>\n",
       "    .dataframe tbody tr th:only-of-type {\n",
       "        vertical-align: middle;\n",
       "    }\n",
       "\n",
       "    .dataframe tbody tr th {\n",
       "        vertical-align: top;\n",
       "    }\n",
       "\n",
       "    .dataframe thead th {\n",
       "        text-align: right;\n",
       "    }\n",
       "</style>\n",
       "<table border=\"1\" class=\"dataframe\">\n",
       "  <thead>\n",
       "    <tr style=\"text-align: right;\">\n",
       "      <th></th>\n",
       "      <th>CountyId</th>\n",
       "      <th>State</th>\n",
       "      <th>County</th>\n",
       "      <th>TotalPop</th>\n",
       "      <th>Percent_Women</th>\n",
       "      <th>Hispanic</th>\n",
       "      <th>White</th>\n",
       "      <th>Black</th>\n",
       "      <th>Income</th>\n",
       "      <th>IncomePerCap</th>\n",
       "      <th>Professional</th>\n",
       "      <th>Service</th>\n",
       "      <th>Production</th>\n",
       "      <th>Carpool</th>\n",
       "      <th>WorkAtHome</th>\n",
       "      <th>PrivateWork</th>\n",
       "      <th>PublicWork</th>\n",
       "      <th>SelfEmployed</th>\n",
       "      <th>Unemployment</th>\n",
       "    </tr>\n",
       "  </thead>\n",
       "  <tbody>\n",
       "    <tr>\n",
       "      <th>0</th>\n",
       "      <td>1005</td>\n",
       "      <td>Alabama</td>\n",
       "      <td>Barbour County</td>\n",
       "      <td>26201.0</td>\n",
       "      <td>46.658524</td>\n",
       "      <td>4.2</td>\n",
       "      <td>45.7</td>\n",
       "      <td>47.8</td>\n",
       "      <td>33368</td>\n",
       "      <td>17561</td>\n",
       "      <td>25.0</td>\n",
       "      <td>16.8</td>\n",
       "      <td>24.1</td>\n",
       "      <td>11.1</td>\n",
       "      <td>1.3</td>\n",
       "      <td>74.1</td>\n",
       "      <td>19.1</td>\n",
       "      <td>6.5</td>\n",
       "      <td>12.4</td>\n",
       "    </tr>\n",
       "    <tr>\n",
       "      <th>1</th>\n",
       "      <td>1025</td>\n",
       "      <td>Alabama</td>\n",
       "      <td>Clarke County</td>\n",
       "      <td>24625.0</td>\n",
       "      <td>52.694416</td>\n",
       "      <td>0.2</td>\n",
       "      <td>53.0</td>\n",
       "      <td>45.7</td>\n",
       "      <td>33827</td>\n",
       "      <td>20765</td>\n",
       "      <td>21.6</td>\n",
       "      <td>14.3</td>\n",
       "      <td>25.6</td>\n",
       "      <td>11.9</td>\n",
       "      <td>0.9</td>\n",
       "      <td>83.1</td>\n",
       "      <td>11.8</td>\n",
       "      <td>5.1</td>\n",
       "      <td>15.2</td>\n",
       "    </tr>\n",
       "    <tr>\n",
       "      <th>2</th>\n",
       "      <td>1037</td>\n",
       "      <td>Alabama</td>\n",
       "      <td>Coosa County</td>\n",
       "      <td>10955.0</td>\n",
       "      <td>50.031949</td>\n",
       "      <td>0.1</td>\n",
       "      <td>65.3</td>\n",
       "      <td>33.2</td>\n",
       "      <td>34792</td>\n",
       "      <td>20342</td>\n",
       "      <td>17.6</td>\n",
       "      <td>23.2</td>\n",
       "      <td>20.9</td>\n",
       "      <td>9.7</td>\n",
       "      <td>4.2</td>\n",
       "      <td>78.8</td>\n",
       "      <td>15.9</td>\n",
       "      <td>5.4</td>\n",
       "      <td>11.3</td>\n",
       "    </tr>\n",
       "    <tr>\n",
       "      <th>3</th>\n",
       "      <td>1047</td>\n",
       "      <td>Alabama</td>\n",
       "      <td>Dallas County</td>\n",
       "      <td>40755.0</td>\n",
       "      <td>53.848608</td>\n",
       "      <td>1.0</td>\n",
       "      <td>27.7</td>\n",
       "      <td>70.2</td>\n",
       "      <td>30065</td>\n",
       "      <td>18248</td>\n",
       "      <td>26.7</td>\n",
       "      <td>18.2</td>\n",
       "      <td>25.3</td>\n",
       "      <td>8.9</td>\n",
       "      <td>1.2</td>\n",
       "      <td>78.8</td>\n",
       "      <td>15.2</td>\n",
       "      <td>5.6</td>\n",
       "      <td>13.7</td>\n",
       "    </tr>\n",
       "    <tr>\n",
       "      <th>4</th>\n",
       "      <td>1053</td>\n",
       "      <td>Alabama</td>\n",
       "      <td>Escambia County</td>\n",
       "      <td>37621.0</td>\n",
       "      <td>48.629755</td>\n",
       "      <td>2.2</td>\n",
       "      <td>60.2</td>\n",
       "      <td>32.2</td>\n",
       "      <td>35026</td>\n",
       "      <td>18164</td>\n",
       "      <td>24.6</td>\n",
       "      <td>21.2</td>\n",
       "      <td>18.3</td>\n",
       "      <td>7.0</td>\n",
       "      <td>0.8</td>\n",
       "      <td>75.6</td>\n",
       "      <td>19.7</td>\n",
       "      <td>4.6</td>\n",
       "      <td>13.7</td>\n",
       "    </tr>\n",
       "  </tbody>\n",
       "</table>\n",
       "</div>"
      ],
      "text/plain": [
       "   CountyId    State           County  TotalPop  Percent_Women  Hispanic  \\\n",
       "0      1005  Alabama   Barbour County   26201.0      46.658524       4.2   \n",
       "1      1025  Alabama    Clarke County   24625.0      52.694416       0.2   \n",
       "2      1037  Alabama     Coosa County   10955.0      50.031949       0.1   \n",
       "3      1047  Alabama    Dallas County   40755.0      53.848608       1.0   \n",
       "4      1053  Alabama  Escambia County   37621.0      48.629755       2.2   \n",
       "\n",
       "   White  Black  Income  IncomePerCap  Professional  Service  Production  \\\n",
       "0   45.7   47.8   33368         17561          25.0     16.8        24.1   \n",
       "1   53.0   45.7   33827         20765          21.6     14.3        25.6   \n",
       "2   65.3   33.2   34792         20342          17.6     23.2        20.9   \n",
       "3   27.7   70.2   30065         18248          26.7     18.2        25.3   \n",
       "4   60.2   32.2   35026         18164          24.6     21.2        18.3   \n",
       "\n",
       "   Carpool  WorkAtHome  PrivateWork  PublicWork  SelfEmployed  Unemployment  \n",
       "0     11.1         1.3         74.1        19.1           6.5          12.4  \n",
       "1     11.9         0.9         83.1        11.8           5.1          15.2  \n",
       "2      9.7         4.2         78.8        15.9           5.4          11.3  \n",
       "3      8.9         1.2         78.8        15.2           5.6          13.7  \n",
       "4      7.0         0.8         75.6        19.7           4.6          13.7  "
      ]
     },
     "execution_count": 111,
     "metadata": {},
     "output_type": "execute_result"
    }
   ],
   "source": [
    "test_census = test_census[['CountyId', 'State', 'County', 'TotalPop', 'Percent_Women', 'Hispanic', 'White', 'Black', 'Income', 'IncomePerCap', 'Professional', 'Service', 'Production', 'Carpool', 'WorkAtHome', 'PrivateWork', 'PublicWork', 'SelfEmployed', 'Unemployment']]\n",
    "test_census.head()"
   ]
  },
  {
   "cell_type": "code",
   "execution_count": 112,
   "metadata": {},
   "outputs": [],
   "source": [
    "x_test = test_census.select_dtypes(include=[np.int64,np.float64])\n",
    "x_test = x_test.iloc[:,1:17]\n",
    "x_test_scaled = scaler.transform(x_test)\n",
    "x_test_scaled_df = pd.DataFrame(x_test_scaled,index = x_test.index,columns=x_test.columns)"
   ]
  },
  {
   "cell_type": "code",
   "execution_count": 113,
   "metadata": {},
   "outputs": [
    {
     "data": {
      "text/html": [
       "<div>\n",
       "<style scoped>\n",
       "    .dataframe tbody tr th:only-of-type {\n",
       "        vertical-align: middle;\n",
       "    }\n",
       "\n",
       "    .dataframe tbody tr th {\n",
       "        vertical-align: top;\n",
       "    }\n",
       "\n",
       "    .dataframe thead th {\n",
       "        text-align: right;\n",
       "    }\n",
       "</style>\n",
       "<table border=\"1\" class=\"dataframe\">\n",
       "  <thead>\n",
       "    <tr style=\"text-align: right;\">\n",
       "      <th></th>\n",
       "      <th>CountyId</th>\n",
       "      <th>State</th>\n",
       "      <th>County</th>\n",
       "      <th>TotalPop</th>\n",
       "      <th>Percent_Women</th>\n",
       "      <th>Hispanic</th>\n",
       "      <th>White</th>\n",
       "      <th>Black</th>\n",
       "      <th>Income</th>\n",
       "      <th>IncomePerCap</th>\n",
       "      <th>Professional</th>\n",
       "      <th>Service</th>\n",
       "      <th>Production</th>\n",
       "      <th>Carpool</th>\n",
       "      <th>WorkAtHome</th>\n",
       "      <th>PrivateWork</th>\n",
       "      <th>PublicWork</th>\n",
       "      <th>SelfEmployed</th>\n",
       "      <th>Unemployment</th>\n",
       "      <th>Poverty Category</th>\n",
       "    </tr>\n",
       "  </thead>\n",
       "  <tbody>\n",
       "    <tr>\n",
       "      <th>0</th>\n",
       "      <td>1005</td>\n",
       "      <td>Alabama</td>\n",
       "      <td>Barbour County</td>\n",
       "      <td>26201.0</td>\n",
       "      <td>46.658524</td>\n",
       "      <td>4.2</td>\n",
       "      <td>45.7</td>\n",
       "      <td>47.8</td>\n",
       "      <td>33368</td>\n",
       "      <td>17561</td>\n",
       "      <td>25.0</td>\n",
       "      <td>16.8</td>\n",
       "      <td>24.1</td>\n",
       "      <td>11.1</td>\n",
       "      <td>1.3</td>\n",
       "      <td>74.1</td>\n",
       "      <td>19.1</td>\n",
       "      <td>6.5</td>\n",
       "      <td>12.4</td>\n",
       "      <td>1</td>\n",
       "    </tr>\n",
       "    <tr>\n",
       "      <th>1</th>\n",
       "      <td>1025</td>\n",
       "      <td>Alabama</td>\n",
       "      <td>Clarke County</td>\n",
       "      <td>24625.0</td>\n",
       "      <td>52.694416</td>\n",
       "      <td>0.2</td>\n",
       "      <td>53.0</td>\n",
       "      <td>45.7</td>\n",
       "      <td>33827</td>\n",
       "      <td>20765</td>\n",
       "      <td>21.6</td>\n",
       "      <td>14.3</td>\n",
       "      <td>25.6</td>\n",
       "      <td>11.9</td>\n",
       "      <td>0.9</td>\n",
       "      <td>83.1</td>\n",
       "      <td>11.8</td>\n",
       "      <td>5.1</td>\n",
       "      <td>15.2</td>\n",
       "      <td>1</td>\n",
       "    </tr>\n",
       "    <tr>\n",
       "      <th>2</th>\n",
       "      <td>1037</td>\n",
       "      <td>Alabama</td>\n",
       "      <td>Coosa County</td>\n",
       "      <td>10955.0</td>\n",
       "      <td>50.031949</td>\n",
       "      <td>0.1</td>\n",
       "      <td>65.3</td>\n",
       "      <td>33.2</td>\n",
       "      <td>34792</td>\n",
       "      <td>20342</td>\n",
       "      <td>17.6</td>\n",
       "      <td>23.2</td>\n",
       "      <td>20.9</td>\n",
       "      <td>9.7</td>\n",
       "      <td>4.2</td>\n",
       "      <td>78.8</td>\n",
       "      <td>15.9</td>\n",
       "      <td>5.4</td>\n",
       "      <td>11.3</td>\n",
       "      <td>1</td>\n",
       "    </tr>\n",
       "    <tr>\n",
       "      <th>3</th>\n",
       "      <td>1047</td>\n",
       "      <td>Alabama</td>\n",
       "      <td>Dallas County</td>\n",
       "      <td>40755.0</td>\n",
       "      <td>53.848608</td>\n",
       "      <td>1.0</td>\n",
       "      <td>27.7</td>\n",
       "      <td>70.2</td>\n",
       "      <td>30065</td>\n",
       "      <td>18248</td>\n",
       "      <td>26.7</td>\n",
       "      <td>18.2</td>\n",
       "      <td>25.3</td>\n",
       "      <td>8.9</td>\n",
       "      <td>1.2</td>\n",
       "      <td>78.8</td>\n",
       "      <td>15.2</td>\n",
       "      <td>5.6</td>\n",
       "      <td>13.7</td>\n",
       "      <td>1</td>\n",
       "    </tr>\n",
       "    <tr>\n",
       "      <th>4</th>\n",
       "      <td>1053</td>\n",
       "      <td>Alabama</td>\n",
       "      <td>Escambia County</td>\n",
       "      <td>37621.0</td>\n",
       "      <td>48.629755</td>\n",
       "      <td>2.2</td>\n",
       "      <td>60.2</td>\n",
       "      <td>32.2</td>\n",
       "      <td>35026</td>\n",
       "      <td>18164</td>\n",
       "      <td>24.6</td>\n",
       "      <td>21.2</td>\n",
       "      <td>18.3</td>\n",
       "      <td>7.0</td>\n",
       "      <td>0.8</td>\n",
       "      <td>75.6</td>\n",
       "      <td>19.7</td>\n",
       "      <td>4.6</td>\n",
       "      <td>13.7</td>\n",
       "      <td>1</td>\n",
       "    </tr>\n",
       "  </tbody>\n",
       "</table>\n",
       "</div>"
      ],
      "text/plain": [
       "   CountyId    State           County  TotalPop  Percent_Women  Hispanic  \\\n",
       "0      1005  Alabama   Barbour County   26201.0      46.658524       4.2   \n",
       "1      1025  Alabama    Clarke County   24625.0      52.694416       0.2   \n",
       "2      1037  Alabama     Coosa County   10955.0      50.031949       0.1   \n",
       "3      1047  Alabama    Dallas County   40755.0      53.848608       1.0   \n",
       "4      1053  Alabama  Escambia County   37621.0      48.629755       2.2   \n",
       "\n",
       "   White  Black  Income  IncomePerCap  Professional  Service  Production  \\\n",
       "0   45.7   47.8   33368         17561          25.0     16.8        24.1   \n",
       "1   53.0   45.7   33827         20765          21.6     14.3        25.6   \n",
       "2   65.3   33.2   34792         20342          17.6     23.2        20.9   \n",
       "3   27.7   70.2   30065         18248          26.7     18.2        25.3   \n",
       "4   60.2   32.2   35026         18164          24.6     21.2        18.3   \n",
       "\n",
       "   Carpool  WorkAtHome  PrivateWork  PublicWork  SelfEmployed  Unemployment  \\\n",
       "0     11.1         1.3         74.1        19.1           6.5          12.4   \n",
       "1     11.9         0.9         83.1        11.8           5.1          15.2   \n",
       "2      9.7         4.2         78.8        15.9           5.4          11.3   \n",
       "3      8.9         1.2         78.8        15.2           5.6          13.7   \n",
       "4      7.0         0.8         75.6        19.7           4.6          13.7   \n",
       "\n",
       "   Poverty Category  \n",
       "0                 1  \n",
       "1                 1  \n",
       "2                 1  \n",
       "3                 1  \n",
       "4                 1  "
      ]
     },
     "execution_count": 113,
     "metadata": {},
     "output_type": "execute_result"
    }
   ],
   "source": [
    "y_predicted_povertyCat = classifier_poverty.predict(x_test_scaled_df[['Unemployment', 'Income', 'SelfEmployed', 'Black', 'White', 'Hispanic', 'Percent_Women', 'Professional']])\n",
    "test_census['Poverty Category'] = y_predicted_povertyCat\n",
    "test_census.head()"
   ]
  },
  {
   "cell_type": "code",
   "execution_count": 114,
   "metadata": {},
   "outputs": [
    {
     "data": {
      "text/html": [
       "<div>\n",
       "<style scoped>\n",
       "    .dataframe tbody tr th:only-of-type {\n",
       "        vertical-align: middle;\n",
       "    }\n",
       "\n",
       "    .dataframe tbody tr th {\n",
       "        vertical-align: top;\n",
       "    }\n",
       "\n",
       "    .dataframe thead th {\n",
       "        text-align: right;\n",
       "    }\n",
       "</style>\n",
       "<table border=\"1\" class=\"dataframe\">\n",
       "  <thead>\n",
       "    <tr style=\"text-align: right;\">\n",
       "      <th></th>\n",
       "      <th>CountyId</th>\n",
       "      <th>State</th>\n",
       "      <th>County</th>\n",
       "      <th>TotalPop</th>\n",
       "      <th>Percent_Women</th>\n",
       "      <th>Hispanic</th>\n",
       "      <th>White</th>\n",
       "      <th>Black</th>\n",
       "      <th>Income</th>\n",
       "      <th>IncomePerCap</th>\n",
       "      <th>...</th>\n",
       "      <th>Service</th>\n",
       "      <th>Production</th>\n",
       "      <th>Carpool</th>\n",
       "      <th>WorkAtHome</th>\n",
       "      <th>PrivateWork</th>\n",
       "      <th>PublicWork</th>\n",
       "      <th>SelfEmployed</th>\n",
       "      <th>Unemployment</th>\n",
       "      <th>Poverty Category</th>\n",
       "      <th>Child_Poverty Category</th>\n",
       "    </tr>\n",
       "  </thead>\n",
       "  <tbody>\n",
       "    <tr>\n",
       "      <th>0</th>\n",
       "      <td>1005</td>\n",
       "      <td>Alabama</td>\n",
       "      <td>Barbour County</td>\n",
       "      <td>26201.0</td>\n",
       "      <td>46.658524</td>\n",
       "      <td>4.2</td>\n",
       "      <td>45.7</td>\n",
       "      <td>47.8</td>\n",
       "      <td>33368</td>\n",
       "      <td>17561</td>\n",
       "      <td>...</td>\n",
       "      <td>16.8</td>\n",
       "      <td>24.1</td>\n",
       "      <td>11.1</td>\n",
       "      <td>1.3</td>\n",
       "      <td>74.1</td>\n",
       "      <td>19.1</td>\n",
       "      <td>6.5</td>\n",
       "      <td>12.4</td>\n",
       "      <td>1</td>\n",
       "      <td>1</td>\n",
       "    </tr>\n",
       "    <tr>\n",
       "      <th>1</th>\n",
       "      <td>1025</td>\n",
       "      <td>Alabama</td>\n",
       "      <td>Clarke County</td>\n",
       "      <td>24625.0</td>\n",
       "      <td>52.694416</td>\n",
       "      <td>0.2</td>\n",
       "      <td>53.0</td>\n",
       "      <td>45.7</td>\n",
       "      <td>33827</td>\n",
       "      <td>20765</td>\n",
       "      <td>...</td>\n",
       "      <td>14.3</td>\n",
       "      <td>25.6</td>\n",
       "      <td>11.9</td>\n",
       "      <td>0.9</td>\n",
       "      <td>83.1</td>\n",
       "      <td>11.8</td>\n",
       "      <td>5.1</td>\n",
       "      <td>15.2</td>\n",
       "      <td>1</td>\n",
       "      <td>1</td>\n",
       "    </tr>\n",
       "    <tr>\n",
       "      <th>2</th>\n",
       "      <td>1037</td>\n",
       "      <td>Alabama</td>\n",
       "      <td>Coosa County</td>\n",
       "      <td>10955.0</td>\n",
       "      <td>50.031949</td>\n",
       "      <td>0.1</td>\n",
       "      <td>65.3</td>\n",
       "      <td>33.2</td>\n",
       "      <td>34792</td>\n",
       "      <td>20342</td>\n",
       "      <td>...</td>\n",
       "      <td>23.2</td>\n",
       "      <td>20.9</td>\n",
       "      <td>9.7</td>\n",
       "      <td>4.2</td>\n",
       "      <td>78.8</td>\n",
       "      <td>15.9</td>\n",
       "      <td>5.4</td>\n",
       "      <td>11.3</td>\n",
       "      <td>1</td>\n",
       "      <td>1</td>\n",
       "    </tr>\n",
       "    <tr>\n",
       "      <th>3</th>\n",
       "      <td>1047</td>\n",
       "      <td>Alabama</td>\n",
       "      <td>Dallas County</td>\n",
       "      <td>40755.0</td>\n",
       "      <td>53.848608</td>\n",
       "      <td>1.0</td>\n",
       "      <td>27.7</td>\n",
       "      <td>70.2</td>\n",
       "      <td>30065</td>\n",
       "      <td>18248</td>\n",
       "      <td>...</td>\n",
       "      <td>18.2</td>\n",
       "      <td>25.3</td>\n",
       "      <td>8.9</td>\n",
       "      <td>1.2</td>\n",
       "      <td>78.8</td>\n",
       "      <td>15.2</td>\n",
       "      <td>5.6</td>\n",
       "      <td>13.7</td>\n",
       "      <td>1</td>\n",
       "      <td>1</td>\n",
       "    </tr>\n",
       "    <tr>\n",
       "      <th>4</th>\n",
       "      <td>1053</td>\n",
       "      <td>Alabama</td>\n",
       "      <td>Escambia County</td>\n",
       "      <td>37621.0</td>\n",
       "      <td>48.629755</td>\n",
       "      <td>2.2</td>\n",
       "      <td>60.2</td>\n",
       "      <td>32.2</td>\n",
       "      <td>35026</td>\n",
       "      <td>18164</td>\n",
       "      <td>...</td>\n",
       "      <td>21.2</td>\n",
       "      <td>18.3</td>\n",
       "      <td>7.0</td>\n",
       "      <td>0.8</td>\n",
       "      <td>75.6</td>\n",
       "      <td>19.7</td>\n",
       "      <td>4.6</td>\n",
       "      <td>13.7</td>\n",
       "      <td>1</td>\n",
       "      <td>1</td>\n",
       "    </tr>\n",
       "  </tbody>\n",
       "</table>\n",
       "<p>5 rows × 21 columns</p>\n",
       "</div>"
      ],
      "text/plain": [
       "   CountyId    State           County  TotalPop  Percent_Women  Hispanic  \\\n",
       "0      1005  Alabama   Barbour County   26201.0      46.658524       4.2   \n",
       "1      1025  Alabama    Clarke County   24625.0      52.694416       0.2   \n",
       "2      1037  Alabama     Coosa County   10955.0      50.031949       0.1   \n",
       "3      1047  Alabama    Dallas County   40755.0      53.848608       1.0   \n",
       "4      1053  Alabama  Escambia County   37621.0      48.629755       2.2   \n",
       "\n",
       "   White  Black  Income  IncomePerCap  ...  Service  Production  Carpool  \\\n",
       "0   45.7   47.8   33368         17561  ...     16.8        24.1     11.1   \n",
       "1   53.0   45.7   33827         20765  ...     14.3        25.6     11.9   \n",
       "2   65.3   33.2   34792         20342  ...     23.2        20.9      9.7   \n",
       "3   27.7   70.2   30065         18248  ...     18.2        25.3      8.9   \n",
       "4   60.2   32.2   35026         18164  ...     21.2        18.3      7.0   \n",
       "\n",
       "   WorkAtHome  PrivateWork  PublicWork  SelfEmployed  Unemployment  \\\n",
       "0         1.3         74.1        19.1           6.5          12.4   \n",
       "1         0.9         83.1        11.8           5.1          15.2   \n",
       "2         4.2         78.8        15.9           5.4          11.3   \n",
       "3         1.2         78.8        15.2           5.6          13.7   \n",
       "4         0.8         75.6        19.7           4.6          13.7   \n",
       "\n",
       "   Poverty Category  Child_Poverty Category  \n",
       "0                 1                       1  \n",
       "1                 1                       1  \n",
       "2                 1                       1  \n",
       "3                 1                       1  \n",
       "4                 1                       1  \n",
       "\n",
       "[5 rows x 21 columns]"
      ]
     },
     "execution_count": 114,
     "metadata": {},
     "output_type": "execute_result"
    }
   ],
   "source": [
    "y_predicted_childPovertyCat = classifier_childPoverty.predict(x_test_scaled_df[['White','Hispanic','Black' ,'Unemployment', 'Income', 'WorkAtHome']])\n",
    "test_census['Child_Poverty Category'] = y_predicted_childPovertyCat\n",
    "test_census.head()"
   ]
  },
  {
   "cell_type": "code",
   "execution_count": 115,
   "metadata": {},
   "outputs": [
    {
     "data": {
      "text/html": [
       "<div>\n",
       "<style scoped>\n",
       "    .dataframe tbody tr th:only-of-type {\n",
       "        vertical-align: middle;\n",
       "    }\n",
       "\n",
       "    .dataframe tbody tr th {\n",
       "        vertical-align: top;\n",
       "    }\n",
       "\n",
       "    .dataframe thead th {\n",
       "        text-align: right;\n",
       "    }\n",
       "</style>\n",
       "<table border=\"1\" class=\"dataframe\">\n",
       "  <thead>\n",
       "    <tr style=\"text-align: right;\">\n",
       "      <th></th>\n",
       "      <th>Unnamed: 0</th>\n",
       "      <th>CountyId</th>\n",
       "      <th>State</th>\n",
       "      <th>County</th>\n",
       "      <th>Poverty</th>\n",
       "      <th>ChildPoverty</th>\n",
       "    </tr>\n",
       "  </thead>\n",
       "  <tbody>\n",
       "    <tr>\n",
       "      <th>0</th>\n",
       "      <td>0</td>\n",
       "      <td>1005</td>\n",
       "      <td>Alabama</td>\n",
       "      <td>Barbour County</td>\n",
       "      <td>27.773252</td>\n",
       "      <td>38.212651</td>\n",
       "    </tr>\n",
       "    <tr>\n",
       "      <th>1</th>\n",
       "      <td>1</td>\n",
       "      <td>1025</td>\n",
       "      <td>Alabama</td>\n",
       "      <td>Clarke County</td>\n",
       "      <td>27.235754</td>\n",
       "      <td>40.508661</td>\n",
       "    </tr>\n",
       "    <tr>\n",
       "      <th>2</th>\n",
       "      <td>2</td>\n",
       "      <td>1037</td>\n",
       "      <td>Alabama</td>\n",
       "      <td>Coosa County</td>\n",
       "      <td>22.358539</td>\n",
       "      <td>34.926116</td>\n",
       "    </tr>\n",
       "    <tr>\n",
       "      <th>3</th>\n",
       "      <td>3</td>\n",
       "      <td>1047</td>\n",
       "      <td>Alabama</td>\n",
       "      <td>Dallas County</td>\n",
       "      <td>31.408525</td>\n",
       "      <td>45.562577</td>\n",
       "    </tr>\n",
       "    <tr>\n",
       "      <th>4</th>\n",
       "      <td>4</td>\n",
       "      <td>1053</td>\n",
       "      <td>Alabama</td>\n",
       "      <td>Escambia County</td>\n",
       "      <td>26.052590</td>\n",
       "      <td>36.944246</td>\n",
       "    </tr>\n",
       "  </tbody>\n",
       "</table>\n",
       "</div>"
      ],
      "text/plain": [
       "   Unnamed: 0  CountyId    State           County    Poverty  ChildPoverty\n",
       "0           0      1005  Alabama   Barbour County  27.773252     38.212651\n",
       "1           1      1025  Alabama    Clarke County  27.235754     40.508661\n",
       "2           2      1037  Alabama     Coosa County  22.358539     34.926116\n",
       "3           3      1047  Alabama    Dallas County  31.408525     45.562577\n",
       "4           4      1053  Alabama  Escambia County  26.052590     36.944246"
      ]
     },
     "execution_count": 115,
     "metadata": {},
     "output_type": "execute_result"
    }
   ],
   "source": [
    "# Load sample output dataset\n",
    "sample_output = pd.read_excel('sample_output.xlsx')\n",
    "sample_output.head()"
   ]
  },
  {
   "cell_type": "code",
   "execution_count": 116,
   "metadata": {},
   "outputs": [
    {
     "data": {
      "text/html": [
       "<div>\n",
       "<style scoped>\n",
       "    .dataframe tbody tr th:only-of-type {\n",
       "        vertical-align: middle;\n",
       "    }\n",
       "\n",
       "    .dataframe tbody tr th {\n",
       "        vertical-align: top;\n",
       "    }\n",
       "\n",
       "    .dataframe thead th {\n",
       "        text-align: right;\n",
       "    }\n",
       "</style>\n",
       "<table border=\"1\" class=\"dataframe\">\n",
       "  <thead>\n",
       "    <tr style=\"text-align: right;\">\n",
       "      <th></th>\n",
       "      <th>CountyId</th>\n",
       "      <th>State</th>\n",
       "      <th>County</th>\n",
       "      <th>Poverty</th>\n",
       "      <th>ChildPoverty</th>\n",
       "    </tr>\n",
       "  </thead>\n",
       "  <tbody>\n",
       "    <tr>\n",
       "      <th>0</th>\n",
       "      <td>1005</td>\n",
       "      <td>Alabama</td>\n",
       "      <td>Barbour County</td>\n",
       "      <td>27.773252</td>\n",
       "      <td>38.212651</td>\n",
       "    </tr>\n",
       "    <tr>\n",
       "      <th>1</th>\n",
       "      <td>1025</td>\n",
       "      <td>Alabama</td>\n",
       "      <td>Clarke County</td>\n",
       "      <td>27.235754</td>\n",
       "      <td>40.508661</td>\n",
       "    </tr>\n",
       "    <tr>\n",
       "      <th>2</th>\n",
       "      <td>1037</td>\n",
       "      <td>Alabama</td>\n",
       "      <td>Coosa County</td>\n",
       "      <td>22.358539</td>\n",
       "      <td>34.926116</td>\n",
       "    </tr>\n",
       "    <tr>\n",
       "      <th>3</th>\n",
       "      <td>1047</td>\n",
       "      <td>Alabama</td>\n",
       "      <td>Dallas County</td>\n",
       "      <td>31.408525</td>\n",
       "      <td>45.562577</td>\n",
       "    </tr>\n",
       "    <tr>\n",
       "      <th>4</th>\n",
       "      <td>1053</td>\n",
       "      <td>Alabama</td>\n",
       "      <td>Escambia County</td>\n",
       "      <td>26.052590</td>\n",
       "      <td>36.944246</td>\n",
       "    </tr>\n",
       "  </tbody>\n",
       "</table>\n",
       "</div>"
      ],
      "text/plain": [
       "   CountyId    State           County    Poverty  ChildPoverty\n",
       "0      1005  Alabama   Barbour County  27.773252     38.212651\n",
       "1      1025  Alabama    Clarke County  27.235754     40.508661\n",
       "2      1037  Alabama     Coosa County  22.358539     34.926116\n",
       "3      1047  Alabama    Dallas County  31.408525     45.562577\n",
       "4      1053  Alabama  Escambia County  26.052590     36.944246"
      ]
     },
     "execution_count": 116,
     "metadata": {},
     "output_type": "execute_result"
    }
   ],
   "source": [
    "#Remove unnamed first column\n",
    "sample_output = sample_output.loc[:, ~sample_output.columns.str.contains('^Unnamed')]\n",
    "sample_output.head()"
   ]
  },
  {
   "cell_type": "code",
   "execution_count": 117,
   "metadata": {},
   "outputs": [
    {
     "data": {
      "text/html": [
       "<div>\n",
       "<style scoped>\n",
       "    .dataframe tbody tr th:only-of-type {\n",
       "        vertical-align: middle;\n",
       "    }\n",
       "\n",
       "    .dataframe tbody tr th {\n",
       "        vertical-align: top;\n",
       "    }\n",
       "\n",
       "    .dataframe thead th {\n",
       "        text-align: right;\n",
       "    }\n",
       "</style>\n",
       "<table border=\"1\" class=\"dataframe\">\n",
       "  <thead>\n",
       "    <tr style=\"text-align: right;\">\n",
       "      <th></th>\n",
       "      <th>CountyId</th>\n",
       "      <th>State</th>\n",
       "      <th>County</th>\n",
       "      <th>Poverty</th>\n",
       "      <th>ChildPoverty</th>\n",
       "      <th>Poverty Category</th>\n",
       "      <th>Child_Poverty Category</th>\n",
       "    </tr>\n",
       "  </thead>\n",
       "  <tbody>\n",
       "    <tr>\n",
       "      <th>0</th>\n",
       "      <td>1005</td>\n",
       "      <td>Alabama</td>\n",
       "      <td>Barbour County</td>\n",
       "      <td>27.773252</td>\n",
       "      <td>38.212651</td>\n",
       "      <td>1</td>\n",
       "      <td>1</td>\n",
       "    </tr>\n",
       "    <tr>\n",
       "      <th>1</th>\n",
       "      <td>1025</td>\n",
       "      <td>Alabama</td>\n",
       "      <td>Clarke County</td>\n",
       "      <td>27.235754</td>\n",
       "      <td>40.508661</td>\n",
       "      <td>1</td>\n",
       "      <td>1</td>\n",
       "    </tr>\n",
       "    <tr>\n",
       "      <th>2</th>\n",
       "      <td>1037</td>\n",
       "      <td>Alabama</td>\n",
       "      <td>Coosa County</td>\n",
       "      <td>22.358539</td>\n",
       "      <td>34.926116</td>\n",
       "      <td>1</td>\n",
       "      <td>1</td>\n",
       "    </tr>\n",
       "    <tr>\n",
       "      <th>3</th>\n",
       "      <td>1047</td>\n",
       "      <td>Alabama</td>\n",
       "      <td>Dallas County</td>\n",
       "      <td>31.408525</td>\n",
       "      <td>45.562577</td>\n",
       "      <td>1</td>\n",
       "      <td>1</td>\n",
       "    </tr>\n",
       "    <tr>\n",
       "      <th>4</th>\n",
       "      <td>1053</td>\n",
       "      <td>Alabama</td>\n",
       "      <td>Escambia County</td>\n",
       "      <td>26.052590</td>\n",
       "      <td>36.944246</td>\n",
       "      <td>1</td>\n",
       "      <td>1</td>\n",
       "    </tr>\n",
       "  </tbody>\n",
       "</table>\n",
       "</div>"
      ],
      "text/plain": [
       "   CountyId    State           County    Poverty  ChildPoverty  \\\n",
       "0      1005  Alabama   Barbour County  27.773252     38.212651   \n",
       "1      1025  Alabama    Clarke County  27.235754     40.508661   \n",
       "2      1037  Alabama     Coosa County  22.358539     34.926116   \n",
       "3      1047  Alabama    Dallas County  31.408525     45.562577   \n",
       "4      1053  Alabama  Escambia County  26.052590     36.944246   \n",
       "\n",
       "   Poverty Category  Child_Poverty Category  \n",
       "0                 1                       1  \n",
       "1                 1                       1  \n",
       "2                 1                       1  \n",
       "3                 1                       1  \n",
       "4                 1                       1  "
      ]
     },
     "execution_count": 117,
     "metadata": {},
     "output_type": "execute_result"
    }
   ],
   "source": [
    "sample_output['Poverty Category'] = test_census['Poverty Category']\n",
    "sample_output['Child_Poverty Category'] = test_census['Child_Poverty Category']\n",
    "sample_output.head()"
   ]
  },
  {
   "cell_type": "code",
   "execution_count": 118,
   "metadata": {},
   "outputs": [],
   "source": [
    "sample_output.to_excel(\"sample_output.xlsx\")"
   ]
  },
  {
   "cell_type": "code",
   "execution_count": null,
   "metadata": {},
   "outputs": [],
   "source": []
  }
 ],
 "metadata": {
  "colab": {
   "name": "Census_Classification.ipynb",
   "provenance": [],
   "toc_visible": true
  },
  "kernelspec": {
   "display_name": "Python 3",
   "language": "python",
   "name": "python3"
  },
  "language_info": {
   "codemirror_mode": {
    "name": "ipython",
    "version": 3
   },
   "file_extension": ".py",
   "mimetype": "text/x-python",
   "name": "python",
   "nbconvert_exporter": "python",
   "pygments_lexer": "ipython3",
   "version": "3.7.3"
  }
 },
 "nbformat": 4,
 "nbformat_minor": 4
}
